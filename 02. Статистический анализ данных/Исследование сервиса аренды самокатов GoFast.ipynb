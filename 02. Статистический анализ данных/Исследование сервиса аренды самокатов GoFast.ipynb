{
 "cells": [
  {
   "cell_type": "markdown",
   "id": "487990d0",
   "metadata": {},
   "source": [
    "# Исследование сервиса аренды самокатов GoFast\n",
    "\n",
    "Имеем данные о некоторых пользователях из нескольких городов, а также об их поездках. \n",
    "\n",
    "**Задача:** проанализировать данные и проверить гипотезы, которые могут помочь бизнесу вырасти:\n",
    "\n",
    "- Гипотеза 1. Пользователи с подпиской тратят больше времени на поездки, чем пользователи без подписки.\n",
    "\n",
    "- Гипотеза 2. Расстояние, которое проезжают пользователи с подпиской за одну поездку, не превышает 3130 м.\n",
    "\n",
    "- Гипотеза 3. Помесячная выручка от пользователей с подпиской по месяцам выше, чем выручка от пользователей без подписки\n",
    "\n",
    "Чтобы совершать поездки по городу, пользователи сервиса GoFast пользуются мобильным приложением. Сервисом можно пользоваться:\n",
    "1. без подписки\n",
    "- абонентская плата отсутствует;\n",
    "- стоимость одной минуты поездки — 8 рублей;\n",
    "- стоимость старта (начала поездки) — 50 рублей;\n",
    "2. с подпиской Ultra\n",
    "- абонентская плата — 199 рублей в месяц;\n",
    "- стоимость одной минуты поездки — 6 рублей;\n",
    "- стоимость старта — бесплатно."
   ]
  },
  {
   "cell_type": "markdown",
   "id": "c42cbe00",
   "metadata": {},
   "source": [
    "### Загрузка данных, изучение информации."
   ]
  },
  {
   "cell_type": "markdown",
   "id": "650fbe7b",
   "metadata": {},
   "source": [
    "Импортируем библиотеки:"
   ]
  },
  {
   "cell_type": "code",
   "execution_count": 1,
   "id": "42561bdd",
   "metadata": {},
   "outputs": [],
   "source": [
    "import pandas as pd\n",
    "import matplotlib.pyplot as plt\n",
    "import numpy as np\n",
    "import scipy.stats as st\n",
    "from scipy.stats import binom, norm\n",
    "from math import factorial\n",
    "from math import sqrt"
   ]
  },
  {
   "cell_type": "markdown",
   "id": "cfa14c4d",
   "metadata": {},
   "source": [
    "Загружаем файлы с данными и сохраняем их в переменные:\n",
    "\n",
    "- users - данные о пользователях;\n",
    "- rides - данные о поездках;\n",
    "- subscriptions - данные о подписках."
   ]
  },
  {
   "cell_type": "code",
   "execution_count": 2,
   "id": "88bc829b",
   "metadata": {},
   "outputs": [
    {
     "data": {
      "text/plain": [
       "'Данные о пользователях'"
      ]
     },
     "metadata": {},
     "output_type": "display_data"
    },
    {
     "data": {
      "text/html": [
       "<div>\n",
       "<style scoped>\n",
       "    .dataframe tbody tr th:only-of-type {\n",
       "        vertical-align: middle;\n",
       "    }\n",
       "\n",
       "    .dataframe tbody tr th {\n",
       "        vertical-align: top;\n",
       "    }\n",
       "\n",
       "    .dataframe thead th {\n",
       "        text-align: right;\n",
       "    }\n",
       "</style>\n",
       "<table border=\"1\" class=\"dataframe\">\n",
       "  <thead>\n",
       "    <tr style=\"text-align: right;\">\n",
       "      <th></th>\n",
       "      <th>user_id</th>\n",
       "      <th>name</th>\n",
       "      <th>age</th>\n",
       "      <th>city</th>\n",
       "      <th>subscription_type</th>\n",
       "    </tr>\n",
       "  </thead>\n",
       "  <tbody>\n",
       "    <tr>\n",
       "      <th>0</th>\n",
       "      <td>1</td>\n",
       "      <td>Кира</td>\n",
       "      <td>22</td>\n",
       "      <td>Тюмень</td>\n",
       "      <td>ultra</td>\n",
       "    </tr>\n",
       "    <tr>\n",
       "      <th>1</th>\n",
       "      <td>2</td>\n",
       "      <td>Станислав</td>\n",
       "      <td>31</td>\n",
       "      <td>Омск</td>\n",
       "      <td>ultra</td>\n",
       "    </tr>\n",
       "    <tr>\n",
       "      <th>2</th>\n",
       "      <td>3</td>\n",
       "      <td>Алексей</td>\n",
       "      <td>20</td>\n",
       "      <td>Москва</td>\n",
       "      <td>ultra</td>\n",
       "    </tr>\n",
       "    <tr>\n",
       "      <th>3</th>\n",
       "      <td>4</td>\n",
       "      <td>Константин</td>\n",
       "      <td>26</td>\n",
       "      <td>Ростов-на-Дону</td>\n",
       "      <td>ultra</td>\n",
       "    </tr>\n",
       "    <tr>\n",
       "      <th>4</th>\n",
       "      <td>5</td>\n",
       "      <td>Адель</td>\n",
       "      <td>28</td>\n",
       "      <td>Омск</td>\n",
       "      <td>ultra</td>\n",
       "    </tr>\n",
       "  </tbody>\n",
       "</table>\n",
       "</div>"
      ],
      "text/plain": [
       "   user_id        name  age            city subscription_type\n",
       "0        1        Кира   22          Тюмень             ultra\n",
       "1        2   Станислав   31            Омск             ultra\n",
       "2        3     Алексей   20          Москва             ultra\n",
       "3        4  Константин   26  Ростов-на-Дону             ultra\n",
       "4        5       Адель   28            Омск             ultra"
      ]
     },
     "metadata": {},
     "output_type": "display_data"
    }
   ],
   "source": [
    "users = pd.read_csv('https://code.s3.yandex.net/datasets/users_go.csv')\n",
    "rides = pd.read_csv('https://code.s3.yandex.net/datasets/rides_go.csv')\n",
    "subscriptions = pd.read_csv('https://code.s3.yandex.net/datasets/subscriptions_go.csv')\n",
    "\n",
    "display('Данные о пользователях', users.head())"
   ]
  },
  {
   "cell_type": "markdown",
   "id": "36397535",
   "metadata": {},
   "source": [
    "где:\n",
    "\n",
    "- user_id - уникальный идентификатор пользователя;\n",
    "- name - имя пользователя;\n",
    "- age - возраст;\n",
    "- city - город;\n",
    "- subscription_type - тип подписки (free, ultra)."
   ]
  },
  {
   "cell_type": "code",
   "execution_count": 3,
   "id": "3d38cfba",
   "metadata": {},
   "outputs": [
    {
     "name": "stdout",
     "output_type": "stream",
     "text": [
      "<class 'pandas.core.frame.DataFrame'>\n",
      "RangeIndex: 1565 entries, 0 to 1564\n",
      "Data columns (total 5 columns):\n",
      " #   Column             Non-Null Count  Dtype \n",
      "---  ------             --------------  ----- \n",
      " 0   user_id            1565 non-null   int64 \n",
      " 1   name               1565 non-null   object\n",
      " 2   age                1565 non-null   int64 \n",
      " 3   city               1565 non-null   object\n",
      " 4   subscription_type  1565 non-null   object\n",
      "dtypes: int64(2), object(3)\n",
      "memory usage: 61.3+ KB\n"
     ]
    }
   ],
   "source": [
    "users.info()"
   ]
  },
  {
   "cell_type": "code",
   "execution_count": 4,
   "id": "2c0dc1f9",
   "metadata": {},
   "outputs": [
    {
     "data": {
      "text/plain": [
       "'Данные о поездках'"
      ]
     },
     "metadata": {},
     "output_type": "display_data"
    },
    {
     "data": {
      "text/html": [
       "<div>\n",
       "<style scoped>\n",
       "    .dataframe tbody tr th:only-of-type {\n",
       "        vertical-align: middle;\n",
       "    }\n",
       "\n",
       "    .dataframe tbody tr th {\n",
       "        vertical-align: top;\n",
       "    }\n",
       "\n",
       "    .dataframe thead th {\n",
       "        text-align: right;\n",
       "    }\n",
       "</style>\n",
       "<table border=\"1\" class=\"dataframe\">\n",
       "  <thead>\n",
       "    <tr style=\"text-align: right;\">\n",
       "      <th></th>\n",
       "      <th>user_id</th>\n",
       "      <th>distance</th>\n",
       "      <th>duration</th>\n",
       "      <th>date</th>\n",
       "    </tr>\n",
       "  </thead>\n",
       "  <tbody>\n",
       "    <tr>\n",
       "      <th>0</th>\n",
       "      <td>1</td>\n",
       "      <td>4409.919140</td>\n",
       "      <td>25.599769</td>\n",
       "      <td>2021-01-01</td>\n",
       "    </tr>\n",
       "    <tr>\n",
       "      <th>1</th>\n",
       "      <td>1</td>\n",
       "      <td>2617.592153</td>\n",
       "      <td>15.816871</td>\n",
       "      <td>2021-01-18</td>\n",
       "    </tr>\n",
       "    <tr>\n",
       "      <th>2</th>\n",
       "      <td>1</td>\n",
       "      <td>754.159807</td>\n",
       "      <td>6.232113</td>\n",
       "      <td>2021-04-20</td>\n",
       "    </tr>\n",
       "    <tr>\n",
       "      <th>3</th>\n",
       "      <td>1</td>\n",
       "      <td>2694.783254</td>\n",
       "      <td>18.511000</td>\n",
       "      <td>2021-08-11</td>\n",
       "    </tr>\n",
       "    <tr>\n",
       "      <th>4</th>\n",
       "      <td>1</td>\n",
       "      <td>4028.687306</td>\n",
       "      <td>26.265803</td>\n",
       "      <td>2021-08-28</td>\n",
       "    </tr>\n",
       "  </tbody>\n",
       "</table>\n",
       "</div>"
      ],
      "text/plain": [
       "   user_id     distance   duration        date\n",
       "0        1  4409.919140  25.599769  2021-01-01\n",
       "1        1  2617.592153  15.816871  2021-01-18\n",
       "2        1   754.159807   6.232113  2021-04-20\n",
       "3        1  2694.783254  18.511000  2021-08-11\n",
       "4        1  4028.687306  26.265803  2021-08-28"
      ]
     },
     "metadata": {},
     "output_type": "display_data"
    }
   ],
   "source": [
    "display('Данные о поездках', rides.head())"
   ]
  },
  {
   "cell_type": "markdown",
   "id": "d81c04c8",
   "metadata": {},
   "source": [
    "где:\n",
    "\n",
    "- user_id - уникальный идентификатор пользователя;\n",
    "- distance - расстояние, которое пользователь проехал в текущей сессии (в метрах);\n",
    "- duration - продолжительность сессии (в минутах) — время с того момента, как пользователь нажал кнопку «Начать поездку» до момента, как он нажал кнопку «Завершить поездку»;\n",
    "- date - дата совершения поездки."
   ]
  },
  {
   "cell_type": "code",
   "execution_count": 5,
   "id": "064c15c1",
   "metadata": {},
   "outputs": [
    {
     "name": "stdout",
     "output_type": "stream",
     "text": [
      "<class 'pandas.core.frame.DataFrame'>\n",
      "RangeIndex: 18068 entries, 0 to 18067\n",
      "Data columns (total 4 columns):\n",
      " #   Column    Non-Null Count  Dtype  \n",
      "---  ------    --------------  -----  \n",
      " 0   user_id   18068 non-null  int64  \n",
      " 1   distance  18068 non-null  float64\n",
      " 2   duration  18068 non-null  float64\n",
      " 3   date      18068 non-null  object \n",
      "dtypes: float64(2), int64(1), object(1)\n",
      "memory usage: 564.8+ KB\n"
     ]
    }
   ],
   "source": [
    "rides.info()"
   ]
  },
  {
   "cell_type": "code",
   "execution_count": 6,
   "id": "91c09949",
   "metadata": {},
   "outputs": [
    {
     "data": {
      "text/plain": [
       "'Данные о подписках'"
      ]
     },
     "metadata": {},
     "output_type": "display_data"
    },
    {
     "data": {
      "text/html": [
       "<div>\n",
       "<style scoped>\n",
       "    .dataframe tbody tr th:only-of-type {\n",
       "        vertical-align: middle;\n",
       "    }\n",
       "\n",
       "    .dataframe tbody tr th {\n",
       "        vertical-align: top;\n",
       "    }\n",
       "\n",
       "    .dataframe thead th {\n",
       "        text-align: right;\n",
       "    }\n",
       "</style>\n",
       "<table border=\"1\" class=\"dataframe\">\n",
       "  <thead>\n",
       "    <tr style=\"text-align: right;\">\n",
       "      <th></th>\n",
       "      <th>subscription_type</th>\n",
       "      <th>minute_price</th>\n",
       "      <th>start_ride_price</th>\n",
       "      <th>subscription_fee</th>\n",
       "    </tr>\n",
       "  </thead>\n",
       "  <tbody>\n",
       "    <tr>\n",
       "      <th>0</th>\n",
       "      <td>free</td>\n",
       "      <td>8</td>\n",
       "      <td>50</td>\n",
       "      <td>0</td>\n",
       "    </tr>\n",
       "    <tr>\n",
       "      <th>1</th>\n",
       "      <td>ultra</td>\n",
       "      <td>6</td>\n",
       "      <td>0</td>\n",
       "      <td>199</td>\n",
       "    </tr>\n",
       "  </tbody>\n",
       "</table>\n",
       "</div>"
      ],
      "text/plain": [
       "  subscription_type  minute_price  start_ride_price  subscription_fee\n",
       "0              free             8                50                 0\n",
       "1             ultra             6                 0               199"
      ]
     },
     "metadata": {},
     "output_type": "display_data"
    }
   ],
   "source": [
    "display('Данные о подписках', subscriptions.head())"
   ]
  },
  {
   "cell_type": "markdown",
   "id": "44a40fd6",
   "metadata": {},
   "source": [
    "где:\n",
    "\n",
    "- subscription_type - тип подписки;\n",
    "- minute_price - стоимость одной минуты поездки по данной подписке;\n",
    "- start_ride_price - стоимость начала поездки;\n",
    "- subscription_fee - стоимость ежемесячного платежа."
   ]
  },
  {
   "cell_type": "code",
   "execution_count": 7,
   "id": "595911a6",
   "metadata": {},
   "outputs": [
    {
     "name": "stdout",
     "output_type": "stream",
     "text": [
      "<class 'pandas.core.frame.DataFrame'>\n",
      "RangeIndex: 2 entries, 0 to 1\n",
      "Data columns (total 4 columns):\n",
      " #   Column             Non-Null Count  Dtype \n",
      "---  ------             --------------  ----- \n",
      " 0   subscription_type  2 non-null      object\n",
      " 1   minute_price       2 non-null      int64 \n",
      " 2   start_ride_price   2 non-null      int64 \n",
      " 3   subscription_fee   2 non-null      int64 \n",
      "dtypes: int64(3), object(1)\n",
      "memory usage: 192.0+ bytes\n"
     ]
    }
   ],
   "source": [
    "subscriptions.info()"
   ]
  },
  {
   "cell_type": "markdown",
   "id": "aa3e55f2",
   "metadata": {},
   "source": [
    "**Вывод:** при изучении информации о датафреймах, было выявлено несоответствие типа данных: датафрейм с информацией о поездках - дата совершения поездки - тип данных object, который на этапе предобработки данных будет изменен на datetime."
   ]
  },
  {
   "cell_type": "markdown",
   "id": "e95ebca7",
   "metadata": {},
   "source": [
    "### Предобработка данных."
   ]
  },
  {
   "cell_type": "markdown",
   "id": "39f528bc",
   "metadata": {},
   "source": [
    "#### Проверка корректной записи названий столбцов"
   ]
  },
  {
   "cell_type": "code",
   "execution_count": 8,
   "id": "8adcd225",
   "metadata": {},
   "outputs": [
    {
     "data": {
      "text/plain": [
       "Index(['user_id', 'name', 'age', 'city', 'subscription_type'], dtype='object')"
      ]
     },
     "execution_count": 8,
     "metadata": {},
     "output_type": "execute_result"
    }
   ],
   "source": [
    "users.columns.unique() # Данные о пользователях"
   ]
  },
  {
   "cell_type": "code",
   "execution_count": 9,
   "id": "9d96b149",
   "metadata": {},
   "outputs": [
    {
     "data": {
      "text/plain": [
       "Index(['user_id', 'distance', 'duration', 'date'], dtype='object')"
      ]
     },
     "execution_count": 9,
     "metadata": {},
     "output_type": "execute_result"
    }
   ],
   "source": [
    "rides.columns.unique() # Данные о поездках"
   ]
  },
  {
   "cell_type": "code",
   "execution_count": 10,
   "id": "36544e92",
   "metadata": {},
   "outputs": [
    {
     "data": {
      "text/plain": [
       "Index(['subscription_type', 'minute_price', 'start_ride_price',\n",
       "       'subscription_fee'],\n",
       "      dtype='object')"
      ]
     },
     "execution_count": 10,
     "metadata": {},
     "output_type": "execute_result"
    }
   ],
   "source": [
    "subscriptions.columns.unique() # Данные о подписках"
   ]
  },
  {
   "cell_type": "markdown",
   "id": "a59219f1",
   "metadata": {},
   "source": [
    "**Вывод:** все названия столбцов записаны корректно."
   ]
  },
  {
   "cell_type": "markdown",
   "id": "bf1b21fb",
   "metadata": {},
   "source": [
    "#### Проверка наличия дубликатов"
   ]
  },
  {
   "cell_type": "code",
   "execution_count": 11,
   "id": "ce6c4e3e",
   "metadata": {},
   "outputs": [
    {
     "data": {
      "text/plain": [
       "31"
      ]
     },
     "execution_count": 11,
     "metadata": {},
     "output_type": "execute_result"
    }
   ],
   "source": [
    "users.duplicated().sum() # Данные о пользователях"
   ]
  },
  {
   "cell_type": "code",
   "execution_count": 12,
   "id": "d010b2d9",
   "metadata": {},
   "outputs": [
    {
     "data": {
      "text/plain": [
       "0"
      ]
     },
     "execution_count": 12,
     "metadata": {},
     "output_type": "execute_result"
    }
   ],
   "source": [
    "rides.duplicated().sum() # Данные о поездках"
   ]
  },
  {
   "cell_type": "code",
   "execution_count": 13,
   "id": "43fd6abd",
   "metadata": {},
   "outputs": [
    {
     "data": {
      "text/plain": [
       "0"
      ]
     },
     "execution_count": 13,
     "metadata": {},
     "output_type": "execute_result"
    }
   ],
   "source": [
    "subscriptions.duplicated().sum() # Данные о подписках"
   ]
  },
  {
   "cell_type": "markdown",
   "id": "38857116",
   "metadata": {},
   "source": [
    "В датафрейме с данными о пользователях обнаружены явные дубликаты. Удаляем их и заменяем старые индексы на новые: "
   ]
  },
  {
   "cell_type": "code",
   "execution_count": 14,
   "id": "9c00f315",
   "metadata": {},
   "outputs": [
    {
     "data": {
      "text/plain": [
       "0"
      ]
     },
     "execution_count": 14,
     "metadata": {},
     "output_type": "execute_result"
    }
   ],
   "source": [
    "users = users.drop_duplicates().reset_index(drop=True)\n",
    "users.duplicated().sum()"
   ]
  },
  {
   "cell_type": "markdown",
   "id": "96f5f90c",
   "metadata": {},
   "source": [
    "Дубликаты удалены.\n",
    "\n",
    "**Вывод:** явные дубликаты были обнаружены в датафрейме 'users' (данные о пользователях) - удалены."
   ]
  },
  {
   "cell_type": "markdown",
   "id": "fafb8b21",
   "metadata": {},
   "source": [
    "#### Проверка наличия пропущенных значений"
   ]
  },
  {
   "cell_type": "code",
   "execution_count": 15,
   "id": "47643666",
   "metadata": {},
   "outputs": [
    {
     "data": {
      "text/plain": [
       "user_id              0\n",
       "name                 0\n",
       "age                  0\n",
       "city                 0\n",
       "subscription_type    0\n",
       "dtype: int64"
      ]
     },
     "execution_count": 15,
     "metadata": {},
     "output_type": "execute_result"
    }
   ],
   "source": [
    "users.isna().sum() # Данные о пользователях"
   ]
  },
  {
   "cell_type": "code",
   "execution_count": 16,
   "id": "3515d609",
   "metadata": {},
   "outputs": [
    {
     "data": {
      "text/plain": [
       "user_id     0\n",
       "distance    0\n",
       "duration    0\n",
       "date        0\n",
       "dtype: int64"
      ]
     },
     "execution_count": 16,
     "metadata": {},
     "output_type": "execute_result"
    }
   ],
   "source": [
    "rides.isna().sum() # Данные о поездках"
   ]
  },
  {
   "cell_type": "code",
   "execution_count": 17,
   "id": "ea3fe8d5",
   "metadata": {},
   "outputs": [
    {
     "data": {
      "text/plain": [
       "subscription_type    0\n",
       "minute_price         0\n",
       "start_ride_price     0\n",
       "subscription_fee     0\n",
       "dtype: int64"
      ]
     },
     "execution_count": 17,
     "metadata": {},
     "output_type": "execute_result"
    }
   ],
   "source": [
    "subscriptions.isna().sum() # Данные о подписках"
   ]
  },
  {
   "cell_type": "markdown",
   "id": "d0e2d0aa",
   "metadata": {},
   "source": [
    "**Вывод:** пропусков не выявлено."
   ]
  },
  {
   "cell_type": "markdown",
   "id": "9b4ebed0",
   "metadata": {},
   "source": [
    "#### Изменение типов данных"
   ]
  },
  {
   "cell_type": "markdown",
   "id": "7315c428",
   "metadata": {},
   "source": [
    "На этапе изучения данных было обнаружено несоответствие типа данных в датафрейме с информацией о поездках (rides): дата совершения поездки (столбец date) - тип данных object нужно изменить на datetime:"
   ]
  },
  {
   "cell_type": "code",
   "execution_count": 18,
   "id": "5fed9a1a",
   "metadata": {},
   "outputs": [
    {
     "data": {
      "text/html": [
       "<div>\n",
       "<style scoped>\n",
       "    .dataframe tbody tr th:only-of-type {\n",
       "        vertical-align: middle;\n",
       "    }\n",
       "\n",
       "    .dataframe tbody tr th {\n",
       "        vertical-align: top;\n",
       "    }\n",
       "\n",
       "    .dataframe thead th {\n",
       "        text-align: right;\n",
       "    }\n",
       "</style>\n",
       "<table border=\"1\" class=\"dataframe\">\n",
       "  <thead>\n",
       "    <tr style=\"text-align: right;\">\n",
       "      <th></th>\n",
       "      <th>user_id</th>\n",
       "      <th>distance</th>\n",
       "      <th>duration</th>\n",
       "      <th>date</th>\n",
       "    </tr>\n",
       "  </thead>\n",
       "  <tbody>\n",
       "    <tr>\n",
       "      <th>0</th>\n",
       "      <td>1</td>\n",
       "      <td>4409.919140</td>\n",
       "      <td>25.599769</td>\n",
       "      <td>2021-01-01</td>\n",
       "    </tr>\n",
       "    <tr>\n",
       "      <th>1</th>\n",
       "      <td>1</td>\n",
       "      <td>2617.592153</td>\n",
       "      <td>15.816871</td>\n",
       "      <td>2021-01-18</td>\n",
       "    </tr>\n",
       "    <tr>\n",
       "      <th>2</th>\n",
       "      <td>1</td>\n",
       "      <td>754.159807</td>\n",
       "      <td>6.232113</td>\n",
       "      <td>2021-04-20</td>\n",
       "    </tr>\n",
       "    <tr>\n",
       "      <th>3</th>\n",
       "      <td>1</td>\n",
       "      <td>2694.783254</td>\n",
       "      <td>18.511000</td>\n",
       "      <td>2021-08-11</td>\n",
       "    </tr>\n",
       "    <tr>\n",
       "      <th>4</th>\n",
       "      <td>1</td>\n",
       "      <td>4028.687306</td>\n",
       "      <td>26.265803</td>\n",
       "      <td>2021-08-28</td>\n",
       "    </tr>\n",
       "  </tbody>\n",
       "</table>\n",
       "</div>"
      ],
      "text/plain": [
       "   user_id     distance   duration       date\n",
       "0        1  4409.919140  25.599769 2021-01-01\n",
       "1        1  2617.592153  15.816871 2021-01-18\n",
       "2        1   754.159807   6.232113 2021-04-20\n",
       "3        1  2694.783254  18.511000 2021-08-11\n",
       "4        1  4028.687306  26.265803 2021-08-28"
      ]
     },
     "execution_count": 18,
     "metadata": {},
     "output_type": "execute_result"
    }
   ],
   "source": [
    "rides['date'] = pd.to_datetime(rides['date'], format='%Y-%m-%dT%H:%M:%S')\n",
    "rides.head()"
   ]
  },
  {
   "cell_type": "markdown",
   "id": "7273358e",
   "metadata": {},
   "source": [
    "**Вывод:** Тип данных в столбце 'date' датафрейма rides изменен с object на datetime."
   ]
  },
  {
   "cell_type": "markdown",
   "id": "792c8603",
   "metadata": {},
   "source": [
    "#### Создание новых колонок"
   ]
  },
  {
   "cell_type": "markdown",
   "id": "23c31b7d",
   "metadata": {},
   "source": [
    "Создаем новый столбец с номером месяца в датафрейме с информацией о поездках (rides) с названием 'month', где 1 - январь, 2 - февраль и тд.:"
   ]
  },
  {
   "cell_type": "code",
   "execution_count": 19,
   "id": "8325ed65",
   "metadata": {},
   "outputs": [
    {
     "data": {
      "text/html": [
       "<div>\n",
       "<style scoped>\n",
       "    .dataframe tbody tr th:only-of-type {\n",
       "        vertical-align: middle;\n",
       "    }\n",
       "\n",
       "    .dataframe tbody tr th {\n",
       "        vertical-align: top;\n",
       "    }\n",
       "\n",
       "    .dataframe thead th {\n",
       "        text-align: right;\n",
       "    }\n",
       "</style>\n",
       "<table border=\"1\" class=\"dataframe\">\n",
       "  <thead>\n",
       "    <tr style=\"text-align: right;\">\n",
       "      <th></th>\n",
       "      <th>user_id</th>\n",
       "      <th>distance</th>\n",
       "      <th>duration</th>\n",
       "      <th>date</th>\n",
       "      <th>month</th>\n",
       "    </tr>\n",
       "  </thead>\n",
       "  <tbody>\n",
       "    <tr>\n",
       "      <th>0</th>\n",
       "      <td>1</td>\n",
       "      <td>4409.919140</td>\n",
       "      <td>25.599769</td>\n",
       "      <td>2021-01-01</td>\n",
       "      <td>1</td>\n",
       "    </tr>\n",
       "    <tr>\n",
       "      <th>1</th>\n",
       "      <td>1</td>\n",
       "      <td>2617.592153</td>\n",
       "      <td>15.816871</td>\n",
       "      <td>2021-01-18</td>\n",
       "      <td>1</td>\n",
       "    </tr>\n",
       "    <tr>\n",
       "      <th>2</th>\n",
       "      <td>1</td>\n",
       "      <td>754.159807</td>\n",
       "      <td>6.232113</td>\n",
       "      <td>2021-04-20</td>\n",
       "      <td>4</td>\n",
       "    </tr>\n",
       "    <tr>\n",
       "      <th>3</th>\n",
       "      <td>1</td>\n",
       "      <td>2694.783254</td>\n",
       "      <td>18.511000</td>\n",
       "      <td>2021-08-11</td>\n",
       "      <td>8</td>\n",
       "    </tr>\n",
       "    <tr>\n",
       "      <th>4</th>\n",
       "      <td>1</td>\n",
       "      <td>4028.687306</td>\n",
       "      <td>26.265803</td>\n",
       "      <td>2021-08-28</td>\n",
       "      <td>8</td>\n",
       "    </tr>\n",
       "  </tbody>\n",
       "</table>\n",
       "</div>"
      ],
      "text/plain": [
       "   user_id     distance   duration       date  month\n",
       "0        1  4409.919140  25.599769 2021-01-01      1\n",
       "1        1  2617.592153  15.816871 2021-01-18      1\n",
       "2        1   754.159807   6.232113 2021-04-20      4\n",
       "3        1  2694.783254  18.511000 2021-08-11      8\n",
       "4        1  4028.687306  26.265803 2021-08-28      8"
      ]
     },
     "execution_count": 19,
     "metadata": {},
     "output_type": "execute_result"
    }
   ],
   "source": [
    "rides['month'] = rides['date'].dt.month\n",
    "rides.head()"
   ]
  },
  {
   "cell_type": "markdown",
   "id": "b8ea7cb1",
   "metadata": {},
   "source": [
    "**Вывод:** В датафрейм rides добавлен столбец 'month' с номером месяца (1 - январь, 2 - февраль и тд.)."
   ]
  },
  {
   "cell_type": "markdown",
   "id": "621f93a6",
   "metadata": {},
   "source": [
    "#### Общий вывод\n",
    "\n",
    "**При выполнении предобработки данных проведены:**\n",
    "\n",
    "1. **Проверка корректной записи названий столбцов.** Ошибок не выявлено.\n",
    "\n",
    "2. **Проверка наличия дубликатов.** Явные дубликаты были обнаружены в датафрейме 'users' (данные о пользователях) - удалены.\n",
    "\n",
    "3. **Проверка наличия пропущенных значений.** Пропусков не выявлено.\n",
    "\n",
    "4. **Изменение типов данных.** Тип данных в столбце 'date' датафрейма rides изменен с object на datetime.\n",
    "\n",
    "5. **Создание новых колонок.** В датафрейм rides добавлен столбец 'month' с номером месяца (1 - январь, 2 - февраль и тд.)."
   ]
  },
  {
   "cell_type": "markdown",
   "id": "212593c7",
   "metadata": {},
   "source": [
    "### Исследовательский анализ данных"
   ]
  },
  {
   "cell_type": "markdown",
   "id": "2ab1635f",
   "metadata": {},
   "source": [
    "#### Частота встречаемости городов"
   ]
  },
  {
   "cell_type": "code",
   "execution_count": 20,
   "id": "0d602d6e",
   "metadata": {},
   "outputs": [
    {
     "data": {
      "text/plain": [
       "Пятигорск         219\n",
       "Екатеринбург      204\n",
       "Ростов-на-Дону    198\n",
       "Краснодар         193\n",
       "Сочи              189\n",
       "Омск              183\n",
       "Тюмень            180\n",
       "Москва            168\n",
       "Name: city, dtype: int64"
      ]
     },
     "execution_count": 20,
     "metadata": {},
     "output_type": "execute_result"
    }
   ],
   "source": [
    "users['city'].value_counts()"
   ]
  },
  {
   "cell_type": "code",
   "execution_count": 21,
   "id": "9ac44928",
   "metadata": {},
   "outputs": [
    {
     "data": {
      "image/png": "[encoded data removed]",
      "text/plain": [
       "<Figure size 1300x600 with 1 Axes>"
      ]
     },
     "metadata": {},
     "output_type": "display_data"
    }
   ],
   "source": [
    "users.pivot_table(index='city', values='user_id', aggfunc='count').sort_values(by='user_id', \n",
    "                                                                               ascending=False).plot(kind='barh', legend=False,\n",
    "                                                                                                     figsize=(13, 6), \n",
    "                                                                                                     edgecolor='black',\n",
    "                                                                                                     color = 'teal')\n",
    "plt.xlabel('Количество пользователей')\n",
    "plt.ylabel('Город')\n",
    "plt.title('Частота встречаемости городов')\n",
    "plt.show()"
   ]
  },
  {
   "cell_type": "markdown",
   "id": "197c80d8",
   "metadata": {},
   "source": [
    "**Вывод:** наиболее часто встречается город Пятигорск - 219 пользователей из данного города, меньше всего пользователей из Москвы - 168. "
   ]
  },
  {
   "cell_type": "markdown",
   "id": "c54571d3",
   "metadata": {},
   "source": [
    "#### Соотношение пользователей с подпиской и без подписки"
   ]
  },
  {
   "cell_type": "code",
   "execution_count": 22,
   "id": "9a3cc073",
   "metadata": {},
   "outputs": [
    {
     "data": {
      "text/plain": [
       "free     835\n",
       "ultra    699\n",
       "Name: subscription_type, dtype: int64"
      ]
     },
     "execution_count": 22,
     "metadata": {},
     "output_type": "execute_result"
    }
   ],
   "source": [
    "users['subscription_type'].value_counts()"
   ]
  },
  {
   "cell_type": "code",
   "execution_count": 23,
   "id": "a55a7eef",
   "metadata": {
    "scrolled": true
   },
   "outputs": [
    {
     "data": {
      "image/png": "[encoded data removed]",
      "text/plain": [
       "<Figure size 640x480 with 1 Axes>"
      ]
     },
     "metadata": {},
     "output_type": "display_data"
    }
   ],
   "source": [
    "types = users.groupby('subscription_type')['subscription_type'].count()\n",
    "types.plot(kind='pie', autopct='%1.1f%%', radius=1,\n",
    "           title='Пользователи по наличию подписки', \n",
    "           colors = ['teal', 'y'], \n",
    "           labels = ['free - без подписки', 'ultra - подпискa'])\n",
    "plt.show()"
   ]
  },
  {
   "cell_type": "markdown",
   "id": "a500701f",
   "metadata": {},
   "source": [
    "**Вывод:** пользователей без подписки больше (835 чел), чем пользователей с подпиской Ultra (699 чел): 54.4% против 45.6%. "
   ]
  },
  {
   "cell_type": "markdown",
   "id": "7e888b3b",
   "metadata": {},
   "source": [
    "#### Возраст пользователей"
   ]
  },
  {
   "cell_type": "code",
   "execution_count": 24,
   "id": "424bcc07",
   "metadata": {},
   "outputs": [
    {
     "data": {
      "text/plain": [
       "count    1534.000000\n",
       "mean       24.903520\n",
       "std         4.572367\n",
       "min        12.000000\n",
       "25%        22.000000\n",
       "50%        25.000000\n",
       "75%        28.000000\n",
       "max        43.000000\n",
       "Name: age, dtype: float64"
      ]
     },
     "execution_count": 24,
     "metadata": {},
     "output_type": "execute_result"
    }
   ],
   "source": [
    "users['age'].describe()"
   ]
  },
  {
   "cell_type": "code",
   "execution_count": 25,
   "id": "8b2b8088",
   "metadata": {},
   "outputs": [
    {
     "data": {
      "image/png": "[encoded data removed]",
      "text/plain": [
       "<Figure size 1300x600 with 1 Axes>"
      ]
     },
     "metadata": {},
     "output_type": "display_data"
    }
   ],
   "source": [
    "users.pivot_table(index='age', values='user_id', aggfunc='count').plot(kind='bar', legend=False, figsize=(13, 6), \n",
    "                                                                       edgecolor='black', color = 'teal')\n",
    "plt.xlabel('Возраст')\n",
    "plt.ylabel('Пользователи')\n",
    "plt.title('Количество пользователей по возрасту')\n",
    "plt.show()"
   ]
  },
  {
   "cell_type": "markdown",
   "id": "86e71329",
   "metadata": {},
   "source": [
    "**Вывод:** Больше всего мобильным приложением сервиса пользуются люди в возрасте от 20 до 30 лет с пиком - 25 лет, меньше всего пользователей в возрасте от 37 до 43 лет. Минимальный возраст - 12 лет, максимальный - 43 года."
   ]
  },
  {
   "cell_type": "markdown",
   "id": "83f82ca7",
   "metadata": {},
   "source": [
    "#### Расстояние, которое пользователь преодолел за одну поездку"
   ]
  },
  {
   "cell_type": "markdown",
   "id": "9d1bc4ae",
   "metadata": {},
   "source": [
    "Округлим расстояние, которое преодолел пользователь в метрах за одну поездку, до двух знаков после запятой:"
   ]
  },
  {
   "cell_type": "code",
   "execution_count": 26,
   "id": "e65cbd35",
   "metadata": {},
   "outputs": [
    {
     "data": {
      "text/html": [
       "<div>\n",
       "<style scoped>\n",
       "    .dataframe tbody tr th:only-of-type {\n",
       "        vertical-align: middle;\n",
       "    }\n",
       "\n",
       "    .dataframe tbody tr th {\n",
       "        vertical-align: top;\n",
       "    }\n",
       "\n",
       "    .dataframe thead th {\n",
       "        text-align: right;\n",
       "    }\n",
       "</style>\n",
       "<table border=\"1\" class=\"dataframe\">\n",
       "  <thead>\n",
       "    <tr style=\"text-align: right;\">\n",
       "      <th></th>\n",
       "      <th>user_id</th>\n",
       "      <th>distance</th>\n",
       "      <th>duration</th>\n",
       "      <th>date</th>\n",
       "      <th>month</th>\n",
       "    </tr>\n",
       "  </thead>\n",
       "  <tbody>\n",
       "    <tr>\n",
       "      <th>0</th>\n",
       "      <td>1</td>\n",
       "      <td>4409.92</td>\n",
       "      <td>25.599769</td>\n",
       "      <td>2021-01-01</td>\n",
       "      <td>1</td>\n",
       "    </tr>\n",
       "    <tr>\n",
       "      <th>1</th>\n",
       "      <td>1</td>\n",
       "      <td>2617.59</td>\n",
       "      <td>15.816871</td>\n",
       "      <td>2021-01-18</td>\n",
       "      <td>1</td>\n",
       "    </tr>\n",
       "    <tr>\n",
       "      <th>2</th>\n",
       "      <td>1</td>\n",
       "      <td>754.16</td>\n",
       "      <td>6.232113</td>\n",
       "      <td>2021-04-20</td>\n",
       "      <td>4</td>\n",
       "    </tr>\n",
       "    <tr>\n",
       "      <th>3</th>\n",
       "      <td>1</td>\n",
       "      <td>2694.78</td>\n",
       "      <td>18.511000</td>\n",
       "      <td>2021-08-11</td>\n",
       "      <td>8</td>\n",
       "    </tr>\n",
       "    <tr>\n",
       "      <th>4</th>\n",
       "      <td>1</td>\n",
       "      <td>4028.69</td>\n",
       "      <td>26.265803</td>\n",
       "      <td>2021-08-28</td>\n",
       "      <td>8</td>\n",
       "    </tr>\n",
       "  </tbody>\n",
       "</table>\n",
       "</div>"
      ],
      "text/plain": [
       "   user_id  distance   duration       date  month\n",
       "0        1   4409.92  25.599769 2021-01-01      1\n",
       "1        1   2617.59  15.816871 2021-01-18      1\n",
       "2        1    754.16   6.232113 2021-04-20      4\n",
       "3        1   2694.78  18.511000 2021-08-11      8\n",
       "4        1   4028.69  26.265803 2021-08-28      8"
      ]
     },
     "execution_count": 26,
     "metadata": {},
     "output_type": "execute_result"
    }
   ],
   "source": [
    "rides['distance'] = rides['distance'].round(2)\n",
    "rides.head()"
   ]
  },
  {
   "cell_type": "code",
   "execution_count": 27,
   "id": "c70b72c4",
   "metadata": {},
   "outputs": [
    {
     "data": {
      "text/plain": [
       "count    18068.000000\n",
       "mean      3070.659992\n",
       "std       1116.831222\n",
       "min          0.860000\n",
       "25%       2543.227500\n",
       "50%       3133.610000\n",
       "75%       3776.220000\n",
       "max       7211.010000\n",
       "Name: distance, dtype: float64"
      ]
     },
     "execution_count": 27,
     "metadata": {},
     "output_type": "execute_result"
    }
   ],
   "source": [
    "rides['distance'].describe()"
   ]
  },
  {
   "cell_type": "markdown",
   "id": "014d43e7",
   "metadata": {},
   "source": [
    "Минимальное расстояние одной поездки 0.86 м, максимальное - 7211 м, в среднем пользователь проезжает 3070 м за одну поездку, медианное расстояние - 3133 м.\n",
    "\n",
    "Визуализируем данные:"
   ]
  },
  {
   "cell_type": "code",
   "execution_count": 28,
   "id": "30e3dc18",
   "metadata": {},
   "outputs": [
    {
     "data": {
      "image/png": "[encoded data removed]",
      "text/plain": [
       "<Figure size 1300x600 with 1 Axes>"
      ]
     },
     "metadata": {},
     "output_type": "display_data"
    }
   ],
   "source": [
    "rides['distance'].plot(kind='hist', bins=250, figsize=(13, 6), color = 'teal', edgecolor='black')\n",
    "plt.xlabel('Расстояние (м)')\n",
    "plt.ylabel('Количество поездок')\n",
    "plt.title('Распределение поездок по их расстоянию')\n",
    "plt.show()"
   ]
  },
  {
   "cell_type": "markdown",
   "id": "950fe5a3",
   "metadata": {},
   "source": [
    "**Вывод:** Наблюдаются две волны с пиками около 700 м и 3200 м. Возможно, первая волна указывает на пользователей, которые используют аренду самоката для передвижения между остановками общественного транспорта во время пересадки либо доезда от дома до остановки или обратно. Пользователи из второй волны могут использовать самокат как основное средство передвижения по городу на расстояния около 3 км. Минимальное расстояние одной поездки 0.86 м, максимальное - 7211 м, в среднем пользователь проезжает 3070 м за одну поездку, медианное расстояние - 3133 м."
   ]
  },
  {
   "cell_type": "markdown",
   "id": "2c5331f1",
   "metadata": {},
   "source": [
    "#### Продолжительность поездок"
   ]
  },
  {
   "cell_type": "markdown",
   "id": "7368edf0",
   "metadata": {},
   "source": [
    "Округляем время продолжительности поездки (мин) до следующего целого числа и изменим тип данных на целочисленный:"
   ]
  },
  {
   "cell_type": "code",
   "execution_count": 29,
   "id": "558e1d99",
   "metadata": {},
   "outputs": [
    {
     "data": {
      "text/html": [
       "<div>\n",
       "<style scoped>\n",
       "    .dataframe tbody tr th:only-of-type {\n",
       "        vertical-align: middle;\n",
       "    }\n",
       "\n",
       "    .dataframe tbody tr th {\n",
       "        vertical-align: top;\n",
       "    }\n",
       "\n",
       "    .dataframe thead th {\n",
       "        text-align: right;\n",
       "    }\n",
       "</style>\n",
       "<table border=\"1\" class=\"dataframe\">\n",
       "  <thead>\n",
       "    <tr style=\"text-align: right;\">\n",
       "      <th></th>\n",
       "      <th>user_id</th>\n",
       "      <th>distance</th>\n",
       "      <th>duration</th>\n",
       "      <th>date</th>\n",
       "      <th>month</th>\n",
       "    </tr>\n",
       "  </thead>\n",
       "  <tbody>\n",
       "    <tr>\n",
       "      <th>0</th>\n",
       "      <td>1</td>\n",
       "      <td>4409.92</td>\n",
       "      <td>26</td>\n",
       "      <td>2021-01-01</td>\n",
       "      <td>1</td>\n",
       "    </tr>\n",
       "    <tr>\n",
       "      <th>1</th>\n",
       "      <td>1</td>\n",
       "      <td>2617.59</td>\n",
       "      <td>16</td>\n",
       "      <td>2021-01-18</td>\n",
       "      <td>1</td>\n",
       "    </tr>\n",
       "    <tr>\n",
       "      <th>2</th>\n",
       "      <td>1</td>\n",
       "      <td>754.16</td>\n",
       "      <td>7</td>\n",
       "      <td>2021-04-20</td>\n",
       "      <td>4</td>\n",
       "    </tr>\n",
       "    <tr>\n",
       "      <th>3</th>\n",
       "      <td>1</td>\n",
       "      <td>2694.78</td>\n",
       "      <td>19</td>\n",
       "      <td>2021-08-11</td>\n",
       "      <td>8</td>\n",
       "    </tr>\n",
       "    <tr>\n",
       "      <th>4</th>\n",
       "      <td>1</td>\n",
       "      <td>4028.69</td>\n",
       "      <td>27</td>\n",
       "      <td>2021-08-28</td>\n",
       "      <td>8</td>\n",
       "    </tr>\n",
       "  </tbody>\n",
       "</table>\n",
       "</div>"
      ],
      "text/plain": [
       "   user_id  distance  duration       date  month\n",
       "0        1   4409.92        26 2021-01-01      1\n",
       "1        1   2617.59        16 2021-01-18      1\n",
       "2        1    754.16         7 2021-04-20      4\n",
       "3        1   2694.78        19 2021-08-11      8\n",
       "4        1   4028.69        27 2021-08-28      8"
      ]
     },
     "execution_count": 29,
     "metadata": {},
     "output_type": "execute_result"
    }
   ],
   "source": [
    "rides['duration'] = np.ceil(rides['duration']).astype(int)\n",
    "rides.head()"
   ]
  },
  {
   "cell_type": "code",
   "execution_count": 30,
   "id": "3a628811",
   "metadata": {},
   "outputs": [
    {
     "data": {
      "text/plain": [
       "count    18068.000000\n",
       "mean        18.303520\n",
       "std          6.094928\n",
       "min          1.000000\n",
       "25%         14.000000\n",
       "50%         18.000000\n",
       "75%         22.000000\n",
       "max         41.000000\n",
       "Name: duration, dtype: float64"
      ]
     },
     "execution_count": 30,
     "metadata": {},
     "output_type": "execute_result"
    }
   ],
   "source": [
    "rides['duration'].describe()"
   ]
  },
  {
   "cell_type": "markdown",
   "id": "88500ffc",
   "metadata": {},
   "source": [
    "Минимальное время одной поездки 1 мин, максимальное - 41 мин, в среднем одна сессия длится 18 мин, медианное время так же 18 мин.\n",
    "\n",
    "Визуализируем данные:"
   ]
  },
  {
   "cell_type": "code",
   "execution_count": 31,
   "id": "af23a0d5",
   "metadata": {},
   "outputs": [
    {
     "data": {
      "image/png": "[encoded data removed]",
      "text/plain": [
       "<Figure size 1300x600 with 1 Axes>"
      ]
     },
     "metadata": {},
     "output_type": "display_data"
    }
   ],
   "source": [
    "rides['duration'].plot(kind='hist', bins=200, figsize=(13, 6), color = 'teal', edgecolor='black')\n",
    "plt.xlabel('Длительность (мин)')\n",
    "plt.ylabel('Количество поездок')\n",
    "plt.title('Распределение поездок по их длительности')\n",
    "plt.show()"
   ]
  },
  {
   "cell_type": "markdown",
   "id": "7688ed99",
   "metadata": {},
   "source": [
    "**Вывод:** больше всего поездок длительностью примерно от 10 до 27 минут с пиком 18-19 минут. Минимальное время одной поездки 1 мин, максимальное - 41 мин, в среднем одна сессия длится 18 мин, медианное время так же 18 мин."
   ]
  },
  {
   "cell_type": "markdown",
   "id": "ae1d21ca",
   "metadata": {},
   "source": [
    "#### Общий вывод\n",
    "\n",
    "**При выполнении исследовательского анализа данных, было выявлено:**\n",
    "1. из 8 городов, наиболее часто встречается город Пятигорск - 219 пользователей из данного города, меньше всего пользователей из Москвы - 168;\n",
    "2. пользователей без подписки больше (835 чел), чем пользователей с подпиской Ultra (699 чел): 54.4% против 45.6%;\n",
    "3. больше всего мобильным приложением сервиса пользуются люди в возрасте от 20 до 30 лет с пиком - 25 лет, меньше всего пользователей в возрасте от 37 до 43 лет. Минимальный возраст - 12 лет, максимальный - 43 года;\n",
    "4. по расстоянию поездок наблюдаются две волны с пиками около 700 м и 3200 м. Возможно, первая волна указывает на пользователей, которые используют аренду самоката для передвижения между остановками общественного транспорта во время пересадки либо доезда от дома до остановки или обратно. Пользователи из второй волны могут использовать самокат как основное средство передвижения по городу на расстояния около 3 км. Минимальное расстояние одной поездки 0.86 м, максимальное - 7211 м, в среднем пользователь проезжает 3070 м за одну поездку, медианное расстояние - 3133 м;\n",
    "5. больше всего поездок длительностью примерно от 10 до 27 минут с пиком 18-19 минут. Минимальное время одной поездки 1 мин, максимальное - 41 мин, в среднем одна сессия длится 18 мин, медианное время так же 18 мин."
   ]
  },
  {
   "cell_type": "markdown",
   "id": "4ef51331",
   "metadata": {},
   "source": [
    "### Объединение данных"
   ]
  },
  {
   "cell_type": "markdown",
   "id": "7fe4446e",
   "metadata": {},
   "source": [
    "#### Объединение всех данных в один датафрейм"
   ]
  },
  {
   "cell_type": "markdown",
   "id": "b15b7678",
   "metadata": {},
   "source": [
    "Объединяем данные о пользователях, поездках и подписках в один датафрейм с помощью метода merge():"
   ]
  },
  {
   "cell_type": "code",
   "execution_count": 32,
   "id": "b4f95032",
   "metadata": {},
   "outputs": [
    {
     "name": "stdout",
     "output_type": "stream",
     "text": [
      "Датафрейм с объединенными данными\n"
     ]
    },
    {
     "data": {
      "text/html": [
       "<div>\n",
       "<style scoped>\n",
       "    .dataframe tbody tr th:only-of-type {\n",
       "        vertical-align: middle;\n",
       "    }\n",
       "\n",
       "    .dataframe tbody tr th {\n",
       "        vertical-align: top;\n",
       "    }\n",
       "\n",
       "    .dataframe thead th {\n",
       "        text-align: right;\n",
       "    }\n",
       "</style>\n",
       "<table border=\"1\" class=\"dataframe\">\n",
       "  <thead>\n",
       "    <tr style=\"text-align: right;\">\n",
       "      <th></th>\n",
       "      <th>user_id</th>\n",
       "      <th>name</th>\n",
       "      <th>age</th>\n",
       "      <th>city</th>\n",
       "      <th>subscription_type</th>\n",
       "      <th>distance</th>\n",
       "      <th>duration</th>\n",
       "      <th>date</th>\n",
       "      <th>month</th>\n",
       "      <th>minute_price</th>\n",
       "      <th>start_ride_price</th>\n",
       "      <th>subscription_fee</th>\n",
       "    </tr>\n",
       "  </thead>\n",
       "  <tbody>\n",
       "    <tr>\n",
       "      <th>0</th>\n",
       "      <td>1</td>\n",
       "      <td>Кира</td>\n",
       "      <td>22</td>\n",
       "      <td>Тюмень</td>\n",
       "      <td>ultra</td>\n",
       "      <td>4409.92</td>\n",
       "      <td>26</td>\n",
       "      <td>2021-01-01</td>\n",
       "      <td>1</td>\n",
       "      <td>6</td>\n",
       "      <td>0</td>\n",
       "      <td>199</td>\n",
       "    </tr>\n",
       "    <tr>\n",
       "      <th>1</th>\n",
       "      <td>1</td>\n",
       "      <td>Кира</td>\n",
       "      <td>22</td>\n",
       "      <td>Тюмень</td>\n",
       "      <td>ultra</td>\n",
       "      <td>2617.59</td>\n",
       "      <td>16</td>\n",
       "      <td>2021-01-18</td>\n",
       "      <td>1</td>\n",
       "      <td>6</td>\n",
       "      <td>0</td>\n",
       "      <td>199</td>\n",
       "    </tr>\n",
       "    <tr>\n",
       "      <th>2</th>\n",
       "      <td>1</td>\n",
       "      <td>Кира</td>\n",
       "      <td>22</td>\n",
       "      <td>Тюмень</td>\n",
       "      <td>ultra</td>\n",
       "      <td>754.16</td>\n",
       "      <td>7</td>\n",
       "      <td>2021-04-20</td>\n",
       "      <td>4</td>\n",
       "      <td>6</td>\n",
       "      <td>0</td>\n",
       "      <td>199</td>\n",
       "    </tr>\n",
       "    <tr>\n",
       "      <th>3</th>\n",
       "      <td>1</td>\n",
       "      <td>Кира</td>\n",
       "      <td>22</td>\n",
       "      <td>Тюмень</td>\n",
       "      <td>ultra</td>\n",
       "      <td>2694.78</td>\n",
       "      <td>19</td>\n",
       "      <td>2021-08-11</td>\n",
       "      <td>8</td>\n",
       "      <td>6</td>\n",
       "      <td>0</td>\n",
       "      <td>199</td>\n",
       "    </tr>\n",
       "    <tr>\n",
       "      <th>4</th>\n",
       "      <td>1</td>\n",
       "      <td>Кира</td>\n",
       "      <td>22</td>\n",
       "      <td>Тюмень</td>\n",
       "      <td>ultra</td>\n",
       "      <td>4028.69</td>\n",
       "      <td>27</td>\n",
       "      <td>2021-08-28</td>\n",
       "      <td>8</td>\n",
       "      <td>6</td>\n",
       "      <td>0</td>\n",
       "      <td>199</td>\n",
       "    </tr>\n",
       "  </tbody>\n",
       "</table>\n",
       "</div>"
      ],
      "text/plain": [
       "   user_id  name  age    city subscription_type  distance  duration  \\\n",
       "0        1  Кира   22  Тюмень             ultra   4409.92        26   \n",
       "1        1  Кира   22  Тюмень             ultra   2617.59        16   \n",
       "2        1  Кира   22  Тюмень             ultra    754.16         7   \n",
       "3        1  Кира   22  Тюмень             ultra   2694.78        19   \n",
       "4        1  Кира   22  Тюмень             ultra   4028.69        27   \n",
       "\n",
       "        date  month  minute_price  start_ride_price  subscription_fee  \n",
       "0 2021-01-01      1             6                 0               199  \n",
       "1 2021-01-18      1             6                 0               199  \n",
       "2 2021-04-20      4             6                 0               199  \n",
       "3 2021-08-11      8             6                 0               199  \n",
       "4 2021-08-28      8             6                 0               199  "
      ]
     },
     "metadata": {},
     "output_type": "display_data"
    },
    {
     "name": "stdout",
     "output_type": "stream",
     "text": [
      "Инфомация о датафрейме\n",
      "\n",
      "<class 'pandas.core.frame.DataFrame'>\n",
      "Int64Index: 18068 entries, 0 to 18067\n",
      "Data columns (total 12 columns):\n",
      " #   Column             Non-Null Count  Dtype         \n",
      "---  ------             --------------  -----         \n",
      " 0   user_id            18068 non-null  int64         \n",
      " 1   name               18068 non-null  object        \n",
      " 2   age                18068 non-null  int64         \n",
      " 3   city               18068 non-null  object        \n",
      " 4   subscription_type  18068 non-null  object        \n",
      " 5   distance           18068 non-null  float64       \n",
      " 6   duration           18068 non-null  int32         \n",
      " 7   date               18068 non-null  datetime64[ns]\n",
      " 8   month              18068 non-null  int64         \n",
      " 9   minute_price       18068 non-null  int64         \n",
      " 10  start_ride_price   18068 non-null  int64         \n",
      " 11  subscription_fee   18068 non-null  int64         \n",
      "dtypes: datetime64[ns](1), float64(1), int32(1), int64(6), object(3)\n",
      "memory usage: 1.7+ MB\n"
     ]
    }
   ],
   "source": [
    "total_data = users.merge(rides, on='user_id')\n",
    "total_data = total_data.merge(subscriptions, on='subscription_type')\n",
    "print('Датафрейм с объединенными данными')\n",
    "display(total_data.head())\n",
    "print('Инфомация о датафрейме')\n",
    "print()\n",
    "total_data.info()"
   ]
  },
  {
   "cell_type": "markdown",
   "id": "a71be8f3",
   "metadata": {},
   "source": [
    "Проверяем наличие дубликатов после объединения:"
   ]
  },
  {
   "cell_type": "code",
   "execution_count": 33,
   "id": "9ae333ae",
   "metadata": {},
   "outputs": [
    {
     "data": {
      "text/plain": [
       "0"
      ]
     },
     "execution_count": 33,
     "metadata": {},
     "output_type": "execute_result"
    }
   ],
   "source": [
    "total_data.duplicated().sum()"
   ]
  },
  {
   "cell_type": "markdown",
   "id": "b47a547b",
   "metadata": {},
   "source": [
    "Явных дубликатов не обнаружено."
   ]
  },
  {
   "cell_type": "code",
   "execution_count": 34,
   "id": "c2d93083",
   "metadata": {},
   "outputs": [
    {
     "name": "stdout",
     "output_type": "stream",
     "text": [
      "Количество строк в rides: 18068\n",
      "Количество строк в total_data: 18068\n"
     ]
    }
   ],
   "source": [
    "print('Количество строк в rides:', len(rides))\n",
    "print('Количество строк в total_data:', len(total_data))"
   ]
  },
  {
   "cell_type": "markdown",
   "id": "04a370b6",
   "metadata": {},
   "source": [
    "**Вывод:** количество значений (строк) в итоговом датафрейме (total_data) соответствует количеству в исходном датафрейме (rides), объединение прошло успешно, без наличия пропусков."
   ]
  },
  {
   "cell_type": "markdown",
   "id": "175b18d3",
   "metadata": {},
   "source": [
    "#### Исследование данных о пользователях по наличию/отсутствию подписки"
   ]
  },
  {
   "cell_type": "markdown",
   "id": "fd0615bb",
   "metadata": {},
   "source": [
    "Создадим еще два датафрейма из созданного выше (total_data): с данными о пользователях без подписки и с данными о пользователях с подпиской:"
   ]
  },
  {
   "cell_type": "code",
   "execution_count": 35,
   "id": "a3d1b7b7",
   "metadata": {},
   "outputs": [
    {
     "name": "stdout",
     "output_type": "stream",
     "text": [
      "Датафрейм с данными о пользователях без подписки\n"
     ]
    },
    {
     "data": {
      "text/html": [
       "<div>\n",
       "<style scoped>\n",
       "    .dataframe tbody tr th:only-of-type {\n",
       "        vertical-align: middle;\n",
       "    }\n",
       "\n",
       "    .dataframe tbody tr th {\n",
       "        vertical-align: top;\n",
       "    }\n",
       "\n",
       "    .dataframe thead th {\n",
       "        text-align: right;\n",
       "    }\n",
       "</style>\n",
       "<table border=\"1\" class=\"dataframe\">\n",
       "  <thead>\n",
       "    <tr style=\"text-align: right;\">\n",
       "      <th></th>\n",
       "      <th>user_id</th>\n",
       "      <th>name</th>\n",
       "      <th>age</th>\n",
       "      <th>city</th>\n",
       "      <th>subscription_type</th>\n",
       "      <th>distance</th>\n",
       "      <th>duration</th>\n",
       "      <th>date</th>\n",
       "      <th>month</th>\n",
       "      <th>minute_price</th>\n",
       "      <th>start_ride_price</th>\n",
       "      <th>subscription_fee</th>\n",
       "    </tr>\n",
       "  </thead>\n",
       "  <tbody>\n",
       "    <tr>\n",
       "      <th>6500</th>\n",
       "      <td>700</td>\n",
       "      <td>Айдар</td>\n",
       "      <td>22</td>\n",
       "      <td>Омск</td>\n",
       "      <td>free</td>\n",
       "      <td>2515.69</td>\n",
       "      <td>15</td>\n",
       "      <td>2021-01-02</td>\n",
       "      <td>1</td>\n",
       "      <td>8</td>\n",
       "      <td>50</td>\n",
       "      <td>0</td>\n",
       "    </tr>\n",
       "    <tr>\n",
       "      <th>6501</th>\n",
       "      <td>700</td>\n",
       "      <td>Айдар</td>\n",
       "      <td>22</td>\n",
       "      <td>Омск</td>\n",
       "      <td>free</td>\n",
       "      <td>846.93</td>\n",
       "      <td>17</td>\n",
       "      <td>2021-02-01</td>\n",
       "      <td>2</td>\n",
       "      <td>8</td>\n",
       "      <td>50</td>\n",
       "      <td>0</td>\n",
       "    </tr>\n",
       "    <tr>\n",
       "      <th>6502</th>\n",
       "      <td>700</td>\n",
       "      <td>Айдар</td>\n",
       "      <td>22</td>\n",
       "      <td>Омск</td>\n",
       "      <td>free</td>\n",
       "      <td>4004.43</td>\n",
       "      <td>21</td>\n",
       "      <td>2021-02-04</td>\n",
       "      <td>2</td>\n",
       "      <td>8</td>\n",
       "      <td>50</td>\n",
       "      <td>0</td>\n",
       "    </tr>\n",
       "    <tr>\n",
       "      <th>6503</th>\n",
       "      <td>700</td>\n",
       "      <td>Айдар</td>\n",
       "      <td>22</td>\n",
       "      <td>Омск</td>\n",
       "      <td>free</td>\n",
       "      <td>1205.91</td>\n",
       "      <td>10</td>\n",
       "      <td>2021-02-10</td>\n",
       "      <td>2</td>\n",
       "      <td>8</td>\n",
       "      <td>50</td>\n",
       "      <td>0</td>\n",
       "    </tr>\n",
       "    <tr>\n",
       "      <th>6504</th>\n",
       "      <td>700</td>\n",
       "      <td>Айдар</td>\n",
       "      <td>22</td>\n",
       "      <td>Омск</td>\n",
       "      <td>free</td>\n",
       "      <td>3047.38</td>\n",
       "      <td>18</td>\n",
       "      <td>2021-02-14</td>\n",
       "      <td>2</td>\n",
       "      <td>8</td>\n",
       "      <td>50</td>\n",
       "      <td>0</td>\n",
       "    </tr>\n",
       "  </tbody>\n",
       "</table>\n",
       "</div>"
      ],
      "text/plain": [
       "      user_id   name  age  city subscription_type  distance  duration  \\\n",
       "6500      700  Айдар   22  Омск              free   2515.69        15   \n",
       "6501      700  Айдар   22  Омск              free    846.93        17   \n",
       "6502      700  Айдар   22  Омск              free   4004.43        21   \n",
       "6503      700  Айдар   22  Омск              free   1205.91        10   \n",
       "6504      700  Айдар   22  Омск              free   3047.38        18   \n",
       "\n",
       "           date  month  minute_price  start_ride_price  subscription_fee  \n",
       "6500 2021-01-02      1             8                50                 0  \n",
       "6501 2021-02-01      2             8                50                 0  \n",
       "6502 2021-02-04      2             8                50                 0  \n",
       "6503 2021-02-10      2             8                50                 0  \n",
       "6504 2021-02-14      2             8                50                 0  "
      ]
     },
     "metadata": {},
     "output_type": "display_data"
    },
    {
     "name": "stdout",
     "output_type": "stream",
     "text": [
      "Инфомация о датафрейме\n",
      "\n",
      "<class 'pandas.core.frame.DataFrame'>\n",
      "Int64Index: 11568 entries, 6500 to 18067\n",
      "Data columns (total 12 columns):\n",
      " #   Column             Non-Null Count  Dtype         \n",
      "---  ------             --------------  -----         \n",
      " 0   user_id            11568 non-null  int64         \n",
      " 1   name               11568 non-null  object        \n",
      " 2   age                11568 non-null  int64         \n",
      " 3   city               11568 non-null  object        \n",
      " 4   subscription_type  11568 non-null  object        \n",
      " 5   distance           11568 non-null  float64       \n",
      " 6   duration           11568 non-null  int32         \n",
      " 7   date               11568 non-null  datetime64[ns]\n",
      " 8   month              11568 non-null  int64         \n",
      " 9   minute_price       11568 non-null  int64         \n",
      " 10  start_ride_price   11568 non-null  int64         \n",
      " 11  subscription_fee   11568 non-null  int64         \n",
      "dtypes: datetime64[ns](1), float64(1), int32(1), int64(6), object(3)\n",
      "memory usage: 1.1+ MB\n"
     ]
    }
   ],
   "source": [
    "data_free = total_data.query('subscription_type == \"free\"')\n",
    "print('Датафрейм с данными о пользователях без подписки')\n",
    "display(data_free.head())\n",
    "print('Инфомация о датафрейме')\n",
    "print()\n",
    "data_free.info()"
   ]
  },
  {
   "cell_type": "code",
   "execution_count": 36,
   "id": "3956fbe7",
   "metadata": {},
   "outputs": [
    {
     "name": "stdout",
     "output_type": "stream",
     "text": [
      "Датафрейм с данными о пользователях с подпиской\n"
     ]
    },
    {
     "data": {
      "text/html": [
       "<div>\n",
       "<style scoped>\n",
       "    .dataframe tbody tr th:only-of-type {\n",
       "        vertical-align: middle;\n",
       "    }\n",
       "\n",
       "    .dataframe tbody tr th {\n",
       "        vertical-align: top;\n",
       "    }\n",
       "\n",
       "    .dataframe thead th {\n",
       "        text-align: right;\n",
       "    }\n",
       "</style>\n",
       "<table border=\"1\" class=\"dataframe\">\n",
       "  <thead>\n",
       "    <tr style=\"text-align: right;\">\n",
       "      <th></th>\n",
       "      <th>user_id</th>\n",
       "      <th>name</th>\n",
       "      <th>age</th>\n",
       "      <th>city</th>\n",
       "      <th>subscription_type</th>\n",
       "      <th>distance</th>\n",
       "      <th>duration</th>\n",
       "      <th>date</th>\n",
       "      <th>month</th>\n",
       "      <th>minute_price</th>\n",
       "      <th>start_ride_price</th>\n",
       "      <th>subscription_fee</th>\n",
       "    </tr>\n",
       "  </thead>\n",
       "  <tbody>\n",
       "    <tr>\n",
       "      <th>0</th>\n",
       "      <td>1</td>\n",
       "      <td>Кира</td>\n",
       "      <td>22</td>\n",
       "      <td>Тюмень</td>\n",
       "      <td>ultra</td>\n",
       "      <td>4409.92</td>\n",
       "      <td>26</td>\n",
       "      <td>2021-01-01</td>\n",
       "      <td>1</td>\n",
       "      <td>6</td>\n",
       "      <td>0</td>\n",
       "      <td>199</td>\n",
       "    </tr>\n",
       "    <tr>\n",
       "      <th>1</th>\n",
       "      <td>1</td>\n",
       "      <td>Кира</td>\n",
       "      <td>22</td>\n",
       "      <td>Тюмень</td>\n",
       "      <td>ultra</td>\n",
       "      <td>2617.59</td>\n",
       "      <td>16</td>\n",
       "      <td>2021-01-18</td>\n",
       "      <td>1</td>\n",
       "      <td>6</td>\n",
       "      <td>0</td>\n",
       "      <td>199</td>\n",
       "    </tr>\n",
       "    <tr>\n",
       "      <th>2</th>\n",
       "      <td>1</td>\n",
       "      <td>Кира</td>\n",
       "      <td>22</td>\n",
       "      <td>Тюмень</td>\n",
       "      <td>ultra</td>\n",
       "      <td>754.16</td>\n",
       "      <td>7</td>\n",
       "      <td>2021-04-20</td>\n",
       "      <td>4</td>\n",
       "      <td>6</td>\n",
       "      <td>0</td>\n",
       "      <td>199</td>\n",
       "    </tr>\n",
       "    <tr>\n",
       "      <th>3</th>\n",
       "      <td>1</td>\n",
       "      <td>Кира</td>\n",
       "      <td>22</td>\n",
       "      <td>Тюмень</td>\n",
       "      <td>ultra</td>\n",
       "      <td>2694.78</td>\n",
       "      <td>19</td>\n",
       "      <td>2021-08-11</td>\n",
       "      <td>8</td>\n",
       "      <td>6</td>\n",
       "      <td>0</td>\n",
       "      <td>199</td>\n",
       "    </tr>\n",
       "    <tr>\n",
       "      <th>4</th>\n",
       "      <td>1</td>\n",
       "      <td>Кира</td>\n",
       "      <td>22</td>\n",
       "      <td>Тюмень</td>\n",
       "      <td>ultra</td>\n",
       "      <td>4028.69</td>\n",
       "      <td>27</td>\n",
       "      <td>2021-08-28</td>\n",
       "      <td>8</td>\n",
       "      <td>6</td>\n",
       "      <td>0</td>\n",
       "      <td>199</td>\n",
       "    </tr>\n",
       "  </tbody>\n",
       "</table>\n",
       "</div>"
      ],
      "text/plain": [
       "   user_id  name  age    city subscription_type  distance  duration  \\\n",
       "0        1  Кира   22  Тюмень             ultra   4409.92        26   \n",
       "1        1  Кира   22  Тюмень             ultra   2617.59        16   \n",
       "2        1  Кира   22  Тюмень             ultra    754.16         7   \n",
       "3        1  Кира   22  Тюмень             ultra   2694.78        19   \n",
       "4        1  Кира   22  Тюмень             ultra   4028.69        27   \n",
       "\n",
       "        date  month  minute_price  start_ride_price  subscription_fee  \n",
       "0 2021-01-01      1             6                 0               199  \n",
       "1 2021-01-18      1             6                 0               199  \n",
       "2 2021-04-20      4             6                 0               199  \n",
       "3 2021-08-11      8             6                 0               199  \n",
       "4 2021-08-28      8             6                 0               199  "
      ]
     },
     "metadata": {},
     "output_type": "display_data"
    },
    {
     "name": "stdout",
     "output_type": "stream",
     "text": [
      "Инфомация о датафрейме\n",
      "\n",
      "<class 'pandas.core.frame.DataFrame'>\n",
      "Int64Index: 6500 entries, 0 to 6499\n",
      "Data columns (total 12 columns):\n",
      " #   Column             Non-Null Count  Dtype         \n",
      "---  ------             --------------  -----         \n",
      " 0   user_id            6500 non-null   int64         \n",
      " 1   name               6500 non-null   object        \n",
      " 2   age                6500 non-null   int64         \n",
      " 3   city               6500 non-null   object        \n",
      " 4   subscription_type  6500 non-null   object        \n",
      " 5   distance           6500 non-null   float64       \n",
      " 6   duration           6500 non-null   int32         \n",
      " 7   date               6500 non-null   datetime64[ns]\n",
      " 8   month              6500 non-null   int64         \n",
      " 9   minute_price       6500 non-null   int64         \n",
      " 10  start_ride_price   6500 non-null   int64         \n",
      " 11  subscription_fee   6500 non-null   int64         \n",
      "dtypes: datetime64[ns](1), float64(1), int32(1), int64(6), object(3)\n",
      "memory usage: 634.8+ KB\n"
     ]
    }
   ],
   "source": [
    "data_ultra = total_data.query('subscription_type == \"ultra\"')\n",
    "print('Датафрейм с данными о пользователях с подпиской')\n",
    "display(data_ultra.head())\n",
    "print('Инфомация о датафрейме')\n",
    "print()\n",
    "data_ultra.info()"
   ]
  },
  {
   "cell_type": "markdown",
   "id": "a949a40d",
   "metadata": {},
   "source": [
    "Проверка разделения данных:"
   ]
  },
  {
   "cell_type": "code",
   "execution_count": 37,
   "id": "dfdeff5c",
   "metadata": {},
   "outputs": [
    {
     "name": "stdout",
     "output_type": "stream",
     "text": [
      "Разделение прошло успешно\n"
     ]
    }
   ],
   "source": [
    "if len(total_data) == len(data_ultra) + len(data_free):\n",
    "    print('Разделение прошло успешно')\n",
    "else:\n",
    "    print('Разделение прошло с ошибкой')"
   ]
  },
  {
   "cell_type": "markdown",
   "id": "aadfa27c",
   "metadata": {},
   "source": [
    "**Вывод:** созданы два датафрейма: пользователи с подпиской (data_ultra) и пользователи без подписки (data_free). Разделение прошло успешно."
   ]
  },
  {
   "cell_type": "markdown",
   "id": "185f79dc",
   "metadata": {},
   "source": [
    "#### Визуализация информации о расстоянии поездок в зависимости от наличия/отсутствия подписки"
   ]
  },
  {
   "cell_type": "code",
   "execution_count": 38,
   "id": "3bec4046",
   "metadata": {},
   "outputs": [
    {
     "name": "stdout",
     "output_type": "stream",
     "text": [
      "Характеристики расстояния поездок с подпиской Ultra\n"
     ]
    },
    {
     "data": {
      "text/plain": [
       "count    6500.000000\n",
       "mean     3115.445431\n",
       "std       836.895369\n",
       "min       244.210000\n",
       "25%      2785.447500\n",
       "50%      3148.640000\n",
       "75%      3560.577500\n",
       "max      5699.770000\n",
       "Name: distance, dtype: float64"
      ]
     },
     "execution_count": 38,
     "metadata": {},
     "output_type": "execute_result"
    }
   ],
   "source": [
    "print('Характеристики расстояния поездок с подпиской Ultra')\n",
    "data_ultra['distance'].describe()"
   ]
  },
  {
   "cell_type": "markdown",
   "id": "9f1579bb",
   "metadata": {},
   "source": [
    "**Вывод:** минимальное расстояние поездки 244 м, максимальное - 5699 м. В среднем пользователи проезжают 3155 м, медианное расстояние - 3148 м. Общее количество поездок с подпиской Ultra - 6500."
   ]
  },
  {
   "cell_type": "code",
   "execution_count": 39,
   "id": "27b0a0e7",
   "metadata": {},
   "outputs": [
    {
     "name": "stdout",
     "output_type": "stream",
     "text": [
      "Характеристики расстояния поездок без подписки (free)\n"
     ]
    },
    {
     "data": {
      "text/plain": [
       "count    11568.000000\n",
       "mean      3045.495284\n",
       "std       1246.173810\n",
       "min          0.860000\n",
       "25%       2366.560000\n",
       "50%       3114.650000\n",
       "75%       3905.695000\n",
       "max       7211.010000\n",
       "Name: distance, dtype: float64"
      ]
     },
     "execution_count": 39,
     "metadata": {},
     "output_type": "execute_result"
    }
   ],
   "source": [
    "print('Характеристики расстояния поездок без подписки (free)')\n",
    "data_free['distance'].describe()"
   ]
  },
  {
   "cell_type": "markdown",
   "id": "50fef337",
   "metadata": {},
   "source": [
    "**Вывод:** минимальное расстояние поездки 0.86 м, максимальное - 7211 м. В среднем пользователи проезжают 3045 м, медианное расстояние - 3114 м. Общее количество поездок без подписки (free) - 11568.\n",
    "\n",
    "Сравним расстояния поездок в зависимости от наличия/отсутствия подписки при помощи гистограммы:"
   ]
  },
  {
   "cell_type": "code",
   "execution_count": 40,
   "id": "64efd233",
   "metadata": {},
   "outputs": [
    {
     "data": {
      "image/png": "[encoded data removed]",
      "text/plain": [
       "<Figure size 1300x600 with 1 Axes>"
      ]
     },
     "metadata": {},
     "output_type": "display_data"
    }
   ],
   "source": [
    "plt.hist([data_ultra['distance'], data_free['distance']], bins=55, label=['free', 'ultra'])\n",
    "plt.gcf().set_size_inches(13, 6)\n",
    "plt.legend(loc='upper right')\n",
    "plt.xlabel('Расстояние (м)')\n",
    "plt.ylabel('Количество поездок')\n",
    "plt.title('Распределение поездок по их расстоянию в зависимости от наличия/отсутствия подписки')\n",
    "plt.show()"
   ]
  },
  {
   "cell_type": "markdown",
   "id": "44b90a7d",
   "metadata": {},
   "source": [
    "**Вывод:** расстояние поездок пользователей без подписки имеют более широкий разброс. В обеих категориях заметно два пика. \n",
    "\n",
    "Пользователи с подпиской Ultra: минимальное расстояние поездки 244 м, максимальное - 5699 м. В среднем пользователи проезжают 3155 м, медианное расстояние - 3148 м. Общее количество поездок - 6500.\n",
    "\n",
    "Пользователи без подписки free: минимальное расстояние поездки 0.86 м, максимальное - 7211 м. В среднем пользователи проезжают 3045 м, медианное расстояние - 3114 м. Общее количество поездок - 11568."
   ]
  },
  {
   "cell_type": "markdown",
   "id": "d02bd31c",
   "metadata": {},
   "source": [
    "#### Визуализация информации о времени поездок в зависимости от наличия/отсутствия подписки"
   ]
  },
  {
   "cell_type": "code",
   "execution_count": 41,
   "id": "b07766a9",
   "metadata": {},
   "outputs": [
    {
     "name": "stdout",
     "output_type": "stream",
     "text": [
      "Характеристики времени поездок с подпиской Ultra\n"
     ]
    },
    {
     "data": {
      "text/plain": [
       "count    6500.000000\n",
       "mean       19.037692\n",
       "std         5.577439\n",
       "min         4.000000\n",
       "25%        15.000000\n",
       "50%        19.000000\n",
       "75%        22.000000\n",
       "max        41.000000\n",
       "Name: duration, dtype: float64"
      ]
     },
     "execution_count": 41,
     "metadata": {},
     "output_type": "execute_result"
    }
   ],
   "source": [
    "print('Характеристики времени поездок с подпиской Ultra')\n",
    "data_ultra['duration'].describe()"
   ]
  },
  {
   "cell_type": "markdown",
   "id": "9a06022a",
   "metadata": {},
   "source": [
    "**Вывод:** минимальное время поездки 4 мин, максимальное - 41 мин. В среднем поездка длится 19 мин, медианное время - 19 м. Общее количество поездок с подпиской Ultra - 6500."
   ]
  },
  {
   "cell_type": "code",
   "execution_count": 42,
   "id": "032a341f",
   "metadata": {},
   "outputs": [
    {
     "name": "stdout",
     "output_type": "stream",
     "text": [
      "Характеристики времени поездок без подписки (free)\n"
     ]
    },
    {
     "data": {
      "text/plain": [
       "count    11568.000000\n",
       "mean        17.890992\n",
       "std          6.330250\n",
       "min          1.000000\n",
       "25%         13.000000\n",
       "50%         18.000000\n",
       "75%         22.000000\n",
       "max         35.000000\n",
       "Name: duration, dtype: float64"
      ]
     },
     "execution_count": 42,
     "metadata": {},
     "output_type": "execute_result"
    }
   ],
   "source": [
    "print('Характеристики времени поездок без подписки (free)')\n",
    "data_free['duration'].describe()"
   ]
  },
  {
   "cell_type": "markdown",
   "id": "701c1731",
   "metadata": {},
   "source": [
    "**Вывод:** минимальное время поездки 1 мин, максимальное - 35 мин. В среднем поездка длится почти 18 мин, медианное время - 18 мин. Общее количество поездок без подписки (free) - 11568.\n",
    "\n",
    "Сравним время поездок в зависимости от наличия/отсутствия подписки при помощи гистограммы:"
   ]
  },
  {
   "cell_type": "code",
   "execution_count": 43,
   "id": "735f0ff1",
   "metadata": {},
   "outputs": [
    {
     "data": {
      "image/png": "[encoded data removed]",
      "text/plain": [
       "<Figure size 1300x600 with 1 Axes>"
      ]
     },
     "metadata": {},
     "output_type": "display_data"
    }
   ],
   "source": [
    "plt.hist([data_ultra['duration'], data_free['duration']], bins=55, label=['free', 'ultra'])\n",
    "plt.gcf().set_size_inches(13, 6)\n",
    "plt.legend(loc='upper right')\n",
    "plt.xlabel('Время (мин)')\n",
    "plt.ylabel('Количество поездок')\n",
    "plt.title('Распределение поездок по их времни в зависимости от наличия/отсутствия подписки')\n",
    "plt.show()"
   ]
  },
  {
   "cell_type": "markdown",
   "id": "3693c378",
   "metadata": {},
   "source": [
    "**Вывод:** длительность поездок распределена практически равномерно между категориями.\n",
    "\n",
    "Пользователи с подпиской Ultra: минимальное время поездки 4 мин, максимальное - 41 мин. В среднем поездка длится 19 мин, медианное время - 19 м. Общее количество поездок - 6500.\n",
    "\n",
    "Пользователи без подписки free: минимальное время поездки 1 мин, максимальное - 35 мин. В среднем поездка длится почти 18 мин, медианное время - 18 мин. Общее количество поездок - 11568."
   ]
  },
  {
   "cell_type": "markdown",
   "id": "f25ef730",
   "metadata": {},
   "source": [
    "#### Общий вывод\n",
    "\n",
    "Объединены данные о пользователях, поездках и подписках в один датафрейм. Созданы новые два датафрейма: пользователи с подпиской и пользователи без подписки (разделение данных в зависимости от подписки).\n",
    "\n",
    "Проведен анализ пользователей сервиса на основе наличия/отсутсвия платной подписки:\n",
    "\n",
    "1. Расстояние: \n",
    "- пользователи с подпиской Ultra: минимальное расстояние поездки 244 м, максимальное - 5699 м. В среднем пользователи проезжают 3155 м, медианное расстояние - 3148 м. Общее количество поездок - 6500;\n",
    "- пользователи без подписки free: минимальное расстояние поездки 0.86 м, максимальное - 7211 м. В среднем пользователи проезжают 3045 м, медианное расстояние - 3114 м. Общее количество поездок - 11568.\n",
    "2. Длительность:\n",
    "- пользователи с подпиской Ultra: минимальное время поездки 4 мин, максимальное - 41 мин. В среднем поездка длится 19 мин, медианное время - 19 м. Общее количество поездок - 6500;\n",
    "- пользователи без подписки free: минимальное время поездки 1 мин, максимальное - 35 мин. В среднем поездка длится почти 18 мин, медианное время - 18 мин. Общее количество поездок - 11568."
   ]
  },
  {
   "cell_type": "markdown",
   "id": "c9eea975",
   "metadata": {},
   "source": [
    "### Подсчёт выручки"
   ]
  },
  {
   "cell_type": "markdown",
   "id": "e31d7329",
   "metadata": {},
   "source": [
    "#### Расчет помесячной выручки каждого пользователя"
   ]
  },
  {
   "cell_type": "markdown",
   "id": "5a4b5cfb",
   "metadata": {},
   "source": [
    "Создаем датафрейм с агрегированными данными о поездках (revenue_data) на основе датафрейма с объединенными данными (total_data), где для каждого пользователя за каждый месяц рассчитаны:\n",
    "\n",
    "- distance_count - количество поездок;\n",
    "- distance_sum - суммарное расстояние поездок;\n",
    "- duration_sum - суммарное время поездок;\n",
    "- minute_price - стоимость одной минуты поездке в зависимости от подписки;\n",
    "- start_ride_price - стоимость начала поездки;\n",
    "- subscription_fee - стоимость ежемесячного платежа."
   ]
  },
  {
   "cell_type": "code",
   "execution_count": 44,
   "id": "9e68aad4",
   "metadata": {},
   "outputs": [
    {
     "data": {
      "text/html": [
       "<div>\n",
       "<style scoped>\n",
       "    .dataframe tbody tr th:only-of-type {\n",
       "        vertical-align: middle;\n",
       "    }\n",
       "\n",
       "    .dataframe tbody tr th {\n",
       "        vertical-align: top;\n",
       "    }\n",
       "\n",
       "    .dataframe thead th {\n",
       "        text-align: right;\n",
       "    }\n",
       "</style>\n",
       "<table border=\"1\" class=\"dataframe\">\n",
       "  <thead>\n",
       "    <tr style=\"text-align: right;\">\n",
       "      <th></th>\n",
       "      <th></th>\n",
       "      <th>distance_count</th>\n",
       "      <th>distance_sum</th>\n",
       "      <th>duration_sum</th>\n",
       "      <th>minute_price</th>\n",
       "      <th>start_ride_price</th>\n",
       "      <th>subscription_fee</th>\n",
       "    </tr>\n",
       "    <tr>\n",
       "      <th>user_id</th>\n",
       "      <th>month</th>\n",
       "      <th></th>\n",
       "      <th></th>\n",
       "      <th></th>\n",
       "      <th></th>\n",
       "      <th></th>\n",
       "      <th></th>\n",
       "    </tr>\n",
       "  </thead>\n",
       "  <tbody>\n",
       "    <tr>\n",
       "      <th rowspan=\"6\" valign=\"top\">1</th>\n",
       "      <th>1</th>\n",
       "      <td>2</td>\n",
       "      <td>7027.51</td>\n",
       "      <td>42</td>\n",
       "      <td>6</td>\n",
       "      <td>0</td>\n",
       "      <td>199</td>\n",
       "    </tr>\n",
       "    <tr>\n",
       "      <th>4</th>\n",
       "      <td>1</td>\n",
       "      <td>754.16</td>\n",
       "      <td>7</td>\n",
       "      <td>6</td>\n",
       "      <td>0</td>\n",
       "      <td>199</td>\n",
       "    </tr>\n",
       "    <tr>\n",
       "      <th>8</th>\n",
       "      <td>2</td>\n",
       "      <td>6723.47</td>\n",
       "      <td>46</td>\n",
       "      <td>6</td>\n",
       "      <td>0</td>\n",
       "      <td>199</td>\n",
       "    </tr>\n",
       "    <tr>\n",
       "      <th>10</th>\n",
       "      <td>2</td>\n",
       "      <td>5809.91</td>\n",
       "      <td>32</td>\n",
       "      <td>6</td>\n",
       "      <td>0</td>\n",
       "      <td>199</td>\n",
       "    </tr>\n",
       "    <tr>\n",
       "      <th>11</th>\n",
       "      <td>3</td>\n",
       "      <td>7003.50</td>\n",
       "      <td>56</td>\n",
       "      <td>6</td>\n",
       "      <td>0</td>\n",
       "      <td>199</td>\n",
       "    </tr>\n",
       "    <tr>\n",
       "      <th>12</th>\n",
       "      <td>2</td>\n",
       "      <td>6751.63</td>\n",
       "      <td>28</td>\n",
       "      <td>6</td>\n",
       "      <td>0</td>\n",
       "      <td>199</td>\n",
       "    </tr>\n",
       "    <tr>\n",
       "      <th rowspan=\"7\" valign=\"top\">2</th>\n",
       "      <th>3</th>\n",
       "      <td>3</td>\n",
       "      <td>10187.73</td>\n",
       "      <td>63</td>\n",
       "      <td>6</td>\n",
       "      <td>0</td>\n",
       "      <td>199</td>\n",
       "    </tr>\n",
       "    <tr>\n",
       "      <th>4</th>\n",
       "      <td>2</td>\n",
       "      <td>6164.39</td>\n",
       "      <td>40</td>\n",
       "      <td>6</td>\n",
       "      <td>0</td>\n",
       "      <td>199</td>\n",
       "    </tr>\n",
       "    <tr>\n",
       "      <th>6</th>\n",
       "      <td>1</td>\n",
       "      <td>3255.34</td>\n",
       "      <td>14</td>\n",
       "      <td>6</td>\n",
       "      <td>0</td>\n",
       "      <td>199</td>\n",
       "    </tr>\n",
       "    <tr>\n",
       "      <th>7</th>\n",
       "      <td>2</td>\n",
       "      <td>6780.73</td>\n",
       "      <td>48</td>\n",
       "      <td>6</td>\n",
       "      <td>0</td>\n",
       "      <td>199</td>\n",
       "    </tr>\n",
       "    <tr>\n",
       "      <th>8</th>\n",
       "      <td>1</td>\n",
       "      <td>923.01</td>\n",
       "      <td>7</td>\n",
       "      <td>6</td>\n",
       "      <td>0</td>\n",
       "      <td>199</td>\n",
       "    </tr>\n",
       "    <tr>\n",
       "      <th>10</th>\n",
       "      <td>1</td>\n",
       "      <td>2824.64</td>\n",
       "      <td>19</td>\n",
       "      <td>6</td>\n",
       "      <td>0</td>\n",
       "      <td>199</td>\n",
       "    </tr>\n",
       "    <tr>\n",
       "      <th>12</th>\n",
       "      <td>1</td>\n",
       "      <td>3828.25</td>\n",
       "      <td>12</td>\n",
       "      <td>6</td>\n",
       "      <td>0</td>\n",
       "      <td>199</td>\n",
       "    </tr>\n",
       "    <tr>\n",
       "      <th rowspan=\"2\" valign=\"top\">3</th>\n",
       "      <th>1</th>\n",
       "      <td>1</td>\n",
       "      <td>3061.78</td>\n",
       "      <td>13</td>\n",
       "      <td>6</td>\n",
       "      <td>0</td>\n",
       "      <td>199</td>\n",
       "    </tr>\n",
       "    <tr>\n",
       "      <th>2</th>\n",
       "      <td>2</td>\n",
       "      <td>5421.16</td>\n",
       "      <td>39</td>\n",
       "      <td>6</td>\n",
       "      <td>0</td>\n",
       "      <td>199</td>\n",
       "    </tr>\n",
       "  </tbody>\n",
       "</table>\n",
       "</div>"
      ],
      "text/plain": [
       "               distance_count  distance_sum  duration_sum  minute_price  \\\n",
       "user_id month                                                             \n",
       "1       1                   2       7027.51            42             6   \n",
       "        4                   1        754.16             7             6   \n",
       "        8                   2       6723.47            46             6   \n",
       "        10                  2       5809.91            32             6   \n",
       "        11                  3       7003.50            56             6   \n",
       "        12                  2       6751.63            28             6   \n",
       "2       3                   3      10187.73            63             6   \n",
       "        4                   2       6164.39            40             6   \n",
       "        6                   1       3255.34            14             6   \n",
       "        7                   2       6780.73            48             6   \n",
       "        8                   1        923.01             7             6   \n",
       "        10                  1       2824.64            19             6   \n",
       "        12                  1       3828.25            12             6   \n",
       "3       1                   1       3061.78            13             6   \n",
       "        2                   2       5421.16            39             6   \n",
       "\n",
       "               start_ride_price  subscription_fee  \n",
       "user_id month                                      \n",
       "1       1                     0               199  \n",
       "        4                     0               199  \n",
       "        8                     0               199  \n",
       "        10                    0               199  \n",
       "        11                    0               199  \n",
       "        12                    0               199  \n",
       "2       3                     0               199  \n",
       "        4                     0               199  \n",
       "        6                     0               199  \n",
       "        7                     0               199  \n",
       "        8                     0               199  \n",
       "        10                    0               199  \n",
       "        12                    0               199  \n",
       "3       1                     0               199  \n",
       "        2                     0               199  "
      ]
     },
     "execution_count": 44,
     "metadata": {},
     "output_type": "execute_result"
    }
   ],
   "source": [
    "revenue_data = total_data.pivot_table(index=('user_id', 'month'), \n",
    "                                 values=('distance', 'duration', 'minute_price', 'start_ride_price', 'subscription_fee'), \n",
    "                                 aggfunc=({'distance':{'count', 'sum'}, 'duration':'sum', 'minute_price': 'mean',\n",
    "                                           'start_ride_price':'mean','subscription_fee':'mean',}))\n",
    "\n",
    "revenue_data.columns = ['distance_count', 'distance_sum', 'duration_sum', 'minute_price', \n",
    "                   'start_ride_price', 'subscription_fee']\n",
    "revenue_data.head(15)"
   ]
  },
  {
   "cell_type": "markdown",
   "id": "48cf726c",
   "metadata": {},
   "source": [
    "Посчитаем помесячную выручку, которую принес каждый пользователь сервису, результат добавим в датафрейм в столбец 'revenue_month':"
   ]
  },
  {
   "cell_type": "code",
   "execution_count": 45,
   "id": "4b07a4ae",
   "metadata": {},
   "outputs": [
    {
     "data": {
      "text/html": [
       "<div>\n",
       "<style scoped>\n",
       "    .dataframe tbody tr th:only-of-type {\n",
       "        vertical-align: middle;\n",
       "    }\n",
       "\n",
       "    .dataframe tbody tr th {\n",
       "        vertical-align: top;\n",
       "    }\n",
       "\n",
       "    .dataframe thead th {\n",
       "        text-align: right;\n",
       "    }\n",
       "</style>\n",
       "<table border=\"1\" class=\"dataframe\">\n",
       "  <thead>\n",
       "    <tr style=\"text-align: right;\">\n",
       "      <th></th>\n",
       "      <th></th>\n",
       "      <th>distance_count</th>\n",
       "      <th>distance_sum</th>\n",
       "      <th>duration_sum</th>\n",
       "      <th>minute_price</th>\n",
       "      <th>start_ride_price</th>\n",
       "      <th>subscription_fee</th>\n",
       "      <th>revenue_month</th>\n",
       "    </tr>\n",
       "    <tr>\n",
       "      <th>user_id</th>\n",
       "      <th>month</th>\n",
       "      <th></th>\n",
       "      <th></th>\n",
       "      <th></th>\n",
       "      <th></th>\n",
       "      <th></th>\n",
       "      <th></th>\n",
       "      <th></th>\n",
       "    </tr>\n",
       "  </thead>\n",
       "  <tbody>\n",
       "    <tr>\n",
       "      <th rowspan=\"6\" valign=\"top\">1</th>\n",
       "      <th>1</th>\n",
       "      <td>2</td>\n",
       "      <td>7027.51</td>\n",
       "      <td>42</td>\n",
       "      <td>6</td>\n",
       "      <td>0</td>\n",
       "      <td>199</td>\n",
       "      <td>451</td>\n",
       "    </tr>\n",
       "    <tr>\n",
       "      <th>4</th>\n",
       "      <td>1</td>\n",
       "      <td>754.16</td>\n",
       "      <td>7</td>\n",
       "      <td>6</td>\n",
       "      <td>0</td>\n",
       "      <td>199</td>\n",
       "      <td>241</td>\n",
       "    </tr>\n",
       "    <tr>\n",
       "      <th>8</th>\n",
       "      <td>2</td>\n",
       "      <td>6723.47</td>\n",
       "      <td>46</td>\n",
       "      <td>6</td>\n",
       "      <td>0</td>\n",
       "      <td>199</td>\n",
       "      <td>475</td>\n",
       "    </tr>\n",
       "    <tr>\n",
       "      <th>10</th>\n",
       "      <td>2</td>\n",
       "      <td>5809.91</td>\n",
       "      <td>32</td>\n",
       "      <td>6</td>\n",
       "      <td>0</td>\n",
       "      <td>199</td>\n",
       "      <td>391</td>\n",
       "    </tr>\n",
       "    <tr>\n",
       "      <th>11</th>\n",
       "      <td>3</td>\n",
       "      <td>7003.50</td>\n",
       "      <td>56</td>\n",
       "      <td>6</td>\n",
       "      <td>0</td>\n",
       "      <td>199</td>\n",
       "      <td>535</td>\n",
       "    </tr>\n",
       "    <tr>\n",
       "      <th>12</th>\n",
       "      <td>2</td>\n",
       "      <td>6751.63</td>\n",
       "      <td>28</td>\n",
       "      <td>6</td>\n",
       "      <td>0</td>\n",
       "      <td>199</td>\n",
       "      <td>367</td>\n",
       "    </tr>\n",
       "    <tr>\n",
       "      <th rowspan=\"4\" valign=\"top\">2</th>\n",
       "      <th>3</th>\n",
       "      <td>3</td>\n",
       "      <td>10187.73</td>\n",
       "      <td>63</td>\n",
       "      <td>6</td>\n",
       "      <td>0</td>\n",
       "      <td>199</td>\n",
       "      <td>577</td>\n",
       "    </tr>\n",
       "    <tr>\n",
       "      <th>4</th>\n",
       "      <td>2</td>\n",
       "      <td>6164.39</td>\n",
       "      <td>40</td>\n",
       "      <td>6</td>\n",
       "      <td>0</td>\n",
       "      <td>199</td>\n",
       "      <td>439</td>\n",
       "    </tr>\n",
       "    <tr>\n",
       "      <th>6</th>\n",
       "      <td>1</td>\n",
       "      <td>3255.34</td>\n",
       "      <td>14</td>\n",
       "      <td>6</td>\n",
       "      <td>0</td>\n",
       "      <td>199</td>\n",
       "      <td>283</td>\n",
       "    </tr>\n",
       "    <tr>\n",
       "      <th>7</th>\n",
       "      <td>2</td>\n",
       "      <td>6780.73</td>\n",
       "      <td>48</td>\n",
       "      <td>6</td>\n",
       "      <td>0</td>\n",
       "      <td>199</td>\n",
       "      <td>487</td>\n",
       "    </tr>\n",
       "  </tbody>\n",
       "</table>\n",
       "</div>"
      ],
      "text/plain": [
       "               distance_count  distance_sum  duration_sum  minute_price  \\\n",
       "user_id month                                                             \n",
       "1       1                   2       7027.51            42             6   \n",
       "        4                   1        754.16             7             6   \n",
       "        8                   2       6723.47            46             6   \n",
       "        10                  2       5809.91            32             6   \n",
       "        11                  3       7003.50            56             6   \n",
       "        12                  2       6751.63            28             6   \n",
       "2       3                   3      10187.73            63             6   \n",
       "        4                   2       6164.39            40             6   \n",
       "        6                   1       3255.34            14             6   \n",
       "        7                   2       6780.73            48             6   \n",
       "\n",
       "               start_ride_price  subscription_fee  revenue_month  \n",
       "user_id month                                                     \n",
       "1       1                     0               199            451  \n",
       "        4                     0               199            241  \n",
       "        8                     0               199            475  \n",
       "        10                    0               199            391  \n",
       "        11                    0               199            535  \n",
       "        12                    0               199            367  \n",
       "2       3                     0               199            577  \n",
       "        4                     0               199            439  \n",
       "        6                     0               199            283  \n",
       "        7                     0               199            487  "
      ]
     },
     "execution_count": 45,
     "metadata": {},
     "output_type": "execute_result"
    }
   ],
   "source": [
    "revenue_data['revenue_month'] = ((revenue_data['start_ride_price'] * revenue_data['distance_count']) + \n",
    "                                 (revenue_data['minute_price'] * revenue_data['duration_sum']) + \n",
    "                                 revenue_data['subscription_fee'])\n",
    "revenue_data.head(10)"
   ]
  },
  {
   "cell_type": "code",
   "execution_count": 46,
   "id": "67873030",
   "metadata": {},
   "outputs": [
    {
     "name": "stdout",
     "output_type": "stream",
     "text": [
      "Характеристики пользователей без подписки\n"
     ]
    },
    {
     "data": {
      "text/html": [
       "<div>\n",
       "<style scoped>\n",
       "    .dataframe tbody tr th:only-of-type {\n",
       "        vertical-align: middle;\n",
       "    }\n",
       "\n",
       "    .dataframe tbody tr th {\n",
       "        vertical-align: top;\n",
       "    }\n",
       "\n",
       "    .dataframe thead th {\n",
       "        text-align: right;\n",
       "    }\n",
       "</style>\n",
       "<table border=\"1\" class=\"dataframe\">\n",
       "  <thead>\n",
       "    <tr style=\"text-align: right;\">\n",
       "      <th></th>\n",
       "      <th>distance_count</th>\n",
       "      <th>distance_sum</th>\n",
       "      <th>duration_sum</th>\n",
       "      <th>minute_price</th>\n",
       "      <th>start_ride_price</th>\n",
       "      <th>subscription_fee</th>\n",
       "      <th>revenue_month</th>\n",
       "    </tr>\n",
       "  </thead>\n",
       "  <tbody>\n",
       "    <tr>\n",
       "      <th>count</th>\n",
       "      <td>6798.000000</td>\n",
       "      <td>6798.000000</td>\n",
       "      <td>6798.000000</td>\n",
       "      <td>6798.0</td>\n",
       "      <td>6798.0</td>\n",
       "      <td>6798.0</td>\n",
       "      <td>6798.000000</td>\n",
       "    </tr>\n",
       "    <tr>\n",
       "      <th>mean</th>\n",
       "      <td>1.701677</td>\n",
       "      <td>5182.449167</td>\n",
       "      <td>30.444690</td>\n",
       "      <td>8.0</td>\n",
       "      <td>50.0</td>\n",
       "      <td>0.0</td>\n",
       "      <td>328.641365</td>\n",
       "    </tr>\n",
       "    <tr>\n",
       "      <th>std</th>\n",
       "      <td>0.894871</td>\n",
       "      <td>3198.989398</td>\n",
       "      <td>17.876362</td>\n",
       "      <td>0.0</td>\n",
       "      <td>0.0</td>\n",
       "      <td>0.0</td>\n",
       "      <td>183.868330</td>\n",
       "    </tr>\n",
       "    <tr>\n",
       "      <th>min</th>\n",
       "      <td>1.000000</td>\n",
       "      <td>2.570000</td>\n",
       "      <td>1.000000</td>\n",
       "      <td>8.0</td>\n",
       "      <td>50.0</td>\n",
       "      <td>0.0</td>\n",
       "      <td>58.000000</td>\n",
       "    </tr>\n",
       "    <tr>\n",
       "      <th>25%</th>\n",
       "      <td>1.000000</td>\n",
       "      <td>2952.362500</td>\n",
       "      <td>18.000000</td>\n",
       "      <td>8.0</td>\n",
       "      <td>50.0</td>\n",
       "      <td>0.0</td>\n",
       "      <td>194.000000</td>\n",
       "    </tr>\n",
       "    <tr>\n",
       "      <th>50%</th>\n",
       "      <td>1.000000</td>\n",
       "      <td>4324.635000</td>\n",
       "      <td>26.000000</td>\n",
       "      <td>8.0</td>\n",
       "      <td>50.0</td>\n",
       "      <td>0.0</td>\n",
       "      <td>274.000000</td>\n",
       "    </tr>\n",
       "    <tr>\n",
       "      <th>75%</th>\n",
       "      <td>2.000000</td>\n",
       "      <td>6861.657500</td>\n",
       "      <td>40.000000</td>\n",
       "      <td>8.0</td>\n",
       "      <td>50.0</td>\n",
       "      <td>0.0</td>\n",
       "      <td>428.000000</td>\n",
       "    </tr>\n",
       "    <tr>\n",
       "      <th>max</th>\n",
       "      <td>7.000000</td>\n",
       "      <td>23429.490000</td>\n",
       "      <td>143.000000</td>\n",
       "      <td>8.0</td>\n",
       "      <td>50.0</td>\n",
       "      <td>0.0</td>\n",
       "      <td>1444.000000</td>\n",
       "    </tr>\n",
       "  </tbody>\n",
       "</table>\n",
       "</div>"
      ],
      "text/plain": [
       "       distance_count  distance_sum  duration_sum  minute_price  \\\n",
       "count     6798.000000   6798.000000   6798.000000        6798.0   \n",
       "mean         1.701677   5182.449167     30.444690           8.0   \n",
       "std          0.894871   3198.989398     17.876362           0.0   \n",
       "min          1.000000      2.570000      1.000000           8.0   \n",
       "25%          1.000000   2952.362500     18.000000           8.0   \n",
       "50%          1.000000   4324.635000     26.000000           8.0   \n",
       "75%          2.000000   6861.657500     40.000000           8.0   \n",
       "max          7.000000  23429.490000    143.000000           8.0   \n",
       "\n",
       "       start_ride_price  subscription_fee  revenue_month  \n",
       "count            6798.0            6798.0    6798.000000  \n",
       "mean               50.0               0.0     328.641365  \n",
       "std                 0.0               0.0     183.868330  \n",
       "min                50.0               0.0      58.000000  \n",
       "25%                50.0               0.0     194.000000  \n",
       "50%                50.0               0.0     274.000000  \n",
       "75%                50.0               0.0     428.000000  \n",
       "max                50.0               0.0    1444.000000  "
      ]
     },
     "metadata": {},
     "output_type": "display_data"
    },
    {
     "name": "stdout",
     "output_type": "stream",
     "text": [
      "Характеристики пользователей с подпиской\n"
     ]
    },
    {
     "data": {
      "text/html": [
       "<div>\n",
       "<style scoped>\n",
       "    .dataframe tbody tr th:only-of-type {\n",
       "        vertical-align: middle;\n",
       "    }\n",
       "\n",
       "    .dataframe tbody tr th {\n",
       "        vertical-align: top;\n",
       "    }\n",
       "\n",
       "    .dataframe thead th {\n",
       "        text-align: right;\n",
       "    }\n",
       "</style>\n",
       "<table border=\"1\" class=\"dataframe\">\n",
       "  <thead>\n",
       "    <tr style=\"text-align: right;\">\n",
       "      <th></th>\n",
       "      <th>distance_count</th>\n",
       "      <th>distance_sum</th>\n",
       "      <th>duration_sum</th>\n",
       "      <th>minute_price</th>\n",
       "      <th>start_ride_price</th>\n",
       "      <th>subscription_fee</th>\n",
       "      <th>revenue_month</th>\n",
       "    </tr>\n",
       "  </thead>\n",
       "  <tbody>\n",
       "    <tr>\n",
       "      <th>count</th>\n",
       "      <td>4533.000000</td>\n",
       "      <td>4533.000000</td>\n",
       "      <td>4533.000000</td>\n",
       "      <td>4533.0</td>\n",
       "      <td>4533.0</td>\n",
       "      <td>4533.0</td>\n",
       "      <td>4533.000000</td>\n",
       "    </tr>\n",
       "    <tr>\n",
       "      <th>mean</th>\n",
       "      <td>1.433929</td>\n",
       "      <td>4467.327443</td>\n",
       "      <td>27.298698</td>\n",
       "      <td>6.0</td>\n",
       "      <td>0.0</td>\n",
       "      <td>199.0</td>\n",
       "      <td>362.792191</td>\n",
       "    </tr>\n",
       "    <tr>\n",
       "      <th>std</th>\n",
       "      <td>0.696331</td>\n",
       "      <td>2353.168364</td>\n",
       "      <td>14.710456</td>\n",
       "      <td>0.0</td>\n",
       "      <td>0.0</td>\n",
       "      <td>0.0</td>\n",
       "      <td>88.262737</td>\n",
       "    </tr>\n",
       "    <tr>\n",
       "      <th>min</th>\n",
       "      <td>1.000000</td>\n",
       "      <td>244.210000</td>\n",
       "      <td>4.000000</td>\n",
       "      <td>6.0</td>\n",
       "      <td>0.0</td>\n",
       "      <td>199.0</td>\n",
       "      <td>223.000000</td>\n",
       "    </tr>\n",
       "    <tr>\n",
       "      <th>25%</th>\n",
       "      <td>1.000000</td>\n",
       "      <td>2981.760000</td>\n",
       "      <td>17.000000</td>\n",
       "      <td>6.0</td>\n",
       "      <td>0.0</td>\n",
       "      <td>199.0</td>\n",
       "      <td>301.000000</td>\n",
       "    </tr>\n",
       "    <tr>\n",
       "      <th>50%</th>\n",
       "      <td>1.000000</td>\n",
       "      <td>3572.520000</td>\n",
       "      <td>23.000000</td>\n",
       "      <td>6.0</td>\n",
       "      <td>0.0</td>\n",
       "      <td>199.0</td>\n",
       "      <td>337.000000</td>\n",
       "    </tr>\n",
       "    <tr>\n",
       "      <th>75%</th>\n",
       "      <td>2.000000</td>\n",
       "      <td>5883.370000</td>\n",
       "      <td>35.000000</td>\n",
       "      <td>6.0</td>\n",
       "      <td>0.0</td>\n",
       "      <td>199.0</td>\n",
       "      <td>409.000000</td>\n",
       "    </tr>\n",
       "    <tr>\n",
       "      <th>max</th>\n",
       "      <td>6.000000</td>\n",
       "      <td>20009.710000</td>\n",
       "      <td>126.000000</td>\n",
       "      <td>6.0</td>\n",
       "      <td>0.0</td>\n",
       "      <td>199.0</td>\n",
       "      <td>955.000000</td>\n",
       "    </tr>\n",
       "  </tbody>\n",
       "</table>\n",
       "</div>"
      ],
      "text/plain": [
       "       distance_count  distance_sum  duration_sum  minute_price  \\\n",
       "count     4533.000000   4533.000000   4533.000000        4533.0   \n",
       "mean         1.433929   4467.327443     27.298698           6.0   \n",
       "std          0.696331   2353.168364     14.710456           0.0   \n",
       "min          1.000000    244.210000      4.000000           6.0   \n",
       "25%          1.000000   2981.760000     17.000000           6.0   \n",
       "50%          1.000000   3572.520000     23.000000           6.0   \n",
       "75%          2.000000   5883.370000     35.000000           6.0   \n",
       "max          6.000000  20009.710000    126.000000           6.0   \n",
       "\n",
       "       start_ride_price  subscription_fee  revenue_month  \n",
       "count            4533.0            4533.0    4533.000000  \n",
       "mean                0.0             199.0     362.792191  \n",
       "std                 0.0               0.0      88.262737  \n",
       "min                 0.0             199.0     223.000000  \n",
       "25%                 0.0             199.0     301.000000  \n",
       "50%                 0.0             199.0     337.000000  \n",
       "75%                 0.0             199.0     409.000000  \n",
       "max                 0.0             199.0     955.000000  "
      ]
     },
     "metadata": {},
     "output_type": "display_data"
    }
   ],
   "source": [
    "print('Характеристики пользователей без подписки')\n",
    "display(revenue_data.query('subscription_fee == 0').describe())\n",
    "print('Характеристики пользователей с подпиской')\n",
    "display(revenue_data.query('subscription_fee > 0').describe())"
   ]
  },
  {
   "cell_type": "markdown",
   "id": "64bb2646",
   "metadata": {},
   "source": [
    "**Вывод:** \n",
    "\n",
    "Пользователи с подпиской: минимальный чек - 223 руб, средний - 363 руб, медиана - 337 руб, максимальный - 955 руб.\n",
    "\n",
    "Пользователи без подписки: минимальный чек - 58 руб, средний - 328 руб, медиана - 274 руб, максимальный - 1444 руб.\n",
    "\n",
    "Пользователи с подпиской выгодней для сервиса, чем пользователи без подписки."
   ]
  },
  {
   "cell_type": "markdown",
   "id": "4f727584",
   "metadata": {},
   "source": [
    "#### Общий вывод\n",
    "\n",
    "Создан датафрейм с агрегированными данными о поездках. Рассчитана помесячная выручка, которую принес каждый пользователь сервису. Пользователи с подпиской оказались выгодней для сервиса, они приносят большую выручку, чем пользователи без подписки."
   ]
  },
  {
   "cell_type": "markdown",
   "id": "3e43666e",
   "metadata": {},
   "source": [
    "### Проверка гипотез"
   ]
  },
  {
   "cell_type": "markdown",
   "id": "13de379e",
   "metadata": {},
   "source": [
    "Продакт-менеджеры сервиса хотят увеличить количество пользователей с подпиской. Для этого они будут проводить различные акции, но сначала нужно выяснить:\n",
    "\n",
    "- тратят ли пользователи с подпиской больше времени на поездки? Если да, то пользователи с подпиской могут быть «выгоднее» для компании;\n",
    "- расстояние одной поездки в 3130 метров — оптимальное с точки зрения износа самоката. Можно ли сказать, что среднее расстояние, которое проезжают пользователи с подпиской за одну поездку, не превышает 3130 метров?;\n",
    "- будет ли помесячная выручка от пользователей с подпиской по месяцам выше, чем выручка от пользователей без подписки?."
   ]
  },
  {
   "cell_type": "markdown",
   "id": "d937aec2",
   "metadata": {},
   "source": [
    "#### Гипотеза 1. Пользователи с подпиской тратят больше времени на поездки, чем пользователи без подписки."
   ]
  },
  {
   "cell_type": "markdown",
   "id": "ad4bec03",
   "metadata": {},
   "source": [
    "Важно понять, тратят ли пользователи с подпиской больше времени на поездки, чем пользователи без подписки? Если да, то пользователи с подпиской могут быть «выгоднее» для компании. Проверим эту гипотезу. \n",
    "\n",
    "**Нулевая гипотеза Н0:** среднее время продолжительности поездки пользователей с подпиской (Ultra) равно среднему времени продолжительности поездки пользователей без подписки (free);\n",
    "\n",
    "**Альтернативная гипотеза Н1:** среднее время продолжительности поездки пользователей с подпиской (Ultra) больше среднего времени продолжительности поездки пользователей без подписки (free)."
   ]
  },
  {
   "cell_type": "code",
   "execution_count": 47,
   "id": "1f226965",
   "metadata": {},
   "outputs": [
    {
     "name": "stdout",
     "output_type": "stream",
     "text": [
      "p-value: 2.495945372073663e-34\n",
      "Отвергаем нулевую гипотезу\n"
     ]
    }
   ],
   "source": [
    "# data_free['duration'] - время продолжительности поездок пользователей без подписки\n",
    "# data_ultra['duration'] - время продолжительности поездок пользователей с подпиской\n",
    "\n",
    "alpha = 0.05 # обозначим уровень значимости 5%\n",
    "\n",
    "results = st.ttest_ind(data_ultra['duration'], data_free['duration'], alternative='greater')\n",
    "\n",
    "print(f'p-value: {results.pvalue}')\n",
    "\n",
    "if results.pvalue < alpha:\n",
    "    print('Отвергаем нулевую гипотезу')\n",
    "else:\n",
    "    print('Нет оснований отвергать нулевую гипотезу')"
   ]
  },
  {
   "cell_type": "markdown",
   "id": "fd34668b",
   "metadata": {},
   "source": [
    "**Вывод:** Нулевая гипотеза отвергнута в пользу альтернативной. Следовательно, делаем вывод, что пользователи с подпиской тратят больше времени на поездки, чем пользователи без подписки. Таким образом, пользователи с подпиской для сервиса выгодней. Уровень значимости обозначен в 5%."
   ]
  },
  {
   "cell_type": "markdown",
   "id": "8061f624",
   "metadata": {},
   "source": [
    "#### Гипотеза 2. Расстояние, которое проезжают пользователи с подпиской за одну поездку, не превышает 3130 м."
   ]
  },
  {
   "cell_type": "markdown",
   "id": "e936fb72",
   "metadata": {},
   "source": [
    "Расстояние одной поездки в 3130 метров — оптимальное с точки зрения износа самоката. Можно ли сказать, что среднее расстояние, которое проезжают пользователи с подпиской за одну поездку, не превышает 3130 метров? Проверим гипотезу.\n",
    "\n",
    "**Нулевая гипотеза Н0:** среднее расстояние, которое проезжают пользователи с подпиской (Ultra) за одну поездку равно оптимальному расстоянию с точки зрения износа самоката;\n",
    "\n",
    "**Альтернативная гипотеза Н1:** среднее расстояние, которое проезжают пользователи с подпиской (Ultra) за одну поездку больше оптимального расстояния с точки зрения износа самоката."
   ]
  },
  {
   "cell_type": "code",
   "execution_count": 48,
   "id": "57fe88b9",
   "metadata": {},
   "outputs": [
    {
     "name": "stdout",
     "output_type": "stream",
     "text": [
      "p-value: 0.9195362605842414\n",
      "Нет оснований отвергать нулевую гипотезу\n"
     ]
    }
   ],
   "source": [
    "# data_ultra['distance'] - продолжительность поездок пользователей с подпиской\n",
    "\n",
    "optimal_distance = 3130\n",
    "\n",
    "alpha = 0.05\n",
    "\n",
    "results = st.ttest_1samp(data_ultra['distance'], optimal_distance, alternative='greater')\n",
    "\n",
    "print(f'p-value: {results.pvalue}')\n",
    "\n",
    "if results.pvalue < alpha:\n",
    "    print('Отвергаем нулевую гипотезу')\n",
    "else:\n",
    "    print('Нет оснований отвергать нулевую гипотезу')"
   ]
  },
  {
   "cell_type": "markdown",
   "id": "7960da43",
   "metadata": {},
   "source": [
    "**Вывод:** Нет оснований отвергать нулевую гипотезу в пользу альтернативной. Следовательно, делаем вывод, что пользователи с подпиской проезжают расстояние, не превышающее оптимальное 3130 метров. Уровень значимости обозначен в 5%."
   ]
  },
  {
   "cell_type": "markdown",
   "id": "6e49c4c3",
   "metadata": {},
   "source": [
    "#### Гипотеза 3. Помесячная выручка от пользователей с подпиской по месяцам выше, чем выручка от пользователей без подписки"
   ]
  },
  {
   "cell_type": "markdown",
   "id": "8670e25b",
   "metadata": {},
   "source": [
    "Проверим гипотезу о том, что помесячная выручка от пользователей с подпиской по месяцам выше, чем выручка от пользователей без подписки.\n",
    "\n",
    "**Нулевая гипотеза Н0:** помесячная выручка от пользователей с подпиской (Ultra) по месяцам равна помесячной выручке от пользователей без подписки (free);\n",
    "\n",
    "**Альтернативная гипотеза Н1:** помесячная выручка от пользователей с подпиской (Ultra) по месяцам больше помесячной выручки от пользователей без подписки (free)."
   ]
  },
  {
   "cell_type": "code",
   "execution_count": 49,
   "id": "af5b9caa",
   "metadata": {},
   "outputs": [
    {
     "name": "stdout",
     "output_type": "stream",
     "text": [
      "p-value: 1.8850394384715216e-31\n",
      "Отвергаем нулевую гипотезу\n"
     ]
    }
   ],
   "source": [
    "# revenue_data['subscription_fee'] > 0 - пользователи с подпиской (ежемесячная абонентская плата есть)\n",
    "# revenue_data['subscription_fee'] == 0 - пользователи без подписки (ежемесячной абонентской платы нет)\n",
    "\n",
    "alpha = 0.05 # обозначим уровень значимости 5%\n",
    "\n",
    "results = st.ttest_ind(revenue_data.loc[revenue_data['subscription_fee'] > 0, 'revenue_month'], \n",
    "                       revenue_data.loc[revenue_data['subscription_fee'] == 0, 'revenue_month'], \n",
    "                       alternative='greater')\n",
    "\n",
    "print(f'p-value: {results.pvalue}')\n",
    "\n",
    "if results.pvalue < alpha:\n",
    "    print('Отвергаем нулевую гипотезу')\n",
    "else:\n",
    "    print('Нет оснований отвергать нулевую гипотезу')"
   ]
  },
  {
   "cell_type": "markdown",
   "id": "cf7575c5",
   "metadata": {},
   "source": [
    "**Вывод:** Нулевая гипотеза отвергнута в пользу альтернативной. Следовательно, делаем вывод, что помесячная выручка от пользователей с подпиской больше, чем выручка от пользователей без подписки. Таким образом, пользователи с подпиской для сервиса выгодней. Уровень значимости обозначен в 5%."
   ]
  },
  {
   "cell_type": "markdown",
   "id": "a3bd1bd2",
   "metadata": {},
   "source": [
    "#### Анализ ситуации и вариант проверки гипотезы"
   ]
  },
  {
   "cell_type": "markdown",
   "id": "6fb816da",
   "metadata": {},
   "source": [
    "**Ситуация:** техническая команда сервиса обновила сервера, с которыми взаимодействует мобильное приложение. Она надеется, что из-за этого количество обращений в техподдержку значимо снизилось. Некоторый файл содержит для каждого пользователя данные о количестве обращений до обновления и после него. Какой тест понадобился бы для проверки этой гипотезы?\n",
    "\n",
    "**Вариант проверки гипотезы:** данные о количестве обращений до обновления и после него - это две зависимые (парные) выборки, проверяется гипотеза о равенстве среднего значения генеральной совокупности до и после изменений. Главное условие - одинаковый размер выборок до и после. \n",
    "\n",
    "Нужный метод для проверки: scipy.stats.ttest_rel().\n",
    "В качестве аргументов: парные выборки до и после изменений.\n",
    "\n",
    "**Для вышеуказанной ситуации при условии одинакового размера выборок:**\n",
    "\n",
    "H0: количество обращений до обновления (before_appeals) равно количеству обращений после обновления (after_appeals);\n",
    "\n",
    "H1: количество обращений до обновления (before_appeals) больше количества обращений после обновления (after_appeals).\n",
    "\n",
    "results = st.ttest_rel(before_appeals, after_appeals, alternative = 'greater').\n",
    "\n",
    "**Если условия к зависимым выборкам не выполняются, то нужный тест для проверки гипотезы:**\n",
    "\n",
    "results = st.ttest_ind(before_appeals, after_appeals, alternative = 'greater')."
   ]
  },
  {
   "cell_type": "markdown",
   "id": "4dcae0d5",
   "metadata": {},
   "source": [
    "#### Общий вывод\n",
    "\n",
    "Гипотеза 1. Пользователи с подпиской тратят больше времени на поездки, чем пользователи без подписки - не опровергнута.\n",
    "\n",
    "Гипотеза 2. Расстояние, которое проезжают пользователи с подпиской за одну поездку, не превышает 3130 м - не опровергнута.\n",
    "\n",
    "Гипотеза 3. Помесячная выручка от пользователей с подпиской по месяцам выше, чем выручка от пользователей без подписки - не опровергнута."
   ]
  },
  {
   "cell_type": "markdown",
   "id": "61213c5e",
   "metadata": {},
   "source": [
    "### Распределения"
   ]
  },
  {
   "cell_type": "markdown",
   "id": "366aabf1",
   "metadata": {},
   "source": [
    "**Задание:** отделу маркетинга GoFast поставили задачу: нужно провести акцию с раздачей промокодов на один бесплатный месяц подписки, в рамках которой как минимум 100 существующих клиентов должны продлить эту подписку. То есть по завершении периода действия подписки пользователь может либо отказаться от неё, либо продлить, совершив соответствующий платёж. \n",
    "Эта акция уже проводилась ранее и по итогу выяснилось, что после бесплатного пробного периода подписку продлевают \n",
    "10 % пользователей. Какое минимальное количество промокодов нужно разослать, чтобы вероятность не выполнить план была примерно \n",
    "5 %?  Подберите параметры распределения, описывающего эту ситуацию, постройте график распределения и сформулируйте ответ на вопрос о количестве промокодов.\n",
    "\n",
    "**Решение:** т.к 10% пользователей продлевают подписку после бесплатного пробного периода, то при необходимом количестве - 100 новых клиентов - нужно раздать минимум 1000 промокодов. Примем n = 1000 при вероятности успеха p = 0.1 (10%), построим график распределения.\n",
    "Укажем число благоприятных исходов k равным 99 и вероятность не выполнить план p2 = 0.05 (5%)."
   ]
  },
  {
   "cell_type": "code",
   "execution_count": 50,
   "id": "95cd1d51",
   "metadata": {},
   "outputs": [
    {
     "data": {
      "image/png": "[encoded data removed]",
      "text/plain": [
       "<Figure size 640x480 with 1 Axes>"
      ]
     },
     "metadata": {},
     "output_type": "display_data"
    },
    {
     "name": "stdout",
     "output_type": "stream",
     "text": [
      "Минимальное количество промокодов - 1161 нужно разослать, чтобы вероятность не выполнить план была около 5.0 %.\n"
     ]
    }
   ],
   "source": [
    "n = 1000\n",
    "p = 0.1\n",
    "distr = []\n",
    "for k in range(0, n + 1):\n",
    "    choose = factorial(n) / (factorial(k) * factorial(n - k))\n",
    "    prob = choose * p**k * (1 - p)**(n - k)\n",
    "    distr.append(prob)\n",
    "plt.bar(range(0, n + 1), distr)\n",
    "plt.show()\n",
    "\n",
    "k = 99\n",
    "p2 = 0.05\n",
    "while p2 < binom.cdf(k, n, p):\n",
    "    n += 1\n",
    "print(f'Минимальное количество промокодов - {n} нужно разослать, чтобы вероятность не выполнить план была около {binom.cdf(k, n, p).round(2) * 100} %.')"
   ]
  },
  {
   "cell_type": "markdown",
   "id": "e7ca9e30",
   "metadata": {},
   "source": [
    "**Вывод:** нужно разослать как минимум 1161 промокод, чтобы как минимум 100 пользователей продлили подписку при условии, что продлевают подписку 10% пользователей, получивших промокод - с вероятностью не выполнить план в 5%."
   ]
  },
  {
   "cell_type": "markdown",
   "id": "b84e653c",
   "metadata": {},
   "source": [
    "**Задание:** Отдел маркетинга рассылает клиентам push-уведомления в мобильном приложении. Клиенты могут открыть его или не открывать. Известно, что уведомления открывают около 40 % получивших клиентов. Отдел планирует разослать 1 млн уведомлений. С помощью аппроксимации оцените вероятность того, что уведомление откроют не более 399,5 тыс. пользователей.\n",
    "\n",
    "**Решение:** ситуация описывается биноминальным распределением. Воспользуемся нормальной аппроксимацией биноминального распределения и посчитаем вероятность того, что уведомление откроют не более 399500 пользователей. "
   ]
  },
  {
   "cell_type": "code",
   "execution_count": 51,
   "id": "f6cafba6",
   "metadata": {},
   "outputs": [
    {
     "name": "stdout",
     "output_type": "stream",
     "text": [
      "0.15371708296369768\n",
      "Вероятность того, что уведомление откроют не более 399500 пользователей, равна около 15.4 %.\n"
     ]
    }
   ],
   "source": [
    "n = 1000000\n",
    "p = 0.4\n",
    "x = 399500\n",
    "\n",
    "mu = n * p\n",
    "sigma = sqrt(n * p  * (1 - p))\n",
    "\n",
    "distr = st.norm(mu, sigma)\n",
    "result = distr.cdf(x)\n",
    "print(result)\n",
    "print(f'Вероятность того, что уведомление откроют не более {x} пользователей, равна около {result.round(3) * 100} %.')"
   ]
  },
  {
   "cell_type": "markdown",
   "id": "f7f403af",
   "metadata": {},
   "source": [
    "**Вывод:** при рассылке 1 млн push-уведомлений вероятность того, что это уведомление откроют не более 399500 пользователей, равна около 15.4 %, это при условии, что открывают 40% пользователей."
   ]
  },
  {
   "cell_type": "markdown",
   "id": "27daebb4",
   "metadata": {},
   "source": [
    "### Общий вывод исследования"
   ]
  },
  {
   "cell_type": "markdown",
   "id": "2075101b",
   "metadata": {},
   "source": [
    "**При выполнении предобработки данных проведены:**\n",
    "\n",
    "1. Проверка корректной записи названий столбцов. Ошибок не выявлено.\n",
    "\n",
    "2. Проверка наличия дубликатов. Явные дубликаты были обнаружены в датафрейме 'users' (данные о пользователях) - удалены.\n",
    "\n",
    "3. Проверка наличия пропущенных значений. Пропусков не выявлено.\n",
    "\n",
    "4. Изменение типов данных. Тип данных в столбце 'date' датафрейма rides изменен с object на datetime.\n",
    "\n",
    "5. Создание новых колонок. В датафрейм rides добавлен столбец 'month' с номером месяца (1 - январь, 2 - февраль и тд.).\n",
    "\n",
    "**При выполнении исследовательского анализа данных, было выявлено:**\n",
    "1. из 8 городов, наиболее часто встречается город Пятигорск - 219 пользователей из данного города, меньше всего пользователей из Москвы - 168;\n",
    "2. пользователей без подписки больше (835 чел), чем пользователей с подпиской Ultra (699 чел): 54.4% против 45.6%;\n",
    "3. больше всего мобильным приложением сервиса пользуются люди в возрасте от 20 до 30 лет с пиком - 25 лет, меньше всего пользователей в возрасте от 37 до 43 лет. Минимальный возраст - 12 лет, максимальный - 43 года;\n",
    "4. по расстоянию поездок наблюдаются две волны с пиками около 700 м и 3200 м. Возможно, первая волна указывает на пользователей, которые используют аренду самоката для передвижения между остановками общественного транспорта во время пересадки либо доезда от дома до остановки или обратно. Пользователи из второй волны могут использовать самокат как основное средство передвижения по городу на расстояния около 3 км. Минимальное расстояние одной поездки 0.86 м, максимальное - 7211 м, в среднем пользователь проезжает 3070 м за одну поездку, медианное расстояние - 3133 м;\n",
    "5. больше всего поездок длительностью примерно от 10 до 27 минут с пиком 18-19 минут. Минимальное время одной поездки 1 мин, максимальное - 41 мин, в среднем одна сессия длится 18 мин, медианное время так же 18 мин.\n",
    "\n",
    "**Объединение данных, было выполнено:**\n",
    "\n",
    "Объединены данные о пользователях, поездках и подписках в один датафрейм. Созданы новые два датафрейма: пользователи с подпиской и пользователи без подписки (разделение данных в зависимости от подписки).\n",
    "\n",
    "Проведен анализ пользователей сервиса на основе наличия/отсутсвия платной подписки:\n",
    "\n",
    "1. Расстояние: \n",
    "- пользователи с подпиской Ultra: минимальное расстояние поездки 244 м, максимальное - 5699 м. В среднем пользователи проезжают 3155 м, медианное расстояние - 3148 м. Общее количество поездок - 6500;\n",
    "- пользователи без подписки free: минимальное расстояние поездки 0.86 м, максимальное - 7211 м. В среднем пользователи проезжают 3045 м, медианное расстояние - 3114 м. Общее количество поездок - 11568.\n",
    "2. Длительность:\n",
    "- пользователи с подпиской Ultra: минимальное время поездки 4 мин, максимальное - 41 мин. В среднем поездка длится 19 мин, медианное время - 19 м. Общее количество поездок - 6500;\n",
    "- пользователи без подписки free: минимальное время поездки 1 мин, максимальное - 35 мин. В среднем поездка длится почти 18 мин, медианное время - 18 мин. Общее количество поездок - 11568.\n",
    "\n",
    "**Подсчет выручки, было выполнено:**\n",
    "\n",
    "Создан датафрейм с агрегированными данными о поездках. Рассчитана помесячная выручка, которую принес каждый пользователь сервису. Пользователи с подпиской оказались выгодней для сервиса, они приносят большую выручку, чем пользователи без подписки.\n",
    "\n",
    "\n",
    "**Проверка гипотез:**\n",
    "\n",
    "Гипотеза 1. Пользователи с подпиской тратят больше времени на поездки, чем пользователи без подписки - не опровергнута.\n",
    "\n",
    "Гипотеза 2. Расстояние, которое проезжают пользователи с подпиской за одну поездку, не превышает 3130 м - не опровергнута.\n",
    "\n",
    "Гипотеза 3. Помесячная выручка от пользователей с подпиской по месяцам выше, чем выручка от пользователей без подписки - не опровергнута."
   ]
  }
 ],
 "metadata": {
  "ExecuteTimeLog": [
   {
    "duration": 391,
    "start_time": "2024-12-14T12:45:39.578Z"
   },
   {
    "duration": 3,
    "start_time": "2024-12-14T12:54:39.705Z"
   },
   {
    "duration": 970,
    "start_time": "2024-12-14T12:54:57.672Z"
   },
   {
    "duration": 116,
    "start_time": "2024-12-14T12:55:46.165Z"
   },
   {
    "duration": 34,
    "start_time": "2024-12-14T12:55:54.156Z"
   },
   {
    "duration": 58,
    "start_time": "2024-12-14T12:56:08.590Z"
   },
   {
    "duration": 297,
    "start_time": "2024-12-14T12:56:11.867Z"
   },
   {
    "duration": 33,
    "start_time": "2024-12-14T12:56:15.009Z"
   },
   {
    "duration": 32,
    "start_time": "2024-12-14T12:56:24.566Z"
   },
   {
    "duration": 32,
    "start_time": "2024-12-14T12:56:32.142Z"
   },
   {
    "duration": 33,
    "start_time": "2024-12-14T12:56:46.681Z"
   },
   {
    "duration": 35,
    "start_time": "2024-12-14T12:56:57.435Z"
   },
   {
    "duration": 33,
    "start_time": "2024-12-14T12:58:41.167Z"
   },
   {
    "duration": 266,
    "start_time": "2024-12-14T13:39:50.679Z"
   },
   {
    "duration": 82,
    "start_time": "2024-12-14T13:42:08.810Z"
   },
   {
    "duration": 72,
    "start_time": "2024-12-14T13:42:16.300Z"
   },
   {
    "duration": 78,
    "start_time": "2024-12-14T13:42:29.080Z"
   },
   {
    "duration": 81,
    "start_time": "2024-12-14T13:42:46.086Z"
   },
   {
    "duration": 69,
    "start_time": "2024-12-14T13:43:44.142Z"
   },
   {
    "duration": 71,
    "start_time": "2024-12-14T13:44:12.405Z"
   },
   {
    "duration": 71,
    "start_time": "2024-12-14T13:44:40.992Z"
   },
   {
    "duration": 72,
    "start_time": "2024-12-14T13:45:11.797Z"
   },
   {
    "duration": 8,
    "start_time": "2024-12-14T13:46:33.215Z"
   },
   {
    "duration": 9,
    "start_time": "2024-12-14T13:46:46.823Z"
   },
   {
    "duration": 9,
    "start_time": "2024-12-14T13:47:12.324Z"
   },
   {
    "duration": 9,
    "start_time": "2024-12-14T13:47:19.592Z"
   },
   {
    "duration": 73,
    "start_time": "2024-12-14T13:47:34.132Z"
   },
   {
    "duration": 80,
    "start_time": "2024-12-14T13:48:16.619Z"
   },
   {
    "duration": 73,
    "start_time": "2024-12-14T13:48:40.290Z"
   },
   {
    "duration": 87,
    "start_time": "2024-12-14T13:48:45.506Z"
   },
   {
    "duration": 9,
    "start_time": "2024-12-14T13:49:20.849Z"
   },
   {
    "duration": 79,
    "start_time": "2024-12-14T14:01:01.768Z"
   },
   {
    "duration": 70,
    "start_time": "2024-12-14T14:01:25.545Z"
   },
   {
    "duration": 9,
    "start_time": "2024-12-14T14:01:34.331Z"
   },
   {
    "duration": 9,
    "start_time": "2024-12-14T14:01:38.015Z"
   },
   {
    "duration": 10,
    "start_time": "2024-12-14T14:02:14.574Z"
   },
   {
    "duration": 9,
    "start_time": "2024-12-14T14:03:16.325Z"
   },
   {
    "duration": 8,
    "start_time": "2024-12-14T14:06:48.252Z"
   },
   {
    "duration": 4,
    "start_time": "2024-12-14T14:13:10.041Z"
   },
   {
    "duration": 4,
    "start_time": "2024-12-14T14:13:28.071Z"
   },
   {
    "duration": 4,
    "start_time": "2024-12-14T14:13:42.501Z"
   },
   {
    "duration": 6,
    "start_time": "2024-12-14T14:15:39.756Z"
   },
   {
    "duration": 5,
    "start_time": "2024-12-14T14:16:00.540Z"
   },
   {
    "duration": 8,
    "start_time": "2024-12-14T14:16:02.895Z"
   },
   {
    "duration": 4,
    "start_time": "2024-12-14T14:21:50.763Z"
   },
   {
    "duration": 9,
    "start_time": "2024-12-14T14:22:01.400Z"
   },
   {
    "duration": 5,
    "start_time": "2024-12-14T14:31:54.300Z"
   },
   {
    "duration": 8,
    "start_time": "2024-12-14T14:33:16.325Z"
   },
   {
    "duration": 8,
    "start_time": "2024-12-14T14:33:22.646Z"
   },
   {
    "duration": 71,
    "start_time": "2024-12-14T14:33:27.897Z"
   },
   {
    "duration": 4,
    "start_time": "2024-12-14T14:34:09.677Z"
   },
   {
    "duration": 4,
    "start_time": "2024-12-14T14:34:10.393Z"
   },
   {
    "duration": 4,
    "start_time": "2024-12-14T14:34:11.009Z"
   },
   {
    "duration": 6,
    "start_time": "2024-12-14T14:34:15.308Z"
   },
   {
    "duration": 8,
    "start_time": "2024-12-14T14:34:16.129Z"
   },
   {
    "duration": 6,
    "start_time": "2024-12-14T14:34:16.843Z"
   },
   {
    "duration": 7,
    "start_time": "2024-12-14T14:34:18.084Z"
   },
   {
    "duration": 6,
    "start_time": "2024-12-14T14:36:59.774Z"
   },
   {
    "duration": 6,
    "start_time": "2024-12-14T14:37:00.899Z"
   },
   {
    "duration": 6,
    "start_time": "2024-12-14T14:37:01.812Z"
   },
   {
    "duration": 1118,
    "start_time": "2024-12-14T14:37:49.338Z"
   },
   {
    "duration": 78,
    "start_time": "2024-12-14T14:37:50.458Z"
   },
   {
    "duration": 12,
    "start_time": "2024-12-14T14:37:50.537Z"
   },
   {
    "duration": 12,
    "start_time": "2024-12-14T14:37:50.550Z"
   },
   {
    "duration": 10,
    "start_time": "2024-12-14T14:37:50.563Z"
   },
   {
    "duration": 35,
    "start_time": "2024-12-14T14:37:50.574Z"
   },
   {
    "duration": 14,
    "start_time": "2024-12-14T14:37:50.610Z"
   },
   {
    "duration": 17,
    "start_time": "2024-12-14T14:37:50.625Z"
   },
   {
    "duration": 12,
    "start_time": "2024-12-14T14:37:50.644Z"
   },
   {
    "duration": 10,
    "start_time": "2024-12-14T14:37:50.658Z"
   },
   {
    "duration": 13,
    "start_time": "2024-12-14T14:37:50.669Z"
   },
   {
    "duration": 30,
    "start_time": "2024-12-14T14:37:50.684Z"
   },
   {
    "duration": 12,
    "start_time": "2024-12-14T14:37:50.716Z"
   },
   {
    "duration": 21,
    "start_time": "2024-12-14T14:37:50.730Z"
   },
   {
    "duration": 15,
    "start_time": "2024-12-14T14:37:50.752Z"
   },
   {
    "duration": 13,
    "start_time": "2024-12-14T14:37:50.769Z"
   },
   {
    "duration": 9,
    "start_time": "2024-12-14T14:37:50.784Z"
   },
   {
    "duration": 13,
    "start_time": "2024-12-14T14:45:25.634Z"
   },
   {
    "duration": 17,
    "start_time": "2024-12-14T14:45:37.533Z"
   },
   {
    "duration": 777,
    "start_time": "2024-12-14T14:57:40.663Z"
   },
   {
    "duration": 17,
    "start_time": "2024-12-14T14:57:54.181Z"
   },
   {
    "duration": 874,
    "start_time": "2024-12-14T14:57:58.789Z"
   },
   {
    "duration": 4,
    "start_time": "2024-12-14T14:58:26.412Z"
   },
   {
    "duration": 18,
    "start_time": "2024-12-14T14:58:30.337Z"
   },
   {
    "duration": 10,
    "start_time": "2024-12-14T14:58:38.726Z"
   },
   {
    "duration": 9,
    "start_time": "2024-12-14T14:59:05.655Z"
   },
   {
    "duration": 1101,
    "start_time": "2024-12-14T15:10:36.771Z"
   },
   {
    "duration": 74,
    "start_time": "2024-12-14T15:10:37.873Z"
   },
   {
    "duration": 10,
    "start_time": "2024-12-14T15:10:37.949Z"
   },
   {
    "duration": 14,
    "start_time": "2024-12-14T15:10:37.960Z"
   },
   {
    "duration": 9,
    "start_time": "2024-12-14T15:10:37.976Z"
   },
   {
    "duration": 7,
    "start_time": "2024-12-14T15:10:37.986Z"
   },
   {
    "duration": 8,
    "start_time": "2024-12-14T15:10:37.994Z"
   },
   {
    "duration": 3,
    "start_time": "2024-12-14T15:10:38.004Z"
   },
   {
    "duration": 4,
    "start_time": "2024-12-14T15:10:38.008Z"
   },
   {
    "duration": 40,
    "start_time": "2024-12-14T15:10:38.014Z"
   },
   {
    "duration": 7,
    "start_time": "2024-12-14T15:10:38.056Z"
   },
   {
    "duration": 7,
    "start_time": "2024-12-14T15:10:38.065Z"
   },
   {
    "duration": 30,
    "start_time": "2024-12-14T15:10:38.073Z"
   },
   {
    "duration": 15,
    "start_time": "2024-12-14T15:10:38.105Z"
   },
   {
    "duration": 5,
    "start_time": "2024-12-14T15:10:38.122Z"
   },
   {
    "duration": 21,
    "start_time": "2024-12-14T15:10:38.128Z"
   },
   {
    "duration": 10,
    "start_time": "2024-12-14T15:10:38.151Z"
   },
   {
    "duration": 11,
    "start_time": "2024-12-14T15:10:38.162Z"
   },
   {
    "duration": 9,
    "start_time": "2024-12-14T15:10:38.174Z"
   },
   {
    "duration": 90,
    "start_time": "2024-12-14T15:16:59.370Z"
   },
   {
    "duration": 7,
    "start_time": "2024-12-14T15:17:15.812Z"
   },
   {
    "duration": 8,
    "start_time": "2024-12-14T15:17:43.869Z"
   },
   {
    "duration": 5,
    "start_time": "2024-12-14T15:18:03.553Z"
   },
   {
    "duration": 129,
    "start_time": "2024-12-14T15:19:51.463Z"
   },
   {
    "duration": 112,
    "start_time": "2024-12-14T15:20:07.741Z"
   },
   {
    "duration": 13,
    "start_time": "2024-12-14T15:21:02.355Z"
   },
   {
    "duration": 12,
    "start_time": "2024-12-14T15:24:02.651Z"
   },
   {
    "duration": 1032,
    "start_time": "2024-12-14T15:24:54.892Z"
   },
   {
    "duration": 75,
    "start_time": "2024-12-14T15:24:55.926Z"
   },
   {
    "duration": 10,
    "start_time": "2024-12-14T15:24:56.002Z"
   },
   {
    "duration": 12,
    "start_time": "2024-12-14T15:24:56.014Z"
   },
   {
    "duration": 9,
    "start_time": "2024-12-14T15:24:56.028Z"
   },
   {
    "duration": 15,
    "start_time": "2024-12-14T15:24:56.039Z"
   },
   {
    "duration": 8,
    "start_time": "2024-12-14T15:24:56.056Z"
   },
   {
    "duration": 13,
    "start_time": "2024-12-14T15:24:56.066Z"
   },
   {
    "duration": 9,
    "start_time": "2024-12-14T15:24:56.080Z"
   },
   {
    "duration": 20,
    "start_time": "2024-12-14T15:24:56.090Z"
   },
   {
    "duration": 7,
    "start_time": "2024-12-14T15:24:56.112Z"
   },
   {
    "duration": 9,
    "start_time": "2024-12-14T15:24:56.120Z"
   },
   {
    "duration": 4,
    "start_time": "2024-12-14T15:24:56.131Z"
   },
   {
    "duration": 7,
    "start_time": "2024-12-14T15:24:56.154Z"
   },
   {
    "duration": 19,
    "start_time": "2024-12-14T15:24:56.162Z"
   },
   {
    "duration": 6,
    "start_time": "2024-12-14T15:24:56.182Z"
   },
   {
    "duration": 20,
    "start_time": "2024-12-14T15:24:56.189Z"
   },
   {
    "duration": 24,
    "start_time": "2024-12-14T15:24:56.210Z"
   },
   {
    "duration": 15,
    "start_time": "2024-12-14T15:24:56.235Z"
   },
   {
    "duration": 9,
    "start_time": "2024-12-14T15:24:56.251Z"
   },
   {
    "duration": 107,
    "start_time": "2024-12-14T15:24:56.261Z"
   },
   {
    "duration": 4,
    "start_time": "2024-12-14T15:26:58.169Z"
   },
   {
    "duration": 4,
    "start_time": "2024-12-14T15:30:40.789Z"
   },
   {
    "duration": 7,
    "start_time": "2024-12-14T15:32:52.578Z"
   },
   {
    "duration": 10,
    "start_time": "2024-12-14T15:33:04.148Z"
   },
   {
    "duration": 12,
    "start_time": "2024-12-14T15:33:10.202Z"
   },
   {
    "duration": 9,
    "start_time": "2024-12-14T15:35:32.428Z"
   },
   {
    "duration": 3,
    "start_time": "2024-12-14T15:36:01.516Z"
   },
   {
    "duration": 8,
    "start_time": "2024-12-14T15:36:27.549Z"
   },
   {
    "duration": 14,
    "start_time": "2024-12-14T15:36:37.665Z"
   },
   {
    "duration": 8,
    "start_time": "2024-12-14T15:37:07.353Z"
   },
   {
    "duration": 9,
    "start_time": "2024-12-14T15:37:17.798Z"
   },
   {
    "duration": 58,
    "start_time": "2024-12-14T15:38:50.789Z"
   },
   {
    "duration": 48,
    "start_time": "2024-12-14T15:39:01.939Z"
   },
   {
    "duration": 64,
    "start_time": "2024-12-14T15:39:08.900Z"
   },
   {
    "duration": 10,
    "start_time": "2024-12-14T15:39:21.395Z"
   },
   {
    "duration": 15,
    "start_time": "2024-12-14T15:40:23.877Z"
   },
   {
    "duration": 28,
    "start_time": "2024-12-14T15:40:35.337Z"
   },
   {
    "duration": 12,
    "start_time": "2024-12-14T15:40:53.659Z"
   },
   {
    "duration": 5,
    "start_time": "2024-12-14T15:41:20.896Z"
   },
   {
    "duration": 14,
    "start_time": "2024-12-14T15:41:27.661Z"
   },
   {
    "duration": 9,
    "start_time": "2024-12-14T15:41:51.105Z"
   },
   {
    "duration": 21,
    "start_time": "2024-12-14T15:41:57.248Z"
   },
   {
    "duration": 13,
    "start_time": "2024-12-14T15:42:33.806Z"
   },
   {
    "duration": 12,
    "start_time": "2024-12-14T15:43:35.565Z"
   },
   {
    "duration": 190,
    "start_time": "2024-12-14T15:46:20.626Z"
   },
   {
    "duration": 135,
    "start_time": "2024-12-14T15:48:15.520Z"
   },
   {
    "duration": 165,
    "start_time": "2024-12-14T15:48:45.521Z"
   },
   {
    "duration": 170,
    "start_time": "2024-12-14T15:48:52.278Z"
   },
   {
    "duration": 191,
    "start_time": "2024-12-14T15:49:09.489Z"
   },
   {
    "duration": 166,
    "start_time": "2024-12-14T15:49:40.511Z"
   },
   {
    "duration": 179,
    "start_time": "2024-12-14T15:49:54.746Z"
   },
   {
    "duration": 161,
    "start_time": "2024-12-14T15:59:19.693Z"
   },
   {
    "duration": 200,
    "start_time": "2024-12-14T16:00:44.887Z"
   },
   {
    "duration": 159,
    "start_time": "2024-12-14T16:01:56.532Z"
   },
   {
    "duration": 167,
    "start_time": "2024-12-14T16:02:41.937Z"
   },
   {
    "duration": 177,
    "start_time": "2024-12-14T16:02:55.441Z"
   },
   {
    "duration": 182,
    "start_time": "2024-12-14T16:03:08.148Z"
   },
   {
    "duration": 173,
    "start_time": "2024-12-14T16:03:16.748Z"
   },
   {
    "duration": 169,
    "start_time": "2024-12-14T16:03:46.649Z"
   },
   {
    "duration": 146,
    "start_time": "2024-12-14T16:04:33.153Z"
   },
   {
    "duration": 132,
    "start_time": "2024-12-14T16:04:39.609Z"
   },
   {
    "duration": 169,
    "start_time": "2024-12-14T16:05:13.998Z"
   },
   {
    "duration": 170,
    "start_time": "2024-12-14T16:05:19.837Z"
   },
   {
    "duration": 236,
    "start_time": "2024-12-14T16:06:12.990Z"
   },
   {
    "duration": 17,
    "start_time": "2024-12-14T16:06:51.176Z"
   },
   {
    "duration": 158,
    "start_time": "2024-12-14T16:07:07.151Z"
   },
   {
    "duration": 167,
    "start_time": "2024-12-14T16:08:11.561Z"
   },
   {
    "duration": 162,
    "start_time": "2024-12-14T16:09:07.472Z"
   },
   {
    "duration": 947,
    "start_time": "2024-12-14T16:12:11.998Z"
   },
   {
    "duration": 6,
    "start_time": "2024-12-14T16:12:41.593Z"
   },
   {
    "duration": 9,
    "start_time": "2024-12-14T16:13:08.949Z"
   },
   {
    "duration": 5,
    "start_time": "2024-12-14T16:13:13.581Z"
   },
   {
    "duration": 7,
    "start_time": "2024-12-14T16:13:46.218Z"
   },
   {
    "duration": 4,
    "start_time": "2024-12-14T16:14:21.655Z"
   },
   {
    "duration": 6,
    "start_time": "2024-12-14T16:14:30.445Z"
   },
   {
    "duration": 82,
    "start_time": "2024-12-14T16:15:02.088Z"
   },
   {
    "duration": 128,
    "start_time": "2024-12-14T16:18:19.726Z"
   },
   {
    "duration": 121,
    "start_time": "2024-12-14T16:18:31.805Z"
   },
   {
    "duration": 128,
    "start_time": "2024-12-14T16:20:13.234Z"
   },
   {
    "duration": 80,
    "start_time": "2024-12-14T16:21:05.419Z"
   },
   {
    "duration": 81,
    "start_time": "2024-12-14T16:21:29.069Z"
   },
   {
    "duration": 91,
    "start_time": "2024-12-14T16:21:46.890Z"
   },
   {
    "duration": 81,
    "start_time": "2024-12-14T16:32:13.477Z"
   },
   {
    "duration": 82,
    "start_time": "2024-12-14T16:32:48.395Z"
   },
   {
    "duration": 83,
    "start_time": "2024-12-14T16:34:52.193Z"
   },
   {
    "duration": 203,
    "start_time": "2024-12-14T16:35:33.765Z"
   },
   {
    "duration": 57,
    "start_time": "2024-12-14T16:36:08.788Z"
   },
   {
    "duration": 87,
    "start_time": "2024-12-14T16:37:12.173Z"
   },
   {
    "duration": 47,
    "start_time": "2024-12-14T16:37:21.726Z"
   },
   {
    "duration": 85,
    "start_time": "2024-12-14T16:37:32.038Z"
   },
   {
    "duration": 1141,
    "start_time": "2024-12-14T17:12:45.398Z"
   },
   {
    "duration": 81,
    "start_time": "2024-12-14T17:12:46.540Z"
   },
   {
    "duration": 11,
    "start_time": "2024-12-14T17:12:46.622Z"
   },
   {
    "duration": 9,
    "start_time": "2024-12-14T17:12:46.635Z"
   },
   {
    "duration": 18,
    "start_time": "2024-12-14T17:12:46.646Z"
   },
   {
    "duration": 19,
    "start_time": "2024-12-14T17:12:46.665Z"
   },
   {
    "duration": 13,
    "start_time": "2024-12-14T17:12:46.686Z"
   },
   {
    "duration": 12,
    "start_time": "2024-12-14T17:12:46.701Z"
   },
   {
    "duration": 8,
    "start_time": "2024-12-14T17:12:46.714Z"
   },
   {
    "duration": 6,
    "start_time": "2024-12-14T17:12:46.724Z"
   },
   {
    "duration": 22,
    "start_time": "2024-12-14T17:12:46.732Z"
   },
   {
    "duration": 13,
    "start_time": "2024-12-14T17:12:46.755Z"
   },
   {
    "duration": 5,
    "start_time": "2024-12-14T17:12:46.769Z"
   },
   {
    "duration": 10,
    "start_time": "2024-12-14T17:12:46.777Z"
   },
   {
    "duration": 5,
    "start_time": "2024-12-14T17:12:46.788Z"
   },
   {
    "duration": 16,
    "start_time": "2024-12-14T17:12:46.795Z"
   },
   {
    "duration": 5,
    "start_time": "2024-12-14T17:12:46.813Z"
   },
   {
    "duration": 45,
    "start_time": "2024-12-14T17:12:46.820Z"
   },
   {
    "duration": 22,
    "start_time": "2024-12-14T17:12:46.866Z"
   },
   {
    "duration": 5,
    "start_time": "2024-12-14T17:12:46.890Z"
   },
   {
    "duration": 205,
    "start_time": "2024-12-14T17:12:46.896Z"
   },
   {
    "duration": 5,
    "start_time": "2024-12-14T17:12:47.103Z"
   },
   {
    "duration": 101,
    "start_time": "2024-12-14T17:12:47.109Z"
   },
   {
    "duration": 82,
    "start_time": "2024-12-14T17:13:28.322Z"
   },
   {
    "duration": 83,
    "start_time": "2024-12-14T17:13:41.003Z"
   },
   {
    "duration": 4,
    "start_time": "2024-12-14T17:17:26.274Z"
   },
   {
    "duration": 176,
    "start_time": "2024-12-14T17:18:46.244Z"
   },
   {
    "duration": 199,
    "start_time": "2024-12-14T17:19:05.297Z"
   },
   {
    "duration": 164,
    "start_time": "2024-12-14T17:19:28.849Z"
   },
   {
    "duration": 170,
    "start_time": "2024-12-14T17:19:34.377Z"
   },
   {
    "duration": 6,
    "start_time": "2024-12-14T17:24:59.499Z"
   },
   {
    "duration": 328,
    "start_time": "2024-12-14T17:25:57.355Z"
   },
   {
    "duration": 258,
    "start_time": "2024-12-14T17:26:46.100Z"
   },
   {
    "duration": 16058,
    "start_time": "2024-12-14T17:27:08.934Z"
   },
   {
    "duration": 16167,
    "start_time": "2024-12-14T17:27:32.588Z"
   },
   {
    "duration": 258,
    "start_time": "2024-12-14T17:28:55.943Z"
   },
   {
    "duration": 201,
    "start_time": "2024-12-14T17:29:53.802Z"
   },
   {
    "duration": 415,
    "start_time": "2024-12-14T17:30:44.490Z"
   },
   {
    "duration": 165,
    "start_time": "2024-12-14T17:31:28.831Z"
   },
   {
    "duration": 165,
    "start_time": "2024-12-14T17:31:50.332Z"
   },
   {
    "duration": 162,
    "start_time": "2024-12-14T17:33:08.979Z"
   },
   {
    "duration": 166,
    "start_time": "2024-12-14T17:33:40.413Z"
   },
   {
    "duration": 246,
    "start_time": "2024-12-14T17:35:18.420Z"
   },
   {
    "duration": 250,
    "start_time": "2024-12-14T17:36:47.404Z"
   },
   {
    "duration": 249,
    "start_time": "2024-12-14T17:37:08.287Z"
   },
   {
    "duration": 316,
    "start_time": "2024-12-14T17:37:30.609Z"
   },
   {
    "duration": 9,
    "start_time": "2024-12-14T17:44:26.668Z"
   },
   {
    "duration": 4,
    "start_time": "2024-12-14T17:46:49.831Z"
   },
   {
    "duration": 9,
    "start_time": "2024-12-14T17:46:51.765Z"
   },
   {
    "duration": 81,
    "start_time": "2024-12-14T17:48:01.706Z"
   },
   {
    "duration": 82,
    "start_time": "2024-12-14T17:48:07.670Z"
   },
   {
    "duration": 76,
    "start_time": "2024-12-14T17:48:16.042Z"
   },
   {
    "duration": 8,
    "start_time": "2024-12-14T17:50:02.876Z"
   },
   {
    "duration": 8,
    "start_time": "2024-12-14T17:50:30.198Z"
   },
   {
    "duration": 9,
    "start_time": "2024-12-14T17:50:40.325Z"
   },
   {
    "duration": 7,
    "start_time": "2024-12-14T17:51:08.793Z"
   },
   {
    "duration": 10,
    "start_time": "2024-12-14T17:59:49.097Z"
   },
   {
    "duration": 12,
    "start_time": "2024-12-14T17:59:58.321Z"
   },
   {
    "duration": 10,
    "start_time": "2024-12-14T18:00:02.611Z"
   },
   {
    "duration": 21,
    "start_time": "2024-12-14T18:01:34.771Z"
   },
   {
    "duration": 170,
    "start_time": "2024-12-14T18:02:38.360Z"
   },
   {
    "duration": 138,
    "start_time": "2024-12-14T18:02:57.715Z"
   },
   {
    "duration": 16029,
    "start_time": "2024-12-14T18:03:31.609Z"
   },
   {
    "duration": 153,
    "start_time": "2024-12-14T18:04:20.250Z"
   },
   {
    "duration": 317,
    "start_time": "2024-12-14T18:04:28.038Z"
   },
   {
    "duration": 215,
    "start_time": "2024-12-14T18:05:46.573Z"
   },
   {
    "duration": 124,
    "start_time": "2024-12-14T18:06:01.021Z"
   },
   {
    "duration": 512,
    "start_time": "2024-12-14T18:06:39.617Z"
   },
   {
    "duration": 386,
    "start_time": "2024-12-14T18:07:03.080Z"
   },
   {
    "duration": 387,
    "start_time": "2024-12-14T18:07:21.808Z"
   },
   {
    "duration": 558,
    "start_time": "2024-12-14T18:07:50.598Z"
   },
   {
    "duration": 472,
    "start_time": "2024-12-14T18:08:03.520Z"
   },
   {
    "duration": 453,
    "start_time": "2024-12-14T18:08:40.478Z"
   },
   {
    "duration": 453,
    "start_time": "2024-12-14T18:09:40.039Z"
   },
   {
    "duration": 646,
    "start_time": "2024-12-14T18:09:57.688Z"
   },
   {
    "duration": 451,
    "start_time": "2024-12-14T18:11:28.414Z"
   },
   {
    "duration": 455,
    "start_time": "2024-12-14T18:11:45.520Z"
   },
   {
    "duration": 452,
    "start_time": "2024-12-14T18:12:52.845Z"
   },
   {
    "duration": 642,
    "start_time": "2024-12-14T18:14:26.882Z"
   },
   {
    "duration": 10,
    "start_time": "2024-12-14T18:19:03.028Z"
   },
   {
    "duration": 11,
    "start_time": "2024-12-14T18:19:18.118Z"
   },
   {
    "duration": 408,
    "start_time": "2024-12-14T18:20:10.120Z"
   },
   {
    "duration": 404,
    "start_time": "2024-12-14T18:21:08.018Z"
   },
   {
    "duration": 401,
    "start_time": "2024-12-14T18:21:26.503Z"
   },
   {
    "duration": 10,
    "start_time": "2024-12-14T18:22:07.263Z"
   },
   {
    "duration": 9,
    "start_time": "2024-12-14T18:22:24.520Z"
   },
   {
    "duration": 2,
    "start_time": "2024-12-14T18:25:27.687Z"
   },
   {
    "duration": 10,
    "start_time": "2024-12-14T18:26:15.870Z"
   },
   {
    "duration": 9,
    "start_time": "2024-12-14T18:27:13.980Z"
   },
   {
    "duration": 623,
    "start_time": "2024-12-14T18:29:25.299Z"
   },
   {
    "duration": 395,
    "start_time": "2024-12-14T18:29:56.284Z"
   },
   {
    "duration": 637,
    "start_time": "2024-12-14T18:30:11.677Z"
   },
   {
    "duration": 250,
    "start_time": "2024-12-14T18:30:19.298Z"
   },
   {
    "duration": 347,
    "start_time": "2024-12-14T18:30:28.413Z"
   },
   {
    "duration": 597,
    "start_time": "2024-12-14T18:32:10.989Z"
   },
   {
    "duration": 81,
    "start_time": "2024-12-14T18:32:11.588Z"
   },
   {
    "duration": 12,
    "start_time": "2024-12-14T18:32:11.670Z"
   },
   {
    "duration": 46,
    "start_time": "2024-12-14T18:32:11.684Z"
   },
   {
    "duration": 70,
    "start_time": "2024-12-14T18:32:11.732Z"
   },
   {
    "duration": 12,
    "start_time": "2024-12-14T18:32:11.804Z"
   },
   {
    "duration": 10,
    "start_time": "2024-12-14T18:32:11.817Z"
   },
   {
    "duration": 16,
    "start_time": "2024-12-14T18:32:11.829Z"
   },
   {
    "duration": 23,
    "start_time": "2024-12-14T18:32:11.846Z"
   },
   {
    "duration": 22,
    "start_time": "2024-12-14T18:32:11.871Z"
   },
   {
    "duration": 19,
    "start_time": "2024-12-14T18:32:11.894Z"
   },
   {
    "duration": 18,
    "start_time": "2024-12-14T18:32:11.914Z"
   },
   {
    "duration": 5,
    "start_time": "2024-12-14T18:32:11.933Z"
   },
   {
    "duration": 7,
    "start_time": "2024-12-14T18:32:11.941Z"
   },
   {
    "duration": 7,
    "start_time": "2024-12-14T18:32:11.950Z"
   },
   {
    "duration": 13,
    "start_time": "2024-12-14T18:32:11.958Z"
   },
   {
    "duration": 6,
    "start_time": "2024-12-14T18:32:11.972Z"
   },
   {
    "duration": 15,
    "start_time": "2024-12-14T18:32:11.979Z"
   },
   {
    "duration": 9,
    "start_time": "2024-12-14T18:32:11.996Z"
   },
   {
    "duration": 5,
    "start_time": "2024-12-14T18:32:12.007Z"
   },
   {
    "duration": 218,
    "start_time": "2024-12-14T18:32:12.013Z"
   },
   {
    "duration": 5,
    "start_time": "2024-12-14T18:32:12.233Z"
   },
   {
    "duration": 86,
    "start_time": "2024-12-14T18:32:12.239Z"
   },
   {
    "duration": 28,
    "start_time": "2024-12-14T18:32:12.326Z"
   },
   {
    "duration": 290,
    "start_time": "2024-12-14T18:32:12.355Z"
   },
   {
    "duration": 14,
    "start_time": "2024-12-14T18:32:12.646Z"
   },
   {
    "duration": 7,
    "start_time": "2024-12-14T18:32:12.662Z"
   },
   {
    "duration": 463,
    "start_time": "2024-12-14T18:32:12.670Z"
   },
   {
    "duration": 20,
    "start_time": "2024-12-14T18:32:13.134Z"
   },
   {
    "duration": 15,
    "start_time": "2024-12-14T18:32:13.156Z"
   },
   {
    "duration": 360,
    "start_time": "2024-12-14T18:32:13.173Z"
   },
   {
    "duration": 15370,
    "start_time": "2024-12-14T18:33:38.389Z"
   },
   {
    "duration": 167,
    "start_time": "2024-12-14T18:34:06.237Z"
   },
   {
    "duration": 233,
    "start_time": "2024-12-14T18:37:25.432Z"
   },
   {
    "duration": 165,
    "start_time": "2024-12-14T18:37:48.815Z"
   },
   {
    "duration": 161,
    "start_time": "2024-12-14T18:38:44.791Z"
   },
   {
    "duration": 162,
    "start_time": "2024-12-14T18:39:10.347Z"
   },
   {
    "duration": 843,
    "start_time": "2024-12-15T05:47:42.367Z"
   },
   {
    "duration": 233,
    "start_time": "2024-12-15T05:47:43.212Z"
   },
   {
    "duration": 12,
    "start_time": "2024-12-15T05:47:43.447Z"
   },
   {
    "duration": 29,
    "start_time": "2024-12-15T05:47:43.460Z"
   },
   {
    "duration": 17,
    "start_time": "2024-12-15T05:47:43.491Z"
   },
   {
    "duration": 11,
    "start_time": "2024-12-15T05:47:43.509Z"
   },
   {
    "duration": 22,
    "start_time": "2024-12-15T05:47:43.521Z"
   },
   {
    "duration": 5,
    "start_time": "2024-12-15T05:47:43.544Z"
   },
   {
    "duration": 12,
    "start_time": "2024-12-15T05:47:43.550Z"
   },
   {
    "duration": 40,
    "start_time": "2024-12-15T05:47:43.563Z"
   },
   {
    "duration": 15,
    "start_time": "2024-12-15T05:47:43.604Z"
   },
   {
    "duration": 14,
    "start_time": "2024-12-15T05:47:43.621Z"
   },
   {
    "duration": 11,
    "start_time": "2024-12-15T05:47:43.636Z"
   },
   {
    "duration": 8,
    "start_time": "2024-12-15T05:47:43.649Z"
   },
   {
    "duration": 6,
    "start_time": "2024-12-15T05:47:43.658Z"
   },
   {
    "duration": 16,
    "start_time": "2024-12-15T05:47:43.665Z"
   },
   {
    "duration": 6,
    "start_time": "2024-12-15T05:47:43.682Z"
   },
   {
    "duration": 48,
    "start_time": "2024-12-15T05:47:43.689Z"
   },
   {
    "duration": 11,
    "start_time": "2024-12-15T05:47:43.739Z"
   },
   {
    "duration": 26,
    "start_time": "2024-12-15T05:47:43.752Z"
   },
   {
    "duration": 205,
    "start_time": "2024-12-15T05:47:43.780Z"
   },
   {
    "duration": 7,
    "start_time": "2024-12-15T05:47:43.987Z"
   },
   {
    "duration": 136,
    "start_time": "2024-12-15T05:47:43.996Z"
   },
   {
    "duration": 8,
    "start_time": "2024-12-15T05:47:44.144Z"
   },
   {
    "duration": 295,
    "start_time": "2024-12-15T05:47:44.154Z"
   },
   {
    "duration": 10,
    "start_time": "2024-12-15T05:47:44.450Z"
   },
   {
    "duration": 21,
    "start_time": "2024-12-15T05:47:44.461Z"
   },
   {
    "duration": 576,
    "start_time": "2024-12-15T05:47:44.483Z"
   },
   {
    "duration": 11,
    "start_time": "2024-12-15T05:47:45.060Z"
   },
   {
    "duration": 44,
    "start_time": "2024-12-15T05:47:45.073Z"
   },
   {
    "duration": 446,
    "start_time": "2024-12-15T05:47:45.120Z"
   },
   {
    "duration": 82,
    "start_time": "2024-12-15T05:50:40.139Z"
   },
   {
    "duration": 7,
    "start_time": "2024-12-15T05:51:26.306Z"
   },
   {
    "duration": 79,
    "start_time": "2024-12-15T06:13:22.774Z"
   },
   {
    "duration": 21,
    "start_time": "2024-12-15T06:13:29.868Z"
   },
   {
    "duration": 31,
    "start_time": "2024-12-15T06:13:38.444Z"
   },
   {
    "duration": 25,
    "start_time": "2024-12-15T06:13:59.652Z"
   },
   {
    "duration": 15,
    "start_time": "2024-12-15T06:15:55.562Z"
   },
   {
    "duration": 14,
    "start_time": "2024-12-15T06:16:46.758Z"
   },
   {
    "duration": 32,
    "start_time": "2024-12-15T06:21:46.691Z"
   },
   {
    "duration": 18,
    "start_time": "2024-12-15T06:21:56.830Z"
   },
   {
    "duration": 39,
    "start_time": "2024-12-15T06:22:35.026Z"
   },
   {
    "duration": 27,
    "start_time": "2024-12-15T06:22:48.040Z"
   },
   {
    "duration": 26,
    "start_time": "2024-12-15T06:23:15.373Z"
   },
   {
    "duration": 39,
    "start_time": "2024-12-15T06:23:27.148Z"
   },
   {
    "duration": 22,
    "start_time": "2024-12-15T06:23:49.879Z"
   },
   {
    "duration": 22,
    "start_time": "2024-12-15T06:24:06.060Z"
   },
   {
    "duration": 21,
    "start_time": "2024-12-15T06:24:09.439Z"
   },
   {
    "duration": 24,
    "start_time": "2024-12-15T06:24:28.965Z"
   },
   {
    "duration": 24,
    "start_time": "2024-12-15T06:24:44.153Z"
   },
   {
    "duration": 27,
    "start_time": "2024-12-15T06:25:22.348Z"
   },
   {
    "duration": 26,
    "start_time": "2024-12-15T06:26:23.482Z"
   },
   {
    "duration": 25,
    "start_time": "2024-12-15T06:28:08.749Z"
   },
   {
    "duration": 45,
    "start_time": "2024-12-15T06:31:26.306Z"
   },
   {
    "duration": 101,
    "start_time": "2024-12-15T06:34:36.755Z"
   },
   {
    "duration": 98,
    "start_time": "2024-12-15T06:34:47.500Z"
   },
   {
    "duration": 7,
    "start_time": "2024-12-15T06:35:09.924Z"
   },
   {
    "duration": 3,
    "start_time": "2024-12-15T06:35:32.554Z"
   },
   {
    "duration": 9,
    "start_time": "2024-12-15T07:19:39.213Z"
   },
   {
    "duration": 36,
    "start_time": "2024-12-15T07:25:42.638Z"
   },
   {
    "duration": 3,
    "start_time": "2024-12-15T07:30:54.142Z"
   },
   {
    "duration": 96,
    "start_time": "2024-12-15T07:36:10.356Z"
   },
   {
    "duration": 7,
    "start_time": "2024-12-15T07:36:15.064Z"
   },
   {
    "duration": 118,
    "start_time": "2024-12-15T07:36:37.287Z"
   },
   {
    "duration": 108,
    "start_time": "2024-12-15T07:36:54.293Z"
   },
   {
    "duration": 139,
    "start_time": "2024-12-15T07:37:27.257Z"
   },
   {
    "duration": 463,
    "start_time": "2024-12-15T07:37:44.974Z"
   },
   {
    "duration": 355,
    "start_time": "2024-12-15T07:38:07.501Z"
   },
   {
    "duration": 374,
    "start_time": "2024-12-15T07:38:50.723Z"
   },
   {
    "duration": 480,
    "start_time": "2024-12-15T07:39:09.760Z"
   },
   {
    "duration": 376,
    "start_time": "2024-12-15T07:40:09.999Z"
   },
   {
    "duration": 355,
    "start_time": "2024-12-15T07:40:21.032Z"
   },
   {
    "duration": 116,
    "start_time": "2024-12-15T07:42:19.408Z"
   },
   {
    "duration": 110,
    "start_time": "2024-12-15T07:42:30.567Z"
   },
   {
    "duration": 110,
    "start_time": "2024-12-15T07:42:42.979Z"
   },
   {
    "duration": 485,
    "start_time": "2024-12-15T07:42:53.201Z"
   },
   {
    "duration": 362,
    "start_time": "2024-12-15T07:43:12.246Z"
   },
   {
    "duration": 4,
    "start_time": "2024-12-15T07:44:31.196Z"
   },
   {
    "duration": 415,
    "start_time": "2024-12-15T07:44:37.749Z"
   },
   {
    "duration": 399,
    "start_time": "2024-12-15T07:44:48.093Z"
   },
   {
    "duration": 473,
    "start_time": "2024-12-15T07:45:43.084Z"
   },
   {
    "duration": 498,
    "start_time": "2024-12-15T07:46:19.332Z"
   },
   {
    "duration": 403,
    "start_time": "2024-12-15T07:46:46.070Z"
   },
   {
    "duration": 509,
    "start_time": "2024-12-15T07:47:15.653Z"
   },
   {
    "duration": 399,
    "start_time": "2024-12-15T07:48:38.291Z"
   },
   {
    "duration": 409,
    "start_time": "2024-12-15T07:49:10.649Z"
   },
   {
    "duration": 392,
    "start_time": "2024-12-15T07:51:15.372Z"
   },
   {
    "duration": 527,
    "start_time": "2024-12-15T07:51:41.077Z"
   },
   {
    "duration": 396,
    "start_time": "2024-12-15T07:52:18.760Z"
   },
   {
    "duration": 406,
    "start_time": "2024-12-15T07:52:44.463Z"
   },
   {
    "duration": 290,
    "start_time": "2024-12-15T07:52:55.627Z"
   },
   {
    "duration": 432,
    "start_time": "2024-12-15T07:53:06.485Z"
   },
   {
    "duration": 304,
    "start_time": "2024-12-15T07:53:21.030Z"
   },
   {
    "duration": 297,
    "start_time": "2024-12-15T07:53:42.845Z"
   },
   {
    "duration": 31,
    "start_time": "2024-12-15T08:02:14.732Z"
   },
   {
    "duration": 8,
    "start_time": "2024-12-15T08:03:41.675Z"
   },
   {
    "duration": 9,
    "start_time": "2024-12-15T08:06:40.160Z"
   },
   {
    "duration": 10,
    "start_time": "2024-12-15T08:09:08.228Z"
   },
   {
    "duration": 9,
    "start_time": "2024-12-15T08:10:49.099Z"
   },
   {
    "duration": 8,
    "start_time": "2024-12-15T08:14:41.954Z"
   },
   {
    "duration": 9,
    "start_time": "2024-12-15T08:15:13.000Z"
   },
   {
    "duration": 302,
    "start_time": "2024-12-15T08:18:40.446Z"
   },
   {
    "duration": 248,
    "start_time": "2024-12-15T08:19:22.738Z"
   },
   {
    "duration": 304,
    "start_time": "2024-12-15T08:19:36.256Z"
   },
   {
    "duration": 13,
    "start_time": "2024-12-15T08:29:16.766Z"
   },
   {
    "duration": 8,
    "start_time": "2024-12-15T08:29:24.959Z"
   },
   {
    "duration": 10,
    "start_time": "2024-12-15T08:29:56.496Z"
   },
   {
    "duration": 11,
    "start_time": "2024-12-15T08:30:30.300Z"
   },
   {
    "duration": 10,
    "start_time": "2024-12-15T08:30:35.205Z"
   },
   {
    "duration": 534,
    "start_time": "2024-12-15T08:30:40.327Z"
   },
   {
    "duration": 7,
    "start_time": "2024-12-15T08:31:19.445Z"
   },
   {
    "duration": 9,
    "start_time": "2024-12-15T08:32:32.557Z"
   },
   {
    "duration": 683,
    "start_time": "2024-12-15T08:32:58.687Z"
   },
   {
    "duration": 87,
    "start_time": "2024-12-15T08:32:59.372Z"
   },
   {
    "duration": 11,
    "start_time": "2024-12-15T08:32:59.461Z"
   },
   {
    "duration": 12,
    "start_time": "2024-12-15T08:32:59.474Z"
   },
   {
    "duration": 14,
    "start_time": "2024-12-15T08:32:59.488Z"
   },
   {
    "duration": 17,
    "start_time": "2024-12-15T08:32:59.503Z"
   },
   {
    "duration": 15,
    "start_time": "2024-12-15T08:32:59.522Z"
   },
   {
    "duration": 5,
    "start_time": "2024-12-15T08:32:59.539Z"
   },
   {
    "duration": 6,
    "start_time": "2024-12-15T08:32:59.545Z"
   },
   {
    "duration": 16,
    "start_time": "2024-12-15T08:32:59.553Z"
   },
   {
    "duration": 8,
    "start_time": "2024-12-15T08:32:59.571Z"
   },
   {
    "duration": 39,
    "start_time": "2024-12-15T08:32:59.580Z"
   },
   {
    "duration": 6,
    "start_time": "2024-12-15T08:32:59.628Z"
   },
   {
    "duration": 13,
    "start_time": "2024-12-15T08:32:59.637Z"
   },
   {
    "duration": 11,
    "start_time": "2024-12-15T08:32:59.651Z"
   },
   {
    "duration": 15,
    "start_time": "2024-12-15T08:32:59.664Z"
   },
   {
    "duration": 5,
    "start_time": "2024-12-15T08:32:59.681Z"
   },
   {
    "duration": 30,
    "start_time": "2024-12-15T08:32:59.688Z"
   },
   {
    "duration": 19,
    "start_time": "2024-12-15T08:32:59.720Z"
   },
   {
    "duration": 15,
    "start_time": "2024-12-15T08:32:59.741Z"
   },
   {
    "duration": 194,
    "start_time": "2024-12-15T08:32:59.758Z"
   },
   {
    "duration": 5,
    "start_time": "2024-12-15T08:32:59.954Z"
   },
   {
    "duration": 102,
    "start_time": "2024-12-15T08:32:59.961Z"
   },
   {
    "duration": 20,
    "start_time": "2024-12-15T08:33:00.065Z"
   },
   {
    "duration": 301,
    "start_time": "2024-12-15T08:33:00.087Z"
   },
   {
    "duration": 10,
    "start_time": "2024-12-15T08:33:00.389Z"
   },
   {
    "duration": 71,
    "start_time": "2024-12-15T08:33:00.400Z"
   },
   {
    "duration": 557,
    "start_time": "2024-12-15T08:33:00.473Z"
   },
   {
    "duration": 10,
    "start_time": "2024-12-15T08:33:01.032Z"
   },
   {
    "duration": 24,
    "start_time": "2024-12-15T08:33:01.043Z"
   },
   {
    "duration": 408,
    "start_time": "2024-12-15T08:33:01.069Z"
   },
   {
    "duration": 48,
    "start_time": "2024-12-15T08:33:01.479Z"
   },
   {
    "duration": 15,
    "start_time": "2024-12-15T08:33:01.529Z"
   },
   {
    "duration": 43,
    "start_time": "2024-12-15T08:33:01.545Z"
   },
   {
    "duration": 66,
    "start_time": "2024-12-15T08:33:01.590Z"
   },
   {
    "duration": 26,
    "start_time": "2024-12-15T08:33:01.658Z"
   },
   {
    "duration": 3,
    "start_time": "2024-12-15T08:33:01.686Z"
   },
   {
    "duration": 17,
    "start_time": "2024-12-15T08:33:01.691Z"
   },
   {
    "duration": 19,
    "start_time": "2024-12-15T08:33:01.710Z"
   },
   {
    "duration": 339,
    "start_time": "2024-12-15T08:33:01.731Z"
   },
   {
    "duration": 9,
    "start_time": "2024-12-15T08:33:02.073Z"
   },
   {
    "duration": 14,
    "start_time": "2024-12-15T08:33:02.083Z"
   },
   {
    "duration": 415,
    "start_time": "2024-12-15T08:33:02.098Z"
   },
   {
    "duration": 39,
    "start_time": "2024-12-15T08:39:44.817Z"
   },
   {
    "duration": 140,
    "start_time": "2024-12-15T08:39:55.252Z"
   },
   {
    "duration": 48,
    "start_time": "2024-12-15T08:40:19.712Z"
   },
   {
    "duration": 59,
    "start_time": "2024-12-15T08:43:23.008Z"
   },
   {
    "duration": 46,
    "start_time": "2024-12-15T08:43:36.324Z"
   },
   {
    "duration": 46,
    "start_time": "2024-12-15T08:43:38.366Z"
   },
   {
    "duration": 46,
    "start_time": "2024-12-15T08:44:14.320Z"
   },
   {
    "duration": 51,
    "start_time": "2024-12-15T08:44:35.301Z"
   },
   {
    "duration": 48,
    "start_time": "2024-12-15T08:44:41.547Z"
   },
   {
    "duration": 46,
    "start_time": "2024-12-15T08:52:09.451Z"
   },
   {
    "duration": 44,
    "start_time": "2024-12-15T08:53:17.651Z"
   },
   {
    "duration": 5,
    "start_time": "2024-12-15T09:01:29.678Z"
   },
   {
    "duration": 20,
    "start_time": "2024-12-15T09:01:36.546Z"
   },
   {
    "duration": 11,
    "start_time": "2024-12-15T09:02:37.783Z"
   },
   {
    "duration": 12,
    "start_time": "2024-12-15T09:05:38.956Z"
   },
   {
    "duration": 45,
    "start_time": "2024-12-15T09:05:47.941Z"
   },
   {
    "duration": 45,
    "start_time": "2024-12-15T09:06:04.225Z"
   },
   {
    "duration": 13,
    "start_time": "2024-12-15T09:07:44.677Z"
   },
   {
    "duration": 640,
    "start_time": "2024-12-15T10:01:01.742Z"
   },
   {
    "duration": 82,
    "start_time": "2024-12-15T10:01:02.383Z"
   },
   {
    "duration": 12,
    "start_time": "2024-12-15T10:01:02.467Z"
   },
   {
    "duration": 18,
    "start_time": "2024-12-15T10:01:02.480Z"
   },
   {
    "duration": 24,
    "start_time": "2024-12-15T10:01:02.500Z"
   },
   {
    "duration": 29,
    "start_time": "2024-12-15T10:01:02.526Z"
   },
   {
    "duration": 27,
    "start_time": "2024-12-15T10:01:02.556Z"
   },
   {
    "duration": 8,
    "start_time": "2024-12-15T10:01:02.584Z"
   },
   {
    "duration": 27,
    "start_time": "2024-12-15T10:01:02.593Z"
   },
   {
    "duration": 40,
    "start_time": "2024-12-15T10:01:02.621Z"
   },
   {
    "duration": 19,
    "start_time": "2024-12-15T10:01:02.663Z"
   },
   {
    "duration": 9,
    "start_time": "2024-12-15T10:01:02.683Z"
   },
   {
    "duration": 22,
    "start_time": "2024-12-15T10:01:02.694Z"
   },
   {
    "duration": 113,
    "start_time": "2024-12-15T10:01:02.718Z"
   },
   {
    "duration": 35,
    "start_time": "2024-12-15T10:01:02.833Z"
   },
   {
    "duration": 26,
    "start_time": "2024-12-15T10:01:02.870Z"
   },
   {
    "duration": 25,
    "start_time": "2024-12-15T10:01:02.897Z"
   },
   {
    "duration": 89,
    "start_time": "2024-12-15T10:01:02.923Z"
   },
   {
    "duration": 49,
    "start_time": "2024-12-15T10:01:03.014Z"
   },
   {
    "duration": 9,
    "start_time": "2024-12-15T10:01:03.064Z"
   },
   {
    "duration": 183,
    "start_time": "2024-12-15T10:01:03.075Z"
   },
   {
    "duration": 6,
    "start_time": "2024-12-15T10:01:03.260Z"
   },
   {
    "duration": 95,
    "start_time": "2024-12-15T10:01:03.268Z"
   },
   {
    "duration": 10,
    "start_time": "2024-12-15T10:01:03.365Z"
   },
   {
    "duration": 309,
    "start_time": "2024-12-15T10:01:03.376Z"
   },
   {
    "duration": 10,
    "start_time": "2024-12-15T10:01:03.687Z"
   },
   {
    "duration": 10,
    "start_time": "2024-12-15T10:01:03.715Z"
   },
   {
    "duration": 541,
    "start_time": "2024-12-15T10:01:03.726Z"
   },
   {
    "duration": 11,
    "start_time": "2024-12-15T10:01:04.268Z"
   },
   {
    "duration": 30,
    "start_time": "2024-12-15T10:01:04.281Z"
   },
   {
    "duration": 413,
    "start_time": "2024-12-15T10:01:04.313Z"
   },
   {
    "duration": 38,
    "start_time": "2024-12-15T10:01:04.728Z"
   },
   {
    "duration": 13,
    "start_time": "2024-12-15T10:01:04.767Z"
   },
   {
    "duration": 4,
    "start_time": "2024-12-15T10:01:04.782Z"
   },
   {
    "duration": 33,
    "start_time": "2024-12-15T10:01:04.815Z"
   },
   {
    "duration": 45,
    "start_time": "2024-12-15T10:01:04.850Z"
   },
   {
    "duration": 4,
    "start_time": "2024-12-15T10:01:04.896Z"
   },
   {
    "duration": 8,
    "start_time": "2024-12-15T10:01:04.915Z"
   },
   {
    "duration": 50,
    "start_time": "2024-12-15T10:01:04.925Z"
   },
   {
    "duration": 335,
    "start_time": "2024-12-15T10:01:04.977Z"
   },
   {
    "duration": 8,
    "start_time": "2024-12-15T10:01:05.317Z"
   },
   {
    "duration": 251,
    "start_time": "2024-12-15T10:01:05.327Z"
   },
   {
    "duration": 313,
    "start_time": "2024-12-15T10:01:05.579Z"
   },
   {
    "duration": 150,
    "start_time": "2024-12-15T10:01:05.894Z"
   },
   {
    "duration": 13,
    "start_time": "2024-12-15T10:01:06.046Z"
   },
   {
    "duration": 429,
    "start_time": "2024-12-15T10:18:21.305Z"
   },
   {
    "duration": 6,
    "start_time": "2024-12-15T10:28:32.230Z"
   },
   {
    "duration": 6,
    "start_time": "2024-12-15T10:30:02.755Z"
   },
   {
    "duration": 5,
    "start_time": "2024-12-15T10:30:59.080Z"
   },
   {
    "duration": 1230,
    "start_time": "2024-12-15T11:28:58.778Z"
   },
   {
    "duration": 84,
    "start_time": "2024-12-15T11:29:00.010Z"
   },
   {
    "duration": 12,
    "start_time": "2024-12-15T11:29:00.096Z"
   },
   {
    "duration": 39,
    "start_time": "2024-12-15T11:29:00.110Z"
   },
   {
    "duration": 48,
    "start_time": "2024-12-15T11:29:00.151Z"
   },
   {
    "duration": 70,
    "start_time": "2024-12-15T11:29:00.201Z"
   },
   {
    "duration": 131,
    "start_time": "2024-12-15T11:29:00.273Z"
   },
   {
    "duration": 135,
    "start_time": "2024-12-15T11:29:00.406Z"
   },
   {
    "duration": 50,
    "start_time": "2024-12-15T11:29:00.543Z"
   },
   {
    "duration": 8,
    "start_time": "2024-12-15T11:29:00.595Z"
   },
   {
    "duration": 15,
    "start_time": "2024-12-15T11:29:00.604Z"
   },
   {
    "duration": 22,
    "start_time": "2024-12-15T11:29:00.621Z"
   },
   {
    "duration": 22,
    "start_time": "2024-12-15T11:29:00.645Z"
   },
   {
    "duration": 51,
    "start_time": "2024-12-15T11:29:00.669Z"
   },
   {
    "duration": 31,
    "start_time": "2024-12-15T11:29:00.722Z"
   },
   {
    "duration": 37,
    "start_time": "2024-12-15T11:29:00.754Z"
   },
   {
    "duration": 19,
    "start_time": "2024-12-15T11:29:00.792Z"
   },
   {
    "duration": 49,
    "start_time": "2024-12-15T11:29:00.813Z"
   },
   {
    "duration": 65,
    "start_time": "2024-12-15T11:29:00.864Z"
   },
   {
    "duration": 27,
    "start_time": "2024-12-15T11:29:00.931Z"
   },
   {
    "duration": 214,
    "start_time": "2024-12-15T11:29:00.960Z"
   },
   {
    "duration": 6,
    "start_time": "2024-12-15T11:29:01.176Z"
   },
   {
    "duration": 101,
    "start_time": "2024-12-15T11:29:01.184Z"
   },
   {
    "duration": 17,
    "start_time": "2024-12-15T11:29:01.287Z"
   },
   {
    "duration": 362,
    "start_time": "2024-12-15T11:29:01.307Z"
   },
   {
    "duration": 11,
    "start_time": "2024-12-15T11:29:01.671Z"
   },
   {
    "duration": 21,
    "start_time": "2024-12-15T11:29:01.683Z"
   },
   {
    "duration": 475,
    "start_time": "2024-12-15T11:29:01.714Z"
   },
   {
    "duration": 10,
    "start_time": "2024-12-15T11:29:02.191Z"
   },
   {
    "duration": 80,
    "start_time": "2024-12-15T11:29:02.202Z"
   },
   {
    "duration": 481,
    "start_time": "2024-12-15T11:29:02.284Z"
   },
   {
    "duration": 54,
    "start_time": "2024-12-15T11:29:02.767Z"
   },
   {
    "duration": 12,
    "start_time": "2024-12-15T11:29:02.823Z"
   },
   {
    "duration": 117,
    "start_time": "2024-12-15T11:29:02.837Z"
   },
   {
    "duration": 101,
    "start_time": "2024-12-15T11:29:02.956Z"
   },
   {
    "duration": 33,
    "start_time": "2024-12-15T11:29:03.059Z"
   },
   {
    "duration": 4,
    "start_time": "2024-12-15T11:29:03.094Z"
   },
   {
    "duration": 9,
    "start_time": "2024-12-15T11:29:03.099Z"
   },
   {
    "duration": 48,
    "start_time": "2024-12-15T11:29:03.114Z"
   },
   {
    "duration": 336,
    "start_time": "2024-12-15T11:29:03.164Z"
   },
   {
    "duration": 18,
    "start_time": "2024-12-15T11:29:03.502Z"
   },
   {
    "duration": 10,
    "start_time": "2024-12-15T11:29:03.522Z"
   },
   {
    "duration": 330,
    "start_time": "2024-12-15T11:29:03.533Z"
   },
   {
    "duration": 63,
    "start_time": "2024-12-15T11:29:03.866Z"
   },
   {
    "duration": 14,
    "start_time": "2024-12-15T11:29:03.931Z"
   },
   {
    "duration": 27,
    "start_time": "2024-12-15T11:29:03.947Z"
   },
   {
    "duration": 9,
    "start_time": "2024-12-15T11:29:03.976Z"
   },
   {
    "duration": 6,
    "start_time": "2024-12-15T11:32:15.714Z"
   },
   {
    "duration": 6,
    "start_time": "2024-12-15T11:49:09.174Z"
   },
   {
    "duration": 8,
    "start_time": "2024-12-15T11:50:11.822Z"
   },
   {
    "duration": 9,
    "start_time": "2024-12-15T11:55:52.615Z"
   },
   {
    "duration": 1369,
    "start_time": "2024-12-15T17:16:30.177Z"
   },
   {
    "duration": 241,
    "start_time": "2024-12-15T17:16:31.548Z"
   },
   {
    "duration": 11,
    "start_time": "2024-12-15T17:16:31.791Z"
   },
   {
    "duration": 39,
    "start_time": "2024-12-15T17:16:31.804Z"
   },
   {
    "duration": 33,
    "start_time": "2024-12-15T17:16:31.844Z"
   },
   {
    "duration": 8,
    "start_time": "2024-12-15T17:16:31.878Z"
   },
   {
    "duration": 10,
    "start_time": "2024-12-15T17:16:31.888Z"
   },
   {
    "duration": 11,
    "start_time": "2024-12-15T17:16:31.900Z"
   },
   {
    "duration": 25,
    "start_time": "2024-12-15T17:16:31.913Z"
   },
   {
    "duration": 10,
    "start_time": "2024-12-15T17:16:31.941Z"
   },
   {
    "duration": 6,
    "start_time": "2024-12-15T17:16:31.952Z"
   },
   {
    "duration": 16,
    "start_time": "2024-12-15T17:16:31.960Z"
   },
   {
    "duration": 6,
    "start_time": "2024-12-15T17:16:31.977Z"
   },
   {
    "duration": 17,
    "start_time": "2024-12-15T17:16:31.985Z"
   },
   {
    "duration": 6,
    "start_time": "2024-12-15T17:16:32.003Z"
   },
   {
    "duration": 24,
    "start_time": "2024-12-15T17:16:32.010Z"
   },
   {
    "duration": 22,
    "start_time": "2024-12-15T17:16:32.036Z"
   },
   {
    "duration": 14,
    "start_time": "2024-12-15T17:16:32.060Z"
   },
   {
    "duration": 11,
    "start_time": "2024-12-15T17:16:32.076Z"
   },
   {
    "duration": 6,
    "start_time": "2024-12-15T17:16:32.088Z"
   },
   {
    "duration": 198,
    "start_time": "2024-12-15T17:16:32.095Z"
   },
   {
    "duration": 6,
    "start_time": "2024-12-15T17:16:32.294Z"
   },
   {
    "duration": 98,
    "start_time": "2024-12-15T17:16:32.302Z"
   },
   {
    "duration": 11,
    "start_time": "2024-12-15T17:16:32.402Z"
   },
   {
    "duration": 329,
    "start_time": "2024-12-15T17:16:32.415Z"
   },
   {
    "duration": 25,
    "start_time": "2024-12-15T17:16:32.745Z"
   },
   {
    "duration": 17,
    "start_time": "2024-12-15T17:16:32.773Z"
   },
   {
    "duration": 492,
    "start_time": "2024-12-15T17:16:32.795Z"
   },
   {
    "duration": 10,
    "start_time": "2024-12-15T17:16:33.288Z"
   },
   {
    "duration": 11,
    "start_time": "2024-12-15T17:16:33.300Z"
   },
   {
    "duration": 524,
    "start_time": "2024-12-15T17:16:33.312Z"
   },
   {
    "duration": 45,
    "start_time": "2024-12-15T17:16:33.837Z"
   },
   {
    "duration": 11,
    "start_time": "2024-12-15T17:16:33.884Z"
   },
   {
    "duration": 5,
    "start_time": "2024-12-15T17:16:33.896Z"
   },
   {
    "duration": 41,
    "start_time": "2024-12-15T17:16:33.903Z"
   },
   {
    "duration": 58,
    "start_time": "2024-12-15T17:16:33.946Z"
   },
   {
    "duration": 3,
    "start_time": "2024-12-15T17:16:34.006Z"
   },
   {
    "duration": 19,
    "start_time": "2024-12-15T17:16:34.011Z"
   },
   {
    "duration": 27,
    "start_time": "2024-12-15T17:16:34.032Z"
   },
   {
    "duration": 351,
    "start_time": "2024-12-15T17:16:34.061Z"
   },
   {
    "duration": 9,
    "start_time": "2024-12-15T17:16:34.415Z"
   },
   {
    "duration": 35,
    "start_time": "2024-12-15T17:16:34.426Z"
   },
   {
    "duration": 331,
    "start_time": "2024-12-15T17:16:34.463Z"
   },
   {
    "duration": 49,
    "start_time": "2024-12-15T17:16:34.796Z"
   },
   {
    "duration": 29,
    "start_time": "2024-12-15T17:16:34.847Z"
   },
   {
    "duration": 66,
    "start_time": "2024-12-15T17:16:34.877Z"
   },
   {
    "duration": 22,
    "start_time": "2024-12-15T17:16:34.944Z"
   },
   {
    "duration": 17,
    "start_time": "2024-12-15T17:16:34.968Z"
   },
   {
    "duration": 47,
    "start_time": "2024-12-15T17:33:30.705Z"
   },
   {
    "duration": 295,
    "start_time": "2024-12-15T18:29:48.493Z"
   },
   {
    "duration": 100,
    "start_time": "2024-12-15T18:33:52.002Z"
   },
   {
    "duration": 1530,
    "start_time": "2024-12-15T18:34:36.443Z"
   },
   {
    "duration": 1563,
    "start_time": "2024-12-15T18:44:44.604Z"
   },
   {
    "duration": 1556,
    "start_time": "2024-12-15T18:45:20.958Z"
   },
   {
    "duration": 1553,
    "start_time": "2024-12-15T18:45:33.143Z"
   },
   {
    "duration": 391,
    "start_time": "2024-12-15T18:52:58.297Z"
   },
   {
    "duration": 99,
    "start_time": "2024-12-15T18:53:18.583Z"
   },
   {
    "duration": 1649,
    "start_time": "2024-12-15T18:53:38.553Z"
   },
   {
    "duration": 2736,
    "start_time": "2024-12-15T19:11:16.528Z"
   },
   {
    "duration": 2765,
    "start_time": "2024-12-15T19:26:51.246Z"
   },
   {
    "duration": 1630,
    "start_time": "2024-12-15T19:32:25.279Z"
   },
   {
    "duration": 1629,
    "start_time": "2024-12-15T19:33:02.447Z"
   },
   {
    "duration": 1644,
    "start_time": "2024-12-15T19:34:43.846Z"
   },
   {
    "duration": 1639,
    "start_time": "2024-12-15T19:37:34.995Z"
   },
   {
    "duration": 1647,
    "start_time": "2024-12-15T19:37:55.108Z"
   },
   {
    "duration": 7,
    "start_time": "2024-12-15T19:48:58.061Z"
   },
   {
    "duration": 6,
    "start_time": "2024-12-15T19:53:22.656Z"
   },
   {
    "duration": 6,
    "start_time": "2024-12-15T19:53:28.627Z"
   },
   {
    "duration": 7,
    "start_time": "2024-12-15T19:54:47.853Z"
   },
   {
    "duration": 6,
    "start_time": "2024-12-15T19:55:05.159Z"
   },
   {
    "duration": 6,
    "start_time": "2024-12-15T19:55:35.060Z"
   },
   {
    "duration": 6,
    "start_time": "2024-12-15T20:06:12.144Z"
   },
   {
    "duration": 87,
    "start_time": "2024-12-15T20:17:06.848Z"
   },
   {
    "duration": 1183,
    "start_time": "2024-12-15T20:17:18.948Z"
   },
   {
    "duration": 82,
    "start_time": "2024-12-15T20:17:20.133Z"
   },
   {
    "duration": 11,
    "start_time": "2024-12-15T20:17:20.216Z"
   },
   {
    "duration": 27,
    "start_time": "2024-12-15T20:17:20.229Z"
   },
   {
    "duration": 23,
    "start_time": "2024-12-15T20:17:20.258Z"
   },
   {
    "duration": 10,
    "start_time": "2024-12-15T20:17:20.283Z"
   },
   {
    "duration": 29,
    "start_time": "2024-12-15T20:17:20.295Z"
   },
   {
    "duration": 4,
    "start_time": "2024-12-15T20:17:20.326Z"
   },
   {
    "duration": 5,
    "start_time": "2024-12-15T20:17:20.332Z"
   },
   {
    "duration": 19,
    "start_time": "2024-12-15T20:17:20.339Z"
   },
   {
    "duration": 9,
    "start_time": "2024-12-15T20:17:20.360Z"
   },
   {
    "duration": 8,
    "start_time": "2024-12-15T20:17:20.371Z"
   },
   {
    "duration": 5,
    "start_time": "2024-12-15T20:17:20.381Z"
   },
   {
    "duration": 14,
    "start_time": "2024-12-15T20:17:20.389Z"
   },
   {
    "duration": 10,
    "start_time": "2024-12-15T20:17:20.404Z"
   },
   {
    "duration": 8,
    "start_time": "2024-12-15T20:17:20.415Z"
   },
   {
    "duration": 17,
    "start_time": "2024-12-15T20:17:20.425Z"
   },
   {
    "duration": 27,
    "start_time": "2024-12-15T20:17:20.444Z"
   },
   {
    "duration": 10,
    "start_time": "2024-12-15T20:17:20.473Z"
   },
   {
    "duration": 11,
    "start_time": "2024-12-15T20:17:20.485Z"
   },
   {
    "duration": 193,
    "start_time": "2024-12-15T20:17:20.498Z"
   },
   {
    "duration": 6,
    "start_time": "2024-12-15T20:17:20.693Z"
   },
   {
    "duration": 99,
    "start_time": "2024-12-15T20:17:20.701Z"
   },
   {
    "duration": 8,
    "start_time": "2024-12-15T20:17:20.802Z"
   },
   {
    "duration": 295,
    "start_time": "2024-12-15T20:17:20.811Z"
   },
   {
    "duration": 9,
    "start_time": "2024-12-15T20:17:21.108Z"
   },
   {
    "duration": 22,
    "start_time": "2024-12-15T20:17:21.119Z"
   },
   {
    "duration": 483,
    "start_time": "2024-12-15T20:17:21.143Z"
   },
   {
    "duration": 10,
    "start_time": "2024-12-15T20:17:21.627Z"
   },
   {
    "duration": 37,
    "start_time": "2024-12-15T20:17:21.639Z"
   },
   {
    "duration": 467,
    "start_time": "2024-12-15T20:17:21.678Z"
   },
   {
    "duration": 43,
    "start_time": "2024-12-15T20:17:22.147Z"
   },
   {
    "duration": 10,
    "start_time": "2024-12-15T20:17:22.192Z"
   },
   {
    "duration": 4,
    "start_time": "2024-12-15T20:17:22.204Z"
   },
   {
    "duration": 60,
    "start_time": "2024-12-15T20:17:22.210Z"
   },
   {
    "duration": 35,
    "start_time": "2024-12-15T20:17:22.273Z"
   },
   {
    "duration": 4,
    "start_time": "2024-12-15T20:17:22.310Z"
   },
   {
    "duration": 37,
    "start_time": "2024-12-15T20:17:22.316Z"
   },
   {
    "duration": 15,
    "start_time": "2024-12-15T20:17:22.356Z"
   },
   {
    "duration": 326,
    "start_time": "2024-12-15T20:17:22.373Z"
   },
   {
    "duration": 10,
    "start_time": "2024-12-15T20:17:22.703Z"
   },
   {
    "duration": 11,
    "start_time": "2024-12-15T20:17:22.714Z"
   },
   {
    "duration": 353,
    "start_time": "2024-12-15T20:17:22.727Z"
   },
   {
    "duration": 52,
    "start_time": "2024-12-15T20:17:23.082Z"
   },
   {
    "duration": 13,
    "start_time": "2024-12-15T20:17:23.135Z"
   },
   {
    "duration": 26,
    "start_time": "2024-12-15T20:17:23.149Z"
   },
   {
    "duration": 36,
    "start_time": "2024-12-15T20:17:23.176Z"
   },
   {
    "duration": 45,
    "start_time": "2024-12-15T20:17:23.213Z"
   },
   {
    "duration": 1728,
    "start_time": "2024-12-15T20:17:23.260Z"
   },
   {
    "duration": 0,
    "start_time": "2024-12-15T20:17:24.990Z"
   },
   {
    "duration": 1507,
    "start_time": "2024-12-15T20:19:11.668Z"
   },
   {
    "duration": 6,
    "start_time": "2024-12-15T20:19:19.555Z"
   },
   {
    "duration": 4,
    "start_time": "2024-12-15T20:20:10.051Z"
   },
   {
    "duration": 1132,
    "start_time": "2024-12-15T20:20:18.292Z"
   },
   {
    "duration": 82,
    "start_time": "2024-12-15T20:20:19.426Z"
   },
   {
    "duration": 11,
    "start_time": "2024-12-15T20:20:19.510Z"
   },
   {
    "duration": 14,
    "start_time": "2024-12-15T20:20:19.523Z"
   },
   {
    "duration": 11,
    "start_time": "2024-12-15T20:20:19.539Z"
   },
   {
    "duration": 22,
    "start_time": "2024-12-15T20:20:19.552Z"
   },
   {
    "duration": 11,
    "start_time": "2024-12-15T20:20:19.575Z"
   },
   {
    "duration": 5,
    "start_time": "2024-12-15T20:20:19.588Z"
   },
   {
    "duration": 19,
    "start_time": "2024-12-15T20:20:19.595Z"
   },
   {
    "duration": 97,
    "start_time": "2024-12-15T20:20:19.617Z"
   },
   {
    "duration": 7,
    "start_time": "2024-12-15T20:20:19.716Z"
   },
   {
    "duration": 10,
    "start_time": "2024-12-15T20:20:19.725Z"
   },
   {
    "duration": 15,
    "start_time": "2024-12-15T20:20:19.736Z"
   },
   {
    "duration": 8,
    "start_time": "2024-12-15T20:20:19.753Z"
   },
   {
    "duration": 7,
    "start_time": "2024-12-15T20:20:19.762Z"
   },
   {
    "duration": 6,
    "start_time": "2024-12-15T20:20:19.770Z"
   },
   {
    "duration": 5,
    "start_time": "2024-12-15T20:20:19.777Z"
   },
   {
    "duration": 15,
    "start_time": "2024-12-15T20:20:19.783Z"
   },
   {
    "duration": 9,
    "start_time": "2024-12-15T20:20:19.799Z"
   },
   {
    "duration": 9,
    "start_time": "2024-12-15T20:20:19.810Z"
   },
   {
    "duration": 208,
    "start_time": "2024-12-15T20:20:19.820Z"
   },
   {
    "duration": 5,
    "start_time": "2024-12-15T20:20:20.030Z"
   },
   {
    "duration": 156,
    "start_time": "2024-12-15T20:20:20.037Z"
   },
   {
    "duration": 8,
    "start_time": "2024-12-15T20:20:20.195Z"
   },
   {
    "duration": 291,
    "start_time": "2024-12-15T20:20:20.205Z"
   },
   {
    "duration": 10,
    "start_time": "2024-12-15T20:20:20.498Z"
   },
   {
    "duration": 9,
    "start_time": "2024-12-15T20:20:20.510Z"
   },
   {
    "duration": 500,
    "start_time": "2024-12-15T20:20:20.522Z"
   },
   {
    "duration": 10,
    "start_time": "2024-12-15T20:20:21.023Z"
   },
   {
    "duration": 16,
    "start_time": "2024-12-15T20:20:21.035Z"
   },
   {
    "duration": 494,
    "start_time": "2024-12-15T20:20:21.052Z"
   },
   {
    "duration": 43,
    "start_time": "2024-12-15T20:20:21.548Z"
   },
   {
    "duration": 11,
    "start_time": "2024-12-15T20:20:21.593Z"
   },
   {
    "duration": 69,
    "start_time": "2024-12-15T20:20:21.605Z"
   },
   {
    "duration": 38,
    "start_time": "2024-12-15T20:20:21.676Z"
   },
   {
    "duration": 25,
    "start_time": "2024-12-15T20:20:21.716Z"
   },
   {
    "duration": 4,
    "start_time": "2024-12-15T20:20:21.743Z"
   },
   {
    "duration": 28,
    "start_time": "2024-12-15T20:20:21.749Z"
   },
   {
    "duration": 9,
    "start_time": "2024-12-15T20:20:21.779Z"
   },
   {
    "duration": 337,
    "start_time": "2024-12-15T20:20:21.789Z"
   },
   {
    "duration": 9,
    "start_time": "2024-12-15T20:20:22.128Z"
   },
   {
    "duration": 14,
    "start_time": "2024-12-15T20:20:22.139Z"
   },
   {
    "duration": 320,
    "start_time": "2024-12-15T20:20:22.171Z"
   },
   {
    "duration": 49,
    "start_time": "2024-12-15T20:20:22.493Z"
   },
   {
    "duration": 29,
    "start_time": "2024-12-15T20:20:22.543Z"
   },
   {
    "duration": 5,
    "start_time": "2024-12-15T20:20:22.574Z"
   },
   {
    "duration": 5,
    "start_time": "2024-12-15T20:20:22.581Z"
   },
   {
    "duration": 13,
    "start_time": "2024-12-15T20:20:22.588Z"
   },
   {
    "duration": 1570,
    "start_time": "2024-12-15T20:20:22.603Z"
   },
   {
    "duration": 6,
    "start_time": "2024-12-15T20:20:24.175Z"
   },
   {
    "duration": 18,
    "start_time": "2024-12-15T21:14:07.247Z"
   },
   {
    "duration": 15,
    "start_time": "2024-12-15T21:15:43.298Z"
   },
   {
    "duration": 14,
    "start_time": "2024-12-15T21:16:09.581Z"
   },
   {
    "duration": 12,
    "start_time": "2024-12-15T21:18:04.149Z"
   },
   {
    "duration": 14,
    "start_time": "2024-12-15T21:18:09.834Z"
   },
   {
    "duration": 17,
    "start_time": "2024-12-15T21:19:01.144Z"
   },
   {
    "duration": 19,
    "start_time": "2024-12-15T21:20:54.408Z"
   },
   {
    "duration": 24,
    "start_time": "2024-12-15T21:21:00.949Z"
   },
   {
    "duration": 23,
    "start_time": "2024-12-15T21:21:38.735Z"
   },
   {
    "duration": 33,
    "start_time": "2024-12-15T21:27:28.846Z"
   },
   {
    "duration": 103,
    "start_time": "2024-12-15T21:27:50.245Z"
   },
   {
    "duration": 10,
    "start_time": "2024-12-15T21:28:13.799Z"
   },
   {
    "duration": 14,
    "start_time": "2024-12-15T21:28:25.781Z"
   },
   {
    "duration": 32,
    "start_time": "2024-12-15T21:28:42.779Z"
   },
   {
    "duration": 12,
    "start_time": "2024-12-15T21:28:56.296Z"
   },
   {
    "duration": 13,
    "start_time": "2024-12-15T21:29:03.465Z"
   },
   {
    "duration": 14,
    "start_time": "2024-12-15T21:29:17.303Z"
   },
   {
    "duration": 33,
    "start_time": "2024-12-15T21:29:25.786Z"
   },
   {
    "duration": 53,
    "start_time": "2024-12-15T21:30:56.824Z"
   },
   {
    "duration": 53,
    "start_time": "2024-12-15T21:31:08.962Z"
   },
   {
    "duration": 56,
    "start_time": "2024-12-15T21:31:44.642Z"
   },
   {
    "duration": 62,
    "start_time": "2024-12-15T21:32:03.073Z"
   },
   {
    "duration": 1423,
    "start_time": "2024-12-15T21:34:41.183Z"
   },
   {
    "duration": 1509,
    "start_time": "2024-12-15T21:34:59.007Z"
   },
   {
    "duration": 95,
    "start_time": "2024-12-15T21:35:28.900Z"
   },
   {
    "duration": 7,
    "start_time": "2024-12-15T21:35:37.093Z"
   },
   {
    "duration": 1119,
    "start_time": "2024-12-15T21:55:52.608Z"
   },
   {
    "duration": 82,
    "start_time": "2024-12-15T21:55:53.729Z"
   },
   {
    "duration": 12,
    "start_time": "2024-12-15T21:55:53.813Z"
   },
   {
    "duration": 15,
    "start_time": "2024-12-15T21:55:53.826Z"
   },
   {
    "duration": 11,
    "start_time": "2024-12-15T21:55:53.844Z"
   },
   {
    "duration": 19,
    "start_time": "2024-12-15T21:55:53.857Z"
   },
   {
    "duration": 10,
    "start_time": "2024-12-15T21:55:53.878Z"
   },
   {
    "duration": 7,
    "start_time": "2024-12-15T21:55:53.890Z"
   },
   {
    "duration": 8,
    "start_time": "2024-12-15T21:55:53.898Z"
   },
   {
    "duration": 5,
    "start_time": "2024-12-15T21:55:53.908Z"
   },
   {
    "duration": 7,
    "start_time": "2024-12-15T21:55:53.914Z"
   },
   {
    "duration": 9,
    "start_time": "2024-12-15T21:55:53.923Z"
   },
   {
    "duration": 6,
    "start_time": "2024-12-15T21:55:53.971Z"
   },
   {
    "duration": 8,
    "start_time": "2024-12-15T21:55:53.981Z"
   },
   {
    "duration": 82,
    "start_time": "2024-12-15T21:55:53.991Z"
   },
   {
    "duration": 13,
    "start_time": "2024-12-15T21:55:54.075Z"
   },
   {
    "duration": 16,
    "start_time": "2024-12-15T21:55:54.090Z"
   },
   {
    "duration": 12,
    "start_time": "2024-12-15T21:55:54.108Z"
   },
   {
    "duration": 14,
    "start_time": "2024-12-15T21:55:54.122Z"
   },
   {
    "duration": 8,
    "start_time": "2024-12-15T21:55:54.141Z"
   },
   {
    "duration": 216,
    "start_time": "2024-12-15T21:55:54.151Z"
   },
   {
    "duration": 6,
    "start_time": "2024-12-15T21:55:54.369Z"
   },
   {
    "duration": 100,
    "start_time": "2024-12-15T21:55:54.376Z"
   },
   {
    "duration": 8,
    "start_time": "2024-12-15T21:55:54.478Z"
   },
   {
    "duration": 299,
    "start_time": "2024-12-15T21:55:54.487Z"
   },
   {
    "duration": 11,
    "start_time": "2024-12-15T21:55:54.787Z"
   },
   {
    "duration": 10,
    "start_time": "2024-12-15T21:55:54.800Z"
   },
   {
    "duration": 502,
    "start_time": "2024-12-15T21:55:54.812Z"
   },
   {
    "duration": 11,
    "start_time": "2024-12-15T21:55:55.316Z"
   },
   {
    "duration": 8,
    "start_time": "2024-12-15T21:55:55.328Z"
   },
   {
    "duration": 533,
    "start_time": "2024-12-15T21:55:55.337Z"
   },
   {
    "duration": 36,
    "start_time": "2024-12-15T21:55:55.872Z"
   },
   {
    "duration": 11,
    "start_time": "2024-12-15T21:55:55.909Z"
   },
   {
    "duration": 4,
    "start_time": "2024-12-15T21:55:55.922Z"
   },
   {
    "duration": 55,
    "start_time": "2024-12-15T21:55:55.928Z"
   },
   {
    "duration": 24,
    "start_time": "2024-12-15T21:55:55.984Z"
   },
   {
    "duration": 56,
    "start_time": "2024-12-15T21:55:56.010Z"
   },
   {
    "duration": 14,
    "start_time": "2024-12-15T21:55:56.068Z"
   },
   {
    "duration": 9,
    "start_time": "2024-12-15T21:55:56.084Z"
   },
   {
    "duration": 322,
    "start_time": "2024-12-15T21:55:56.095Z"
   },
   {
    "duration": 9,
    "start_time": "2024-12-15T21:55:56.421Z"
   },
   {
    "duration": 10,
    "start_time": "2024-12-15T21:55:56.432Z"
   },
   {
    "duration": 347,
    "start_time": "2024-12-15T21:55:56.444Z"
   },
   {
    "duration": 50,
    "start_time": "2024-12-15T21:55:56.793Z"
   },
   {
    "duration": 28,
    "start_time": "2024-12-15T21:55:56.845Z"
   },
   {
    "duration": 60,
    "start_time": "2024-12-15T21:55:56.875Z"
   },
   {
    "duration": 6,
    "start_time": "2024-12-15T21:55:56.937Z"
   },
   {
    "duration": 24,
    "start_time": "2024-12-15T21:55:56.945Z"
   },
   {
    "duration": 8,
    "start_time": "2024-12-15T21:55:56.971Z"
   },
   {
    "duration": 1534,
    "start_time": "2024-12-15T21:55:56.981Z"
   },
   {
    "duration": 6,
    "start_time": "2024-12-15T21:55:58.516Z"
   },
   {
    "duration": 1139,
    "start_time": "2024-12-15T22:11:30.703Z"
   },
   {
    "duration": 82,
    "start_time": "2024-12-15T22:11:31.844Z"
   },
   {
    "duration": 11,
    "start_time": "2024-12-15T22:11:31.927Z"
   },
   {
    "duration": 25,
    "start_time": "2024-12-15T22:11:31.940Z"
   },
   {
    "duration": 10,
    "start_time": "2024-12-15T22:11:31.967Z"
   },
   {
    "duration": 8,
    "start_time": "2024-12-15T22:11:31.978Z"
   },
   {
    "duration": 10,
    "start_time": "2024-12-15T22:11:31.987Z"
   },
   {
    "duration": 23,
    "start_time": "2024-12-15T22:11:31.998Z"
   },
   {
    "duration": 21,
    "start_time": "2024-12-15T22:11:32.023Z"
   },
   {
    "duration": 4,
    "start_time": "2024-12-15T22:11:32.047Z"
   },
   {
    "duration": 7,
    "start_time": "2024-12-15T22:11:32.052Z"
   },
   {
    "duration": 16,
    "start_time": "2024-12-15T22:11:32.060Z"
   },
   {
    "duration": 20,
    "start_time": "2024-12-15T22:11:32.078Z"
   },
   {
    "duration": 17,
    "start_time": "2024-12-15T22:11:32.099Z"
   },
   {
    "duration": 9,
    "start_time": "2024-12-15T22:11:32.118Z"
   },
   {
    "duration": 18,
    "start_time": "2024-12-15T22:11:32.129Z"
   },
   {
    "duration": 8,
    "start_time": "2024-12-15T22:11:32.148Z"
   },
   {
    "duration": 15,
    "start_time": "2024-12-15T22:11:32.157Z"
   },
   {
    "duration": 12,
    "start_time": "2024-12-15T22:11:32.174Z"
   },
   {
    "duration": 6,
    "start_time": "2024-12-15T22:11:32.187Z"
   },
   {
    "duration": 216,
    "start_time": "2024-12-15T22:11:32.195Z"
   },
   {
    "duration": 6,
    "start_time": "2024-12-15T22:11:32.413Z"
   },
   {
    "duration": 100,
    "start_time": "2024-12-15T22:11:32.421Z"
   },
   {
    "duration": 8,
    "start_time": "2024-12-15T22:11:32.523Z"
   },
   {
    "duration": 298,
    "start_time": "2024-12-15T22:11:32.532Z"
   },
   {
    "duration": 10,
    "start_time": "2024-12-15T22:11:32.832Z"
   },
   {
    "duration": 22,
    "start_time": "2024-12-15T22:11:32.843Z"
   },
   {
    "duration": 469,
    "start_time": "2024-12-15T22:11:32.872Z"
   },
   {
    "duration": 10,
    "start_time": "2024-12-15T22:11:33.343Z"
   },
   {
    "duration": 20,
    "start_time": "2024-12-15T22:11:33.355Z"
   },
   {
    "duration": 485,
    "start_time": "2024-12-15T22:11:33.377Z"
   },
   {
    "duration": 41,
    "start_time": "2024-12-15T22:11:33.863Z"
   },
   {
    "duration": 11,
    "start_time": "2024-12-15T22:11:33.905Z"
   },
   {
    "duration": 22,
    "start_time": "2024-12-15T22:11:33.918Z"
   },
   {
    "duration": 36,
    "start_time": "2024-12-15T22:11:33.941Z"
   },
   {
    "duration": 23,
    "start_time": "2024-12-15T22:11:33.979Z"
   },
   {
    "duration": 4,
    "start_time": "2024-12-15T22:11:34.003Z"
   },
   {
    "duration": 32,
    "start_time": "2024-12-15T22:11:34.008Z"
   },
   {
    "duration": 23,
    "start_time": "2024-12-15T22:11:34.042Z"
   },
   {
    "duration": 340,
    "start_time": "2024-12-15T22:11:34.066Z"
   },
   {
    "duration": 10,
    "start_time": "2024-12-15T22:11:34.408Z"
   },
   {
    "duration": 21,
    "start_time": "2024-12-15T22:11:34.421Z"
   },
   {
    "duration": 341,
    "start_time": "2024-12-15T22:11:34.444Z"
   },
   {
    "duration": 48,
    "start_time": "2024-12-15T22:11:34.787Z"
   },
   {
    "duration": 13,
    "start_time": "2024-12-15T22:11:34.837Z"
   },
   {
    "duration": 75,
    "start_time": "2024-12-15T22:11:34.851Z"
   },
   {
    "duration": 5,
    "start_time": "2024-12-15T22:11:34.928Z"
   },
   {
    "duration": 13,
    "start_time": "2024-12-15T22:11:34.934Z"
   },
   {
    "duration": 24,
    "start_time": "2024-12-15T22:11:34.948Z"
   },
   {
    "duration": 1546,
    "start_time": "2024-12-15T22:11:34.974Z"
   },
   {
    "duration": 6,
    "start_time": "2024-12-15T22:11:36.522Z"
   },
   {
    "duration": 1011,
    "start_time": "2024-12-15T22:30:30.110Z"
   },
   {
    "duration": 300,
    "start_time": "2024-12-15T22:30:31.123Z"
   },
   {
    "duration": 10,
    "start_time": "2024-12-15T22:30:31.424Z"
   },
   {
    "duration": 17,
    "start_time": "2024-12-15T22:30:31.435Z"
   },
   {
    "duration": 9,
    "start_time": "2024-12-15T22:30:31.454Z"
   },
   {
    "duration": 7,
    "start_time": "2024-12-15T22:30:31.464Z"
   },
   {
    "duration": 20,
    "start_time": "2024-12-15T22:30:31.472Z"
   },
   {
    "duration": 3,
    "start_time": "2024-12-15T22:30:31.494Z"
   },
   {
    "duration": 87,
    "start_time": "2024-12-15T22:30:31.498Z"
   },
   {
    "duration": 6,
    "start_time": "2024-12-15T22:30:31.586Z"
   },
   {
    "duration": 5,
    "start_time": "2024-12-15T22:30:31.594Z"
   },
   {
    "duration": 23,
    "start_time": "2024-12-15T22:30:31.600Z"
   },
   {
    "duration": 6,
    "start_time": "2024-12-15T22:30:31.624Z"
   },
   {
    "duration": 12,
    "start_time": "2024-12-15T22:30:31.633Z"
   },
   {
    "duration": 7,
    "start_time": "2024-12-15T22:30:31.647Z"
   },
   {
    "duration": 7,
    "start_time": "2024-12-15T22:30:31.656Z"
   },
   {
    "duration": 6,
    "start_time": "2024-12-15T22:30:31.687Z"
   },
   {
    "duration": 25,
    "start_time": "2024-12-15T22:30:31.694Z"
   },
   {
    "duration": 12,
    "start_time": "2024-12-15T22:30:31.721Z"
   },
   {
    "duration": 4,
    "start_time": "2024-12-15T22:30:31.735Z"
   },
   {
    "duration": 183,
    "start_time": "2024-12-15T22:30:31.740Z"
   },
   {
    "duration": 6,
    "start_time": "2024-12-15T22:30:31.924Z"
   },
   {
    "duration": 91,
    "start_time": "2024-12-15T22:30:31.932Z"
   },
   {
    "duration": 7,
    "start_time": "2024-12-15T22:30:32.025Z"
   },
   {
    "duration": 254,
    "start_time": "2024-12-15T22:30:32.033Z"
   },
   {
    "duration": 8,
    "start_time": "2024-12-15T22:30:32.289Z"
   },
   {
    "duration": 28,
    "start_time": "2024-12-15T22:30:32.299Z"
   },
   {
    "duration": 387,
    "start_time": "2024-12-15T22:30:32.329Z"
   },
   {
    "duration": 9,
    "start_time": "2024-12-15T22:30:32.717Z"
   },
   {
    "duration": 10,
    "start_time": "2024-12-15T22:30:32.727Z"
   },
   {
    "duration": 420,
    "start_time": "2024-12-15T22:30:32.738Z"
   },
   {
    "duration": 46,
    "start_time": "2024-12-15T22:30:33.159Z"
   },
   {
    "duration": 14,
    "start_time": "2024-12-15T22:30:33.206Z"
   },
   {
    "duration": 4,
    "start_time": "2024-12-15T22:30:33.221Z"
   },
   {
    "duration": 65,
    "start_time": "2024-12-15T22:30:33.227Z"
   },
   {
    "duration": 26,
    "start_time": "2024-12-15T22:30:33.294Z"
   },
   {
    "duration": 4,
    "start_time": "2024-12-15T22:30:33.322Z"
   },
   {
    "duration": 30,
    "start_time": "2024-12-15T22:30:33.327Z"
   },
   {
    "duration": 31,
    "start_time": "2024-12-15T22:30:33.359Z"
   },
   {
    "duration": 280,
    "start_time": "2024-12-15T22:30:33.392Z"
   },
   {
    "duration": 9,
    "start_time": "2024-12-15T22:30:33.686Z"
   },
   {
    "duration": 18,
    "start_time": "2024-12-15T22:30:33.697Z"
   },
   {
    "duration": 282,
    "start_time": "2024-12-15T22:30:33.717Z"
   },
   {
    "duration": 45,
    "start_time": "2024-12-15T22:30:34.001Z"
   },
   {
    "duration": 14,
    "start_time": "2024-12-15T22:30:34.048Z"
   },
   {
    "duration": 54,
    "start_time": "2024-12-15T22:30:34.087Z"
   },
   {
    "duration": 6,
    "start_time": "2024-12-15T22:30:34.143Z"
   },
   {
    "duration": 39,
    "start_time": "2024-12-15T22:30:34.151Z"
   },
   {
    "duration": 31,
    "start_time": "2024-12-15T22:30:34.192Z"
   },
   {
    "duration": 1280,
    "start_time": "2024-12-15T22:30:34.225Z"
   },
   {
    "duration": 5,
    "start_time": "2024-12-15T22:30:35.507Z"
   },
   {
    "duration": 16,
    "start_time": "2024-12-15T22:33:06.751Z"
   },
   {
    "duration": 67,
    "start_time": "2024-12-20T04:06:34.233Z"
   },
   {
    "duration": 47,
    "start_time": "2024-12-20T04:06:39.923Z"
   }
  ],
  "kernelspec": {
   "display_name": "Python 3 (ipykernel)",
   "language": "python",
   "name": "python3"
  },
  "language_info": {
   "codemirror_mode": {
    "name": "ipython",
    "version": 3
   },
   "file_extension": ".py",
   "mimetype": "text/x-python",
   "name": "python",
   "nbconvert_exporter": "python",
   "pygments_lexer": "ipython3",
   "version": "3.9.23"
  },
  "toc": {
   "base_numbering": 1,
   "nav_menu": {},
   "number_sections": true,
   "sideBar": true,
   "skip_h1_title": true,
   "title_cell": "Table of Contents",
   "title_sidebar": "Contents",
   "toc_cell": false,
   "toc_position": {
    "height": "calc(100% - 180px)",
    "left": "10px",
    "top": "150px",
    "width": "504.028px"
   },
   "toc_section_display": true,
   "toc_window_display": false
  }
 },
 "nbformat": 4,
 "nbformat_minor": 5
}
