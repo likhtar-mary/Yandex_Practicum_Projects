{
 "cells": [
  {
   "cell_type": "markdown",
   "metadata": {},
   "source": [
    "# Выбор локации для скважины"
   ]
  },
  {
   "cell_type": "markdown",
   "metadata": {},
   "source": [
    "# Описание проекта\n",
    "\n",
    "Добывающей компании «ГлавРосГосНефть» нужно решить, где бурить новую скважину.\n",
    "\n",
    "Для решения данной задачи предоставлены пробы нефти в трёх регионах: в каждом 100 000 месторождений, где измерили качество нефти и объём её запасов. \n",
    "\n",
    "Необходимо построить модель машинного обучения, которая поможет определить регион, где добыча принесёт наибольшую прибыль. Анализ, расчет возможной прибыли и рисков будет выполнен техникой *Bootstrap.*\n",
    "\n",
    "**Шаги для выбора локации:**\n",
    "\n",
    "- В избранном регионе ищут месторождения, для каждого определяют значения признаков;\n",
    "- Строят модель и оценивают объём запасов;\n",
    "- Выбирают месторождения с самым высокими оценками значений. Количество месторождений зависит от бюджета компании и стоимости разработки одной скважины;\n",
    "- Прибыль равна суммарной прибыли отобранных месторождений.\n",
    "\n",
    "**Условия задачи:**\n",
    "- Для обучения модели подходит только линейная регрессия (остальные — недостаточно предсказуемые).\n",
    "- При разведке региона исследуют 500 точек, из которых с помощью машинного обучения выбирают 200 лучших для разработки.\n",
    "- Бюджет на разработку скважин в регионе — 10 млрд рублей.\n",
    "- При нынешних ценах один баррель сырья приносит 450 рублей дохода. Доход с каждой единицы продукта составляет 450 тыс. рублей, поскольку объём указан в тысячах баррелей.\n",
    "- После оценки рисков нужно оставить лишь те регионы, в которых вероятность убытков меньше 2.5%. Среди них выбирают регион с наибольшей средней прибылью.\n",
    "\n",
    "Данные синтетические: детали контрактов и характеристики месторождений не разглашаются.\n",
    "\n",
    "Импортируем библиотеки:"
   ]
  },
  {
   "cell_type": "code",
   "execution_count": 1,
   "metadata": {},
   "outputs": [],
   "source": [
    "!pip install scikit-learn==1.5.0 -q\n",
    "\n",
    "import sklearn\n",
    "import pandas as pd\n",
    "import numpy as np\n",
    "import seaborn as sns\n",
    "import matplotlib.pyplot as plt\n",
    "\n",
    "from sklearn.metrics import mean_squared_error\n",
    "from sklearn.model_selection import train_test_split\n",
    "from sklearn.linear_model import LinearRegression\n",
    "\n",
    "RANDOM_STATE=42"
   ]
  },
  {
   "cell_type": "markdown",
   "metadata": {},
   "source": [
    "## Загрузка и подготовка данных"
   ]
  },
  {
   "cell_type": "markdown",
   "metadata": {},
   "source": [
    "### Загрузка данных, изучение информации\n",
    "\n",
    "Загружаем данные и сохраняем в датареймы:"
   ]
  },
  {
   "cell_type": "code",
   "execution_count": 2,
   "metadata": {},
   "outputs": [],
   "source": [
    "#Датафрейм с данными по региону 1\n",
    "df_zone_1 = pd.read_csv('/datasets/geo_data_0.csv')\n",
    "\n",
    "# Датафрейм с данными по региону 2\n",
    "df_zone_2 = pd.read_csv('/datasets/geo_data_1.csv')\n",
    "\n",
    "#Датафрейм с данными по региону 3\n",
    "df_zone_3 = pd.read_csv('/datasets/geo_data_2.csv')"
   ]
  },
  {
   "cell_type": "code",
   "execution_count": 3,
   "metadata": {},
   "outputs": [
    {
     "name": "stdout",
     "output_type": "stream",
     "text": [
      "Датафрейм df_zone_1 с данными геологоразведки региона 1:\n"
     ]
    },
    {
     "data": {
      "text/html": [
       "<div>\n",
       "<style scoped>\n",
       "    .dataframe tbody tr th:only-of-type {\n",
       "        vertical-align: middle;\n",
       "    }\n",
       "\n",
       "    .dataframe tbody tr th {\n",
       "        vertical-align: top;\n",
       "    }\n",
       "\n",
       "    .dataframe thead th {\n",
       "        text-align: right;\n",
       "    }\n",
       "</style>\n",
       "<table border=\"1\" class=\"dataframe\">\n",
       "  <thead>\n",
       "    <tr style=\"text-align: right;\">\n",
       "      <th></th>\n",
       "      <th>id</th>\n",
       "      <th>f0</th>\n",
       "      <th>f1</th>\n",
       "      <th>f2</th>\n",
       "      <th>product</th>\n",
       "    </tr>\n",
       "  </thead>\n",
       "  <tbody>\n",
       "    <tr>\n",
       "      <th>92672</th>\n",
       "      <td>O7Rmx</td>\n",
       "      <td>-0.956482</td>\n",
       "      <td>0.065876</td>\n",
       "      <td>4.162163</td>\n",
       "      <td>121.738347</td>\n",
       "    </tr>\n",
       "    <tr>\n",
       "      <th>85347</th>\n",
       "      <td>X6rzn</td>\n",
       "      <td>1.117712</td>\n",
       "      <td>-0.444153</td>\n",
       "      <td>0.960750</td>\n",
       "      <td>70.720959</td>\n",
       "    </tr>\n",
       "    <tr>\n",
       "      <th>99407</th>\n",
       "      <td>wzU8V</td>\n",
       "      <td>0.328766</td>\n",
       "      <td>-0.208776</td>\n",
       "      <td>2.782155</td>\n",
       "      <td>115.628944</td>\n",
       "    </tr>\n",
       "    <tr>\n",
       "      <th>11654</th>\n",
       "      <td>9SXhU</td>\n",
       "      <td>1.613953</td>\n",
       "      <td>-0.408510</td>\n",
       "      <td>3.228399</td>\n",
       "      <td>160.353486</td>\n",
       "    </tr>\n",
       "    <tr>\n",
       "      <th>87475</th>\n",
       "      <td>Bk1de</td>\n",
       "      <td>0.858201</td>\n",
       "      <td>0.341729</td>\n",
       "      <td>1.303221</td>\n",
       "      <td>28.936811</td>\n",
       "    </tr>\n",
       "  </tbody>\n",
       "</table>\n",
       "</div>"
      ],
      "text/plain": [
       "          id        f0        f1        f2     product\n",
       "92672  O7Rmx -0.956482  0.065876  4.162163  121.738347\n",
       "85347  X6rzn  1.117712 -0.444153  0.960750   70.720959\n",
       "99407  wzU8V  0.328766 -0.208776  2.782155  115.628944\n",
       "11654  9SXhU  1.613953 -0.408510  3.228399  160.353486\n",
       "87475  Bk1de  0.858201  0.341729  1.303221   28.936811"
      ]
     },
     "metadata": {},
     "output_type": "display_data"
    },
    {
     "name": "stdout",
     "output_type": "stream",
     "text": [
      "<class 'pandas.core.frame.DataFrame'>\n",
      "RangeIndex: 100000 entries, 0 to 99999\n",
      "Data columns (total 5 columns):\n",
      " #   Column   Non-Null Count   Dtype  \n",
      "---  ------   --------------   -----  \n",
      " 0   id       100000 non-null  object \n",
      " 1   f0       100000 non-null  float64\n",
      " 2   f1       100000 non-null  float64\n",
      " 3   f2       100000 non-null  float64\n",
      " 4   product  100000 non-null  float64\n",
      "dtypes: float64(4), object(1)\n",
      "memory usage: 3.8+ MB\n"
     ]
    }
   ],
   "source": [
    "print('Датафрейм df_zone_1 с данными геологоразведки региона 1:')\n",
    "display(df_zone_1.sample(5))\n",
    "df_zone_1.info()"
   ]
  },
  {
   "cell_type": "code",
   "execution_count": 4,
   "metadata": {},
   "outputs": [
    {
     "name": "stdout",
     "output_type": "stream",
     "text": [
      "Датафрейм df_zone_2 с данными геологоразведки региона 2:\n"
     ]
    },
    {
     "data": {
      "text/html": [
       "<div>\n",
       "<style scoped>\n",
       "    .dataframe tbody tr th:only-of-type {\n",
       "        vertical-align: middle;\n",
       "    }\n",
       "\n",
       "    .dataframe tbody tr th {\n",
       "        vertical-align: top;\n",
       "    }\n",
       "\n",
       "    .dataframe thead th {\n",
       "        text-align: right;\n",
       "    }\n",
       "</style>\n",
       "<table border=\"1\" class=\"dataframe\">\n",
       "  <thead>\n",
       "    <tr style=\"text-align: right;\">\n",
       "      <th></th>\n",
       "      <th>id</th>\n",
       "      <th>f0</th>\n",
       "      <th>f1</th>\n",
       "      <th>f2</th>\n",
       "      <th>product</th>\n",
       "    </tr>\n",
       "  </thead>\n",
       "  <tbody>\n",
       "    <tr>\n",
       "      <th>29509</th>\n",
       "      <td>dVsQV</td>\n",
       "      <td>-16.290469</td>\n",
       "      <td>0.648358</td>\n",
       "      <td>3.994329</td>\n",
       "      <td>110.992147</td>\n",
       "    </tr>\n",
       "    <tr>\n",
       "      <th>59211</th>\n",
       "      <td>HGroF</td>\n",
       "      <td>-5.340052</td>\n",
       "      <td>-6.379315</td>\n",
       "      <td>5.011864</td>\n",
       "      <td>137.945408</td>\n",
       "    </tr>\n",
       "    <tr>\n",
       "      <th>89007</th>\n",
       "      <td>QMc81</td>\n",
       "      <td>12.200232</td>\n",
       "      <td>-5.851330</td>\n",
       "      <td>5.002231</td>\n",
       "      <td>134.766305</td>\n",
       "    </tr>\n",
       "    <tr>\n",
       "      <th>64247</th>\n",
       "      <td>ilAvu</td>\n",
       "      <td>5.114822</td>\n",
       "      <td>-7.104476</td>\n",
       "      <td>3.996774</td>\n",
       "      <td>107.813044</td>\n",
       "    </tr>\n",
       "    <tr>\n",
       "      <th>17668</th>\n",
       "      <td>uTVDn</td>\n",
       "      <td>4.089590</td>\n",
       "      <td>2.247265</td>\n",
       "      <td>3.001235</td>\n",
       "      <td>80.859783</td>\n",
       "    </tr>\n",
       "  </tbody>\n",
       "</table>\n",
       "</div>"
      ],
      "text/plain": [
       "          id         f0        f1        f2     product\n",
       "29509  dVsQV -16.290469  0.648358  3.994329  110.992147\n",
       "59211  HGroF  -5.340052 -6.379315  5.011864  137.945408\n",
       "89007  QMc81  12.200232 -5.851330  5.002231  134.766305\n",
       "64247  ilAvu   5.114822 -7.104476  3.996774  107.813044\n",
       "17668  uTVDn   4.089590  2.247265  3.001235   80.859783"
      ]
     },
     "metadata": {},
     "output_type": "display_data"
    },
    {
     "name": "stdout",
     "output_type": "stream",
     "text": [
      "<class 'pandas.core.frame.DataFrame'>\n",
      "RangeIndex: 100000 entries, 0 to 99999\n",
      "Data columns (total 5 columns):\n",
      " #   Column   Non-Null Count   Dtype  \n",
      "---  ------   --------------   -----  \n",
      " 0   id       100000 non-null  object \n",
      " 1   f0       100000 non-null  float64\n",
      " 2   f1       100000 non-null  float64\n",
      " 3   f2       100000 non-null  float64\n",
      " 4   product  100000 non-null  float64\n",
      "dtypes: float64(4), object(1)\n",
      "memory usage: 3.8+ MB\n"
     ]
    }
   ],
   "source": [
    "print('Датафрейм df_zone_2 с данными геологоразведки региона 2:')\n",
    "display(df_zone_2.sample(5))\n",
    "df_zone_2.info()"
   ]
  },
  {
   "cell_type": "code",
   "execution_count": 5,
   "metadata": {},
   "outputs": [
    {
     "name": "stdout",
     "output_type": "stream",
     "text": [
      "Датафрейм df_zone_3 с данными геологоразведки региона 3:\n"
     ]
    },
    {
     "data": {
      "text/html": [
       "<div>\n",
       "<style scoped>\n",
       "    .dataframe tbody tr th:only-of-type {\n",
       "        vertical-align: middle;\n",
       "    }\n",
       "\n",
       "    .dataframe tbody tr th {\n",
       "        vertical-align: top;\n",
       "    }\n",
       "\n",
       "    .dataframe thead th {\n",
       "        text-align: right;\n",
       "    }\n",
       "</style>\n",
       "<table border=\"1\" class=\"dataframe\">\n",
       "  <thead>\n",
       "    <tr style=\"text-align: right;\">\n",
       "      <th></th>\n",
       "      <th>id</th>\n",
       "      <th>f0</th>\n",
       "      <th>f1</th>\n",
       "      <th>f2</th>\n",
       "      <th>product</th>\n",
       "    </tr>\n",
       "  </thead>\n",
       "  <tbody>\n",
       "    <tr>\n",
       "      <th>20391</th>\n",
       "      <td>YqfOq</td>\n",
       "      <td>-4.440356</td>\n",
       "      <td>3.333104</td>\n",
       "      <td>4.078917</td>\n",
       "      <td>108.113237</td>\n",
       "    </tr>\n",
       "    <tr>\n",
       "      <th>80825</th>\n",
       "      <td>ICWeu</td>\n",
       "      <td>-1.550530</td>\n",
       "      <td>-1.064870</td>\n",
       "      <td>2.713230</td>\n",
       "      <td>43.461829</td>\n",
       "    </tr>\n",
       "    <tr>\n",
       "      <th>21116</th>\n",
       "      <td>jHapY</td>\n",
       "      <td>2.632587</td>\n",
       "      <td>-1.824556</td>\n",
       "      <td>5.306297</td>\n",
       "      <td>160.990839</td>\n",
       "    </tr>\n",
       "    <tr>\n",
       "      <th>75444</th>\n",
       "      <td>631wT</td>\n",
       "      <td>-3.467312</td>\n",
       "      <td>-0.928820</td>\n",
       "      <td>0.487370</td>\n",
       "      <td>108.322402</td>\n",
       "    </tr>\n",
       "    <tr>\n",
       "      <th>33174</th>\n",
       "      <td>6sFIn</td>\n",
       "      <td>1.520712</td>\n",
       "      <td>-0.249263</td>\n",
       "      <td>-0.261840</td>\n",
       "      <td>30.828109</td>\n",
       "    </tr>\n",
       "  </tbody>\n",
       "</table>\n",
       "</div>"
      ],
      "text/plain": [
       "          id        f0        f1        f2     product\n",
       "20391  YqfOq -4.440356  3.333104  4.078917  108.113237\n",
       "80825  ICWeu -1.550530 -1.064870  2.713230   43.461829\n",
       "21116  jHapY  2.632587 -1.824556  5.306297  160.990839\n",
       "75444  631wT -3.467312 -0.928820  0.487370  108.322402\n",
       "33174  6sFIn  1.520712 -0.249263 -0.261840   30.828109"
      ]
     },
     "metadata": {},
     "output_type": "display_data"
    },
    {
     "name": "stdout",
     "output_type": "stream",
     "text": [
      "<class 'pandas.core.frame.DataFrame'>\n",
      "RangeIndex: 100000 entries, 0 to 99999\n",
      "Data columns (total 5 columns):\n",
      " #   Column   Non-Null Count   Dtype  \n",
      "---  ------   --------------   -----  \n",
      " 0   id       100000 non-null  object \n",
      " 1   f0       100000 non-null  float64\n",
      " 2   f1       100000 non-null  float64\n",
      " 3   f2       100000 non-null  float64\n",
      " 4   product  100000 non-null  float64\n",
      "dtypes: float64(4), object(1)\n",
      "memory usage: 3.8+ MB\n"
     ]
    }
   ],
   "source": [
    "print('Датафрейм df_zone_3 с данными геологоразведки региона 3:')\n",
    "display(df_zone_3.sample(5))\n",
    "df_zone_3.info()"
   ]
  },
  {
   "cell_type": "markdown",
   "metadata": {},
   "source": [
    "**Описание данных**:\n",
    "\n",
    "- id — уникальный идентификатор скважины;\n",
    "- f0, f1, f2 — три признака точек (признаки значимы);\n",
    "- product — объём запасов в скважине (тыс. баррелей).\n",
    "\n",
    "**Вывод**: \n",
    "\n",
    "В каждом из трех датафреймов:\n",
    "\n",
    "- по 10000 строк и 5 столбцов;\n",
    "- пропусков нет;\n",
    "- названия столбцов записаны корректно, исправлений не требуется;\n",
    "- типы данных верные.\n",
    "\n",
    "Данные представлены хорошего качества."
   ]
  },
  {
   "cell_type": "markdown",
   "metadata": {},
   "source": [
    "###  Предобработка данных"
   ]
  },
  {
   "cell_type": "markdown",
   "metadata": {},
   "source": [
    "**Проверка наличия явных дубликатов**"
   ]
  },
  {
   "cell_type": "code",
   "execution_count": 6,
   "metadata": {},
   "outputs": [
    {
     "name": "stdout",
     "output_type": "stream",
     "text": [
      "Количество явных дубликатов: \n",
      "    0\n",
      "    \n",
      "Количество явных дубликатов: \n",
      "    0\n",
      "    \n",
      "Количество явных дубликатов: \n",
      "    0\n",
      "    \n"
     ]
    }
   ],
   "source": [
    "# список датафреймов\n",
    "dfs=[\n",
    "    df_zone_1,\n",
    "    df_zone_2,\n",
    "    df_zone_3,\n",
    "]\n",
    "\n",
    "# с помощью цикла проверяем на дубликаты каждый датафрейм\n",
    "for df in dfs:\n",
    "    print(f'''Количество явных дубликатов: \n",
    "    {df.duplicated().sum()}\n",
    "    ''')"
   ]
  },
  {
   "cell_type": "markdown",
   "metadata": {},
   "source": [
    "**Вывод:** явных дубликатов не выявлено."
   ]
  },
  {
   "cell_type": "markdown",
   "metadata": {},
   "source": [
    "**Проверка наличия неявных дубликатов**\n",
    "\n",
    "Уберем из датафреймов 'id' и проверим на дубликаты:"
   ]
  },
  {
   "cell_type": "code",
   "execution_count": 7,
   "metadata": {},
   "outputs": [
    {
     "name": "stdout",
     "output_type": "stream",
     "text": [
      "Количество явных дубликатов: \n",
      "    0\n",
      "    \n",
      "Количество явных дубликатов: \n",
      "    0\n",
      "    \n",
      "Количество явных дубликатов: \n",
      "    0\n",
      "    \n"
     ]
    }
   ],
   "source": [
    "# с помощью цикла проверяем на неявные дубликаты каждый датафрейм\n",
    "for df in dfs:\n",
    "    print(f'''Количество явных дубликатов: \n",
    "    {df.drop(columns='id').duplicated().sum()}\n",
    "    ''')"
   ]
  },
  {
   "cell_type": "markdown",
   "metadata": {},
   "source": [
    "**Вывод:** неявных дубликатов не выявлено."
   ]
  },
  {
   "cell_type": "markdown",
   "metadata": {},
   "source": [
    "**Вывод:** На этапе предобработки данных было выполнено:\n",
    "- проверка на явные дубликаты;\n",
    "- проверка на неявные дубликаты.\n",
    "\n",
    "Не выявлено."
   ]
  },
  {
   "cell_type": "markdown",
   "metadata": {},
   "source": [
    "### Анализ данных"
   ]
  },
  {
   "cell_type": "markdown",
   "metadata": {},
   "source": [
    "Определим число \"бинов\" для данных датафреймов по правилу Стёрджеса: число bins = log2(n) + 1, где n - количество наблюдений. В данном случае 100000 наблюдений, получаем bins = 18."
   ]
  },
  {
   "cell_type": "code",
   "execution_count": 8,
   "metadata": {},
   "outputs": [],
   "source": [
    "# функция для визуализации данных\n",
    "def explorer(data):\n",
    "    print('Статистический анализ:')\n",
    "    display(data.describe())\n",
    "    print('Гистограммы:')\n",
    "    data.hist(figsize=(15, 10), bins=18, edgecolor='black', color = 'teal')\n",
    "    plt.show()\n",
    "    corr_matrix = data.corr()\n",
    "    print('Матрица корреляции:')\n",
    "    display(corr_matrix)\n",
    "    print('Тепловая карта:')\n",
    "    fig, ax = plt.subplots(figsize=(15, 6))\n",
    "    sns.heatmap(corr_matrix, annot=True, cmap=\"coolwarm\");\n",
    "    plt.show()"
   ]
  },
  {
   "cell_type": "markdown",
   "metadata": {},
   "source": [
    "Посмотрим на **датафрейм df_zone_1** с данными геологоразведки региона 1:"
   ]
  },
  {
   "cell_type": "code",
   "execution_count": 9,
   "metadata": {},
   "outputs": [
    {
     "name": "stdout",
     "output_type": "stream",
     "text": [
      "Статистический анализ:\n"
     ]
    },
    {
     "data": {
      "text/html": [
       "<div>\n",
       "<style scoped>\n",
       "    .dataframe tbody tr th:only-of-type {\n",
       "        vertical-align: middle;\n",
       "    }\n",
       "\n",
       "    .dataframe tbody tr th {\n",
       "        vertical-align: top;\n",
       "    }\n",
       "\n",
       "    .dataframe thead th {\n",
       "        text-align: right;\n",
       "    }\n",
       "</style>\n",
       "<table border=\"1\" class=\"dataframe\">\n",
       "  <thead>\n",
       "    <tr style=\"text-align: right;\">\n",
       "      <th></th>\n",
       "      <th>f0</th>\n",
       "      <th>f1</th>\n",
       "      <th>f2</th>\n",
       "      <th>product</th>\n",
       "    </tr>\n",
       "  </thead>\n",
       "  <tbody>\n",
       "    <tr>\n",
       "      <th>count</th>\n",
       "      <td>100000.000000</td>\n",
       "      <td>100000.000000</td>\n",
       "      <td>100000.000000</td>\n",
       "      <td>100000.000000</td>\n",
       "    </tr>\n",
       "    <tr>\n",
       "      <th>mean</th>\n",
       "      <td>0.500419</td>\n",
       "      <td>0.250143</td>\n",
       "      <td>2.502647</td>\n",
       "      <td>92.500000</td>\n",
       "    </tr>\n",
       "    <tr>\n",
       "      <th>std</th>\n",
       "      <td>0.871832</td>\n",
       "      <td>0.504433</td>\n",
       "      <td>3.248248</td>\n",
       "      <td>44.288691</td>\n",
       "    </tr>\n",
       "    <tr>\n",
       "      <th>min</th>\n",
       "      <td>-1.408605</td>\n",
       "      <td>-0.848218</td>\n",
       "      <td>-12.088328</td>\n",
       "      <td>0.000000</td>\n",
       "    </tr>\n",
       "    <tr>\n",
       "      <th>25%</th>\n",
       "      <td>-0.072580</td>\n",
       "      <td>-0.200881</td>\n",
       "      <td>0.287748</td>\n",
       "      <td>56.497507</td>\n",
       "    </tr>\n",
       "    <tr>\n",
       "      <th>50%</th>\n",
       "      <td>0.502360</td>\n",
       "      <td>0.250252</td>\n",
       "      <td>2.515969</td>\n",
       "      <td>91.849972</td>\n",
       "    </tr>\n",
       "    <tr>\n",
       "      <th>75%</th>\n",
       "      <td>1.073581</td>\n",
       "      <td>0.700646</td>\n",
       "      <td>4.715088</td>\n",
       "      <td>128.564089</td>\n",
       "    </tr>\n",
       "    <tr>\n",
       "      <th>max</th>\n",
       "      <td>2.362331</td>\n",
       "      <td>1.343769</td>\n",
       "      <td>16.003790</td>\n",
       "      <td>185.364347</td>\n",
       "    </tr>\n",
       "  </tbody>\n",
       "</table>\n",
       "</div>"
      ],
      "text/plain": [
       "                  f0             f1             f2        product\n",
       "count  100000.000000  100000.000000  100000.000000  100000.000000\n",
       "mean        0.500419       0.250143       2.502647      92.500000\n",
       "std         0.871832       0.504433       3.248248      44.288691\n",
       "min        -1.408605      -0.848218     -12.088328       0.000000\n",
       "25%        -0.072580      -0.200881       0.287748      56.497507\n",
       "50%         0.502360       0.250252       2.515969      91.849972\n",
       "75%         1.073581       0.700646       4.715088     128.564089\n",
       "max         2.362331       1.343769      16.003790     185.364347"
      ]
     },
     "metadata": {},
     "output_type": "display_data"
    },
    {
     "name": "stdout",
     "output_type": "stream",
     "text": [
      "Гистограммы:\n"
     ]
    },
    {
     "data": {
      "image/png": "[encoded data removed]",
      "text/plain": [
       "<Figure size 1080x720 with 4 Axes>"
      ]
     },
     "metadata": {
      "needs_background": "light"
     },
     "output_type": "display_data"
    },
    {
     "name": "stdout",
     "output_type": "stream",
     "text": [
      "Матрица корреляции:\n"
     ]
    },
    {
     "data": {
      "text/html": [
       "<div>\n",
       "<style scoped>\n",
       "    .dataframe tbody tr th:only-of-type {\n",
       "        vertical-align: middle;\n",
       "    }\n",
       "\n",
       "    .dataframe tbody tr th {\n",
       "        vertical-align: top;\n",
       "    }\n",
       "\n",
       "    .dataframe thead th {\n",
       "        text-align: right;\n",
       "    }\n",
       "</style>\n",
       "<table border=\"1\" class=\"dataframe\">\n",
       "  <thead>\n",
       "    <tr style=\"text-align: right;\">\n",
       "      <th></th>\n",
       "      <th>f0</th>\n",
       "      <th>f1</th>\n",
       "      <th>f2</th>\n",
       "      <th>product</th>\n",
       "    </tr>\n",
       "  </thead>\n",
       "  <tbody>\n",
       "    <tr>\n",
       "      <th>f0</th>\n",
       "      <td>1.000000</td>\n",
       "      <td>-0.440723</td>\n",
       "      <td>-0.003153</td>\n",
       "      <td>0.143536</td>\n",
       "    </tr>\n",
       "    <tr>\n",
       "      <th>f1</th>\n",
       "      <td>-0.440723</td>\n",
       "      <td>1.000000</td>\n",
       "      <td>0.001724</td>\n",
       "      <td>-0.192356</td>\n",
       "    </tr>\n",
       "    <tr>\n",
       "      <th>f2</th>\n",
       "      <td>-0.003153</td>\n",
       "      <td>0.001724</td>\n",
       "      <td>1.000000</td>\n",
       "      <td>0.483663</td>\n",
       "    </tr>\n",
       "    <tr>\n",
       "      <th>product</th>\n",
       "      <td>0.143536</td>\n",
       "      <td>-0.192356</td>\n",
       "      <td>0.483663</td>\n",
       "      <td>1.000000</td>\n",
       "    </tr>\n",
       "  </tbody>\n",
       "</table>\n",
       "</div>"
      ],
      "text/plain": [
       "               f0        f1        f2   product\n",
       "f0       1.000000 -0.440723 -0.003153  0.143536\n",
       "f1      -0.440723  1.000000  0.001724 -0.192356\n",
       "f2      -0.003153  0.001724  1.000000  0.483663\n",
       "product  0.143536 -0.192356  0.483663  1.000000"
      ]
     },
     "metadata": {},
     "output_type": "display_data"
    },
    {
     "name": "stdout",
     "output_type": "stream",
     "text": [
      "Тепловая карта:\n"
     ]
    },
    {
     "data": {
      "image/png": "[encoded data removed]",
      "text/plain": [
       "<Figure size 1080x432 with 2 Axes>"
      ]
     },
     "metadata": {
      "needs_background": "light"
     },
     "output_type": "display_data"
    }
   ],
   "source": [
    "explorer(df_zone_1)"
   ]
  },
  {
   "cell_type": "markdown",
   "metadata": {},
   "source": [
    "**Вывод**: среднее и медиана не имеют большой разницы, в столбце 'product' есть разброс значений, который выражен в стандартном отклонении. Имеется связь между признаками прямая и обратная. Мультиколлинеарности нет.\n",
    "\n",
    "Посмотрим на **датафрейм df_zone_2** с данными геологоразведки региона 2:"
   ]
  },
  {
   "cell_type": "code",
   "execution_count": 10,
   "metadata": {},
   "outputs": [
    {
     "name": "stdout",
     "output_type": "stream",
     "text": [
      "Статистический анализ:\n"
     ]
    },
    {
     "data": {
      "text/html": [
       "<div>\n",
       "<style scoped>\n",
       "    .dataframe tbody tr th:only-of-type {\n",
       "        vertical-align: middle;\n",
       "    }\n",
       "\n",
       "    .dataframe tbody tr th {\n",
       "        vertical-align: top;\n",
       "    }\n",
       "\n",
       "    .dataframe thead th {\n",
       "        text-align: right;\n",
       "    }\n",
       "</style>\n",
       "<table border=\"1\" class=\"dataframe\">\n",
       "  <thead>\n",
       "    <tr style=\"text-align: right;\">\n",
       "      <th></th>\n",
       "      <th>f0</th>\n",
       "      <th>f1</th>\n",
       "      <th>f2</th>\n",
       "      <th>product</th>\n",
       "    </tr>\n",
       "  </thead>\n",
       "  <tbody>\n",
       "    <tr>\n",
       "      <th>count</th>\n",
       "      <td>100000.000000</td>\n",
       "      <td>100000.000000</td>\n",
       "      <td>100000.000000</td>\n",
       "      <td>100000.000000</td>\n",
       "    </tr>\n",
       "    <tr>\n",
       "      <th>mean</th>\n",
       "      <td>1.141296</td>\n",
       "      <td>-4.796579</td>\n",
       "      <td>2.494541</td>\n",
       "      <td>68.825000</td>\n",
       "    </tr>\n",
       "    <tr>\n",
       "      <th>std</th>\n",
       "      <td>8.965932</td>\n",
       "      <td>5.119872</td>\n",
       "      <td>1.703572</td>\n",
       "      <td>45.944423</td>\n",
       "    </tr>\n",
       "    <tr>\n",
       "      <th>min</th>\n",
       "      <td>-31.609576</td>\n",
       "      <td>-26.358598</td>\n",
       "      <td>-0.018144</td>\n",
       "      <td>0.000000</td>\n",
       "    </tr>\n",
       "    <tr>\n",
       "      <th>25%</th>\n",
       "      <td>-6.298551</td>\n",
       "      <td>-8.267985</td>\n",
       "      <td>1.000021</td>\n",
       "      <td>26.953261</td>\n",
       "    </tr>\n",
       "    <tr>\n",
       "      <th>50%</th>\n",
       "      <td>1.153055</td>\n",
       "      <td>-4.813172</td>\n",
       "      <td>2.011479</td>\n",
       "      <td>57.085625</td>\n",
       "    </tr>\n",
       "    <tr>\n",
       "      <th>75%</th>\n",
       "      <td>8.621015</td>\n",
       "      <td>-1.332816</td>\n",
       "      <td>3.999904</td>\n",
       "      <td>107.813044</td>\n",
       "    </tr>\n",
       "    <tr>\n",
       "      <th>max</th>\n",
       "      <td>29.421755</td>\n",
       "      <td>18.734063</td>\n",
       "      <td>5.019721</td>\n",
       "      <td>137.945408</td>\n",
       "    </tr>\n",
       "  </tbody>\n",
       "</table>\n",
       "</div>"
      ],
      "text/plain": [
       "                  f0             f1             f2        product\n",
       "count  100000.000000  100000.000000  100000.000000  100000.000000\n",
       "mean        1.141296      -4.796579       2.494541      68.825000\n",
       "std         8.965932       5.119872       1.703572      45.944423\n",
       "min       -31.609576     -26.358598      -0.018144       0.000000\n",
       "25%        -6.298551      -8.267985       1.000021      26.953261\n",
       "50%         1.153055      -4.813172       2.011479      57.085625\n",
       "75%         8.621015      -1.332816       3.999904     107.813044\n",
       "max        29.421755      18.734063       5.019721     137.945408"
      ]
     },
     "metadata": {},
     "output_type": "display_data"
    },
    {
     "name": "stdout",
     "output_type": "stream",
     "text": [
      "Гистограммы:\n"
     ]
    },
    {
     "data": {
      "image/png": "[encoded data removed]",
      "text/plain": [
       "<Figure size 1080x720 with 4 Axes>"
      ]
     },
     "metadata": {
      "needs_background": "light"
     },
     "output_type": "display_data"
    },
    {
     "name": "stdout",
     "output_type": "stream",
     "text": [
      "Матрица корреляции:\n"
     ]
    },
    {
     "data": {
      "text/html": [
       "<div>\n",
       "<style scoped>\n",
       "    .dataframe tbody tr th:only-of-type {\n",
       "        vertical-align: middle;\n",
       "    }\n",
       "\n",
       "    .dataframe tbody tr th {\n",
       "        vertical-align: top;\n",
       "    }\n",
       "\n",
       "    .dataframe thead th {\n",
       "        text-align: right;\n",
       "    }\n",
       "</style>\n",
       "<table border=\"1\" class=\"dataframe\">\n",
       "  <thead>\n",
       "    <tr style=\"text-align: right;\">\n",
       "      <th></th>\n",
       "      <th>f0</th>\n",
       "      <th>f1</th>\n",
       "      <th>f2</th>\n",
       "      <th>product</th>\n",
       "    </tr>\n",
       "  </thead>\n",
       "  <tbody>\n",
       "    <tr>\n",
       "      <th>f0</th>\n",
       "      <td>1.000000</td>\n",
       "      <td>0.182287</td>\n",
       "      <td>-0.001777</td>\n",
       "      <td>-0.030491</td>\n",
       "    </tr>\n",
       "    <tr>\n",
       "      <th>f1</th>\n",
       "      <td>0.182287</td>\n",
       "      <td>1.000000</td>\n",
       "      <td>-0.002595</td>\n",
       "      <td>-0.010155</td>\n",
       "    </tr>\n",
       "    <tr>\n",
       "      <th>f2</th>\n",
       "      <td>-0.001777</td>\n",
       "      <td>-0.002595</td>\n",
       "      <td>1.000000</td>\n",
       "      <td>0.999397</td>\n",
       "    </tr>\n",
       "    <tr>\n",
       "      <th>product</th>\n",
       "      <td>-0.030491</td>\n",
       "      <td>-0.010155</td>\n",
       "      <td>0.999397</td>\n",
       "      <td>1.000000</td>\n",
       "    </tr>\n",
       "  </tbody>\n",
       "</table>\n",
       "</div>"
      ],
      "text/plain": [
       "               f0        f1        f2   product\n",
       "f0       1.000000  0.182287 -0.001777 -0.030491\n",
       "f1       0.182287  1.000000 -0.002595 -0.010155\n",
       "f2      -0.001777 -0.002595  1.000000  0.999397\n",
       "product -0.030491 -0.010155  0.999397  1.000000"
      ]
     },
     "metadata": {},
     "output_type": "display_data"
    },
    {
     "name": "stdout",
     "output_type": "stream",
     "text": [
      "Тепловая карта:\n"
     ]
    },
    {
     "data": {
      "image/png": "[encoded data removed]",
      "text/plain": [
       "<Figure size 1080x432 with 2 Axes>"
      ]
     },
     "metadata": {
      "needs_background": "light"
     },
     "output_type": "display_data"
    }
   ],
   "source": [
    "explorer(df_zone_2)"
   ]
  },
  {
   "cell_type": "markdown",
   "metadata": {},
   "source": [
    "**Вывод**: среднее и медиана признаков не имеют большой разницы, кроме столбца 'product' (в нем же есть разброс значений, который выражен в стандартном отклонении). Имеется высокая связь между признаком 'f2' и 'product', следовательно, в данном регионе объем запасов в скважине зависит только от признака точки 'f2'. Мультиколлинеарности между признаками точек нет.\n",
    "\n",
    "Посмотрим на **датафрейм df_zone_3** с данными геологоразведки региона 3:"
   ]
  },
  {
   "cell_type": "code",
   "execution_count": 11,
   "metadata": {},
   "outputs": [
    {
     "name": "stdout",
     "output_type": "stream",
     "text": [
      "Статистический анализ:\n"
     ]
    },
    {
     "data": {
      "text/html": [
       "<div>\n",
       "<style scoped>\n",
       "    .dataframe tbody tr th:only-of-type {\n",
       "        vertical-align: middle;\n",
       "    }\n",
       "\n",
       "    .dataframe tbody tr th {\n",
       "        vertical-align: top;\n",
       "    }\n",
       "\n",
       "    .dataframe thead th {\n",
       "        text-align: right;\n",
       "    }\n",
       "</style>\n",
       "<table border=\"1\" class=\"dataframe\">\n",
       "  <thead>\n",
       "    <tr style=\"text-align: right;\">\n",
       "      <th></th>\n",
       "      <th>f0</th>\n",
       "      <th>f1</th>\n",
       "      <th>f2</th>\n",
       "      <th>product</th>\n",
       "    </tr>\n",
       "  </thead>\n",
       "  <tbody>\n",
       "    <tr>\n",
       "      <th>count</th>\n",
       "      <td>100000.000000</td>\n",
       "      <td>100000.000000</td>\n",
       "      <td>100000.000000</td>\n",
       "      <td>100000.000000</td>\n",
       "    </tr>\n",
       "    <tr>\n",
       "      <th>mean</th>\n",
       "      <td>0.002023</td>\n",
       "      <td>-0.002081</td>\n",
       "      <td>2.495128</td>\n",
       "      <td>95.000000</td>\n",
       "    </tr>\n",
       "    <tr>\n",
       "      <th>std</th>\n",
       "      <td>1.732045</td>\n",
       "      <td>1.730417</td>\n",
       "      <td>3.473445</td>\n",
       "      <td>44.749921</td>\n",
       "    </tr>\n",
       "    <tr>\n",
       "      <th>min</th>\n",
       "      <td>-8.760004</td>\n",
       "      <td>-7.084020</td>\n",
       "      <td>-11.970335</td>\n",
       "      <td>0.000000</td>\n",
       "    </tr>\n",
       "    <tr>\n",
       "      <th>25%</th>\n",
       "      <td>-1.162288</td>\n",
       "      <td>-1.174820</td>\n",
       "      <td>0.130359</td>\n",
       "      <td>59.450441</td>\n",
       "    </tr>\n",
       "    <tr>\n",
       "      <th>50%</th>\n",
       "      <td>0.009424</td>\n",
       "      <td>-0.009482</td>\n",
       "      <td>2.484236</td>\n",
       "      <td>94.925613</td>\n",
       "    </tr>\n",
       "    <tr>\n",
       "      <th>75%</th>\n",
       "      <td>1.158535</td>\n",
       "      <td>1.163678</td>\n",
       "      <td>4.858794</td>\n",
       "      <td>130.595027</td>\n",
       "    </tr>\n",
       "    <tr>\n",
       "      <th>max</th>\n",
       "      <td>7.238262</td>\n",
       "      <td>7.844801</td>\n",
       "      <td>16.739402</td>\n",
       "      <td>190.029838</td>\n",
       "    </tr>\n",
       "  </tbody>\n",
       "</table>\n",
       "</div>"
      ],
      "text/plain": [
       "                  f0             f1             f2        product\n",
       "count  100000.000000  100000.000000  100000.000000  100000.000000\n",
       "mean        0.002023      -0.002081       2.495128      95.000000\n",
       "std         1.732045       1.730417       3.473445      44.749921\n",
       "min        -8.760004      -7.084020     -11.970335       0.000000\n",
       "25%        -1.162288      -1.174820       0.130359      59.450441\n",
       "50%         0.009424      -0.009482       2.484236      94.925613\n",
       "75%         1.158535       1.163678       4.858794     130.595027\n",
       "max         7.238262       7.844801      16.739402     190.029838"
      ]
     },
     "metadata": {},
     "output_type": "display_data"
    },
    {
     "name": "stdout",
     "output_type": "stream",
     "text": [
      "Гистограммы:\n"
     ]
    },
    {
     "data": {
      "image/png": "[encoded data removed]",
      "text/plain": [
       "<Figure size 1080x720 with 4 Axes>"
      ]
     },
     "metadata": {
      "needs_background": "light"
     },
     "output_type": "display_data"
    },
    {
     "name": "stdout",
     "output_type": "stream",
     "text": [
      "Матрица корреляции:\n"
     ]
    },
    {
     "data": {
      "text/html": [
       "<div>\n",
       "<style scoped>\n",
       "    .dataframe tbody tr th:only-of-type {\n",
       "        vertical-align: middle;\n",
       "    }\n",
       "\n",
       "    .dataframe tbody tr th {\n",
       "        vertical-align: top;\n",
       "    }\n",
       "\n",
       "    .dataframe thead th {\n",
       "        text-align: right;\n",
       "    }\n",
       "</style>\n",
       "<table border=\"1\" class=\"dataframe\">\n",
       "  <thead>\n",
       "    <tr style=\"text-align: right;\">\n",
       "      <th></th>\n",
       "      <th>f0</th>\n",
       "      <th>f1</th>\n",
       "      <th>f2</th>\n",
       "      <th>product</th>\n",
       "    </tr>\n",
       "  </thead>\n",
       "  <tbody>\n",
       "    <tr>\n",
       "      <th>f0</th>\n",
       "      <td>1.000000</td>\n",
       "      <td>0.000528</td>\n",
       "      <td>-0.000448</td>\n",
       "      <td>-0.001987</td>\n",
       "    </tr>\n",
       "    <tr>\n",
       "      <th>f1</th>\n",
       "      <td>0.000528</td>\n",
       "      <td>1.000000</td>\n",
       "      <td>0.000779</td>\n",
       "      <td>-0.001012</td>\n",
       "    </tr>\n",
       "    <tr>\n",
       "      <th>f2</th>\n",
       "      <td>-0.000448</td>\n",
       "      <td>0.000779</td>\n",
       "      <td>1.000000</td>\n",
       "      <td>0.445871</td>\n",
       "    </tr>\n",
       "    <tr>\n",
       "      <th>product</th>\n",
       "      <td>-0.001987</td>\n",
       "      <td>-0.001012</td>\n",
       "      <td>0.445871</td>\n",
       "      <td>1.000000</td>\n",
       "    </tr>\n",
       "  </tbody>\n",
       "</table>\n",
       "</div>"
      ],
      "text/plain": [
       "               f0        f1        f2   product\n",
       "f0       1.000000  0.000528 -0.000448 -0.001987\n",
       "f1       0.000528  1.000000  0.000779 -0.001012\n",
       "f2      -0.000448  0.000779  1.000000  0.445871\n",
       "product -0.001987 -0.001012  0.445871  1.000000"
      ]
     },
     "metadata": {},
     "output_type": "display_data"
    },
    {
     "name": "stdout",
     "output_type": "stream",
     "text": [
      "Тепловая карта:\n"
     ]
    },
    {
     "data": {
      "image/png": "[encoded data removed]",
      "text/plain": [
       "<Figure size 1080x432 with 2 Axes>"
      ]
     },
     "metadata": {
      "needs_background": "light"
     },
     "output_type": "display_data"
    }
   ],
   "source": [
    "explorer(df_zone_3)"
   ]
  },
  {
   "cell_type": "markdown",
   "metadata": {},
   "source": [
    "**Вывод**: среднее и медиана не имеют большой разницы, в столбце 'product' есть разброс значений, который выражен в стандартном отклонении. Имеется умеренная связь между признаком 'f2' и 'product' Мультиколлинеарности между признаками точек нет."
   ]
  },
  {
   "cell_type": "markdown",
   "metadata": {},
   "source": [
    "### Подготовка данных"
   ]
  },
  {
   "cell_type": "markdown",
   "metadata": {},
   "source": [
    "Удалим столбец 'id', он не несет значимости для модели:"
   ]
  },
  {
   "cell_type": "code",
   "execution_count": 12,
   "metadata": {},
   "outputs": [
    {
     "data": {
      "text/html": [
       "<div>\n",
       "<style scoped>\n",
       "    .dataframe tbody tr th:only-of-type {\n",
       "        vertical-align: middle;\n",
       "    }\n",
       "\n",
       "    .dataframe tbody tr th {\n",
       "        vertical-align: top;\n",
       "    }\n",
       "\n",
       "    .dataframe thead th {\n",
       "        text-align: right;\n",
       "    }\n",
       "</style>\n",
       "<table border=\"1\" class=\"dataframe\">\n",
       "  <thead>\n",
       "    <tr style=\"text-align: right;\">\n",
       "      <th></th>\n",
       "      <th>f0</th>\n",
       "      <th>f1</th>\n",
       "      <th>f2</th>\n",
       "      <th>product</th>\n",
       "    </tr>\n",
       "  </thead>\n",
       "  <tbody>\n",
       "    <tr>\n",
       "      <th>73574</th>\n",
       "      <td>0.173157</td>\n",
       "      <td>0.139823</td>\n",
       "      <td>0.243227</td>\n",
       "      <td>124.799153</td>\n",
       "    </tr>\n",
       "  </tbody>\n",
       "</table>\n",
       "</div>"
      ],
      "text/plain": [
       "             f0        f1        f2     product\n",
       "73574  0.173157  0.139823  0.243227  124.799153"
      ]
     },
     "metadata": {},
     "output_type": "display_data"
    },
    {
     "data": {
      "text/html": [
       "<div>\n",
       "<style scoped>\n",
       "    .dataframe tbody tr th:only-of-type {\n",
       "        vertical-align: middle;\n",
       "    }\n",
       "\n",
       "    .dataframe tbody tr th {\n",
       "        vertical-align: top;\n",
       "    }\n",
       "\n",
       "    .dataframe thead th {\n",
       "        text-align: right;\n",
       "    }\n",
       "</style>\n",
       "<table border=\"1\" class=\"dataframe\">\n",
       "  <thead>\n",
       "    <tr style=\"text-align: right;\">\n",
       "      <th></th>\n",
       "      <th>f0</th>\n",
       "      <th>f1</th>\n",
       "      <th>f2</th>\n",
       "      <th>product</th>\n",
       "    </tr>\n",
       "  </thead>\n",
       "  <tbody>\n",
       "    <tr>\n",
       "      <th>8860</th>\n",
       "      <td>-1.030611</td>\n",
       "      <td>-8.661676</td>\n",
       "      <td>0.991581</td>\n",
       "      <td>30.132364</td>\n",
       "    </tr>\n",
       "  </tbody>\n",
       "</table>\n",
       "</div>"
      ],
      "text/plain": [
       "            f0        f1        f2    product\n",
       "8860 -1.030611 -8.661676  0.991581  30.132364"
      ]
     },
     "metadata": {},
     "output_type": "display_data"
    },
    {
     "data": {
      "text/html": [
       "<div>\n",
       "<style scoped>\n",
       "    .dataframe tbody tr th:only-of-type {\n",
       "        vertical-align: middle;\n",
       "    }\n",
       "\n",
       "    .dataframe tbody tr th {\n",
       "        vertical-align: top;\n",
       "    }\n",
       "\n",
       "    .dataframe thead th {\n",
       "        text-align: right;\n",
       "    }\n",
       "</style>\n",
       "<table border=\"1\" class=\"dataframe\">\n",
       "  <thead>\n",
       "    <tr style=\"text-align: right;\">\n",
       "      <th></th>\n",
       "      <th>f0</th>\n",
       "      <th>f1</th>\n",
       "      <th>f2</th>\n",
       "      <th>product</th>\n",
       "    </tr>\n",
       "  </thead>\n",
       "  <tbody>\n",
       "    <tr>\n",
       "      <th>80551</th>\n",
       "      <td>1.846686</td>\n",
       "      <td>0.754642</td>\n",
       "      <td>1.224194</td>\n",
       "      <td>55.68656</td>\n",
       "    </tr>\n",
       "  </tbody>\n",
       "</table>\n",
       "</div>"
      ],
      "text/plain": [
       "             f0        f1        f2   product\n",
       "80551  1.846686  0.754642  1.224194  55.68656"
      ]
     },
     "metadata": {},
     "output_type": "display_data"
    }
   ],
   "source": [
    "df_zone_1 = df_zone_1.drop('id', axis=1)\n",
    "df_zone_2 = df_zone_2.drop('id', axis=1)\n",
    "df_zone_3 = df_zone_3.drop('id', axis=1)\n",
    "\n",
    "# Проверяем изменения\n",
    "display(df_zone_1.sample())\n",
    "display(df_zone_2.sample())\n",
    "display(df_zone_3.sample())"
   ]
  },
  {
   "cell_type": "markdown",
   "metadata": {},
   "source": [
    "**Вывод**: данные готовы к обучению модели. Для обучения модели подходит линейная регрессия."
   ]
  },
  {
   "cell_type": "markdown",
   "metadata": {},
   "source": [
    "### Вывод"
   ]
  },
  {
   "cell_type": "markdown",
   "metadata": {},
   "source": [
    "**На этапе загрузки и подготовки данных было выполнено**:\n",
    "1. загружены файлы и сохранены в датафреймы по трем регионам геологоразведки (df_zone_1, df_zone_2, df_zone_3);\n",
    "\n",
    "\n",
    "2. выведена информация о датафремах, вывод:\n",
    "   - по 10000 строк и 5 столбцов в каждом датафрейме;\n",
    "   - пропусков нет;\n",
    "   - названия столбцов записаны корректно, исправлений не требуется;\n",
    "   - типы данных верные;\n",
    "   - каждый датафрейм содержит (описание данных):\n",
    "     - id — уникальный идентификатор скважины;\n",
    "     - f0, f1, f2 — три признака точек (признаки значимы);\n",
    "     - product — объём запасов в скважине (тыс. баррелей).\n",
    "\n",
    "\n",
    "3. проведена предобработка данных:\n",
    "   - проверка на явные дубликаты - не выявлено;\n",
    "   - проверка на неявные дубликаты - не выявлено.\n",
    "\n",
    "\n",
    "4. проведен анализ данных:\n",
    "   - статистика числовых значений;\n",
    "   - построены гистограммы;\n",
    "   - построена матрица корреляции;\n",
    "   - построена тепловая карта.\n",
    "   В результате:\n",
    "     - **df_zone_1**: среднее и медиана не имеют большой разницы, в столбце 'product' есть разброс значений, который выражен в стандартном отклонении. Имеется связь между признаками прямая и обратная. Мультиколлинеарности нет;\n",
    "     - **df_zone_2**: среднее и медиана признаков не имеют большой разницы, кроме столбца 'product' (в нем же есть разброс значений, который выражен в стандартном отклонении). Имеется высокая связь между признаком 'f2' и 'product', следовательно, в данном регионе объем запасов в скважине зависит только от признака точки 'f2'. Мультиколлинеарности между признаками точек нет;\n",
    "     - **df_zone_3**: среднее и медиана не имеют большой разницы, в столбце 'product' есть разброс значений, который выражен в стандартном отклонении. Имеется умеренная связь между признаком 'f2' и 'product' Мультиколлинеарности между признаками точек нет.\n",
    "     - продукт (запасы в скважинах) распределен между регионами неравномерно.\n",
    "     \n",
    "     \n",
    "5. подготовка данных:\n",
    "   - столбец 'id' (идентификатор скважины) удален, он не несет полезной информации для обучения модели."
   ]
  },
  {
   "cell_type": "markdown",
   "metadata": {},
   "source": [
    "## Обучение и проверка модели"
   ]
  },
  {
   "cell_type": "markdown",
   "metadata": {},
   "source": [
    "Обучим и проверим модель для каждого региона. \n",
    "\n",
    "Разобьем данные на обучающую и валидационную выборки в соотношении 75:25. Обучим модель линейной регрессии и сделаем предсказания на валидационной выборке. Выведем на экран средний запас фактического и предсказанного моделью сырья, RMSE модели. "
   ]
  },
  {
   "cell_type": "code",
   "execution_count": 13,
   "metadata": {},
   "outputs": [],
   "source": [
    "def linear_model(data):\n",
    "    \n",
    "    # задаем признаки\n",
    "    target = data['product']\n",
    "    features = data.drop('product', axis=1)\n",
    "    \n",
    "    # делим на выборки в соотношении 75:25   \n",
    "    features_train, features_valid, target_train, target_valid = train_test_split(features, target, test_size=0.25, \n",
    "                                                                                  random_state=RANDOM_STATE)\n",
    "    \n",
    "    # инициализируем и обучаем модель\n",
    "    model = LinearRegression()\n",
    "    model.fit(features_train, target_train)\n",
    "    \n",
    "    # получаем предсказания\n",
    "    predict_valid = model.predict(features_valid)\n",
    "    \n",
    "    # считаем метрику\n",
    "    rmse = mean_squared_error(target_valid, predict_valid)**0.5\n",
    "    \n",
    "    # считаем средний запас прогнозируемого сырья\n",
    "    predict_valid_mean = predict_valid.sum() / len(predict_valid)\n",
    "    \n",
    "    return target_valid, predict_valid, rmse, predict_valid_mean"
   ]
  },
  {
   "cell_type": "markdown",
   "metadata": {},
   "source": [
    "Получаем показатели для каждого региона с помощью функции:"
   ]
  },
  {
   "cell_type": "code",
   "execution_count": 14,
   "metadata": {},
   "outputs": [
    {
     "name": "stdout",
     "output_type": "stream",
     "text": [
      "Регион 1: средний запас предсказанного сырья: 92.40 тыс. баррелей; RMSE = 37.76\n",
      "Регион 2: средний запас предсказанного сырья: 68.71 тыс. баррелей; RMSE = 0.89\n",
      "Регион 3: средний запас предсказанного сырья: 94.77 тыс. баррелей; RMSE = 40.15\n"
     ]
    }
   ],
   "source": [
    "target_valid_1, predict_valid_1, rmse_1, predict_valid_mean_1 = linear_model(df_zone_1)\n",
    "target_valid_2, predict_valid_2, rmse_2, predict_valid_mean_2 = linear_model(df_zone_2)\n",
    "target_valid_3, predict_valid_3, rmse_3, predict_valid_mean_3 = linear_model(df_zone_3)\n",
    "\n",
    "print(f'Регион 1: средний запас предсказанного сырья: {predict_valid_mean_1:.2f} тыс. баррелей; RMSE = {rmse_1:.2f}')\n",
    "print(f'Регион 2: средний запас предсказанного сырья: {predict_valid_mean_2:.2f} тыс. баррелей; RMSE = {rmse_2:.2f}')\n",
    "print(f'Регион 3: средний запас предсказанного сырья: {predict_valid_mean_3:.2f} тыс. баррелей; RMSE = {rmse_3:.2f}')"
   ]
  },
  {
   "cell_type": "markdown",
   "metadata": {},
   "source": [
    "**Вывод**: наибольший запас предсказанного сырья у третьей зоны (94.77), на втором месте с небольшой разницей идёт первая зона (92.40), наименьшие запасы у второй зоны (68.71). Но по второй зоне модель работает точнее всего (значение метрики RMSE = 0.89 - чем ближе значение метрики к нулю, тем точнее модель). В первой и третьей зонах имеется большой разброс данных в целевых показателях, что означает, что предсказанные значения не отражают реальные запасы сырья с высокой точностью.\n",
    "\n",
    "По результатам предсказаний модели линейной регрессии предварительно можно утверждать, что вторая зона является самой предсказуемой, но низкодоходной, а третья - самая доходная, но рискованная."
   ]
  },
  {
   "cell_type": "markdown",
   "metadata": {},
   "source": [
    "## Подготовка к расчёту прибыли"
   ]
  },
  {
   "cell_type": "markdown",
   "metadata": {},
   "source": [
    "По условиям задачи:\n",
    "- При разведке региона исследуют 500 точек, из которых с помощью машинного обучения выбирают 200 лучших для разработки.\n",
    "- Бюджет на разработку скважин в регионе — 10 млрд рублей.\n",
    "- При нынешних ценах один баррель сырья приносит 450 рублей дохода. Доход с каждой единицы продукта составляет 450 тыс. рублей, поскольку объём указан в тысячах баррелей.\n",
    "- После оценки рисков нужно оставить лишь те регионы, в которых вероятность убытков меньше 2.5%. Среди них выбирают регион с наибольшей средней прибылью.\n",
    "\n",
    "Ключевые значения для расчетов сохраним в отдельных константах Python (согласно PEP 8):"
   ]
  },
  {
   "cell_type": "code",
   "execution_count": 15,
   "metadata": {},
   "outputs": [],
   "source": [
    "# количество скважин при разведке региона\n",
    "HOLE_COUNT = 500\n",
    "\n",
    "# количество лучших скважин для разработки\n",
    "BEST_HOLE_COUNT = 200\n",
    "\n",
    "# бюджет на разработку скважин в одном регионе\n",
    "BUDGET_FOR_ZONE = 10*(10**9)\n",
    "\n",
    "# доход с одного барреля\n",
    "PROFIT_BARREL = 450\n",
    "\n",
    "# доход с единицы продукта (единица продукта = 1000 баррелей)\n",
    "PROFIT_PRODUCT = 450000"
   ]
  },
  {
   "cell_type": "markdown",
   "metadata": {},
   "source": [
    "Рассчитаем минимальный объем сырья в скважине для безубыточной разработки:"
   ]
  },
  {
   "cell_type": "code",
   "execution_count": 16,
   "metadata": {},
   "outputs": [
    {
     "name": "stdout",
     "output_type": "stream",
     "text": [
      "Минимальный объём сырья для безубыточной разработки = 111.11 тыс. баррелей (единиц продукта).\n"
     ]
    }
   ],
   "source": [
    "min_volume = BUDGET_FOR_ZONE / BEST_HOLE_COUNT / PROFIT_PRODUCT\n",
    "print(f'Минимальный объём сырья для безубыточной разработки = {min_volume:.2f} тыс. баррелей (единиц продукта).')"
   ]
  },
  {
   "cell_type": "code",
   "execution_count": 17,
   "metadata": {},
   "outputs": [
    {
     "name": "stdout",
     "output_type": "stream",
     "text": [
      "Средний запас в df_zone_1 фактического сырья = 92.50 тыс. баррелей.\n",
      "Доля скважин с объёмом больше мин. порога = 36.58%\n",
      "Количество скважин с объёмом больше мин. порога = 36583\n",
      "\n",
      "Средний запас в df_zone_2 фактического сырья = 68.83 тыс. баррелей.\n",
      "Доля скважин с объёмом больше мин. порога = 16.54%\n",
      "Количество скважин с объёмом больше мин. порога = 16537\n",
      "\n",
      "Средний запас в df_zone_3 фактического сырья = 95.00 тыс. баррелей.\n",
      "Доля скважин с объёмом больше мин. порога = 38.18%\n",
      "Количество скважин с объёмом больше мин. порога = 38178\n",
      "\n"
     ]
    }
   ],
   "source": [
    "names = ['df_zone_1', 'df_zone_2', 'df_zone_3']\n",
    "data = [df_zone_1, df_zone_2, df_zone_3]\n",
    "\n",
    "for name, data in zip(names, data):\n",
    "    print(f'Средний запас в {name} фактического сырья = {data[\"product\"].mean():.2f} тыс. баррелей.')\n",
    "    print(f'Доля скважин с объёмом больше мин. порога = {len(data.query(\"product > @min_volume\")) / len(data):.2%}')\n",
    "    print(f'Количество скважин с объёмом больше мин. порога = {len(data.query(\"product > @min_volume\"))}')\n",
    "    print()"
   ]
  },
  {
   "cell_type": "markdown",
   "metadata": {},
   "source": [
    "**Вывод**: минимальный объём сырья для безубыточной разработки = 111.11 тыс. баррелей. Скважин с таким минимальным объемом всего 16.54% во второй зоне разработки, в первой и третьей зонах уже побольше - 36.58% и 38.18% соответственно. Средний запас по каждому региону существенно ниже минимального объема сырья для безубыточной разработки."
   ]
  },
  {
   "cell_type": "markdown",
   "metadata": {},
   "source": [
    "## Расчёт прибыли и рисков "
   ]
  },
  {
   "cell_type": "markdown",
   "metadata": {},
   "source": [
    "Создаем функцию для расчета прибыли по выбранным скважинам и предсказаниям модели (минус инвестиции):"
   ]
  },
  {
   "cell_type": "code",
   "execution_count": null,
   "metadata": {},
   "outputs": [],
   "source": [
    "def profit(target, prediction):\n",
    "    \n",
    "    # выбираем скважины с максимальными значениями предсказаний:\n",
    "    preds_sorted = pd.Series(prediction).sort_values(ascending=False)\n",
    "    selected = target[preds_sorted.index][:BEST_HOLE_COUNT]\n",
    "    \n",
    "    # суммируем объем сырья\n",
    "    product = selected.sum()\n",
    "    \n",
    "    #считаем прибыль для полученного объема сырья\n",
    "    revenue = product * PROFIT_PRODUCT\n",
    "    return (revenue - BUDGET_FOR_ZONE)"
   ]
  },
  {
   "cell_type": "markdown",
   "metadata": {},
   "source": [
    "Применим технику Bootstrap c 1000 выборок, чтобы найти распределение прибыли. Найдем среднюю прибыль, 95%-й доверительный интервал и риск убытков (отрицательную прибыль). Для этого создаем функцию:"
   ]
  },
  {
   "cell_type": "code",
   "execution_count": 19,
   "metadata": {},
   "outputs": [],
   "source": [
    "def bootstrap_zone(target, prediction):\n",
    "    \n",
    "    # используем объект для случайного отбора\n",
    "    state = np.random.RandomState(12345)\n",
    "    \n",
    "    # новый список для оценок из бутстрепа\n",
    "    values = []\n",
    "    \n",
    "    target = pd.Series(target).reset_index(drop=True)\n",
    "    prediction = pd.Series(prediction).reset_index(drop=True)\n",
    "    \n",
    "    for i in range(1000):\n",
    "        target_subsample = target.sample(n=HOLE_COUNT, replace=True, random_state=state)\n",
    "        pred_subsample = prediction[target_subsample.index]\n",
    "        values.append(profit(target_subsample, pred_subsample))\n",
    "                \n",
    "    values = pd.Series(values)\n",
    "\n",
    "    values_mean = int(values.mean())\n",
    "    \n",
    "    # находим квантили для 95%-го доверительного интервала\n",
    "    lower = int(values.quantile(0.025))\n",
    "    upper = int(values.quantile(0.975))\n",
    "    \n",
    "    # считаем риски\n",
    "    risk = int(len(values[values < 0]) / len(values) * 100)\n",
    "    \n",
    "    return values, values_mean, lower, upper, risk"
   ]
  },
  {
   "cell_type": "markdown",
   "metadata": {},
   "source": [
    "Посчитаем основные параметры при помощи функции для трех регионов:"
   ]
  },
  {
   "cell_type": "code",
   "execution_count": 20,
   "metadata": {},
   "outputs": [],
   "source": [
    "values_1, values_mean_1, lower_1, upper_1, risk_1 = bootstrap_zone(target_valid_1, predict_valid_1)\n",
    "values_2, values_mean_2, lower_2, upper_2, risk_2 = bootstrap_zone(target_valid_2, predict_valid_2)\n",
    "values_3, values_mean_3, lower_3, upper_3, risk_3 = bootstrap_zone(target_valid_3, predict_valid_3)"
   ]
  },
  {
   "cell_type": "markdown",
   "metadata": {},
   "source": [
    "Визуализируем распределение прибыли для каждого региона:"
   ]
  },
  {
   "cell_type": "code",
   "execution_count": 21,
   "metadata": {},
   "outputs": [
    {
     "data": {
      "image/png": "[encoded data removed]",
      "text/plain": [
       "<Figure size 1080x504 with 1 Axes>"
      ]
     },
     "metadata": {
      "needs_background": "light"
     },
     "output_type": "display_data"
    },
    {
     "name": "stdout",
     "output_type": "stream",
     "text": [
      "Регион 1: \n",
      "Средняя прибыль c 200 лучших скважин для разработки: 43.59 млн\n",
      "Доверительный интервал: -11.6231612 : 96.650418 млн\n",
      "Риск убытков: 6% \n"
     ]
    }
   ],
   "source": [
    "values_1.hist(figsize=(15, 7), bins=10, edgecolor='black', color = 'teal')\n",
    "plt.grid(False)\n",
    "plt.axvline(lower_1, color='violet')\n",
    "plt.axvline(upper_1, color='gold')\n",
    "plt.legend(['Нижняя граница 95%-го доверительного интервала', 'Верхняя граница 95%-го доверительного интервала', \n",
    "            'Распределение прибыли для региона 1'])\n",
    "plt.xlabel('Прибыль')\n",
    "plt.ylabel('Количество скважин из лучших для разработки')\n",
    "plt.title('Распределение прибыли для региона 1')\n",
    "plt.show()\n",
    "\n",
    "print(f'''Регион 1: \n",
    "Средняя прибыль c 200 лучших скважин для разработки: {(values_mean_1 / 10e6):.2f} млн\n",
    "Доверительный интервал: {lower_1 / 10e6} : {upper_1 / 10e6} млн\n",
    "Риск убытков: {risk_1}% ''')"
   ]
  },
  {
   "cell_type": "code",
   "execution_count": 22,
   "metadata": {},
   "outputs": [
    {
     "data": {
      "image/png": "[encoded data removed]",
      "text/plain": [
       "<Figure size 1080x504 with 1 Axes>"
      ]
     },
     "metadata": {
      "needs_background": "light"
     },
     "output_type": "display_data"
    },
    {
     "name": "stdout",
     "output_type": "stream",
     "text": [
      "Регион 2: \n",
      "Средняя прибыль c 200 лучших скважин для разработки: 48.97 млн\n",
      "Доверительный интервал: 5.5116177 : 90.576265 млн\n",
      "Риск убытков: 1% \n"
     ]
    }
   ],
   "source": [
    "values_2.hist(figsize=(15, 7), bins=10, edgecolor='black', color = 'teal')\n",
    "plt.grid(False)\n",
    "plt.axvline(lower_2, color='violet')\n",
    "plt.axvline(upper_2, color='gold')\n",
    "plt.legend(['Нижняя граница 95%-го доверительного интервала', \n",
    "            'Верхняя граница 95%-го доверительного интервала', \n",
    "            'Распределение прибыли для региона 2'])\n",
    "plt.xlabel('Прибыль')\n",
    "plt.ylabel('Количество скважин из лучших для разработки')\n",
    "plt.title('Распределение прибыли для региона 2')\n",
    "plt.show()\n",
    "\n",
    "print(f'''Регион 2: \n",
    "Средняя прибыль c 200 лучших скважин для разработки: {(values_mean_2 / 10e6):.2f} млн\n",
    "Доверительный интервал: {lower_2 / 10e6} : {upper_2 / 10e6} млн\n",
    "Риск убытков: {risk_2}% ''')"
   ]
  },
  {
   "cell_type": "code",
   "execution_count": 23,
   "metadata": {},
   "outputs": [
    {
     "data": {
      "image/png": "[encoded data removed]",
      "text/plain": [
       "<Figure size 1080x504 with 1 Axes>"
      ]
     },
     "metadata": {
      "needs_background": "light"
     },
     "output_type": "display_data"
    },
    {
     "name": "stdout",
     "output_type": "stream",
     "text": [
      "Регион 3: \n",
      "Средняя прибыль c 200 лучших скважин для разработки: 40.37 млн\n",
      "Доверительный интервал: -15.3116984 : 95.2887416 млн\n",
      "Риск убытков: 7% \n"
     ]
    }
   ],
   "source": [
    "values_3.hist(figsize=(15, 7), bins=10, edgecolor='black', color = 'teal')\n",
    "plt.grid(False)\n",
    "plt.axvline(lower_3, color='violet')\n",
    "plt.axvline(upper_3, color='gold')\n",
    "plt.legend(['Нижняя граница 95%-го доверительного интервала', \n",
    "            'Верхняя граница 95%-го доверительного интервала', \n",
    "            'Распределение прибыли для региона 3'])\n",
    "plt.xlabel('Прибыль')\n",
    "plt.ylabel('Количество скважин из лучших для разработки')\n",
    "plt.title('Распределение прибыли для региона 3')\n",
    "plt.show()\n",
    "\n",
    "print(f'''Регион 3: \n",
    "Средняя прибыль c 200 лучших скважин для разработки: {(values_mean_3 / 10e6):.2f} млн\n",
    "Доверительный интервал: {lower_3 / 10e6} : {upper_3 / 10e6} млн\n",
    "Риск убытков: {risk_3}% ''')"
   ]
  },
  {
   "cell_type": "markdown",
   "metadata": {},
   "source": [
    "**Вывод**: на основании полученных данных можно сделать вывод, что регион 2 является наиболее привлекательным для разработки:\n",
    "- самая высокая прибыль лучших месторождений (48.97 млн), \n",
    "- более узкие рамки доверительного интервала (5.51 : 90.58 млн)\n",
    "- наименьший риск получения убытков (1%).\n",
    "\n",
    "Данный регион рекомендован для разработки скважин."
   ]
  },
  {
   "cell_type": "markdown",
   "metadata": {},
   "source": [
    "## Общий вывод"
   ]
  },
  {
   "cell_type": "markdown",
   "metadata": {},
   "source": [
    "- **На этапе загрузки и подготовки данных было выполнено**:\n",
    "1. загружены файлы и сохранены в датафреймы по трем регионам геологоразведки (df_zone_1, df_zone_2, df_zone_3);\n",
    "\n",
    "2. выведена информация о датафремах, вывод:\n",
    "   - по 10000 строк и 5 столбцов в каждом датафрейме;\n",
    "   - пропусков нет;\n",
    "   - названия столбцов записаны корректно, исправлений не требуется;\n",
    "   - типы данных верные;\n",
    "   - каждый датафрейм содержит (описание данных):\n",
    "     - id — уникальный идентификатор скважины;\n",
    "     - f0, f1, f2 — три признака точек (признаки значимы);\n",
    "     - product — объём запасов в скважине (тыс. баррелей).\n",
    "\n",
    "\n",
    "3. проведена предобработка данных:\n",
    "   - проверка на явные дубликаты - не выявлено;\n",
    "   - проверка на неявные дубликаты - не выявлено.\n",
    "\n",
    "\n",
    "4. проведен анализ данных:\n",
    "   - статистика числовых значений;\n",
    "   - построены гистограммы;\n",
    "   - построена матрица корреляции;\n",
    "   - построена тепловая карта.\n",
    "   В результате:\n",
    "     - **df_zone_1**: среднее и медиана не имеют большой разницы, в столбце 'product' есть разброс значений, который выражен в стандартном отклонении. Имеется связь между признаками прямая и обратная. Мультиколлинеарности нет;\n",
    "     - **df_zone_2**: среднее и медиана признаков не имеют большой разницы, кроме столбца 'product' (в нем же есть разброс значений, который выражен в стандартном отклонении). Имеется высокая связь между признаком 'f2' и 'product', следовательно, в данном регионе объем запасов в скважине зависит только от признака точки 'f2'. Мультиколлинеарности между признаками точек нет;\n",
    "     - **df_zone_3**: среднее и медиана не имеют большой разницы, в столбце 'product' есть разброс значений, который выражен в стандартном отклонении. Имеется умеренная связь между признаком 'f2' и 'product' Мультиколлинеарности между признаками точек нет.\n",
    "     - продукт (запасы в скважинах) распределен между регионами неравномерно.\n",
    "     \n",
    "     \n",
    "5. подготовка данных:\n",
    "   - столбец 'id' (идентификатор скважины) удален, он не несет полезной информации для обучения модели.\n",
    "   \n",
    "- **На этапе обучения и проверки модели было выполнено**:\n",
    "1. Разделены данные на обучающую и валидационную выборки в соотношении 75:25. \n",
    "\n",
    "2. Обучена модель линейной регрессии и сделаны предсказания на валидационной выборке. \n",
    "\n",
    "3. Рассчитан средний запас фактического и предсказанного моделью сырья, RMSE модели.\n",
    "\n",
    "**Результат**: наибольший запас предсказанного сырья у третьей зоны (94.77), на втором месте с небольшой разницей идёт первая зона (92.40), наименьшие запасы у второй зоны (68.71). Но по второй зоне модель работает точнее всего (значение метрики RMSE = 0.89 - чем ближе значение метрики к нулю, тем точнее модель). В первой и третьей зонах имеется большой разброс данных в целевых показателях, что означает, что предсказанные значения не отражают реальные запасы сырья с высокой точностью.\n",
    "\n",
    "По результатам предсказаний модели линейной регрессии предварительно можно утверждать, что вторая зона является самой предсказуемой, но низкодоходной, а третья - самая доходная, но рискованная.\n",
    "\n",
    "- **На этапе подготовки к расчету прибыли было выполнено**:\n",
    "\n",
    "1. Ключевые значения для расчетов сохранены в отдельных константах Python (согласно PEP 8) - взяты из условия задачи.\n",
    "\n",
    "2. Рассчитан минимальный объем сырья в скважине для безубыточной разработки: 111.11 тыс. баррелей (единиц продукта).\n",
    "\n",
    "3. Рассчитаны средние запасы в скважинах по каждому региону, проведено сравнение с минимальным объемом сырья для безубыточной разработки. \n",
    "\n",
    "**Результат**: скважин с минимальным объемом сырья для безубыточной разработки всего 16.54% во второй зоне разработки, в первой и третьей зонах побольше - 36.58% и 38.18% соответственно. Средний запас по каждому региону существенно ниже минимального объема сырья для безубыточной разработки.\n",
    "\n",
    "- **На этапе расчета прибыли и рисков было выполнено**:\n",
    "\n",
    "1. Создана функция для расчета прибыли по выбранным скважинам и предсказаниям модели (минус инвестиции).\n",
    "\n",
    "2. Применена техника Bootstrap c 1000 выборок, чтобы найти распределение прибыли. Найдена средняя прибыль, 95%-й доверительный интервал и риск убытков (отрицательная прибыль). Для этого создана функция. \n",
    "\n",
    "3. Рассчитаны основные параметры при помощи функций для трех регионов. \n",
    "\n",
    "4. Визуализировано распределение прибыли для каждого региона.\n",
    "\n",
    "**Результат**:\n",
    "- Регион 1: \n",
    "  - Средняя прибыль c 200 лучших скважин для разработки: 43.59 млн\n",
    "  - Доверительный интервал: -11.6231612 : 96.650418 млн\n",
    "  - Риск убытков: 6% \n",
    "\n",
    "- Регион 2: \n",
    "  - Средняя прибыль c 200 лучших скважин для разработки: 48.97 млн\n",
    "  - Доверительный интервал: 5.5116177 : 90.576265 млн\n",
    "  - Риск убытков: 1% \n",
    "\n",
    "- Регион 3: \n",
    "  - Средняя прибыль c 200 лучших скважин для разработки: 40.37 млн\n",
    "  - Доверительный интервал: -15.3116984 : 95.2887416 млн\n",
    "  - Риск убытков: 7% \n",
    "  \n",
    "\n",
    "**Окончательный вывод**: \n",
    "\n",
    "На основании полученных данных можно сделать вывод, что **регион 2 является наиболее привлекательным для разработки**:\n",
    "- самая высокая прибыль лучших месторождений (48.97 млн), \n",
    "- более узкие рамки доверительного интервала (5.51 : 90.58 млн)\n",
    "- наименьший риск получения убытков (1%).\n",
    "\n",
    "**Данный регион рекомендован для разработки скважин.**"
   ]
  }
 ],
 "metadata": {
  "ExecuteTimeLog": [
   {
    "duration": 12,
    "start_time": "2025-03-28T16:34:30.916Z"
   },
   {
    "duration": 8404,
    "start_time": "2025-04-24T09:46:42.360Z"
   },
   {
    "duration": 454,
    "start_time": "2025-04-24T09:48:15.736Z"
   },
   {
    "duration": 20,
    "start_time": "2025-04-24T09:48:24.337Z"
   },
   {
    "duration": 387,
    "start_time": "2025-04-24T09:50:32.543Z"
   },
   {
    "duration": 36,
    "start_time": "2025-04-24T09:51:45.760Z"
   },
   {
    "duration": 25,
    "start_time": "2025-04-24T09:52:53.252Z"
   },
   {
    "duration": 32,
    "start_time": "2025-04-24T09:53:22.428Z"
   },
   {
    "duration": 143,
    "start_time": "2025-04-24T09:57:34.846Z"
   },
   {
    "duration": 16,
    "start_time": "2025-04-24T09:59:16.655Z"
   },
   {
    "duration": 82,
    "start_time": "2025-04-24T10:00:01.485Z"
   },
   {
    "duration": 120,
    "start_time": "2025-04-24T10:00:16.129Z"
   },
   {
    "duration": 16,
    "start_time": "2025-04-24T10:00:30.157Z"
   },
   {
    "duration": 64,
    "start_time": "2025-04-24T10:00:38.769Z"
   },
   {
    "duration": 10,
    "start_time": "2025-04-24T10:02:08.462Z"
   },
   {
    "duration": 100,
    "start_time": "2025-04-24T10:02:15.436Z"
   },
   {
    "duration": 4,
    "start_time": "2025-04-24T12:07:01.692Z"
   },
   {
    "duration": 961,
    "start_time": "2025-04-24T12:07:15.933Z"
   },
   {
    "duration": 3,
    "start_time": "2025-04-24T12:07:54.274Z"
   },
   {
    "duration": 936,
    "start_time": "2025-04-24T12:07:57.380Z"
   },
   {
    "duration": 4,
    "start_time": "2025-04-24T12:09:01.491Z"
   },
   {
    "duration": 883,
    "start_time": "2025-04-24T12:09:04.094Z"
   },
   {
    "duration": 5,
    "start_time": "2025-04-24T12:10:24.160Z"
   },
   {
    "duration": 833,
    "start_time": "2025-04-24T12:10:26.722Z"
   },
   {
    "duration": 4,
    "start_time": "2025-04-24T12:10:52.564Z"
   },
   {
    "duration": 975,
    "start_time": "2025-04-24T12:10:52.979Z"
   },
   {
    "duration": 98,
    "start_time": "2025-04-24T12:11:30.034Z"
   },
   {
    "duration": 878,
    "start_time": "2025-04-24T12:11:30.847Z"
   },
   {
    "duration": 4,
    "start_time": "2025-04-24T12:11:45.214Z"
   },
   {
    "duration": 830,
    "start_time": "2025-04-24T12:11:45.440Z"
   },
   {
    "duration": 5,
    "start_time": "2025-04-24T12:13:04.091Z"
   },
   {
    "duration": 978,
    "start_time": "2025-04-24T12:13:07.581Z"
   },
   {
    "duration": 5,
    "start_time": "2025-04-24T12:13:45.167Z"
   },
   {
    "duration": 477,
    "start_time": "2025-04-24T12:13:46.913Z"
   },
   {
    "duration": 4,
    "start_time": "2025-04-24T12:13:57.299Z"
   },
   {
    "duration": 5,
    "start_time": "2025-04-24T12:16:07.327Z"
   },
   {
    "duration": 955,
    "start_time": "2025-04-24T12:16:09.535Z"
   },
   {
    "duration": 4,
    "start_time": "2025-04-24T12:16:58.463Z"
   },
   {
    "duration": 1141,
    "start_time": "2025-04-24T12:17:05.602Z"
   },
   {
    "duration": 5,
    "start_time": "2025-04-24T12:18:08.742Z"
   },
   {
    "duration": 994,
    "start_time": "2025-04-24T12:18:11.793Z"
   },
   {
    "duration": 52,
    "start_time": "2025-04-25T07:08:14.902Z"
   },
   {
    "duration": 2644,
    "start_time": "2025-04-25T07:11:00.261Z"
   },
   {
    "duration": 430,
    "start_time": "2025-04-25T07:11:02.907Z"
   },
   {
    "duration": 38,
    "start_time": "2025-04-25T07:11:03.338Z"
   },
   {
    "duration": 26,
    "start_time": "2025-04-25T07:11:03.378Z"
   },
   {
    "duration": 55,
    "start_time": "2025-04-25T07:11:03.407Z"
   },
   {
    "duration": 165,
    "start_time": "2025-04-25T07:11:03.464Z"
   },
   {
    "duration": 102,
    "start_time": "2025-04-25T07:11:03.631Z"
   },
   {
    "duration": 8,
    "start_time": "2025-04-25T07:11:03.735Z"
   },
   {
    "duration": 1109,
    "start_time": "2025-04-25T07:11:03.745Z"
   },
   {
    "duration": 4112,
    "start_time": "2025-04-25T07:11:18.497Z"
   },
   {
    "duration": 435,
    "start_time": "2025-04-25T07:11:22.611Z"
   },
   {
    "duration": 32,
    "start_time": "2025-04-25T07:11:23.048Z"
   },
   {
    "duration": 26,
    "start_time": "2025-04-25T07:11:23.082Z"
   },
   {
    "duration": 54,
    "start_time": "2025-04-25T07:11:23.110Z"
   },
   {
    "duration": 168,
    "start_time": "2025-04-25T07:11:23.166Z"
   },
   {
    "duration": 111,
    "start_time": "2025-04-25T07:11:23.336Z"
   },
   {
    "duration": 6,
    "start_time": "2025-04-25T07:11:23.460Z"
   },
   {
    "duration": 1025,
    "start_time": "2025-04-25T07:11:23.468Z"
   },
   {
    "duration": 5,
    "start_time": "2025-04-25T07:13:06.918Z"
   },
   {
    "duration": 1050,
    "start_time": "2025-04-25T07:24:06.389Z"
   },
   {
    "duration": 926,
    "start_time": "2025-04-25T07:24:19.491Z"
   },
   {
    "duration": 20,
    "start_time": "2025-04-25T08:05:26.647Z"
   },
   {
    "duration": 12,
    "start_time": "2025-04-25T08:05:32.794Z"
   },
   {
    "duration": 11,
    "start_time": "2025-04-25T08:06:24.804Z"
   },
   {
    "duration": 11,
    "start_time": "2025-04-25T08:06:31.357Z"
   },
   {
    "duration": 122,
    "start_time": "2025-04-25T08:07:07.402Z"
   },
   {
    "duration": 3987,
    "start_time": "2025-04-25T08:07:20.314Z"
   },
   {
    "duration": 440,
    "start_time": "2025-04-25T08:07:24.304Z"
   },
   {
    "duration": 39,
    "start_time": "2025-04-25T08:07:24.749Z"
   },
   {
    "duration": 27,
    "start_time": "2025-04-25T08:07:24.791Z"
   },
   {
    "duration": 54,
    "start_time": "2025-04-25T08:07:24.822Z"
   },
   {
    "duration": 174,
    "start_time": "2025-04-25T08:07:24.878Z"
   },
   {
    "duration": 114,
    "start_time": "2025-04-25T08:07:25.060Z"
   },
   {
    "duration": 4,
    "start_time": "2025-04-25T08:07:25.176Z"
   },
   {
    "duration": 1062,
    "start_time": "2025-04-25T08:07:25.182Z"
   },
   {
    "duration": 1039,
    "start_time": "2025-04-25T08:07:26.246Z"
   },
   {
    "duration": 925,
    "start_time": "2025-04-25T08:07:27.287Z"
   },
   {
    "duration": 56,
    "start_time": "2025-04-25T08:07:28.214Z"
   },
   {
    "duration": 2641,
    "start_time": "2025-04-25T08:22:59.743Z"
   },
   {
    "duration": 83,
    "start_time": "2025-04-25T08:29:28.080Z"
   },
   {
    "duration": 739,
    "start_time": "2025-04-25T08:30:09.820Z"
   },
   {
    "duration": 482,
    "start_time": "2025-04-25T08:32:07.583Z"
   },
   {
    "duration": 544,
    "start_time": "2025-04-25T08:32:55.818Z"
   },
   {
    "duration": 527,
    "start_time": "2025-04-25T08:39:44.935Z"
   },
   {
    "duration": 13,
    "start_time": "2025-04-25T08:41:37.965Z"
   },
   {
    "duration": 18,
    "start_time": "2025-04-25T08:41:55.782Z"
   },
   {
    "duration": 10,
    "start_time": "2025-04-25T08:42:55.882Z"
   },
   {
    "duration": 29,
    "start_time": "2025-04-25T08:42:59.384Z"
   },
   {
    "duration": 547,
    "start_time": "2025-04-25T08:56:14.616Z"
   },
   {
    "duration": 3,
    "start_time": "2025-04-25T09:16:10.660Z"
   },
   {
    "duration": 5,
    "start_time": "2025-04-25T09:20:10.686Z"
   },
   {
    "duration": 990,
    "start_time": "2025-04-25T09:20:14.429Z"
   },
   {
    "duration": 1136,
    "start_time": "2025-04-25T09:20:19.348Z"
   },
   {
    "duration": 1041,
    "start_time": "2025-04-25T09:20:32.134Z"
   },
   {
    "duration": 118,
    "start_time": "2025-04-25T09:29:31.203Z"
   },
   {
    "duration": 3,
    "start_time": "2025-04-25T09:29:43.628Z"
   },
   {
    "duration": 11,
    "start_time": "2025-04-25T09:29:45.665Z"
   },
   {
    "duration": 4,
    "start_time": "2025-04-25T09:30:09.376Z"
   },
   {
    "duration": 4,
    "start_time": "2025-04-25T09:30:24.698Z"
   },
   {
    "duration": 4,
    "start_time": "2025-04-25T09:30:27.156Z"
   },
   {
    "duration": 5,
    "start_time": "2025-04-25T09:31:05.805Z"
   },
   {
    "duration": 4,
    "start_time": "2025-04-25T09:31:45.725Z"
   },
   {
    "duration": 2,
    "start_time": "2025-04-25T09:32:38.045Z"
   },
   {
    "duration": 5,
    "start_time": "2025-04-25T09:33:10.301Z"
   },
   {
    "duration": 11,
    "start_time": "2025-04-25T09:33:22.558Z"
   },
   {
    "duration": 11,
    "start_time": "2025-04-25T09:33:40.381Z"
   },
   {
    "duration": 4075,
    "start_time": "2025-04-25T09:33:59.711Z"
   },
   {
    "duration": 437,
    "start_time": "2025-04-25T09:34:03.788Z"
   },
   {
    "duration": 46,
    "start_time": "2025-04-25T09:34:04.226Z"
   },
   {
    "duration": 28,
    "start_time": "2025-04-25T09:34:04.273Z"
   },
   {
    "duration": 26,
    "start_time": "2025-04-25T09:34:04.304Z"
   },
   {
    "duration": 202,
    "start_time": "2025-04-25T09:34:04.332Z"
   },
   {
    "duration": 119,
    "start_time": "2025-04-25T09:34:04.536Z"
   },
   {
    "duration": 6,
    "start_time": "2025-04-25T09:34:04.656Z"
   },
   {
    "duration": 1091,
    "start_time": "2025-04-25T09:34:04.663Z"
   },
   {
    "duration": 1129,
    "start_time": "2025-04-25T09:34:05.759Z"
   },
   {
    "duration": 1094,
    "start_time": "2025-04-25T09:34:06.890Z"
   },
   {
    "duration": 43,
    "start_time": "2025-04-25T09:34:07.985Z"
   },
   {
    "duration": 735,
    "start_time": "2025-04-25T09:34:08.029Z"
   },
   {
    "duration": 4,
    "start_time": "2025-04-25T09:34:08.766Z"
   },
   {
    "duration": 14,
    "start_time": "2025-04-25T09:34:08.772Z"
   },
   {
    "duration": 162,
    "start_time": "2025-04-25T09:34:08.788Z"
   },
   {
    "duration": 72,
    "start_time": "2025-04-25T09:34:31.431Z"
   },
   {
    "duration": 73,
    "start_time": "2025-04-25T09:34:44.918Z"
   },
   {
    "duration": 70,
    "start_time": "2025-04-25T09:36:13.389Z"
   },
   {
    "duration": 8224,
    "start_time": "2025-04-25T14:39:02.147Z"
   },
   {
    "duration": 3634,
    "start_time": "2025-04-25T14:39:23.784Z"
   },
   {
    "duration": 388,
    "start_time": "2025-04-25T14:39:27.420Z"
   },
   {
    "duration": 32,
    "start_time": "2025-04-25T14:39:27.810Z"
   },
   {
    "duration": 23,
    "start_time": "2025-04-25T14:39:27.844Z"
   },
   {
    "duration": 22,
    "start_time": "2025-04-25T14:39:27.869Z"
   },
   {
    "duration": 164,
    "start_time": "2025-04-25T14:39:27.893Z"
   },
   {
    "duration": 93,
    "start_time": "2025-04-25T14:39:28.059Z"
   },
   {
    "duration": 4,
    "start_time": "2025-04-25T14:39:28.154Z"
   },
   {
    "duration": 1700,
    "start_time": "2025-04-25T14:39:28.159Z"
   },
   {
    "duration": 1010,
    "start_time": "2025-04-25T14:39:29.861Z"
   },
   {
    "duration": 986,
    "start_time": "2025-04-25T14:39:30.872Z"
   },
   {
    "duration": 38,
    "start_time": "2025-04-25T14:39:31.860Z"
   },
   {
    "duration": 737,
    "start_time": "2025-04-25T14:39:31.900Z"
   },
   {
    "duration": 4,
    "start_time": "2025-04-25T14:39:32.642Z"
   },
   {
    "duration": 12,
    "start_time": "2025-04-25T14:39:32.736Z"
   },
   {
    "duration": 186,
    "start_time": "2025-04-25T14:39:32.750Z"
   },
   {
    "duration": 3,
    "start_time": "2025-04-25T14:57:43.001Z"
   },
   {
    "duration": 3,
    "start_time": "2025-04-25T15:04:25.487Z"
   },
   {
    "duration": 3,
    "start_time": "2025-04-25T15:05:10.002Z"
   },
   {
    "duration": 4,
    "start_time": "2025-04-25T15:05:35.734Z"
   },
   {
    "duration": 6,
    "start_time": "2025-04-25T15:06:34.436Z"
   },
   {
    "duration": 121,
    "start_time": "2025-04-25T15:26:32.647Z"
   },
   {
    "duration": 13,
    "start_time": "2025-04-25T15:27:58.839Z"
   },
   {
    "duration": 3,
    "start_time": "2025-04-25T15:28:05.972Z"
   },
   {
    "duration": 1080,
    "start_time": "2025-04-25T15:28:06.939Z"
   },
   {
    "duration": 14,
    "start_time": "2025-04-25T15:30:09.318Z"
   },
   {
    "duration": 8,
    "start_time": "2025-04-25T15:30:28.216Z"
   },
   {
    "duration": 3281,
    "start_time": "2025-04-25T15:30:31.186Z"
   },
   {
    "duration": 3905,
    "start_time": "2025-04-25T15:31:52.527Z"
   },
   {
    "duration": 418,
    "start_time": "2025-04-25T15:31:56.436Z"
   },
   {
    "duration": 33,
    "start_time": "2025-04-25T15:31:56.856Z"
   },
   {
    "duration": 51,
    "start_time": "2025-04-25T15:31:56.891Z"
   },
   {
    "duration": 23,
    "start_time": "2025-04-25T15:31:56.945Z"
   },
   {
    "duration": 175,
    "start_time": "2025-04-25T15:31:56.969Z"
   },
   {
    "duration": 109,
    "start_time": "2025-04-25T15:31:57.146Z"
   },
   {
    "duration": 4,
    "start_time": "2025-04-25T15:31:57.257Z"
   },
   {
    "duration": 1055,
    "start_time": "2025-04-25T15:31:57.263Z"
   },
   {
    "duration": 1050,
    "start_time": "2025-04-25T15:31:58.320Z"
   },
   {
    "duration": 984,
    "start_time": "2025-04-25T15:31:59.372Z"
   },
   {
    "duration": 45,
    "start_time": "2025-04-25T15:32:00.358Z"
   },
   {
    "duration": 640,
    "start_time": "2025-04-25T15:32:00.405Z"
   },
   {
    "duration": 89,
    "start_time": "2025-04-25T15:32:01.048Z"
   },
   {
    "duration": 97,
    "start_time": "2025-04-25T15:32:01.139Z"
   },
   {
    "duration": 160,
    "start_time": "2025-04-25T15:32:01.238Z"
   },
   {
    "duration": 3,
    "start_time": "2025-04-25T15:32:01.400Z"
   },
   {
    "duration": 46,
    "start_time": "2025-04-25T15:32:01.405Z"
   },
   {
    "duration": 3173,
    "start_time": "2025-04-25T15:32:01.453Z"
   },
   {
    "duration": 981,
    "start_time": "2025-04-25T15:32:04.627Z"
   },
   {
    "duration": 3186,
    "start_time": "2025-04-25T15:32:56.094Z"
   },
   {
    "duration": 5,
    "start_time": "2025-04-25T15:45:16.786Z"
   },
   {
    "duration": 5,
    "start_time": "2025-04-25T15:48:23.820Z"
   },
   {
    "duration": 121,
    "start_time": "2025-04-25T15:53:41.424Z"
   },
   {
    "duration": 497,
    "start_time": "2025-04-25T15:54:15.040Z"
   },
   {
    "duration": 502,
    "start_time": "2025-04-25T15:58:01.142Z"
   },
   {
    "duration": 476,
    "start_time": "2025-04-25T15:58:22.762Z"
   },
   {
    "duration": 527,
    "start_time": "2025-04-25T16:00:17.911Z"
   },
   {
    "duration": 8899,
    "start_time": "2025-04-26T06:51:24.471Z"
   },
   {
    "duration": 410,
    "start_time": "2025-04-26T06:51:33.372Z"
   },
   {
    "duration": 33,
    "start_time": "2025-04-26T06:51:33.784Z"
   },
   {
    "duration": 26,
    "start_time": "2025-04-26T06:51:33.819Z"
   },
   {
    "duration": 59,
    "start_time": "2025-04-26T06:51:33.847Z"
   },
   {
    "duration": 151,
    "start_time": "2025-04-26T06:51:33.907Z"
   },
   {
    "duration": 108,
    "start_time": "2025-04-26T06:51:34.060Z"
   },
   {
    "duration": 4,
    "start_time": "2025-04-26T06:51:34.169Z"
   },
   {
    "duration": 1008,
    "start_time": "2025-04-26T06:51:34.175Z"
   },
   {
    "duration": 1043,
    "start_time": "2025-04-26T06:51:35.186Z"
   },
   {
    "duration": 1006,
    "start_time": "2025-04-26T06:51:36.230Z"
   },
   {
    "duration": 41,
    "start_time": "2025-04-26T06:51:37.238Z"
   },
   {
    "duration": 32,
    "start_time": "2025-04-26T06:51:37.281Z"
   },
   {
    "duration": 598,
    "start_time": "2025-04-26T06:51:37.314Z"
   },
   {
    "duration": 3,
    "start_time": "2025-04-26T06:51:38.004Z"
   },
   {
    "duration": 24,
    "start_time": "2025-04-26T06:51:38.009Z"
   },
   {
    "duration": 68,
    "start_time": "2025-04-26T06:51:38.034Z"
   },
   {
    "duration": 4,
    "start_time": "2025-04-26T06:51:38.104Z"
   },
   {
    "duration": 513,
    "start_time": "2025-04-26T06:52:46.593Z"
   },
   {
    "duration": 495,
    "start_time": "2025-04-26T06:53:09.010Z"
   },
   {
    "duration": 4,
    "start_time": "2025-04-26T06:57:05.249Z"
   },
   {
    "duration": 3,
    "start_time": "2025-04-26T06:58:01.264Z"
   },
   {
    "duration": 60,
    "start_time": "2025-04-26T06:58:32.292Z"
   },
   {
    "duration": 5,
    "start_time": "2025-04-26T07:24:02.167Z"
   },
   {
    "duration": 120,
    "start_time": "2025-04-26T07:27:14.261Z"
   },
   {
    "duration": 7,
    "start_time": "2025-04-26T07:33:02.944Z"
   },
   {
    "duration": 12,
    "start_time": "2025-04-26T07:33:06.834Z"
   },
   {
    "duration": 5,
    "start_time": "2025-04-26T07:34:06.849Z"
   },
   {
    "duration": 17,
    "start_time": "2025-04-26T07:34:08.273Z"
   },
   {
    "duration": 3887,
    "start_time": "2025-04-26T07:34:18.735Z"
   },
   {
    "duration": 400,
    "start_time": "2025-04-26T07:34:22.625Z"
   },
   {
    "duration": 33,
    "start_time": "2025-04-26T07:34:23.027Z"
   },
   {
    "duration": 45,
    "start_time": "2025-04-26T07:34:23.063Z"
   },
   {
    "duration": 25,
    "start_time": "2025-04-26T07:34:23.109Z"
   },
   {
    "duration": 178,
    "start_time": "2025-04-26T07:34:23.136Z"
   },
   {
    "duration": 107,
    "start_time": "2025-04-26T07:34:23.317Z"
   },
   {
    "duration": 5,
    "start_time": "2025-04-26T07:34:23.425Z"
   },
   {
    "duration": 1063,
    "start_time": "2025-04-26T07:34:23.431Z"
   },
   {
    "duration": 1050,
    "start_time": "2025-04-26T07:34:24.496Z"
   },
   {
    "duration": 1032,
    "start_time": "2025-04-26T07:34:25.548Z"
   },
   {
    "duration": 43,
    "start_time": "2025-04-26T07:34:26.582Z"
   },
   {
    "duration": 4,
    "start_time": "2025-04-26T07:34:26.626Z"
   },
   {
    "duration": 578,
    "start_time": "2025-04-26T07:34:26.632Z"
   },
   {
    "duration": 92,
    "start_time": "2025-04-26T07:34:27.213Z"
   },
   {
    "duration": 72,
    "start_time": "2025-04-26T07:34:27.306Z"
   },
   {
    "duration": 140,
    "start_time": "2025-04-26T07:34:27.380Z"
   },
   {
    "duration": 4,
    "start_time": "2025-04-26T07:34:27.522Z"
   },
   {
    "duration": 18,
    "start_time": "2025-04-26T07:34:27.528Z"
   },
   {
    "duration": 150,
    "start_time": "2025-04-26T07:34:27.548Z"
   },
   {
    "duration": 0,
    "start_time": "2025-04-26T07:34:27.700Z"
   },
   {
    "duration": 3,
    "start_time": "2025-04-26T07:36:23.242Z"
   },
   {
    "duration": 4,
    "start_time": "2025-04-26T07:36:24.584Z"
   },
   {
    "duration": 15,
    "start_time": "2025-04-26T07:36:25.906Z"
   },
   {
    "duration": 5,
    "start_time": "2025-04-26T07:37:02.466Z"
   },
   {
    "duration": 15,
    "start_time": "2025-04-26T07:37:04.466Z"
   },
   {
    "duration": 8,
    "start_time": "2025-04-26T07:37:35.643Z"
   },
   {
    "duration": 15,
    "start_time": "2025-04-26T07:37:36.768Z"
   },
   {
    "duration": 6,
    "start_time": "2025-04-26T07:39:31.151Z"
   },
   {
    "duration": 22,
    "start_time": "2025-04-26T07:39:32.031Z"
   },
   {
    "duration": 5,
    "start_time": "2025-04-26T07:39:44.873Z"
   },
   {
    "duration": 16,
    "start_time": "2025-04-26T07:39:48.045Z"
   },
   {
    "duration": 5,
    "start_time": "2025-04-26T07:40:45.700Z"
   },
   {
    "duration": 17,
    "start_time": "2025-04-26T07:40:49.382Z"
   },
   {
    "duration": 5,
    "start_time": "2025-04-26T07:42:13.866Z"
   },
   {
    "duration": 15,
    "start_time": "2025-04-26T07:42:16.833Z"
   },
   {
    "duration": 5,
    "start_time": "2025-04-26T07:51:14.949Z"
   },
   {
    "duration": 16,
    "start_time": "2025-04-26T07:51:17.425Z"
   },
   {
    "duration": 3816,
    "start_time": "2025-04-26T07:51:39.528Z"
   },
   {
    "duration": 399,
    "start_time": "2025-04-26T07:51:43.346Z"
   },
   {
    "duration": 31,
    "start_time": "2025-04-26T07:51:43.747Z"
   },
   {
    "duration": 62,
    "start_time": "2025-04-26T07:51:43.780Z"
   },
   {
    "duration": 25,
    "start_time": "2025-04-26T07:51:43.844Z"
   },
   {
    "duration": 156,
    "start_time": "2025-04-26T07:51:43.871Z"
   },
   {
    "duration": 110,
    "start_time": "2025-04-26T07:51:44.029Z"
   },
   {
    "duration": 5,
    "start_time": "2025-04-26T07:51:44.141Z"
   },
   {
    "duration": 1050,
    "start_time": "2025-04-26T07:51:44.148Z"
   },
   {
    "duration": 1080,
    "start_time": "2025-04-26T07:51:45.205Z"
   },
   {
    "duration": 1046,
    "start_time": "2025-04-26T07:51:46.287Z"
   },
   {
    "duration": 41,
    "start_time": "2025-04-26T07:51:47.335Z"
   },
   {
    "duration": 55,
    "start_time": "2025-04-26T07:51:47.378Z"
   },
   {
    "duration": 673,
    "start_time": "2025-04-26T07:51:47.435Z"
   },
   {
    "duration": 94,
    "start_time": "2025-04-26T07:51:48.110Z"
   },
   {
    "duration": 36,
    "start_time": "2025-04-26T07:51:48.206Z"
   },
   {
    "duration": 87,
    "start_time": "2025-04-26T07:51:48.244Z"
   },
   {
    "duration": 4,
    "start_time": "2025-04-26T07:51:48.333Z"
   },
   {
    "duration": 7,
    "start_time": "2025-04-26T07:51:48.338Z"
   },
   {
    "duration": 141,
    "start_time": "2025-04-26T07:51:48.346Z"
   },
   {
    "duration": 0,
    "start_time": "2025-04-26T07:51:48.488Z"
   },
   {
    "duration": 4,
    "start_time": "2025-04-26T07:53:24.172Z"
   },
   {
    "duration": 14,
    "start_time": "2025-04-26T07:53:27.448Z"
   },
   {
    "duration": 3,
    "start_time": "2025-04-26T07:54:44.761Z"
   },
   {
    "duration": 4,
    "start_time": "2025-04-26T07:56:17.743Z"
   },
   {
    "duration": 5,
    "start_time": "2025-04-26T07:56:19.486Z"
   },
   {
    "duration": 15,
    "start_time": "2025-04-26T07:56:21.324Z"
   },
   {
    "duration": 5,
    "start_time": "2025-04-26T07:57:53.282Z"
   },
   {
    "duration": 14,
    "start_time": "2025-04-26T07:57:55.328Z"
   },
   {
    "duration": 5,
    "start_time": "2025-04-26T07:59:05.374Z"
   },
   {
    "duration": 13,
    "start_time": "2025-04-26T07:59:08.035Z"
   },
   {
    "duration": 4,
    "start_time": "2025-04-26T07:59:15.950Z"
   },
   {
    "duration": 5,
    "start_time": "2025-04-26T07:59:17.457Z"
   },
   {
    "duration": 14,
    "start_time": "2025-04-26T07:59:19.605Z"
   },
   {
    "duration": 5,
    "start_time": "2025-04-26T07:59:31.603Z"
   },
   {
    "duration": 16,
    "start_time": "2025-04-26T07:59:33.646Z"
   },
   {
    "duration": 13,
    "start_time": "2025-04-26T08:00:36.098Z"
   },
   {
    "duration": 12,
    "start_time": "2025-04-26T08:01:52.797Z"
   },
   {
    "duration": 5,
    "start_time": "2025-04-26T08:02:21.282Z"
   },
   {
    "duration": 13,
    "start_time": "2025-04-26T08:02:33.246Z"
   },
   {
    "duration": 13,
    "start_time": "2025-04-26T08:08:26.015Z"
   },
   {
    "duration": 3,
    "start_time": "2025-04-26T08:09:01.245Z"
   },
   {
    "duration": 9,
    "start_time": "2025-04-26T08:09:01.761Z"
   },
   {
    "duration": 13,
    "start_time": "2025-04-26T08:09:12.149Z"
   },
   {
    "duration": 3,
    "start_time": "2025-04-26T08:10:00.227Z"
   },
   {
    "duration": 14,
    "start_time": "2025-04-26T08:10:00.738Z"
   },
   {
    "duration": 14,
    "start_time": "2025-04-26T08:10:32.072Z"
   },
   {
    "duration": 3,
    "start_time": "2025-04-26T08:11:45.290Z"
   },
   {
    "duration": 5,
    "start_time": "2025-04-26T08:11:53.480Z"
   },
   {
    "duration": 14,
    "start_time": "2025-04-26T08:11:58.905Z"
   },
   {
    "duration": 5,
    "start_time": "2025-04-26T08:12:18.571Z"
   },
   {
    "duration": 16,
    "start_time": "2025-04-26T08:12:23.288Z"
   },
   {
    "duration": 5,
    "start_time": "2025-04-26T08:13:30.972Z"
   },
   {
    "duration": 16,
    "start_time": "2025-04-26T08:13:31.587Z"
   },
   {
    "duration": 13,
    "start_time": "2025-04-26T08:14:09.584Z"
   },
   {
    "duration": 14,
    "start_time": "2025-04-26T08:14:16.954Z"
   },
   {
    "duration": 3,
    "start_time": "2025-04-26T08:16:18.089Z"
   },
   {
    "duration": 4,
    "start_time": "2025-04-26T08:16:19.517Z"
   },
   {
    "duration": 12,
    "start_time": "2025-04-26T08:16:20.247Z"
   },
   {
    "duration": 6,
    "start_time": "2025-04-26T08:16:30.993Z"
   },
   {
    "duration": 17,
    "start_time": "2025-04-26T08:16:32.127Z"
   },
   {
    "duration": 2,
    "start_time": "2025-04-26T08:17:49.938Z"
   },
   {
    "duration": 4,
    "start_time": "2025-04-26T08:17:52.200Z"
   },
   {
    "duration": 12,
    "start_time": "2025-04-26T08:17:54.545Z"
   },
   {
    "duration": 5,
    "start_time": "2025-04-26T08:17:58.541Z"
   },
   {
    "duration": 17,
    "start_time": "2025-04-26T08:18:01.451Z"
   },
   {
    "duration": 26,
    "start_time": "2025-04-26T08:18:57.730Z"
   },
   {
    "duration": 20,
    "start_time": "2025-04-26T08:24:04.217Z"
   },
   {
    "duration": 4022,
    "start_time": "2025-04-26T08:24:25.087Z"
   },
   {
    "duration": 436,
    "start_time": "2025-04-26T08:24:29.112Z"
   },
   {
    "duration": 31,
    "start_time": "2025-04-26T08:24:29.549Z"
   },
   {
    "duration": 38,
    "start_time": "2025-04-26T08:24:29.582Z"
   },
   {
    "duration": 86,
    "start_time": "2025-04-26T08:24:29.623Z"
   },
   {
    "duration": 180,
    "start_time": "2025-04-26T08:24:29.710Z"
   },
   {
    "duration": 121,
    "start_time": "2025-04-26T08:24:29.892Z"
   },
   {
    "duration": 5,
    "start_time": "2025-04-26T08:24:30.015Z"
   },
   {
    "duration": 1076,
    "start_time": "2025-04-26T08:24:30.023Z"
   },
   {
    "duration": 1052,
    "start_time": "2025-04-26T08:24:31.102Z"
   },
   {
    "duration": 999,
    "start_time": "2025-04-26T08:24:32.156Z"
   },
   {
    "duration": 48,
    "start_time": "2025-04-26T08:24:33.157Z"
   },
   {
    "duration": 4,
    "start_time": "2025-04-26T08:24:33.207Z"
   },
   {
    "duration": 403,
    "start_time": "2025-04-26T08:24:33.214Z"
   },
   {
    "duration": 85,
    "start_time": "2025-04-26T08:24:33.620Z"
   },
   {
    "duration": 169,
    "start_time": "2025-04-26T08:24:33.708Z"
   },
   {
    "duration": 136,
    "start_time": "2025-04-26T08:24:33.880Z"
   },
   {
    "duration": 51,
    "start_time": "2025-04-26T08:24:34.018Z"
   },
   {
    "duration": 22,
    "start_time": "2025-04-26T08:24:34.071Z"
   },
   {
    "duration": 135,
    "start_time": "2025-04-26T08:24:34.095Z"
   },
   {
    "duration": 0,
    "start_time": "2025-04-26T08:24:34.232Z"
   },
   {
    "duration": 0,
    "start_time": "2025-04-26T08:24:34.234Z"
   },
   {
    "duration": 0,
    "start_time": "2025-04-26T08:24:34.236Z"
   },
   {
    "duration": 0,
    "start_time": "2025-04-26T08:24:34.237Z"
   },
   {
    "duration": 4,
    "start_time": "2025-04-26T08:27:07.517Z"
   },
   {
    "duration": 24,
    "start_time": "2025-04-26T08:27:10.496Z"
   },
   {
    "duration": 4036,
    "start_time": "2025-04-26T08:27:18.072Z"
   },
   {
    "duration": 418,
    "start_time": "2025-04-26T08:27:22.110Z"
   },
   {
    "duration": 31,
    "start_time": "2025-04-26T08:27:22.530Z"
   },
   {
    "duration": 41,
    "start_time": "2025-04-26T08:27:22.563Z"
   },
   {
    "duration": 27,
    "start_time": "2025-04-26T08:27:22.605Z"
   },
   {
    "duration": 172,
    "start_time": "2025-04-26T08:27:22.634Z"
   },
   {
    "duration": 110,
    "start_time": "2025-04-26T08:27:22.808Z"
   },
   {
    "duration": 4,
    "start_time": "2025-04-26T08:27:22.920Z"
   },
   {
    "duration": 1063,
    "start_time": "2025-04-26T08:27:22.926Z"
   },
   {
    "duration": 1033,
    "start_time": "2025-04-26T08:27:23.992Z"
   },
   {
    "duration": 1008,
    "start_time": "2025-04-26T08:27:25.027Z"
   },
   {
    "duration": 38,
    "start_time": "2025-04-26T08:27:26.038Z"
   },
   {
    "duration": 4,
    "start_time": "2025-04-26T08:27:26.078Z"
   },
   {
    "duration": 405,
    "start_time": "2025-04-26T08:27:26.105Z"
   },
   {
    "duration": 94,
    "start_time": "2025-04-26T08:27:26.512Z"
   },
   {
    "duration": 102,
    "start_time": "2025-04-26T08:27:26.608Z"
   },
   {
    "duration": 38,
    "start_time": "2025-04-26T08:27:26.712Z"
   },
   {
    "duration": 2,
    "start_time": "2025-04-26T08:27:26.751Z"
   },
   {
    "duration": 7,
    "start_time": "2025-04-26T08:27:26.755Z"
   },
   {
    "duration": 125,
    "start_time": "2025-04-26T08:27:26.763Z"
   },
   {
    "duration": 0,
    "start_time": "2025-04-26T08:27:26.889Z"
   },
   {
    "duration": 0,
    "start_time": "2025-04-26T08:27:26.890Z"
   },
   {
    "duration": 0,
    "start_time": "2025-04-26T08:27:26.904Z"
   },
   {
    "duration": 0,
    "start_time": "2025-04-26T08:27:26.905Z"
   },
   {
    "duration": 4,
    "start_time": "2025-04-26T08:27:40.403Z"
   },
   {
    "duration": 17,
    "start_time": "2025-04-26T08:27:43.149Z"
   },
   {
    "duration": 3,
    "start_time": "2025-04-26T08:28:56.896Z"
   },
   {
    "duration": 13,
    "start_time": "2025-04-26T08:28:58.015Z"
   },
   {
    "duration": 4,
    "start_time": "2025-04-26T08:29:06.912Z"
   },
   {
    "duration": 15,
    "start_time": "2025-04-26T08:29:07.526Z"
   },
   {
    "duration": 4,
    "start_time": "2025-04-26T08:29:41.729Z"
   },
   {
    "duration": 13,
    "start_time": "2025-04-26T08:29:42.242Z"
   },
   {
    "duration": 5,
    "start_time": "2025-04-26T08:29:57.011Z"
   },
   {
    "duration": 18,
    "start_time": "2025-04-26T08:29:57.599Z"
   },
   {
    "duration": 4,
    "start_time": "2025-04-26T08:30:21.051Z"
   },
   {
    "duration": 4,
    "start_time": "2025-04-26T08:30:21.460Z"
   },
   {
    "duration": 24,
    "start_time": "2025-04-26T08:30:22.085Z"
   },
   {
    "duration": 3,
    "start_time": "2025-04-26T08:30:33.243Z"
   },
   {
    "duration": 4,
    "start_time": "2025-04-26T08:30:34.055Z"
   },
   {
    "duration": 24,
    "start_time": "2025-04-26T08:30:34.770Z"
   },
   {
    "duration": 4056,
    "start_time": "2025-04-26T08:30:40.006Z"
   },
   {
    "duration": 437,
    "start_time": "2025-04-26T08:30:44.064Z"
   },
   {
    "duration": 33,
    "start_time": "2025-04-26T08:30:44.503Z"
   },
   {
    "duration": 27,
    "start_time": "2025-04-26T08:30:44.538Z"
   },
   {
    "duration": 56,
    "start_time": "2025-04-26T08:30:44.567Z"
   },
   {
    "duration": 211,
    "start_time": "2025-04-26T08:30:44.625Z"
   },
   {
    "duration": 113,
    "start_time": "2025-04-26T08:30:44.838Z"
   },
   {
    "duration": 5,
    "start_time": "2025-04-26T08:30:44.953Z"
   },
   {
    "duration": 1117,
    "start_time": "2025-04-26T08:30:44.959Z"
   },
   {
    "duration": 1082,
    "start_time": "2025-04-26T08:30:46.078Z"
   },
   {
    "duration": 1842,
    "start_time": "2025-04-26T08:30:47.162Z"
   },
   {
    "duration": 34,
    "start_time": "2025-04-26T08:30:49.005Z"
   },
   {
    "duration": 7,
    "start_time": "2025-04-26T08:30:49.041Z"
   },
   {
    "duration": 455,
    "start_time": "2025-04-26T08:30:49.051Z"
   },
   {
    "duration": 5,
    "start_time": "2025-04-26T08:30:49.508Z"
   },
   {
    "duration": 94,
    "start_time": "2025-04-26T08:30:49.515Z"
   },
   {
    "duration": 120,
    "start_time": "2025-04-26T08:30:49.611Z"
   },
   {
    "duration": 3,
    "start_time": "2025-04-26T08:30:49.733Z"
   },
   {
    "duration": 13,
    "start_time": "2025-04-26T08:30:49.737Z"
   },
   {
    "duration": 144,
    "start_time": "2025-04-26T08:30:49.751Z"
   },
   {
    "duration": 0,
    "start_time": "2025-04-26T08:30:49.897Z"
   },
   {
    "duration": 0,
    "start_time": "2025-04-26T08:30:49.898Z"
   },
   {
    "duration": 0,
    "start_time": "2025-04-26T08:30:49.899Z"
   },
   {
    "duration": 0,
    "start_time": "2025-04-26T08:30:49.903Z"
   },
   {
    "duration": 3968,
    "start_time": "2025-04-26T08:31:37.964Z"
   },
   {
    "duration": 411,
    "start_time": "2025-04-26T08:31:41.934Z"
   },
   {
    "duration": 30,
    "start_time": "2025-04-26T08:31:42.347Z"
   },
   {
    "duration": 33,
    "start_time": "2025-04-26T08:31:42.379Z"
   },
   {
    "duration": 25,
    "start_time": "2025-04-26T08:31:42.414Z"
   },
   {
    "duration": 181,
    "start_time": "2025-04-26T08:31:42.440Z"
   },
   {
    "duration": 113,
    "start_time": "2025-04-26T08:31:42.622Z"
   },
   {
    "duration": 5,
    "start_time": "2025-04-26T08:31:42.736Z"
   },
   {
    "duration": 1051,
    "start_time": "2025-04-26T08:31:42.742Z"
   },
   {
    "duration": 1040,
    "start_time": "2025-04-26T08:31:43.795Z"
   },
   {
    "duration": 1005,
    "start_time": "2025-04-26T08:31:44.837Z"
   },
   {
    "duration": 37,
    "start_time": "2025-04-26T08:31:45.844Z"
   },
   {
    "duration": 21,
    "start_time": "2025-04-26T08:31:45.883Z"
   },
   {
    "duration": 503,
    "start_time": "2025-04-26T08:31:45.908Z"
   },
   {
    "duration": 91,
    "start_time": "2025-04-26T08:31:46.413Z"
   },
   {
    "duration": 99,
    "start_time": "2025-04-26T08:31:46.507Z"
   },
   {
    "duration": 28,
    "start_time": "2025-04-26T08:31:46.608Z"
   },
   {
    "duration": 7,
    "start_time": "2025-04-26T08:31:46.637Z"
   },
   {
    "duration": 6,
    "start_time": "2025-04-26T08:31:46.645Z"
   },
   {
    "duration": 133,
    "start_time": "2025-04-26T08:31:46.652Z"
   },
   {
    "duration": 0,
    "start_time": "2025-04-26T08:31:46.787Z"
   },
   {
    "duration": 0,
    "start_time": "2025-04-26T08:31:46.788Z"
   },
   {
    "duration": 0,
    "start_time": "2025-04-26T08:31:46.789Z"
   },
   {
    "duration": 0,
    "start_time": "2025-04-26T08:31:46.791Z"
   },
   {
    "duration": 3,
    "start_time": "2025-04-26T08:32:08.778Z"
   },
   {
    "duration": 4,
    "start_time": "2025-04-26T08:32:09.188Z"
   },
   {
    "duration": 24,
    "start_time": "2025-04-26T08:32:09.802Z"
   },
   {
    "duration": 4,
    "start_time": "2025-04-26T08:33:01.928Z"
   },
   {
    "duration": 23,
    "start_time": "2025-04-26T08:33:02.744Z"
   },
   {
    "duration": 6,
    "start_time": "2025-04-26T08:35:06.343Z"
   },
   {
    "duration": 14,
    "start_time": "2025-04-26T08:35:09.322Z"
   },
   {
    "duration": 3922,
    "start_time": "2025-04-26T08:35:49.760Z"
   },
   {
    "duration": 432,
    "start_time": "2025-04-26T08:35:53.684Z"
   },
   {
    "duration": 34,
    "start_time": "2025-04-26T08:35:54.118Z"
   },
   {
    "duration": 50,
    "start_time": "2025-04-26T08:35:54.155Z"
   },
   {
    "duration": 24,
    "start_time": "2025-04-26T08:35:54.207Z"
   },
   {
    "duration": 179,
    "start_time": "2025-04-26T08:35:54.233Z"
   },
   {
    "duration": 114,
    "start_time": "2025-04-26T08:35:54.414Z"
   },
   {
    "duration": 5,
    "start_time": "2025-04-26T08:35:54.529Z"
   },
   {
    "duration": 1375,
    "start_time": "2025-04-26T08:35:54.535Z"
   },
   {
    "duration": 1538,
    "start_time": "2025-04-26T08:35:55.912Z"
   },
   {
    "duration": 1069,
    "start_time": "2025-04-26T08:35:57.452Z"
   },
   {
    "duration": 33,
    "start_time": "2025-04-26T08:35:58.523Z"
   },
   {
    "duration": 5,
    "start_time": "2025-04-26T08:35:58.557Z"
   },
   {
    "duration": 452,
    "start_time": "2025-04-26T08:35:58.564Z"
   },
   {
    "duration": 91,
    "start_time": "2025-04-26T08:35:59.019Z"
   },
   {
    "duration": 94,
    "start_time": "2025-04-26T08:35:59.114Z"
   },
   {
    "duration": 29,
    "start_time": "2025-04-26T08:35:59.210Z"
   },
   {
    "duration": 3,
    "start_time": "2025-04-26T08:35:59.241Z"
   },
   {
    "duration": 130,
    "start_time": "2025-04-26T08:35:59.246Z"
   },
   {
    "duration": 0,
    "start_time": "2025-04-26T08:35:59.378Z"
   },
   {
    "duration": 0,
    "start_time": "2025-04-26T08:35:59.379Z"
   },
   {
    "duration": 0,
    "start_time": "2025-04-26T08:35:59.380Z"
   },
   {
    "duration": 0,
    "start_time": "2025-04-26T08:35:59.381Z"
   },
   {
    "duration": 5,
    "start_time": "2025-04-26T08:36:06.656Z"
   },
   {
    "duration": 14,
    "start_time": "2025-04-26T08:36:09.722Z"
   },
   {
    "duration": 5,
    "start_time": "2025-04-26T08:36:36.552Z"
   },
   {
    "duration": 19,
    "start_time": "2025-04-26T08:36:39.736Z"
   },
   {
    "duration": 5,
    "start_time": "2025-04-26T08:38:08.408Z"
   },
   {
    "duration": 22,
    "start_time": "2025-04-26T08:38:10.863Z"
   },
   {
    "duration": 12,
    "start_time": "2025-04-26T08:38:32.368Z"
   },
   {
    "duration": 13,
    "start_time": "2025-04-26T08:38:43.561Z"
   },
   {
    "duration": 12,
    "start_time": "2025-04-26T08:39:11.532Z"
   },
   {
    "duration": 78,
    "start_time": "2025-04-26T08:43:25.748Z"
   },
   {
    "duration": 78,
    "start_time": "2025-04-26T08:43:40.287Z"
   },
   {
    "duration": 79,
    "start_time": "2025-04-26T08:43:54.624Z"
   },
   {
    "duration": 80,
    "start_time": "2025-04-26T08:44:03.941Z"
   },
   {
    "duration": 3,
    "start_time": "2025-04-26T08:44:44.824Z"
   },
   {
    "duration": 6,
    "start_time": "2025-04-26T08:44:48.088Z"
   },
   {
    "duration": 22,
    "start_time": "2025-04-26T08:44:50.751Z"
   },
   {
    "duration": 4,
    "start_time": "2025-04-26T08:46:38.783Z"
   },
   {
    "duration": 21,
    "start_time": "2025-04-26T08:46:48.428Z"
   },
   {
    "duration": 5,
    "start_time": "2025-04-26T08:55:14.056Z"
   },
   {
    "duration": 5,
    "start_time": "2025-04-26T08:57:04.039Z"
   },
   {
    "duration": 20,
    "start_time": "2025-04-26T08:57:58.104Z"
   },
   {
    "duration": 5,
    "start_time": "2025-04-26T08:59:39.584Z"
   },
   {
    "duration": 7,
    "start_time": "2025-04-26T08:59:50.746Z"
   },
   {
    "duration": 4,
    "start_time": "2025-04-26T09:01:58.544Z"
   },
   {
    "duration": 6,
    "start_time": "2025-04-26T09:02:29.674Z"
   },
   {
    "duration": 20,
    "start_time": "2025-04-26T09:02:49.437Z"
   },
   {
    "duration": 13,
    "start_time": "2025-04-26T09:04:14.856Z"
   },
   {
    "duration": 21,
    "start_time": "2025-04-26T09:07:09.434Z"
   },
   {
    "duration": 4,
    "start_time": "2025-04-26T09:14:05.489Z"
   },
   {
    "duration": 5,
    "start_time": "2025-04-26T09:14:36.622Z"
   },
   {
    "duration": 17,
    "start_time": "2025-04-26T09:14:40.316Z"
   },
   {
    "duration": 5,
    "start_time": "2025-04-26T09:15:13.537Z"
   },
   {
    "duration": 14,
    "start_time": "2025-04-26T09:15:16.354Z"
   },
   {
    "duration": 4,
    "start_time": "2025-04-26T09:16:09.806Z"
   },
   {
    "duration": 5,
    "start_time": "2025-04-26T09:16:12.471Z"
   },
   {
    "duration": 14,
    "start_time": "2025-04-26T09:16:14.619Z"
   },
   {
    "duration": 5,
    "start_time": "2025-04-26T09:20:48.030Z"
   },
   {
    "duration": 5,
    "start_time": "2025-04-26T09:23:11.339Z"
   },
   {
    "duration": 16,
    "start_time": "2025-04-26T09:23:15.384Z"
   },
   {
    "duration": 4,
    "start_time": "2025-04-26T09:24:39.865Z"
   },
   {
    "duration": 17,
    "start_time": "2025-04-26T09:24:54.008Z"
   },
   {
    "duration": 15,
    "start_time": "2025-04-26T09:25:16.114Z"
   },
   {
    "duration": 6,
    "start_time": "2025-04-26T09:25:56.154Z"
   },
   {
    "duration": 16,
    "start_time": "2025-04-26T09:25:58.519Z"
   },
   {
    "duration": 5,
    "start_time": "2025-04-26T09:26:33.838Z"
   },
   {
    "duration": 5,
    "start_time": "2025-04-26T09:26:45.723Z"
   },
   {
    "duration": 6,
    "start_time": "2025-04-26T09:26:47.765Z"
   },
   {
    "duration": 3,
    "start_time": "2025-04-26T09:26:55.444Z"
   },
   {
    "duration": 16,
    "start_time": "2025-04-26T09:26:58.516Z"
   },
   {
    "duration": 5,
    "start_time": "2025-04-26T09:27:31.387Z"
   },
   {
    "duration": 15,
    "start_time": "2025-04-26T09:27:38.452Z"
   },
   {
    "duration": 6,
    "start_time": "2025-04-26T09:45:50.459Z"
   },
   {
    "duration": 4,
    "start_time": "2025-04-26T09:45:53.222Z"
   },
   {
    "duration": 5,
    "start_time": "2025-04-26T09:45:55.173Z"
   },
   {
    "duration": 5,
    "start_time": "2025-04-26T09:46:01.108Z"
   },
   {
    "duration": 13,
    "start_time": "2025-04-26T09:46:19.199Z"
   },
   {
    "duration": 4,
    "start_time": "2025-04-26T09:47:39.618Z"
   },
   {
    "duration": 6,
    "start_time": "2025-04-26T09:47:42.385Z"
   },
   {
    "duration": 16,
    "start_time": "2025-04-26T09:47:44.532Z"
   },
   {
    "duration": 4,
    "start_time": "2025-04-26T09:51:30.444Z"
   },
   {
    "duration": 7,
    "start_time": "2025-04-26T09:51:33.325Z"
   },
   {
    "duration": 15,
    "start_time": "2025-04-26T09:51:35.036Z"
   },
   {
    "duration": 5,
    "start_time": "2025-04-26T09:51:45.585Z"
   },
   {
    "duration": 16,
    "start_time": "2025-04-26T09:52:09.658Z"
   },
   {
    "duration": 4120,
    "start_time": "2025-04-26T09:52:51.576Z"
   },
   {
    "duration": 472,
    "start_time": "2025-04-26T09:52:55.699Z"
   },
   {
    "duration": 49,
    "start_time": "2025-04-26T09:52:56.176Z"
   },
   {
    "duration": 28,
    "start_time": "2025-04-26T09:52:56.228Z"
   },
   {
    "duration": 56,
    "start_time": "2025-04-26T09:52:56.258Z"
   },
   {
    "duration": 190,
    "start_time": "2025-04-26T09:52:56.317Z"
   },
   {
    "duration": 116,
    "start_time": "2025-04-26T09:52:56.509Z"
   },
   {
    "duration": 5,
    "start_time": "2025-04-26T09:52:56.626Z"
   },
   {
    "duration": 1148,
    "start_time": "2025-04-26T09:52:56.632Z"
   },
   {
    "duration": 1154,
    "start_time": "2025-04-26T09:52:57.782Z"
   },
   {
    "duration": 1012,
    "start_time": "2025-04-26T09:52:58.938Z"
   },
   {
    "duration": 52,
    "start_time": "2025-04-26T09:52:59.952Z"
   },
   {
    "duration": 6,
    "start_time": "2025-04-26T09:53:00.007Z"
   },
   {
    "duration": 600,
    "start_time": "2025-04-26T09:53:00.015Z"
   },
   {
    "duration": 86,
    "start_time": "2025-04-26T09:53:00.620Z"
   },
   {
    "duration": 109,
    "start_time": "2025-04-26T09:53:00.709Z"
   },
   {
    "duration": 35,
    "start_time": "2025-04-26T09:53:00.820Z"
   },
   {
    "duration": 39,
    "start_time": "2025-04-26T09:53:00.857Z"
   },
   {
    "duration": 17,
    "start_time": "2025-04-26T09:53:00.898Z"
   },
   {
    "duration": 154,
    "start_time": "2025-04-26T09:53:00.917Z"
   },
   {
    "duration": 0,
    "start_time": "2025-04-26T09:53:01.073Z"
   },
   {
    "duration": 0,
    "start_time": "2025-04-26T09:53:01.074Z"
   },
   {
    "duration": 5,
    "start_time": "2025-04-26T09:55:35.887Z"
   },
   {
    "duration": 1447,
    "start_time": "2025-04-26T09:55:38.979Z"
   },
   {
    "duration": 1451,
    "start_time": "2025-04-26T09:55:52.473Z"
   },
   {
    "duration": 1539,
    "start_time": "2025-04-26T09:56:07.838Z"
   },
   {
    "duration": 4455,
    "start_time": "2025-04-26T09:57:08.351Z"
   },
   {
    "duration": 4,
    "start_time": "2025-04-26T09:58:56.384Z"
   },
   {
    "duration": 6,
    "start_time": "2025-04-26T10:03:30.201Z"
   },
   {
    "duration": 4,
    "start_time": "2025-04-26T10:04:57.342Z"
   },
   {
    "duration": 5,
    "start_time": "2025-04-26T10:05:19.169Z"
   },
   {
    "duration": 7,
    "start_time": "2025-04-26T10:06:01.368Z"
   },
   {
    "duration": 6,
    "start_time": "2025-04-26T10:06:30.743Z"
   },
   {
    "duration": 4,
    "start_time": "2025-04-26T10:06:56.547Z"
   },
   {
    "duration": 4024,
    "start_time": "2025-04-26T10:13:20.483Z"
   },
   {
    "duration": 459,
    "start_time": "2025-04-26T10:13:24.509Z"
   },
   {
    "duration": 40,
    "start_time": "2025-04-26T10:13:24.970Z"
   },
   {
    "duration": 24,
    "start_time": "2025-04-26T10:13:25.013Z"
   },
   {
    "duration": 37,
    "start_time": "2025-04-26T10:13:25.039Z"
   },
   {
    "duration": 202,
    "start_time": "2025-04-26T10:13:25.078Z"
   },
   {
    "duration": 129,
    "start_time": "2025-04-26T10:13:25.282Z"
   },
   {
    "duration": 5,
    "start_time": "2025-04-26T10:13:25.413Z"
   },
   {
    "duration": 1169,
    "start_time": "2025-04-26T10:13:25.420Z"
   },
   {
    "duration": 1171,
    "start_time": "2025-04-26T10:13:26.592Z"
   },
   {
    "duration": 1066,
    "start_time": "2025-04-26T10:13:27.764Z"
   },
   {
    "duration": 36,
    "start_time": "2025-04-26T10:13:28.832Z"
   },
   {
    "duration": 5,
    "start_time": "2025-04-26T10:13:28.870Z"
   },
   {
    "duration": 432,
    "start_time": "2025-04-26T10:13:28.876Z"
   },
   {
    "duration": 4,
    "start_time": "2025-04-26T10:13:29.311Z"
   },
   {
    "duration": 90,
    "start_time": "2025-04-26T10:13:29.319Z"
   },
   {
    "duration": 119,
    "start_time": "2025-04-26T10:13:29.412Z"
   },
   {
    "duration": 4,
    "start_time": "2025-04-26T10:13:29.532Z"
   },
   {
    "duration": 30,
    "start_time": "2025-04-26T10:13:29.538Z"
   },
   {
    "duration": 5155,
    "start_time": "2025-04-26T10:13:29.570Z"
   },
   {
    "duration": 4,
    "start_time": "2025-04-26T10:13:34.726Z"
   },
   {
    "duration": 7,
    "start_time": "2025-04-26T10:22:05.053Z"
   },
   {
    "duration": 119,
    "start_time": "2025-04-26T10:22:26.752Z"
   },
   {
    "duration": 7,
    "start_time": "2025-04-26T10:23:42.020Z"
   },
   {
    "duration": 5735,
    "start_time": "2025-04-26T10:23:49.187Z"
   },
   {
    "duration": 7,
    "start_time": "2025-04-26T10:24:42.232Z"
   },
   {
    "duration": 5817,
    "start_time": "2025-04-26T10:24:46.132Z"
   },
   {
    "duration": 8,
    "start_time": "2025-04-26T10:25:44.808Z"
   },
   {
    "duration": 5869,
    "start_time": "2025-04-26T10:25:47.049Z"
   },
   {
    "duration": 8,
    "start_time": "2025-04-26T10:27:15.125Z"
   },
   {
    "duration": 5548,
    "start_time": "2025-04-26T10:27:16.444Z"
   },
   {
    "duration": 7,
    "start_time": "2025-04-26T10:30:46.577Z"
   },
   {
    "duration": 5376,
    "start_time": "2025-04-26T10:30:47.801Z"
   },
   {
    "duration": 8,
    "start_time": "2025-04-26T10:34:03.502Z"
   },
   {
    "duration": 5505,
    "start_time": "2025-04-26T10:34:06.766Z"
   },
   {
    "duration": 5,
    "start_time": "2025-04-26T10:37:23.177Z"
   },
   {
    "duration": 4319,
    "start_time": "2025-04-26T10:37:24.506Z"
   },
   {
    "duration": 4,
    "start_time": "2025-04-26T10:37:31.572Z"
   },
   {
    "duration": 6,
    "start_time": "2025-04-26T10:38:24.419Z"
   },
   {
    "duration": 3021,
    "start_time": "2025-04-26T10:38:25.953Z"
   },
   {
    "duration": 4506,
    "start_time": "2025-04-26T10:38:55.340Z"
   },
   {
    "duration": 183,
    "start_time": "2025-04-26T10:39:29.233Z"
   },
   {
    "duration": 361,
    "start_time": "2025-04-26T10:39:46.945Z"
   },
   {
    "duration": 348,
    "start_time": "2025-04-26T10:39:59.031Z"
   },
   {
    "duration": 381,
    "start_time": "2025-04-26T10:40:35.589Z"
   },
   {
    "duration": 349,
    "start_time": "2025-04-26T10:40:57.732Z"
   },
   {
    "duration": 6,
    "start_time": "2025-04-26T10:42:26.593Z"
   },
   {
    "duration": 4445,
    "start_time": "2025-04-26T10:42:30.483Z"
   },
   {
    "duration": 363,
    "start_time": "2025-04-26T10:42:37.756Z"
   },
   {
    "duration": 9,
    "start_time": "2025-04-26T10:43:34.495Z"
   },
   {
    "duration": 4432,
    "start_time": "2025-04-26T10:43:37.361Z"
   },
   {
    "duration": 392,
    "start_time": "2025-04-26T10:44:25.798Z"
   },
   {
    "duration": 408,
    "start_time": "2025-04-26T10:46:33.585Z"
   },
   {
    "duration": 410,
    "start_time": "2025-04-26T10:47:19.973Z"
   },
   {
    "duration": 495,
    "start_time": "2025-04-26T10:47:25.809Z"
   },
   {
    "duration": 356,
    "start_time": "2025-04-26T10:47:28.720Z"
   },
   {
    "duration": 364,
    "start_time": "2025-04-26T10:49:01.759Z"
   },
   {
    "duration": 386,
    "start_time": "2025-04-26T10:50:59.610Z"
   },
   {
    "duration": 381,
    "start_time": "2025-04-26T10:51:32.813Z"
   },
   {
    "duration": 383,
    "start_time": "2025-04-26T10:51:51.472Z"
   },
   {
    "duration": 366,
    "start_time": "2025-04-26T10:52:10.319Z"
   },
   {
    "duration": 355,
    "start_time": "2025-04-26T10:52:16.528Z"
   },
   {
    "duration": 376,
    "start_time": "2025-04-26T10:54:40.914Z"
   },
   {
    "duration": 358,
    "start_time": "2025-04-26T10:55:12.838Z"
   },
   {
    "duration": 347,
    "start_time": "2025-04-26T10:56:02.740Z"
   },
   {
    "duration": 447,
    "start_time": "2025-04-26T10:56:28.742Z"
   },
   {
    "duration": 356,
    "start_time": "2025-04-26T10:56:43.516Z"
   },
   {
    "duration": 354,
    "start_time": "2025-04-26T10:57:23.424Z"
   },
   {
    "duration": 354,
    "start_time": "2025-04-26T10:57:53.326Z"
   },
   {
    "duration": 341,
    "start_time": "2025-04-26T10:58:02.130Z"
   },
   {
    "duration": 347,
    "start_time": "2025-04-26T10:58:19.539Z"
   },
   {
    "duration": 348,
    "start_time": "2025-04-26T10:58:41.053Z"
   },
   {
    "duration": 370,
    "start_time": "2025-04-26T10:59:46.796Z"
   },
   {
    "duration": 338,
    "start_time": "2025-04-26T11:00:52.734Z"
   },
   {
    "duration": 4314,
    "start_time": "2025-04-26T11:01:32.467Z"
   },
   {
    "duration": 445,
    "start_time": "2025-04-26T11:01:36.783Z"
   },
   {
    "duration": 30,
    "start_time": "2025-04-26T11:01:37.229Z"
   },
   {
    "duration": 48,
    "start_time": "2025-04-26T11:01:37.260Z"
   },
   {
    "duration": 38,
    "start_time": "2025-04-26T11:01:37.310Z"
   },
   {
    "duration": 184,
    "start_time": "2025-04-26T11:01:37.350Z"
   },
   {
    "duration": 133,
    "start_time": "2025-04-26T11:01:37.536Z"
   },
   {
    "duration": 5,
    "start_time": "2025-04-26T11:01:37.671Z"
   },
   {
    "duration": 1113,
    "start_time": "2025-04-26T11:01:37.677Z"
   },
   {
    "duration": 1091,
    "start_time": "2025-04-26T11:01:38.792Z"
   },
   {
    "duration": 1074,
    "start_time": "2025-04-26T11:01:39.884Z"
   },
   {
    "duration": 50,
    "start_time": "2025-04-26T11:01:40.960Z"
   },
   {
    "duration": 4,
    "start_time": "2025-04-26T11:01:41.012Z"
   },
   {
    "duration": 491,
    "start_time": "2025-04-26T11:01:41.019Z"
   },
   {
    "duration": 92,
    "start_time": "2025-04-26T11:01:41.513Z"
   },
   {
    "duration": 101,
    "start_time": "2025-04-26T11:01:41.608Z"
   },
   {
    "duration": 40,
    "start_time": "2025-04-26T11:01:41.711Z"
   },
   {
    "duration": 4,
    "start_time": "2025-04-26T11:01:41.753Z"
   },
   {
    "duration": 100,
    "start_time": "2025-04-26T11:01:41.759Z"
   },
   {
    "duration": 4369,
    "start_time": "2025-04-26T11:01:41.861Z"
   },
   {
    "duration": 381,
    "start_time": "2025-04-26T11:01:46.232Z"
   },
   {
    "duration": 379,
    "start_time": "2025-04-26T11:01:46.615Z"
   },
   {
    "duration": 382,
    "start_time": "2025-04-26T11:01:46.996Z"
   },
   {
    "duration": 2634,
    "start_time": "2025-04-26T11:09:08.241Z"
   },
   {
    "duration": 2554,
    "start_time": "2025-04-26T11:09:24.830Z"
   },
   {
    "duration": 4018,
    "start_time": "2025-04-26T11:26:41.882Z"
   },
   {
    "duration": 526,
    "start_time": "2025-04-26T11:26:45.906Z"
   },
   {
    "duration": 45,
    "start_time": "2025-04-26T11:26:46.434Z"
   },
   {
    "duration": 44,
    "start_time": "2025-04-26T11:26:46.481Z"
   },
   {
    "duration": 25,
    "start_time": "2025-04-26T11:26:46.527Z"
   },
   {
    "duration": 215,
    "start_time": "2025-04-26T11:26:46.554Z"
   },
   {
    "duration": 121,
    "start_time": "2025-04-26T11:26:46.771Z"
   },
   {
    "duration": 10,
    "start_time": "2025-04-26T11:26:46.894Z"
   },
   {
    "duration": 1145,
    "start_time": "2025-04-26T11:26:46.907Z"
   },
   {
    "duration": 1098,
    "start_time": "2025-04-26T11:26:48.054Z"
   },
   {
    "duration": 1010,
    "start_time": "2025-04-26T11:26:49.153Z"
   },
   {
    "duration": 49,
    "start_time": "2025-04-26T11:26:50.165Z"
   },
   {
    "duration": 97,
    "start_time": "2025-04-26T11:26:50.216Z"
   },
   {
    "duration": 688,
    "start_time": "2025-04-26T11:26:50.317Z"
   },
   {
    "duration": 5,
    "start_time": "2025-04-26T11:26:51.007Z"
   },
   {
    "duration": 95,
    "start_time": "2025-04-26T11:26:51.014Z"
   },
   {
    "duration": 41,
    "start_time": "2025-04-26T11:26:51.111Z"
   },
   {
    "duration": 20,
    "start_time": "2025-04-26T11:26:51.154Z"
   },
   {
    "duration": 23,
    "start_time": "2025-04-26T11:26:51.176Z"
   },
   {
    "duration": 4375,
    "start_time": "2025-04-26T11:26:51.201Z"
   },
   {
    "duration": 499,
    "start_time": "2025-04-26T11:26:55.577Z"
   },
   {
    "duration": 403,
    "start_time": "2025-04-26T11:26:56.078Z"
   },
   {
    "duration": 422,
    "start_time": "2025-04-26T11:26:56.483Z"
   }
  ],
  "kernelspec": {
   "display_name": "Python 3 (ipykernel)",
   "language": "python",
   "name": "python3"
  },
  "language_info": {
   "codemirror_mode": {
    "name": "ipython",
    "version": 3
   },
   "file_extension": ".py",
   "mimetype": "text/x-python",
   "name": "python",
   "nbconvert_exporter": "python",
   "pygments_lexer": "ipython3",
   "version": "3.9.23"
  },
  "toc": {
   "base_numbering": 1,
   "nav_menu": {},
   "number_sections": true,
   "sideBar": true,
   "skip_h1_title": true,
   "title_cell": "Table of Contents",
   "title_sidebar": "Contents",
   "toc_cell": false,
   "toc_position": {
    "height": "calc(100% - 180px)",
    "left": "10px",
    "top": "150px",
    "width": "259.933px"
   },
   "toc_section_display": true,
   "toc_window_display": true
  }
 },
 "nbformat": 4,
 "nbformat_minor": 2
}
