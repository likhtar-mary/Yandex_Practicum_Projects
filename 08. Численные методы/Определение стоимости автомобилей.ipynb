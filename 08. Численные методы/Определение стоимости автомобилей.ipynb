{
 "cells": [
  {
   "cell_type": "markdown",
   "metadata": {},
   "source": [
    "# Определение стоимости автомобилей"
   ]
  },
  {
   "cell_type": "markdown",
   "metadata": {},
   "source": [
    "# Описание проекта\n",
    "\n",
    "Сервис по продаже автомобилей с пробегом «Не бит, не крашен» разрабатывает приложение для привлечения новых клиентов. В нём можно быстро узнать рыночную стоимость своего автомобиля. В нашем распоряжении исторические данные: технические характеристики, комплектации и цены автомобилей. \n",
    "\n",
    "**Цель исследования**: построить модель для определения стоимости автомобилей. \n",
    "\n",
    "Критерии, важные для заказчика:\n",
    "\n",
    "- качество предсказания;\n",
    "- скорость предсказания;\n",
    "- время обучения.\n",
    "\n",
    "Импортируем библиотеки:"
   ]
  },
  {
   "cell_type": "code",
   "execution_count": 1,
   "metadata": {},
   "outputs": [],
   "source": [
    "!pip install phik -q\n",
    "!pip install scikit-learn==1.5.0 -q\n",
    "!pip install optuna -q\n",
    "\n",
    "import sklearn\n",
    "import re\n",
    "import phik\n",
    "import pandas as pd\n",
    "import numpy as np\n",
    "import seaborn as sns\n",
    "import matplotlib.pyplot as plt\n",
    "import time\n",
    "import optuna\n",
    "\n",
    "from sklearn.model_selection import train_test_split\n",
    "from sklearn.model_selection import cross_val_score\n",
    "from sklearn.model_selection import GridSearchCV\n",
    "from sklearn.metrics import root_mean_squared_error\n",
    "from sklearn.metrics import mean_squared_error\n",
    "from sklearn.preprocessing import StandardScaler\n",
    "from sklearn.preprocessing import OneHotEncoder\n",
    "from sklearn.linear_model import LinearRegression\n",
    "from sklearn.tree import DecisionTreeRegressor\n",
    "\n",
    "from catboost import CatBoost, CatBoostRegressor\n",
    "import lightgbm as lgb\n",
    "\n",
    "from lightgbm import early_stopping\n",
    "\n",
    "RANDOM_STATE=42"
   ]
  },
  {
   "cell_type": "markdown",
   "metadata": {},
   "source": [
    "## Подготовка данных"
   ]
  },
  {
   "cell_type": "markdown",
   "metadata": {},
   "source": [
    "### Загрузка данных, изучение информации\n",
    "\n",
    "Загружаем данные и сохраняем в датарейм df_autos:"
   ]
  },
  {
   "cell_type": "code",
   "execution_count": 2,
   "metadata": {},
   "outputs": [],
   "source": [
    "df_autos = pd.read_csv('https://code.s3.yandex.net/datasets/autos.csv')"
   ]
  },
  {
   "cell_type": "code",
   "execution_count": 3,
   "metadata": {},
   "outputs": [
    {
     "data": {
      "text/html": [
       "<div>\n",
       "<style scoped>\n",
       "    .dataframe tbody tr th:only-of-type {\n",
       "        vertical-align: middle;\n",
       "    }\n",
       "\n",
       "    .dataframe tbody tr th {\n",
       "        vertical-align: top;\n",
       "    }\n",
       "\n",
       "    .dataframe thead th {\n",
       "        text-align: right;\n",
       "    }\n",
       "</style>\n",
       "<table border=\"1\" class=\"dataframe\">\n",
       "  <thead>\n",
       "    <tr style=\"text-align: right;\">\n",
       "      <th></th>\n",
       "      <th>DateCrawled</th>\n",
       "      <th>Price</th>\n",
       "      <th>VehicleType</th>\n",
       "      <th>RegistrationYear</th>\n",
       "      <th>Gearbox</th>\n",
       "      <th>Power</th>\n",
       "      <th>Model</th>\n",
       "      <th>Kilometer</th>\n",
       "      <th>RegistrationMonth</th>\n",
       "      <th>FuelType</th>\n",
       "      <th>Brand</th>\n",
       "      <th>Repaired</th>\n",
       "      <th>DateCreated</th>\n",
       "      <th>NumberOfPictures</th>\n",
       "      <th>PostalCode</th>\n",
       "      <th>LastSeen</th>\n",
       "    </tr>\n",
       "  </thead>\n",
       "  <tbody>\n",
       "    <tr>\n",
       "      <th>35529</th>\n",
       "      <td>2016-03-28 15:25:22</td>\n",
       "      <td>6450</td>\n",
       "      <td>small</td>\n",
       "      <td>2012</td>\n",
       "      <td>auto</td>\n",
       "      <td>71</td>\n",
       "      <td>fortwo</td>\n",
       "      <td>50000</td>\n",
       "      <td>6</td>\n",
       "      <td>petrol</td>\n",
       "      <td>smart</td>\n",
       "      <td>no</td>\n",
       "      <td>2016-03-28 00:00:00</td>\n",
       "      <td>0</td>\n",
       "      <td>60431</td>\n",
       "      <td>2016-04-06 23:46:15</td>\n",
       "    </tr>\n",
       "    <tr>\n",
       "      <th>279210</th>\n",
       "      <td>2016-03-08 21:39:02</td>\n",
       "      <td>1750</td>\n",
       "      <td>wagon</td>\n",
       "      <td>2000</td>\n",
       "      <td>auto</td>\n",
       "      <td>230</td>\n",
       "      <td>other</td>\n",
       "      <td>150000</td>\n",
       "      <td>7</td>\n",
       "      <td>petrol</td>\n",
       "      <td>saab</td>\n",
       "      <td>no</td>\n",
       "      <td>2016-03-08 00:00:00</td>\n",
       "      <td>0</td>\n",
       "      <td>12157</td>\n",
       "      <td>2016-03-17 07:15:51</td>\n",
       "    </tr>\n",
       "    <tr>\n",
       "      <th>114747</th>\n",
       "      <td>2016-03-26 11:38:41</td>\n",
       "      <td>8699</td>\n",
       "      <td>wagon</td>\n",
       "      <td>2008</td>\n",
       "      <td>manual</td>\n",
       "      <td>143</td>\n",
       "      <td>3er</td>\n",
       "      <td>150000</td>\n",
       "      <td>11</td>\n",
       "      <td>gasoline</td>\n",
       "      <td>bmw</td>\n",
       "      <td>no</td>\n",
       "      <td>2016-03-26 00:00:00</td>\n",
       "      <td>0</td>\n",
       "      <td>63322</td>\n",
       "      <td>2016-04-02 00:19:00</td>\n",
       "    </tr>\n",
       "    <tr>\n",
       "      <th>327016</th>\n",
       "      <td>2016-03-20 11:55:49</td>\n",
       "      <td>800</td>\n",
       "      <td>wagon</td>\n",
       "      <td>1999</td>\n",
       "      <td>manual</td>\n",
       "      <td>150</td>\n",
       "      <td>3er</td>\n",
       "      <td>150000</td>\n",
       "      <td>11</td>\n",
       "      <td>petrol</td>\n",
       "      <td>bmw</td>\n",
       "      <td>no</td>\n",
       "      <td>2016-03-20 00:00:00</td>\n",
       "      <td>0</td>\n",
       "      <td>57578</td>\n",
       "      <td>2016-04-06 16:47:03</td>\n",
       "    </tr>\n",
       "    <tr>\n",
       "      <th>282426</th>\n",
       "      <td>2016-03-27 16:39:00</td>\n",
       "      <td>1950</td>\n",
       "      <td>bus</td>\n",
       "      <td>2004</td>\n",
       "      <td>manual</td>\n",
       "      <td>103</td>\n",
       "      <td>other</td>\n",
       "      <td>150000</td>\n",
       "      <td>8</td>\n",
       "      <td>petrol</td>\n",
       "      <td>hyundai</td>\n",
       "      <td>no</td>\n",
       "      <td>2016-03-27 00:00:00</td>\n",
       "      <td>0</td>\n",
       "      <td>46147</td>\n",
       "      <td>2016-04-05 11:47:35</td>\n",
       "    </tr>\n",
       "  </tbody>\n",
       "</table>\n",
       "</div>"
      ],
      "text/plain": [
       "                DateCrawled  Price VehicleType  RegistrationYear Gearbox  \\\n",
       "35529   2016-03-28 15:25:22   6450       small              2012    auto   \n",
       "279210  2016-03-08 21:39:02   1750       wagon              2000    auto   \n",
       "114747  2016-03-26 11:38:41   8699       wagon              2008  manual   \n",
       "327016  2016-03-20 11:55:49    800       wagon              1999  manual   \n",
       "282426  2016-03-27 16:39:00   1950         bus              2004  manual   \n",
       "\n",
       "        Power   Model  Kilometer  RegistrationMonth  FuelType    Brand  \\\n",
       "35529      71  fortwo      50000                  6    petrol    smart   \n",
       "279210    230   other     150000                  7    petrol     saab   \n",
       "114747    143     3er     150000                 11  gasoline      bmw   \n",
       "327016    150     3er     150000                 11    petrol      bmw   \n",
       "282426    103   other     150000                  8    petrol  hyundai   \n",
       "\n",
       "       Repaired          DateCreated  NumberOfPictures  PostalCode  \\\n",
       "35529        no  2016-03-28 00:00:00                 0       60431   \n",
       "279210       no  2016-03-08 00:00:00                 0       12157   \n",
       "114747       no  2016-03-26 00:00:00                 0       63322   \n",
       "327016       no  2016-03-20 00:00:00                 0       57578   \n",
       "282426       no  2016-03-27 00:00:00                 0       46147   \n",
       "\n",
       "                   LastSeen  \n",
       "35529   2016-04-06 23:46:15  \n",
       "279210  2016-03-17 07:15:51  \n",
       "114747  2016-04-02 00:19:00  \n",
       "327016  2016-04-06 16:47:03  \n",
       "282426  2016-04-05 11:47:35  "
      ]
     },
     "metadata": {},
     "output_type": "display_data"
    },
    {
     "name": "stdout",
     "output_type": "stream",
     "text": [
      "<class 'pandas.core.frame.DataFrame'>\n",
      "RangeIndex: 354369 entries, 0 to 354368\n",
      "Data columns (total 16 columns):\n",
      " #   Column             Non-Null Count   Dtype \n",
      "---  ------             --------------   ----- \n",
      " 0   DateCrawled        354369 non-null  object\n",
      " 1   Price              354369 non-null  int64 \n",
      " 2   VehicleType        316879 non-null  object\n",
      " 3   RegistrationYear   354369 non-null  int64 \n",
      " 4   Gearbox            334536 non-null  object\n",
      " 5   Power              354369 non-null  int64 \n",
      " 6   Model              334664 non-null  object\n",
      " 7   Kilometer          354369 non-null  int64 \n",
      " 8   RegistrationMonth  354369 non-null  int64 \n",
      " 9   FuelType           321474 non-null  object\n",
      " 10  Brand              354369 non-null  object\n",
      " 11  Repaired           283215 non-null  object\n",
      " 12  DateCreated        354369 non-null  object\n",
      " 13  NumberOfPictures   354369 non-null  int64 \n",
      " 14  PostalCode         354369 non-null  int64 \n",
      " 15  LastSeen           354369 non-null  object\n",
      "dtypes: int64(7), object(9)\n",
      "memory usage: 43.3+ MB\n"
     ]
    }
   ],
   "source": [
    "display(df_autos.sample(5))\n",
    "df_autos.info()"
   ]
  },
  {
   "cell_type": "markdown",
   "metadata": {},
   "source": [
    "**Описание данных**:\n",
    "\n",
    "- DateCrawled — дата скачивания анкеты из базы;\n",
    "- VehicleType — тип автомобильного кузова;\n",
    "- RegistrationYear — год регистрации автомобиля;\n",
    "- Gearbox — тип коробки передач;\n",
    "- Power — мощность (л.с.);\n",
    "- Model — модель автомобиля;\n",
    "- Kilometer — пробег (км);\n",
    "- RegistrationMonth — месяц регистрации автомобиля;\n",
    "- FuelType — тип топлива;\n",
    "- Brand — марка автомобиля;\n",
    "- Repaired — была машина в ремонте или нет;\n",
    "- DateCreated — дата создания анкеты;\n",
    "- NumberOfPictures — количество фотографий автомобиля;\n",
    "- PostalCode — почтовый индекс владельца анкеты (пользователя);\n",
    "- LastSeen — дата последней активности пользователя;\n",
    "- Price — цена (евро) - целевой признак.\n",
    "\n",
    "**Вывод**: \n",
    "\n",
    "В датафрейме 354369 строк, 16 столбцов. Имеются пропуски, неверные типы данных и некорректная запись названий столбцов."
   ]
  },
  {
   "cell_type": "markdown",
   "metadata": {},
   "source": [
    "###  Предобработка данных"
   ]
  },
  {
   "cell_type": "markdown",
   "metadata": {},
   "source": [
    "Для дальнейшего контроля доли удаленных данных от исходного датасета, скопируем исходный датасет в df_autos_control:"
   ]
  },
  {
   "cell_type": "code",
   "execution_count": 4,
   "metadata": {},
   "outputs": [],
   "source": [
    "df_autos_control = df_autos.copy()"
   ]
  },
  {
   "cell_type": "markdown",
   "metadata": {},
   "source": [
    "#### Корректировка записи названий столбцов\n",
    "\n",
    "Приводим к нижнему регистру названия столбцов в датафрейме df_autos, добавляем \"_\" между словами:"
   ]
  },
  {
   "cell_type": "code",
   "execution_count": 5,
   "metadata": {},
   "outputs": [
    {
     "name": "stdout",
     "output_type": "stream",
     "text": [
      "Проверяем изменения: \n",
      "    Index(['date_crawled', 'price', 'vehicle_type', 'registration_year', 'gearbox',\n",
      "       'power', 'model', 'kilometer', 'registration_month', 'fuel_type',\n",
      "       'brand', 'repaired', 'date_created', 'number_of_pictures',\n",
      "       'postal_code', 'last_seen'],\n",
      "      dtype='object')\n",
      "    \n"
     ]
    }
   ],
   "source": [
    "df_autos.columns = [re.sub(r'(?<!^)(?=[A-Z])', '_', i).replace(' ', '_').lower() for i in df_autos.columns]\n",
    "print(f'''Проверяем изменения: \n",
    "    {df_autos.columns.unique()}\n",
    "    ''')"
   ]
  },
  {
   "cell_type": "markdown",
   "metadata": {},
   "source": [
    "**Вывод:** названия столбцов приведены к \"змеиному\" регистру."
   ]
  },
  {
   "cell_type": "markdown",
   "metadata": {},
   "source": [
    "#### Проверка наличия явных дубликатов"
   ]
  },
  {
   "cell_type": "code",
   "execution_count": 6,
   "metadata": {},
   "outputs": [
    {
     "name": "stdout",
     "output_type": "stream",
     "text": [
      "Количество явных дубликатов: \n",
      "    4\n",
      "    \n"
     ]
    }
   ],
   "source": [
    "print(f'''Количество явных дубликатов: \n",
    "    {df_autos.duplicated().sum()}\n",
    "    ''')"
   ]
  },
  {
   "cell_type": "markdown",
   "metadata": {},
   "source": [
    "В датафрейме обнаружены явные дубликаты. Удаляем их и заменяем старые индексы на новые: "
   ]
  },
  {
   "cell_type": "code",
   "execution_count": 7,
   "metadata": {},
   "outputs": [
    {
     "name": "stdout",
     "output_type": "stream",
     "text": [
      "Проверяем удаление. Количество явных дубликатов: \n",
      "    0\n",
      "    \n"
     ]
    }
   ],
   "source": [
    "df_autos = df_autos.drop_duplicates().reset_index(drop=True)\n",
    "\n",
    "print(f'''Проверяем удаление. Количество явных дубликатов: \n",
    "    {df_autos.duplicated().sum()}\n",
    "    ''')"
   ]
  },
  {
   "cell_type": "markdown",
   "metadata": {},
   "source": [
    "**Вывод:** явняе дубликаты (4 строки) удалены."
   ]
  },
  {
   "cell_type": "markdown",
   "metadata": {},
   "source": [
    "#### Проверка наличия неявных дубликатов, ошибок"
   ]
  },
  {
   "cell_type": "markdown",
   "metadata": {},
   "source": [
    "Выводим уникальные значения для проверки наличия неявных дубликатов, ошибок:"
   ]
  },
  {
   "cell_type": "code",
   "execution_count": 8,
   "metadata": {},
   "outputs": [
    {
     "name": "stdout",
     "output_type": "stream",
     "text": [
      "Уникальные значения в:\n",
      "\n",
      "df_autos['vehicle_type']: [nan 'coupe' 'suv' 'small' 'sedan' 'convertible' 'bus' 'wagon' 'other']\n",
      "\n",
      "df_autos['gearbox']: ['manual' 'auto' nan]\n",
      "\n",
      "df_autos['model']: ['golf' nan 'grand' 'fabia' '3er' '2_reihe' 'other' 'c_max' '3_reihe'\n",
      " 'passat' 'navara' 'ka' 'polo' 'twingo' 'a_klasse' 'scirocco' '5er'\n",
      " 'meriva' 'arosa' 'c4' 'civic' 'transporter' 'punto' 'e_klasse' 'clio'\n",
      " 'kadett' 'kangoo' 'corsa' 'one' 'fortwo' '1er' 'b_klasse' 'signum'\n",
      " 'astra' 'a8' 'jetta' 'fiesta' 'c_klasse' 'micra' 'vito' 'sprinter' '156'\n",
      " 'escort' 'forester' 'xc_reihe' 'scenic' 'a4' 'a1' 'insignia' 'combo'\n",
      " 'focus' 'tt' 'a6' 'jazz' 'omega' 'slk' '7er' '80' '147' '100' 'z_reihe'\n",
      " 'sportage' 'sorento' 'v40' 'ibiza' 'mustang' 'eos' 'touran' 'getz' 'a3'\n",
      " 'almera' 'megane' 'lupo' 'r19' 'zafira' 'caddy' 'mondeo' 'cordoba' 'colt'\n",
      " 'impreza' 'vectra' 'berlingo' 'tiguan' 'i_reihe' 'espace' 'sharan'\n",
      " '6_reihe' 'panda' 'up' 'seicento' 'ceed' '5_reihe' 'yeti' 'octavia' 'mii'\n",
      " 'rx_reihe' '6er' 'modus' 'fox' 'matiz' 'beetle' 'c1' 'rio' 'touareg'\n",
      " 'logan' 'spider' 'cuore' 's_max' 'a2' 'galaxy' 'c3' 'viano' 's_klasse'\n",
      " '1_reihe' 'avensis' 'roomster' 'sl' 'kaefer' 'santa' 'cooper' 'leon'\n",
      " '4_reihe' 'a5' '500' 'laguna' 'ptcruiser' 'clk' 'primera' 'x_reihe'\n",
      " 'exeo' '159' 'transit' 'juke' 'qashqai' 'carisma' 'accord' 'corolla'\n",
      " 'lanos' 'phaeton' 'verso' 'swift' 'rav' 'picanto' 'boxster' 'kalos'\n",
      " 'superb' 'stilo' 'alhambra' 'mx_reihe' 'roadster' 'ypsilon' 'cayenne'\n",
      " 'galant' 'justy' '90' 'sirion' 'crossfire' 'agila' 'duster' 'cr_reihe'\n",
      " 'v50' 'c_reihe' 'v_klasse' 'm_klasse' 'yaris' 'c5' 'aygo' 'cc' 'carnival'\n",
      " 'fusion' '911' 'bora' 'forfour' 'm_reihe' 'cl' 'tigra' '300c' 'spark'\n",
      " 'v70' 'kuga' 'x_type' 'ducato' 's_type' 'x_trail' 'toledo' 'altea'\n",
      " 'voyager' 'calibra' 'bravo' 'antara' 'tucson' 'citigo' 'jimny' 'wrangler'\n",
      " 'lybra' 'q7' 'lancer' 'captiva' 'c2' 'discovery' 'freelander' 'sandero'\n",
      " 'note' '900' 'cherokee' 'clubman' 'samara' 'defender' '601' 'cx_reihe'\n",
      " 'legacy' 'pajero' 'auris' 'niva' 's60' 'nubira' 'vivaro' 'g_klasse'\n",
      " 'lodgy' '850' 'range_rover' 'q3' 'serie_2' 'glk' 'charade' 'croma'\n",
      " 'outlander' 'doblo' 'musa' 'move' '9000' 'v60' '145' 'aveo' '200' 'b_max'\n",
      " 'range_rover_sport' 'terios' 'rangerover' 'q5' 'range_rover_evoque'\n",
      " 'materia' 'delta' 'gl' 'kalina' 'amarok' 'elefantino' 'i3' 'kappa'\n",
      " 'serie_3' 'serie_1']\n",
      "\n",
      "df_autos['fuel_type']: ['petrol' 'gasoline' nan 'lpg' 'other' 'hybrid' 'cng' 'electric']\n",
      "\n",
      "df_autos['brand']: ['volkswagen' 'audi' 'jeep' 'skoda' 'bmw' 'peugeot' 'ford' 'mazda'\n",
      " 'nissan' 'renault' 'mercedes_benz' 'opel' 'seat' 'citroen' 'honda' 'fiat'\n",
      " 'mini' 'smart' 'hyundai' 'sonstige_autos' 'alfa_romeo' 'subaru' 'volvo'\n",
      " 'mitsubishi' 'kia' 'suzuki' 'lancia' 'toyota' 'chevrolet' 'dacia'\n",
      " 'daihatsu' 'trabant' 'saab' 'chrysler' 'jaguar' 'daewoo' 'porsche'\n",
      " 'rover' 'land_rover' 'lada']\n",
      "\n",
      "df_autos['repaired']: [nan 'yes' 'no']\n",
      "\n"
     ]
    }
   ],
   "source": [
    "print(f'''Уникальные значения в:\n",
    "\n",
    "df_autos['vehicle_type']: {df_autos['vehicle_type'].unique()}\n",
    "\n",
    "df_autos['gearbox']: {df_autos['gearbox'].unique()}\n",
    "\n",
    "df_autos['model']: {df_autos['model'].unique()}\n",
    "\n",
    "df_autos['fuel_type']: {df_autos['fuel_type'].unique()}\n",
    "\n",
    "df_autos['brand']: {df_autos['brand'].unique()}\n",
    "\n",
    "df_autos['repaired']: {df_autos['repaired'].unique()}\n",
    "''')"
   ]
  },
  {
   "cell_type": "markdown",
   "metadata": {},
   "source": [
    "В столбце 'fuel_type' (тип топлива) обнаружен неявный дубликат: 'petrol' и 'gasoline' - это два разных названия для одного и того же топлива, бензина. 'gasoline' чаще используется в Северной Америке, а 'petrol' - в других странах. Заменим значение 'gasoline' на 'petrol' в датафрейме:"
   ]
  },
  {
   "cell_type": "code",
   "execution_count": 9,
   "metadata": {},
   "outputs": [
    {
     "name": "stdout",
     "output_type": "stream",
     "text": [
      "Проверяем замену. Уникальные значения в столбце: \n",
      "    ['petrol' nan 'lpg' 'other' 'hybrid' 'cng' 'electric']\n",
      "    \n"
     ]
    }
   ],
   "source": [
    "df_autos['fuel_type'] = df_autos['fuel_type'].str.replace('gasoline', 'petrol')\n",
    "\n",
    "print(f'''Проверяем замену. Уникальные значения в столбце: \n",
    "    {df_autos['fuel_type'].unique()}\n",
    "    ''')"
   ]
  },
  {
   "cell_type": "markdown",
   "metadata": {},
   "source": [
    "В столбце 'model' (модель автомобиля) обнаружен неявный дубликат: 'rangerover' и 'range_rover' - это два разных названия для одного и того же. Заменим значение 'rangerover' на 'range_rover' в датафрейме:"
   ]
  },
  {
   "cell_type": "code",
   "execution_count": 10,
   "metadata": {},
   "outputs": [
    {
     "name": "stdout",
     "output_type": "stream",
     "text": [
      "Проверяем замену. Уникальные значения в столбце: \n",
      "    ['golf' nan 'grand' 'fabia' '3er' '2_reihe' 'other' 'c_max' '3_reihe'\n",
      " 'passat' 'navara' 'ka' 'polo' 'twingo' 'a_klasse' 'scirocco' '5er'\n",
      " 'meriva' 'arosa' 'c4' 'civic' 'transporter' 'punto' 'e_klasse' 'clio'\n",
      " 'kadett' 'kangoo' 'corsa' 'one' 'fortwo' '1er' 'b_klasse' 'signum'\n",
      " 'astra' 'a8' 'jetta' 'fiesta' 'c_klasse' 'micra' 'vito' 'sprinter' '156'\n",
      " 'escort' 'forester' 'xc_reihe' 'scenic' 'a4' 'a1' 'insignia' 'combo'\n",
      " 'focus' 'tt' 'a6' 'jazz' 'omega' 'slk' '7er' '80' '147' '100' 'z_reihe'\n",
      " 'sportage' 'sorento' 'v40' 'ibiza' 'mustang' 'eos' 'touran' 'getz' 'a3'\n",
      " 'almera' 'megane' 'lupo' 'r19' 'zafira' 'caddy' 'mondeo' 'cordoba' 'colt'\n",
      " 'impreza' 'vectra' 'berlingo' 'tiguan' 'i_reihe' 'espace' 'sharan'\n",
      " '6_reihe' 'panda' 'up' 'seicento' 'ceed' '5_reihe' 'yeti' 'octavia' 'mii'\n",
      " 'rx_reihe' '6er' 'modus' 'fox' 'matiz' 'beetle' 'c1' 'rio' 'touareg'\n",
      " 'logan' 'spider' 'cuore' 's_max' 'a2' 'galaxy' 'c3' 'viano' 's_klasse'\n",
      " '1_reihe' 'avensis' 'roomster' 'sl' 'kaefer' 'santa' 'cooper' 'leon'\n",
      " '4_reihe' 'a5' '500' 'laguna' 'ptcruiser' 'clk' 'primera' 'x_reihe'\n",
      " 'exeo' '159' 'transit' 'juke' 'qashqai' 'carisma' 'accord' 'corolla'\n",
      " 'lanos' 'phaeton' 'verso' 'swift' 'rav' 'picanto' 'boxster' 'kalos'\n",
      " 'superb' 'stilo' 'alhambra' 'mx_reihe' 'roadster' 'ypsilon' 'cayenne'\n",
      " 'galant' 'justy' '90' 'sirion' 'crossfire' 'agila' 'duster' 'cr_reihe'\n",
      " 'v50' 'c_reihe' 'v_klasse' 'm_klasse' 'yaris' 'c5' 'aygo' 'cc' 'carnival'\n",
      " 'fusion' '911' 'bora' 'forfour' 'm_reihe' 'cl' 'tigra' '300c' 'spark'\n",
      " 'v70' 'kuga' 'x_type' 'ducato' 's_type' 'x_trail' 'toledo' 'altea'\n",
      " 'voyager' 'calibra' 'bravo' 'antara' 'tucson' 'citigo' 'jimny' 'wrangler'\n",
      " 'lybra' 'q7' 'lancer' 'captiva' 'c2' 'discovery' 'freelander' 'sandero'\n",
      " 'note' '900' 'cherokee' 'clubman' 'samara' 'defender' '601' 'cx_reihe'\n",
      " 'legacy' 'pajero' 'auris' 'niva' 's60' 'nubira' 'vivaro' 'g_klasse'\n",
      " 'lodgy' '850' 'range_rover' 'q3' 'serie_2' 'glk' 'charade' 'croma'\n",
      " 'outlander' 'doblo' 'musa' 'move' '9000' 'v60' '145' 'aveo' '200' 'b_max'\n",
      " 'range_rover_sport' 'terios' 'q5' 'range_rover_evoque' 'materia' 'delta'\n",
      " 'gl' 'kalina' 'amarok' 'elefantino' 'i3' 'kappa' 'serie_3' 'serie_1']\n",
      "    \n"
     ]
    }
   ],
   "source": [
    "df_autos['model'] = df_autos['model'].str.replace('rangerover', 'range_rover')\n",
    "\n",
    "print(f'''Проверяем замену. Уникальные значения в столбце: \n",
    "    {df_autos['model'].unique()}\n",
    "    ''')"
   ]
  },
  {
   "cell_type": "markdown",
   "metadata": {},
   "source": [
    "Проверим наличие полных дубликатов после замены:"
   ]
  },
  {
   "cell_type": "code",
   "execution_count": 11,
   "metadata": {},
   "outputs": [
    {
     "name": "stdout",
     "output_type": "stream",
     "text": [
      "Количество явных дубликатов: \n",
      "    0\n",
      "    \n"
     ]
    }
   ],
   "source": [
    "print(f'''Количество явных дубликатов: \n",
    "    {df_autos.duplicated().sum()}\n",
    "    ''')"
   ]
  },
  {
   "cell_type": "markdown",
   "metadata": {},
   "source": [
    "**Вывод**: обнаружены неявные дубликаты в столбце 'fuel_type' (тип топлива): 'petrol' и 'gasoline' - это два разных названия для одного и того же топлива, бензина ('gasoline' чаще используется в Северной Америке, а 'petrol' - в других странах). Значение 'gasoline' заменено на 'petrol'. В столбце 'model' (модель автомобиля) обнаружен неявный дубликат: 'rangerover' и 'range_rover' - это два разных названия для одного и того же. Заменено значение 'rangerover' на 'range_rover'."
   ]
  },
  {
   "cell_type": "markdown",
   "metadata": {},
   "source": [
    "#### Удаление ненужных данных"
   ]
  },
  {
   "cell_type": "markdown",
   "metadata": {},
   "source": [
    "Для моделирования не потребуются такие данные:\n",
    "- date_crawled — дата скачивания анкеты из базы;\n",
    "- date_created — дата создания анкеты;\n",
    "- number_of_pictures — количество фотографий автомобиля;\n",
    "- postal_code — почтовый индекс владельца анкеты (пользователя);\n",
    "- registration_month - месяц регистрации автомобиля;\n",
    "- last_seen — дата последней активности пользователя.\n",
    "\n",
    "Данные столбцы удаляем из датафрейма:"
   ]
  },
  {
   "cell_type": "code",
   "execution_count": 12,
   "metadata": {},
   "outputs": [
    {
     "data": {
      "text/html": [
       "<div>\n",
       "<style scoped>\n",
       "    .dataframe tbody tr th:only-of-type {\n",
       "        vertical-align: middle;\n",
       "    }\n",
       "\n",
       "    .dataframe tbody tr th {\n",
       "        vertical-align: top;\n",
       "    }\n",
       "\n",
       "    .dataframe thead th {\n",
       "        text-align: right;\n",
       "    }\n",
       "</style>\n",
       "<table border=\"1\" class=\"dataframe\">\n",
       "  <thead>\n",
       "    <tr style=\"text-align: right;\">\n",
       "      <th></th>\n",
       "      <th>price</th>\n",
       "      <th>vehicle_type</th>\n",
       "      <th>registration_year</th>\n",
       "      <th>gearbox</th>\n",
       "      <th>power</th>\n",
       "      <th>model</th>\n",
       "      <th>kilometer</th>\n",
       "      <th>fuel_type</th>\n",
       "      <th>brand</th>\n",
       "      <th>repaired</th>\n",
       "    </tr>\n",
       "  </thead>\n",
       "  <tbody>\n",
       "    <tr>\n",
       "      <th>0</th>\n",
       "      <td>480</td>\n",
       "      <td>NaN</td>\n",
       "      <td>1993</td>\n",
       "      <td>manual</td>\n",
       "      <td>0</td>\n",
       "      <td>golf</td>\n",
       "      <td>150000</td>\n",
       "      <td>petrol</td>\n",
       "      <td>volkswagen</td>\n",
       "      <td>NaN</td>\n",
       "    </tr>\n",
       "    <tr>\n",
       "      <th>1</th>\n",
       "      <td>18300</td>\n",
       "      <td>coupe</td>\n",
       "      <td>2011</td>\n",
       "      <td>manual</td>\n",
       "      <td>190</td>\n",
       "      <td>NaN</td>\n",
       "      <td>125000</td>\n",
       "      <td>petrol</td>\n",
       "      <td>audi</td>\n",
       "      <td>yes</td>\n",
       "    </tr>\n",
       "    <tr>\n",
       "      <th>2</th>\n",
       "      <td>9800</td>\n",
       "      <td>suv</td>\n",
       "      <td>2004</td>\n",
       "      <td>auto</td>\n",
       "      <td>163</td>\n",
       "      <td>grand</td>\n",
       "      <td>125000</td>\n",
       "      <td>petrol</td>\n",
       "      <td>jeep</td>\n",
       "      <td>NaN</td>\n",
       "    </tr>\n",
       "    <tr>\n",
       "      <th>3</th>\n",
       "      <td>1500</td>\n",
       "      <td>small</td>\n",
       "      <td>2001</td>\n",
       "      <td>manual</td>\n",
       "      <td>75</td>\n",
       "      <td>golf</td>\n",
       "      <td>150000</td>\n",
       "      <td>petrol</td>\n",
       "      <td>volkswagen</td>\n",
       "      <td>no</td>\n",
       "    </tr>\n",
       "    <tr>\n",
       "      <th>4</th>\n",
       "      <td>3600</td>\n",
       "      <td>small</td>\n",
       "      <td>2008</td>\n",
       "      <td>manual</td>\n",
       "      <td>69</td>\n",
       "      <td>fabia</td>\n",
       "      <td>90000</td>\n",
       "      <td>petrol</td>\n",
       "      <td>skoda</td>\n",
       "      <td>no</td>\n",
       "    </tr>\n",
       "  </tbody>\n",
       "</table>\n",
       "</div>"
      ],
      "text/plain": [
       "   price vehicle_type  registration_year gearbox  power  model  kilometer  \\\n",
       "0    480          NaN               1993  manual      0   golf     150000   \n",
       "1  18300        coupe               2011  manual    190    NaN     125000   \n",
       "2   9800          suv               2004    auto    163  grand     125000   \n",
       "3   1500        small               2001  manual     75   golf     150000   \n",
       "4   3600        small               2008  manual     69  fabia      90000   \n",
       "\n",
       "  fuel_type       brand repaired  \n",
       "0    petrol  volkswagen      NaN  \n",
       "1    petrol        audi      yes  \n",
       "2    petrol        jeep      NaN  \n",
       "3    petrol  volkswagen       no  \n",
       "4    petrol       skoda       no  "
      ]
     },
     "execution_count": 12,
     "metadata": {},
     "output_type": "execute_result"
    }
   ],
   "source": [
    "df_autos = df_autos.drop(['date_crawled', 'date_created', 'number_of_pictures', 'postal_code', \n",
    "                          'last_seen', 'registration_month'], axis=1)\n",
    "\n",
    "df_autos.head()"
   ]
  },
  {
   "cell_type": "code",
   "execution_count": 13,
   "metadata": {},
   "outputs": [
    {
     "name": "stdout",
     "output_type": "stream",
     "text": [
      "<class 'pandas.core.frame.DataFrame'>\n",
      "RangeIndex: 354365 entries, 0 to 354364\n",
      "Data columns (total 10 columns):\n",
      " #   Column             Non-Null Count   Dtype \n",
      "---  ------             --------------   ----- \n",
      " 0   price              354365 non-null  int64 \n",
      " 1   vehicle_type       316875 non-null  object\n",
      " 2   registration_year  354365 non-null  int64 \n",
      " 3   gearbox            334532 non-null  object\n",
      " 4   power              354365 non-null  int64 \n",
      " 5   model              334660 non-null  object\n",
      " 6   kilometer          354365 non-null  int64 \n",
      " 7   fuel_type          321470 non-null  object\n",
      " 8   brand              354365 non-null  object\n",
      " 9   repaired           283211 non-null  object\n",
      "dtypes: int64(4), object(6)\n",
      "memory usage: 27.0+ MB\n"
     ]
    }
   ],
   "source": [
    "df_autos.info()"
   ]
  },
  {
   "cell_type": "markdown",
   "metadata": {},
   "source": [
    "После удаления ненужных данных остались столбцы с верным типом данных. Изменение типов данных уже не требуется."
   ]
  },
  {
   "cell_type": "markdown",
   "metadata": {},
   "source": [
    "#### Проверка наличия пропущенных значений"
   ]
  },
  {
   "cell_type": "code",
   "execution_count": 14,
   "metadata": {},
   "outputs": [
    {
     "name": "stdout",
     "output_type": "stream",
     "text": [
      "Количество пропущенных значений: \n",
      "    price                    0\n",
      "vehicle_type         37490\n",
      "registration_year        0\n",
      "gearbox              19833\n",
      "power                    0\n",
      "model                19705\n",
      "kilometer                0\n",
      "fuel_type            32895\n",
      "brand                    0\n",
      "repaired             71154\n",
      "dtype: int64\n",
      "    \n"
     ]
    }
   ],
   "source": [
    "print(f'''Количество пропущенных значений: \n",
    "    {df_autos.isna().sum()}\n",
    "    ''')"
   ]
  },
  {
   "cell_type": "markdown",
   "metadata": {},
   "source": [
    "**Cтолбец 'vehicle_type' - тип кузова**."
   ]
  },
  {
   "cell_type": "code",
   "execution_count": 15,
   "metadata": {},
   "outputs": [
    {
     "data": {
      "text/plain": [
       "array([nan, 'coupe', 'suv', 'small', 'sedan', 'convertible', 'bus',\n",
       "       'wagon', 'other'], dtype=object)"
      ]
     },
     "execution_count": 15,
     "metadata": {},
     "output_type": "execute_result"
    }
   ],
   "source": [
    "df_autos['vehicle_type'].unique()"
   ]
  },
  {
   "cell_type": "markdown",
   "metadata": {},
   "source": [
    "Заменим пропуски на значение 'other':"
   ]
  },
  {
   "cell_type": "code",
   "execution_count": 16,
   "metadata": {},
   "outputs": [
    {
     "name": "stdout",
     "output_type": "stream",
     "text": [
      "Проверяем замену. Уникальные значения в столбце: \n",
      "    ['other' 'coupe' 'suv' 'small' 'sedan' 'convertible' 'bus' 'wagon']\n",
      "    \n"
     ]
    }
   ],
   "source": [
    "df_autos['vehicle_type'].fillna('other', inplace=True)\n",
    "\n",
    "print(f'''Проверяем замену. Уникальные значения в столбце: \n",
    "    {df_autos['vehicle_type'].unique()}\n",
    "    ''')"
   ]
  },
  {
   "cell_type": "markdown",
   "metadata": {},
   "source": [
    "**Cтолбец 'gearbox' - тип коробки передач**."
   ]
  },
  {
   "cell_type": "code",
   "execution_count": 17,
   "metadata": {},
   "outputs": [
    {
     "data": {
      "text/plain": [
       "manual    268249\n",
       "auto       66283\n",
       "Name: gearbox, dtype: int64"
      ]
     },
     "execution_count": 17,
     "metadata": {},
     "output_type": "execute_result"
    }
   ],
   "source": [
    "df_autos['gearbox'].value_counts()"
   ]
  },
  {
   "cell_type": "markdown",
   "metadata": {},
   "source": [
    "Заменим пропуски на значение 'manual' как на наиболее часто встречающееся значение:"
   ]
  },
  {
   "cell_type": "code",
   "execution_count": 18,
   "metadata": {},
   "outputs": [
    {
     "name": "stdout",
     "output_type": "stream",
     "text": [
      "Проверяем замену. Уникальные значения в столбце: \n",
      "    ['manual' 'auto']\n",
      "    \n"
     ]
    }
   ],
   "source": [
    "df_autos['gearbox'].fillna('manual', inplace=True)\n",
    "\n",
    "print(f'''Проверяем замену. Уникальные значения в столбце: \n",
    "    {df_autos['gearbox'].unique()}\n",
    "    ''')"
   ]
  },
  {
   "cell_type": "markdown",
   "metadata": {},
   "source": [
    "**Cтолбец 'model' - модель автомобиля**."
   ]
  },
  {
   "cell_type": "code",
   "execution_count": 19,
   "metadata": {},
   "outputs": [
    {
     "data": {
      "text/plain": [
       "19705"
      ]
     },
     "execution_count": 19,
     "metadata": {},
     "output_type": "execute_result"
    }
   ],
   "source": [
    "df_autos['model'].isna().sum()"
   ]
  },
  {
   "cell_type": "markdown",
   "metadata": {},
   "source": [
    "Пропусков слишком много, заменим их на значение 'unknown':"
   ]
  },
  {
   "cell_type": "code",
   "execution_count": 20,
   "metadata": {},
   "outputs": [
    {
     "name": "stdout",
     "output_type": "stream",
     "text": [
      "Проверяем замену. Уникальные значения в столбце: \n",
      "    ['golf' 'unknown' 'grand' 'fabia' '3er' '2_reihe' 'other' 'c_max'\n",
      " '3_reihe' 'passat' 'navara' 'ka' 'polo' 'twingo' 'a_klasse' 'scirocco'\n",
      " '5er' 'meriva' 'arosa' 'c4' 'civic' 'transporter' 'punto' 'e_klasse'\n",
      " 'clio' 'kadett' 'kangoo' 'corsa' 'one' 'fortwo' '1er' 'b_klasse' 'signum'\n",
      " 'astra' 'a8' 'jetta' 'fiesta' 'c_klasse' 'micra' 'vito' 'sprinter' '156'\n",
      " 'escort' 'forester' 'xc_reihe' 'scenic' 'a4' 'a1' 'insignia' 'combo'\n",
      " 'focus' 'tt' 'a6' 'jazz' 'omega' 'slk' '7er' '80' '147' '100' 'z_reihe'\n",
      " 'sportage' 'sorento' 'v40' 'ibiza' 'mustang' 'eos' 'touran' 'getz' 'a3'\n",
      " 'almera' 'megane' 'lupo' 'r19' 'zafira' 'caddy' 'mondeo' 'cordoba' 'colt'\n",
      " 'impreza' 'vectra' 'berlingo' 'tiguan' 'i_reihe' 'espace' 'sharan'\n",
      " '6_reihe' 'panda' 'up' 'seicento' 'ceed' '5_reihe' 'yeti' 'octavia' 'mii'\n",
      " 'rx_reihe' '6er' 'modus' 'fox' 'matiz' 'beetle' 'c1' 'rio' 'touareg'\n",
      " 'logan' 'spider' 'cuore' 's_max' 'a2' 'galaxy' 'c3' 'viano' 's_klasse'\n",
      " '1_reihe' 'avensis' 'roomster' 'sl' 'kaefer' 'santa' 'cooper' 'leon'\n",
      " '4_reihe' 'a5' '500' 'laguna' 'ptcruiser' 'clk' 'primera' 'x_reihe'\n",
      " 'exeo' '159' 'transit' 'juke' 'qashqai' 'carisma' 'accord' 'corolla'\n",
      " 'lanos' 'phaeton' 'verso' 'swift' 'rav' 'picanto' 'boxster' 'kalos'\n",
      " 'superb' 'stilo' 'alhambra' 'mx_reihe' 'roadster' 'ypsilon' 'cayenne'\n",
      " 'galant' 'justy' '90' 'sirion' 'crossfire' 'agila' 'duster' 'cr_reihe'\n",
      " 'v50' 'c_reihe' 'v_klasse' 'm_klasse' 'yaris' 'c5' 'aygo' 'cc' 'carnival'\n",
      " 'fusion' '911' 'bora' 'forfour' 'm_reihe' 'cl' 'tigra' '300c' 'spark'\n",
      " 'v70' 'kuga' 'x_type' 'ducato' 's_type' 'x_trail' 'toledo' 'altea'\n",
      " 'voyager' 'calibra' 'bravo' 'antara' 'tucson' 'citigo' 'jimny' 'wrangler'\n",
      " 'lybra' 'q7' 'lancer' 'captiva' 'c2' 'discovery' 'freelander' 'sandero'\n",
      " 'note' '900' 'cherokee' 'clubman' 'samara' 'defender' '601' 'cx_reihe'\n",
      " 'legacy' 'pajero' 'auris' 'niva' 's60' 'nubira' 'vivaro' 'g_klasse'\n",
      " 'lodgy' '850' 'range_rover' 'q3' 'serie_2' 'glk' 'charade' 'croma'\n",
      " 'outlander' 'doblo' 'musa' 'move' '9000' 'v60' '145' 'aveo' '200' 'b_max'\n",
      " 'range_rover_sport' 'terios' 'q5' 'range_rover_evoque' 'materia' 'delta'\n",
      " 'gl' 'kalina' 'amarok' 'elefantino' 'i3' 'kappa' 'serie_3' 'serie_1']\n",
      "    \n"
     ]
    }
   ],
   "source": [
    "df_autos['model'].fillna('unknown', inplace=True)\n",
    "\n",
    "print(f'''Проверяем замену. Уникальные значения в столбце: \n",
    "    {df_autos['model'].unique()}\n",
    "    ''')"
   ]
  },
  {
   "cell_type": "markdown",
   "metadata": {},
   "source": [
    "**Cтолбец 'fuel_type' - тип топлива**."
   ]
  },
  {
   "cell_type": "code",
   "execution_count": 21,
   "metadata": {},
   "outputs": [
    {
     "data": {
      "text/plain": [
       "array(['petrol', nan, 'lpg', 'other', 'hybrid', 'cng', 'electric'],\n",
       "      dtype=object)"
      ]
     },
     "execution_count": 21,
     "metadata": {},
     "output_type": "execute_result"
    }
   ],
   "source": [
    "df_autos['fuel_type'].unique()"
   ]
  },
  {
   "cell_type": "markdown",
   "metadata": {},
   "source": [
    "Заменим пропуски на значение 'other':"
   ]
  },
  {
   "cell_type": "code",
   "execution_count": 22,
   "metadata": {},
   "outputs": [
    {
     "name": "stdout",
     "output_type": "stream",
     "text": [
      "Проверяем замену. Уникальные значения в столбце: \n",
      "    ['petrol' 'other' 'lpg' 'hybrid' 'cng' 'electric']\n",
      "    \n"
     ]
    }
   ],
   "source": [
    "df_autos['fuel_type'].fillna('other', inplace=True)\n",
    "\n",
    "print(f'''Проверяем замену. Уникальные значения в столбце: \n",
    "    {df_autos['fuel_type'].unique()}\n",
    "    ''')"
   ]
  },
  {
   "cell_type": "markdown",
   "metadata": {},
   "source": [
    "**Cтолбец 'repaired' - была машина в ремонте или нет**."
   ]
  },
  {
   "cell_type": "code",
   "execution_count": 23,
   "metadata": {},
   "outputs": [
    {
     "data": {
      "text/plain": [
       "array([nan, 'yes', 'no'], dtype=object)"
      ]
     },
     "execution_count": 23,
     "metadata": {},
     "output_type": "execute_result"
    }
   ],
   "source": [
    "df_autos['repaired'].unique()"
   ]
  },
  {
   "cell_type": "markdown",
   "metadata": {},
   "source": [
    "Предположим, что пропуски в данных означают то, что владелец автомобиля не захотел \"светить\" аварийность или прошлые неисправности своего автомобиля, поэтому не заполнил данный пункт в анкете. Т.к. автомобили, бывшие ремонте, ценятся покупателями меньше, т.е. спрос на них снижается, что вызывает понижение цены данного автомобиля. Заменим пропуски на значение 'yes' - автомобиль был в ремонте:"
   ]
  },
  {
   "cell_type": "code",
   "execution_count": 24,
   "metadata": {},
   "outputs": [
    {
     "name": "stdout",
     "output_type": "stream",
     "text": [
      "Проверяем замену. Уникальные значения в столбце: \n",
      "    ['yes' 'no']\n",
      "    \n"
     ]
    }
   ],
   "source": [
    "df_autos['repaired'].fillna('yes', inplace=True)\n",
    "\n",
    "print(f'''Проверяем замену. Уникальные значения в столбце: \n",
    "    {df_autos['repaired'].unique()}\n",
    "    ''')"
   ]
  },
  {
   "cell_type": "markdown",
   "metadata": {},
   "source": [
    "Проверяем наличие пропусков после преобразований:"
   ]
  },
  {
   "cell_type": "code",
   "execution_count": 25,
   "metadata": {},
   "outputs": [
    {
     "name": "stdout",
     "output_type": "stream",
     "text": [
      "Количество пропущенных значений: \n",
      "price                0\n",
      "vehicle_type         0\n",
      "registration_year    0\n",
      "gearbox              0\n",
      "power                0\n",
      "model                0\n",
      "kilometer            0\n",
      "fuel_type            0\n",
      "brand                0\n",
      "repaired             0\n",
      "dtype: int64\n",
      "\n"
     ]
    }
   ],
   "source": [
    "print(f'''Количество пропущенных значений: \n",
    "{df_autos.isna().sum()}\n",
    "''')"
   ]
  },
  {
   "cell_type": "markdown",
   "metadata": {},
   "source": [
    "**Вывод**: обнаружены пропущенные значения. Выполнены замены пропусков в столбцах:\n",
    "- 'vehicle_type' - тип кузова - на 'other';\n",
    "- 'gearbox' - тип коробки передач - на 'manual';\n",
    "- 'model' - модель автомобиля - на 'unknown';\n",
    "- 'fuel_type' - тип топлива - на 'other';\n",
    "- 'repaired' - была машина в ремонте или нет - на 'yes'."
   ]
  },
  {
   "cell_type": "markdown",
   "metadata": {},
   "source": [
    "#### Вывод по разделу"
   ]
  },
  {
   "cell_type": "markdown",
   "metadata": {},
   "source": [
    "**На этапе предобработки данных было выполнено**:\n",
    "\n",
    "1. **Корректировка записи названий столбцов** - названия столбцов приведены к \"змеиному\" регистру;\n",
    "2. **Проверка наличия явных дубликатов** - явные дубликаты (4 строки) удалены;\n",
    "3. **Проверка наличия неявных дубликатов, ошибок**: \n",
    "   - неявные дубликаты в столбце 'fuel_type' (тип топлива): 'petrol' и 'gasoline' - это два разных названия для одного и того же топлива, бензина ('gasoline' чаще используется в Северной Америке, а 'petrol' - в других странах). Значение 'gasoline' заменено на 'petrol';\n",
    "   - в столбце 'model' (модель автомобиля) обнаружен неявный дубликат: 'rangerover' и 'range_rover' - это два разных названия для одного и того же. Заменено значение 'rangerover' на 'range_rover';\n",
    "   \n",
    "\n",
    "4. **Удаление ненужных данных**. Для моделирования не требуются такие данные, удалены:\n",
    "   - date_crawled — дата скачивания анкеты из базы;\n",
    "   - date_created — дата создания анкеты;\n",
    "   - number_of_pictures — количество фотографий автомобиля;\n",
    "   - postal_code — почтовый индекс владельца анкеты (пользователя);\n",
    "   - registration_month - месяц регистрации автомобиля;\n",
    "   - last_seen — дата последней активности пользователя.\n",
    "   \n",
    "\n",
    "5. **Проверка наличия пропущенных значений**. В столбцах:\n",
    "   - 'vehicle_type' - тип кузова. Пропуски заменены на значение 'other';\n",
    "   - 'gearbox' - тип коробки передач. Пропуски заменены на значение 'manual' как на наиболее часто встречающееся значение;\n",
    "   - 'model' - модель автомобиля. Пропуски заменены на значение 'unknown';\n",
    "   - 'fuel_type' - тип топлива. Пропуски заменены на значение 'other';\n",
    "   - 'repaired' - была машина в ремонте или нет. Пропуски заменены на значение 'yes' - автомобиль был в ремонте, т.к. есть предположение, что владелец автомобиля не захотел \"светить\" аварийность или прошлые неисправности своего автомобиля, поэтому не заполнил данный пункт в анкете. Т.к. автомобили, бывшие ремонте, ценятся покупателями меньше, т.е. спрос на них снижается, что вызывает понижение цены данного автомобиля.\n",
    "  "
   ]
  },
  {
   "cell_type": "markdown",
   "metadata": {},
   "source": [
    "### Исследовательский анализ данных\n",
    "\n",
    "**Визуализация признаков**\n",
    "\n",
    "Создаем функцию для построения графиков (гистограмма, диаграмма размаха) количественных непрерывных признаков:"
   ]
  },
  {
   "cell_type": "code",
   "execution_count": 26,
   "metadata": {},
   "outputs": [],
   "source": [
    "def viz_num_character(column, title, bins):\n",
    "    sns.set(rc={'figure.figsize': (14, 7)})\n",
    "    sns.set_palette('PRGn')\n",
    "    fig, axes = plt.subplots(1, 2)\n",
    "    sns.histplot(data=df_autos, x=df_autos[column], kde=True, bins=bins, ax=axes[0])\n",
    "    axes[0].set(ylabel='частота', xlabel=column)\n",
    "    median_value = df_autos[column].median()\n",
    "    mean_value = df_autos[column].mean()\n",
    "    axes[0].axvline(median_value, color='r', linestyle='--', label=f'Median: {median_value:.2f}')\n",
    "    axes[0].axvline(mean_value, color='g', linestyle='-', label=f'Mean: {mean_value:.2f}')\n",
    "    axes[0].legend()\n",
    "    sns.boxplot(data=df_autos[column], ax=axes[1])\n",
    "    axes[1].set(ylabel=column)\n",
    "    plt.suptitle(title)\n",
    "    plt.show()"
   ]
  },
  {
   "cell_type": "markdown",
   "metadata": {},
   "source": [
    "Создаем функцию для построения графиков (столбчатая диаграмма) категориальных признаков и дискретных количественных:"
   ]
  },
  {
   "cell_type": "code",
   "execution_count": 27,
   "metadata": {},
   "outputs": [],
   "source": [
    "def viz_bar_character(column, title):\n",
    "    plt.figure(figsize=(14, 8))\n",
    "    sns.set_palette('PRGn')\n",
    "    sns.countplot(data=df_autos, y=column)\n",
    "    plt.xlabel('количество')\n",
    "    plt.suptitle(title)\n",
    "    plt.show()"
   ]
  },
  {
   "cell_type": "markdown",
   "metadata": {},
   "source": [
    "Проведем статистический анализ всех признаков. Числовые характеристики:"
   ]
  },
  {
   "cell_type": "code",
   "execution_count": 28,
   "metadata": {},
   "outputs": [
    {
     "data": {
      "text/html": [
       "<div>\n",
       "<style scoped>\n",
       "    .dataframe tbody tr th:only-of-type {\n",
       "        vertical-align: middle;\n",
       "    }\n",
       "\n",
       "    .dataframe tbody tr th {\n",
       "        vertical-align: top;\n",
       "    }\n",
       "\n",
       "    .dataframe thead th {\n",
       "        text-align: right;\n",
       "    }\n",
       "</style>\n",
       "<table border=\"1\" class=\"dataframe\">\n",
       "  <thead>\n",
       "    <tr style=\"text-align: right;\">\n",
       "      <th></th>\n",
       "      <th>price</th>\n",
       "      <th>registration_year</th>\n",
       "      <th>power</th>\n",
       "      <th>kilometer</th>\n",
       "    </tr>\n",
       "  </thead>\n",
       "  <tbody>\n",
       "    <tr>\n",
       "      <th>count</th>\n",
       "      <td>354365.000000</td>\n",
       "      <td>354365.000000</td>\n",
       "      <td>354365.000000</td>\n",
       "      <td>354365.000000</td>\n",
       "    </tr>\n",
       "    <tr>\n",
       "      <th>mean</th>\n",
       "      <td>4416.679830</td>\n",
       "      <td>2004.234481</td>\n",
       "      <td>110.093816</td>\n",
       "      <td>128211.363989</td>\n",
       "    </tr>\n",
       "    <tr>\n",
       "      <th>std</th>\n",
       "      <td>4514.176349</td>\n",
       "      <td>90.228466</td>\n",
       "      <td>189.851330</td>\n",
       "      <td>37905.083858</td>\n",
       "    </tr>\n",
       "    <tr>\n",
       "      <th>min</th>\n",
       "      <td>0.000000</td>\n",
       "      <td>1000.000000</td>\n",
       "      <td>0.000000</td>\n",
       "      <td>5000.000000</td>\n",
       "    </tr>\n",
       "    <tr>\n",
       "      <th>25%</th>\n",
       "      <td>1050.000000</td>\n",
       "      <td>1999.000000</td>\n",
       "      <td>69.000000</td>\n",
       "      <td>125000.000000</td>\n",
       "    </tr>\n",
       "    <tr>\n",
       "      <th>50%</th>\n",
       "      <td>2700.000000</td>\n",
       "      <td>2003.000000</td>\n",
       "      <td>105.000000</td>\n",
       "      <td>150000.000000</td>\n",
       "    </tr>\n",
       "    <tr>\n",
       "      <th>75%</th>\n",
       "      <td>6400.000000</td>\n",
       "      <td>2008.000000</td>\n",
       "      <td>143.000000</td>\n",
       "      <td>150000.000000</td>\n",
       "    </tr>\n",
       "    <tr>\n",
       "      <th>max</th>\n",
       "      <td>20000.000000</td>\n",
       "      <td>9999.000000</td>\n",
       "      <td>20000.000000</td>\n",
       "      <td>150000.000000</td>\n",
       "    </tr>\n",
       "  </tbody>\n",
       "</table>\n",
       "</div>"
      ],
      "text/plain": [
       "               price  registration_year          power      kilometer\n",
       "count  354365.000000      354365.000000  354365.000000  354365.000000\n",
       "mean     4416.679830        2004.234481     110.093816  128211.363989\n",
       "std      4514.176349          90.228466     189.851330   37905.083858\n",
       "min         0.000000        1000.000000       0.000000    5000.000000\n",
       "25%      1050.000000        1999.000000      69.000000  125000.000000\n",
       "50%      2700.000000        2003.000000     105.000000  150000.000000\n",
       "75%      6400.000000        2008.000000     143.000000  150000.000000\n",
       "max     20000.000000        9999.000000   20000.000000  150000.000000"
      ]
     },
     "execution_count": 28,
     "metadata": {},
     "output_type": "execute_result"
    }
   ],
   "source": [
    "df_autos.describe()"
   ]
  },
  {
   "cell_type": "markdown",
   "metadata": {},
   "source": [
    "**Вывод**: имеются аномалии. Рассмотрим их подробней."
   ]
  },
  {
   "cell_type": "markdown",
   "metadata": {},
   "source": [
    "Определим число \"бинов\" для данного датафрейма по правилу Стёрджеса: число bins = log2(n) + 1, где n - количество наблюдений. В данном случае 354365 наблюдений, получаем bins = 19."
   ]
  },
  {
   "cell_type": "code",
   "execution_count": 29,
   "metadata": {},
   "outputs": [
    {
     "data": {
      "image/png": "[encoded data removed]",
      "text/plain": [
       "<Figure size 1008x504 with 2 Axes>"
      ]
     },
     "metadata": {},
     "output_type": "display_data"
    }
   ],
   "source": [
    "viz_num_character('price', 'Распределение цен автомобилей (в евро) - целевой признак', 19)"
   ]
  },
  {
   "cell_type": "markdown",
   "metadata": {},
   "source": [
    "Посмотрим строки с ценой автомобилей меньше 50 евро:"
   ]
  },
  {
   "cell_type": "code",
   "execution_count": 30,
   "metadata": {},
   "outputs": [
    {
     "data": {
      "text/html": [
       "<div>\n",
       "<style scoped>\n",
       "    .dataframe tbody tr th:only-of-type {\n",
       "        vertical-align: middle;\n",
       "    }\n",
       "\n",
       "    .dataframe tbody tr th {\n",
       "        vertical-align: top;\n",
       "    }\n",
       "\n",
       "    .dataframe thead th {\n",
       "        text-align: right;\n",
       "    }\n",
       "</style>\n",
       "<table border=\"1\" class=\"dataframe\">\n",
       "  <thead>\n",
       "    <tr style=\"text-align: right;\">\n",
       "      <th></th>\n",
       "      <th>price</th>\n",
       "      <th>vehicle_type</th>\n",
       "      <th>registration_year</th>\n",
       "      <th>gearbox</th>\n",
       "      <th>power</th>\n",
       "      <th>model</th>\n",
       "      <th>kilometer</th>\n",
       "      <th>fuel_type</th>\n",
       "      <th>brand</th>\n",
       "      <th>repaired</th>\n",
       "    </tr>\n",
       "  </thead>\n",
       "  <tbody>\n",
       "    <tr>\n",
       "      <th>7</th>\n",
       "      <td>0</td>\n",
       "      <td>sedan</td>\n",
       "      <td>1980</td>\n",
       "      <td>manual</td>\n",
       "      <td>50</td>\n",
       "      <td>other</td>\n",
       "      <td>40000</td>\n",
       "      <td>petrol</td>\n",
       "      <td>volkswagen</td>\n",
       "      <td>no</td>\n",
       "    </tr>\n",
       "    <tr>\n",
       "      <th>40</th>\n",
       "      <td>0</td>\n",
       "      <td>other</td>\n",
       "      <td>1990</td>\n",
       "      <td>manual</td>\n",
       "      <td>0</td>\n",
       "      <td>corsa</td>\n",
       "      <td>150000</td>\n",
       "      <td>petrol</td>\n",
       "      <td>opel</td>\n",
       "      <td>yes</td>\n",
       "    </tr>\n",
       "    <tr>\n",
       "      <th>59</th>\n",
       "      <td>1</td>\n",
       "      <td>suv</td>\n",
       "      <td>1994</td>\n",
       "      <td>manual</td>\n",
       "      <td>286</td>\n",
       "      <td>unknown</td>\n",
       "      <td>150000</td>\n",
       "      <td>other</td>\n",
       "      <td>sonstige_autos</td>\n",
       "      <td>yes</td>\n",
       "    </tr>\n",
       "    <tr>\n",
       "      <th>89</th>\n",
       "      <td>1</td>\n",
       "      <td>sedan</td>\n",
       "      <td>1995</td>\n",
       "      <td>manual</td>\n",
       "      <td>113</td>\n",
       "      <td>e_klasse</td>\n",
       "      <td>150000</td>\n",
       "      <td>petrol</td>\n",
       "      <td>mercedes_benz</td>\n",
       "      <td>no</td>\n",
       "    </tr>\n",
       "    <tr>\n",
       "      <th>111</th>\n",
       "      <td>0</td>\n",
       "      <td>other</td>\n",
       "      <td>2017</td>\n",
       "      <td>manual</td>\n",
       "      <td>0</td>\n",
       "      <td>golf</td>\n",
       "      <td>5000</td>\n",
       "      <td>petrol</td>\n",
       "      <td>volkswagen</td>\n",
       "      <td>yes</td>\n",
       "    </tr>\n",
       "    <tr>\n",
       "      <th>...</th>\n",
       "      <td>...</td>\n",
       "      <td>...</td>\n",
       "      <td>...</td>\n",
       "      <td>...</td>\n",
       "      <td>...</td>\n",
       "      <td>...</td>\n",
       "      <td>...</td>\n",
       "      <td>...</td>\n",
       "      <td>...</td>\n",
       "      <td>...</td>\n",
       "    </tr>\n",
       "    <tr>\n",
       "      <th>354201</th>\n",
       "      <td>0</td>\n",
       "      <td>other</td>\n",
       "      <td>2000</td>\n",
       "      <td>manual</td>\n",
       "      <td>65</td>\n",
       "      <td>corsa</td>\n",
       "      <td>150000</td>\n",
       "      <td>other</td>\n",
       "      <td>opel</td>\n",
       "      <td>yes</td>\n",
       "    </tr>\n",
       "    <tr>\n",
       "      <th>354234</th>\n",
       "      <td>0</td>\n",
       "      <td>small</td>\n",
       "      <td>2002</td>\n",
       "      <td>manual</td>\n",
       "      <td>60</td>\n",
       "      <td>fiesta</td>\n",
       "      <td>150000</td>\n",
       "      <td>petrol</td>\n",
       "      <td>ford</td>\n",
       "      <td>yes</td>\n",
       "    </tr>\n",
       "    <tr>\n",
       "      <th>354244</th>\n",
       "      <td>0</td>\n",
       "      <td>small</td>\n",
       "      <td>1999</td>\n",
       "      <td>manual</td>\n",
       "      <td>53</td>\n",
       "      <td>swift</td>\n",
       "      <td>150000</td>\n",
       "      <td>petrol</td>\n",
       "      <td>suzuki</td>\n",
       "      <td>yes</td>\n",
       "    </tr>\n",
       "    <tr>\n",
       "      <th>354273</th>\n",
       "      <td>0</td>\n",
       "      <td>small</td>\n",
       "      <td>1999</td>\n",
       "      <td>manual</td>\n",
       "      <td>37</td>\n",
       "      <td>arosa</td>\n",
       "      <td>150000</td>\n",
       "      <td>petrol</td>\n",
       "      <td>seat</td>\n",
       "      <td>yes</td>\n",
       "    </tr>\n",
       "    <tr>\n",
       "      <th>354360</th>\n",
       "      <td>0</td>\n",
       "      <td>other</td>\n",
       "      <td>2005</td>\n",
       "      <td>manual</td>\n",
       "      <td>0</td>\n",
       "      <td>colt</td>\n",
       "      <td>150000</td>\n",
       "      <td>petrol</td>\n",
       "      <td>mitsubishi</td>\n",
       "      <td>yes</td>\n",
       "    </tr>\n",
       "  </tbody>\n",
       "</table>\n",
       "<p>12423 rows × 10 columns</p>\n",
       "</div>"
      ],
      "text/plain": [
       "        price vehicle_type  registration_year gearbox  power     model  \\\n",
       "7           0        sedan               1980  manual     50     other   \n",
       "40          0        other               1990  manual      0     corsa   \n",
       "59          1          suv               1994  manual    286   unknown   \n",
       "89          1        sedan               1995  manual    113  e_klasse   \n",
       "111         0        other               2017  manual      0      golf   \n",
       "...       ...          ...                ...     ...    ...       ...   \n",
       "354201      0        other               2000  manual     65     corsa   \n",
       "354234      0        small               2002  manual     60    fiesta   \n",
       "354244      0        small               1999  manual     53     swift   \n",
       "354273      0        small               1999  manual     37     arosa   \n",
       "354360      0        other               2005  manual      0      colt   \n",
       "\n",
       "        kilometer fuel_type           brand repaired  \n",
       "7           40000    petrol      volkswagen       no  \n",
       "40         150000    petrol            opel      yes  \n",
       "59         150000     other  sonstige_autos      yes  \n",
       "89         150000    petrol   mercedes_benz       no  \n",
       "111          5000    petrol      volkswagen      yes  \n",
       "...           ...       ...             ...      ...  \n",
       "354201     150000     other            opel      yes  \n",
       "354234     150000    petrol            ford      yes  \n",
       "354244     150000    petrol          suzuki      yes  \n",
       "354273     150000    petrol            seat      yes  \n",
       "354360     150000    petrol      mitsubishi      yes  \n",
       "\n",
       "[12423 rows x 10 columns]"
      ]
     },
     "execution_count": 30,
     "metadata": {},
     "output_type": "execute_result"
    }
   ],
   "source": [
    "df_autos.query('price < 50')"
   ]
  },
  {
   "cell_type": "markdown",
   "metadata": {},
   "source": [
    "Посчитаем долю строк с ценой автомобилей меньше 50 евро:"
   ]
  },
  {
   "cell_type": "code",
   "execution_count": 31,
   "metadata": {},
   "outputs": [
    {
     "name": "stdout",
     "output_type": "stream",
     "text": [
      "Доля автомобилей с ценой, равной нулю: \n",
      "    3.505667820830829 %\n",
      "    \n"
     ]
    }
   ],
   "source": [
    "print(f'''Доля автомобилей с ценой, равной нулю: \n",
    "    {(len(df_autos.query('price < 50')) / len(df_autos_control)) * 100} %\n",
    "    ''')"
   ]
  },
  {
   "cell_type": "markdown",
   "metadata": {},
   "source": [
    "Доля автомобилей с ценой меньше 50 евро от общего числа автомобилей составляет всего 3,5%. Удалим их. "
   ]
  },
  {
   "cell_type": "code",
   "execution_count": 32,
   "metadata": {
    "scrolled": true
   },
   "outputs": [
    {
     "data": {
      "text/plain": [
       "count    341942.000000\n",
       "mean       4577.108556\n",
       "std        4514.861088\n",
       "min          50.000000\n",
       "25%        1200.000000\n",
       "50%        2900.000000\n",
       "75%        6500.000000\n",
       "max       20000.000000\n",
       "Name: price, dtype: float64"
      ]
     },
     "execution_count": 32,
     "metadata": {},
     "output_type": "execute_result"
    }
   ],
   "source": [
    "df_autos = df_autos.query('price >= 50')\n",
    "\n",
    "df_autos['price'].describe()"
   ]
  },
  {
   "cell_type": "code",
   "execution_count": 33,
   "metadata": {},
   "outputs": [
    {
     "data": {
      "image/png": "[encoded data removed]",
      "text/plain": [
       "<Figure size 1008x504 with 2 Axes>"
      ]
     },
     "metadata": {},
     "output_type": "display_data"
    }
   ],
   "source": [
    "viz_num_character('price', 'Распределение цен автомобилей (в евро) - целевой признак, без аномалий', 19)"
   ]
  },
  {
   "cell_type": "markdown",
   "metadata": {},
   "source": [
    "**Вывод**: средняя цена автомобиля 4577.11 евро, медиана - 2900 евро. Аномальные значения (цена меньше 50 евро) удалены."
   ]
  },
  {
   "cell_type": "code",
   "execution_count": 34,
   "metadata": {},
   "outputs": [
    {
     "data": {
      "image/png": "[encoded data removed]",
      "text/plain": [
       "<Figure size 1008x576 with 1 Axes>"
      ]
     },
     "metadata": {},
     "output_type": "display_data"
    },
    {
     "data": {
      "text/html": [
       "<div>\n",
       "<style scoped>\n",
       "    .dataframe tbody tr th:only-of-type {\n",
       "        vertical-align: middle;\n",
       "    }\n",
       "\n",
       "    .dataframe tbody tr th {\n",
       "        vertical-align: top;\n",
       "    }\n",
       "\n",
       "    .dataframe thead th {\n",
       "        text-align: right;\n",
       "    }\n",
       "</style>\n",
       "<table border=\"1\" class=\"dataframe\">\n",
       "  <thead>\n",
       "    <tr style=\"text-align: right;\">\n",
       "      <th></th>\n",
       "      <th>тип кузова</th>\n",
       "      <th>доля, %</th>\n",
       "    </tr>\n",
       "  </thead>\n",
       "  <tbody>\n",
       "    <tr>\n",
       "      <th>0</th>\n",
       "      <td>sedan</td>\n",
       "      <td>26.077229</td>\n",
       "    </tr>\n",
       "    <tr>\n",
       "      <th>1</th>\n",
       "      <td>small</td>\n",
       "      <td>22.749765</td>\n",
       "    </tr>\n",
       "    <tr>\n",
       "      <th>2</th>\n",
       "      <td>wagon</td>\n",
       "      <td>18.577127</td>\n",
       "    </tr>\n",
       "    <tr>\n",
       "      <th>3</th>\n",
       "      <td>other</td>\n",
       "      <td>10.538337</td>\n",
       "    </tr>\n",
       "    <tr>\n",
       "      <th>4</th>\n",
       "      <td>bus</td>\n",
       "      <td>8.268069</td>\n",
       "    </tr>\n",
       "    <tr>\n",
       "      <th>5</th>\n",
       "      <td>convertible</td>\n",
       "      <td>5.796305</td>\n",
       "    </tr>\n",
       "    <tr>\n",
       "      <th>6</th>\n",
       "      <td>coupe</td>\n",
       "      <td>4.552234</td>\n",
       "    </tr>\n",
       "    <tr>\n",
       "      <th>7</th>\n",
       "      <td>suv</td>\n",
       "      <td>3.440934</td>\n",
       "    </tr>\n",
       "  </tbody>\n",
       "</table>\n",
       "</div>"
      ],
      "text/plain": [
       "    тип кузова    доля, %\n",
       "0        sedan  26.077229\n",
       "1        small  22.749765\n",
       "2        wagon  18.577127\n",
       "3        other  10.538337\n",
       "4          bus   8.268069\n",
       "5  convertible   5.796305\n",
       "6        coupe   4.552234\n",
       "7          suv   3.440934"
      ]
     },
     "execution_count": 34,
     "metadata": {},
     "output_type": "execute_result"
    }
   ],
   "source": [
    "viz_bar_character('vehicle_type', 'Автомобили по типу кузова')\n",
    "\n",
    "df_autos_vehicle_type = (df_autos['vehicle_type'].value_counts(normalize=True) * 100)\n",
    "df_autos_vehicle_type.rename_axis('тип кузова').reset_index(name='доля, %')"
   ]
  },
  {
   "cell_type": "markdown",
   "metadata": {},
   "source": [
    "**Вывод**: больше всего в данных представлено автомобилей с типом кузова седан (sedan) - 26% и хэтчбэки (small) - 22.7%, меньше всего купе (coupe) - 4.55% и внедорожники (suv) - 3.44%."
   ]
  },
  {
   "cell_type": "code",
   "execution_count": 35,
   "metadata": {},
   "outputs": [
    {
     "data": {
      "image/png": "[encoded data removed]",
      "text/plain": [
       "<Figure size 1008x504 with 2 Axes>"
      ]
     },
     "metadata": {},
     "output_type": "display_data"
    }
   ],
   "source": [
    "viz_num_character('registration_year', 'Распределение автомобилей по году регистрации', 19)"
   ]
  },
  {
   "cell_type": "markdown",
   "metadata": {},
   "source": [
    "Имеем аномальные значения - автомобили не могут иметь год регистрации позже даты скачивания анкеты (2016 год) и ранее 1908 года, т.к. первый массовый автомобиль начал выпускаться именно в этом году. Считаем, что в данных мы имеем и раритетные авто с 1908 года. Определим долю аномальных значений от общего числа:"
   ]
  },
  {
   "cell_type": "code",
   "execution_count": 36,
   "metadata": {},
   "outputs": [
    {
     "name": "stdout",
     "output_type": "stream",
     "text": [
      "Доля автомобилей с годом регистрации позже 2016 года и ранее 1908 года: \n",
      "    3.8801362421656522 %\n",
      "Количество строк:\n",
      "    13750\n",
      "    \n"
     ]
    }
   ],
   "source": [
    "print(f'''Доля автомобилей с годом регистрации позже 2016 года и ранее 1908 года: \n",
    "    {(len(df_autos.query('registration_year > 2016 or registration_year < 1908')) / len(df_autos_control)) * 100} %\n",
    "Количество строк:\n",
    "    {len(df_autos.query('registration_year > 2016 or registration_year < 1908'))}\n",
    "    ''')"
   ]
  },
  {
   "cell_type": "markdown",
   "metadata": {},
   "source": [
    "Удаляем аномальные значения (3.88%) из датафрейма:"
   ]
  },
  {
   "cell_type": "code",
   "execution_count": 37,
   "metadata": {},
   "outputs": [
    {
     "data": {
      "text/plain": [
       "count    328192.000000\n",
       "mean       2002.613053\n",
       "std           6.877197\n",
       "min        1910.000000\n",
       "25%        1999.000000\n",
       "50%        2003.000000\n",
       "75%        2007.000000\n",
       "max        2016.000000\n",
       "Name: registration_year, dtype: float64"
      ]
     },
     "execution_count": 37,
     "metadata": {},
     "output_type": "execute_result"
    }
   ],
   "source": [
    "df_autos = df_autos.query('registration_year <= 2016 and registration_year >= 1908')\n",
    "\n",
    "df_autos['registration_year'].describe()"
   ]
  },
  {
   "cell_type": "code",
   "execution_count": 38,
   "metadata": {},
   "outputs": [
    {
     "data": {
      "image/png": "[encoded data removed]",
      "text/plain": [
       "<Figure size 1008x504 with 2 Axes>"
      ]
     },
     "metadata": {},
     "output_type": "display_data"
    }
   ],
   "source": [
    "viz_num_character('registration_year', 'Распределение автомобилей по году регистрации без аномалий', 19)"
   ]
  },
  {
   "cell_type": "markdown",
   "metadata": {},
   "source": [
    "**Вывод**: имеем данные по автомобилям с годом регистрации от 1910 по 2016. Медиана - 2003 год, среднее = 2002 год. С 1990 года заметен значительный рост количества автомобилей. Увеличение доходов населения в развивающихся странах привело к большей покупательской способности, что позволило многим людям приобретать автомобили. Также, развитие дорожной сети и общественного транспорта сделало использование личного автомобиля более удобным и безопасным.\n",
    "\n",
    "Аномалии (до 1908 и позже 2016 года) удалены из датасета."
   ]
  },
  {
   "cell_type": "code",
   "execution_count": 39,
   "metadata": {},
   "outputs": [
    {
     "data": {
      "image/png": "[encoded data removed]",
      "text/plain": [
       "<Figure size 1008x576 with 1 Axes>"
      ]
     },
     "metadata": {},
     "output_type": "display_data"
    },
    {
     "data": {
      "text/html": [
       "<div>\n",
       "<style scoped>\n",
       "    .dataframe tbody tr th:only-of-type {\n",
       "        vertical-align: middle;\n",
       "    }\n",
       "\n",
       "    .dataframe tbody tr th {\n",
       "        vertical-align: top;\n",
       "    }\n",
       "\n",
       "    .dataframe thead th {\n",
       "        text-align: right;\n",
       "    }\n",
       "</style>\n",
       "<table border=\"1\" class=\"dataframe\">\n",
       "  <thead>\n",
       "    <tr style=\"text-align: right;\">\n",
       "      <th></th>\n",
       "      <th>тип коробки передач</th>\n",
       "      <th>доля, %</th>\n",
       "    </tr>\n",
       "  </thead>\n",
       "  <tbody>\n",
       "    <tr>\n",
       "      <th>0</th>\n",
       "      <td>manual</td>\n",
       "      <td>80.855414</td>\n",
       "    </tr>\n",
       "    <tr>\n",
       "      <th>1</th>\n",
       "      <td>auto</td>\n",
       "      <td>19.144586</td>\n",
       "    </tr>\n",
       "  </tbody>\n",
       "</table>\n",
       "</div>"
      ],
      "text/plain": [
       "  тип коробки передач    доля, %\n",
       "0              manual  80.855414\n",
       "1                auto  19.144586"
      ]
     },
     "execution_count": 39,
     "metadata": {},
     "output_type": "execute_result"
    }
   ],
   "source": [
    "viz_bar_character('gearbox', 'Автомобили по типу коробки передач')\n",
    "\n",
    "df_autos_gearbox = (df_autos['gearbox'].value_counts(normalize=True) * 100)\n",
    "df_autos_gearbox.rename_axis('тип коробки передач').reset_index(name='доля, %')"
   ]
  },
  {
   "cell_type": "markdown",
   "metadata": {},
   "source": [
    "**Вывод**: больше всего автомобилей с механической коробкой передач (80.85%), с автоматической - 19.14%."
   ]
  },
  {
   "cell_type": "code",
   "execution_count": 40,
   "metadata": {},
   "outputs": [
    {
     "data": {
      "image/png": "[encoded data removed]",
      "text/plain": [
       "<Figure size 1008x504 with 2 Axes>"
      ]
     },
     "metadata": {},
     "output_type": "display_data"
    }
   ],
   "source": [
    "viz_num_character('power', 'Распределение автомобилей по мощности (л.с.)', 19)"
   ]
  },
  {
   "cell_type": "markdown",
   "metadata": {},
   "source": [
    "Имеем аномальные значения, посмотрим их:"
   ]
  },
  {
   "cell_type": "code",
   "execution_count": 41,
   "metadata": {},
   "outputs": [
    {
     "data": {
      "text/html": [
       "<div>\n",
       "<style scoped>\n",
       "    .dataframe tbody tr th:only-of-type {\n",
       "        vertical-align: middle;\n",
       "    }\n",
       "\n",
       "    .dataframe tbody tr th {\n",
       "        vertical-align: top;\n",
       "    }\n",
       "\n",
       "    .dataframe thead th {\n",
       "        text-align: right;\n",
       "    }\n",
       "</style>\n",
       "<table border=\"1\" class=\"dataframe\">\n",
       "  <thead>\n",
       "    <tr style=\"text-align: right;\">\n",
       "      <th></th>\n",
       "      <th>price</th>\n",
       "      <th>vehicle_type</th>\n",
       "      <th>registration_year</th>\n",
       "      <th>gearbox</th>\n",
       "      <th>power</th>\n",
       "      <th>model</th>\n",
       "      <th>kilometer</th>\n",
       "      <th>fuel_type</th>\n",
       "      <th>brand</th>\n",
       "      <th>repaired</th>\n",
       "    </tr>\n",
       "  </thead>\n",
       "  <tbody>\n",
       "    <tr>\n",
       "      <th>0</th>\n",
       "      <td>480</td>\n",
       "      <td>other</td>\n",
       "      <td>1993</td>\n",
       "      <td>manual</td>\n",
       "      <td>0</td>\n",
       "      <td>golf</td>\n",
       "      <td>150000</td>\n",
       "      <td>petrol</td>\n",
       "      <td>volkswagen</td>\n",
       "      <td>yes</td>\n",
       "    </tr>\n",
       "    <tr>\n",
       "      <th>15</th>\n",
       "      <td>450</td>\n",
       "      <td>small</td>\n",
       "      <td>1910</td>\n",
       "      <td>manual</td>\n",
       "      <td>0</td>\n",
       "      <td>ka</td>\n",
       "      <td>5000</td>\n",
       "      <td>petrol</td>\n",
       "      <td>ford</td>\n",
       "      <td>yes</td>\n",
       "    </tr>\n",
       "    <tr>\n",
       "      <th>32</th>\n",
       "      <td>245</td>\n",
       "      <td>sedan</td>\n",
       "      <td>1994</td>\n",
       "      <td>manual</td>\n",
       "      <td>0</td>\n",
       "      <td>golf</td>\n",
       "      <td>150000</td>\n",
       "      <td>petrol</td>\n",
       "      <td>volkswagen</td>\n",
       "      <td>no</td>\n",
       "    </tr>\n",
       "    <tr>\n",
       "      <th>37</th>\n",
       "      <td>1500</td>\n",
       "      <td>other</td>\n",
       "      <td>2016</td>\n",
       "      <td>manual</td>\n",
       "      <td>0</td>\n",
       "      <td>kangoo</td>\n",
       "      <td>150000</td>\n",
       "      <td>petrol</td>\n",
       "      <td>renault</td>\n",
       "      <td>no</td>\n",
       "    </tr>\n",
       "    <tr>\n",
       "      <th>54</th>\n",
       "      <td>4700</td>\n",
       "      <td>wagon</td>\n",
       "      <td>2005</td>\n",
       "      <td>manual</td>\n",
       "      <td>0</td>\n",
       "      <td>signum</td>\n",
       "      <td>150000</td>\n",
       "      <td>other</td>\n",
       "      <td>opel</td>\n",
       "      <td>no</td>\n",
       "    </tr>\n",
       "    <tr>\n",
       "      <th>...</th>\n",
       "      <td>...</td>\n",
       "      <td>...</td>\n",
       "      <td>...</td>\n",
       "      <td>...</td>\n",
       "      <td>...</td>\n",
       "      <td>...</td>\n",
       "      <td>...</td>\n",
       "      <td>...</td>\n",
       "      <td>...</td>\n",
       "      <td>...</td>\n",
       "    </tr>\n",
       "    <tr>\n",
       "      <th>354332</th>\n",
       "      <td>3299</td>\n",
       "      <td>other</td>\n",
       "      <td>2005</td>\n",
       "      <td>auto</td>\n",
       "      <td>0</td>\n",
       "      <td>outlander</td>\n",
       "      <td>150000</td>\n",
       "      <td>petrol</td>\n",
       "      <td>mitsubishi</td>\n",
       "      <td>yes</td>\n",
       "    </tr>\n",
       "    <tr>\n",
       "      <th>354334</th>\n",
       "      <td>180</td>\n",
       "      <td>other</td>\n",
       "      <td>1995</td>\n",
       "      <td>manual</td>\n",
       "      <td>0</td>\n",
       "      <td>unknown</td>\n",
       "      <td>125000</td>\n",
       "      <td>petrol</td>\n",
       "      <td>opel</td>\n",
       "      <td>yes</td>\n",
       "    </tr>\n",
       "    <tr>\n",
       "      <th>354342</th>\n",
       "      <td>2600</td>\n",
       "      <td>other</td>\n",
       "      <td>2005</td>\n",
       "      <td>auto</td>\n",
       "      <td>0</td>\n",
       "      <td>c_klasse</td>\n",
       "      <td>150000</td>\n",
       "      <td>other</td>\n",
       "      <td>mercedes_benz</td>\n",
       "      <td>yes</td>\n",
       "    </tr>\n",
       "    <tr>\n",
       "      <th>354359</th>\n",
       "      <td>1150</td>\n",
       "      <td>bus</td>\n",
       "      <td>2000</td>\n",
       "      <td>manual</td>\n",
       "      <td>0</td>\n",
       "      <td>zafira</td>\n",
       "      <td>150000</td>\n",
       "      <td>petrol</td>\n",
       "      <td>opel</td>\n",
       "      <td>no</td>\n",
       "    </tr>\n",
       "    <tr>\n",
       "      <th>354361</th>\n",
       "      <td>2200</td>\n",
       "      <td>other</td>\n",
       "      <td>2005</td>\n",
       "      <td>manual</td>\n",
       "      <td>0</td>\n",
       "      <td>unknown</td>\n",
       "      <td>20000</td>\n",
       "      <td>other</td>\n",
       "      <td>sonstige_autos</td>\n",
       "      <td>yes</td>\n",
       "    </tr>\n",
       "  </tbody>\n",
       "</table>\n",
       "<p>32067 rows × 10 columns</p>\n",
       "</div>"
      ],
      "text/plain": [
       "        price vehicle_type  registration_year gearbox  power      model  \\\n",
       "0         480        other               1993  manual      0       golf   \n",
       "15        450        small               1910  manual      0         ka   \n",
       "32        245        sedan               1994  manual      0       golf   \n",
       "37       1500        other               2016  manual      0     kangoo   \n",
       "54       4700        wagon               2005  manual      0     signum   \n",
       "...       ...          ...                ...     ...    ...        ...   \n",
       "354332   3299        other               2005    auto      0  outlander   \n",
       "354334    180        other               1995  manual      0    unknown   \n",
       "354342   2600        other               2005    auto      0   c_klasse   \n",
       "354359   1150          bus               2000  manual      0     zafira   \n",
       "354361   2200        other               2005  manual      0    unknown   \n",
       "\n",
       "        kilometer fuel_type           brand repaired  \n",
       "0          150000    petrol      volkswagen      yes  \n",
       "15           5000    petrol            ford      yes  \n",
       "32         150000    petrol      volkswagen       no  \n",
       "37         150000    petrol         renault       no  \n",
       "54         150000     other            opel       no  \n",
       "...           ...       ...             ...      ...  \n",
       "354332     150000    petrol      mitsubishi      yes  \n",
       "354334     125000    petrol            opel      yes  \n",
       "354342     150000     other   mercedes_benz      yes  \n",
       "354359     150000    petrol            opel       no  \n",
       "354361      20000     other  sonstige_autos      yes  \n",
       "\n",
       "[32067 rows x 10 columns]"
      ]
     },
     "execution_count": 41,
     "metadata": {},
     "output_type": "execute_result"
    }
   ],
   "source": [
    "df_autos.query('power == 0')"
   ]
  },
  {
   "cell_type": "markdown",
   "metadata": {},
   "source": [
    "Заменим мощность, равную нулю, на медианное значение по модели автомобиля:"
   ]
  },
  {
   "cell_type": "code",
   "execution_count": 42,
   "metadata": {},
   "outputs": [
    {
     "name": "stdout",
     "output_type": "stream",
     "text": [
      "Проверяем замену. Количество строк, где мощность равна нулю:  0\n"
     ]
    }
   ],
   "source": [
    "df_autos['power'] = df_autos['power'].replace(0, np.NaN) \\\n",
    ".fillna(df_autos.groupby('model')['power'].transform(lambda x: x.median() if x.median() else np.nan))\n",
    "\n",
    "print('Проверяем замену. Количество строк, где мощность равна нулю: ', len(df_autos.query('power == 0')))"
   ]
  },
  {
   "cell_type": "code",
   "execution_count": 43,
   "metadata": {},
   "outputs": [
    {
     "data": {
      "text/html": [
       "<div>\n",
       "<style scoped>\n",
       "    .dataframe tbody tr th:only-of-type {\n",
       "        vertical-align: middle;\n",
       "    }\n",
       "\n",
       "    .dataframe tbody tr th {\n",
       "        vertical-align: top;\n",
       "    }\n",
       "\n",
       "    .dataframe thead th {\n",
       "        text-align: right;\n",
       "    }\n",
       "</style>\n",
       "<table border=\"1\" class=\"dataframe\">\n",
       "  <thead>\n",
       "    <tr style=\"text-align: right;\">\n",
       "      <th></th>\n",
       "      <th>price</th>\n",
       "      <th>vehicle_type</th>\n",
       "      <th>registration_year</th>\n",
       "      <th>gearbox</th>\n",
       "      <th>power</th>\n",
       "      <th>model</th>\n",
       "      <th>kilometer</th>\n",
       "      <th>fuel_type</th>\n",
       "      <th>brand</th>\n",
       "      <th>repaired</th>\n",
       "    </tr>\n",
       "  </thead>\n",
       "  <tbody>\n",
       "    <tr>\n",
       "      <th>431</th>\n",
       "      <td>3950</td>\n",
       "      <td>small</td>\n",
       "      <td>2004</td>\n",
       "      <td>auto</td>\n",
       "      <td>5.0</td>\n",
       "      <td>unknown</td>\n",
       "      <td>70000</td>\n",
       "      <td>petrol</td>\n",
       "      <td>sonstige_autos</td>\n",
       "      <td>no</td>\n",
       "    </tr>\n",
       "    <tr>\n",
       "      <th>1816</th>\n",
       "      <td>3200</td>\n",
       "      <td>small</td>\n",
       "      <td>2004</td>\n",
       "      <td>manual</td>\n",
       "      <td>1398.0</td>\n",
       "      <td>corolla</td>\n",
       "      <td>5000</td>\n",
       "      <td>petrol</td>\n",
       "      <td>toyota</td>\n",
       "      <td>no</td>\n",
       "    </tr>\n",
       "    <tr>\n",
       "      <th>3349</th>\n",
       "      <td>1990</td>\n",
       "      <td>small</td>\n",
       "      <td>2004</td>\n",
       "      <td>manual</td>\n",
       "      <td>7.0</td>\n",
       "      <td>polo</td>\n",
       "      <td>150000</td>\n",
       "      <td>petrol</td>\n",
       "      <td>volkswagen</td>\n",
       "      <td>no</td>\n",
       "    </tr>\n",
       "    <tr>\n",
       "      <th>4060</th>\n",
       "      <td>3100</td>\n",
       "      <td>sedan</td>\n",
       "      <td>2005</td>\n",
       "      <td>manual</td>\n",
       "      <td>953.0</td>\n",
       "      <td>colt</td>\n",
       "      <td>150000</td>\n",
       "      <td>petrol</td>\n",
       "      <td>mitsubishi</td>\n",
       "      <td>no</td>\n",
       "    </tr>\n",
       "    <tr>\n",
       "      <th>5328</th>\n",
       "      <td>500</td>\n",
       "      <td>wagon</td>\n",
       "      <td>1999</td>\n",
       "      <td>manual</td>\n",
       "      <td>1001.0</td>\n",
       "      <td>astra</td>\n",
       "      <td>150000</td>\n",
       "      <td>petrol</td>\n",
       "      <td>opel</td>\n",
       "      <td>yes</td>\n",
       "    </tr>\n",
       "    <tr>\n",
       "      <th>...</th>\n",
       "      <td>...</td>\n",
       "      <td>...</td>\n",
       "      <td>...</td>\n",
       "      <td>...</td>\n",
       "      <td>...</td>\n",
       "      <td>...</td>\n",
       "      <td>...</td>\n",
       "      <td>...</td>\n",
       "      <td>...</td>\n",
       "      <td>...</td>\n",
       "    </tr>\n",
       "    <tr>\n",
       "      <th>351943</th>\n",
       "      <td>1500</td>\n",
       "      <td>bus</td>\n",
       "      <td>2001</td>\n",
       "      <td>manual</td>\n",
       "      <td>1001.0</td>\n",
       "      <td>zafira</td>\n",
       "      <td>5000</td>\n",
       "      <td>petrol</td>\n",
       "      <td>opel</td>\n",
       "      <td>no</td>\n",
       "    </tr>\n",
       "    <tr>\n",
       "      <th>353123</th>\n",
       "      <td>8600</td>\n",
       "      <td>convertible</td>\n",
       "      <td>2012</td>\n",
       "      <td>manual</td>\n",
       "      <td>8.0</td>\n",
       "      <td>unknown</td>\n",
       "      <td>5000</td>\n",
       "      <td>petrol</td>\n",
       "      <td>sonstige_autos</td>\n",
       "      <td>no</td>\n",
       "    </tr>\n",
       "    <tr>\n",
       "      <th>353629</th>\n",
       "      <td>2400</td>\n",
       "      <td>sedan</td>\n",
       "      <td>2007</td>\n",
       "      <td>manual</td>\n",
       "      <td>650.0</td>\n",
       "      <td>c2</td>\n",
       "      <td>150000</td>\n",
       "      <td>petrol</td>\n",
       "      <td>citroen</td>\n",
       "      <td>yes</td>\n",
       "    </tr>\n",
       "    <tr>\n",
       "      <th>354256</th>\n",
       "      <td>399</td>\n",
       "      <td>other</td>\n",
       "      <td>1994</td>\n",
       "      <td>manual</td>\n",
       "      <td>1103.0</td>\n",
       "      <td>3er</td>\n",
       "      <td>150000</td>\n",
       "      <td>other</td>\n",
       "      <td>bmw</td>\n",
       "      <td>yes</td>\n",
       "    </tr>\n",
       "    <tr>\n",
       "      <th>354356</th>\n",
       "      <td>3999</td>\n",
       "      <td>wagon</td>\n",
       "      <td>2005</td>\n",
       "      <td>manual</td>\n",
       "      <td>3.0</td>\n",
       "      <td>3er</td>\n",
       "      <td>150000</td>\n",
       "      <td>petrol</td>\n",
       "      <td>bmw</td>\n",
       "      <td>no</td>\n",
       "    </tr>\n",
       "  </tbody>\n",
       "</table>\n",
       "<p>636 rows × 10 columns</p>\n",
       "</div>"
      ],
      "text/plain": [
       "        price vehicle_type  registration_year gearbox   power    model  \\\n",
       "431      3950        small               2004    auto     5.0  unknown   \n",
       "1816     3200        small               2004  manual  1398.0  corolla   \n",
       "3349     1990        small               2004  manual     7.0     polo   \n",
       "4060     3100        sedan               2005  manual   953.0     colt   \n",
       "5328      500        wagon               1999  manual  1001.0    astra   \n",
       "...       ...          ...                ...     ...     ...      ...   \n",
       "351943   1500          bus               2001  manual  1001.0   zafira   \n",
       "353123   8600  convertible               2012  manual     8.0  unknown   \n",
       "353629   2400        sedan               2007  manual   650.0       c2   \n",
       "354256    399        other               1994  manual  1103.0      3er   \n",
       "354356   3999        wagon               2005  manual     3.0      3er   \n",
       "\n",
       "        kilometer fuel_type           brand repaired  \n",
       "431         70000    petrol  sonstige_autos       no  \n",
       "1816         5000    petrol          toyota       no  \n",
       "3349       150000    petrol      volkswagen       no  \n",
       "4060       150000    petrol      mitsubishi       no  \n",
       "5328       150000    petrol            opel      yes  \n",
       "...           ...       ...             ...      ...  \n",
       "351943       5000    petrol            opel       no  \n",
       "353123       5000    petrol  sonstige_autos       no  \n",
       "353629     150000    petrol         citroen      yes  \n",
       "354256     150000     other             bmw      yes  \n",
       "354356     150000    petrol             bmw       no  \n",
       "\n",
       "[636 rows x 10 columns]"
      ]
     },
     "execution_count": 43,
     "metadata": {},
     "output_type": "execute_result"
    }
   ],
   "source": [
    "df_autos.query('power >= 500 or power <=10')"
   ]
  },
  {
   "cell_type": "markdown",
   "metadata": {},
   "source": [
    "Считаю данные строки аномалиями, т.к. такие автомобили не могут иметь указанную мощность. Например, Fiat Punto и Сhevrolet Мatiz - это малолитражные автомобили эконом-класса, которые не могут иметь мощность 771 и 603 л.с. соотвественно. Автомобили с мощностью до 10 л.с. не допускаются к использованию на дорогах общего пользования и они практически никогда не выпускались, следовательно, автомобили (согласно данным в датасете) не могут иметь такие значения мощности. Количество строк не так велико, удаляем:"
   ]
  },
  {
   "cell_type": "code",
   "execution_count": 44,
   "metadata": {},
   "outputs": [
    {
     "name": "stdout",
     "output_type": "stream",
     "text": [
      "Проверяем. Количество строк, где мощность от 10 до 500 л.с.:  0\n"
     ]
    },
    {
     "data": {
      "text/plain": [
       "count    327548.000000\n",
       "mean        118.705252\n",
       "std          52.297490\n",
       "min          11.000000\n",
       "25%          75.000000\n",
       "50%         109.000000\n",
       "75%         145.000000\n",
       "max         490.000000\n",
       "Name: power, dtype: float64"
      ]
     },
     "execution_count": 44,
     "metadata": {},
     "output_type": "execute_result"
    }
   ],
   "source": [
    "df_autos = df_autos.query('power < 500 and power > 10')\n",
    "\n",
    "print('Проверяем. Количество строк, где мощность от 10 до 500 л.с.: ', len(df_autos.query('power >= 500 and power <= 10')))\n",
    "\n",
    "df_autos['power'].describe()"
   ]
  },
  {
   "cell_type": "code",
   "execution_count": 45,
   "metadata": {},
   "outputs": [
    {
     "data": {
      "image/png": "[encoded data removed]",
      "text/plain": [
       "<Figure size 1008x504 with 2 Axes>"
      ]
     },
     "metadata": {},
     "output_type": "display_data"
    }
   ],
   "source": [
    "viz_num_character('power', 'Распределение автомобилей по мощности (л.с.) без аномалий', 19)"
   ]
  },
  {
   "cell_type": "markdown",
   "metadata": {},
   "source": [
    "**Вывод**: средняя мощность автомобилей 118.71 л.с., медиана - 109 л.с. Общее распределение мощности от 11 до 490 л.с. Аномальные значения, где мощность равна нулю, заменены медианой по модели автомобиля, значения от 0 до 10 удалены, значения свыше 500 л.с. - удалены."
   ]
  },
  {
   "cell_type": "code",
   "execution_count": 46,
   "metadata": {},
   "outputs": [
    {
     "data": {
      "image/png": "[encoded data removed]",
      "text/plain": [
       "<Figure size 1008x576 with 1 Axes>"
      ]
     },
     "metadata": {},
     "output_type": "display_data"
    },
    {
     "data": {
      "text/html": [
       "<div>\n",
       "<style scoped>\n",
       "    .dataframe tbody tr th:only-of-type {\n",
       "        vertical-align: middle;\n",
       "    }\n",
       "\n",
       "    .dataframe tbody tr th {\n",
       "        vertical-align: top;\n",
       "    }\n",
       "\n",
       "    .dataframe thead th {\n",
       "        text-align: right;\n",
       "    }\n",
       "</style>\n",
       "<table border=\"1\" class=\"dataframe\">\n",
       "  <thead>\n",
       "    <tr style=\"text-align: right;\">\n",
       "      <th></th>\n",
       "      <th>пробег</th>\n",
       "      <th>доля, %</th>\n",
       "    </tr>\n",
       "  </thead>\n",
       "  <tbody>\n",
       "    <tr>\n",
       "      <th>0</th>\n",
       "      <td>150000</td>\n",
       "      <td>66.937365</td>\n",
       "    </tr>\n",
       "    <tr>\n",
       "      <th>1</th>\n",
       "      <td>125000</td>\n",
       "      <td>10.468695</td>\n",
       "    </tr>\n",
       "    <tr>\n",
       "      <th>2</th>\n",
       "      <td>100000</td>\n",
       "      <td>4.247011</td>\n",
       "    </tr>\n",
       "    <tr>\n",
       "      <th>3</th>\n",
       "      <td>90000</td>\n",
       "      <td>3.361339</td>\n",
       "    </tr>\n",
       "    <tr>\n",
       "      <th>4</th>\n",
       "      <td>80000</td>\n",
       "      <td>2.924457</td>\n",
       "    </tr>\n",
       "    <tr>\n",
       "      <th>5</th>\n",
       "      <td>70000</td>\n",
       "      <td>2.514135</td>\n",
       "    </tr>\n",
       "    <tr>\n",
       "      <th>6</th>\n",
       "      <td>60000</td>\n",
       "      <td>2.196319</td>\n",
       "    </tr>\n",
       "    <tr>\n",
       "      <th>7</th>\n",
       "      <td>50000</td>\n",
       "      <td>1.820497</td>\n",
       "    </tr>\n",
       "    <tr>\n",
       "      <th>8</th>\n",
       "      <td>40000</td>\n",
       "      <td>1.445590</td>\n",
       "    </tr>\n",
       "    <tr>\n",
       "      <th>9</th>\n",
       "      <td>5000</td>\n",
       "      <td>1.390025</td>\n",
       "    </tr>\n",
       "    <tr>\n",
       "      <th>10</th>\n",
       "      <td>30000</td>\n",
       "      <td>1.273401</td>\n",
       "    </tr>\n",
       "    <tr>\n",
       "      <th>11</th>\n",
       "      <td>20000</td>\n",
       "      <td>1.105182</td>\n",
       "    </tr>\n",
       "    <tr>\n",
       "      <th>12</th>\n",
       "      <td>10000</td>\n",
       "      <td>0.315984</td>\n",
       "    </tr>\n",
       "  </tbody>\n",
       "</table>\n",
       "</div>"
      ],
      "text/plain": [
       "    пробег    доля, %\n",
       "0   150000  66.937365\n",
       "1   125000  10.468695\n",
       "2   100000   4.247011\n",
       "3    90000   3.361339\n",
       "4    80000   2.924457\n",
       "5    70000   2.514135\n",
       "6    60000   2.196319\n",
       "7    50000   1.820497\n",
       "8    40000   1.445590\n",
       "9     5000   1.390025\n",
       "10   30000   1.273401\n",
       "11   20000   1.105182\n",
       "12   10000   0.315984"
      ]
     },
     "execution_count": 46,
     "metadata": {},
     "output_type": "execute_result"
    }
   ],
   "source": [
    "viz_bar_character('kilometer', 'Распределение автомобилей по пробегу (км)')\n",
    "\n",
    "df_autos_gearbox = (df_autos['kilometer'].value_counts(normalize=True) * 100)\n",
    "df_autos_gearbox.rename_axis('пробег').reset_index(name='доля, %')"
   ]
  },
  {
   "cell_type": "markdown",
   "metadata": {},
   "source": [
    "**Вывод**: у данного признака определить аномалии нет возможности, т.к. пробег автомобиля может быть любым. Данный показатель разбит по категориям. Больше всего автомобилей с пробегом в категории 150000 - почти 67%, меньше всего - категория 10000 - 0.31%."
   ]
  },
  {
   "cell_type": "code",
   "execution_count": 47,
   "metadata": {},
   "outputs": [
    {
     "data": {
      "image/png": "[encoded data removed]",
      "text/plain": [
       "<Figure size 1008x576 with 1 Axes>"
      ]
     },
     "metadata": {},
     "output_type": "display_data"
    },
    {
     "data": {
      "text/html": [
       "<div>\n",
       "<style scoped>\n",
       "    .dataframe tbody tr th:only-of-type {\n",
       "        vertical-align: middle;\n",
       "    }\n",
       "\n",
       "    .dataframe tbody tr th {\n",
       "        vertical-align: top;\n",
       "    }\n",
       "\n",
       "    .dataframe thead th {\n",
       "        text-align: right;\n",
       "    }\n",
       "</style>\n",
       "<table border=\"1\" class=\"dataframe\">\n",
       "  <thead>\n",
       "    <tr style=\"text-align: right;\">\n",
       "      <th></th>\n",
       "      <th>тип топлива</th>\n",
       "      <th>доля, %</th>\n",
       "    </tr>\n",
       "  </thead>\n",
       "  <tbody>\n",
       "    <tr>\n",
       "      <th>0</th>\n",
       "      <td>petrol</td>\n",
       "      <td>91.043755</td>\n",
       "    </tr>\n",
       "    <tr>\n",
       "      <th>1</th>\n",
       "      <td>other</td>\n",
       "      <td>7.177269</td>\n",
       "    </tr>\n",
       "    <tr>\n",
       "      <th>2</th>\n",
       "      <td>lpg</td>\n",
       "      <td>1.528631</td>\n",
       "    </tr>\n",
       "    <tr>\n",
       "      <th>3</th>\n",
       "      <td>cng</td>\n",
       "      <td>0.161198</td>\n",
       "    </tr>\n",
       "    <tr>\n",
       "      <th>4</th>\n",
       "      <td>hybrid</td>\n",
       "      <td>0.066860</td>\n",
       "    </tr>\n",
       "    <tr>\n",
       "      <th>5</th>\n",
       "      <td>electric</td>\n",
       "      <td>0.022287</td>\n",
       "    </tr>\n",
       "  </tbody>\n",
       "</table>\n",
       "</div>"
      ],
      "text/plain": [
       "  тип топлива    доля, %\n",
       "0      petrol  91.043755\n",
       "1       other   7.177269\n",
       "2         lpg   1.528631\n",
       "3         cng   0.161198\n",
       "4      hybrid   0.066860\n",
       "5    electric   0.022287"
      ]
     },
     "execution_count": 47,
     "metadata": {},
     "output_type": "execute_result"
    }
   ],
   "source": [
    "viz_bar_character('fuel_type', 'Автомобили по типу топлива')\n",
    "\n",
    "df_autos_gearbox = (df_autos['fuel_type'].value_counts(normalize=True) * 100)\n",
    "df_autos_gearbox.rename_axis('тип топлива').reset_index(name='доля, %')"
   ]
  },
  {
   "cell_type": "markdown",
   "metadata": {},
   "source": [
    "**Вывод**: 91% автомобилей имеем с бензиновой топливной системой. Меньше 1% у гибридной, элетрической и газовой систем."
   ]
  },
  {
   "cell_type": "code",
   "execution_count": 48,
   "metadata": {},
   "outputs": [
    {
     "data": {
      "image/png": "[encoded data removed]",
      "text/plain": [
       "<Figure size 1008x576 with 1 Axes>"
      ]
     },
     "metadata": {},
     "output_type": "display_data"
    },
    {
     "data": {
      "text/html": [
       "<div>\n",
       "<style scoped>\n",
       "    .dataframe tbody tr th:only-of-type {\n",
       "        vertical-align: middle;\n",
       "    }\n",
       "\n",
       "    .dataframe tbody tr th {\n",
       "        vertical-align: top;\n",
       "    }\n",
       "\n",
       "    .dataframe thead th {\n",
       "        text-align: right;\n",
       "    }\n",
       "</style>\n",
       "<table border=\"1\" class=\"dataframe\">\n",
       "  <thead>\n",
       "    <tr style=\"text-align: right;\">\n",
       "      <th></th>\n",
       "      <th>марка</th>\n",
       "      <th>доля, %</th>\n",
       "    </tr>\n",
       "  </thead>\n",
       "  <tbody>\n",
       "    <tr>\n",
       "      <th>0</th>\n",
       "      <td>volkswagen</td>\n",
       "      <td>21.498223</td>\n",
       "    </tr>\n",
       "    <tr>\n",
       "      <th>1</th>\n",
       "      <td>opel</td>\n",
       "      <td>11.124476</td>\n",
       "    </tr>\n",
       "    <tr>\n",
       "      <th>2</th>\n",
       "      <td>bmw</td>\n",
       "      <td>10.536471</td>\n",
       "    </tr>\n",
       "    <tr>\n",
       "      <th>3</th>\n",
       "      <td>mercedes_benz</td>\n",
       "      <td>9.205063</td>\n",
       "    </tr>\n",
       "    <tr>\n",
       "      <th>4</th>\n",
       "      <td>audi</td>\n",
       "      <td>8.388694</td>\n",
       "    </tr>\n",
       "    <tr>\n",
       "      <th>5</th>\n",
       "      <td>ford</td>\n",
       "      <td>7.137580</td>\n",
       "    </tr>\n",
       "    <tr>\n",
       "      <th>6</th>\n",
       "      <td>renault</td>\n",
       "      <td>4.987361</td>\n",
       "    </tr>\n",
       "    <tr>\n",
       "      <th>7</th>\n",
       "      <td>peugeot</td>\n",
       "      <td>3.169306</td>\n",
       "    </tr>\n",
       "    <tr>\n",
       "      <th>8</th>\n",
       "      <td>fiat</td>\n",
       "      <td>2.695788</td>\n",
       "    </tr>\n",
       "    <tr>\n",
       "      <th>9</th>\n",
       "      <td>seat</td>\n",
       "      <td>1.931625</td>\n",
       "    </tr>\n",
       "    <tr>\n",
       "      <th>10</th>\n",
       "      <td>skoda</td>\n",
       "      <td>1.615336</td>\n",
       "    </tr>\n",
       "    <tr>\n",
       "      <th>11</th>\n",
       "      <td>mazda</td>\n",
       "      <td>1.598544</td>\n",
       "    </tr>\n",
       "    <tr>\n",
       "      <th>12</th>\n",
       "      <td>smart</td>\n",
       "      <td>1.507871</td>\n",
       "    </tr>\n",
       "    <tr>\n",
       "      <th>13</th>\n",
       "      <td>citroen</td>\n",
       "      <td>1.455359</td>\n",
       "    </tr>\n",
       "    <tr>\n",
       "      <th>14</th>\n",
       "      <td>nissan</td>\n",
       "      <td>1.403458</td>\n",
       "    </tr>\n",
       "    <tr>\n",
       "      <th>15</th>\n",
       "      <td>toyota</td>\n",
       "      <td>1.337209</td>\n",
       "    </tr>\n",
       "    <tr>\n",
       "      <th>16</th>\n",
       "      <td>hyundai</td>\n",
       "      <td>1.033742</td>\n",
       "    </tr>\n",
       "    <tr>\n",
       "      <th>17</th>\n",
       "      <td>mini</td>\n",
       "      <td>0.932077</td>\n",
       "    </tr>\n",
       "    <tr>\n",
       "      <th>18</th>\n",
       "      <td>volvo</td>\n",
       "      <td>0.928719</td>\n",
       "    </tr>\n",
       "    <tr>\n",
       "      <th>19</th>\n",
       "      <td>mitsubishi</td>\n",
       "      <td>0.854837</td>\n",
       "    </tr>\n",
       "    <tr>\n",
       "      <th>20</th>\n",
       "      <td>honda</td>\n",
       "      <td>0.787060</td>\n",
       "    </tr>\n",
       "    <tr>\n",
       "      <th>21</th>\n",
       "      <td>sonstige_autos</td>\n",
       "      <td>0.748898</td>\n",
       "    </tr>\n",
       "    <tr>\n",
       "      <th>22</th>\n",
       "      <td>kia</td>\n",
       "      <td>0.702492</td>\n",
       "    </tr>\n",
       "    <tr>\n",
       "      <th>23</th>\n",
       "      <td>suzuki</td>\n",
       "      <td>0.670436</td>\n",
       "    </tr>\n",
       "    <tr>\n",
       "      <th>24</th>\n",
       "      <td>alfa_romeo</td>\n",
       "      <td>0.652729</td>\n",
       "    </tr>\n",
       "    <tr>\n",
       "      <th>25</th>\n",
       "      <td>chevrolet</td>\n",
       "      <td>0.502522</td>\n",
       "    </tr>\n",
       "    <tr>\n",
       "      <th>26</th>\n",
       "      <td>chrysler</td>\n",
       "      <td>0.401773</td>\n",
       "    </tr>\n",
       "    <tr>\n",
       "      <th>27</th>\n",
       "      <td>dacia</td>\n",
       "      <td>0.263473</td>\n",
       "    </tr>\n",
       "    <tr>\n",
       "      <th>28</th>\n",
       "      <td>daihatsu</td>\n",
       "      <td>0.228058</td>\n",
       "    </tr>\n",
       "    <tr>\n",
       "      <th>29</th>\n",
       "      <td>subaru</td>\n",
       "      <td>0.217067</td>\n",
       "    </tr>\n",
       "    <tr>\n",
       "      <th>30</th>\n",
       "      <td>porsche</td>\n",
       "      <td>0.210961</td>\n",
       "    </tr>\n",
       "    <tr>\n",
       "      <th>31</th>\n",
       "      <td>jeep</td>\n",
       "      <td>0.192338</td>\n",
       "    </tr>\n",
       "    <tr>\n",
       "      <th>32</th>\n",
       "      <td>land_rover</td>\n",
       "      <td>0.160282</td>\n",
       "    </tr>\n",
       "    <tr>\n",
       "      <th>33</th>\n",
       "      <td>daewoo</td>\n",
       "      <td>0.152955</td>\n",
       "    </tr>\n",
       "    <tr>\n",
       "      <th>34</th>\n",
       "      <td>saab</td>\n",
       "      <td>0.152955</td>\n",
       "    </tr>\n",
       "    <tr>\n",
       "      <th>35</th>\n",
       "      <td>jaguar</td>\n",
       "      <td>0.146543</td>\n",
       "    </tr>\n",
       "    <tr>\n",
       "      <th>36</th>\n",
       "      <td>trabant</td>\n",
       "      <td>0.143490</td>\n",
       "    </tr>\n",
       "    <tr>\n",
       "      <th>37</th>\n",
       "      <td>rover</td>\n",
       "      <td>0.132194</td>\n",
       "    </tr>\n",
       "    <tr>\n",
       "      <th>38</th>\n",
       "      <td>lancia</td>\n",
       "      <td>0.130973</td>\n",
       "    </tr>\n",
       "    <tr>\n",
       "      <th>39</th>\n",
       "      <td>lada</td>\n",
       "      <td>0.061060</td>\n",
       "    </tr>\n",
       "  </tbody>\n",
       "</table>\n",
       "</div>"
      ],
      "text/plain": [
       "             марка    доля, %\n",
       "0       volkswagen  21.498223\n",
       "1             opel  11.124476\n",
       "2              bmw  10.536471\n",
       "3    mercedes_benz   9.205063\n",
       "4             audi   8.388694\n",
       "5             ford   7.137580\n",
       "6          renault   4.987361\n",
       "7          peugeot   3.169306\n",
       "8             fiat   2.695788\n",
       "9             seat   1.931625\n",
       "10           skoda   1.615336\n",
       "11           mazda   1.598544\n",
       "12           smart   1.507871\n",
       "13         citroen   1.455359\n",
       "14          nissan   1.403458\n",
       "15          toyota   1.337209\n",
       "16         hyundai   1.033742\n",
       "17            mini   0.932077\n",
       "18           volvo   0.928719\n",
       "19      mitsubishi   0.854837\n",
       "20           honda   0.787060\n",
       "21  sonstige_autos   0.748898\n",
       "22             kia   0.702492\n",
       "23          suzuki   0.670436\n",
       "24      alfa_romeo   0.652729\n",
       "25       chevrolet   0.502522\n",
       "26        chrysler   0.401773\n",
       "27           dacia   0.263473\n",
       "28        daihatsu   0.228058\n",
       "29          subaru   0.217067\n",
       "30         porsche   0.210961\n",
       "31            jeep   0.192338\n",
       "32      land_rover   0.160282\n",
       "33          daewoo   0.152955\n",
       "34            saab   0.152955\n",
       "35          jaguar   0.146543\n",
       "36         trabant   0.143490\n",
       "37           rover   0.132194\n",
       "38          lancia   0.130973\n",
       "39            lada   0.061060"
      ]
     },
     "execution_count": 48,
     "metadata": {},
     "output_type": "execute_result"
    }
   ],
   "source": [
    "viz_bar_character('brand', 'Распределение по марке автомобиля')\n",
    "\n",
    "df_autos_gearbox = (df_autos['brand'].value_counts(normalize=True) * 100)\n",
    "df_autos_gearbox.rename_axis('марка').reset_index(name='доля, %')"
   ]
  },
  {
   "cell_type": "markdown",
   "metadata": {},
   "source": [
    "**Вывод**: в датасете представлено 40 марок автомобилей. Больше всего (21.5%) - Volkswagen, Opel - 11.12%, BMV - 10.54%. Остальных марок менее 10% на каждую. Менее 0.1% у отечественного производителя - Lada."
   ]
  },
  {
   "cell_type": "code",
   "execution_count": 49,
   "metadata": {},
   "outputs": [
    {
     "data": {
      "image/png": "[encoded data removed]",
      "text/plain": [
       "<Figure size 1008x576 with 1 Axes>"
      ]
     },
     "metadata": {},
     "output_type": "display_data"
    },
    {
     "data": {
      "text/html": [
       "<div>\n",
       "<style scoped>\n",
       "    .dataframe tbody tr th:only-of-type {\n",
       "        vertical-align: middle;\n",
       "    }\n",
       "\n",
       "    .dataframe tbody tr th {\n",
       "        vertical-align: top;\n",
       "    }\n",
       "\n",
       "    .dataframe thead th {\n",
       "        text-align: right;\n",
       "    }\n",
       "</style>\n",
       "<table border=\"1\" class=\"dataframe\">\n",
       "  <thead>\n",
       "    <tr style=\"text-align: right;\">\n",
       "      <th></th>\n",
       "      <th>была в ремонте</th>\n",
       "      <th>доля, %</th>\n",
       "    </tr>\n",
       "  </thead>\n",
       "  <tbody>\n",
       "    <tr>\n",
       "      <th>0</th>\n",
       "      <td>no</td>\n",
       "      <td>72.118285</td>\n",
       "    </tr>\n",
       "    <tr>\n",
       "      <th>1</th>\n",
       "      <td>yes</td>\n",
       "      <td>27.881715</td>\n",
       "    </tr>\n",
       "  </tbody>\n",
       "</table>\n",
       "</div>"
      ],
      "text/plain": [
       "  была в ремонте    доля, %\n",
       "0             no  72.118285\n",
       "1            yes  27.881715"
      ]
     },
     "execution_count": 49,
     "metadata": {},
     "output_type": "execute_result"
    }
   ],
   "source": [
    "viz_bar_character('repaired', 'Наличие ремонта у автомобиля')\n",
    "\n",
    "df_autos_gearbox = (df_autos['repaired'].value_counts(normalize=True) * 100)\n",
    "df_autos_gearbox.rename_axis('была в ремонте').reset_index(name='доля, %')"
   ]
  },
  {
   "cell_type": "markdown",
   "metadata": {},
   "source": [
    "**Вывод**: больше всего автомобилей без ремонта - 72%. Подвергались ремонту почти 28% автомобилей."
   ]
  },
  {
   "cell_type": "markdown",
   "metadata": {},
   "source": [
    "Проверим долю удаленных данных на этапе EDA:"
   ]
  },
  {
   "cell_type": "code",
   "execution_count": 50,
   "metadata": {},
   "outputs": [
    {
     "name": "stdout",
     "output_type": "stream",
     "text": [
      "Доля удаленных данных от исходного датасета: \n",
      "    7.568664301899997 %\n",
      "    \n",
      "<class 'pandas.core.frame.DataFrame'>\n",
      "RangeIndex: 327548 entries, 0 to 327547\n",
      "Data columns (total 10 columns):\n",
      " #   Column             Non-Null Count   Dtype  \n",
      "---  ------             --------------   -----  \n",
      " 0   price              327548 non-null  int64  \n",
      " 1   vehicle_type       327548 non-null  object \n",
      " 2   registration_year  327548 non-null  int64  \n",
      " 3   gearbox            327548 non-null  object \n",
      " 4   power              327548 non-null  float64\n",
      " 5   model              327548 non-null  object \n",
      " 6   kilometer          327548 non-null  int64  \n",
      " 7   fuel_type          327548 non-null  object \n",
      " 8   brand              327548 non-null  object \n",
      " 9   repaired           327548 non-null  object \n",
      "dtypes: float64(1), int64(3), object(6)\n",
      "memory usage: 25.0+ MB\n"
     ]
    }
   ],
   "source": [
    "print(f'''Доля удаленных данных от исходного датасета: \n",
    "    {((len(df_autos_control) - len(df_autos)) / len(df_autos_control)) * 100} %\n",
    "    ''')\n",
    "\n",
    "# сбросим индексы после всех удалений\n",
    "df_autos = df_autos.reset_index(drop=True)\n",
    "\n",
    "# проверим датафрейм после изменений\n",
    "df_autos.info()"
   ]
  },
  {
   "cell_type": "markdown",
   "metadata": {},
   "source": [
    "**Вывод**.\n",
    "**На этапе исследовательского анализа данных было выполнено**:\n",
    "\n",
    "1. **Созданы функции для визуализации признаков**:\n",
    "   - гистограмма, диаграмма размаха для количественных непрерывных признаков;\n",
    "   - столбчатая диаграмма для категориальных признаков и дискретных количественных.\n",
    "\n",
    "\n",
    "2. **Проведен статистический анализ признаков**. Обнаружены аномалии в значениях:\n",
    "   - 'price' - цена (целевой признак). Строки со значениями до 50 евро удалены;\n",
    "   - 'registration_year' - год регистрации автомобиля. Автомобилей с годом регистрации позже 2016 года и ранее 1908 года удалены;\n",
    "   - 'power' - мощность автомобиля. Мощность, равную нулю, заменили на медианное значение по модели автомобиля. Остальные значения мощности до 10 и от 500 л.с. удалены.\n",
    "   \n",
    "Данные в датасете представлены об автомобилях стоимостью от 50 до 20000 евро, средняя цена - 4577.11 евро, медиана - 2900 евро. Больше всего автомобилей с типом кузова седан (sedan) - 26% и хэтчбэки (small) - 22.7%, меньше всего купе (coupe) - 4.55% и внедорожники (suv) - 3.44%. Имеем данные по автомобилям с годом регистрации от 1910 по 2016. С 1990 года заметен значительный рост регистрации автомобилей. Увеличение доходов населения в развивающихся странах привело к большей покупательской способности, что позволило многим людям приобретать автомобили. Также, развитие дорожной сети и общественного транспорта сделало использование личного автомобиля более удобным и безопасным. Больше всего представлено автомобилей с механической коробкой передач (80.85%), с автоматической - 19.14%. Средняя мощность автомобилей 118.71 л.с., медиана - 109 л.с. Общее распределение мощности от 11 до 490 л.с. Наибольшее количество автомобилей с пробегом в категории 150000 - почти 67%, меньше всего - категория 10000 - 0.31%. У 91% автомобилей бензиновая топливная система. Меньше 1% у гибридных, элетрических и газовых систем. В датасете представлено 40 марок автомобилей. Больше всего (21.5%) - Volkswagen, Opel - 11.12%, BMV - 10.54%. Остальных марок менее 10% на каждую. Менее 0.1% у отечественного производителя - Lada. Подвергались ремонту почти 28% автомобилей. \n",
    "\n",
    "Доля удаленных данных от исходного датасета: 7.57 %."
   ]
  },
  {
   "cell_type": "markdown",
   "metadata": {},
   "source": [
    "### Корреляционный анализ данных"
   ]
  },
  {
   "cell_type": "markdown",
   "metadata": {},
   "source": [
    "Построим матрицу корреляции признаков датафрейма df_autos и тепловую карту для ее визуализации:"
   ]
  },
  {
   "cell_type": "code",
   "execution_count": 51,
   "metadata": {},
   "outputs": [
    {
     "data": {
      "text/html": [
       "<div>\n",
       "<style scoped>\n",
       "    .dataframe tbody tr th:only-of-type {\n",
       "        vertical-align: middle;\n",
       "    }\n",
       "\n",
       "    .dataframe tbody tr th {\n",
       "        vertical-align: top;\n",
       "    }\n",
       "\n",
       "    .dataframe thead th {\n",
       "        text-align: right;\n",
       "    }\n",
       "</style>\n",
       "<table border=\"1\" class=\"dataframe\">\n",
       "  <thead>\n",
       "    <tr style=\"text-align: right;\">\n",
       "      <th></th>\n",
       "      <th>price</th>\n",
       "      <th>vehicle_type</th>\n",
       "      <th>registration_year</th>\n",
       "      <th>gearbox</th>\n",
       "      <th>power</th>\n",
       "      <th>model</th>\n",
       "      <th>kilometer</th>\n",
       "      <th>fuel_type</th>\n",
       "      <th>brand</th>\n",
       "      <th>repaired</th>\n",
       "    </tr>\n",
       "  </thead>\n",
       "  <tbody>\n",
       "    <tr>\n",
       "      <th>price</th>\n",
       "      <td>1.000000</td>\n",
       "      <td>0.287962</td>\n",
       "      <td>0.583623</td>\n",
       "      <td>0.335589</td>\n",
       "      <td>0.507374</td>\n",
       "      <td>0.573906</td>\n",
       "      <td>0.325344</td>\n",
       "      <td>0.132871</td>\n",
       "      <td>0.364432</td>\n",
       "      <td>0.412496</td>\n",
       "    </tr>\n",
       "    <tr>\n",
       "      <th>vehicle_type</th>\n",
       "      <td>0.287962</td>\n",
       "      <td>1.000000</td>\n",
       "      <td>0.174364</td>\n",
       "      <td>0.294468</td>\n",
       "      <td>0.457145</td>\n",
       "      <td>0.906366</td>\n",
       "      <td>0.205399</td>\n",
       "      <td>0.297062</td>\n",
       "      <td>0.624825</td>\n",
       "      <td>0.335283</td>\n",
       "    </tr>\n",
       "    <tr>\n",
       "      <th>registration_year</th>\n",
       "      <td>0.583623</td>\n",
       "      <td>0.174364</td>\n",
       "      <td>1.000000</td>\n",
       "      <td>0.076405</td>\n",
       "      <td>0.202782</td>\n",
       "      <td>0.567704</td>\n",
       "      <td>0.334948</td>\n",
       "      <td>0.076154</td>\n",
       "      <td>0.353525</td>\n",
       "      <td>0.219228</td>\n",
       "    </tr>\n",
       "    <tr>\n",
       "      <th>gearbox</th>\n",
       "      <td>0.335589</td>\n",
       "      <td>0.294468</td>\n",
       "      <td>0.076405</td>\n",
       "      <td>1.000000</td>\n",
       "      <td>0.584636</td>\n",
       "      <td>0.613213</td>\n",
       "      <td>0.028618</td>\n",
       "      <td>0.124950</td>\n",
       "      <td>0.500942</td>\n",
       "      <td>0.090774</td>\n",
       "    </tr>\n",
       "    <tr>\n",
       "      <th>power</th>\n",
       "      <td>0.507374</td>\n",
       "      <td>0.457145</td>\n",
       "      <td>0.202782</td>\n",
       "      <td>0.584636</td>\n",
       "      <td>1.000000</td>\n",
       "      <td>0.796736</td>\n",
       "      <td>0.102476</td>\n",
       "      <td>0.100832</td>\n",
       "      <td>0.579273</td>\n",
       "      <td>0.140516</td>\n",
       "    </tr>\n",
       "    <tr>\n",
       "      <th>model</th>\n",
       "      <td>0.573906</td>\n",
       "      <td>0.906366</td>\n",
       "      <td>0.567704</td>\n",
       "      <td>0.613213</td>\n",
       "      <td>0.796736</td>\n",
       "      <td>1.000000</td>\n",
       "      <td>0.437448</td>\n",
       "      <td>0.385129</td>\n",
       "      <td>0.997833</td>\n",
       "      <td>0.243372</td>\n",
       "    </tr>\n",
       "    <tr>\n",
       "      <th>kilometer</th>\n",
       "      <td>0.325344</td>\n",
       "      <td>0.205399</td>\n",
       "      <td>0.334948</td>\n",
       "      <td>0.028618</td>\n",
       "      <td>0.102476</td>\n",
       "      <td>0.437448</td>\n",
       "      <td>1.000000</td>\n",
       "      <td>0.126848</td>\n",
       "      <td>0.274660</td>\n",
       "      <td>0.176351</td>\n",
       "    </tr>\n",
       "    <tr>\n",
       "      <th>fuel_type</th>\n",
       "      <td>0.132871</td>\n",
       "      <td>0.297062</td>\n",
       "      <td>0.076154</td>\n",
       "      <td>0.124950</td>\n",
       "      <td>0.100832</td>\n",
       "      <td>0.385129</td>\n",
       "      <td>0.126848</td>\n",
       "      <td>1.000000</td>\n",
       "      <td>0.208551</td>\n",
       "      <td>0.291482</td>\n",
       "    </tr>\n",
       "    <tr>\n",
       "      <th>brand</th>\n",
       "      <td>0.364432</td>\n",
       "      <td>0.624825</td>\n",
       "      <td>0.353525</td>\n",
       "      <td>0.500942</td>\n",
       "      <td>0.579273</td>\n",
       "      <td>0.997833</td>\n",
       "      <td>0.274660</td>\n",
       "      <td>0.208551</td>\n",
       "      <td>1.000000</td>\n",
       "      <td>0.119100</td>\n",
       "    </tr>\n",
       "    <tr>\n",
       "      <th>repaired</th>\n",
       "      <td>0.412496</td>\n",
       "      <td>0.335283</td>\n",
       "      <td>0.219228</td>\n",
       "      <td>0.090774</td>\n",
       "      <td>0.140516</td>\n",
       "      <td>0.243372</td>\n",
       "      <td>0.176351</td>\n",
       "      <td>0.291482</td>\n",
       "      <td>0.119100</td>\n",
       "      <td>1.000000</td>\n",
       "    </tr>\n",
       "  </tbody>\n",
       "</table>\n",
       "</div>"
      ],
      "text/plain": [
       "                      price  vehicle_type  registration_year   gearbox  \\\n",
       "price              1.000000      0.287962           0.583623  0.335589   \n",
       "vehicle_type       0.287962      1.000000           0.174364  0.294468   \n",
       "registration_year  0.583623      0.174364           1.000000  0.076405   \n",
       "gearbox            0.335589      0.294468           0.076405  1.000000   \n",
       "power              0.507374      0.457145           0.202782  0.584636   \n",
       "model              0.573906      0.906366           0.567704  0.613213   \n",
       "kilometer          0.325344      0.205399           0.334948  0.028618   \n",
       "fuel_type          0.132871      0.297062           0.076154  0.124950   \n",
       "brand              0.364432      0.624825           0.353525  0.500942   \n",
       "repaired           0.412496      0.335283           0.219228  0.090774   \n",
       "\n",
       "                      power     model  kilometer  fuel_type     brand  \\\n",
       "price              0.507374  0.573906   0.325344   0.132871  0.364432   \n",
       "vehicle_type       0.457145  0.906366   0.205399   0.297062  0.624825   \n",
       "registration_year  0.202782  0.567704   0.334948   0.076154  0.353525   \n",
       "gearbox            0.584636  0.613213   0.028618   0.124950  0.500942   \n",
       "power              1.000000  0.796736   0.102476   0.100832  0.579273   \n",
       "model              0.796736  1.000000   0.437448   0.385129  0.997833   \n",
       "kilometer          0.102476  0.437448   1.000000   0.126848  0.274660   \n",
       "fuel_type          0.100832  0.385129   0.126848   1.000000  0.208551   \n",
       "brand              0.579273  0.997833   0.274660   0.208551  1.000000   \n",
       "repaired           0.140516  0.243372   0.176351   0.291482  0.119100   \n",
       "\n",
       "                   repaired  \n",
       "price              0.412496  \n",
       "vehicle_type       0.335283  \n",
       "registration_year  0.219228  \n",
       "gearbox            0.090774  \n",
       "power              0.140516  \n",
       "model              0.243372  \n",
       "kilometer          0.176351  \n",
       "fuel_type          0.291482  \n",
       "brand              0.119100  \n",
       "repaired           1.000000  "
      ]
     },
     "execution_count": 51,
     "metadata": {},
     "output_type": "execute_result"
    }
   ],
   "source": [
    "# Вычисление матрицы корреляции с использованием phik\n",
    "interval_cols = ['registration_year', 'price', 'power']\n",
    "\n",
    "corr_matrix = df_autos.phik_matrix(interval_cols=interval_cols)\n",
    "corr_matrix"
   ]
  },
  {
   "cell_type": "code",
   "execution_count": 52,
   "metadata": {},
   "outputs": [
    {
     "data": {
      "image/png": "[encoded data removed]",
      "text/plain": [
       "<Figure size 1008x504 with 2 Axes>"
      ]
     },
     "metadata": {},
     "output_type": "display_data"
    },
    {
     "name": "stdout",
     "output_type": "stream",
     "text": [
      "Шкала Чеддока - шкала силы корреляционной связи\n"
     ]
    },
    {
     "data": {
      "text/html": [
       "<img src=\"https://intuit.ru/EDI/22_08_23_1/1692656410-28489/tutorial/25/objects/8/files/8_1.gif\"/>"
      ],
      "text/plain": [
       "<IPython.core.display.Image object>"
      ]
     },
     "execution_count": 52,
     "metadata": {},
     "output_type": "execute_result"
    }
   ],
   "source": [
    "# визуализация - тепловая карта\n",
    "sns.heatmap(corr_matrix, \n",
    "                annot=True, vmin=-1, vmax=1, center=0, cmap='BrBG', \n",
    "                linecolor='black', linewidths=0.5, fmt=\".3f\")\n",
    "sns.set(rc={'figure.figsize': (15, 10)})\n",
    "plt.title('Phi_K Correlation Matrix')\n",
    "plt.show()\n",
    "\n",
    "print('Шкала Чеддока - шкала силы корреляционной связи')\n",
    "from IPython.display import Image\n",
    "Image(url='https://intuit.ru/EDI/22_08_23_1/1692656410-28489/tutorial/25/objects/8/files/8_1.gif')"
   ]
  },
  {
   "cell_type": "markdown",
   "metadata": {},
   "source": [
    "**Вывод**:\n",
    "\n",
    "Зависимость целевого признака (цена) от входных признаков:\n",
    "- заметная:\n",
    "   - модель автомобиля (0.574);\n",
    "   - мощность (0.507);\n",
    "   - год регистрации (0.584);\n",
    "- умеренная:\n",
    "   - был ремонт автомобиля (0.412);\n",
    "   - марка автомобиля (0.364);\n",
    "   - пробег (0.325);\n",
    "   - тип коробки передач (0.336);\n",
    "- слабая:\n",
    "   - тип топлива (0.133);\n",
    "   - тип кузова (0.288)."
   ]
  },
  {
   "cell_type": "markdown",
   "metadata": {},
   "source": [
    "### Общий вывод по разделу"
   ]
  },
  {
   "cell_type": "markdown",
   "metadata": {},
   "source": [
    "**В разделе подготовки данных было выполнено**:\n",
    "\n",
    "1. **Загрузка данных, изучение информации**.\n",
    "Импортированы необходимые библиотеки. Загружен файл с данными в датафрейм df_autos, в котором 354369 строк, 16 столбцов. Имелись пропуски, неверные типы данных и некорректная запись названий столбцов.\n",
    "\n",
    "\n",
    "2. **Предобработка данных**. На данном этапе выполнены:\n",
    "\n",
    "- Корректировка записи названий столбцов - названия столбцов приведены к \"змеиному\" регистру;\n",
    "- Проверка наличия явных дубликатов - явные дубликаты (4 строки) удалены;\n",
    "- Проверка наличия неявных дубликатов, ошибок: \n",
    "   - неявные дубликаты в столбце 'fuel_type' (тип топлива): 'petrol' и 'gasoline' - это два разных названия для одного и того же топлива, бензина ('gasoline' чаще используется в Северной Америке, а 'petrol' - в других странах). Значение 'gasoline' заменено на 'petrol';\n",
    "   - в столбце 'model' (модель автомобиля) обнаружен неявный дубликат: 'rangerover' и 'range_rover' - это два разных названия для одного и того же. Заменено значение 'rangerover' на 'range_rover';\n",
    "- Удаление ненужных данных. Для моделирования не требуются такие данные, удалены:\n",
    "   - date_crawled — дата скачивания анкеты из базы;\n",
    "   - date_created — дата создания анкеты;\n",
    "   - number_of_pictures — количество фотографий автомобиля;\n",
    "   - postal_code — почтовый индекс владельца анкеты (пользователя);\n",
    "   - registration_month - месяц регистрации автомобиля;\n",
    "   - last_seen — дата последней активности пользователя.\n",
    "- Проверка наличия пропущенных значений. В столбцах:\n",
    "   - 'vehicle_type' - тип кузова. Пропуски заменены на значение 'other';\n",
    "   - 'gearbox' - тип коробки передач. Пропуски заменены на значение 'manual' как на наиболее часто встречающееся значение;\n",
    "   - 'model' - модель автомобиля. Пропуски заменены на значение 'unknown';\n",
    "   - 'fuel_type' - тип топлива. Пропуски заменены на значение 'other';\n",
    "   - 'repaired' - была машина в ремонте или нет. Пропуски заменены на значение 'yes' - автомобиль был в ремонте, т.к. есть предположение, что владелец автомобиля не захотел \"светить\" аварийность или прошлые неисправности своего автомобиля, поэтому не заполнил данный пункт в анкете. Т.к. автомобили, бывшие ремонте, ценятся покупателями меньше, т.е. спрос на них снижается, что вызывает понижение цены данного автомобиля.\n",
    "  \n",
    "\n",
    "\n",
    "3. **Исследовательский анализ данных**. Выполнено:\n",
    "\n",
    "- Созданы функции для визуализации признаков:\n",
    "   - гистограмма, диаграмма размаха для количественных непрерывных признаков;\n",
    "   - столбчатая диаграмма для категориальных признаков и дискретных количественных.\n",
    "\n",
    "\n",
    "- Проведен статистический анализ признаков. Обнаружены аномалии в значениях:\n",
    "   - 'price' - цена (целевой признак). Строки со значениями до 50 евро удалены;\n",
    "   - 'registration_year' - год регистрации автомобиля. Автомобилей с годом регистрации позже 2016 года и ранее 1908 года удалены;\n",
    "   - 'power' - мощность автомобиля. Мощность, равную нулю, заменили на медианное значение по модели автомобиля. Остальные значения мощности до 10 и от 500 л.с. удалены.\n",
    "   \n",
    "Данные в датасете представлены об автомобилях стоимостью от 50 до 20000 евро, средняя цена - 4577.11 евро, медиана - 2900 евро. Больше всего автомобилей с типом кузова седан (sedan) - 26% и хэтчбэки (small) - 22.7%, меньше всего купе (coupe) - 4.55% и внедорожники (suv) - 3.44%. Имеем данные по автомобилям с годом регистрации от 1910 по 2016. С 1990 года заметен значительный рост регистрации автомобилей. Увеличение доходов населения в развивающихся странах привело к большей покупательской способности, что позволило многим людям приобретать автомобили. Также, развитие дорожной сети и общественного транспорта сделало использование личного автомобиля более удобным и безопасным. Больше всего представлено автомобилей с механической коробкой передач (80.85%), с автоматической - 19.14%. Средняя мощность автомобилей 118.71 л.с., медиана - 109 л.с. Общее распределение мощности от 11 до 490 л.с. Наибольшее количество автомобилей с пробегом в категории 150000 - почти 67%, меньше всего - категория 10000 - 0.31%. У 91% автомобилей бензиновая топливная система. Меньше 1% у гибридных, элетрических и газовых систем. В датасете представлено 40 марок автомобилей. Больше всего (21.5%) - Volkswagen, Opel - 11.12%, BMV - 10.54%. Остальных марок менее 10% на каждую. Менее 0.1% у отечественного производителя - Lada. Подвергались ремонту почти 28% автомобилей. \n",
    "\n",
    "Доля удаленных данных от исходного датасета: 7.57 %.\n",
    "\n",
    "\n",
    "4. **Корреляционный анализ данных**. Построена матрица корреляции с использованием phik и тепловая карта для ее визуализации. Согласно шкале Чеддока определена степень зависимости целевого признака от входных: \n",
    "- заметная:\n",
    "   - модель автомобиля (0.574);\n",
    "   - мощность (0.507);\n",
    "   - год регистрации (0.584);\n",
    "- умеренная:\n",
    "   - был ремонт автомобиля (0.412);\n",
    "   - марка автомобиля (0.364);\n",
    "   - пробег (0.325);\n",
    "   - тип коробки передач (0.336);\n",
    "- слабая:\n",
    "   - тип топлива (0.133);\n",
    "   - тип кузова (0.288)."
   ]
  },
  {
   "cell_type": "markdown",
   "metadata": {},
   "source": [
    "## Обучение моделей"
   ]
  },
  {
   "cell_type": "markdown",
   "metadata": {},
   "source": [
    "### Подготовка, деление данных"
   ]
  },
  {
   "cell_type": "markdown",
   "metadata": {},
   "source": [
    "Преобразуем все строковые типы признаков в категориальный тип, это требуется работы некоторых моделей:"
   ]
  },
  {
   "cell_type": "code",
   "execution_count": 53,
   "metadata": {},
   "outputs": [
    {
     "name": "stdout",
     "output_type": "stream",
     "text": [
      "<class 'pandas.core.frame.DataFrame'>\n",
      "RangeIndex: 327548 entries, 0 to 327547\n",
      "Data columns (total 10 columns):\n",
      " #   Column             Non-Null Count   Dtype   \n",
      "---  ------             --------------   -----   \n",
      " 0   price              327548 non-null  int64   \n",
      " 1   vehicle_type       327548 non-null  category\n",
      " 2   registration_year  327548 non-null  int64   \n",
      " 3   gearbox            327548 non-null  category\n",
      " 4   power              327548 non-null  float64 \n",
      " 5   model              327548 non-null  category\n",
      " 6   kilometer          327548 non-null  int64   \n",
      " 7   fuel_type          327548 non-null  category\n",
      " 8   brand              327548 non-null  category\n",
      " 9   repaired           327548 non-null  category\n",
      "dtypes: category(6), float64(1), int64(3)\n",
      "memory usage: 12.2 MB\n"
     ]
    }
   ],
   "source": [
    "# отбираем признаки\n",
    "cat_features = list(df_autos.select_dtypes(include='object').columns)\n",
    "\n",
    "# с помощью цикла меняем тип данных\n",
    "for cat in cat_features:\n",
    "    df_autos[cat] = df_autos[cat].astype('category')\n",
    "    \n",
    "# проверяем изменения\n",
    "df_autos.info()"
   ]
  },
  {
   "cell_type": "markdown",
   "metadata": {},
   "source": [
    "Чтобы оценка качества модели была более надёжной, разделим данные на тренировочную (train), тестовую (test) и валидационную (valid) выборки. Размеры тестовой и валидационной выборок обычно равны. Исходные\n",
    "данные разбиваем в соотношении 3:1:1 (60%, 20%, 20%):"
   ]
  },
  {
   "cell_type": "code",
   "execution_count": 54,
   "metadata": {},
   "outputs": [
    {
     "name": "stdout",
     "output_type": "stream",
     "text": [
      "\n",
      "Размерность features_train: (196528, 9)\n",
      "Размерность features_valid: (65510, 9)\n",
      "Размерность features_test: (65510, 9)\n",
      "Размерность target_train: (196528,)\n",
      "Размерность target_valid: (65510,)\n",
      "Размерность target_test: (65510,)\n",
      "\n"
     ]
    }
   ],
   "source": [
    "features = df_autos.drop('price', axis=1)\n",
    "target = df_autos['price']\n",
    "\n",
    "features_train, features_valid, target_train, target_valid = train_test_split(\n",
    "    features, \n",
    "    target, \n",
    "    test_size=0.4, \n",
    "    random_state=RANDOM_STATE)\n",
    "\n",
    "features_valid, features_test, target_valid, target_test = train_test_split(\n",
    "    features_valid, \n",
    "    target_valid, \n",
    "    test_size=0.5, \n",
    "    random_state=RANDOM_STATE)\n",
    "\n",
    "# проверяем разделение на выборки:\n",
    "print(f'''\n",
    "Размерность features_train: {features_train.shape}\n",
    "Размерность features_valid: {features_valid.shape}\n",
    "Размерность features_test: {features_test.shape}\n",
    "Размерность target_train: {target_train.shape}\n",
    "Размерность target_valid: {target_valid.shape}\n",
    "Размерность target_test: {target_test.shape}\n",
    "''')"
   ]
  },
  {
   "cell_type": "markdown",
   "metadata": {},
   "source": [
    "### Модель LightGBM"
   ]
  },
  {
   "cell_type": "markdown",
   "metadata": {},
   "source": [
    "Зададим параметры и включим поиск лучших гиперпараметров:"
   ]
  },
  {
   "cell_type": "code",
   "execution_count": null,
   "metadata": {},
   "outputs": [],
   "source": [
    "def obj_lgbm(trial):\n",
    "    # задаем параметры\n",
    "    params = {\n",
    "        'boosting_type': 'gbdt',\n",
    "        'objective': 'regression',\n",
    "        'metric': 'rmse',\n",
    "        'random_state': 42,\n",
    "        'n_estimators': 500,\n",
    "        'verbosity': -1,\n",
    "    \n",
    "        # параметры, которые будем отбирать \n",
    "        'learning_rate': trial.suggest_float('learning_rate', 0.01, 0.3),\n",
    "        'num_leaves': trial.suggest_int('num_leaves', 20, 3000),\n",
    "        'max_depth': trial.suggest_int('max_depth', 3, 15),\n",
    "        'min_child_samples': trial.suggest_int('min_child_samples', 5, 100),\n",
    "        'subsample': trial.suggest_float('subsample', 0.4, 1.0),\n",
    "        'colsample_bytree': trial.suggest_float('colsample_bytree', 0.4, 1.0)\n",
    "    }\n",
    "    \n",
    "    # обучаем модель\n",
    "    model_lgb = lgb.LGBMRegressor(**params)\n",
    "    model_lgb.fit(features_train,\n",
    "                  target_train,\n",
    "                  eval_metric='rmse',\n",
    "                  eval_set=[(features_valid, target_valid)],\n",
    "                  callbacks=[early_stopping(stopping_rounds=20)])\n",
    "                  #categorical_feature=cat_features)\n",
    "    \n",
    "    preds = model_lgb.predict(features_valid)\n",
    "    gini = root_mean_squared_error(target_valid, preds)\n",
    "    return gini"
   ]
  },
  {
   "cell_type": "markdown",
   "metadata": {},
   "source": [
    "Запускаем поиск гиперпараметров:"
   ]
  },
  {
   "cell_type": "code",
   "execution_count": null,
   "metadata": {},
   "outputs": [],
   "source": [
    "study_lgbm = optuna.create_study(direction='minimize')\n",
    "study_lgbm.optimize(obj_lgbm, n_trials=30)"
   ]
  },
  {
   "cell_type": "markdown",
   "metadata": {},
   "source": [
    "Лучшие гиперпараметры для LightGBM:"
   ]
  },
  {
   "cell_type": "code",
   "execution_count": 57,
   "metadata": {},
   "outputs": [
    {
     "data": {
      "text/html": [
       "<style>#sk-container-id-1 {\n",
       "  /* Definition of color scheme common for light and dark mode */\n",
       "  --sklearn-color-text: black;\n",
       "  --sklearn-color-line: gray;\n",
       "  /* Definition of color scheme for unfitted estimators */\n",
       "  --sklearn-color-unfitted-level-0: #fff5e6;\n",
       "  --sklearn-color-unfitted-level-1: #f6e4d2;\n",
       "  --sklearn-color-unfitted-level-2: #ffe0b3;\n",
       "  --sklearn-color-unfitted-level-3: chocolate;\n",
       "  /* Definition of color scheme for fitted estimators */\n",
       "  --sklearn-color-fitted-level-0: #f0f8ff;\n",
       "  --sklearn-color-fitted-level-1: #d4ebff;\n",
       "  --sklearn-color-fitted-level-2: #b3dbfd;\n",
       "  --sklearn-color-fitted-level-3: cornflowerblue;\n",
       "\n",
       "  /* Specific color for light theme */\n",
       "  --sklearn-color-text-on-default-background: var(--sg-text-color, var(--theme-code-foreground, var(--jp-content-font-color1, black)));\n",
       "  --sklearn-color-background: var(--sg-background-color, var(--theme-background, var(--jp-layout-color0, white)));\n",
       "  --sklearn-color-border-box: var(--sg-text-color, var(--theme-code-foreground, var(--jp-content-font-color1, black)));\n",
       "  --sklearn-color-icon: #696969;\n",
       "\n",
       "  @media (prefers-color-scheme: dark) {\n",
       "    /* Redefinition of color scheme for dark theme */\n",
       "    --sklearn-color-text-on-default-background: var(--sg-text-color, var(--theme-code-foreground, var(--jp-content-font-color1, white)));\n",
       "    --sklearn-color-background: var(--sg-background-color, var(--theme-background, var(--jp-layout-color0, #111)));\n",
       "    --sklearn-color-border-box: var(--sg-text-color, var(--theme-code-foreground, var(--jp-content-font-color1, white)));\n",
       "    --sklearn-color-icon: #878787;\n",
       "  }\n",
       "}\n",
       "\n",
       "#sk-container-id-1 {\n",
       "  color: var(--sklearn-color-text);\n",
       "}\n",
       "\n",
       "#sk-container-id-1 pre {\n",
       "  padding: 0;\n",
       "}\n",
       "\n",
       "#sk-container-id-1 input.sk-hidden--visually {\n",
       "  border: 0;\n",
       "  clip: rect(1px 1px 1px 1px);\n",
       "  clip: rect(1px, 1px, 1px, 1px);\n",
       "  height: 1px;\n",
       "  margin: -1px;\n",
       "  overflow: hidden;\n",
       "  padding: 0;\n",
       "  position: absolute;\n",
       "  width: 1px;\n",
       "}\n",
       "\n",
       "#sk-container-id-1 div.sk-dashed-wrapped {\n",
       "  border: 1px dashed var(--sklearn-color-line);\n",
       "  margin: 0 0.4em 0.5em 0.4em;\n",
       "  box-sizing: border-box;\n",
       "  padding-bottom: 0.4em;\n",
       "  background-color: var(--sklearn-color-background);\n",
       "}\n",
       "\n",
       "#sk-container-id-1 div.sk-container {\n",
       "  /* jupyter's `normalize.less` sets `[hidden] { display: none; }`\n",
       "     but bootstrap.min.css set `[hidden] { display: none !important; }`\n",
       "     so we also need the `!important` here to be able to override the\n",
       "     default hidden behavior on the sphinx rendered scikit-learn.org.\n",
       "     See: https://github.com/scikit-learn/scikit-learn/issues/21755 */\n",
       "  display: inline-block !important;\n",
       "  position: relative;\n",
       "}\n",
       "\n",
       "#sk-container-id-1 div.sk-text-repr-fallback {\n",
       "  display: none;\n",
       "}\n",
       "\n",
       "div.sk-parallel-item,\n",
       "div.sk-serial,\n",
       "div.sk-item {\n",
       "  /* draw centered vertical line to link estimators */\n",
       "  background-image: linear-gradient(var(--sklearn-color-text-on-default-background), var(--sklearn-color-text-on-default-background));\n",
       "  background-size: 2px 100%;\n",
       "  background-repeat: no-repeat;\n",
       "  background-position: center center;\n",
       "}\n",
       "\n",
       "/* Parallel-specific style estimator block */\n",
       "\n",
       "#sk-container-id-1 div.sk-parallel-item::after {\n",
       "  content: \"\";\n",
       "  width: 100%;\n",
       "  border-bottom: 2px solid var(--sklearn-color-text-on-default-background);\n",
       "  flex-grow: 1;\n",
       "}\n",
       "\n",
       "#sk-container-id-1 div.sk-parallel {\n",
       "  display: flex;\n",
       "  align-items: stretch;\n",
       "  justify-content: center;\n",
       "  background-color: var(--sklearn-color-background);\n",
       "  position: relative;\n",
       "}\n",
       "\n",
       "#sk-container-id-1 div.sk-parallel-item {\n",
       "  display: flex;\n",
       "  flex-direction: column;\n",
       "}\n",
       "\n",
       "#sk-container-id-1 div.sk-parallel-item:first-child::after {\n",
       "  align-self: flex-end;\n",
       "  width: 50%;\n",
       "}\n",
       "\n",
       "#sk-container-id-1 div.sk-parallel-item:last-child::after {\n",
       "  align-self: flex-start;\n",
       "  width: 50%;\n",
       "}\n",
       "\n",
       "#sk-container-id-1 div.sk-parallel-item:only-child::after {\n",
       "  width: 0;\n",
       "}\n",
       "\n",
       "/* Serial-specific style estimator block */\n",
       "\n",
       "#sk-container-id-1 div.sk-serial {\n",
       "  display: flex;\n",
       "  flex-direction: column;\n",
       "  align-items: center;\n",
       "  background-color: var(--sklearn-color-background);\n",
       "  padding-right: 1em;\n",
       "  padding-left: 1em;\n",
       "}\n",
       "\n",
       "\n",
       "/* Toggleable style: style used for estimator/Pipeline/ColumnTransformer box that is\n",
       "clickable and can be expanded/collapsed.\n",
       "- Pipeline and ColumnTransformer use this feature and define the default style\n",
       "- Estimators will overwrite some part of the style using the `sk-estimator` class\n",
       "*/\n",
       "\n",
       "/* Pipeline and ColumnTransformer style (default) */\n",
       "\n",
       "#sk-container-id-1 div.sk-toggleable {\n",
       "  /* Default theme specific background. It is overwritten whether we have a\n",
       "  specific estimator or a Pipeline/ColumnTransformer */\n",
       "  background-color: var(--sklearn-color-background);\n",
       "}\n",
       "\n",
       "/* Toggleable label */\n",
       "#sk-container-id-1 label.sk-toggleable__label {\n",
       "  cursor: pointer;\n",
       "  display: block;\n",
       "  width: 100%;\n",
       "  margin-bottom: 0;\n",
       "  padding: 0.5em;\n",
       "  box-sizing: border-box;\n",
       "  text-align: center;\n",
       "}\n",
       "\n",
       "#sk-container-id-1 label.sk-toggleable__label-arrow:before {\n",
       "  /* Arrow on the left of the label */\n",
       "  content: \"▸\";\n",
       "  float: left;\n",
       "  margin-right: 0.25em;\n",
       "  color: var(--sklearn-color-icon);\n",
       "}\n",
       "\n",
       "#sk-container-id-1 label.sk-toggleable__label-arrow:hover:before {\n",
       "  color: var(--sklearn-color-text);\n",
       "}\n",
       "\n",
       "/* Toggleable content - dropdown */\n",
       "\n",
       "#sk-container-id-1 div.sk-toggleable__content {\n",
       "  max-height: 0;\n",
       "  max-width: 0;\n",
       "  overflow: hidden;\n",
       "  text-align: left;\n",
       "  /* unfitted */\n",
       "  background-color: var(--sklearn-color-unfitted-level-0);\n",
       "}\n",
       "\n",
       "#sk-container-id-1 div.sk-toggleable__content.fitted {\n",
       "  /* fitted */\n",
       "  background-color: var(--sklearn-color-fitted-level-0);\n",
       "}\n",
       "\n",
       "#sk-container-id-1 div.sk-toggleable__content pre {\n",
       "  margin: 0.2em;\n",
       "  border-radius: 0.25em;\n",
       "  color: var(--sklearn-color-text);\n",
       "  /* unfitted */\n",
       "  background-color: var(--sklearn-color-unfitted-level-0);\n",
       "}\n",
       "\n",
       "#sk-container-id-1 div.sk-toggleable__content.fitted pre {\n",
       "  /* unfitted */\n",
       "  background-color: var(--sklearn-color-fitted-level-0);\n",
       "}\n",
       "\n",
       "#sk-container-id-1 input.sk-toggleable__control:checked~div.sk-toggleable__content {\n",
       "  /* Expand drop-down */\n",
       "  max-height: 200px;\n",
       "  max-width: 100%;\n",
       "  overflow: auto;\n",
       "}\n",
       "\n",
       "#sk-container-id-1 input.sk-toggleable__control:checked~label.sk-toggleable__label-arrow:before {\n",
       "  content: \"▾\";\n",
       "}\n",
       "\n",
       "/* Pipeline/ColumnTransformer-specific style */\n",
       "\n",
       "#sk-container-id-1 div.sk-label input.sk-toggleable__control:checked~label.sk-toggleable__label {\n",
       "  color: var(--sklearn-color-text);\n",
       "  background-color: var(--sklearn-color-unfitted-level-2);\n",
       "}\n",
       "\n",
       "#sk-container-id-1 div.sk-label.fitted input.sk-toggleable__control:checked~label.sk-toggleable__label {\n",
       "  background-color: var(--sklearn-color-fitted-level-2);\n",
       "}\n",
       "\n",
       "/* Estimator-specific style */\n",
       "\n",
       "/* Colorize estimator box */\n",
       "#sk-container-id-1 div.sk-estimator input.sk-toggleable__control:checked~label.sk-toggleable__label {\n",
       "  /* unfitted */\n",
       "  background-color: var(--sklearn-color-unfitted-level-2);\n",
       "}\n",
       "\n",
       "#sk-container-id-1 div.sk-estimator.fitted input.sk-toggleable__control:checked~label.sk-toggleable__label {\n",
       "  /* fitted */\n",
       "  background-color: var(--sklearn-color-fitted-level-2);\n",
       "}\n",
       "\n",
       "#sk-container-id-1 div.sk-label label.sk-toggleable__label,\n",
       "#sk-container-id-1 div.sk-label label {\n",
       "  /* The background is the default theme color */\n",
       "  color: var(--sklearn-color-text-on-default-background);\n",
       "}\n",
       "\n",
       "/* On hover, darken the color of the background */\n",
       "#sk-container-id-1 div.sk-label:hover label.sk-toggleable__label {\n",
       "  color: var(--sklearn-color-text);\n",
       "  background-color: var(--sklearn-color-unfitted-level-2);\n",
       "}\n",
       "\n",
       "/* Label box, darken color on hover, fitted */\n",
       "#sk-container-id-1 div.sk-label.fitted:hover label.sk-toggleable__label.fitted {\n",
       "  color: var(--sklearn-color-text);\n",
       "  background-color: var(--sklearn-color-fitted-level-2);\n",
       "}\n",
       "\n",
       "/* Estimator label */\n",
       "\n",
       "#sk-container-id-1 div.sk-label label {\n",
       "  font-family: monospace;\n",
       "  font-weight: bold;\n",
       "  display: inline-block;\n",
       "  line-height: 1.2em;\n",
       "}\n",
       "\n",
       "#sk-container-id-1 div.sk-label-container {\n",
       "  text-align: center;\n",
       "}\n",
       "\n",
       "/* Estimator-specific */\n",
       "#sk-container-id-1 div.sk-estimator {\n",
       "  font-family: monospace;\n",
       "  border: 1px dotted var(--sklearn-color-border-box);\n",
       "  border-radius: 0.25em;\n",
       "  box-sizing: border-box;\n",
       "  margin-bottom: 0.5em;\n",
       "  /* unfitted */\n",
       "  background-color: var(--sklearn-color-unfitted-level-0);\n",
       "}\n",
       "\n",
       "#sk-container-id-1 div.sk-estimator.fitted {\n",
       "  /* fitted */\n",
       "  background-color: var(--sklearn-color-fitted-level-0);\n",
       "}\n",
       "\n",
       "/* on hover */\n",
       "#sk-container-id-1 div.sk-estimator:hover {\n",
       "  /* unfitted */\n",
       "  background-color: var(--sklearn-color-unfitted-level-2);\n",
       "}\n",
       "\n",
       "#sk-container-id-1 div.sk-estimator.fitted:hover {\n",
       "  /* fitted */\n",
       "  background-color: var(--sklearn-color-fitted-level-2);\n",
       "}\n",
       "\n",
       "/* Specification for estimator info (e.g. \"i\" and \"?\") */\n",
       "\n",
       "/* Common style for \"i\" and \"?\" */\n",
       "\n",
       ".sk-estimator-doc-link,\n",
       "a:link.sk-estimator-doc-link,\n",
       "a:visited.sk-estimator-doc-link {\n",
       "  float: right;\n",
       "  font-size: smaller;\n",
       "  line-height: 1em;\n",
       "  font-family: monospace;\n",
       "  background-color: var(--sklearn-color-background);\n",
       "  border-radius: 1em;\n",
       "  height: 1em;\n",
       "  width: 1em;\n",
       "  text-decoration: none !important;\n",
       "  margin-left: 1ex;\n",
       "  /* unfitted */\n",
       "  border: var(--sklearn-color-unfitted-level-1) 1pt solid;\n",
       "  color: var(--sklearn-color-unfitted-level-1);\n",
       "}\n",
       "\n",
       ".sk-estimator-doc-link.fitted,\n",
       "a:link.sk-estimator-doc-link.fitted,\n",
       "a:visited.sk-estimator-doc-link.fitted {\n",
       "  /* fitted */\n",
       "  border: var(--sklearn-color-fitted-level-1) 1pt solid;\n",
       "  color: var(--sklearn-color-fitted-level-1);\n",
       "}\n",
       "\n",
       "/* On hover */\n",
       "div.sk-estimator:hover .sk-estimator-doc-link:hover,\n",
       ".sk-estimator-doc-link:hover,\n",
       "div.sk-label-container:hover .sk-estimator-doc-link:hover,\n",
       ".sk-estimator-doc-link:hover {\n",
       "  /* unfitted */\n",
       "  background-color: var(--sklearn-color-unfitted-level-3);\n",
       "  color: var(--sklearn-color-background);\n",
       "  text-decoration: none;\n",
       "}\n",
       "\n",
       "div.sk-estimator.fitted:hover .sk-estimator-doc-link.fitted:hover,\n",
       ".sk-estimator-doc-link.fitted:hover,\n",
       "div.sk-label-container:hover .sk-estimator-doc-link.fitted:hover,\n",
       ".sk-estimator-doc-link.fitted:hover {\n",
       "  /* fitted */\n",
       "  background-color: var(--sklearn-color-fitted-level-3);\n",
       "  color: var(--sklearn-color-background);\n",
       "  text-decoration: none;\n",
       "}\n",
       "\n",
       "/* Span, style for the box shown on hovering the info icon */\n",
       ".sk-estimator-doc-link span {\n",
       "  display: none;\n",
       "  z-index: 9999;\n",
       "  position: relative;\n",
       "  font-weight: normal;\n",
       "  right: .2ex;\n",
       "  padding: .5ex;\n",
       "  margin: .5ex;\n",
       "  width: min-content;\n",
       "  min-width: 20ex;\n",
       "  max-width: 50ex;\n",
       "  color: var(--sklearn-color-text);\n",
       "  box-shadow: 2pt 2pt 4pt #999;\n",
       "  /* unfitted */\n",
       "  background: var(--sklearn-color-unfitted-level-0);\n",
       "  border: .5pt solid var(--sklearn-color-unfitted-level-3);\n",
       "}\n",
       "\n",
       ".sk-estimator-doc-link.fitted span {\n",
       "  /* fitted */\n",
       "  background: var(--sklearn-color-fitted-level-0);\n",
       "  border: var(--sklearn-color-fitted-level-3);\n",
       "}\n",
       "\n",
       ".sk-estimator-doc-link:hover span {\n",
       "  display: block;\n",
       "}\n",
       "\n",
       "/* \"?\"-specific style due to the `<a>` HTML tag */\n",
       "\n",
       "#sk-container-id-1 a.estimator_doc_link {\n",
       "  float: right;\n",
       "  font-size: 1rem;\n",
       "  line-height: 1em;\n",
       "  font-family: monospace;\n",
       "  background-color: var(--sklearn-color-background);\n",
       "  border-radius: 1rem;\n",
       "  height: 1rem;\n",
       "  width: 1rem;\n",
       "  text-decoration: none;\n",
       "  /* unfitted */\n",
       "  color: var(--sklearn-color-unfitted-level-1);\n",
       "  border: var(--sklearn-color-unfitted-level-1) 1pt solid;\n",
       "}\n",
       "\n",
       "#sk-container-id-1 a.estimator_doc_link.fitted {\n",
       "  /* fitted */\n",
       "  border: var(--sklearn-color-fitted-level-1) 1pt solid;\n",
       "  color: var(--sklearn-color-fitted-level-1);\n",
       "}\n",
       "\n",
       "/* On hover */\n",
       "#sk-container-id-1 a.estimator_doc_link:hover {\n",
       "  /* unfitted */\n",
       "  background-color: var(--sklearn-color-unfitted-level-3);\n",
       "  color: var(--sklearn-color-background);\n",
       "  text-decoration: none;\n",
       "}\n",
       "\n",
       "#sk-container-id-1 a.estimator_doc_link.fitted:hover {\n",
       "  /* fitted */\n",
       "  background-color: var(--sklearn-color-fitted-level-3);\n",
       "}\n",
       "</style><div id=\"sk-container-id-1\" class=\"sk-top-container\"><div class=\"sk-text-repr-fallback\"><pre>LGBMRegressor(colsample_bytree=0.770371347425082,\n",
       "              learning_rate=0.03420458236823464, max_depth=15,\n",
       "              min_child_samples=30, num_leaves=1008,\n",
       "              subsample=0.5038378442923164)</pre><b>In a Jupyter environment, please rerun this cell to show the HTML representation or trust the notebook. <br />On GitHub, the HTML representation is unable to render, please try loading this page with nbviewer.org.</b></div><div class=\"sk-container\" hidden><div class=\"sk-item\"><div class=\"sk-estimator  sk-toggleable\"><input class=\"sk-toggleable__control sk-hidden--visually\" id=\"sk-estimator-id-1\" type=\"checkbox\" checked><label for=\"sk-estimator-id-1\" class=\"sk-toggleable__label  sk-toggleable__label-arrow \">&nbsp;LGBMRegressor<span class=\"sk-estimator-doc-link \">i<span>Not fitted</span></span></label><div class=\"sk-toggleable__content \"><pre>LGBMRegressor(colsample_bytree=0.770371347425082,\n",
       "              learning_rate=0.03420458236823464, max_depth=15,\n",
       "              min_child_samples=30, num_leaves=1008,\n",
       "              subsample=0.5038378442923164)</pre></div> </div></div></div></div>"
      ],
      "text/plain": [
       "LGBMRegressor(colsample_bytree=0.770371347425082,\n",
       "              learning_rate=0.03420458236823464, max_depth=15,\n",
       "              min_child_samples=30, num_leaves=1008,\n",
       "              subsample=0.5038378442923164)"
      ]
     },
     "execution_count": 57,
     "metadata": {},
     "output_type": "execute_result"
    }
   ],
   "source": [
    "best_lgbm = lgb.LGBMRegressor(**study_lgbm.best_params)\n",
    "best_lgbm"
   ]
  },
  {
   "cell_type": "markdown",
   "metadata": {},
   "source": [
    "Обучаем модель на лучших гиперпараметрах:"
   ]
  },
  {
   "cell_type": "code",
   "execution_count": 58,
   "metadata": {},
   "outputs": [
    {
     "name": "stdout",
     "output_type": "stream",
     "text": [
      "Время обучения LightGBM: 86.35858130455017 секунд \n"
     ]
    }
   ],
   "source": [
    "# включаем счетчик на обучение\n",
    "start_time = time.time()\n",
    "\n",
    "best_lgbm.fit(features_train, target_train)\n",
    "\n",
    "# останавливаем время\n",
    "end_time = time.time()\n",
    "train_time_lgb = end_time - start_time\n",
    "\n",
    "print(f'''Время обучения LightGBM: {train_time_lgb} секунд ''')"
   ]
  },
  {
   "cell_type": "markdown",
   "metadata": {},
   "source": [
    "Получим предсказания:"
   ]
  },
  {
   "cell_type": "code",
   "execution_count": 59,
   "metadata": {},
   "outputs": [
    {
     "name": "stdout",
     "output_type": "stream",
     "text": [
      "Время предсказания LightGBM: 3.442070960998535 секунд \n"
     ]
    }
   ],
   "source": [
    "# включаем счетчик на предсказания\n",
    "start_time = time.time()\n",
    "\n",
    "y_pred_lgb = best_lgbm.predict(features_valid)\n",
    "\n",
    "# останавливаем счетчик\n",
    "end_time = time.time()\n",
    "predict_time_lgb = end_time - start_time\n",
    "\n",
    "print(f'''Время предсказания LightGBM: {predict_time_lgb} секунд ''')"
   ]
  },
  {
   "cell_type": "markdown",
   "metadata": {},
   "source": [
    "Оценим качество модели метрикой RMSE на валидационной выборке:"
   ]
  },
  {
   "cell_type": "code",
   "execution_count": 60,
   "metadata": {},
   "outputs": [
    {
     "name": "stdout",
     "output_type": "stream",
     "text": [
      "RMSE на валидационной выборке LightGBM: 1595.57 \n"
     ]
    }
   ],
   "source": [
    "rmse_lgb = root_mean_squared_error(target_valid, y_pred_lgb)\n",
    "\n",
    "print(f'''RMSE на валидационной выборке LightGBM: {rmse_lgb:.2f} ''')"
   ]
  },
  {
   "cell_type": "markdown",
   "metadata": {},
   "source": [
    "**Вывод**: с помощью OptunaSearchCV найдены лучшие гиперпараметры для модели градиентного бустинга LightGBM: \n",
    "\n",
    "LGBMRegressor(colsample_bytree=0.770371347425082,\n",
    "              learning_rate=0.03420458236823464, max_depth=15,\n",
    "              min_child_samples=30, num_leaves=1008,\n",
    "              subsample=0.5038378442923164)\n",
    "              \n",
    "Время обучения модели с лучшими гиперпараметрами составило 86.36 секунд. Метрика RMSE на валидационной выборке равна 1595.57."
   ]
  },
  {
   "cell_type": "markdown",
   "metadata": {},
   "source": [
    "### Модель LinearRegression"
   ]
  },
  {
   "cell_type": "markdown",
   "metadata": {},
   "source": [
    "Копируем выборки с признаками для обработки:"
   ]
  },
  {
   "cell_type": "code",
   "execution_count": 204,
   "metadata": {},
   "outputs": [],
   "source": [
    "features_train_scaler_ohe = features_train.copy()\n",
    "features_valid_scaler_ohe = features_valid.copy()\n",
    "features_test_scaler_ohe = features_test.copy()"
   ]
  },
  {
   "cell_type": "markdown",
   "metadata": {},
   "source": [
    "Масштабируем количественные признаки:"
   ]
  },
  {
   "cell_type": "code",
   "execution_count": 205,
   "metadata": {},
   "outputs": [
    {
     "data": {
      "text/html": [
       "<div>\n",
       "<style scoped>\n",
       "    .dataframe tbody tr th:only-of-type {\n",
       "        vertical-align: middle;\n",
       "    }\n",
       "\n",
       "    .dataframe tbody tr th {\n",
       "        vertical-align: top;\n",
       "    }\n",
       "\n",
       "    .dataframe thead th {\n",
       "        text-align: right;\n",
       "    }\n",
       "</style>\n",
       "<table border=\"1\" class=\"dataframe\">\n",
       "  <thead>\n",
       "    <tr style=\"text-align: right;\">\n",
       "      <th></th>\n",
       "      <th>vehicle_type</th>\n",
       "      <th>registration_year</th>\n",
       "      <th>gearbox</th>\n",
       "      <th>power</th>\n",
       "      <th>model</th>\n",
       "      <th>kilometer</th>\n",
       "      <th>fuel_type</th>\n",
       "      <th>brand</th>\n",
       "      <th>repaired</th>\n",
       "    </tr>\n",
       "  </thead>\n",
       "  <tbody>\n",
       "    <tr>\n",
       "      <th>125963</th>\n",
       "      <td>sedan</td>\n",
       "      <td>0.492449</td>\n",
       "      <td>manual</td>\n",
       "      <td>1.071433</td>\n",
       "      <td>other</td>\n",
       "      <td>0.580087</td>\n",
       "      <td>petrol</td>\n",
       "      <td>alfa_romeo</td>\n",
       "      <td>no</td>\n",
       "    </tr>\n",
       "    <tr>\n",
       "      <th>179410</th>\n",
       "      <td>sedan</td>\n",
       "      <td>0.928578</td>\n",
       "      <td>manual</td>\n",
       "      <td>0.059588</td>\n",
       "      <td>golf</td>\n",
       "      <td>-1.836075</td>\n",
       "      <td>petrol</td>\n",
       "      <td>volkswagen</td>\n",
       "      <td>no</td>\n",
       "    </tr>\n",
       "  </tbody>\n",
       "</table>\n",
       "</div>"
      ],
      "text/plain": [
       "       vehicle_type  registration_year gearbox     power  model  kilometer  \\\n",
       "125963        sedan           0.492449  manual  1.071433  other   0.580087   \n",
       "179410        sedan           0.928578  manual  0.059588   golf  -1.836075   \n",
       "\n",
       "       fuel_type       brand repaired  \n",
       "125963    petrol  alfa_romeo       no  \n",
       "179410    petrol  volkswagen       no  "
      ]
     },
     "execution_count": 205,
     "metadata": {},
     "output_type": "execute_result"
    }
   ],
   "source": [
    "# отбираем количественные признаки\n",
    "num_columns = features_train.select_dtypes(exclude=['category']).columns\n",
    "\n",
    "# инициализируем объект StandardScaler\n",
    "scaler = StandardScaler()\n",
    "\n",
    "# масштабируем\n",
    "features_train_scaler_ohe[num_columns] = scaler.fit_transform(features_train_scaler_ohe[num_columns])\n",
    "\n",
    "features_valid_scaler_ohe[num_columns] = scaler.transform(features_valid_scaler_ohe[num_columns])\n",
    "\n",
    "features_test_scaler_ohe[num_columns] = scaler.transform(features_test_scaler_ohe[num_columns])\n",
    "\n",
    "# проверяем\n",
    "features_test_scaler_ohe.sample(2)"
   ]
  },
  {
   "cell_type": "markdown",
   "metadata": {},
   "source": [
    "Кодирование осуществляем c помощью OneHotEncoder:"
   ]
  },
  {
   "cell_type": "code",
   "execution_count": 206,
   "metadata": {},
   "outputs": [],
   "source": [
    "from sklearn.preprocessing import OneHotEncoder\n",
    "# инициализируем кодировщик\n",
    "encoder = OneHotEncoder(drop='first', handle_unknown='error')\n",
    "\n",
    "# отбираем категориальные признаки\n",
    "cat_col_names = features_train.select_dtypes(include=['category']).columns\n",
    "\n",
    "# кодируем признаки\n",
    "features_train_scaler_ohe = encoder.fit_transform(features_train_scaler_ohe[cat_col_names])\n",
    "features_valid_scaler_ohe = encoder.transform(features_valid_scaler_ohe[cat_col_names])\n",
    "features_test_scaler_ohe = encoder.transform(features_test_scaler_ohe[cat_col_names])"
   ]
  },
  {
   "cell_type": "markdown",
   "metadata": {},
   "source": [
    "Обучаем модель:"
   ]
  },
  {
   "cell_type": "code",
   "execution_count": 207,
   "metadata": {},
   "outputs": [
    {
     "name": "stdout",
     "output_type": "stream",
     "text": [
      "Время обучения LinearRegression: 33.94187784194946 секунд \n",
      "RMSE модели LinearRegression на кросс-валидации: 3603.87 \n"
     ]
    }
   ],
   "source": [
    "# включаем счетчик\n",
    "start_time = time.time()\n",
    "\n",
    "# инициализируем модель линейной регрессии\n",
    "model_lr = LinearRegression()\n",
    "\n",
    "# обучаем модель\n",
    "model_lr.fit(features_train_scaler_ohe, target_train)\n",
    "\n",
    "# останавливаем время\n",
    "end_time = time.time()\n",
    "train_time_lr = end_time - start_time\n",
    "\n",
    "print(f'''Время обучения LinearRegression: {train_time_lr} секунд ''')\n",
    "\n",
    "# рассчитываем метрику RMSE на кросс-валидации\n",
    "rmse_train_lr = abs(cross_val_score(model_lr, features_train_scaler_ohe, \n",
    "                                    target_train, cv=5, \n",
    "                                    scoring='neg_root_mean_squared_error').mean())\n",
    "\n",
    "print(f'''RMSE модели LinearRegression на кросс-валидации: {rmse_train_lr:.2f} ''')"
   ]
  },
  {
   "cell_type": "markdown",
   "metadata": {},
   "source": [
    "Рассчитаем метрику RMSE на валидационной выборке:"
   ]
  },
  {
   "cell_type": "code",
   "execution_count": 208,
   "metadata": {},
   "outputs": [
    {
     "name": "stdout",
     "output_type": "stream",
     "text": [
      "Время предсказания LinearRegression: 0.001878499984741211 секунд \n"
     ]
    }
   ],
   "source": [
    "# включаем счетчик\n",
    "start_time = time.time()\n",
    "\n",
    "# получаем предсказания\n",
    "model_lr.predict(features_valid_scaler_ohe)\n",
    "\n",
    "# останавливаем время\n",
    "end_time = time.time()\n",
    "predict_time_lr = end_time - start_time\n",
    "\n",
    "print(f'''Время предсказания LinearRegression: {predict_time_lr} секунд ''')"
   ]
  },
  {
   "cell_type": "markdown",
   "metadata": {},
   "source": [
    "Оценим качество модели метрикой RMSE на валидационной выборке:"
   ]
  },
  {
   "cell_type": "code",
   "execution_count": 209,
   "metadata": {},
   "outputs": [
    {
     "name": "stdout",
     "output_type": "stream",
     "text": [
      "RMSE на валидационной выборке LinearRegression: 3554.93 \n"
     ]
    }
   ],
   "source": [
    "# рассчитываем метрику\n",
    "rmse_lr = root_mean_squared_error(target_valid, model_lr.predict(features_valid_scaler_ohe))\n",
    "\n",
    "print(f'''RMSE на валидационной выборке LinearRegression: {rmse_lr:.2f} ''')"
   ]
  },
  {
   "cell_type": "markdown",
   "metadata": {},
   "source": [
    "**Вывод**: обучена модель линейной регрессии LinearRegression.\n",
    "\n",
    "Время обучения составило 32.25 секунд, метрика RMSE на валидационной выборке равна 3554.93. Критерий успеха RMSE < 2500 не достигнут."
   ]
  },
  {
   "cell_type": "markdown",
   "metadata": {},
   "source": [
    "## Анализ моделей"
   ]
  },
  {
   "cell_type": "markdown",
   "metadata": {},
   "source": [
    "Сохраним результаты обучения моделей в таблицу:"
   ]
  },
  {
   "cell_type": "code",
   "execution_count": 210,
   "metadata": {
    "scrolled": true
   },
   "outputs": [
    {
     "data": {
      "text/html": [
       "<div>\n",
       "<style scoped>\n",
       "    .dataframe tbody tr th:only-of-type {\n",
       "        vertical-align: middle;\n",
       "    }\n",
       "\n",
       "    .dataframe tbody tr th {\n",
       "        vertical-align: top;\n",
       "    }\n",
       "\n",
       "    .dataframe thead th {\n",
       "        text-align: right;\n",
       "    }\n",
       "</style>\n",
       "<table border=\"1\" class=\"dataframe\">\n",
       "  <thead>\n",
       "    <tr style=\"text-align: right;\">\n",
       "      <th></th>\n",
       "      <th>LightGBM</th>\n",
       "      <th>LinearRegression</th>\n",
       "    </tr>\n",
       "  </thead>\n",
       "  <tbody>\n",
       "    <tr>\n",
       "      <th>Время обучения (сек)</th>\n",
       "      <td>86.358581</td>\n",
       "      <td>33.941878</td>\n",
       "    </tr>\n",
       "    <tr>\n",
       "      <th>Время предсказания (сек)</th>\n",
       "      <td>3.442071</td>\n",
       "      <td>0.001878</td>\n",
       "    </tr>\n",
       "    <tr>\n",
       "      <th>Метрика RMSE на валид.выборке</th>\n",
       "      <td>1595.572554</td>\n",
       "      <td>3554.933811</td>\n",
       "    </tr>\n",
       "  </tbody>\n",
       "</table>\n",
       "</div>"
      ],
      "text/plain": [
       "                                  LightGBM  LinearRegression\n",
       "Время обучения (сек)             86.358581         33.941878\n",
       "Время предсказания (сек)          3.442071          0.001878\n",
       "Метрика RMSE на валид.выборке  1595.572554       3554.933811"
      ]
     },
     "execution_count": 210,
     "metadata": {},
     "output_type": "execute_result"
    }
   ],
   "source": [
    "df = pd.DataFrame(columns=['LightGBM', 'LinearRegression'])\n",
    "df.loc['Время обучения (сек)'] = [train_time_lgb, train_time_lr]\n",
    "df.loc['Время предсказания (сек)'] = [predict_time_lgb, predict_time_lr]\n",
    "df.loc['Метрика RMSE на валид.выборке'] = [rmse_lgb, rmse_lr]\n",
    "df"
   ]
  },
  {
   "cell_type": "markdown",
   "metadata": {},
   "source": [
    "Среди двух моделей - LightGBM и LinearRegression наиболее быстрая по времени обучения и предсказания - LinearRegression, но точность данной модели не высокая. Лучше по качеству предсказаний оказалась модель LightGBM.\n",
    "\n",
    "Сделаем предсказание на тестовой выборке лучшей моделью - LightGBM и рассчитаем метрику RMSE на тестовых данных:"
   ]
  },
  {
   "cell_type": "code",
   "execution_count": 211,
   "metadata": {
    "scrolled": true
   },
   "outputs": [
    {
     "name": "stdout",
     "output_type": "stream",
     "text": [
      "Время предсказания на тестовых данных LightGBM: 3.153353452682495 секунд \n",
      "RMSE на тестовой выборке LightGBM: 1592.34 \n"
     ]
    }
   ],
   "source": [
    "# включаем счетчик на предсказания\n",
    "start_time = time.time()\n",
    "\n",
    "y_pred_lgb_test = best_lgbm.predict(features_test)\n",
    "\n",
    "# останавливаем счетчик\n",
    "end_time = time.time()\n",
    "predict_time_lgb_test = end_time - start_time\n",
    "\n",
    "print(f'''Время предсказания на тестовых данных LightGBM: {predict_time_lgb_test} секунд ''')\n",
    "\n",
    "rmse_lgb_test = root_mean_squared_error(target_test, y_pred_lgb_test)\n",
    "\n",
    "print(f'''RMSE на тестовой выборке LightGBM: {rmse_lgb_test:.2f} ''')"
   ]
  },
  {
   "cell_type": "markdown",
   "metadata": {},
   "source": [
    "Создаем функцию для отображения важности признаков:"
   ]
  },
  {
   "cell_type": "code",
   "execution_count": 212,
   "metadata": {},
   "outputs": [],
   "source": [
    "def importances(model,features):\n",
    "    features=features.columns\n",
    "    importances = model.feature_importances_\n",
    "    indices = np.argsort(importances)\n",
    "    \n",
    "    plt.figure(figsize=(11, 5))\n",
    "    plt.title('Важность признаков')\n",
    "    plt.barh(range(len(indices)), importances[indices], color='#6495ED', align='center')\n",
    "    plt.yticks(range(len(indices)), features[indices])\n",
    "    plt.show()\n",
    "        \n",
    "    feat_importances = pd.Series(importances, index=features).sort_values(ascending=False)\n",
    "    feat_importances = feat_importances.to_frame()\n",
    "    feat_importances.columns=['Признак / Важность']\n",
    "    display(feat_importances)"
   ]
  },
  {
   "cell_type": "markdown",
   "metadata": {},
   "source": [
    "Отобразим какие признаки наиболее важны для ценообразования автомобилей в лучшей модели LightGBM:"
   ]
  },
  {
   "cell_type": "code",
   "execution_count": 213,
   "metadata": {},
   "outputs": [
    {
     "data": {
      "image/png": "[encoded data removed]",
      "text/plain": [
       "<Figure size 792x360 with 1 Axes>"
      ]
     },
     "metadata": {},
     "output_type": "display_data"
    },
    {
     "data": {
      "text/html": [
       "<div>\n",
       "<style scoped>\n",
       "    .dataframe tbody tr th:only-of-type {\n",
       "        vertical-align: middle;\n",
       "    }\n",
       "\n",
       "    .dataframe tbody tr th {\n",
       "        vertical-align: top;\n",
       "    }\n",
       "\n",
       "    .dataframe thead th {\n",
       "        text-align: right;\n",
       "    }\n",
       "</style>\n",
       "<table border=\"1\" class=\"dataframe\">\n",
       "  <thead>\n",
       "    <tr style=\"text-align: right;\">\n",
       "      <th></th>\n",
       "      <th>Признак / Важность</th>\n",
       "    </tr>\n",
       "  </thead>\n",
       "  <tbody>\n",
       "    <tr>\n",
       "      <th>power</th>\n",
       "      <td>32359</td>\n",
       "    </tr>\n",
       "    <tr>\n",
       "      <th>kilometer</th>\n",
       "      <td>18233</td>\n",
       "    </tr>\n",
       "    <tr>\n",
       "      <th>registration_year</th>\n",
       "      <td>16934</td>\n",
       "    </tr>\n",
       "    <tr>\n",
       "      <th>model</th>\n",
       "      <td>10635</td>\n",
       "    </tr>\n",
       "    <tr>\n",
       "      <th>gearbox</th>\n",
       "      <td>6391</td>\n",
       "    </tr>\n",
       "    <tr>\n",
       "      <th>brand</th>\n",
       "      <td>5436</td>\n",
       "    </tr>\n",
       "    <tr>\n",
       "      <th>vehicle_type</th>\n",
       "      <td>4901</td>\n",
       "    </tr>\n",
       "    <tr>\n",
       "      <th>repaired</th>\n",
       "      <td>4690</td>\n",
       "    </tr>\n",
       "    <tr>\n",
       "      <th>fuel_type</th>\n",
       "      <td>346</td>\n",
       "    </tr>\n",
       "  </tbody>\n",
       "</table>\n",
       "</div>"
      ],
      "text/plain": [
       "                   Признак / Важность\n",
       "power                           32359\n",
       "kilometer                       18233\n",
       "registration_year               16934\n",
       "model                           10635\n",
       "gearbox                          6391\n",
       "brand                            5436\n",
       "vehicle_type                     4901\n",
       "repaired                         4690\n",
       "fuel_type                         346"
      ]
     },
     "metadata": {},
     "output_type": "display_data"
    }
   ],
   "source": [
    "importances(best_lgbm, features_train)"
   ]
  },
  {
   "cell_type": "markdown",
   "metadata": {},
   "source": [
    "Наибольший вклад в ценообразование имеет признак - мощность автомобиля (л.с.), вторым по явлется пробег (км), чуть менее важные - год регистрации, модель и тип коробки передач. А вот тип топливной системы на последнем месте."
   ]
  },
  {
   "cell_type": "markdown",
   "metadata": {},
   "source": [
    "## Общий вывод"
   ]
  },
  {
   "cell_type": "markdown",
   "metadata": {},
   "source": [
    "**РЕАЛИЗАЦИЯ ЗАДАЧИ ПО ЭТАПАМ**:\n",
    "\n",
    "**ЭТАП 1. Подготовка данных**.\n",
    "\n",
    "1. **Загрузка данных, изучение информации**.\n",
    "Импортированы необходимые библиотеки. Загружен файл с данными в датафрейм df_autos, в котором 354369 строк, 16 столбцов. Имелись пропуски, неверные типы данных и некорректная запись названий столбцов.\n",
    "\n",
    "\n",
    "2. **Предобработка данных**. На данном этапе выполнены:\n",
    "\n",
    "- Корректировка записи названий столбцов - названия столбцов приведены к \"змеиному\" регистру;\n",
    "- Проверка наличия явных дубликатов - явные дубликаты (4 строки) удалены;\n",
    "- Проверка наличия неявных дубликатов, ошибок: \n",
    "   - неявные дубликаты в столбце 'fuel_type' (тип топлива): 'petrol' и 'gasoline' - это два разных названия для одного и того же топлива, бензина ('gasoline' чаще используется в Северной Америке, а 'petrol' - в других странах). Значение 'gasoline' заменено на 'petrol';\n",
    "   - в столбце 'model' (модель автомобиля) обнаружен неявный дубликат: 'rangerover' и 'range_rover' - это два разных названия для одного и того же. Заменено значение 'rangerover' на 'range_rover';\n",
    "- Удаление ненужных данных. Для моделирования не требуются такие данные, удалены:\n",
    "   - date_crawled — дата скачивания анкеты из базы;\n",
    "   - date_created — дата создания анкеты;\n",
    "   - number_of_pictures — количество фотографий автомобиля;\n",
    "   - postal_code — почтовый индекс владельца анкеты (пользователя);\n",
    "   - registration_month - месяц регистрации автомобиля;\n",
    "   - last_seen — дата последней активности пользователя.\n",
    "- Проверка наличия пропущенных значений. В столбцах:\n",
    "   - 'vehicle_type' - тип кузова. Пропуски заменены на значение 'other';\n",
    "   - 'gearbox' - тип коробки передач. Пропуски заменены на значение 'manual' как на наиболее часто встречающееся значение;\n",
    "   - 'model' - модель автомобиля. Пропуски заменены на значение 'unknown';\n",
    "   - 'fuel_type' - тип топлива. Пропуски заменены на значение 'other';\n",
    "   - 'repaired' - была машина в ремонте или нет. Пропуски заменены на значение 'yes' - автомобиль был в ремонте, т.к. есть предположение, что владелец автомобиля не захотел \"светить\" аварийность или прошлые неисправности своего автомобиля, поэтому не заполнил данный пункт в анкете. Т.к. автомобили, бывшие ремонте, ценятся покупателями меньше, т.е. спрос на них снижается, что вызывает понижение цены данного автомобиля.\n",
    "  \n",
    "\n",
    "\n",
    "3. **Исследовательский анализ данных**. Выполнено:\n",
    "\n",
    "- Созданы функции для визуализации признаков:\n",
    "   - гистограмма, диаграмма размаха для количественных непрерывных признаков;\n",
    "   - столбчатая диаграмма для категориальных признаков и дискретных количественных.\n",
    "\n",
    "\n",
    "- Проведен статистический анализ признаков. Обнаружены аномалии в значениях:\n",
    "   - 'price' - цена (целевой признак). Строки со значениями до 50 евро удалены;\n",
    "   - 'registration_year' - год регистрации автомобиля. Автомобилей с годом регистрации позже 2016 года и ранее 1908 года удалены;\n",
    "   - 'power' - мощность автомобиля. Мощность, равную нулю, заменили на медианное значение по модели автомобиля. Остальные значения мощности до 10 и от 500 л.с. удалены.\n",
    "   \n",
    "Данные в датасете представлены об автомобилях стоимостью от 50 до 20000 евро, средняя цена - 4577.11 евро, медиана - 2900 евро. Больше всего автомобилей с типом кузова седан (sedan) - 26% и хэтчбэки (small) - 22.7%, меньше всего купе (coupe) - 4.55% и внедорожники (suv) - 3.44%. Имеем данные по автомобилям с годом регистрации от 1910 по 2016. С 1990 года заметен значительный рост регистрации автомобилей. Увеличение доходов населения в развивающихся странах привело к большей покупательской способности, что позволило многим людям приобретать автомобили. Также, развитие дорожной сети и общественного транспорта сделало использование личного автомобиля более удобным и безопасным. Больше всего представлено автомобилей с механической коробкой передач (80.85%), с автоматической - 19.14%. Средняя мощность автомобилей 118.71 л.с., медиана - 109 л.с. Общее распределение мощности от 11 до 490 л.с. Наибольшее количество автомобилей с пробегом в категории 150000 - почти 67%, меньше всего - категория 10000 - 0.31%. У 91% автомобилей бензиновая топливная система. Меньше 1% у гибридных, элетрических и газовых систем. В датасете представлено 40 марок автомобилей. Больше всего (21.5%) - Volkswagen, Opel - 11.12%, BMV - 10.54%. Остальных марок менее 10% на каждую. Менее 0.1% у отечественного производителя - Lada. Подвергались ремонту почти 28% автомобилей. \n",
    "\n",
    "Доля удаленных данных от исходного датасета: 7.57 %.\n",
    "\n",
    "\n",
    "4. **Корреляционный анализ данных**. Построена матрица корреляции с использованием phik и тепловая карта для ее визуализации. Согласно шкале Чеддока определена степень зависимости целевого признака от входных: \n",
    "- заметная:\n",
    "   - модель автомобиля (0.574);\n",
    "   - мощность (0.507);\n",
    "   - год регистрации (0.584);\n",
    "- умеренная:\n",
    "   - был ремонт автомобиля (0.412);\n",
    "   - марка автомобиля (0.364);\n",
    "   - пробег (0.325);\n",
    "   - тип коробки передач (0.336);\n",
    "- слабая:\n",
    "   - тип топлива (0.133);\n",
    "   - тип кузова (0.288).\n",
    "   \n",
    "**ЭТАП 2. Обучение моделей**.\n",
    "\n",
    "1. **Подготовка, деление данных**. Преобразованы все строковые типы признаков в категориальный тип. Датасет разделен на выборки:  тренировочную (train), тестовую (test) и валидационную (valid) в соотношении 3:1:1 (60%, 20%, 20%).\n",
    "\n",
    "\n",
    "2. **Модель LightGBM**. Создание и обучение. С помощью OptunaSearchCV найдены лучшие гиперпараметры для модели градиентного бустинга LightGBM:\n",
    "\n",
    "LGBMRegressor(colsample_bytree=0.770371347425082, learning_rate=0.03420458236823464, max_depth=15, min_child_samples=30, num_leaves=1008, subsample=0.5038378442923164)\n",
    "\n",
    "Время обучения модели с лучшими гиперпараметрами составило 86.36 секунд, предсказания - 3.44 секунды. Метрика RMSE на валидационной выборке равна 1595.57.\n",
    "\n",
    "3. **Модель LinearRegression**. Создание и обучение. Осуществлено масштабирование количественных признаков с помощью StandardScaler, кодирование с помощью OneHotEncoder. \n",
    "\n",
    "Время обучения составило 32.25 секунд, предсказания - 0.02 секунд, метрика RMSE на валидационной выборке равна 3554.93. Критерий успеха RMSE < 2500 не достигнут.\n",
    "\n",
    "**ЭТАП 3. Анализ моделей**. Полученные результаты метрик и времени обучения, предсказания сохранены в общей таблице.  \n",
    "\n",
    "Среди двух моделей - LightGBM и LinearRegression наиболее быстрая по времени обучения и предсказания - LinearRegression, но точность данной модели не высокая. Лучше по качеству предсказаний оказалась модель LightGBM.\n",
    "\n",
    "Выбрана **лучшая модель** - LGBMRegressor с гиперпараметрами: colsample_bytree=0.770371347425082, learning_rate=0.03420458236823464, max_depth=15, min_child_samples=30, num_leaves=1008, subsample=0.5038378442923164.\n",
    "\n",
    "Качество лучшей модели проверено на тестовых данных:\n",
    "- Время предсказания: 3.13 секунд;\n",
    "- RMSE: 1592.34.\n",
    "\n",
    "Создана функция для отображения важности признаков - построение \"барплот\" и таблицы с важностью признаков.\n",
    "Наибольший вклад в ценообразование имеет признак - мощность автомобиля (л.с.), вторым по явлется пробег (км), чуть менее важные - год регистрации, модель и тип коробки передач. А вот тип топливной системы на последнем месте."
   ]
  }
 ],
 "metadata": {
  "ExecuteTimeLog": [
   {
    "duration": 9155,
    "start_time": "2025-06-07T11:14:23.959Z"
   },
   {
    "duration": 904,
    "start_time": "2025-06-07T11:16:32.159Z"
   },
   {
    "duration": 885,
    "start_time": "2025-06-07T11:16:41.672Z"
   },
   {
    "duration": 29,
    "start_time": "2025-06-07T11:17:00.122Z"
   },
   {
    "duration": 190,
    "start_time": "2025-06-07T11:17:41.268Z"
   },
   {
    "duration": 1830,
    "start_time": "2025-06-07T11:18:58.479Z"
   },
   {
    "duration": 171,
    "start_time": "2025-06-07T11:19:00.311Z"
   },
   {
    "duration": 105,
    "start_time": "2025-06-07T11:36:16.613Z"
   },
   {
    "duration": 16,
    "start_time": "2025-06-07T11:37:22.660Z"
   },
   {
    "duration": 2410,
    "start_time": "2025-06-07T11:37:50.622Z"
   },
   {
    "duration": 6,
    "start_time": "2025-06-07T11:38:01.060Z"
   },
   {
    "duration": 4,
    "start_time": "2025-06-07T11:39:01.473Z"
   },
   {
    "duration": 537,
    "start_time": "2025-06-07T11:40:23.909Z"
   },
   {
    "duration": 489,
    "start_time": "2025-06-07T12:10:53.801Z"
   },
   {
    "duration": 479,
    "start_time": "2025-06-07T12:11:15.100Z"
   },
   {
    "duration": 1050,
    "start_time": "2025-06-07T12:21:03.299Z"
   },
   {
    "duration": 934,
    "start_time": "2025-06-07T12:21:11.377Z"
   },
   {
    "duration": 899,
    "start_time": "2025-06-07T12:21:18.544Z"
   },
   {
    "duration": 3640,
    "start_time": "2025-06-07T12:21:27.589Z"
   },
   {
    "duration": 2542,
    "start_time": "2025-06-07T12:21:31.231Z"
   },
   {
    "duration": 165,
    "start_time": "2025-06-07T12:21:33.775Z"
   },
   {
    "duration": 4,
    "start_time": "2025-06-07T12:21:33.942Z"
   },
   {
    "duration": 540,
    "start_time": "2025-06-07T12:21:33.947Z"
   },
   {
    "duration": 1086,
    "start_time": "2025-06-07T12:21:34.488Z"
   },
   {
    "duration": 13,
    "start_time": "2025-06-07T12:25:14.479Z"
   },
   {
    "duration": 133,
    "start_time": "2025-06-07T12:27:27.907Z"
   },
   {
    "duration": 151,
    "start_time": "2025-06-07T12:28:07.330Z"
   },
   {
    "duration": 61,
    "start_time": "2025-06-07T12:28:16.236Z"
   },
   {
    "duration": 60,
    "start_time": "2025-06-07T12:29:41.743Z"
   },
   {
    "duration": 60,
    "start_time": "2025-06-07T12:30:12.695Z"
   },
   {
    "duration": 65,
    "start_time": "2025-06-07T12:34:21.660Z"
   },
   {
    "duration": 62,
    "start_time": "2025-06-07T12:36:12.513Z"
   },
   {
    "duration": 61,
    "start_time": "2025-06-07T12:38:32.378Z"
   },
   {
    "duration": 120,
    "start_time": "2025-06-07T12:40:36.799Z"
   },
   {
    "duration": 19,
    "start_time": "2025-06-07T13:49:42.372Z"
   },
   {
    "duration": 3590,
    "start_time": "2025-06-07T13:49:49.342Z"
   },
   {
    "duration": 1770,
    "start_time": "2025-06-07T13:49:52.934Z"
   },
   {
    "duration": 180,
    "start_time": "2025-06-07T13:49:54.706Z"
   },
   {
    "duration": 4,
    "start_time": "2025-06-07T13:49:54.888Z"
   },
   {
    "duration": 58,
    "start_time": "2025-06-07T13:49:54.894Z"
   },
   {
    "duration": 216,
    "start_time": "2025-06-07T13:49:54.962Z"
   },
   {
    "duration": 449,
    "start_time": "2025-06-07T13:49:55.180Z"
   },
   {
    "duration": 111,
    "start_time": "2025-06-07T13:49:55.630Z"
   },
   {
    "duration": 20,
    "start_time": "2025-06-07T13:49:55.743Z"
   },
   {
    "duration": 3721,
    "start_time": "2025-06-07T14:04:29.645Z"
   },
   {
    "duration": 1698,
    "start_time": "2025-06-07T14:04:33.368Z"
   },
   {
    "duration": 172,
    "start_time": "2025-06-07T14:04:35.068Z"
   },
   {
    "duration": 5,
    "start_time": "2025-06-07T14:04:35.242Z"
   },
   {
    "duration": 509,
    "start_time": "2025-06-07T14:04:35.250Z"
   },
   {
    "duration": 1095,
    "start_time": "2025-06-07T14:04:35.763Z"
   },
   {
    "duration": 40,
    "start_time": "2025-06-07T14:04:36.862Z"
   },
   {
    "duration": 127,
    "start_time": "2025-06-07T14:04:36.903Z"
   },
   {
    "duration": 12,
    "start_time": "2025-06-07T14:04:37.032Z"
   },
   {
    "duration": 3590,
    "start_time": "2025-06-07T14:13:01.509Z"
   },
   {
    "duration": 1635,
    "start_time": "2025-06-07T14:13:05.101Z"
   },
   {
    "duration": 179,
    "start_time": "2025-06-07T14:13:06.738Z"
   },
   {
    "duration": 4,
    "start_time": "2025-06-07T14:13:06.919Z"
   },
   {
    "duration": 472,
    "start_time": "2025-06-07T14:13:06.925Z"
   },
   {
    "duration": 1052,
    "start_time": "2025-06-07T14:13:07.399Z"
   },
   {
    "duration": 121,
    "start_time": "2025-06-07T14:13:08.452Z"
   },
   {
    "duration": 89,
    "start_time": "2025-06-07T14:13:08.575Z"
   },
   {
    "duration": 11,
    "start_time": "2025-06-07T14:13:08.665Z"
   },
   {
    "duration": 160,
    "start_time": "2025-06-07T14:27:49.521Z"
   },
   {
    "duration": 161,
    "start_time": "2025-06-07T14:28:46.619Z"
   },
   {
    "duration": 213,
    "start_time": "2025-06-07T14:29:25.940Z"
   },
   {
    "duration": 3616,
    "start_time": "2025-06-07T14:29:36.705Z"
   },
   {
    "duration": 1642,
    "start_time": "2025-06-07T14:29:40.323Z"
   },
   {
    "duration": 176,
    "start_time": "2025-06-07T14:29:41.966Z"
   },
   {
    "duration": 5,
    "start_time": "2025-06-07T14:29:42.143Z"
   },
   {
    "duration": 503,
    "start_time": "2025-06-07T14:29:42.162Z"
   },
   {
    "duration": 1103,
    "start_time": "2025-06-07T14:29:42.667Z"
   },
   {
    "duration": 118,
    "start_time": "2025-06-07T14:29:43.772Z"
   },
   {
    "duration": 180,
    "start_time": "2025-06-07T14:29:43.892Z"
   },
   {
    "duration": 475,
    "start_time": "2025-06-07T14:29:44.073Z"
   },
   {
    "duration": 21,
    "start_time": "2025-06-07T14:29:44.550Z"
   },
   {
    "duration": 10,
    "start_time": "2025-06-07T14:29:44.573Z"
   },
   {
    "duration": 170,
    "start_time": "2025-06-07T14:31:05.578Z"
   },
   {
    "duration": 3743,
    "start_time": "2025-06-07T14:36:48.019Z"
   },
   {
    "duration": 1862,
    "start_time": "2025-06-07T14:36:51.764Z"
   },
   {
    "duration": 184,
    "start_time": "2025-06-07T14:36:53.627Z"
   },
   {
    "duration": 5,
    "start_time": "2025-06-07T14:36:53.813Z"
   },
   {
    "duration": 542,
    "start_time": "2025-06-07T14:36:53.820Z"
   },
   {
    "duration": 1163,
    "start_time": "2025-06-07T14:36:54.364Z"
   },
   {
    "duration": 126,
    "start_time": "2025-06-07T14:36:55.529Z"
   },
   {
    "duration": 216,
    "start_time": "2025-06-07T14:36:55.657Z"
   },
   {
    "duration": 538,
    "start_time": "2025-06-07T14:36:55.875Z"
   },
   {
    "duration": 21,
    "start_time": "2025-06-07T14:36:56.415Z"
   },
   {
    "duration": 25,
    "start_time": "2025-06-07T14:36:56.438Z"
   },
   {
    "duration": 142,
    "start_time": "2025-06-07T14:37:07.467Z"
   },
   {
    "duration": 3760,
    "start_time": "2025-06-07T14:37:16.909Z"
   },
   {
    "duration": 1728,
    "start_time": "2025-06-07T14:37:20.671Z"
   },
   {
    "duration": 199,
    "start_time": "2025-06-07T14:37:22.401Z"
   },
   {
    "duration": 5,
    "start_time": "2025-06-07T14:37:22.601Z"
   },
   {
    "duration": 602,
    "start_time": "2025-06-07T14:37:22.608Z"
   },
   {
    "duration": 1205,
    "start_time": "2025-06-07T14:37:23.212Z"
   },
   {
    "duration": 121,
    "start_time": "2025-06-07T14:37:24.419Z"
   },
   {
    "duration": 196,
    "start_time": "2025-06-07T14:37:24.542Z"
   },
   {
    "duration": 503,
    "start_time": "2025-06-07T14:37:24.740Z"
   },
   {
    "duration": 35,
    "start_time": "2025-06-07T14:37:25.244Z"
   },
   {
    "duration": 12,
    "start_time": "2025-06-07T14:38:13.415Z"
   },
   {
    "duration": 113,
    "start_time": "2025-06-07T14:38:18.023Z"
   },
   {
    "duration": 91,
    "start_time": "2025-06-07T14:41:34.520Z"
   },
   {
    "duration": 86,
    "start_time": "2025-06-07T14:42:18.862Z"
   },
   {
    "duration": 37,
    "start_time": "2025-06-07T14:45:25.681Z"
   },
   {
    "duration": 21,
    "start_time": "2025-06-07T14:46:14.896Z"
   },
   {
    "duration": 129,
    "start_time": "2025-06-07T14:48:55.456Z"
   },
   {
    "duration": 20,
    "start_time": "2025-06-07T14:48:59.843Z"
   },
   {
    "duration": 23,
    "start_time": "2025-06-07T14:49:04.772Z"
   },
   {
    "duration": 35,
    "start_time": "2025-06-07T14:49:40.847Z"
   },
   {
    "duration": 25,
    "start_time": "2025-06-07T14:52:09.507Z"
   },
   {
    "duration": 97,
    "start_time": "2025-06-07T14:54:06.756Z"
   },
   {
    "duration": 37,
    "start_time": "2025-06-07T14:54:15.170Z"
   },
   {
    "duration": 22,
    "start_time": "2025-06-07T14:55:13.726Z"
   },
   {
    "duration": 40,
    "start_time": "2025-06-07T14:56:05.746Z"
   },
   {
    "duration": 22,
    "start_time": "2025-06-07T14:57:20.188Z"
   },
   {
    "duration": 37,
    "start_time": "2025-06-07T14:58:17.238Z"
   },
   {
    "duration": 21,
    "start_time": "2025-06-07T14:59:30.442Z"
   },
   {
    "duration": 72,
    "start_time": "2025-06-07T15:00:04.029Z"
   },
   {
    "duration": 3860,
    "start_time": "2025-06-07T15:00:12.242Z"
   },
   {
    "duration": 4338,
    "start_time": "2025-06-07T15:00:16.104Z"
   },
   {
    "duration": 205,
    "start_time": "2025-06-07T15:00:20.444Z"
   },
   {
    "duration": 4,
    "start_time": "2025-06-07T15:00:20.651Z"
   },
   {
    "duration": 553,
    "start_time": "2025-06-07T15:00:20.663Z"
   },
   {
    "duration": 1112,
    "start_time": "2025-06-07T15:00:21.218Z"
   },
   {
    "duration": 113,
    "start_time": "2025-06-07T15:00:22.332Z"
   },
   {
    "duration": 199,
    "start_time": "2025-06-07T15:00:22.447Z"
   },
   {
    "duration": 473,
    "start_time": "2025-06-07T15:00:22.648Z"
   },
   {
    "duration": 59,
    "start_time": "2025-06-07T15:00:23.122Z"
   },
   {
    "duration": 102,
    "start_time": "2025-06-07T15:00:23.183Z"
   },
   {
    "duration": 96,
    "start_time": "2025-06-07T15:00:23.287Z"
   },
   {
    "duration": 23,
    "start_time": "2025-06-07T15:00:23.385Z"
   },
   {
    "duration": 59,
    "start_time": "2025-06-07T15:00:23.411Z"
   },
   {
    "duration": 24,
    "start_time": "2025-06-07T15:00:23.472Z"
   },
   {
    "duration": 44,
    "start_time": "2025-06-07T15:00:23.497Z"
   },
   {
    "duration": 37,
    "start_time": "2025-06-07T15:00:23.542Z"
   },
   {
    "duration": 47,
    "start_time": "2025-06-07T15:00:23.581Z"
   },
   {
    "duration": 59,
    "start_time": "2025-06-07T15:00:23.630Z"
   },
   {
    "duration": 62,
    "start_time": "2025-06-07T15:00:23.691Z"
   },
   {
    "duration": 22,
    "start_time": "2025-06-07T15:00:23.755Z"
   },
   {
    "duration": 43,
    "start_time": "2025-06-07T15:00:23.779Z"
   },
   {
    "duration": 93,
    "start_time": "2025-06-07T15:11:50.006Z"
   },
   {
    "duration": 5,
    "start_time": "2025-06-07T15:21:36.298Z"
   },
   {
    "duration": 4,
    "start_time": "2025-06-07T15:22:23.227Z"
   },
   {
    "duration": 75,
    "start_time": "2025-06-07T15:22:54.788Z"
   },
   {
    "duration": 4,
    "start_time": "2025-06-07T15:29:16.924Z"
   },
   {
    "duration": 10,
    "start_time": "2025-06-07T15:31:28.593Z"
   },
   {
    "duration": 348,
    "start_time": "2025-06-07T15:33:51.523Z"
   },
   {
    "duration": 4,
    "start_time": "2025-06-07T15:34:13.594Z"
   },
   {
    "duration": 3866,
    "start_time": "2025-06-07T15:35:54.969Z"
   },
   {
    "duration": 1570,
    "start_time": "2025-06-07T15:35:58.837Z"
   },
   {
    "duration": 223,
    "start_time": "2025-06-07T15:36:00.408Z"
   },
   {
    "duration": 5,
    "start_time": "2025-06-07T15:36:00.633Z"
   },
   {
    "duration": 566,
    "start_time": "2025-06-07T15:36:00.640Z"
   },
   {
    "duration": 1155,
    "start_time": "2025-06-07T15:36:01.208Z"
   },
   {
    "duration": 124,
    "start_time": "2025-06-07T15:36:02.365Z"
   },
   {
    "duration": 203,
    "start_time": "2025-06-07T15:36:02.491Z"
   },
   {
    "duration": 480,
    "start_time": "2025-06-07T15:36:02.696Z"
   },
   {
    "duration": 47,
    "start_time": "2025-06-07T15:36:03.177Z"
   },
   {
    "duration": 118,
    "start_time": "2025-06-07T15:36:03.225Z"
   },
   {
    "duration": 93,
    "start_time": "2025-06-07T15:36:03.344Z"
   },
   {
    "duration": 32,
    "start_time": "2025-06-07T15:36:03.439Z"
   },
   {
    "duration": 54,
    "start_time": "2025-06-07T15:36:03.474Z"
   },
   {
    "duration": 22,
    "start_time": "2025-06-07T15:36:03.530Z"
   },
   {
    "duration": 42,
    "start_time": "2025-06-07T15:36:03.553Z"
   },
   {
    "duration": 36,
    "start_time": "2025-06-07T15:36:03.596Z"
   },
   {
    "duration": 56,
    "start_time": "2025-06-07T15:36:03.634Z"
   },
   {
    "duration": 33,
    "start_time": "2025-06-07T15:36:03.692Z"
   },
   {
    "duration": 119,
    "start_time": "2025-06-07T15:36:03.727Z"
   },
   {
    "duration": 27,
    "start_time": "2025-06-07T15:36:03.847Z"
   },
   {
    "duration": 66,
    "start_time": "2025-06-07T15:36:03.876Z"
   },
   {
    "duration": 96,
    "start_time": "2025-06-07T15:36:03.944Z"
   },
   {
    "duration": 11,
    "start_time": "2025-06-07T15:36:04.042Z"
   },
   {
    "duration": 25,
    "start_time": "2025-06-07T15:36:04.062Z"
   },
   {
    "duration": 89,
    "start_time": "2025-06-07T15:36:04.089Z"
   },
   {
    "duration": 0,
    "start_time": "2025-06-07T15:39:55.305Z"
   },
   {
    "duration": 0,
    "start_time": "2025-06-07T15:39:55.308Z"
   },
   {
    "duration": 0,
    "start_time": "2025-06-07T15:39:55.308Z"
   },
   {
    "duration": 3706,
    "start_time": "2025-06-07T15:40:55.540Z"
   },
   {
    "duration": 1930,
    "start_time": "2025-06-07T15:40:59.248Z"
   },
   {
    "duration": 184,
    "start_time": "2025-06-07T15:41:01.180Z"
   },
   {
    "duration": 5,
    "start_time": "2025-06-07T15:41:01.365Z"
   },
   {
    "duration": 546,
    "start_time": "2025-06-07T15:41:01.372Z"
   },
   {
    "duration": 1143,
    "start_time": "2025-06-07T15:41:01.919Z"
   },
   {
    "duration": 126,
    "start_time": "2025-06-07T15:41:03.067Z"
   },
   {
    "duration": 192,
    "start_time": "2025-06-07T15:41:03.195Z"
   },
   {
    "duration": 478,
    "start_time": "2025-06-07T15:41:03.389Z"
   },
   {
    "duration": 49,
    "start_time": "2025-06-07T15:41:03.870Z"
   },
   {
    "duration": 127,
    "start_time": "2025-06-07T15:41:03.921Z"
   },
   {
    "duration": 115,
    "start_time": "2025-06-07T15:41:04.050Z"
   },
   {
    "duration": 35,
    "start_time": "2025-06-07T15:41:04.167Z"
   },
   {
    "duration": 106,
    "start_time": "2025-06-07T15:41:04.206Z"
   },
   {
    "duration": 22,
    "start_time": "2025-06-07T15:41:04.314Z"
   },
   {
    "duration": 46,
    "start_time": "2025-06-07T15:41:04.338Z"
   },
   {
    "duration": 27,
    "start_time": "2025-06-07T15:41:04.386Z"
   },
   {
    "duration": 56,
    "start_time": "2025-06-07T15:41:04.414Z"
   },
   {
    "duration": 22,
    "start_time": "2025-06-07T15:41:04.472Z"
   },
   {
    "duration": 58,
    "start_time": "2025-06-07T15:41:04.496Z"
   },
   {
    "duration": 23,
    "start_time": "2025-06-07T15:41:04.556Z"
   },
   {
    "duration": 62,
    "start_time": "2025-06-07T15:41:04.581Z"
   },
   {
    "duration": 105,
    "start_time": "2025-06-07T15:41:04.645Z"
   },
   {
    "duration": 39,
    "start_time": "2025-06-07T15:41:04.752Z"
   },
   {
    "duration": 61,
    "start_time": "2025-06-07T15:41:04.793Z"
   },
   {
    "duration": 87,
    "start_time": "2025-06-07T15:41:04.856Z"
   },
   {
    "duration": 1988,
    "start_time": "2025-06-07T15:41:04.945Z"
   },
   {
    "duration": 11,
    "start_time": "2025-06-07T15:41:06.934Z"
   },
   {
    "duration": 1804,
    "start_time": "2025-06-07T15:43:06.545Z"
   },
   {
    "duration": 1702,
    "start_time": "2025-06-07T15:44:49.929Z"
   },
   {
    "duration": 1799,
    "start_time": "2025-06-07T15:45:04.521Z"
   },
   {
    "duration": 1859,
    "start_time": "2025-06-07T15:45:33.757Z"
   },
   {
    "duration": 130,
    "start_time": "2025-06-07T15:48:07.843Z"
   },
   {
    "duration": 24,
    "start_time": "2025-06-07T15:48:56.538Z"
   },
   {
    "duration": 12,
    "start_time": "2025-06-07T16:03:04.631Z"
   },
   {
    "duration": 11,
    "start_time": "2025-06-07T16:05:47.117Z"
   },
   {
    "duration": 10,
    "start_time": "2025-06-07T16:05:56.281Z"
   },
   {
    "duration": 13,
    "start_time": "2025-06-07T16:07:20.967Z"
   },
   {
    "duration": 29,
    "start_time": "2025-06-07T16:07:32.625Z"
   },
   {
    "duration": 1812,
    "start_time": "2025-06-07T16:07:56.533Z"
   },
   {
    "duration": 48,
    "start_time": "2025-06-07T16:09:17.565Z"
   },
   {
    "duration": 26,
    "start_time": "2025-06-07T16:16:46.344Z"
   },
   {
    "duration": 3763,
    "start_time": "2025-06-07T16:22:37.207Z"
   },
   {
    "duration": 2301,
    "start_time": "2025-06-07T16:22:40.971Z"
   },
   {
    "duration": 182,
    "start_time": "2025-06-07T16:22:43.273Z"
   },
   {
    "duration": 7,
    "start_time": "2025-06-07T16:22:43.457Z"
   },
   {
    "duration": 491,
    "start_time": "2025-06-07T16:22:43.466Z"
   },
   {
    "duration": 1073,
    "start_time": "2025-06-07T16:22:43.959Z"
   },
   {
    "duration": 114,
    "start_time": "2025-06-07T16:22:45.033Z"
   },
   {
    "duration": 196,
    "start_time": "2025-06-07T16:22:45.148Z"
   },
   {
    "duration": 454,
    "start_time": "2025-06-07T16:22:45.346Z"
   },
   {
    "duration": 44,
    "start_time": "2025-06-07T16:22:45.802Z"
   },
   {
    "duration": 115,
    "start_time": "2025-06-07T16:22:45.847Z"
   },
   {
    "duration": 87,
    "start_time": "2025-06-07T16:22:45.964Z"
   },
   {
    "duration": 21,
    "start_time": "2025-06-07T16:22:46.063Z"
   },
   {
    "duration": 63,
    "start_time": "2025-06-07T16:22:46.087Z"
   },
   {
    "duration": 21,
    "start_time": "2025-06-07T16:22:46.151Z"
   },
   {
    "duration": 41,
    "start_time": "2025-06-07T16:22:46.174Z"
   },
   {
    "duration": 22,
    "start_time": "2025-06-07T16:22:46.217Z"
   },
   {
    "duration": 47,
    "start_time": "2025-06-07T16:22:46.241Z"
   },
   {
    "duration": 23,
    "start_time": "2025-06-07T16:22:46.290Z"
   },
   {
    "duration": 49,
    "start_time": "2025-06-07T16:22:46.315Z"
   },
   {
    "duration": 21,
    "start_time": "2025-06-07T16:22:46.366Z"
   },
   {
    "duration": 40,
    "start_time": "2025-06-07T16:22:46.389Z"
   },
   {
    "duration": 104,
    "start_time": "2025-06-07T16:22:46.431Z"
   },
   {
    "duration": 5,
    "start_time": "2025-06-07T16:22:46.537Z"
   },
   {
    "duration": 9,
    "start_time": "2025-06-07T16:22:46.544Z"
   },
   {
    "duration": 81,
    "start_time": "2025-06-07T16:22:46.563Z"
   },
   {
    "duration": 1853,
    "start_time": "2025-06-07T16:22:46.646Z"
   },
   {
    "duration": 25,
    "start_time": "2025-06-07T16:22:48.501Z"
   },
   {
    "duration": 11,
    "start_time": "2025-06-07T16:22:48.527Z"
   },
   {
    "duration": 63,
    "start_time": "2025-06-07T16:22:48.540Z"
   },
   {
    "duration": 1860,
    "start_time": "2025-06-07T16:22:48.605Z"
   },
   {
    "duration": 11,
    "start_time": "2025-06-07T16:22:50.466Z"
   },
   {
    "duration": 47,
    "start_time": "2025-06-07T16:23:26.086Z"
   },
   {
    "duration": 50,
    "start_time": "2025-06-07T16:23:46.677Z"
   },
   {
    "duration": 3672,
    "start_time": "2025-06-07T16:24:07.290Z"
   },
   {
    "duration": 1773,
    "start_time": "2025-06-07T16:24:10.965Z"
   },
   {
    "duration": 167,
    "start_time": "2025-06-07T16:24:12.740Z"
   },
   {
    "duration": 4,
    "start_time": "2025-06-07T16:24:12.909Z"
   },
   {
    "duration": 574,
    "start_time": "2025-06-07T16:24:12.916Z"
   },
   {
    "duration": 1134,
    "start_time": "2025-06-07T16:24:13.492Z"
   },
   {
    "duration": 134,
    "start_time": "2025-06-07T16:24:14.628Z"
   },
   {
    "duration": 174,
    "start_time": "2025-06-07T16:24:14.764Z"
   },
   {
    "duration": 512,
    "start_time": "2025-06-07T16:24:14.940Z"
   },
   {
    "duration": 48,
    "start_time": "2025-06-07T16:24:15.454Z"
   },
   {
    "duration": 107,
    "start_time": "2025-06-07T16:24:15.504Z"
   },
   {
    "duration": 104,
    "start_time": "2025-06-07T16:24:15.613Z"
   },
   {
    "duration": 22,
    "start_time": "2025-06-07T16:24:15.718Z"
   },
   {
    "duration": 52,
    "start_time": "2025-06-07T16:24:15.761Z"
   },
   {
    "duration": 21,
    "start_time": "2025-06-07T16:24:15.815Z"
   },
   {
    "duration": 65,
    "start_time": "2025-06-07T16:24:15.838Z"
   },
   {
    "duration": 52,
    "start_time": "2025-06-07T16:24:15.905Z"
   },
   {
    "duration": 53,
    "start_time": "2025-06-07T16:24:15.959Z"
   },
   {
    "duration": 21,
    "start_time": "2025-06-07T16:24:16.013Z"
   },
   {
    "duration": 62,
    "start_time": "2025-06-07T16:24:16.036Z"
   },
   {
    "duration": 21,
    "start_time": "2025-06-07T16:24:16.100Z"
   },
   {
    "duration": 66,
    "start_time": "2025-06-07T16:24:16.122Z"
   },
   {
    "duration": 91,
    "start_time": "2025-06-07T16:24:16.190Z"
   },
   {
    "duration": 5,
    "start_time": "2025-06-07T16:24:16.283Z"
   },
   {
    "duration": 4,
    "start_time": "2025-06-07T16:24:16.290Z"
   },
   {
    "duration": 95,
    "start_time": "2025-06-07T16:24:16.295Z"
   },
   {
    "duration": 1789,
    "start_time": "2025-06-07T16:24:16.392Z"
   },
   {
    "duration": 23,
    "start_time": "2025-06-07T16:24:18.182Z"
   },
   {
    "duration": 11,
    "start_time": "2025-06-07T16:24:18.207Z"
   },
   {
    "duration": 64,
    "start_time": "2025-06-07T16:24:18.219Z"
   },
   {
    "duration": 1869,
    "start_time": "2025-06-07T16:24:18.285Z"
   },
   {
    "duration": 15,
    "start_time": "2025-06-07T16:24:20.155Z"
   },
   {
    "duration": 117543,
    "start_time": "2025-06-07T16:25:40.631Z"
   },
   {
    "duration": 2444,
    "start_time": "2025-06-07T16:31:00.200Z"
   },
   {
    "duration": 419,
    "start_time": "2025-06-07T16:31:16.980Z"
   },
   {
    "duration": 418,
    "start_time": "2025-06-07T16:31:31.033Z"
   },
   {
    "duration": 4,
    "start_time": "2025-06-07T16:32:18.183Z"
   },
   {
    "duration": 401,
    "start_time": "2025-06-07T16:32:25.119Z"
   },
   {
    "duration": 41,
    "start_time": "2025-06-07T16:34:15.391Z"
   },
   {
    "duration": 463,
    "start_time": "2025-06-07T16:34:29.623Z"
   },
   {
    "duration": 3,
    "start_time": "2025-06-07T16:34:46.446Z"
   },
   {
    "duration": 455,
    "start_time": "2025-06-07T16:34:50.951Z"
   },
   {
    "duration": 471,
    "start_time": "2025-06-07T16:35:37.997Z"
   },
   {
    "duration": 440,
    "start_time": "2025-06-07T16:36:51.313Z"
   },
   {
    "duration": 47,
    "start_time": "2025-06-08T04:45:16.319Z"
   },
   {
    "duration": 8694,
    "start_time": "2025-06-08T04:46:56.519Z"
   },
   {
    "duration": 2175,
    "start_time": "2025-06-08T04:47:05.215Z"
   },
   {
    "duration": 386,
    "start_time": "2025-06-08T04:47:07.391Z"
   },
   {
    "duration": 4,
    "start_time": "2025-06-08T04:47:07.779Z"
   },
   {
    "duration": 627,
    "start_time": "2025-06-08T04:47:07.785Z"
   },
   {
    "duration": 1083,
    "start_time": "2025-06-08T04:47:08.413Z"
   },
   {
    "duration": 118,
    "start_time": "2025-06-08T04:47:09.498Z"
   },
   {
    "duration": 177,
    "start_time": "2025-06-08T04:47:09.618Z"
   },
   {
    "duration": 456,
    "start_time": "2025-06-08T04:47:09.796Z"
   },
   {
    "duration": 54,
    "start_time": "2025-06-08T04:47:10.257Z"
   },
   {
    "duration": 114,
    "start_time": "2025-06-08T04:47:10.312Z"
   },
   {
    "duration": 93,
    "start_time": "2025-06-08T04:47:10.427Z"
   },
   {
    "duration": 97,
    "start_time": "2025-06-08T04:47:10.522Z"
   },
   {
    "duration": 44,
    "start_time": "2025-06-08T04:47:10.622Z"
   },
   {
    "duration": 21,
    "start_time": "2025-06-08T04:47:10.667Z"
   },
   {
    "duration": 37,
    "start_time": "2025-06-08T04:47:10.690Z"
   },
   {
    "duration": 36,
    "start_time": "2025-06-08T04:47:10.729Z"
   },
   {
    "duration": 42,
    "start_time": "2025-06-08T04:47:10.766Z"
   },
   {
    "duration": 21,
    "start_time": "2025-06-08T04:47:10.810Z"
   },
   {
    "duration": 57,
    "start_time": "2025-06-08T04:47:10.832Z"
   },
   {
    "duration": 21,
    "start_time": "2025-06-08T04:47:10.891Z"
   },
   {
    "duration": 163,
    "start_time": "2025-06-08T04:47:10.914Z"
   },
   {
    "duration": 195,
    "start_time": "2025-06-08T04:47:11.079Z"
   },
   {
    "duration": 5,
    "start_time": "2025-06-08T04:47:11.276Z"
   },
   {
    "duration": 9,
    "start_time": "2025-06-08T04:47:11.283Z"
   },
   {
    "duration": 188,
    "start_time": "2025-06-08T04:47:11.294Z"
   },
   {
    "duration": 2501,
    "start_time": "2025-06-08T04:47:11.484Z"
   },
   {
    "duration": 24,
    "start_time": "2025-06-08T04:47:13.987Z"
   },
   {
    "duration": 12,
    "start_time": "2025-06-08T04:47:14.012Z"
   },
   {
    "duration": 64,
    "start_time": "2025-06-08T04:47:14.025Z"
   },
   {
    "duration": 1820,
    "start_time": "2025-06-08T04:47:14.090Z"
   },
   {
    "duration": 421,
    "start_time": "2025-06-08T04:47:15.911Z"
   },
   {
    "duration": 3,
    "start_time": "2025-06-08T04:47:16.334Z"
   },
   {
    "duration": 24,
    "start_time": "2025-06-08T04:47:16.339Z"
   },
   {
    "duration": 1694,
    "start_time": "2025-06-08T04:49:29.340Z"
   },
   {
    "duration": 1780,
    "start_time": "2025-06-08T04:49:57.294Z"
   },
   {
    "duration": 7,
    "start_time": "2025-06-08T04:53:38.291Z"
   },
   {
    "duration": 8,
    "start_time": "2025-06-08T04:53:54.555Z"
   },
   {
    "duration": 90,
    "start_time": "2025-06-08T04:54:32.970Z"
   },
   {
    "duration": 301,
    "start_time": "2025-06-08T04:55:01.629Z"
   },
   {
    "duration": 78,
    "start_time": "2025-06-08T04:55:07.975Z"
   },
   {
    "duration": 10,
    "start_time": "2025-06-08T04:55:26.199Z"
   },
   {
    "duration": 11,
    "start_time": "2025-06-08T04:55:31.733Z"
   },
   {
    "duration": 10,
    "start_time": "2025-06-08T04:55:46.591Z"
   },
   {
    "duration": 41,
    "start_time": "2025-06-08T04:57:02.669Z"
   },
   {
    "duration": 22,
    "start_time": "2025-06-08T04:58:31.855Z"
   },
   {
    "duration": 20,
    "start_time": "2025-06-08T04:58:53.257Z"
   },
   {
    "duration": 22,
    "start_time": "2025-06-08T04:59:22.567Z"
   },
   {
    "duration": 12,
    "start_time": "2025-06-08T05:03:25.741Z"
   },
   {
    "duration": 11,
    "start_time": "2025-06-08T05:03:36.935Z"
   },
   {
    "duration": 50,
    "start_time": "2025-06-08T05:04:23.190Z"
   },
   {
    "duration": 39,
    "start_time": "2025-06-08T05:04:38.660Z"
   },
   {
    "duration": 1776,
    "start_time": "2025-06-08T05:05:13.470Z"
   },
   {
    "duration": 1719,
    "start_time": "2025-06-08T05:05:25.869Z"
   },
   {
    "duration": 1800,
    "start_time": "2025-06-08T05:05:50.845Z"
   },
   {
    "duration": 374,
    "start_time": "2025-06-08T05:13:47.723Z"
   },
   {
    "duration": 374,
    "start_time": "2025-06-08T05:14:06.053Z"
   },
   {
    "duration": 374,
    "start_time": "2025-06-08T05:14:14.552Z"
   },
   {
    "duration": 370,
    "start_time": "2025-06-08T05:14:38.104Z"
   },
   {
    "duration": 469,
    "start_time": "2025-06-08T05:14:47.451Z"
   },
   {
    "duration": 399,
    "start_time": "2025-06-08T05:15:16.403Z"
   },
   {
    "duration": 4,
    "start_time": "2025-06-08T05:16:13.746Z"
   },
   {
    "duration": 392,
    "start_time": "2025-06-08T05:16:22.348Z"
   },
   {
    "duration": 367,
    "start_time": "2025-06-08T05:16:33.818Z"
   },
   {
    "duration": 1795,
    "start_time": "2025-06-08T05:20:02.921Z"
   },
   {
    "duration": 12,
    "start_time": "2025-06-08T05:24:12.574Z"
   },
   {
    "duration": 26,
    "start_time": "2025-06-08T05:24:29.674Z"
   },
   {
    "duration": 263,
    "start_time": "2025-06-08T05:26:56.958Z"
   },
   {
    "duration": 26,
    "start_time": "2025-06-08T05:27:09.725Z"
   },
   {
    "duration": 117,
    "start_time": "2025-06-08T05:27:19.453Z"
   },
   {
    "duration": 12,
    "start_time": "2025-06-08T05:27:23.563Z"
   },
   {
    "duration": 7,
    "start_time": "2025-06-08T05:29:03.093Z"
   },
   {
    "duration": 96,
    "start_time": "2025-06-08T05:30:19.675Z"
   },
   {
    "duration": 207,
    "start_time": "2025-06-08T05:30:36.879Z"
   },
   {
    "duration": 203,
    "start_time": "2025-06-08T05:30:51.111Z"
   },
   {
    "duration": 204,
    "start_time": "2025-06-08T05:31:11.080Z"
   },
   {
    "duration": 3571,
    "start_time": "2025-06-08T05:31:20.723Z"
   },
   {
    "duration": 2023,
    "start_time": "2025-06-08T05:31:24.295Z"
   },
   {
    "duration": 169,
    "start_time": "2025-06-08T05:31:26.320Z"
   },
   {
    "duration": 5,
    "start_time": "2025-06-08T05:31:26.491Z"
   },
   {
    "duration": 494,
    "start_time": "2025-06-08T05:31:26.499Z"
   },
   {
    "duration": 1030,
    "start_time": "2025-06-08T05:31:26.995Z"
   },
   {
    "duration": 114,
    "start_time": "2025-06-08T05:31:28.027Z"
   },
   {
    "duration": 183,
    "start_time": "2025-06-08T05:31:28.142Z"
   },
   {
    "duration": 450,
    "start_time": "2025-06-08T05:31:28.327Z"
   },
   {
    "duration": 48,
    "start_time": "2025-06-08T05:31:28.779Z"
   },
   {
    "duration": 106,
    "start_time": "2025-06-08T05:31:28.829Z"
   },
   {
    "duration": 96,
    "start_time": "2025-06-08T05:31:28.936Z"
   },
   {
    "duration": 129,
    "start_time": "2025-06-08T05:31:29.033Z"
   },
   {
    "duration": 145,
    "start_time": "2025-06-08T05:31:29.165Z"
   },
   {
    "duration": 21,
    "start_time": "2025-06-08T05:31:29.312Z"
   },
   {
    "duration": 60,
    "start_time": "2025-06-08T05:31:29.335Z"
   },
   {
    "duration": 22,
    "start_time": "2025-06-08T05:31:29.397Z"
   },
   {
    "duration": 51,
    "start_time": "2025-06-08T05:31:29.420Z"
   },
   {
    "duration": 22,
    "start_time": "2025-06-08T05:31:29.473Z"
   },
   {
    "duration": 99,
    "start_time": "2025-06-08T05:31:29.496Z"
   },
   {
    "duration": 20,
    "start_time": "2025-06-08T05:31:29.597Z"
   },
   {
    "duration": 45,
    "start_time": "2025-06-08T05:31:29.618Z"
   },
   {
    "duration": 96,
    "start_time": "2025-06-08T05:31:29.665Z"
   },
   {
    "duration": 6,
    "start_time": "2025-06-08T05:31:29.762Z"
   },
   {
    "duration": 4,
    "start_time": "2025-06-08T05:31:29.769Z"
   },
   {
    "duration": 88,
    "start_time": "2025-06-08T05:31:29.774Z"
   },
   {
    "duration": 1929,
    "start_time": "2025-06-08T05:31:29.863Z"
   },
   {
    "duration": 24,
    "start_time": "2025-06-08T05:31:31.793Z"
   },
   {
    "duration": 15,
    "start_time": "2025-06-08T05:31:31.819Z"
   },
   {
    "duration": 64,
    "start_time": "2025-06-08T05:31:31.836Z"
   },
   {
    "duration": 1847,
    "start_time": "2025-06-08T05:31:31.902Z"
   },
   {
    "duration": 418,
    "start_time": "2025-06-08T05:31:33.750Z"
   },
   {
    "duration": 1796,
    "start_time": "2025-06-08T05:31:34.170Z"
   },
   {
    "duration": 13,
    "start_time": "2025-06-08T05:31:35.967Z"
   },
   {
    "duration": 45,
    "start_time": "2025-06-08T05:31:35.982Z"
   },
   {
    "duration": 1769,
    "start_time": "2025-06-08T05:31:36.029Z"
   },
   {
    "duration": 366,
    "start_time": "2025-06-08T05:31:37.800Z"
   },
   {
    "duration": 1648,
    "start_time": "2025-06-08T05:31:38.168Z"
   },
   {
    "duration": 27,
    "start_time": "2025-06-08T05:31:39.817Z"
   },
   {
    "duration": 264,
    "start_time": "2025-06-08T05:31:39.858Z"
   },
   {
    "duration": 10,
    "start_time": "2025-06-08T05:31:40.126Z"
   },
   {
    "duration": 28,
    "start_time": "2025-06-08T05:41:37.567Z"
   },
   {
    "duration": 23,
    "start_time": "2025-06-08T05:41:53.540Z"
   },
   {
    "duration": 69,
    "start_time": "2025-06-08T05:47:03.200Z"
   },
   {
    "duration": 3,
    "start_time": "2025-06-08T05:47:14.361Z"
   },
   {
    "duration": 3554,
    "start_time": "2025-06-08T05:47:27.441Z"
   },
   {
    "duration": 1879,
    "start_time": "2025-06-08T05:47:30.997Z"
   },
   {
    "duration": 323,
    "start_time": "2025-06-08T05:47:32.878Z"
   },
   {
    "duration": 5,
    "start_time": "2025-06-08T05:47:33.257Z"
   },
   {
    "duration": 970,
    "start_time": "2025-06-08T05:47:33.264Z"
   },
   {
    "duration": 1099,
    "start_time": "2025-06-08T05:47:34.236Z"
   },
   {
    "duration": 132,
    "start_time": "2025-06-08T05:47:35.337Z"
   },
   {
    "duration": 186,
    "start_time": "2025-06-08T05:47:35.471Z"
   },
   {
    "duration": 459,
    "start_time": "2025-06-08T05:47:35.660Z"
   },
   {
    "duration": 58,
    "start_time": "2025-06-08T05:47:36.121Z"
   },
   {
    "duration": 110,
    "start_time": "2025-06-08T05:47:36.181Z"
   },
   {
    "duration": 98,
    "start_time": "2025-06-08T05:47:36.293Z"
   },
   {
    "duration": 22,
    "start_time": "2025-06-08T05:47:36.393Z"
   },
   {
    "duration": 159,
    "start_time": "2025-06-08T05:47:36.419Z"
   },
   {
    "duration": 24,
    "start_time": "2025-06-08T05:47:36.580Z"
   },
   {
    "duration": 38,
    "start_time": "2025-06-08T05:47:36.605Z"
   },
   {
    "duration": 77,
    "start_time": "2025-06-08T05:47:36.659Z"
   },
   {
    "duration": 45,
    "start_time": "2025-06-08T05:47:36.738Z"
   },
   {
    "duration": 23,
    "start_time": "2025-06-08T05:47:36.784Z"
   },
   {
    "duration": 50,
    "start_time": "2025-06-08T05:47:36.809Z"
   },
   {
    "duration": 23,
    "start_time": "2025-06-08T05:47:36.861Z"
   },
   {
    "duration": 41,
    "start_time": "2025-06-08T05:47:36.885Z"
   },
   {
    "duration": 102,
    "start_time": "2025-06-08T05:47:36.928Z"
   },
   {
    "duration": 5,
    "start_time": "2025-06-08T05:47:37.032Z"
   },
   {
    "duration": 4,
    "start_time": "2025-06-08T05:47:37.038Z"
   },
   {
    "duration": 72,
    "start_time": "2025-06-08T05:47:37.058Z"
   },
   {
    "duration": 1900,
    "start_time": "2025-06-08T05:47:37.131Z"
   },
   {
    "duration": 32,
    "start_time": "2025-06-08T05:47:39.033Z"
   },
   {
    "duration": 10,
    "start_time": "2025-06-08T05:47:39.067Z"
   },
   {
    "duration": 144,
    "start_time": "2025-06-08T05:47:39.079Z"
   },
   {
    "duration": 1851,
    "start_time": "2025-06-08T05:47:39.225Z"
   },
   {
    "duration": 405,
    "start_time": "2025-06-08T05:47:41.078Z"
   },
   {
    "duration": 1725,
    "start_time": "2025-06-08T05:47:41.485Z"
   },
   {
    "duration": 13,
    "start_time": "2025-06-08T05:47:43.211Z"
   },
   {
    "duration": 118,
    "start_time": "2025-06-08T05:47:43.225Z"
   },
   {
    "duration": 1901,
    "start_time": "2025-06-08T05:47:43.345Z"
   },
   {
    "duration": 376,
    "start_time": "2025-06-08T05:47:45.248Z"
   },
   {
    "duration": 1705,
    "start_time": "2025-06-08T05:47:45.625Z"
   },
   {
    "duration": 34,
    "start_time": "2025-06-08T05:47:47.332Z"
   },
   {
    "duration": 271,
    "start_time": "2025-06-08T05:47:47.368Z"
   },
   {
    "duration": 24,
    "start_time": "2025-06-08T05:47:47.643Z"
   },
   {
    "duration": 11,
    "start_time": "2025-06-08T05:47:47.669Z"
   },
   {
    "duration": 11,
    "start_time": "2025-06-08T05:49:14.399Z"
   },
   {
    "duration": 3594,
    "start_time": "2025-06-08T05:49:23.814Z"
   },
   {
    "duration": 1709,
    "start_time": "2025-06-08T05:49:27.410Z"
   },
   {
    "duration": 185,
    "start_time": "2025-06-08T05:49:29.121Z"
   },
   {
    "duration": 4,
    "start_time": "2025-06-08T05:49:29.308Z"
   },
   {
    "duration": 480,
    "start_time": "2025-06-08T05:49:29.314Z"
   },
   {
    "duration": 1068,
    "start_time": "2025-06-08T05:49:29.795Z"
   },
   {
    "duration": 120,
    "start_time": "2025-06-08T05:49:30.865Z"
   },
   {
    "duration": 215,
    "start_time": "2025-06-08T05:49:30.987Z"
   },
   {
    "duration": 493,
    "start_time": "2025-06-08T05:49:31.207Z"
   },
   {
    "duration": 57,
    "start_time": "2025-06-08T05:49:31.702Z"
   },
   {
    "duration": 110,
    "start_time": "2025-06-08T05:49:31.761Z"
   },
   {
    "duration": 94,
    "start_time": "2025-06-08T05:49:31.873Z"
   },
   {
    "duration": 56,
    "start_time": "2025-06-08T05:49:31.968Z"
   },
   {
    "duration": 50,
    "start_time": "2025-06-08T05:49:32.027Z"
   },
   {
    "duration": 23,
    "start_time": "2025-06-08T05:49:32.079Z"
   },
   {
    "duration": 56,
    "start_time": "2025-06-08T05:49:32.104Z"
   },
   {
    "duration": 30,
    "start_time": "2025-06-08T05:49:32.162Z"
   },
   {
    "duration": 41,
    "start_time": "2025-06-08T05:49:32.194Z"
   },
   {
    "duration": 39,
    "start_time": "2025-06-08T05:49:32.236Z"
   },
   {
    "duration": 38,
    "start_time": "2025-06-08T05:49:32.276Z"
   },
   {
    "duration": 21,
    "start_time": "2025-06-08T05:49:32.315Z"
   },
   {
    "duration": 53,
    "start_time": "2025-06-08T05:49:32.338Z"
   },
   {
    "duration": 102,
    "start_time": "2025-06-08T05:49:32.393Z"
   },
   {
    "duration": 46,
    "start_time": "2025-06-08T05:49:32.497Z"
   },
   {
    "duration": 19,
    "start_time": "2025-06-08T05:49:32.544Z"
   },
   {
    "duration": 78,
    "start_time": "2025-06-08T05:49:32.565Z"
   },
   {
    "duration": 1873,
    "start_time": "2025-06-08T05:49:32.645Z"
   },
   {
    "duration": 23,
    "start_time": "2025-06-08T05:49:34.519Z"
   },
   {
    "duration": 96,
    "start_time": "2025-06-08T05:49:34.544Z"
   },
   {
    "duration": 152,
    "start_time": "2025-06-08T05:49:34.641Z"
   },
   {
    "duration": 1859,
    "start_time": "2025-06-08T05:49:34.794Z"
   },
   {
    "duration": 401,
    "start_time": "2025-06-08T05:49:36.657Z"
   },
   {
    "duration": 1706,
    "start_time": "2025-06-08T05:49:37.060Z"
   },
   {
    "duration": 12,
    "start_time": "2025-06-08T05:49:38.768Z"
   },
   {
    "duration": 42,
    "start_time": "2025-06-08T05:49:38.782Z"
   },
   {
    "duration": 1771,
    "start_time": "2025-06-08T05:49:38.826Z"
   },
   {
    "duration": 370,
    "start_time": "2025-06-08T05:49:40.598Z"
   },
   {
    "duration": 1741,
    "start_time": "2025-06-08T05:49:40.970Z"
   },
   {
    "duration": 26,
    "start_time": "2025-06-08T05:49:42.713Z"
   },
   {
    "duration": 274,
    "start_time": "2025-06-08T05:49:42.741Z"
   },
   {
    "duration": 19,
    "start_time": "2025-06-08T05:49:43.018Z"
   },
   {
    "duration": 22,
    "start_time": "2025-06-08T05:49:43.039Z"
   },
   {
    "duration": 173,
    "start_time": "2025-06-08T05:58:50.478Z"
   },
   {
    "duration": 155,
    "start_time": "2025-06-08T05:59:25.908Z"
   },
   {
    "duration": 3516,
    "start_time": "2025-06-08T05:59:36.160Z"
   },
   {
    "duration": 1614,
    "start_time": "2025-06-08T05:59:39.679Z"
   },
   {
    "duration": 183,
    "start_time": "2025-06-08T05:59:41.295Z"
   },
   {
    "duration": 5,
    "start_time": "2025-06-08T05:59:41.481Z"
   },
   {
    "duration": 526,
    "start_time": "2025-06-08T05:59:41.488Z"
   },
   {
    "duration": 1091,
    "start_time": "2025-06-08T05:59:42.016Z"
   },
   {
    "duration": 112,
    "start_time": "2025-06-08T05:59:43.108Z"
   },
   {
    "duration": 191,
    "start_time": "2025-06-08T05:59:43.222Z"
   },
   {
    "duration": 177,
    "start_time": "2025-06-08T05:59:43.414Z"
   },
   {
    "duration": 461,
    "start_time": "2025-06-08T05:59:43.594Z"
   },
   {
    "duration": 52,
    "start_time": "2025-06-08T05:59:44.057Z"
   },
   {
    "duration": 103,
    "start_time": "2025-06-08T05:59:44.110Z"
   },
   {
    "duration": 98,
    "start_time": "2025-06-08T05:59:44.215Z"
   },
   {
    "duration": 22,
    "start_time": "2025-06-08T05:59:44.315Z"
   },
   {
    "duration": 38,
    "start_time": "2025-06-08T05:59:44.357Z"
   },
   {
    "duration": 21,
    "start_time": "2025-06-08T05:59:44.396Z"
   },
   {
    "duration": 50,
    "start_time": "2025-06-08T05:59:44.419Z"
   },
   {
    "duration": 25,
    "start_time": "2025-06-08T05:59:44.470Z"
   },
   {
    "duration": 109,
    "start_time": "2025-06-08T05:59:44.496Z"
   },
   {
    "duration": 29,
    "start_time": "2025-06-08T05:59:44.607Z"
   },
   {
    "duration": 38,
    "start_time": "2025-06-08T05:59:44.638Z"
   },
   {
    "duration": 86,
    "start_time": "2025-06-08T05:59:44.678Z"
   },
   {
    "duration": 37,
    "start_time": "2025-06-08T05:59:44.766Z"
   },
   {
    "duration": 97,
    "start_time": "2025-06-08T05:59:44.805Z"
   },
   {
    "duration": 6,
    "start_time": "2025-06-08T05:59:44.903Z"
   },
   {
    "duration": 4,
    "start_time": "2025-06-08T05:59:44.910Z"
   },
   {
    "duration": 93,
    "start_time": "2025-06-08T05:59:44.915Z"
   },
   {
    "duration": 1860,
    "start_time": "2025-06-08T05:59:45.011Z"
   },
   {
    "duration": 24,
    "start_time": "2025-06-08T05:59:46.873Z"
   },
   {
    "duration": 11,
    "start_time": "2025-06-08T05:59:46.898Z"
   },
   {
    "duration": 95,
    "start_time": "2025-06-08T05:59:46.911Z"
   },
   {
    "duration": 1853,
    "start_time": "2025-06-08T05:59:47.008Z"
   },
   {
    "duration": 400,
    "start_time": "2025-06-08T05:59:48.862Z"
   },
   {
    "duration": 1695,
    "start_time": "2025-06-08T05:59:49.264Z"
   },
   {
    "duration": 13,
    "start_time": "2025-06-08T05:59:50.961Z"
   },
   {
    "duration": 46,
    "start_time": "2025-06-08T05:59:50.975Z"
   },
   {
    "duration": 1801,
    "start_time": "2025-06-08T05:59:51.022Z"
   },
   {
    "duration": 373,
    "start_time": "2025-06-08T05:59:52.824Z"
   },
   {
    "duration": 1702,
    "start_time": "2025-06-08T05:59:53.199Z"
   },
   {
    "duration": 26,
    "start_time": "2025-06-08T05:59:54.902Z"
   },
   {
    "duration": 295,
    "start_time": "2025-06-08T05:59:54.929Z"
   },
   {
    "duration": 34,
    "start_time": "2025-06-08T05:59:55.225Z"
   },
   {
    "duration": 101,
    "start_time": "2025-06-08T05:59:55.260Z"
   },
   {
    "duration": 31,
    "start_time": "2025-06-08T06:02:13.127Z"
   },
   {
    "duration": 20,
    "start_time": "2025-06-08T06:02:24.394Z"
   },
   {
    "duration": 31,
    "start_time": "2025-06-08T06:09:43.073Z"
   },
   {
    "duration": 40,
    "start_time": "2025-06-08T06:11:12.164Z"
   },
   {
    "duration": 1677,
    "start_time": "2025-06-08T06:11:49.128Z"
   },
   {
    "duration": 55,
    "start_time": "2025-06-08T06:13:14.222Z"
   },
   {
    "duration": 26,
    "start_time": "2025-06-08T06:14:03.273Z"
   },
   {
    "duration": 21,
    "start_time": "2025-06-08T06:14:33.378Z"
   },
   {
    "duration": 21,
    "start_time": "2025-06-08T06:18:54.913Z"
   },
   {
    "duration": 21,
    "start_time": "2025-06-08T06:19:41.808Z"
   },
   {
    "duration": 21,
    "start_time": "2025-06-08T06:19:48.668Z"
   },
   {
    "duration": 3644,
    "start_time": "2025-06-08T06:19:56.771Z"
   },
   {
    "duration": 1977,
    "start_time": "2025-06-08T06:20:00.417Z"
   },
   {
    "duration": 186,
    "start_time": "2025-06-08T06:20:02.395Z"
   },
   {
    "duration": 5,
    "start_time": "2025-06-08T06:20:02.583Z"
   },
   {
    "duration": 568,
    "start_time": "2025-06-08T06:20:02.591Z"
   },
   {
    "duration": 1092,
    "start_time": "2025-06-08T06:20:03.160Z"
   },
   {
    "duration": 119,
    "start_time": "2025-06-08T06:20:04.254Z"
   },
   {
    "duration": 184,
    "start_time": "2025-06-08T06:20:04.375Z"
   },
   {
    "duration": 178,
    "start_time": "2025-06-08T06:20:04.560Z"
   },
   {
    "duration": 497,
    "start_time": "2025-06-08T06:20:04.739Z"
   },
   {
    "duration": 56,
    "start_time": "2025-06-08T06:20:05.238Z"
   },
   {
    "duration": 109,
    "start_time": "2025-06-08T06:20:05.295Z"
   },
   {
    "duration": 93,
    "start_time": "2025-06-08T06:20:05.406Z"
   },
   {
    "duration": 23,
    "start_time": "2025-06-08T06:20:05.502Z"
   },
   {
    "duration": 60,
    "start_time": "2025-06-08T06:20:05.526Z"
   },
   {
    "duration": 24,
    "start_time": "2025-06-08T06:20:05.588Z"
   },
   {
    "duration": 66,
    "start_time": "2025-06-08T06:20:05.613Z"
   },
   {
    "duration": 127,
    "start_time": "2025-06-08T06:20:05.680Z"
   },
   {
    "duration": 58,
    "start_time": "2025-06-08T06:20:05.808Z"
   },
   {
    "duration": 24,
    "start_time": "2025-06-08T06:20:05.868Z"
   },
   {
    "duration": 41,
    "start_time": "2025-06-08T06:20:05.893Z"
   },
   {
    "duration": 36,
    "start_time": "2025-06-08T06:20:05.935Z"
   },
   {
    "duration": 57,
    "start_time": "2025-06-08T06:20:05.972Z"
   },
   {
    "duration": 189,
    "start_time": "2025-06-08T06:20:06.030Z"
   },
   {
    "duration": 12,
    "start_time": "2025-06-08T06:20:06.221Z"
   },
   {
    "duration": 15,
    "start_time": "2025-06-08T06:20:06.235Z"
   },
   {
    "duration": 87,
    "start_time": "2025-06-08T06:20:06.252Z"
   },
   {
    "duration": 1889,
    "start_time": "2025-06-08T06:20:06.341Z"
   },
   {
    "duration": 36,
    "start_time": "2025-06-08T06:20:08.232Z"
   },
   {
    "duration": 10,
    "start_time": "2025-06-08T06:20:08.270Z"
   },
   {
    "duration": 84,
    "start_time": "2025-06-08T06:20:08.282Z"
   },
   {
    "duration": 1898,
    "start_time": "2025-06-08T06:20:08.368Z"
   },
   {
    "duration": 410,
    "start_time": "2025-06-08T06:20:10.267Z"
   },
   {
    "duration": 1702,
    "start_time": "2025-06-08T06:20:10.678Z"
   },
   {
    "duration": 13,
    "start_time": "2025-06-08T06:20:12.389Z"
   },
   {
    "duration": 43,
    "start_time": "2025-06-08T06:20:12.404Z"
   },
   {
    "duration": 1877,
    "start_time": "2025-06-08T06:20:12.457Z"
   },
   {
    "duration": 369,
    "start_time": "2025-06-08T06:20:14.335Z"
   },
   {
    "duration": 1707,
    "start_time": "2025-06-08T06:20:14.706Z"
   },
   {
    "duration": 25,
    "start_time": "2025-06-08T06:20:16.414Z"
   },
   {
    "duration": 282,
    "start_time": "2025-06-08T06:20:16.442Z"
   },
   {
    "duration": 32,
    "start_time": "2025-06-08T06:20:16.726Z"
   },
   {
    "duration": 112,
    "start_time": "2025-06-08T06:20:16.760Z"
   },
   {
    "duration": 1730,
    "start_time": "2025-06-08T06:20:16.874Z"
   },
   {
    "duration": 12,
    "start_time": "2025-06-08T06:20:18.606Z"
   },
   {
    "duration": 55,
    "start_time": "2025-06-08T06:25:36.932Z"
   },
   {
    "duration": 62,
    "start_time": "2025-06-08T06:25:56.387Z"
   },
   {
    "duration": 3832,
    "start_time": "2025-06-08T06:26:02.347Z"
   },
   {
    "duration": 1519,
    "start_time": "2025-06-08T06:26:06.181Z"
   },
   {
    "duration": 187,
    "start_time": "2025-06-08T06:26:07.701Z"
   },
   {
    "duration": 4,
    "start_time": "2025-06-08T06:26:07.890Z"
   },
   {
    "duration": 506,
    "start_time": "2025-06-08T06:26:07.897Z"
   },
   {
    "duration": 1142,
    "start_time": "2025-06-08T06:26:08.404Z"
   },
   {
    "duration": 119,
    "start_time": "2025-06-08T06:26:09.547Z"
   },
   {
    "duration": 179,
    "start_time": "2025-06-08T06:26:09.667Z"
   },
   {
    "duration": 181,
    "start_time": "2025-06-08T06:26:09.848Z"
   },
   {
    "duration": 464,
    "start_time": "2025-06-08T06:26:10.031Z"
   },
   {
    "duration": 47,
    "start_time": "2025-06-08T06:26:10.496Z"
   },
   {
    "duration": 104,
    "start_time": "2025-06-08T06:26:10.557Z"
   },
   {
    "duration": 143,
    "start_time": "2025-06-08T06:26:10.663Z"
   },
   {
    "duration": 22,
    "start_time": "2025-06-08T06:26:10.809Z"
   },
   {
    "duration": 55,
    "start_time": "2025-06-08T06:26:10.832Z"
   },
   {
    "duration": 21,
    "start_time": "2025-06-08T06:26:10.889Z"
   },
   {
    "duration": 47,
    "start_time": "2025-06-08T06:26:10.911Z"
   },
   {
    "duration": 23,
    "start_time": "2025-06-08T06:26:10.959Z"
   },
   {
    "duration": 41,
    "start_time": "2025-06-08T06:26:10.984Z"
   },
   {
    "duration": 38,
    "start_time": "2025-06-08T06:26:11.027Z"
   },
   {
    "duration": 38,
    "start_time": "2025-06-08T06:26:11.067Z"
   },
   {
    "duration": 21,
    "start_time": "2025-06-08T06:26:11.106Z"
   },
   {
    "duration": 64,
    "start_time": "2025-06-08T06:26:11.128Z"
   },
   {
    "duration": 148,
    "start_time": "2025-06-08T06:26:11.193Z"
   },
   {
    "duration": 76,
    "start_time": "2025-06-08T06:26:11.343Z"
   },
   {
    "duration": 3,
    "start_time": "2025-06-08T06:26:11.421Z"
   },
   {
    "duration": 76,
    "start_time": "2025-06-08T06:26:11.426Z"
   },
   {
    "duration": 1880,
    "start_time": "2025-06-08T06:26:11.504Z"
   },
   {
    "duration": 23,
    "start_time": "2025-06-08T06:26:13.385Z"
   },
   {
    "duration": 25,
    "start_time": "2025-06-08T06:26:13.410Z"
   },
   {
    "duration": 88,
    "start_time": "2025-06-08T06:26:13.436Z"
   },
   {
    "duration": 1859,
    "start_time": "2025-06-08T06:26:13.526Z"
   },
   {
    "duration": 398,
    "start_time": "2025-06-08T06:26:15.387Z"
   },
   {
    "duration": 1673,
    "start_time": "2025-06-08T06:26:15.787Z"
   },
   {
    "duration": 12,
    "start_time": "2025-06-08T06:26:17.462Z"
   },
   {
    "duration": 45,
    "start_time": "2025-06-08T06:26:17.476Z"
   },
   {
    "duration": 1781,
    "start_time": "2025-06-08T06:26:17.523Z"
   },
   {
    "duration": 381,
    "start_time": "2025-06-08T06:26:19.305Z"
   },
   {
    "duration": 1710,
    "start_time": "2025-06-08T06:26:19.687Z"
   },
   {
    "duration": 25,
    "start_time": "2025-06-08T06:26:21.398Z"
   },
   {
    "duration": 309,
    "start_time": "2025-06-08T06:26:21.426Z"
   },
   {
    "duration": 31,
    "start_time": "2025-06-08T06:26:21.737Z"
   },
   {
    "duration": 55,
    "start_time": "2025-06-08T06:26:21.769Z"
   },
   {
    "duration": 1774,
    "start_time": "2025-06-08T06:26:21.826Z"
   },
   {
    "duration": 11,
    "start_time": "2025-06-08T06:26:23.602Z"
   },
   {
    "duration": 11,
    "start_time": "2025-06-08T06:26:45.753Z"
   },
   {
    "duration": 3715,
    "start_time": "2025-06-08T06:26:51.087Z"
   },
   {
    "duration": 1671,
    "start_time": "2025-06-08T06:26:54.804Z"
   },
   {
    "duration": 203,
    "start_time": "2025-06-08T06:26:56.477Z"
   },
   {
    "duration": 5,
    "start_time": "2025-06-08T06:26:56.682Z"
   },
   {
    "duration": 508,
    "start_time": "2025-06-08T06:26:56.690Z"
   },
   {
    "duration": 1098,
    "start_time": "2025-06-08T06:26:57.200Z"
   },
   {
    "duration": 119,
    "start_time": "2025-06-08T06:26:58.300Z"
   },
   {
    "duration": 182,
    "start_time": "2025-06-08T06:26:58.421Z"
   },
   {
    "duration": 180,
    "start_time": "2025-06-08T06:26:58.605Z"
   },
   {
    "duration": 465,
    "start_time": "2025-06-08T06:26:58.787Z"
   },
   {
    "duration": 49,
    "start_time": "2025-06-08T06:26:59.258Z"
   },
   {
    "duration": 112,
    "start_time": "2025-06-08T06:26:59.309Z"
   },
   {
    "duration": 99,
    "start_time": "2025-06-08T06:26:59.422Z"
   },
   {
    "duration": 22,
    "start_time": "2025-06-08T06:26:59.524Z"
   },
   {
    "duration": 44,
    "start_time": "2025-06-08T06:26:59.547Z"
   },
   {
    "duration": 21,
    "start_time": "2025-06-08T06:26:59.593Z"
   },
   {
    "duration": 59,
    "start_time": "2025-06-08T06:26:59.616Z"
   },
   {
    "duration": 23,
    "start_time": "2025-06-08T06:26:59.677Z"
   },
   {
    "duration": 104,
    "start_time": "2025-06-08T06:26:59.702Z"
   },
   {
    "duration": 21,
    "start_time": "2025-06-08T06:26:59.807Z"
   },
   {
    "duration": 43,
    "start_time": "2025-06-08T06:26:59.830Z"
   },
   {
    "duration": 21,
    "start_time": "2025-06-08T06:26:59.874Z"
   },
   {
    "duration": 37,
    "start_time": "2025-06-08T06:26:59.896Z"
   },
   {
    "duration": 105,
    "start_time": "2025-06-08T06:26:59.935Z"
   },
   {
    "duration": 117,
    "start_time": "2025-06-08T06:27:00.042Z"
   },
   {
    "duration": 15,
    "start_time": "2025-06-08T06:27:00.160Z"
   },
   {
    "duration": 88,
    "start_time": "2025-06-08T06:27:00.176Z"
   },
   {
    "duration": 1986,
    "start_time": "2025-06-08T06:27:00.266Z"
   },
   {
    "duration": 24,
    "start_time": "2025-06-08T06:27:02.254Z"
   },
   {
    "duration": 12,
    "start_time": "2025-06-08T06:27:02.279Z"
   },
   {
    "duration": 101,
    "start_time": "2025-06-08T06:27:02.293Z"
   },
   {
    "duration": 1765,
    "start_time": "2025-06-08T06:27:02.396Z"
   },
   {
    "duration": 442,
    "start_time": "2025-06-08T06:27:04.163Z"
   },
   {
    "duration": 1691,
    "start_time": "2025-06-08T06:27:04.606Z"
   },
   {
    "duration": 12,
    "start_time": "2025-06-08T06:27:06.299Z"
   },
   {
    "duration": 75,
    "start_time": "2025-06-08T06:27:06.312Z"
   },
   {
    "duration": 1817,
    "start_time": "2025-06-08T06:27:06.388Z"
   },
   {
    "duration": 373,
    "start_time": "2025-06-08T06:27:08.207Z"
   },
   {
    "duration": 1733,
    "start_time": "2025-06-08T06:27:08.581Z"
   },
   {
    "duration": 30,
    "start_time": "2025-06-08T06:27:10.316Z"
   },
   {
    "duration": 294,
    "start_time": "2025-06-08T06:27:10.360Z"
   },
   {
    "duration": 21,
    "start_time": "2025-06-08T06:27:10.657Z"
   },
   {
    "duration": 90,
    "start_time": "2025-06-08T06:27:10.680Z"
   },
   {
    "duration": 1830,
    "start_time": "2025-06-08T06:27:10.772Z"
   },
   {
    "duration": 11,
    "start_time": "2025-06-08T06:27:12.604Z"
   },
   {
    "duration": 323,
    "start_time": "2025-06-08T06:28:56.301Z"
   },
   {
    "duration": 231,
    "start_time": "2025-06-08T06:29:06.252Z"
   },
   {
    "duration": 203,
    "start_time": "2025-06-08T06:29:11.769Z"
   },
   {
    "duration": 3606,
    "start_time": "2025-06-08T06:33:52.242Z"
   },
   {
    "duration": 1783,
    "start_time": "2025-06-08T06:34:39.345Z"
   },
   {
    "duration": 1897,
    "start_time": "2025-06-08T06:36:05.362Z"
   },
   {
    "duration": 1862,
    "start_time": "2025-06-08T06:38:11.863Z"
   },
   {
    "duration": 1868,
    "start_time": "2025-06-08T06:38:43.468Z"
   },
   {
    "duration": 1954,
    "start_time": "2025-06-08T06:39:09.682Z"
   },
   {
    "duration": 275,
    "start_time": "2025-06-08T06:43:52.717Z"
   },
   {
    "duration": 253,
    "start_time": "2025-06-08T06:44:46.169Z"
   },
   {
    "duration": 15,
    "start_time": "2025-06-08T06:48:22.746Z"
   },
   {
    "duration": 3655,
    "start_time": "2025-06-08T06:48:27.986Z"
   },
   {
    "duration": 1502,
    "start_time": "2025-06-08T06:48:31.644Z"
   },
   {
    "duration": 187,
    "start_time": "2025-06-08T06:48:33.148Z"
   },
   {
    "duration": 5,
    "start_time": "2025-06-08T06:48:33.336Z"
   },
   {
    "duration": 625,
    "start_time": "2025-06-08T06:48:33.343Z"
   },
   {
    "duration": 1083,
    "start_time": "2025-06-08T06:48:33.969Z"
   },
   {
    "duration": 134,
    "start_time": "2025-06-08T06:48:35.057Z"
   },
   {
    "duration": 191,
    "start_time": "2025-06-08T06:48:35.193Z"
   },
   {
    "duration": 182,
    "start_time": "2025-06-08T06:48:35.386Z"
   },
   {
    "duration": 464,
    "start_time": "2025-06-08T06:48:35.570Z"
   },
   {
    "duration": 55,
    "start_time": "2025-06-08T06:48:36.035Z"
   },
   {
    "duration": 108,
    "start_time": "2025-06-08T06:48:36.091Z"
   },
   {
    "duration": 176,
    "start_time": "2025-06-08T06:48:36.201Z"
   },
   {
    "duration": 25,
    "start_time": "2025-06-08T06:48:36.381Z"
   },
   {
    "duration": 54,
    "start_time": "2025-06-08T06:48:36.408Z"
   },
   {
    "duration": 21,
    "start_time": "2025-06-08T06:48:36.464Z"
   },
   {
    "duration": 43,
    "start_time": "2025-06-08T06:48:36.487Z"
   },
   {
    "duration": 33,
    "start_time": "2025-06-08T06:48:36.532Z"
   },
   {
    "duration": 61,
    "start_time": "2025-06-08T06:48:36.567Z"
   },
   {
    "duration": 23,
    "start_time": "2025-06-08T06:48:36.630Z"
   },
   {
    "duration": 49,
    "start_time": "2025-06-08T06:48:36.655Z"
   },
   {
    "duration": 174,
    "start_time": "2025-06-08T06:48:36.706Z"
   },
   {
    "duration": 59,
    "start_time": "2025-06-08T06:48:36.882Z"
   },
   {
    "duration": 93,
    "start_time": "2025-06-08T06:48:36.943Z"
   },
   {
    "duration": 6,
    "start_time": "2025-06-08T06:48:37.037Z"
   },
   {
    "duration": 14,
    "start_time": "2025-06-08T06:48:37.044Z"
   },
   {
    "duration": 60,
    "start_time": "2025-06-08T06:48:37.060Z"
   },
   {
    "duration": 1922,
    "start_time": "2025-06-08T06:48:37.121Z"
   },
   {
    "duration": 31,
    "start_time": "2025-06-08T06:48:39.044Z"
   },
   {
    "duration": 10,
    "start_time": "2025-06-08T06:48:39.077Z"
   },
   {
    "duration": 87,
    "start_time": "2025-06-08T06:48:39.088Z"
   },
   {
    "duration": 1854,
    "start_time": "2025-06-08T06:48:39.177Z"
   },
   {
    "duration": 407,
    "start_time": "2025-06-08T06:48:41.033Z"
   },
   {
    "duration": 1743,
    "start_time": "2025-06-08T06:48:41.442Z"
   },
   {
    "duration": 13,
    "start_time": "2025-06-08T06:48:43.186Z"
   },
   {
    "duration": 61,
    "start_time": "2025-06-08T06:48:43.200Z"
   },
   {
    "duration": 1977,
    "start_time": "2025-06-08T06:48:43.263Z"
   },
   {
    "duration": 387,
    "start_time": "2025-06-08T06:48:45.242Z"
   },
   {
    "duration": 1789,
    "start_time": "2025-06-08T06:48:45.631Z"
   },
   {
    "duration": 25,
    "start_time": "2025-06-08T06:48:47.421Z"
   },
   {
    "duration": 300,
    "start_time": "2025-06-08T06:48:47.458Z"
   },
   {
    "duration": 22,
    "start_time": "2025-06-08T06:48:47.759Z"
   },
   {
    "duration": 117,
    "start_time": "2025-06-08T06:48:47.783Z"
   },
   {
    "duration": 1720,
    "start_time": "2025-06-08T06:48:47.902Z"
   },
   {
    "duration": 1954,
    "start_time": "2025-06-08T06:48:49.624Z"
   },
   {
    "duration": 141,
    "start_time": "2025-06-08T06:48:51.580Z"
   },
   {
    "duration": 1,
    "start_time": "2025-06-08T06:48:51.722Z"
   },
   {
    "duration": 12,
    "start_time": "2025-06-08T06:53:37.043Z"
   },
   {
    "duration": 412,
    "start_time": "2025-06-08T06:54:00.975Z"
   },
   {
    "duration": 788,
    "start_time": "2025-06-08T06:57:27.322Z"
   },
   {
    "duration": 686,
    "start_time": "2025-06-08T06:58:15.952Z"
   },
   {
    "duration": 3802,
    "start_time": "2025-06-08T06:59:18.021Z"
   },
   {
    "duration": 1588,
    "start_time": "2025-06-08T06:59:21.825Z"
   },
   {
    "duration": 183,
    "start_time": "2025-06-08T06:59:23.414Z"
   },
   {
    "duration": 5,
    "start_time": "2025-06-08T06:59:23.599Z"
   },
   {
    "duration": 520,
    "start_time": "2025-06-08T06:59:23.606Z"
   },
   {
    "duration": 1154,
    "start_time": "2025-06-08T06:59:24.128Z"
   },
   {
    "duration": 143,
    "start_time": "2025-06-08T06:59:25.284Z"
   },
   {
    "duration": 249,
    "start_time": "2025-06-08T06:59:25.429Z"
   },
   {
    "duration": 182,
    "start_time": "2025-06-08T06:59:25.680Z"
   },
   {
    "duration": 469,
    "start_time": "2025-06-08T06:59:25.863Z"
   },
   {
    "duration": 56,
    "start_time": "2025-06-08T06:59:26.333Z"
   },
   {
    "duration": 103,
    "start_time": "2025-06-08T06:59:26.391Z"
   },
   {
    "duration": 103,
    "start_time": "2025-06-08T06:59:26.496Z"
   },
   {
    "duration": 23,
    "start_time": "2025-06-08T06:59:26.603Z"
   },
   {
    "duration": 57,
    "start_time": "2025-06-08T06:59:26.627Z"
   },
   {
    "duration": 22,
    "start_time": "2025-06-08T06:59:26.685Z"
   },
   {
    "duration": 51,
    "start_time": "2025-06-08T06:59:26.709Z"
   },
   {
    "duration": 142,
    "start_time": "2025-06-08T06:59:26.761Z"
   },
   {
    "duration": 41,
    "start_time": "2025-06-08T06:59:26.905Z"
   },
   {
    "duration": 22,
    "start_time": "2025-06-08T06:59:26.948Z"
   },
   {
    "duration": 38,
    "start_time": "2025-06-08T06:59:26.972Z"
   },
   {
    "duration": 21,
    "start_time": "2025-06-08T06:59:27.012Z"
   },
   {
    "duration": 40,
    "start_time": "2025-06-08T06:59:27.059Z"
   },
   {
    "duration": 102,
    "start_time": "2025-06-08T06:59:27.100Z"
   },
   {
    "duration": 6,
    "start_time": "2025-06-08T06:59:27.204Z"
   },
   {
    "duration": 3,
    "start_time": "2025-06-08T06:59:27.212Z"
   },
   {
    "duration": 78,
    "start_time": "2025-06-08T06:59:27.217Z"
   },
   {
    "duration": 1949,
    "start_time": "2025-06-08T06:59:27.296Z"
   },
   {
    "duration": 23,
    "start_time": "2025-06-08T06:59:29.246Z"
   },
   {
    "duration": 68,
    "start_time": "2025-06-08T06:59:29.271Z"
   },
   {
    "duration": 90,
    "start_time": "2025-06-08T06:59:29.341Z"
   },
   {
    "duration": 1878,
    "start_time": "2025-06-08T06:59:29.432Z"
   },
   {
    "duration": 454,
    "start_time": "2025-06-08T06:59:31.312Z"
   },
   {
    "duration": 1817,
    "start_time": "2025-06-08T06:59:31.767Z"
   },
   {
    "duration": 13,
    "start_time": "2025-06-08T06:59:33.586Z"
   },
   {
    "duration": 42,
    "start_time": "2025-06-08T06:59:33.601Z"
   },
   {
    "duration": 1868,
    "start_time": "2025-06-08T06:59:33.659Z"
   },
   {
    "duration": 387,
    "start_time": "2025-06-08T06:59:35.529Z"
   },
   {
    "duration": 1773,
    "start_time": "2025-06-08T06:59:35.918Z"
   },
   {
    "duration": 23,
    "start_time": "2025-06-08T06:59:37.693Z"
   },
   {
    "duration": 285,
    "start_time": "2025-06-08T06:59:37.720Z"
   },
   {
    "duration": 27,
    "start_time": "2025-06-08T06:59:38.006Z"
   },
   {
    "duration": 73,
    "start_time": "2025-06-08T06:59:38.035Z"
   },
   {
    "duration": 1698,
    "start_time": "2025-06-08T06:59:38.110Z"
   },
   {
    "duration": 1899,
    "start_time": "2025-06-08T06:59:39.810Z"
   },
   {
    "duration": 410,
    "start_time": "2025-06-08T06:59:41.711Z"
   },
   {
    "duration": 784,
    "start_time": "2025-06-08T06:59:42.122Z"
   },
   {
    "duration": 9,
    "start_time": "2025-06-08T06:59:42.908Z"
   },
   {
    "duration": 385,
    "start_time": "2025-06-08T07:06:15.797Z"
   },
   {
    "duration": 372,
    "start_time": "2025-06-08T07:06:35.973Z"
   },
   {
    "duration": 5687,
    "start_time": "2025-06-08T07:11:31.298Z"
   },
   {
    "duration": 4984,
    "start_time": "2025-06-08T07:14:15.137Z"
   },
   {
    "duration": 1039,
    "start_time": "2025-06-08T07:14:53.943Z"
   },
   {
    "duration": 121,
    "start_time": "2025-06-08T07:26:51.465Z"
   },
   {
    "duration": 3,
    "start_time": "2025-06-08T07:27:13.503Z"
   },
   {
    "duration": 4,
    "start_time": "2025-06-08T07:27:38.978Z"
   },
   {
    "duration": 15,
    "start_time": "2025-06-08T07:30:49.030Z"
   },
   {
    "duration": 20,
    "start_time": "2025-06-08T07:31:00.092Z"
   },
   {
    "duration": 19,
    "start_time": "2025-06-08T07:41:50.641Z"
   },
   {
    "duration": 6226,
    "start_time": "2025-06-08T07:42:05.711Z"
   },
   {
    "duration": 1613,
    "start_time": "2025-06-08T07:42:11.939Z"
   },
   {
    "duration": 176,
    "start_time": "2025-06-08T07:42:13.554Z"
   },
   {
    "duration": 4,
    "start_time": "2025-06-08T07:42:13.731Z"
   },
   {
    "duration": 501,
    "start_time": "2025-06-08T07:42:13.737Z"
   },
   {
    "duration": 1082,
    "start_time": "2025-06-08T07:42:14.240Z"
   },
   {
    "duration": 122,
    "start_time": "2025-06-08T07:42:15.323Z"
   },
   {
    "duration": 190,
    "start_time": "2025-06-08T07:42:15.446Z"
   },
   {
    "duration": 188,
    "start_time": "2025-06-08T07:42:15.638Z"
   },
   {
    "duration": 471,
    "start_time": "2025-06-08T07:42:15.828Z"
   },
   {
    "duration": 58,
    "start_time": "2025-06-08T07:42:16.301Z"
   },
   {
    "duration": 104,
    "start_time": "2025-06-08T07:42:16.360Z"
   },
   {
    "duration": 122,
    "start_time": "2025-06-08T07:42:16.466Z"
   },
   {
    "duration": 82,
    "start_time": "2025-06-08T07:42:16.593Z"
   },
   {
    "duration": 94,
    "start_time": "2025-06-08T07:42:16.677Z"
   },
   {
    "duration": 22,
    "start_time": "2025-06-08T07:42:16.772Z"
   },
   {
    "duration": 86,
    "start_time": "2025-06-08T07:42:16.796Z"
   },
   {
    "duration": 19,
    "start_time": "2025-06-08T07:42:16.884Z"
   },
   {
    "duration": 167,
    "start_time": "2025-06-08T07:42:16.905Z"
   },
   {
    "duration": 22,
    "start_time": "2025-06-08T07:42:17.074Z"
   },
   {
    "duration": 87,
    "start_time": "2025-06-08T07:42:17.097Z"
   },
   {
    "duration": 75,
    "start_time": "2025-06-08T07:42:17.185Z"
   },
   {
    "duration": 40,
    "start_time": "2025-06-08T07:42:17.262Z"
   },
   {
    "duration": 205,
    "start_time": "2025-06-08T07:42:17.359Z"
   },
   {
    "duration": 5,
    "start_time": "2025-06-08T07:42:17.566Z"
   },
   {
    "duration": 85,
    "start_time": "2025-06-08T07:42:17.573Z"
   },
   {
    "duration": 113,
    "start_time": "2025-06-08T07:42:17.660Z"
   },
   {
    "duration": 2062,
    "start_time": "2025-06-08T07:42:17.775Z"
   },
   {
    "duration": 31,
    "start_time": "2025-06-08T07:42:19.839Z"
   },
   {
    "duration": 10,
    "start_time": "2025-06-08T07:42:19.872Z"
   },
   {
    "duration": 79,
    "start_time": "2025-06-08T07:42:19.884Z"
   },
   {
    "duration": 1912,
    "start_time": "2025-06-08T07:42:19.965Z"
   },
   {
    "duration": 407,
    "start_time": "2025-06-08T07:42:21.879Z"
   },
   {
    "duration": 1692,
    "start_time": "2025-06-08T07:42:22.288Z"
   },
   {
    "duration": 14,
    "start_time": "2025-06-08T07:42:23.981Z"
   },
   {
    "duration": 72,
    "start_time": "2025-06-08T07:42:23.996Z"
   },
   {
    "duration": 1856,
    "start_time": "2025-06-08T07:42:24.070Z"
   },
   {
    "duration": 383,
    "start_time": "2025-06-08T07:42:25.928Z"
   },
   {
    "duration": 1723,
    "start_time": "2025-06-08T07:42:26.313Z"
   },
   {
    "duration": 33,
    "start_time": "2025-06-08T07:42:28.038Z"
   },
   {
    "duration": 276,
    "start_time": "2025-06-08T07:42:28.076Z"
   },
   {
    "duration": 21,
    "start_time": "2025-06-08T07:42:28.353Z"
   },
   {
    "duration": 53,
    "start_time": "2025-06-08T07:42:28.376Z"
   },
   {
    "duration": 1789,
    "start_time": "2025-06-08T07:42:28.430Z"
   },
   {
    "duration": 1982,
    "start_time": "2025-06-08T07:42:30.221Z"
   },
   {
    "duration": 414,
    "start_time": "2025-06-08T07:42:32.204Z"
   },
   {
    "duration": 785,
    "start_time": "2025-06-08T07:42:32.620Z"
   },
   {
    "duration": 384,
    "start_time": "2025-06-08T07:42:33.407Z"
   },
   {
    "duration": 14,
    "start_time": "2025-06-08T07:42:33.793Z"
   },
   {
    "duration": 5031,
    "start_time": "2025-06-08T07:42:33.809Z"
   },
   {
    "duration": 985,
    "start_time": "2025-06-08T07:42:38.841Z"
   },
   {
    "duration": 11,
    "start_time": "2025-06-08T07:42:39.828Z"
   },
   {
    "duration": 45,
    "start_time": "2025-06-08T07:43:42.870Z"
   },
   {
    "duration": 14,
    "start_time": "2025-06-08T07:43:56.388Z"
   },
   {
    "duration": 6213,
    "start_time": "2025-06-08T07:44:05.819Z"
   },
   {
    "duration": 2472,
    "start_time": "2025-06-08T07:44:12.035Z"
   },
   {
    "duration": 185,
    "start_time": "2025-06-08T07:44:14.509Z"
   },
   {
    "duration": 62,
    "start_time": "2025-06-08T07:44:14.696Z"
   },
   {
    "duration": 5,
    "start_time": "2025-06-08T07:44:14.760Z"
   },
   {
    "duration": 519,
    "start_time": "2025-06-08T07:44:14.766Z"
   },
   {
    "duration": 1097,
    "start_time": "2025-06-08T07:44:15.287Z"
   },
   {
    "duration": 116,
    "start_time": "2025-06-08T07:44:16.385Z"
   },
   {
    "duration": 193,
    "start_time": "2025-06-08T07:44:16.503Z"
   },
   {
    "duration": 184,
    "start_time": "2025-06-08T07:44:16.698Z"
   },
   {
    "duration": 469,
    "start_time": "2025-06-08T07:44:16.883Z"
   },
   {
    "duration": 25,
    "start_time": "2025-06-08T07:44:17.358Z"
   },
   {
    "duration": 110,
    "start_time": "2025-06-08T07:44:17.384Z"
   },
   {
    "duration": 146,
    "start_time": "2025-06-08T07:44:17.497Z"
   },
   {
    "duration": 45,
    "start_time": "2025-06-08T07:44:17.644Z"
   },
   {
    "duration": 42,
    "start_time": "2025-06-08T07:44:17.691Z"
   },
   {
    "duration": 21,
    "start_time": "2025-06-08T07:44:17.735Z"
   },
   {
    "duration": 39,
    "start_time": "2025-06-08T07:44:17.758Z"
   },
   {
    "duration": 18,
    "start_time": "2025-06-08T07:44:17.799Z"
   },
   {
    "duration": 68,
    "start_time": "2025-06-08T07:44:17.818Z"
   },
   {
    "duration": 21,
    "start_time": "2025-06-08T07:44:17.888Z"
   },
   {
    "duration": 56,
    "start_time": "2025-06-08T07:44:17.910Z"
   },
   {
    "duration": 20,
    "start_time": "2025-06-08T07:44:17.968Z"
   },
   {
    "duration": 83,
    "start_time": "2025-06-08T07:44:17.990Z"
   },
   {
    "duration": 94,
    "start_time": "2025-06-08T07:44:18.075Z"
   },
   {
    "duration": 5,
    "start_time": "2025-06-08T07:44:18.171Z"
   },
   {
    "duration": 3,
    "start_time": "2025-06-08T07:44:18.177Z"
   },
   {
    "duration": 87,
    "start_time": "2025-06-08T07:44:18.182Z"
   },
   {
    "duration": 1970,
    "start_time": "2025-06-08T07:44:18.270Z"
   },
   {
    "duration": 39,
    "start_time": "2025-06-08T07:44:20.243Z"
   },
   {
    "duration": 11,
    "start_time": "2025-06-08T07:44:20.284Z"
   },
   {
    "duration": 40,
    "start_time": "2025-06-08T07:44:20.296Z"
   },
   {
    "duration": 2019,
    "start_time": "2025-06-08T07:44:20.338Z"
   },
   {
    "duration": 416,
    "start_time": "2025-06-08T07:44:22.359Z"
   },
   {
    "duration": 1905,
    "start_time": "2025-06-08T07:44:22.777Z"
   },
   {
    "duration": 12,
    "start_time": "2025-06-08T07:44:24.684Z"
   },
   {
    "duration": 93,
    "start_time": "2025-06-08T07:44:24.698Z"
   },
   {
    "duration": 2432,
    "start_time": "2025-06-08T07:44:24.792Z"
   },
   {
    "duration": 392,
    "start_time": "2025-06-08T07:44:27.226Z"
   },
   {
    "duration": 1814,
    "start_time": "2025-06-08T07:44:27.620Z"
   },
   {
    "duration": 33,
    "start_time": "2025-06-08T07:44:29.437Z"
   },
   {
    "duration": 275,
    "start_time": "2025-06-08T07:44:29.471Z"
   },
   {
    "duration": 28,
    "start_time": "2025-06-08T07:44:29.748Z"
   },
   {
    "duration": 54,
    "start_time": "2025-06-08T07:44:29.778Z"
   },
   {
    "duration": 1832,
    "start_time": "2025-06-08T07:44:29.833Z"
   },
   {
    "duration": 2029,
    "start_time": "2025-06-08T07:44:31.667Z"
   },
   {
    "duration": 448,
    "start_time": "2025-06-08T07:44:33.697Z"
   },
   {
    "duration": 797,
    "start_time": "2025-06-08T07:44:34.146Z"
   },
   {
    "duration": 420,
    "start_time": "2025-06-08T07:44:34.945Z"
   },
   {
    "duration": 14,
    "start_time": "2025-06-08T07:44:35.367Z"
   },
   {
    "duration": 4968,
    "start_time": "2025-06-08T07:44:35.382Z"
   },
   {
    "duration": 991,
    "start_time": "2025-06-08T07:44:40.351Z"
   },
   {
    "duration": 13,
    "start_time": "2025-06-08T07:44:41.344Z"
   },
   {
    "duration": 37,
    "start_time": "2025-06-08T07:45:57.827Z"
   },
   {
    "duration": 36,
    "start_time": "2025-06-08T07:47:19.956Z"
   },
   {
    "duration": 6209,
    "start_time": "2025-06-08T07:47:28.058Z"
   },
   {
    "duration": 1710,
    "start_time": "2025-06-08T07:47:34.270Z"
   },
   {
    "duration": 172,
    "start_time": "2025-06-08T07:47:35.982Z"
   },
   {
    "duration": 59,
    "start_time": "2025-06-08T07:47:36.155Z"
   },
   {
    "duration": 4,
    "start_time": "2025-06-08T07:47:36.217Z"
   },
   {
    "duration": 505,
    "start_time": "2025-06-08T07:47:36.223Z"
   },
   {
    "duration": 1042,
    "start_time": "2025-06-08T07:47:36.730Z"
   },
   {
    "duration": 122,
    "start_time": "2025-06-08T07:47:37.774Z"
   },
   {
    "duration": 179,
    "start_time": "2025-06-08T07:47:37.898Z"
   },
   {
    "duration": 180,
    "start_time": "2025-06-08T07:47:38.078Z"
   },
   {
    "duration": 457,
    "start_time": "2025-06-08T07:47:38.260Z"
   },
   {
    "duration": 24,
    "start_time": "2025-06-08T07:47:38.718Z"
   },
   {
    "duration": 117,
    "start_time": "2025-06-08T07:47:38.744Z"
   },
   {
    "duration": 97,
    "start_time": "2025-06-08T07:47:38.863Z"
   },
   {
    "duration": 102,
    "start_time": "2025-06-08T07:47:38.962Z"
   },
   {
    "duration": 38,
    "start_time": "2025-06-08T07:47:39.065Z"
   },
   {
    "duration": 36,
    "start_time": "2025-06-08T07:47:39.104Z"
   },
   {
    "duration": 37,
    "start_time": "2025-06-08T07:47:39.157Z"
   },
   {
    "duration": 19,
    "start_time": "2025-06-08T07:47:39.196Z"
   },
   {
    "duration": 56,
    "start_time": "2025-06-08T07:47:39.216Z"
   },
   {
    "duration": 21,
    "start_time": "2025-06-08T07:47:39.274Z"
   },
   {
    "duration": 36,
    "start_time": "2025-06-08T07:47:39.297Z"
   },
   {
    "duration": 38,
    "start_time": "2025-06-08T07:47:39.334Z"
   },
   {
    "duration": 118,
    "start_time": "2025-06-08T07:47:39.374Z"
   },
   {
    "duration": 93,
    "start_time": "2025-06-08T07:47:39.494Z"
   },
   {
    "duration": 80,
    "start_time": "2025-06-08T07:47:39.588Z"
   },
   {
    "duration": 3,
    "start_time": "2025-06-08T07:47:39.670Z"
   },
   {
    "duration": 79,
    "start_time": "2025-06-08T07:47:39.675Z"
   },
   {
    "duration": 1889,
    "start_time": "2025-06-08T07:47:39.756Z"
   },
   {
    "duration": 30,
    "start_time": "2025-06-08T07:47:41.646Z"
   },
   {
    "duration": 11,
    "start_time": "2025-06-08T07:47:41.678Z"
   },
   {
    "duration": 40,
    "start_time": "2025-06-08T07:47:41.690Z"
   },
   {
    "duration": 1885,
    "start_time": "2025-06-08T07:47:41.732Z"
   },
   {
    "duration": 408,
    "start_time": "2025-06-08T07:47:43.619Z"
   },
   {
    "duration": 1756,
    "start_time": "2025-06-08T07:47:44.029Z"
   },
   {
    "duration": 14,
    "start_time": "2025-06-08T07:47:45.786Z"
   },
   {
    "duration": 58,
    "start_time": "2025-06-08T07:47:45.802Z"
   },
   {
    "duration": 2019,
    "start_time": "2025-06-08T07:47:45.862Z"
   },
   {
    "duration": 713,
    "start_time": "2025-06-08T07:47:47.883Z"
   },
   {
    "duration": 1802,
    "start_time": "2025-06-08T07:47:48.598Z"
   },
   {
    "duration": 24,
    "start_time": "2025-06-08T07:47:50.403Z"
   },
   {
    "duration": 330,
    "start_time": "2025-06-08T07:47:50.428Z"
   },
   {
    "duration": 21,
    "start_time": "2025-06-08T07:47:50.760Z"
   },
   {
    "duration": 54,
    "start_time": "2025-06-08T07:47:50.782Z"
   },
   {
    "duration": 1807,
    "start_time": "2025-06-08T07:47:50.837Z"
   },
   {
    "duration": 1937,
    "start_time": "2025-06-08T07:47:52.645Z"
   },
   {
    "duration": 408,
    "start_time": "2025-06-08T07:47:54.583Z"
   },
   {
    "duration": 815,
    "start_time": "2025-06-08T07:47:54.992Z"
   },
   {
    "duration": 376,
    "start_time": "2025-06-08T07:47:55.809Z"
   },
   {
    "duration": 35,
    "start_time": "2025-06-08T07:47:56.187Z"
   },
   {
    "duration": 4942,
    "start_time": "2025-06-08T07:47:56.224Z"
   },
   {
    "duration": 1046,
    "start_time": "2025-06-08T07:48:01.168Z"
   },
   {
    "duration": 11,
    "start_time": "2025-06-08T07:48:02.216Z"
   },
   {
    "duration": 35,
    "start_time": "2025-06-08T07:59:53.316Z"
   },
   {
    "duration": 6127,
    "start_time": "2025-06-08T08:00:01.732Z"
   },
   {
    "duration": 2718,
    "start_time": "2025-06-08T08:00:07.861Z"
   },
   {
    "duration": 302,
    "start_time": "2025-06-08T08:00:10.581Z"
   },
   {
    "duration": 58,
    "start_time": "2025-06-08T08:00:10.885Z"
   },
   {
    "duration": 14,
    "start_time": "2025-06-08T08:00:10.945Z"
   },
   {
    "duration": 673,
    "start_time": "2025-06-08T08:00:10.960Z"
   },
   {
    "duration": 1069,
    "start_time": "2025-06-08T08:00:11.635Z"
   },
   {
    "duration": 123,
    "start_time": "2025-06-08T08:00:12.706Z"
   },
   {
    "duration": 187,
    "start_time": "2025-06-08T08:00:12.831Z"
   },
   {
    "duration": 187,
    "start_time": "2025-06-08T08:00:13.019Z"
   },
   {
    "duration": 477,
    "start_time": "2025-06-08T08:00:13.208Z"
   },
   {
    "duration": 27,
    "start_time": "2025-06-08T08:00:13.687Z"
   },
   {
    "duration": 113,
    "start_time": "2025-06-08T08:00:13.716Z"
   },
   {
    "duration": 99,
    "start_time": "2025-06-08T08:00:13.833Z"
   },
   {
    "duration": 37,
    "start_time": "2025-06-08T08:00:13.934Z"
   },
   {
    "duration": 40,
    "start_time": "2025-06-08T08:00:13.973Z"
   },
   {
    "duration": 49,
    "start_time": "2025-06-08T08:00:14.015Z"
   },
   {
    "duration": 85,
    "start_time": "2025-06-08T08:00:14.066Z"
   },
   {
    "duration": 21,
    "start_time": "2025-06-08T08:00:14.153Z"
   },
   {
    "duration": 45,
    "start_time": "2025-06-08T08:00:14.175Z"
   },
   {
    "duration": 39,
    "start_time": "2025-06-08T08:00:14.221Z"
   },
   {
    "duration": 38,
    "start_time": "2025-06-08T08:00:14.261Z"
   },
   {
    "duration": 23,
    "start_time": "2025-06-08T08:00:14.300Z"
   },
   {
    "duration": 58,
    "start_time": "2025-06-08T08:00:14.324Z"
   },
   {
    "duration": 99,
    "start_time": "2025-06-08T08:00:14.384Z"
   },
   {
    "duration": 71,
    "start_time": "2025-06-08T08:00:14.484Z"
   },
   {
    "duration": 3,
    "start_time": "2025-06-08T08:00:14.557Z"
   },
   {
    "duration": 60,
    "start_time": "2025-06-08T08:00:14.562Z"
   },
   {
    "duration": 1913,
    "start_time": "2025-06-08T08:00:14.624Z"
   },
   {
    "duration": 32,
    "start_time": "2025-06-08T08:00:16.539Z"
   },
   {
    "duration": 11,
    "start_time": "2025-06-08T08:00:16.573Z"
   },
   {
    "duration": 41,
    "start_time": "2025-06-08T08:00:16.586Z"
   },
   {
    "duration": 2046,
    "start_time": "2025-06-08T08:00:16.629Z"
   },
   {
    "duration": 981,
    "start_time": "2025-06-08T08:00:18.677Z"
   },
   {
    "duration": 1809,
    "start_time": "2025-06-08T08:00:19.660Z"
   },
   {
    "duration": 15,
    "start_time": "2025-06-08T08:00:21.471Z"
   },
   {
    "duration": 153,
    "start_time": "2025-06-08T08:00:21.488Z"
   },
   {
    "duration": 1877,
    "start_time": "2025-06-08T08:00:21.643Z"
   },
   {
    "duration": 377,
    "start_time": "2025-06-08T08:00:23.522Z"
   },
   {
    "duration": 1848,
    "start_time": "2025-06-08T08:00:23.901Z"
   },
   {
    "duration": 26,
    "start_time": "2025-06-08T08:00:25.757Z"
   },
   {
    "duration": 306,
    "start_time": "2025-06-08T08:00:25.785Z"
   },
   {
    "duration": 21,
    "start_time": "2025-06-08T08:00:26.093Z"
   },
   {
    "duration": 79,
    "start_time": "2025-06-08T08:00:26.116Z"
   },
   {
    "duration": 1742,
    "start_time": "2025-06-08T08:00:26.197Z"
   },
   {
    "duration": 1966,
    "start_time": "2025-06-08T08:00:27.941Z"
   },
   {
    "duration": 410,
    "start_time": "2025-06-08T08:00:29.909Z"
   },
   {
    "duration": 799,
    "start_time": "2025-06-08T08:00:30.320Z"
   },
   {
    "duration": 384,
    "start_time": "2025-06-08T08:00:31.121Z"
   },
   {
    "duration": 56,
    "start_time": "2025-06-08T08:00:31.507Z"
   },
   {
    "duration": 5027,
    "start_time": "2025-06-08T08:00:31.565Z"
   },
   {
    "duration": 976,
    "start_time": "2025-06-08T08:00:36.595Z"
   },
   {
    "duration": 11,
    "start_time": "2025-06-08T08:00:37.572Z"
   },
   {
    "duration": 90,
    "start_time": "2025-06-08T08:01:24.164Z"
   },
   {
    "duration": 88,
    "start_time": "2025-06-08T08:01:29.372Z"
   },
   {
    "duration": 7,
    "start_time": "2025-06-08T08:03:06.036Z"
   },
   {
    "duration": 6285,
    "start_time": "2025-06-08T08:03:16.391Z"
   },
   {
    "duration": 1575,
    "start_time": "2025-06-08T08:03:22.678Z"
   },
   {
    "duration": 175,
    "start_time": "2025-06-08T08:03:24.257Z"
   },
   {
    "duration": 74,
    "start_time": "2025-06-08T08:03:24.435Z"
   },
   {
    "duration": 5,
    "start_time": "2025-06-08T08:03:24.511Z"
   },
   {
    "duration": 527,
    "start_time": "2025-06-08T08:03:24.517Z"
   },
   {
    "duration": 1115,
    "start_time": "2025-06-08T08:03:25.046Z"
   },
   {
    "duration": 137,
    "start_time": "2025-06-08T08:03:26.163Z"
   },
   {
    "duration": 186,
    "start_time": "2025-06-08T08:03:26.302Z"
   },
   {
    "duration": 191,
    "start_time": "2025-06-08T08:03:26.490Z"
   },
   {
    "duration": 807,
    "start_time": "2025-06-08T08:03:26.682Z"
   },
   {
    "duration": 73,
    "start_time": "2025-06-08T08:03:27.491Z"
   },
   {
    "duration": 227,
    "start_time": "2025-06-08T08:03:27.565Z"
   },
   {
    "duration": 190,
    "start_time": "2025-06-08T08:03:27.796Z"
   },
   {
    "duration": 74,
    "start_time": "2025-06-08T08:03:27.988Z"
   },
   {
    "duration": 112,
    "start_time": "2025-06-08T08:03:28.064Z"
   },
   {
    "duration": 86,
    "start_time": "2025-06-08T08:03:28.177Z"
   },
   {
    "duration": 93,
    "start_time": "2025-06-08T08:03:28.265Z"
   },
   {
    "duration": 19,
    "start_time": "2025-06-08T08:03:28.360Z"
   },
   {
    "duration": 93,
    "start_time": "2025-06-08T08:03:28.381Z"
   },
   {
    "duration": 22,
    "start_time": "2025-06-08T08:03:28.476Z"
   },
   {
    "duration": 100,
    "start_time": "2025-06-08T08:03:28.499Z"
   },
   {
    "duration": 57,
    "start_time": "2025-06-08T08:03:28.601Z"
   },
   {
    "duration": 38,
    "start_time": "2025-06-08T08:03:28.660Z"
   },
   {
    "duration": 105,
    "start_time": "2025-06-08T08:03:28.700Z"
   },
   {
    "duration": 7,
    "start_time": "2025-06-08T08:03:28.807Z"
   },
   {
    "duration": 4,
    "start_time": "2025-06-08T08:03:28.816Z"
   },
   {
    "duration": 86,
    "start_time": "2025-06-08T08:03:28.822Z"
   },
   {
    "duration": 1931,
    "start_time": "2025-06-08T08:03:28.909Z"
   },
   {
    "duration": 29,
    "start_time": "2025-06-08T08:03:30.843Z"
   },
   {
    "duration": 12,
    "start_time": "2025-06-08T08:03:30.874Z"
   },
   {
    "duration": 40,
    "start_time": "2025-06-08T08:03:30.887Z"
   },
   {
    "duration": 1941,
    "start_time": "2025-06-08T08:03:30.928Z"
   },
   {
    "duration": 434,
    "start_time": "2025-06-08T08:03:32.871Z"
   },
   {
    "duration": 1799,
    "start_time": "2025-06-08T08:03:33.307Z"
   },
   {
    "duration": 12,
    "start_time": "2025-06-08T08:03:35.108Z"
   },
   {
    "duration": 73,
    "start_time": "2025-06-08T08:03:35.122Z"
   },
   {
    "duration": 1918,
    "start_time": "2025-06-08T08:03:35.198Z"
   },
   {
    "duration": 378,
    "start_time": "2025-06-08T08:03:37.118Z"
   },
   {
    "duration": 1806,
    "start_time": "2025-06-08T08:03:37.498Z"
   },
   {
    "duration": 23,
    "start_time": "2025-06-08T08:03:39.308Z"
   },
   {
    "duration": 290,
    "start_time": "2025-06-08T08:03:39.332Z"
   },
   {
    "duration": 22,
    "start_time": "2025-06-08T08:03:39.624Z"
   },
   {
    "duration": 55,
    "start_time": "2025-06-08T08:03:39.658Z"
   },
   {
    "duration": 1863,
    "start_time": "2025-06-08T08:03:39.716Z"
   },
   {
    "duration": 1997,
    "start_time": "2025-06-08T08:03:41.582Z"
   },
   {
    "duration": 400,
    "start_time": "2025-06-08T08:03:43.581Z"
   },
   {
    "duration": 796,
    "start_time": "2025-06-08T08:03:43.983Z"
   },
   {
    "duration": 396,
    "start_time": "2025-06-08T08:03:44.781Z"
   },
   {
    "duration": 17,
    "start_time": "2025-06-08T08:03:45.184Z"
   },
   {
    "duration": 5181,
    "start_time": "2025-06-08T08:03:45.205Z"
   },
   {
    "duration": 987,
    "start_time": "2025-06-08T08:03:50.388Z"
   },
   {
    "duration": 12,
    "start_time": "2025-06-08T08:03:51.378Z"
   },
   {
    "duration": 9,
    "start_time": "2025-06-08T08:05:16.394Z"
   },
   {
    "duration": 9,
    "start_time": "2025-06-08T08:05:22.945Z"
   },
   {
    "duration": 6189,
    "start_time": "2025-06-08T08:05:30.845Z"
   },
   {
    "duration": 1662,
    "start_time": "2025-06-08T08:05:37.036Z"
   },
   {
    "duration": 176,
    "start_time": "2025-06-08T08:05:38.700Z"
   },
   {
    "duration": 58,
    "start_time": "2025-06-08T08:05:38.879Z"
   },
   {
    "duration": 20,
    "start_time": "2025-06-08T08:05:38.938Z"
   },
   {
    "duration": 602,
    "start_time": "2025-06-08T08:05:38.960Z"
   },
   {
    "duration": 1011,
    "start_time": "2025-06-08T08:05:39.564Z"
   },
   {
    "duration": 119,
    "start_time": "2025-06-08T08:05:40.577Z"
   },
   {
    "duration": 190,
    "start_time": "2025-06-08T08:05:40.697Z"
   },
   {
    "duration": 186,
    "start_time": "2025-06-08T08:05:40.890Z"
   },
   {
    "duration": 482,
    "start_time": "2025-06-08T08:05:41.077Z"
   },
   {
    "duration": 26,
    "start_time": "2025-06-08T08:05:41.561Z"
   },
   {
    "duration": 135,
    "start_time": "2025-06-08T08:05:41.589Z"
   },
   {
    "duration": 93,
    "start_time": "2025-06-08T08:05:41.726Z"
   },
   {
    "duration": 22,
    "start_time": "2025-06-08T08:05:41.821Z"
   },
   {
    "duration": 49,
    "start_time": "2025-06-08T08:05:41.845Z"
   },
   {
    "duration": 36,
    "start_time": "2025-06-08T08:05:41.896Z"
   },
   {
    "duration": 56,
    "start_time": "2025-06-08T08:05:41.934Z"
   },
   {
    "duration": 29,
    "start_time": "2025-06-08T08:05:41.992Z"
   },
   {
    "duration": 54,
    "start_time": "2025-06-08T08:05:42.023Z"
   },
   {
    "duration": 23,
    "start_time": "2025-06-08T08:05:42.078Z"
   },
   {
    "duration": 72,
    "start_time": "2025-06-08T08:05:42.102Z"
   },
   {
    "duration": 21,
    "start_time": "2025-06-08T08:05:42.175Z"
   },
   {
    "duration": 37,
    "start_time": "2025-06-08T08:05:42.198Z"
   },
   {
    "duration": 106,
    "start_time": "2025-06-08T08:05:42.237Z"
   },
   {
    "duration": 15,
    "start_time": "2025-06-08T08:05:42.345Z"
   },
   {
    "duration": 8,
    "start_time": "2025-06-08T08:05:42.362Z"
   },
   {
    "duration": 66,
    "start_time": "2025-06-08T08:05:42.373Z"
   },
   {
    "duration": 1841,
    "start_time": "2025-06-08T08:05:42.440Z"
   },
   {
    "duration": 23,
    "start_time": "2025-06-08T08:05:44.283Z"
   },
   {
    "duration": 11,
    "start_time": "2025-06-08T08:05:44.308Z"
   },
   {
    "duration": 59,
    "start_time": "2025-06-08T08:05:44.320Z"
   },
   {
    "duration": 1856,
    "start_time": "2025-06-08T08:05:44.380Z"
   },
   {
    "duration": 402,
    "start_time": "2025-06-08T08:05:46.238Z"
   },
   {
    "duration": 1710,
    "start_time": "2025-06-08T08:05:46.642Z"
   },
   {
    "duration": 12,
    "start_time": "2025-06-08T08:05:48.357Z"
   },
   {
    "duration": 40,
    "start_time": "2025-06-08T08:05:48.371Z"
   },
   {
    "duration": 1801,
    "start_time": "2025-06-08T08:05:48.413Z"
   },
   {
    "duration": 366,
    "start_time": "2025-06-08T08:05:50.215Z"
   },
   {
    "duration": 1739,
    "start_time": "2025-06-08T08:05:50.582Z"
   },
   {
    "duration": 36,
    "start_time": "2025-06-08T08:05:52.323Z"
   },
   {
    "duration": 274,
    "start_time": "2025-06-08T08:05:52.361Z"
   },
   {
    "duration": 30,
    "start_time": "2025-06-08T08:05:52.636Z"
   },
   {
    "duration": 56,
    "start_time": "2025-06-08T08:05:52.668Z"
   },
   {
    "duration": 1790,
    "start_time": "2025-06-08T08:05:52.725Z"
   },
   {
    "duration": 1978,
    "start_time": "2025-06-08T08:05:54.516Z"
   },
   {
    "duration": 409,
    "start_time": "2025-06-08T08:05:56.496Z"
   },
   {
    "duration": 804,
    "start_time": "2025-06-08T08:05:56.907Z"
   },
   {
    "duration": 395,
    "start_time": "2025-06-08T08:05:57.714Z"
   },
   {
    "duration": 47,
    "start_time": "2025-06-08T08:05:58.111Z"
   },
   {
    "duration": 5003,
    "start_time": "2025-06-08T08:05:58.160Z"
   },
   {
    "duration": 957,
    "start_time": "2025-06-08T08:06:03.165Z"
   },
   {
    "duration": 12,
    "start_time": "2025-06-08T08:06:04.124Z"
   },
   {
    "duration": 21,
    "start_time": "2025-06-08T08:07:42.310Z"
   },
   {
    "duration": 37,
    "start_time": "2025-06-08T08:09:07.973Z"
   },
   {
    "duration": 6630,
    "start_time": "2025-06-08T08:09:11.820Z"
   },
   {
    "duration": 1682,
    "start_time": "2025-06-08T08:09:18.452Z"
   },
   {
    "duration": 202,
    "start_time": "2025-06-08T08:09:20.135Z"
   },
   {
    "duration": 67,
    "start_time": "2025-06-08T08:09:20.339Z"
   },
   {
    "duration": 5,
    "start_time": "2025-06-08T08:09:20.408Z"
   },
   {
    "duration": 541,
    "start_time": "2025-06-08T08:09:20.414Z"
   },
   {
    "duration": 1192,
    "start_time": "2025-06-08T08:09:20.957Z"
   },
   {
    "duration": 129,
    "start_time": "2025-06-08T08:09:22.151Z"
   },
   {
    "duration": 198,
    "start_time": "2025-06-08T08:09:22.281Z"
   },
   {
    "duration": 185,
    "start_time": "2025-06-08T08:09:22.480Z"
   },
   {
    "duration": 481,
    "start_time": "2025-06-08T08:09:22.667Z"
   },
   {
    "duration": 33,
    "start_time": "2025-06-08T08:09:23.150Z"
   },
   {
    "duration": 120,
    "start_time": "2025-06-08T08:09:23.184Z"
   },
   {
    "duration": 108,
    "start_time": "2025-06-08T08:09:23.306Z"
   },
   {
    "duration": 21,
    "start_time": "2025-06-08T08:09:23.416Z"
   },
   {
    "duration": 108,
    "start_time": "2025-06-08T08:09:23.438Z"
   },
   {
    "duration": 37,
    "start_time": "2025-06-08T08:09:23.548Z"
   },
   {
    "duration": 70,
    "start_time": "2025-06-08T08:09:23.586Z"
   },
   {
    "duration": 31,
    "start_time": "2025-06-08T08:09:23.658Z"
   },
   {
    "duration": 101,
    "start_time": "2025-06-08T08:09:23.691Z"
   },
   {
    "duration": 21,
    "start_time": "2025-06-08T08:09:23.794Z"
   },
   {
    "duration": 50,
    "start_time": "2025-06-08T08:09:23.816Z"
   },
   {
    "duration": 21,
    "start_time": "2025-06-08T08:09:23.867Z"
   },
   {
    "duration": 38,
    "start_time": "2025-06-08T08:09:23.890Z"
   },
   {
    "duration": 110,
    "start_time": "2025-06-08T08:09:23.929Z"
   },
   {
    "duration": 6,
    "start_time": "2025-06-08T08:09:24.040Z"
   },
   {
    "duration": 12,
    "start_time": "2025-06-08T08:09:24.047Z"
   },
   {
    "duration": 59,
    "start_time": "2025-06-08T08:09:24.060Z"
   },
   {
    "duration": 1910,
    "start_time": "2025-06-08T08:09:24.120Z"
   },
   {
    "duration": 32,
    "start_time": "2025-06-08T08:09:26.031Z"
   },
   {
    "duration": 11,
    "start_time": "2025-06-08T08:09:26.065Z"
   },
   {
    "duration": 39,
    "start_time": "2025-06-08T08:09:26.078Z"
   },
   {
    "duration": 1851,
    "start_time": "2025-06-08T08:09:26.119Z"
   },
   {
    "duration": 406,
    "start_time": "2025-06-08T08:09:27.972Z"
   },
   {
    "duration": 1697,
    "start_time": "2025-06-08T08:09:28.380Z"
   },
   {
    "duration": 13,
    "start_time": "2025-06-08T08:09:30.079Z"
   },
   {
    "duration": 124,
    "start_time": "2025-06-08T08:09:30.094Z"
   },
   {
    "duration": 1806,
    "start_time": "2025-06-08T08:09:30.219Z"
   },
   {
    "duration": 384,
    "start_time": "2025-06-08T08:09:32.027Z"
   },
   {
    "duration": 1704,
    "start_time": "2025-06-08T08:09:32.413Z"
   },
   {
    "duration": 23,
    "start_time": "2025-06-08T08:09:34.121Z"
   },
   {
    "duration": 279,
    "start_time": "2025-06-08T08:09:34.158Z"
   },
   {
    "duration": 26,
    "start_time": "2025-06-08T08:09:34.439Z"
   },
   {
    "duration": 55,
    "start_time": "2025-06-08T08:09:34.466Z"
   },
   {
    "duration": 1826,
    "start_time": "2025-06-08T08:09:34.523Z"
   },
   {
    "duration": 1901,
    "start_time": "2025-06-08T08:09:36.357Z"
   },
   {
    "duration": 404,
    "start_time": "2025-06-08T08:09:38.261Z"
   },
   {
    "duration": 768,
    "start_time": "2025-06-08T08:09:38.666Z"
   },
   {
    "duration": 366,
    "start_time": "2025-06-08T08:09:39.435Z"
   },
   {
    "duration": 34,
    "start_time": "2025-06-08T08:09:39.802Z"
   },
   {
    "duration": 4876,
    "start_time": "2025-06-08T08:09:39.837Z"
   },
   {
    "duration": 1024,
    "start_time": "2025-06-08T08:09:44.715Z"
   },
   {
    "duration": 12,
    "start_time": "2025-06-08T08:09:45.740Z"
   },
   {
    "duration": 22,
    "start_time": "2025-06-08T08:13:04.459Z"
   },
   {
    "duration": 6243,
    "start_time": "2025-06-08T08:13:10.933Z"
   },
   {
    "duration": 1571,
    "start_time": "2025-06-08T08:13:17.178Z"
   },
   {
    "duration": 173,
    "start_time": "2025-06-08T08:13:18.750Z"
   },
   {
    "duration": 66,
    "start_time": "2025-06-08T08:13:18.925Z"
   },
   {
    "duration": 4,
    "start_time": "2025-06-08T08:13:18.994Z"
   },
   {
    "duration": 628,
    "start_time": "2025-06-08T08:13:18.999Z"
   },
   {
    "duration": 1054,
    "start_time": "2025-06-08T08:13:19.628Z"
   },
   {
    "duration": 120,
    "start_time": "2025-06-08T08:13:20.683Z"
   },
   {
    "duration": 204,
    "start_time": "2025-06-08T08:13:20.805Z"
   },
   {
    "duration": 266,
    "start_time": "2025-06-08T08:13:21.010Z"
   },
   {
    "duration": 1015,
    "start_time": "2025-06-08T08:13:21.278Z"
   },
   {
    "duration": 77,
    "start_time": "2025-06-08T08:13:22.295Z"
   },
   {
    "duration": 200,
    "start_time": "2025-06-08T08:13:22.373Z"
   },
   {
    "duration": 128,
    "start_time": "2025-06-08T08:13:22.576Z"
   },
   {
    "duration": 22,
    "start_time": "2025-06-08T08:13:22.706Z"
   },
   {
    "duration": 51,
    "start_time": "2025-06-08T08:13:22.730Z"
   },
   {
    "duration": 36,
    "start_time": "2025-06-08T08:13:22.783Z"
   },
   {
    "duration": 54,
    "start_time": "2025-06-08T08:13:22.821Z"
   },
   {
    "duration": 18,
    "start_time": "2025-06-08T08:13:22.877Z"
   },
   {
    "duration": 46,
    "start_time": "2025-06-08T08:13:22.896Z"
   },
   {
    "duration": 33,
    "start_time": "2025-06-08T08:13:22.944Z"
   },
   {
    "duration": 201,
    "start_time": "2025-06-08T08:13:22.979Z"
   },
   {
    "duration": 22,
    "start_time": "2025-06-08T08:13:23.182Z"
   },
   {
    "duration": 37,
    "start_time": "2025-06-08T08:13:23.205Z"
   },
   {
    "duration": 89,
    "start_time": "2025-06-08T08:13:23.257Z"
   },
   {
    "duration": 5,
    "start_time": "2025-06-08T08:13:23.358Z"
   },
   {
    "duration": 4,
    "start_time": "2025-06-08T08:13:23.365Z"
   },
   {
    "duration": 62,
    "start_time": "2025-06-08T08:13:23.370Z"
   },
   {
    "duration": 2017,
    "start_time": "2025-06-08T08:13:23.433Z"
   },
   {
    "duration": 24,
    "start_time": "2025-06-08T08:13:25.457Z"
   },
   {
    "duration": 74,
    "start_time": "2025-06-08T08:13:25.482Z"
   },
   {
    "duration": 39,
    "start_time": "2025-06-08T08:13:25.557Z"
   },
   {
    "duration": 1873,
    "start_time": "2025-06-08T08:13:25.598Z"
   },
   {
    "duration": 406,
    "start_time": "2025-06-08T08:13:27.472Z"
   },
   {
    "duration": 1681,
    "start_time": "2025-06-08T08:13:27.880Z"
   },
   {
    "duration": 22,
    "start_time": "2025-06-08T08:13:29.563Z"
   },
   {
    "duration": 91,
    "start_time": "2025-06-08T08:13:29.587Z"
   },
   {
    "duration": 1869,
    "start_time": "2025-06-08T08:13:29.680Z"
   },
   {
    "duration": 420,
    "start_time": "2025-06-08T08:13:31.558Z"
   },
   {
    "duration": 1723,
    "start_time": "2025-06-08T08:13:31.979Z"
   },
   {
    "duration": 23,
    "start_time": "2025-06-08T08:13:33.706Z"
   },
   {
    "duration": 331,
    "start_time": "2025-06-08T08:13:33.731Z"
   },
   {
    "duration": 22,
    "start_time": "2025-06-08T08:13:34.064Z"
   },
   {
    "duration": 156,
    "start_time": "2025-06-08T08:13:34.088Z"
   },
   {
    "duration": 1830,
    "start_time": "2025-06-08T08:13:34.245Z"
   },
   {
    "duration": 1884,
    "start_time": "2025-06-08T08:13:36.077Z"
   },
   {
    "duration": 400,
    "start_time": "2025-06-08T08:13:37.962Z"
   },
   {
    "duration": 763,
    "start_time": "2025-06-08T08:13:38.364Z"
   },
   {
    "duration": 364,
    "start_time": "2025-06-08T08:13:39.129Z"
   },
   {
    "duration": 15,
    "start_time": "2025-06-08T08:13:39.495Z"
   },
   {
    "duration": 4877,
    "start_time": "2025-06-08T08:13:39.512Z"
   },
   {
    "duration": 975,
    "start_time": "2025-06-08T08:13:44.391Z"
   },
   {
    "duration": 11,
    "start_time": "2025-06-08T08:13:45.368Z"
   },
   {
    "duration": 37,
    "start_time": "2025-06-08T08:14:45.939Z"
   },
   {
    "duration": 6084,
    "start_time": "2025-06-08T08:14:53.942Z"
   },
   {
    "duration": 1697,
    "start_time": "2025-06-08T08:15:00.028Z"
   },
   {
    "duration": 193,
    "start_time": "2025-06-08T08:15:01.727Z"
   },
   {
    "duration": 74,
    "start_time": "2025-06-08T08:15:01.922Z"
   },
   {
    "duration": 5,
    "start_time": "2025-06-08T08:15:01.998Z"
   },
   {
    "duration": 563,
    "start_time": "2025-06-08T08:15:02.005Z"
   },
   {
    "duration": 1084,
    "start_time": "2025-06-08T08:15:02.570Z"
   },
   {
    "duration": 119,
    "start_time": "2025-06-08T08:15:03.658Z"
   },
   {
    "duration": 180,
    "start_time": "2025-06-08T08:15:03.778Z"
   },
   {
    "duration": 177,
    "start_time": "2025-06-08T08:15:03.960Z"
   },
   {
    "duration": 476,
    "start_time": "2025-06-08T08:15:04.139Z"
   },
   {
    "duration": 24,
    "start_time": "2025-06-08T08:15:04.617Z"
   },
   {
    "duration": 115,
    "start_time": "2025-06-08T08:15:04.643Z"
   },
   {
    "duration": 100,
    "start_time": "2025-06-08T08:15:04.761Z"
   },
   {
    "duration": 22,
    "start_time": "2025-06-08T08:15:04.863Z"
   },
   {
    "duration": 38,
    "start_time": "2025-06-08T08:15:04.887Z"
   },
   {
    "duration": 58,
    "start_time": "2025-06-08T08:15:04.927Z"
   },
   {
    "duration": 116,
    "start_time": "2025-06-08T08:15:04.987Z"
   },
   {
    "duration": 87,
    "start_time": "2025-06-08T08:15:05.104Z"
   },
   {
    "duration": 54,
    "start_time": "2025-06-08T08:15:05.194Z"
   },
   {
    "duration": 26,
    "start_time": "2025-06-08T08:15:05.250Z"
   },
   {
    "duration": 47,
    "start_time": "2025-06-08T08:15:05.278Z"
   },
   {
    "duration": 39,
    "start_time": "2025-06-08T08:15:05.327Z"
   },
   {
    "duration": 37,
    "start_time": "2025-06-08T08:15:05.368Z"
   },
   {
    "duration": 94,
    "start_time": "2025-06-08T08:15:05.407Z"
   },
   {
    "duration": 48,
    "start_time": "2025-06-08T08:15:05.503Z"
   },
   {
    "duration": 4,
    "start_time": "2025-06-08T08:15:05.552Z"
   },
   {
    "duration": 158,
    "start_time": "2025-06-08T08:15:05.558Z"
   },
   {
    "duration": 1866,
    "start_time": "2025-06-08T08:15:05.718Z"
   },
   {
    "duration": 23,
    "start_time": "2025-06-08T08:15:07.586Z"
   },
   {
    "duration": 35,
    "start_time": "2025-06-08T08:15:07.611Z"
   },
   {
    "duration": 41,
    "start_time": "2025-06-08T08:15:07.648Z"
   },
   {
    "duration": 1764,
    "start_time": "2025-06-08T08:15:07.691Z"
   },
   {
    "duration": 402,
    "start_time": "2025-06-08T08:15:09.457Z"
   },
   {
    "duration": 1727,
    "start_time": "2025-06-08T08:15:09.860Z"
   },
   {
    "duration": 24,
    "start_time": "2025-06-08T08:15:11.589Z"
   },
   {
    "duration": 74,
    "start_time": "2025-06-08T08:15:11.614Z"
   },
   {
    "duration": 1738,
    "start_time": "2025-06-08T08:15:11.690Z"
   },
   {
    "duration": 364,
    "start_time": "2025-06-08T08:15:13.430Z"
   },
   {
    "duration": 1664,
    "start_time": "2025-06-08T08:15:13.796Z"
   },
   {
    "duration": 24,
    "start_time": "2025-06-08T08:15:15.463Z"
   },
   {
    "duration": 310,
    "start_time": "2025-06-08T08:15:15.489Z"
   },
   {
    "duration": 21,
    "start_time": "2025-06-08T08:15:15.801Z"
   },
   {
    "duration": 65,
    "start_time": "2025-06-08T08:15:15.823Z"
   },
   {
    "duration": 1683,
    "start_time": "2025-06-08T08:15:15.890Z"
   },
   {
    "duration": 1783,
    "start_time": "2025-06-08T08:15:17.575Z"
   },
   {
    "duration": 386,
    "start_time": "2025-06-08T08:15:19.360Z"
   },
   {
    "duration": 758,
    "start_time": "2025-06-08T08:15:19.748Z"
   },
   {
    "duration": 356,
    "start_time": "2025-06-08T08:15:20.508Z"
   },
   {
    "duration": 24,
    "start_time": "2025-06-08T08:15:20.866Z"
   },
   {
    "duration": 5523,
    "start_time": "2025-06-08T08:15:20.892Z"
   },
   {
    "duration": 974,
    "start_time": "2025-06-08T08:15:26.416Z"
   },
   {
    "duration": 14,
    "start_time": "2025-06-08T08:15:27.392Z"
   },
   {
    "duration": 240,
    "start_time": "2025-06-08T08:33:12.169Z"
   },
   {
    "duration": 314,
    "start_time": "2025-06-08T08:33:53.027Z"
   },
   {
    "duration": 6308,
    "start_time": "2025-06-08T08:34:02.767Z"
   },
   {
    "duration": 1949,
    "start_time": "2025-06-08T08:34:09.078Z"
   },
   {
    "duration": 190,
    "start_time": "2025-06-08T08:34:11.029Z"
   },
   {
    "duration": 67,
    "start_time": "2025-06-08T08:34:11.221Z"
   },
   {
    "duration": 4,
    "start_time": "2025-06-08T08:34:11.290Z"
   },
   {
    "duration": 535,
    "start_time": "2025-06-08T08:34:11.296Z"
   },
   {
    "duration": 1089,
    "start_time": "2025-06-08T08:34:11.833Z"
   },
   {
    "duration": 114,
    "start_time": "2025-06-08T08:34:12.924Z"
   },
   {
    "duration": 200,
    "start_time": "2025-06-08T08:34:13.040Z"
   },
   {
    "duration": 180,
    "start_time": "2025-06-08T08:34:13.243Z"
   },
   {
    "duration": 452,
    "start_time": "2025-06-08T08:34:13.424Z"
   },
   {
    "duration": 24,
    "start_time": "2025-06-08T08:34:13.877Z"
   },
   {
    "duration": 110,
    "start_time": "2025-06-08T08:34:13.902Z"
   },
   {
    "duration": 100,
    "start_time": "2025-06-08T08:34:14.014Z"
   },
   {
    "duration": 38,
    "start_time": "2025-06-08T08:34:14.116Z"
   },
   {
    "duration": 39,
    "start_time": "2025-06-08T08:34:14.156Z"
   },
   {
    "duration": 98,
    "start_time": "2025-06-08T08:34:14.197Z"
   },
   {
    "duration": 37,
    "start_time": "2025-06-08T08:34:14.297Z"
   },
   {
    "duration": 23,
    "start_time": "2025-06-08T08:34:14.336Z"
   },
   {
    "duration": 40,
    "start_time": "2025-06-08T08:34:14.360Z"
   },
   {
    "duration": 22,
    "start_time": "2025-06-08T08:34:14.401Z"
   },
   {
    "duration": 62,
    "start_time": "2025-06-08T08:34:14.424Z"
   },
   {
    "duration": 21,
    "start_time": "2025-06-08T08:34:14.487Z"
   },
   {
    "duration": 49,
    "start_time": "2025-06-08T08:34:14.510Z"
   },
   {
    "duration": 146,
    "start_time": "2025-06-08T08:34:14.561Z"
   },
   {
    "duration": 6,
    "start_time": "2025-06-08T08:34:14.708Z"
   },
   {
    "duration": 11,
    "start_time": "2025-06-08T08:34:14.715Z"
   },
   {
    "duration": 66,
    "start_time": "2025-06-08T08:34:14.730Z"
   },
   {
    "duration": 1929,
    "start_time": "2025-06-08T08:34:14.798Z"
   },
   {
    "duration": 31,
    "start_time": "2025-06-08T08:34:16.728Z"
   },
   {
    "duration": 11,
    "start_time": "2025-06-08T08:34:16.760Z"
   },
   {
    "duration": 40,
    "start_time": "2025-06-08T08:34:16.773Z"
   },
   {
    "duration": 1830,
    "start_time": "2025-06-08T08:34:16.815Z"
   },
   {
    "duration": 401,
    "start_time": "2025-06-08T08:34:18.647Z"
   },
   {
    "duration": 1713,
    "start_time": "2025-06-08T08:34:19.050Z"
   },
   {
    "duration": 22,
    "start_time": "2025-06-08T08:34:20.765Z"
   },
   {
    "duration": 41,
    "start_time": "2025-06-08T08:34:20.788Z"
   },
   {
    "duration": 1768,
    "start_time": "2025-06-08T08:34:20.830Z"
   },
   {
    "duration": 364,
    "start_time": "2025-06-08T08:34:22.600Z"
   },
   {
    "duration": 1655,
    "start_time": "2025-06-08T08:34:22.966Z"
   },
   {
    "duration": 24,
    "start_time": "2025-06-08T08:34:24.622Z"
   },
   {
    "duration": 274,
    "start_time": "2025-06-08T08:34:24.648Z"
   },
   {
    "duration": 21,
    "start_time": "2025-06-08T08:34:24.924Z"
   },
   {
    "duration": 54,
    "start_time": "2025-06-08T08:34:24.957Z"
   },
   {
    "duration": 1776,
    "start_time": "2025-06-08T08:34:25.013Z"
   },
   {
    "duration": 251,
    "start_time": "2025-06-08T08:34:26.791Z"
   },
   {
    "duration": 396,
    "start_time": "2025-06-08T08:34:27.044Z"
   },
   {
    "duration": 716,
    "start_time": "2025-06-08T08:34:27.442Z"
   },
   {
    "duration": 437,
    "start_time": "2025-06-08T08:34:28.159Z"
   },
   {
    "duration": 14,
    "start_time": "2025-06-08T08:34:28.598Z"
   },
   {
    "duration": 4795,
    "start_time": "2025-06-08T08:34:28.614Z"
   },
   {
    "duration": 979,
    "start_time": "2025-06-08T08:34:33.411Z"
   },
   {
    "duration": 11,
    "start_time": "2025-06-08T08:34:34.392Z"
   },
   {
    "duration": 6204,
    "start_time": "2025-06-08T08:41:13.462Z"
   },
   {
    "duration": 1634,
    "start_time": "2025-06-08T08:41:19.668Z"
   },
   {
    "duration": 186,
    "start_time": "2025-06-08T08:41:21.304Z"
   },
   {
    "duration": 70,
    "start_time": "2025-06-08T08:41:21.491Z"
   },
   {
    "duration": 5,
    "start_time": "2025-06-08T08:41:21.564Z"
   },
   {
    "duration": 550,
    "start_time": "2025-06-08T08:41:21.572Z"
   },
   {
    "duration": 1109,
    "start_time": "2025-06-08T08:41:22.124Z"
   },
   {
    "duration": 124,
    "start_time": "2025-06-08T08:41:23.234Z"
   },
   {
    "duration": 186,
    "start_time": "2025-06-08T08:41:23.359Z"
   },
   {
    "duration": 184,
    "start_time": "2025-06-08T08:41:23.547Z"
   },
   {
    "duration": 463,
    "start_time": "2025-06-08T08:41:23.733Z"
   },
   {
    "duration": 24,
    "start_time": "2025-06-08T08:41:24.198Z"
   },
   {
    "duration": 161,
    "start_time": "2025-06-08T08:41:24.223Z"
   },
   {
    "duration": 95,
    "start_time": "2025-06-08T08:41:24.387Z"
   },
   {
    "duration": 22,
    "start_time": "2025-06-08T08:41:24.484Z"
   },
   {
    "duration": 59,
    "start_time": "2025-06-08T08:41:24.507Z"
   },
   {
    "duration": 36,
    "start_time": "2025-06-08T08:41:24.568Z"
   },
   {
    "duration": 75,
    "start_time": "2025-06-08T08:41:24.605Z"
   },
   {
    "duration": 18,
    "start_time": "2025-06-08T08:41:24.682Z"
   },
   {
    "duration": 39,
    "start_time": "2025-06-08T08:41:24.702Z"
   },
   {
    "duration": 22,
    "start_time": "2025-06-08T08:41:24.757Z"
   },
   {
    "duration": 41,
    "start_time": "2025-06-08T08:41:24.781Z"
   },
   {
    "duration": 35,
    "start_time": "2025-06-08T08:41:24.824Z"
   },
   {
    "duration": 38,
    "start_time": "2025-06-08T08:41:24.861Z"
   },
   {
    "duration": 107,
    "start_time": "2025-06-08T08:41:24.900Z"
   },
   {
    "duration": 5,
    "start_time": "2025-06-08T08:41:25.009Z"
   },
   {
    "duration": 3,
    "start_time": "2025-06-08T08:41:25.016Z"
   },
   {
    "duration": 87,
    "start_time": "2025-06-08T08:41:25.020Z"
   },
   {
    "duration": 1924,
    "start_time": "2025-06-08T08:41:25.108Z"
   },
   {
    "duration": 28,
    "start_time": "2025-06-08T08:41:27.034Z"
   },
   {
    "duration": 68,
    "start_time": "2025-06-08T08:41:27.064Z"
   },
   {
    "duration": 40,
    "start_time": "2025-06-08T08:41:27.134Z"
   },
   {
    "duration": 1890,
    "start_time": "2025-06-08T08:41:27.176Z"
   },
   {
    "duration": 419,
    "start_time": "2025-06-08T08:41:29.067Z"
   },
   {
    "duration": 1704,
    "start_time": "2025-06-08T08:41:29.487Z"
   },
   {
    "duration": 26,
    "start_time": "2025-06-08T08:41:31.193Z"
   },
   {
    "duration": 94,
    "start_time": "2025-06-08T08:41:31.221Z"
   },
   {
    "duration": 1807,
    "start_time": "2025-06-08T08:41:31.316Z"
   },
   {
    "duration": 370,
    "start_time": "2025-06-08T08:41:33.125Z"
   },
   {
    "duration": 1656,
    "start_time": "2025-06-08T08:41:33.497Z"
   },
   {
    "duration": 35,
    "start_time": "2025-06-08T08:41:35.161Z"
   },
   {
    "duration": 352,
    "start_time": "2025-06-08T08:41:35.198Z"
   },
   {
    "duration": 26,
    "start_time": "2025-06-08T08:41:35.551Z"
   },
   {
    "duration": 68,
    "start_time": "2025-06-08T08:41:35.579Z"
   },
   {
    "duration": 1770,
    "start_time": "2025-06-08T08:41:35.648Z"
   },
   {
    "duration": 246,
    "start_time": "2025-06-08T08:41:37.419Z"
   },
   {
    "duration": 398,
    "start_time": "2025-06-08T08:41:37.666Z"
   },
   {
    "duration": 671,
    "start_time": "2025-06-08T08:41:38.065Z"
   },
   {
    "duration": 850,
    "start_time": "2025-06-08T08:41:38.739Z"
   },
   {
    "duration": 76,
    "start_time": "2025-06-08T08:41:39.591Z"
   },
   {
    "duration": 5046,
    "start_time": "2025-06-08T08:41:39.668Z"
   },
   {
    "duration": 1010,
    "start_time": "2025-06-08T08:41:44.715Z"
   },
   {
    "duration": 10,
    "start_time": "2025-06-08T08:41:45.727Z"
   },
   {
    "duration": 7691,
    "start_time": "2025-06-08T08:43:34.060Z"
   },
   {
    "duration": 1466,
    "start_time": "2025-06-08T08:43:41.753Z"
   },
   {
    "duration": 183,
    "start_time": "2025-06-08T08:43:43.220Z"
   },
   {
    "duration": 67,
    "start_time": "2025-06-08T08:43:43.405Z"
   },
   {
    "duration": 4,
    "start_time": "2025-06-08T08:43:43.475Z"
   },
   {
    "duration": 503,
    "start_time": "2025-06-08T08:43:43.480Z"
   },
   {
    "duration": 1122,
    "start_time": "2025-06-08T08:43:43.985Z"
   },
   {
    "duration": 149,
    "start_time": "2025-06-08T08:43:45.109Z"
   },
   {
    "duration": 184,
    "start_time": "2025-06-08T08:43:45.259Z"
   },
   {
    "duration": 181,
    "start_time": "2025-06-08T08:43:45.445Z"
   },
   {
    "duration": 468,
    "start_time": "2025-06-08T08:43:45.627Z"
   },
   {
    "duration": 23,
    "start_time": "2025-06-08T08:43:46.097Z"
   },
   {
    "duration": 115,
    "start_time": "2025-06-08T08:43:46.122Z"
   },
   {
    "duration": 148,
    "start_time": "2025-06-08T08:43:46.240Z"
   },
   {
    "duration": 21,
    "start_time": "2025-06-08T08:43:46.390Z"
   },
   {
    "duration": 56,
    "start_time": "2025-06-08T08:43:46.413Z"
   },
   {
    "duration": 37,
    "start_time": "2025-06-08T08:43:46.471Z"
   },
   {
    "duration": 51,
    "start_time": "2025-06-08T08:43:46.510Z"
   },
   {
    "duration": 19,
    "start_time": "2025-06-08T08:43:46.562Z"
   },
   {
    "duration": 118,
    "start_time": "2025-06-08T08:43:46.583Z"
   },
   {
    "duration": 22,
    "start_time": "2025-06-08T08:43:46.703Z"
   },
   {
    "duration": 47,
    "start_time": "2025-06-08T08:43:46.727Z"
   },
   {
    "duration": 21,
    "start_time": "2025-06-08T08:43:46.775Z"
   },
   {
    "duration": 37,
    "start_time": "2025-06-08T08:43:46.798Z"
   },
   {
    "duration": 111,
    "start_time": "2025-06-08T08:43:46.837Z"
   },
   {
    "duration": 9,
    "start_time": "2025-06-08T08:43:46.950Z"
   },
   {
    "duration": 7,
    "start_time": "2025-06-08T08:43:46.961Z"
   },
   {
    "duration": 63,
    "start_time": "2025-06-08T08:43:46.970Z"
   },
   {
    "duration": 2000,
    "start_time": "2025-06-08T08:43:47.035Z"
   },
   {
    "duration": 36,
    "start_time": "2025-06-08T08:43:49.037Z"
   },
   {
    "duration": 68,
    "start_time": "2025-06-08T08:43:49.075Z"
   },
   {
    "duration": 48,
    "start_time": "2025-06-08T08:43:49.144Z"
   },
   {
    "duration": 1913,
    "start_time": "2025-06-08T08:43:49.193Z"
   },
   {
    "duration": 426,
    "start_time": "2025-06-08T08:43:51.107Z"
   },
   {
    "duration": 1755,
    "start_time": "2025-06-08T08:43:51.534Z"
   },
   {
    "duration": 22,
    "start_time": "2025-06-08T08:43:53.291Z"
   },
   {
    "duration": 60,
    "start_time": "2025-06-08T08:43:53.315Z"
   },
   {
    "duration": 1840,
    "start_time": "2025-06-08T08:43:53.377Z"
   },
   {
    "duration": 376,
    "start_time": "2025-06-08T08:43:55.219Z"
   },
   {
    "duration": 1651,
    "start_time": "2025-06-08T08:43:55.597Z"
   },
   {
    "duration": 25,
    "start_time": "2025-06-08T08:43:57.257Z"
   },
   {
    "duration": 281,
    "start_time": "2025-06-08T08:43:57.283Z"
   },
   {
    "duration": 20,
    "start_time": "2025-06-08T08:43:57.565Z"
   },
   {
    "duration": 72,
    "start_time": "2025-06-08T08:43:57.587Z"
   },
   {
    "duration": 1734,
    "start_time": "2025-06-08T08:43:57.660Z"
   },
   {
    "duration": 263,
    "start_time": "2025-06-08T08:43:59.396Z"
   },
   {
    "duration": 403,
    "start_time": "2025-06-08T08:43:59.660Z"
   },
   {
    "duration": 685,
    "start_time": "2025-06-08T08:44:00.065Z"
   },
   {
    "duration": 519,
    "start_time": "2025-06-08T08:44:00.751Z"
   },
   {
    "duration": 17,
    "start_time": "2025-06-08T08:44:01.272Z"
   },
   {
    "duration": 4928,
    "start_time": "2025-06-08T08:44:01.291Z"
   },
   {
    "duration": 1017,
    "start_time": "2025-06-08T08:44:06.221Z"
   },
   {
    "duration": 11,
    "start_time": "2025-06-08T08:44:07.240Z"
   },
   {
    "duration": 4883,
    "start_time": "2025-06-08T09:44:23.083Z"
   },
   {
    "duration": 1031,
    "start_time": "2025-06-08T09:44:30.671Z"
   },
   {
    "duration": 1080,
    "start_time": "2025-06-08T09:44:47.045Z"
   },
   {
    "duration": 975,
    "start_time": "2025-06-08T09:44:58.311Z"
   },
   {
    "duration": 997,
    "start_time": "2025-06-08T09:46:41.836Z"
   },
   {
    "duration": 11420,
    "start_time": "2025-06-08T12:32:23.013Z"
   },
   {
    "duration": 1531,
    "start_time": "2025-06-08T12:32:34.435Z"
   },
   {
    "duration": 172,
    "start_time": "2025-06-08T12:32:35.968Z"
   },
   {
    "duration": 70,
    "start_time": "2025-06-08T12:32:36.141Z"
   },
   {
    "duration": 35,
    "start_time": "2025-06-08T12:32:36.213Z"
   },
   {
    "duration": 477,
    "start_time": "2025-06-08T12:32:36.251Z"
   },
   {
    "duration": 1046,
    "start_time": "2025-06-08T12:32:36.730Z"
   },
   {
    "duration": 118,
    "start_time": "2025-06-08T12:32:37.779Z"
   },
   {
    "duration": 186,
    "start_time": "2025-06-08T12:32:37.899Z"
   },
   {
    "duration": 188,
    "start_time": "2025-06-08T12:32:38.087Z"
   },
   {
    "duration": 455,
    "start_time": "2025-06-08T12:32:38.276Z"
   },
   {
    "duration": 44,
    "start_time": "2025-06-08T12:32:38.733Z"
   },
   {
    "duration": 105,
    "start_time": "2025-06-08T12:32:38.778Z"
   },
   {
    "duration": 92,
    "start_time": "2025-06-08T12:32:38.886Z"
   },
   {
    "duration": 23,
    "start_time": "2025-06-08T12:32:38.980Z"
   },
   {
    "duration": 60,
    "start_time": "2025-06-08T12:32:39.004Z"
   },
   {
    "duration": 39,
    "start_time": "2025-06-08T12:32:39.065Z"
   },
   {
    "duration": 37,
    "start_time": "2025-06-08T12:32:39.106Z"
   },
   {
    "duration": 19,
    "start_time": "2025-06-08T12:32:39.157Z"
   },
   {
    "duration": 120,
    "start_time": "2025-06-08T12:32:39.177Z"
   },
   {
    "duration": 21,
    "start_time": "2025-06-08T12:32:39.298Z"
   },
   {
    "duration": 47,
    "start_time": "2025-06-08T12:32:39.320Z"
   },
   {
    "duration": 22,
    "start_time": "2025-06-08T12:32:39.368Z"
   },
   {
    "duration": 40,
    "start_time": "2025-06-08T12:32:39.391Z"
   },
   {
    "duration": 113,
    "start_time": "2025-06-08T12:32:39.433Z"
   },
   {
    "duration": 14,
    "start_time": "2025-06-08T12:32:39.548Z"
   },
   {
    "duration": 4,
    "start_time": "2025-06-08T12:32:39.564Z"
   },
   {
    "duration": 62,
    "start_time": "2025-06-08T12:32:39.569Z"
   },
   {
    "duration": 1908,
    "start_time": "2025-06-08T12:32:39.633Z"
   },
   {
    "duration": 36,
    "start_time": "2025-06-08T12:32:41.543Z"
   },
   {
    "duration": 13,
    "start_time": "2025-06-08T12:32:41.581Z"
   },
   {
    "duration": 63,
    "start_time": "2025-06-08T12:32:41.596Z"
   },
   {
    "duration": 1800,
    "start_time": "2025-06-08T12:32:41.660Z"
   },
   {
    "duration": 420,
    "start_time": "2025-06-08T12:32:43.462Z"
   },
   {
    "duration": 1714,
    "start_time": "2025-06-08T12:32:43.884Z"
   },
   {
    "duration": 21,
    "start_time": "2025-06-08T12:32:45.599Z"
   },
   {
    "duration": 56,
    "start_time": "2025-06-08T12:32:45.621Z"
   },
   {
    "duration": 1801,
    "start_time": "2025-06-08T12:32:45.679Z"
   },
   {
    "duration": 361,
    "start_time": "2025-06-08T12:32:47.481Z"
   },
   {
    "duration": 1674,
    "start_time": "2025-06-08T12:32:47.844Z"
   },
   {
    "duration": 23,
    "start_time": "2025-06-08T12:32:49.522Z"
   },
   {
    "duration": 277,
    "start_time": "2025-06-08T12:32:49.547Z"
   },
   {
    "duration": 33,
    "start_time": "2025-06-08T12:32:49.825Z"
   },
   {
    "duration": 49,
    "start_time": "2025-06-08T12:32:49.859Z"
   },
   {
    "duration": 1816,
    "start_time": "2025-06-08T12:32:49.909Z"
   },
   {
    "duration": 268,
    "start_time": "2025-06-08T12:32:51.726Z"
   },
   {
    "duration": 390,
    "start_time": "2025-06-08T12:32:51.996Z"
   },
   {
    "duration": 695,
    "start_time": "2025-06-08T12:32:52.387Z"
   },
   {
    "duration": 462,
    "start_time": "2025-06-08T12:32:53.084Z"
   },
   {
    "duration": 26,
    "start_time": "2025-06-08T12:32:53.548Z"
   },
   {
    "duration": 4507,
    "start_time": "2025-06-08T12:32:53.575Z"
   },
   {
    "duration": 973,
    "start_time": "2025-06-08T12:32:58.083Z"
   },
   {
    "duration": 728,
    "start_time": "2025-06-08T12:35:36.306Z"
   },
   {
    "duration": 100,
    "start_time": "2025-06-08T13:09:50.252Z"
   },
   {
    "duration": 102,
    "start_time": "2025-06-08T13:10:30.772Z"
   },
   {
    "duration": 119,
    "start_time": "2025-06-08T13:25:53.712Z"
   },
   {
    "duration": 4956,
    "start_time": "2025-06-08T13:29:12.781Z"
   },
   {
    "duration": 132,
    "start_time": "2025-06-08T13:29:23.337Z"
   },
   {
    "duration": 168,
    "start_time": "2025-06-08T13:35:38.995Z"
   },
   {
    "duration": 23,
    "start_time": "2025-06-08T13:35:52.829Z"
   },
   {
    "duration": 27,
    "start_time": "2025-06-08T13:35:57.315Z"
   },
   {
    "duration": 25,
    "start_time": "2025-06-08T13:37:31.059Z"
   },
   {
    "duration": 25,
    "start_time": "2025-06-08T13:55:36.842Z"
   },
   {
    "duration": 5497,
    "start_time": "2025-06-08T13:55:49.123Z"
   },
   {
    "duration": 35,
    "start_time": "2025-06-08T13:56:06.908Z"
   },
   {
    "duration": 29,
    "start_time": "2025-06-08T13:59:16.162Z"
   },
   {
    "duration": 69,
    "start_time": "2025-06-08T13:59:19.393Z"
   },
   {
    "duration": 62232,
    "start_time": "2025-06-08T13:59:22.437Z"
   },
   {
    "duration": 63309,
    "start_time": "2025-06-08T14:01:56.159Z"
   },
   {
    "duration": 18,
    "start_time": "2025-06-08T14:09:04.258Z"
   },
   {
    "duration": 12015,
    "start_time": "2025-06-08T14:10:46.353Z"
   },
   {
    "duration": 10,
    "start_time": "2025-06-08T14:15:57.046Z"
   },
   {
    "duration": 11973,
    "start_time": "2025-06-08T14:16:53.101Z"
   },
   {
    "duration": 12039,
    "start_time": "2025-06-08T14:20:55.119Z"
   },
   {
    "duration": 6553,
    "start_time": "2025-06-08T14:26:30.708Z"
   },
   {
    "duration": 1625,
    "start_time": "2025-06-08T14:26:37.263Z"
   },
   {
    "duration": 179,
    "start_time": "2025-06-08T14:26:38.890Z"
   },
   {
    "duration": 57,
    "start_time": "2025-06-08T14:26:39.071Z"
   },
   {
    "duration": 5,
    "start_time": "2025-06-08T14:26:39.130Z"
   },
   {
    "duration": 510,
    "start_time": "2025-06-08T14:26:39.137Z"
   },
   {
    "duration": 1071,
    "start_time": "2025-06-08T14:26:39.648Z"
   },
   {
    "duration": 118,
    "start_time": "2025-06-08T14:26:40.720Z"
   },
   {
    "duration": 187,
    "start_time": "2025-06-08T14:26:40.840Z"
   },
   {
    "duration": 183,
    "start_time": "2025-06-08T14:26:41.029Z"
   },
   {
    "duration": 490,
    "start_time": "2025-06-08T14:26:41.214Z"
   },
   {
    "duration": 37,
    "start_time": "2025-06-08T14:26:41.705Z"
   },
   {
    "duration": 104,
    "start_time": "2025-06-08T14:26:41.757Z"
   },
   {
    "duration": 154,
    "start_time": "2025-06-08T14:26:41.864Z"
   },
   {
    "duration": 22,
    "start_time": "2025-06-08T14:26:42.020Z"
   },
   {
    "duration": 39,
    "start_time": "2025-06-08T14:26:42.044Z"
   },
   {
    "duration": 39,
    "start_time": "2025-06-08T14:26:42.084Z"
   },
   {
    "duration": 54,
    "start_time": "2025-06-08T14:26:42.125Z"
   },
   {
    "duration": 19,
    "start_time": "2025-06-08T14:26:42.181Z"
   },
   {
    "duration": 61,
    "start_time": "2025-06-08T14:26:42.202Z"
   },
   {
    "duration": 23,
    "start_time": "2025-06-08T14:26:42.265Z"
   },
   {
    "duration": 38,
    "start_time": "2025-06-08T14:26:42.290Z"
   },
   {
    "duration": 42,
    "start_time": "2025-06-08T14:26:42.330Z"
   },
   {
    "duration": 39,
    "start_time": "2025-06-08T14:26:42.374Z"
   },
   {
    "duration": 109,
    "start_time": "2025-06-08T14:26:42.415Z"
   },
   {
    "duration": 155,
    "start_time": "2025-06-08T14:26:42.527Z"
   },
   {
    "duration": 4,
    "start_time": "2025-06-08T14:26:42.684Z"
   },
   {
    "duration": 64,
    "start_time": "2025-06-08T14:26:42.690Z"
   },
   {
    "duration": 1844,
    "start_time": "2025-06-08T14:26:42.756Z"
   },
   {
    "duration": 33,
    "start_time": "2025-06-08T14:26:44.603Z"
   },
   {
    "duration": 57,
    "start_time": "2025-06-08T14:26:44.638Z"
   },
   {
    "duration": 41,
    "start_time": "2025-06-08T14:26:44.696Z"
   },
   {
    "duration": 1830,
    "start_time": "2025-06-08T14:26:44.738Z"
   },
   {
    "duration": 494,
    "start_time": "2025-06-08T14:26:46.569Z"
   },
   {
    "duration": 1686,
    "start_time": "2025-06-08T14:26:47.065Z"
   },
   {
    "duration": 24,
    "start_time": "2025-06-08T14:26:48.752Z"
   },
   {
    "duration": 111,
    "start_time": "2025-06-08T14:26:48.777Z"
   },
   {
    "duration": 1648,
    "start_time": "2025-06-08T14:26:48.890Z"
   },
   {
    "duration": 363,
    "start_time": "2025-06-08T14:26:50.539Z"
   },
   {
    "duration": 1630,
    "start_time": "2025-06-08T14:26:50.904Z"
   },
   {
    "duration": 32,
    "start_time": "2025-06-08T14:26:52.538Z"
   },
   {
    "duration": 393,
    "start_time": "2025-06-08T14:26:52.572Z"
   },
   {
    "duration": 22,
    "start_time": "2025-06-08T14:26:52.966Z"
   },
   {
    "duration": 49,
    "start_time": "2025-06-08T14:26:52.989Z"
   },
   {
    "duration": 1771,
    "start_time": "2025-06-08T14:26:53.040Z"
   },
   {
    "duration": 252,
    "start_time": "2025-06-08T14:26:54.813Z"
   },
   {
    "duration": 496,
    "start_time": "2025-06-08T14:26:55.066Z"
   },
   {
    "duration": 675,
    "start_time": "2025-06-08T14:26:55.563Z"
   },
   {
    "duration": 354,
    "start_time": "2025-06-08T14:26:56.240Z"
   },
   {
    "duration": 112,
    "start_time": "2025-06-08T14:26:56.596Z"
   },
   {
    "duration": 4520,
    "start_time": "2025-06-08T14:26:56.710Z"
   },
   {
    "duration": 1072,
    "start_time": "2025-06-08T14:27:01.232Z"
   },
   {
    "duration": 172,
    "start_time": "2025-06-08T14:27:02.306Z"
   },
   {
    "duration": 55,
    "start_time": "2025-06-08T14:27:02.480Z"
   },
   {
    "duration": 67031,
    "start_time": "2025-06-08T14:27:02.536Z"
   },
   {
    "duration": 11044,
    "start_time": "2025-06-08T14:28:09.568Z"
   },
   {
    "duration": 10884,
    "start_time": "2025-06-08T14:28:20.614Z"
   },
   {
    "duration": 115,
    "start_time": "2025-06-08T14:35:21.283Z"
   },
   {
    "duration": 12,
    "start_time": "2025-06-08T14:36:13.451Z"
   },
   {
    "duration": 12,
    "start_time": "2025-06-08T14:36:39.040Z"
   },
   {
    "duration": 12,
    "start_time": "2025-06-08T14:37:15.207Z"
   },
   {
    "duration": 12,
    "start_time": "2025-06-08T14:37:30.859Z"
   },
   {
    "duration": 11,
    "start_time": "2025-06-08T14:37:44.527Z"
   },
   {
    "duration": 13,
    "start_time": "2025-06-08T14:39:15.599Z"
   },
   {
    "duration": 15,
    "start_time": "2025-06-08T14:40:35.549Z"
   },
   {
    "duration": 9406,
    "start_time": "2025-06-08T14:41:58.954Z"
   },
   {
    "duration": 8865,
    "start_time": "2025-06-08T14:44:01.102Z"
   },
   {
    "duration": 5807,
    "start_time": "2025-06-08T14:45:56.552Z"
   },
   {
    "duration": 14093,
    "start_time": "2025-06-08T14:46:25.271Z"
   },
   {
    "duration": 8458,
    "start_time": "2025-06-08T14:46:46.810Z"
   },
   {
    "duration": 642,
    "start_time": "2025-06-08T14:47:11.123Z"
   },
   {
    "duration": 681,
    "start_time": "2025-06-08T14:47:21.690Z"
   },
   {
    "duration": 711,
    "start_time": "2025-06-08T14:52:38.260Z"
   },
   {
    "duration": 4766,
    "start_time": "2025-06-08T14:53:14.476Z"
   },
   {
    "duration": 664,
    "start_time": "2025-06-08T14:53:37.706Z"
   },
   {
    "duration": 6,
    "start_time": "2025-06-08T15:04:14.642Z"
   },
   {
    "duration": 17,
    "start_time": "2025-06-08T15:04:21.208Z"
   },
   {
    "duration": 15,
    "start_time": "2025-06-08T15:04:53.317Z"
   },
   {
    "duration": 26,
    "start_time": "2025-06-08T15:05:35.106Z"
   },
   {
    "duration": 2437,
    "start_time": "2025-06-08T15:09:23.860Z"
   },
   {
    "duration": 65,
    "start_time": "2025-06-08T15:12:25.542Z"
   },
   {
    "duration": 2214,
    "start_time": "2025-06-08T15:12:28.985Z"
   },
   {
    "duration": 63,
    "start_time": "2025-06-08T15:14:04.121Z"
   },
   {
    "duration": 2245,
    "start_time": "2025-06-08T15:14:05.913Z"
   },
   {
    "duration": 2323,
    "start_time": "2025-06-08T15:16:00.362Z"
   },
   {
    "duration": 83,
    "start_time": "2025-06-08T15:18:05.713Z"
   },
   {
    "duration": 2272,
    "start_time": "2025-06-08T15:18:53.419Z"
   },
   {
    "duration": 2249,
    "start_time": "2025-06-08T15:20:49.329Z"
   },
   {
    "duration": 58,
    "start_time": "2025-06-08T15:34:19.854Z"
   },
   {
    "duration": 2293,
    "start_time": "2025-06-08T15:34:21.967Z"
   },
   {
    "duration": 6153,
    "start_time": "2025-06-08T15:34:37.754Z"
   },
   {
    "duration": 1816,
    "start_time": "2025-06-08T15:34:43.909Z"
   },
   {
    "duration": 180,
    "start_time": "2025-06-08T15:34:45.727Z"
   },
   {
    "duration": 61,
    "start_time": "2025-06-08T15:34:45.908Z"
   },
   {
    "duration": 21,
    "start_time": "2025-06-08T15:34:45.971Z"
   },
   {
    "duration": 483,
    "start_time": "2025-06-08T15:34:45.993Z"
   },
   {
    "duration": 1070,
    "start_time": "2025-06-08T15:34:46.477Z"
   },
   {
    "duration": 116,
    "start_time": "2025-06-08T15:34:47.549Z"
   },
   {
    "duration": 180,
    "start_time": "2025-06-08T15:34:47.667Z"
   },
   {
    "duration": 186,
    "start_time": "2025-06-08T15:34:47.849Z"
   },
   {
    "duration": 461,
    "start_time": "2025-06-08T15:34:48.037Z"
   },
   {
    "duration": 36,
    "start_time": "2025-06-08T15:34:48.500Z"
   },
   {
    "duration": 108,
    "start_time": "2025-06-08T15:34:48.538Z"
   },
   {
    "duration": 90,
    "start_time": "2025-06-08T15:34:48.657Z"
   },
   {
    "duration": 126,
    "start_time": "2025-06-08T15:34:48.749Z"
   },
   {
    "duration": 38,
    "start_time": "2025-06-08T15:34:48.877Z"
   },
   {
    "duration": 45,
    "start_time": "2025-06-08T15:34:48.917Z"
   },
   {
    "duration": 111,
    "start_time": "2025-06-08T15:34:48.964Z"
   },
   {
    "duration": 19,
    "start_time": "2025-06-08T15:34:49.076Z"
   },
   {
    "duration": 41,
    "start_time": "2025-06-08T15:34:49.097Z"
   },
   {
    "duration": 34,
    "start_time": "2025-06-08T15:34:49.140Z"
   },
   {
    "duration": 37,
    "start_time": "2025-06-08T15:34:49.176Z"
   },
   {
    "duration": 21,
    "start_time": "2025-06-08T15:34:49.214Z"
   },
   {
    "duration": 54,
    "start_time": "2025-06-08T15:34:49.237Z"
   },
   {
    "duration": 104,
    "start_time": "2025-06-08T15:34:49.293Z"
   },
   {
    "duration": 5,
    "start_time": "2025-06-08T15:34:49.399Z"
   },
   {
    "duration": 5,
    "start_time": "2025-06-08T15:34:49.406Z"
   },
   {
    "duration": 77,
    "start_time": "2025-06-08T15:34:49.412Z"
   },
   {
    "duration": 1931,
    "start_time": "2025-06-08T15:34:49.490Z"
   },
   {
    "duration": 37,
    "start_time": "2025-06-08T15:34:51.423Z"
   },
   {
    "duration": 11,
    "start_time": "2025-06-08T15:34:51.462Z"
   },
   {
    "duration": 47,
    "start_time": "2025-06-08T15:34:51.475Z"
   },
   {
    "duration": 1834,
    "start_time": "2025-06-08T15:34:51.524Z"
   },
   {
    "duration": 486,
    "start_time": "2025-06-08T15:34:53.359Z"
   },
   {
    "duration": 1748,
    "start_time": "2025-06-08T15:34:53.847Z"
   },
   {
    "duration": 21,
    "start_time": "2025-06-08T15:34:55.597Z"
   },
   {
    "duration": 56,
    "start_time": "2025-06-08T15:34:55.619Z"
   },
   {
    "duration": 1658,
    "start_time": "2025-06-08T15:34:55.677Z"
   },
   {
    "duration": 369,
    "start_time": "2025-06-08T15:34:57.336Z"
   },
   {
    "duration": 1607,
    "start_time": "2025-06-08T15:34:57.707Z"
   },
   {
    "duration": 23,
    "start_time": "2025-06-08T15:34:59.319Z"
   },
   {
    "duration": 281,
    "start_time": "2025-06-08T15:34:59.357Z"
   },
   {
    "duration": 25,
    "start_time": "2025-06-08T15:34:59.639Z"
   },
   {
    "duration": 55,
    "start_time": "2025-06-08T15:34:59.666Z"
   },
   {
    "duration": 1764,
    "start_time": "2025-06-08T15:34:59.722Z"
   },
   {
    "duration": 286,
    "start_time": "2025-06-08T15:35:01.488Z"
   },
   {
    "duration": 505,
    "start_time": "2025-06-08T15:35:01.776Z"
   },
   {
    "duration": 752,
    "start_time": "2025-06-08T15:35:02.283Z"
   },
   {
    "duration": 354,
    "start_time": "2025-06-08T15:35:03.037Z"
   },
   {
    "duration": 111,
    "start_time": "2025-06-08T15:35:03.392Z"
   },
   {
    "duration": 4621,
    "start_time": "2025-06-08T15:35:03.505Z"
   },
   {
    "duration": 977,
    "start_time": "2025-06-08T15:35:08.127Z"
   },
   {
    "duration": 141,
    "start_time": "2025-06-08T15:35:09.106Z"
   },
   {
    "duration": 1885,
    "start_time": "2025-06-08T15:35:09.249Z"
   },
   {
    "duration": 0,
    "start_time": "2025-06-08T15:35:11.135Z"
   },
   {
    "duration": 0,
    "start_time": "2025-06-08T15:35:11.137Z"
   },
   {
    "duration": 0,
    "start_time": "2025-06-08T15:35:11.138Z"
   },
   {
    "duration": 0,
    "start_time": "2025-06-08T15:35:11.139Z"
   },
   {
    "duration": 0,
    "start_time": "2025-06-08T15:35:11.140Z"
   },
   {
    "duration": 0,
    "start_time": "2025-06-08T15:35:11.141Z"
   },
   {
    "duration": 0,
    "start_time": "2025-06-08T15:35:11.142Z"
   },
   {
    "duration": 0,
    "start_time": "2025-06-08T15:35:11.158Z"
   },
   {
    "duration": 30998,
    "start_time": "2025-06-08T15:38:21.279Z"
   },
   {
    "duration": 1576,
    "start_time": "2025-06-08T15:38:52.279Z"
   },
   {
    "duration": 170,
    "start_time": "2025-06-08T15:39:22.476Z"
   },
   {
    "duration": 59,
    "start_time": "2025-06-08T15:39:28.972Z"
   },
   {
    "duration": 7882,
    "start_time": "2025-06-08T15:39:32.579Z"
   },
   {
    "duration": 6471,
    "start_time": "2025-06-08T15:40:03.945Z"
   },
   {
    "duration": 1941,
    "start_time": "2025-06-08T15:40:10.418Z"
   },
   {
    "duration": 180,
    "start_time": "2025-06-08T15:40:12.361Z"
   },
   {
    "duration": 67,
    "start_time": "2025-06-08T15:40:12.542Z"
   },
   {
    "duration": 5,
    "start_time": "2025-06-08T15:40:12.611Z"
   },
   {
    "duration": 529,
    "start_time": "2025-06-08T15:40:12.617Z"
   },
   {
    "duration": 1095,
    "start_time": "2025-06-08T15:40:13.148Z"
   },
   {
    "duration": 118,
    "start_time": "2025-06-08T15:40:14.245Z"
   },
   {
    "duration": 183,
    "start_time": "2025-06-08T15:40:14.364Z"
   },
   {
    "duration": 173,
    "start_time": "2025-06-08T15:40:14.548Z"
   },
   {
    "duration": 507,
    "start_time": "2025-06-08T15:40:14.723Z"
   },
   {
    "duration": 45,
    "start_time": "2025-06-08T15:40:15.232Z"
   },
   {
    "duration": 107,
    "start_time": "2025-06-08T15:40:15.279Z"
   },
   {
    "duration": 122,
    "start_time": "2025-06-08T15:40:15.389Z"
   },
   {
    "duration": 37,
    "start_time": "2025-06-08T15:40:15.513Z"
   },
   {
    "duration": 41,
    "start_time": "2025-06-08T15:40:15.551Z"
   },
   {
    "duration": 36,
    "start_time": "2025-06-08T15:40:15.594Z"
   },
   {
    "duration": 59,
    "start_time": "2025-06-08T15:40:15.631Z"
   },
   {
    "duration": 19,
    "start_time": "2025-06-08T15:40:15.692Z"
   },
   {
    "duration": 66,
    "start_time": "2025-06-08T15:40:15.712Z"
   },
   {
    "duration": 22,
    "start_time": "2025-06-08T15:40:15.779Z"
   },
   {
    "duration": 37,
    "start_time": "2025-06-08T15:40:15.803Z"
   },
   {
    "duration": 31,
    "start_time": "2025-06-08T15:40:15.841Z"
   },
   {
    "duration": 46,
    "start_time": "2025-06-08T15:40:15.873Z"
   },
   {
    "duration": 158,
    "start_time": "2025-06-08T15:40:15.920Z"
   },
   {
    "duration": 6,
    "start_time": "2025-06-08T15:40:16.079Z"
   },
   {
    "duration": 6,
    "start_time": "2025-06-08T15:40:16.087Z"
   },
   {
    "duration": 78,
    "start_time": "2025-06-08T15:40:16.094Z"
   },
   {
    "duration": 2061,
    "start_time": "2025-06-08T15:40:16.173Z"
   },
   {
    "duration": 33,
    "start_time": "2025-06-08T15:40:18.235Z"
   },
   {
    "duration": 11,
    "start_time": "2025-06-08T15:40:18.270Z"
   },
   {
    "duration": 44,
    "start_time": "2025-06-08T15:40:18.283Z"
   },
   {
    "duration": 1841,
    "start_time": "2025-06-08T15:40:18.329Z"
   },
   {
    "duration": 498,
    "start_time": "2025-06-08T15:40:20.172Z"
   },
   {
    "duration": 1701,
    "start_time": "2025-06-08T15:40:20.672Z"
   },
   {
    "duration": 21,
    "start_time": "2025-06-08T15:40:22.374Z"
   },
   {
    "duration": 41,
    "start_time": "2025-06-08T15:40:22.396Z"
   },
   {
    "duration": 1722,
    "start_time": "2025-06-08T15:40:22.438Z"
   },
   {
    "duration": 350,
    "start_time": "2025-06-08T15:40:24.162Z"
   },
   {
    "duration": 1695,
    "start_time": "2025-06-08T15:40:24.513Z"
   },
   {
    "duration": 24,
    "start_time": "2025-06-08T15:40:26.212Z"
   },
   {
    "duration": 274,
    "start_time": "2025-06-08T15:40:26.238Z"
   },
   {
    "duration": 21,
    "start_time": "2025-06-08T15:40:26.514Z"
   },
   {
    "duration": 67,
    "start_time": "2025-06-08T15:40:26.536Z"
   },
   {
    "duration": 1779,
    "start_time": "2025-06-08T15:40:26.605Z"
   },
   {
    "duration": 243,
    "start_time": "2025-06-08T15:40:28.385Z"
   },
   {
    "duration": 473,
    "start_time": "2025-06-08T15:40:28.630Z"
   },
   {
    "duration": 678,
    "start_time": "2025-06-08T15:40:29.105Z"
   },
   {
    "duration": 362,
    "start_time": "2025-06-08T15:40:29.785Z"
   },
   {
    "duration": 112,
    "start_time": "2025-06-08T15:40:30.149Z"
   },
   {
    "duration": 4630,
    "start_time": "2025-06-08T15:40:30.263Z"
   },
   {
    "duration": 990,
    "start_time": "2025-06-08T15:40:34.894Z"
   },
   {
    "duration": 197,
    "start_time": "2025-06-08T15:40:35.885Z"
   },
   {
    "duration": 57,
    "start_time": "2025-06-08T15:40:36.083Z"
   },
   {
    "duration": 8622,
    "start_time": "2025-06-08T15:40:36.142Z"
   },
   {
    "duration": 792,
    "start_time": "2025-06-08T15:40:44.767Z"
   },
   {
    "duration": 714,
    "start_time": "2025-06-08T15:40:45.560Z"
   },
   {
    "duration": 140,
    "start_time": "2025-06-08T15:40:46.275Z"
   },
   {
    "duration": 2475,
    "start_time": "2025-06-08T15:40:46.417Z"
   },
   {
    "duration": 0,
    "start_time": "2025-06-08T15:40:48.893Z"
   },
   {
    "duration": 10113,
    "start_time": "2025-06-08T15:41:20.651Z"
   },
   {
    "duration": 8148,
    "start_time": "2025-06-08T15:50:05.823Z"
   },
   {
    "duration": 6114,
    "start_time": "2025-06-08T15:50:26.048Z"
   },
   {
    "duration": 6504,
    "start_time": "2025-06-08T15:50:41.956Z"
   },
   {
    "duration": 7812,
    "start_time": "2025-06-08T15:50:54.700Z"
   },
   {
    "duration": 1703,
    "start_time": "2025-06-08T15:51:02.515Z"
   },
   {
    "duration": 178,
    "start_time": "2025-06-08T15:51:04.220Z"
   },
   {
    "duration": 71,
    "start_time": "2025-06-08T15:51:04.400Z"
   },
   {
    "duration": 5,
    "start_time": "2025-06-08T15:51:04.473Z"
   },
   {
    "duration": 496,
    "start_time": "2025-06-08T15:51:04.480Z"
   },
   {
    "duration": 1106,
    "start_time": "2025-06-08T15:51:04.978Z"
   },
   {
    "duration": 123,
    "start_time": "2025-06-08T15:51:06.085Z"
   },
   {
    "duration": 219,
    "start_time": "2025-06-08T15:51:06.209Z"
   },
   {
    "duration": 180,
    "start_time": "2025-06-08T15:51:06.431Z"
   },
   {
    "duration": 482,
    "start_time": "2025-06-08T15:51:06.613Z"
   },
   {
    "duration": 37,
    "start_time": "2025-06-08T15:51:07.096Z"
   },
   {
    "duration": 112,
    "start_time": "2025-06-08T15:51:07.134Z"
   },
   {
    "duration": 100,
    "start_time": "2025-06-08T15:51:07.258Z"
   },
   {
    "duration": 22,
    "start_time": "2025-06-08T15:51:07.359Z"
   },
   {
    "duration": 52,
    "start_time": "2025-06-08T15:51:07.382Z"
   },
   {
    "duration": 41,
    "start_time": "2025-06-08T15:51:07.436Z"
   },
   {
    "duration": 39,
    "start_time": "2025-06-08T15:51:07.478Z"
   },
   {
    "duration": 18,
    "start_time": "2025-06-08T15:51:07.519Z"
   },
   {
    "duration": 41,
    "start_time": "2025-06-08T15:51:07.559Z"
   },
   {
    "duration": 23,
    "start_time": "2025-06-08T15:51:07.602Z"
   },
   {
    "duration": 63,
    "start_time": "2025-06-08T15:51:07.626Z"
   },
   {
    "duration": 23,
    "start_time": "2025-06-08T15:51:07.691Z"
   },
   {
    "duration": 55,
    "start_time": "2025-06-08T15:51:07.715Z"
   },
   {
    "duration": 98,
    "start_time": "2025-06-08T15:51:07.772Z"
   },
   {
    "duration": 7,
    "start_time": "2025-06-08T15:51:07.872Z"
   },
   {
    "duration": 4,
    "start_time": "2025-06-08T15:51:07.880Z"
   },
   {
    "duration": 77,
    "start_time": "2025-06-08T15:51:07.886Z"
   },
   {
    "duration": 1940,
    "start_time": "2025-06-08T15:51:07.965Z"
   },
   {
    "duration": 24,
    "start_time": "2025-06-08T15:51:09.907Z"
   },
   {
    "duration": 32,
    "start_time": "2025-06-08T15:51:09.933Z"
   },
   {
    "duration": 92,
    "start_time": "2025-06-08T15:51:09.967Z"
   },
   {
    "duration": 1855,
    "start_time": "2025-06-08T15:51:10.061Z"
   },
   {
    "duration": 488,
    "start_time": "2025-06-08T15:51:11.917Z"
   },
   {
    "duration": 1673,
    "start_time": "2025-06-08T15:51:12.407Z"
   },
   {
    "duration": 21,
    "start_time": "2025-06-08T15:51:14.081Z"
   },
   {
    "duration": 56,
    "start_time": "2025-06-08T15:51:14.104Z"
   },
   {
    "duration": 1756,
    "start_time": "2025-06-08T15:51:14.161Z"
   },
   {
    "duration": 366,
    "start_time": "2025-06-08T15:51:15.919Z"
   },
   {
    "duration": 1728,
    "start_time": "2025-06-08T15:51:16.286Z"
   },
   {
    "duration": 25,
    "start_time": "2025-06-08T15:51:18.018Z"
   },
   {
    "duration": 276,
    "start_time": "2025-06-08T15:51:18.045Z"
   },
   {
    "duration": 21,
    "start_time": "2025-06-08T15:51:18.323Z"
   },
   {
    "duration": 59,
    "start_time": "2025-06-08T15:51:18.346Z"
   },
   {
    "duration": 1789,
    "start_time": "2025-06-08T15:51:18.407Z"
   },
   {
    "duration": 272,
    "start_time": "2025-06-08T15:51:20.198Z"
   },
   {
    "duration": 506,
    "start_time": "2025-06-08T15:51:20.472Z"
   },
   {
    "duration": 718,
    "start_time": "2025-06-08T15:51:20.981Z"
   },
   {
    "duration": 362,
    "start_time": "2025-06-08T15:51:21.701Z"
   },
   {
    "duration": 110,
    "start_time": "2025-06-08T15:51:22.065Z"
   },
   {
    "duration": 4649,
    "start_time": "2025-06-08T15:51:22.177Z"
   },
   {
    "duration": 981,
    "start_time": "2025-06-08T15:51:26.828Z"
   },
   {
    "duration": 193,
    "start_time": "2025-06-08T15:51:27.811Z"
   },
   {
    "duration": 70,
    "start_time": "2025-06-08T15:51:28.006Z"
   },
   {
    "duration": 6290,
    "start_time": "2025-06-08T15:51:28.078Z"
   },
   {
    "duration": 709,
    "start_time": "2025-06-08T15:51:34.458Z"
   },
   {
    "duration": 793,
    "start_time": "2025-06-08T15:51:35.169Z"
   },
   {
    "duration": 99,
    "start_time": "2025-06-08T15:51:35.964Z"
   },
   {
    "duration": 2495,
    "start_time": "2025-06-08T15:51:36.065Z"
   },
   {
    "duration": 0,
    "start_time": "2025-06-08T15:51:38.562Z"
   },
   {
    "duration": 6,
    "start_time": "2025-06-08T15:56:36.191Z"
   },
   {
    "duration": 149,
    "start_time": "2025-06-08T15:57:13.569Z"
   },
   {
    "duration": 13,
    "start_time": "2025-06-08T15:57:39.390Z"
   },
   {
    "duration": 11,
    "start_time": "2025-06-08T15:58:54.890Z"
   },
   {
    "duration": 43,
    "start_time": "2025-06-08T15:59:32.144Z"
   },
   {
    "duration": 19,
    "start_time": "2025-06-08T15:59:35.293Z"
   },
   {
    "duration": 6,
    "start_time": "2025-06-08T15:59:51.848Z"
   },
   {
    "duration": 1770,
    "start_time": "2025-06-08T16:05:52.791Z"
   },
   {
    "duration": 1723,
    "start_time": "2025-06-08T16:06:34.137Z"
   },
   {
    "duration": 1831,
    "start_time": "2025-06-08T16:06:57.428Z"
   },
   {
    "duration": 7,
    "start_time": "2025-06-08T16:10:35.691Z"
   },
   {
    "duration": 6,
    "start_time": "2025-06-08T17:24:08.851Z"
   },
   {
    "duration": 174,
    "start_time": "2025-06-08T17:58:56.877Z"
   },
   {
    "duration": 181,
    "start_time": "2025-06-08T17:59:27.148Z"
   },
   {
    "duration": 6,
    "start_time": "2025-06-08T18:01:58.729Z"
   },
   {
    "duration": 178,
    "start_time": "2025-06-08T18:02:27.915Z"
   },
   {
    "duration": 8,
    "start_time": "2025-06-08T18:03:26.640Z"
   },
   {
    "duration": 180,
    "start_time": "2025-06-08T18:06:36.400Z"
   },
   {
    "duration": 13,
    "start_time": "2025-06-08T18:06:45.562Z"
   },
   {
    "duration": 38,
    "start_time": "2025-06-08T18:06:57.086Z"
   },
   {
    "duration": 5,
    "start_time": "2025-06-08T18:07:00.276Z"
   },
   {
    "duration": 6590,
    "start_time": "2025-06-08T18:07:06.274Z"
   },
   {
    "duration": 1694,
    "start_time": "2025-06-08T18:07:12.868Z"
   },
   {
    "duration": 205,
    "start_time": "2025-06-08T18:07:14.564Z"
   },
   {
    "duration": 57,
    "start_time": "2025-06-08T18:07:14.773Z"
   },
   {
    "duration": 5,
    "start_time": "2025-06-08T18:07:14.832Z"
   },
   {
    "duration": 587,
    "start_time": "2025-06-08T18:07:14.839Z"
   },
   {
    "duration": 1178,
    "start_time": "2025-06-08T18:07:15.428Z"
   },
   {
    "duration": 133,
    "start_time": "2025-06-08T18:07:16.607Z"
   },
   {
    "duration": 209,
    "start_time": "2025-06-08T18:07:16.741Z"
   },
   {
    "duration": 207,
    "start_time": "2025-06-08T18:07:16.952Z"
   },
   {
    "duration": 473,
    "start_time": "2025-06-08T18:07:17.171Z"
   },
   {
    "duration": 45,
    "start_time": "2025-06-08T18:07:17.646Z"
   },
   {
    "duration": 119,
    "start_time": "2025-06-08T18:07:17.693Z"
   },
   {
    "duration": 108,
    "start_time": "2025-06-08T18:07:17.815Z"
   },
   {
    "duration": 37,
    "start_time": "2025-06-08T18:07:17.924Z"
   },
   {
    "duration": 43,
    "start_time": "2025-06-08T18:07:17.964Z"
   },
   {
    "duration": 55,
    "start_time": "2025-06-08T18:07:18.009Z"
   },
   {
    "duration": 38,
    "start_time": "2025-06-08T18:07:18.070Z"
   },
   {
    "duration": 18,
    "start_time": "2025-06-08T18:07:18.110Z"
   },
   {
    "duration": 65,
    "start_time": "2025-06-08T18:07:18.131Z"
   },
   {
    "duration": 22,
    "start_time": "2025-06-08T18:07:18.198Z"
   },
   {
    "duration": 66,
    "start_time": "2025-06-08T18:07:18.221Z"
   },
   {
    "duration": 22,
    "start_time": "2025-06-08T18:07:18.288Z"
   },
   {
    "duration": 48,
    "start_time": "2025-06-08T18:07:18.311Z"
   },
   {
    "duration": 101,
    "start_time": "2025-06-08T18:07:18.362Z"
   },
   {
    "duration": 122,
    "start_time": "2025-06-08T18:07:18.473Z"
   },
   {
    "duration": 3,
    "start_time": "2025-06-08T18:07:18.598Z"
   },
   {
    "duration": 70,
    "start_time": "2025-06-08T18:07:18.602Z"
   },
   {
    "duration": 1968,
    "start_time": "2025-06-08T18:07:18.674Z"
   },
   {
    "duration": 44,
    "start_time": "2025-06-08T18:07:20.644Z"
   },
   {
    "duration": 50,
    "start_time": "2025-06-08T18:07:20.690Z"
   },
   {
    "duration": 47,
    "start_time": "2025-06-08T18:07:20.742Z"
   },
   {
    "duration": 1971,
    "start_time": "2025-06-08T18:07:20.792Z"
   },
   {
    "duration": 531,
    "start_time": "2025-06-08T18:07:22.766Z"
   },
   {
    "duration": 1911,
    "start_time": "2025-06-08T18:07:23.298Z"
   },
   {
    "duration": 28,
    "start_time": "2025-06-08T18:07:25.212Z"
   },
   {
    "duration": 62,
    "start_time": "2025-06-08T18:07:25.241Z"
   },
   {
    "duration": 1744,
    "start_time": "2025-06-08T18:07:25.305Z"
   },
   {
    "duration": 398,
    "start_time": "2025-06-08T18:07:27.051Z"
   },
   {
    "duration": 1789,
    "start_time": "2025-06-08T18:07:27.461Z"
   },
   {
    "duration": 28,
    "start_time": "2025-06-08T18:07:29.260Z"
   },
   {
    "duration": 336,
    "start_time": "2025-06-08T18:07:29.290Z"
   },
   {
    "duration": 32,
    "start_time": "2025-06-08T18:07:29.628Z"
   },
   {
    "duration": 54,
    "start_time": "2025-06-08T18:07:29.662Z"
   },
   {
    "duration": 1922,
    "start_time": "2025-06-08T18:07:29.718Z"
   },
   {
    "duration": 293,
    "start_time": "2025-06-08T18:07:31.642Z"
   },
   {
    "duration": 529,
    "start_time": "2025-06-08T18:07:31.937Z"
   },
   {
    "duration": 752,
    "start_time": "2025-06-08T18:07:32.469Z"
   },
   {
    "duration": 386,
    "start_time": "2025-06-08T18:07:33.223Z"
   },
   {
    "duration": 135,
    "start_time": "2025-06-08T18:07:33.611Z"
   },
   {
    "duration": 5112,
    "start_time": "2025-06-08T18:07:33.748Z"
   },
   {
    "duration": 1055,
    "start_time": "2025-06-08T18:07:38.871Z"
   },
   {
    "duration": 207,
    "start_time": "2025-06-08T18:07:39.927Z"
   },
   {
    "duration": 78,
    "start_time": "2025-06-08T18:07:40.136Z"
   },
   {
    "duration": 41757,
    "start_time": "2025-06-08T18:07:40.216Z"
   },
   {
    "duration": 934,
    "start_time": "2025-06-08T18:08:22.060Z"
   },
   {
    "duration": 902,
    "start_time": "2025-06-08T18:08:22.995Z"
   },
   {
    "duration": 68,
    "start_time": "2025-06-08T18:08:23.898Z"
   },
   {
    "duration": 135,
    "start_time": "2025-06-08T18:08:23.971Z"
   },
   {
    "duration": 0,
    "start_time": "2025-06-08T18:08:24.108Z"
   },
   {
    "duration": 0,
    "start_time": "2025-06-08T18:08:24.109Z"
   },
   {
    "duration": 0,
    "start_time": "2025-06-08T18:08:24.110Z"
   },
   {
    "duration": 0,
    "start_time": "2025-06-08T18:08:24.111Z"
   },
   {
    "duration": 0,
    "start_time": "2025-06-08T18:08:24.112Z"
   },
   {
    "duration": 0,
    "start_time": "2025-06-08T18:08:24.113Z"
   },
   {
    "duration": 10248,
    "start_time": "2025-06-08T18:10:18.017Z"
   },
   {
    "duration": 6279,
    "start_time": "2025-06-08T18:10:58.587Z"
   },
   {
    "duration": 6375,
    "start_time": "2025-06-08T18:11:18.185Z"
   },
   {
    "duration": 6243,
    "start_time": "2025-06-08T18:15:18.921Z"
   },
   {
    "duration": 5961,
    "start_time": "2025-06-08T18:15:31.802Z"
   },
   {
    "duration": 698,
    "start_time": "2025-06-08T18:15:48.480Z"
   },
   {
    "duration": 722,
    "start_time": "2025-06-08T18:15:53.746Z"
   },
   {
    "duration": 6,
    "start_time": "2025-06-08T18:16:08.936Z"
   },
   {
    "duration": 17,
    "start_time": "2025-06-08T18:16:10.303Z"
   },
   {
    "duration": 177,
    "start_time": "2025-06-08T18:16:32.418Z"
   },
   {
    "duration": 173,
    "start_time": "2025-06-08T18:16:43.135Z"
   },
   {
    "duration": 169,
    "start_time": "2025-06-08T18:16:48.140Z"
   },
   {
    "duration": 173,
    "start_time": "2025-06-08T18:16:54.622Z"
   },
   {
    "duration": 6,
    "start_time": "2025-06-08T18:17:01.956Z"
   },
   {
    "duration": 178,
    "start_time": "2025-06-08T18:17:04.702Z"
   },
   {
    "duration": 10,
    "start_time": "2025-06-08T18:17:14.955Z"
   },
   {
    "duration": 38,
    "start_time": "2025-06-08T18:17:16.803Z"
   },
   {
    "duration": 6,
    "start_time": "2025-06-08T18:17:18.173Z"
   },
   {
    "duration": 22,
    "start_time": "2025-06-08T18:17:47.081Z"
   },
   {
    "duration": 1651,
    "start_time": "2025-06-08T18:22:42.419Z"
   },
   {
    "duration": 1657,
    "start_time": "2025-06-08T18:23:43.316Z"
   },
   {
    "duration": 11,
    "start_time": "2025-06-08T18:29:57.531Z"
   },
   {
    "duration": 11,
    "start_time": "2025-06-08T18:30:50.048Z"
   },
   {
    "duration": 6100,
    "start_time": "2025-06-08T18:31:45.845Z"
   },
   {
    "duration": 1772,
    "start_time": "2025-06-08T18:31:51.947Z"
   },
   {
    "duration": 181,
    "start_time": "2025-06-08T18:31:53.721Z"
   },
   {
    "duration": 73,
    "start_time": "2025-06-08T18:31:53.903Z"
   },
   {
    "duration": 5,
    "start_time": "2025-06-08T18:31:53.978Z"
   },
   {
    "duration": 506,
    "start_time": "2025-06-08T18:31:53.984Z"
   },
   {
    "duration": 1115,
    "start_time": "2025-06-08T18:31:54.491Z"
   },
   {
    "duration": 118,
    "start_time": "2025-06-08T18:31:55.607Z"
   },
   {
    "duration": 183,
    "start_time": "2025-06-08T18:31:55.727Z"
   },
   {
    "duration": 177,
    "start_time": "2025-06-08T18:31:55.912Z"
   },
   {
    "duration": 451,
    "start_time": "2025-06-08T18:31:56.091Z"
   },
   {
    "duration": 40,
    "start_time": "2025-06-08T18:31:56.543Z"
   },
   {
    "duration": 110,
    "start_time": "2025-06-08T18:31:56.585Z"
   },
   {
    "duration": 95,
    "start_time": "2025-06-08T18:31:56.699Z"
   },
   {
    "duration": 31,
    "start_time": "2025-06-08T18:31:56.796Z"
   },
   {
    "duration": 53,
    "start_time": "2025-06-08T18:31:56.828Z"
   },
   {
    "duration": 36,
    "start_time": "2025-06-08T18:31:56.883Z"
   },
   {
    "duration": 49,
    "start_time": "2025-06-08T18:31:56.920Z"
   },
   {
    "duration": 20,
    "start_time": "2025-06-08T18:31:56.970Z"
   },
   {
    "duration": 40,
    "start_time": "2025-06-08T18:31:56.991Z"
   },
   {
    "duration": 42,
    "start_time": "2025-06-08T18:31:57.032Z"
   },
   {
    "duration": 38,
    "start_time": "2025-06-08T18:31:57.076Z"
   },
   {
    "duration": 21,
    "start_time": "2025-06-08T18:31:57.116Z"
   },
   {
    "duration": 38,
    "start_time": "2025-06-08T18:31:57.158Z"
   },
   {
    "duration": 153,
    "start_time": "2025-06-08T18:31:57.197Z"
   },
   {
    "duration": 7,
    "start_time": "2025-06-08T18:31:57.351Z"
   },
   {
    "duration": 6,
    "start_time": "2025-06-08T18:31:57.359Z"
   },
   {
    "duration": 65,
    "start_time": "2025-06-08T18:31:57.366Z"
   },
   {
    "duration": 1913,
    "start_time": "2025-06-08T18:31:57.433Z"
   },
   {
    "duration": 24,
    "start_time": "2025-06-08T18:31:59.348Z"
   },
   {
    "duration": 13,
    "start_time": "2025-06-08T18:31:59.373Z"
   },
   {
    "duration": 45,
    "start_time": "2025-06-08T18:31:59.387Z"
   },
   {
    "duration": 1916,
    "start_time": "2025-06-08T18:31:59.434Z"
   },
   {
    "duration": 523,
    "start_time": "2025-06-08T18:32:01.352Z"
   },
   {
    "duration": 1667,
    "start_time": "2025-06-08T18:32:01.877Z"
   },
   {
    "duration": 31,
    "start_time": "2025-06-08T18:32:03.545Z"
   },
   {
    "duration": 102,
    "start_time": "2025-06-08T18:32:03.577Z"
   },
   {
    "duration": 1667,
    "start_time": "2025-06-08T18:32:03.681Z"
   },
   {
    "duration": 357,
    "start_time": "2025-06-08T18:32:05.357Z"
   },
   {
    "duration": 1710,
    "start_time": "2025-06-08T18:32:05.716Z"
   },
   {
    "duration": 30,
    "start_time": "2025-06-08T18:32:07.430Z"
   },
   {
    "duration": 281,
    "start_time": "2025-06-08T18:32:07.462Z"
   },
   {
    "duration": 22,
    "start_time": "2025-06-08T18:32:07.745Z"
   },
   {
    "duration": 51,
    "start_time": "2025-06-08T18:32:07.769Z"
   },
   {
    "duration": 1701,
    "start_time": "2025-06-08T18:32:07.822Z"
   },
   {
    "duration": 242,
    "start_time": "2025-06-08T18:32:09.525Z"
   },
   {
    "duration": 478,
    "start_time": "2025-06-08T18:32:09.768Z"
   },
   {
    "duration": 668,
    "start_time": "2025-06-08T18:32:10.248Z"
   },
   {
    "duration": 351,
    "start_time": "2025-06-08T18:32:10.917Z"
   },
   {
    "duration": 107,
    "start_time": "2025-06-08T18:32:11.270Z"
   },
   {
    "duration": 4567,
    "start_time": "2025-06-08T18:32:11.379Z"
   },
   {
    "duration": 960,
    "start_time": "2025-06-08T18:32:15.948Z"
   },
   {
    "duration": 196,
    "start_time": "2025-06-08T18:32:16.909Z"
   },
   {
    "duration": 74,
    "start_time": "2025-06-08T18:32:17.107Z"
   },
   {
    "duration": 8585,
    "start_time": "2025-06-08T18:32:17.183Z"
   },
   {
    "duration": 796,
    "start_time": "2025-06-08T18:32:25.770Z"
   },
   {
    "duration": 704,
    "start_time": "2025-06-08T18:32:26.568Z"
   },
   {
    "duration": 7,
    "start_time": "2025-06-08T18:32:27.275Z"
   },
   {
    "duration": 190,
    "start_time": "2025-06-08T18:32:27.357Z"
   },
   {
    "duration": 13,
    "start_time": "2025-06-08T18:32:27.549Z"
   },
   {
    "duration": 110,
    "start_time": "2025-06-08T18:32:27.564Z"
   },
   {
    "duration": 1898,
    "start_time": "2025-06-08T18:32:27.675Z"
   },
   {
    "duration": 102,
    "start_time": "2025-06-08T18:32:29.661Z"
   },
   {
    "duration": 194,
    "start_time": "2025-06-08T18:32:29.765Z"
   },
   {
    "duration": 6,
    "start_time": "2025-06-08T18:51:19.773Z"
   },
   {
    "duration": 113,
    "start_time": "2025-06-08T18:51:48.391Z"
   },
   {
    "duration": 10,
    "start_time": "2025-06-08T18:52:31.296Z"
   },
   {
    "duration": 1674,
    "start_time": "2025-06-08T18:53:04.185Z"
   },
   {
    "duration": 6,
    "start_time": "2025-06-08T18:54:40.310Z"
   },
   {
    "duration": 664,
    "start_time": "2025-06-08T18:54:58.302Z"
   },
   {
    "duration": 6079,
    "start_time": "2025-06-08T18:58:07.784Z"
   },
   {
    "duration": 9534,
    "start_time": "2025-06-08T18:58:26.933Z"
   },
   {
    "duration": 5,
    "start_time": "2025-06-08T18:58:48.692Z"
   },
   {
    "duration": 13152,
    "start_time": "2025-06-10T04:07:49.307Z"
   },
   {
    "duration": 1744,
    "start_time": "2025-06-10T04:08:02.461Z"
   },
   {
    "duration": 201,
    "start_time": "2025-06-10T04:08:04.207Z"
   },
   {
    "duration": 72,
    "start_time": "2025-06-10T04:08:04.411Z"
   },
   {
    "duration": 5,
    "start_time": "2025-06-10T04:08:04.485Z"
   },
   {
    "duration": 580,
    "start_time": "2025-06-10T04:08:04.491Z"
   },
   {
    "duration": 1254,
    "start_time": "2025-06-10T04:08:05.073Z"
   },
   {
    "duration": 127,
    "start_time": "2025-06-10T04:08:06.329Z"
   },
   {
    "duration": 196,
    "start_time": "2025-06-10T04:08:06.458Z"
   },
   {
    "duration": 194,
    "start_time": "2025-06-10T04:08:06.657Z"
   },
   {
    "duration": 541,
    "start_time": "2025-06-10T04:08:06.854Z"
   },
   {
    "duration": 39,
    "start_time": "2025-06-10T04:08:07.397Z"
   },
   {
    "duration": 123,
    "start_time": "2025-06-10T04:08:07.438Z"
   },
   {
    "duration": 113,
    "start_time": "2025-06-10T04:08:07.563Z"
   },
   {
    "duration": 26,
    "start_time": "2025-06-10T04:08:07.678Z"
   },
   {
    "duration": 54,
    "start_time": "2025-06-10T04:08:07.706Z"
   },
   {
    "duration": 41,
    "start_time": "2025-06-10T04:08:07.772Z"
   },
   {
    "duration": 57,
    "start_time": "2025-06-10T04:08:07.814Z"
   },
   {
    "duration": 21,
    "start_time": "2025-06-10T04:08:07.873Z"
   },
   {
    "duration": 115,
    "start_time": "2025-06-10T04:08:07.895Z"
   },
   {
    "duration": 36,
    "start_time": "2025-06-10T04:08:08.012Z"
   },
   {
    "duration": 45,
    "start_time": "2025-06-10T04:08:08.049Z"
   },
   {
    "duration": 24,
    "start_time": "2025-06-10T04:08:08.096Z"
   },
   {
    "duration": 51,
    "start_time": "2025-06-10T04:08:08.122Z"
   },
   {
    "duration": 106,
    "start_time": "2025-06-10T04:08:08.175Z"
   },
   {
    "duration": 18,
    "start_time": "2025-06-10T04:08:08.283Z"
   },
   {
    "duration": 10,
    "start_time": "2025-06-10T04:08:08.303Z"
   },
   {
    "duration": 77,
    "start_time": "2025-06-10T04:08:08.317Z"
   },
   {
    "duration": 2077,
    "start_time": "2025-06-10T04:08:08.396Z"
   },
   {
    "duration": 26,
    "start_time": "2025-06-10T04:08:10.475Z"
   },
   {
    "duration": 11,
    "start_time": "2025-06-10T04:08:10.503Z"
   },
   {
    "duration": 65,
    "start_time": "2025-06-10T04:08:10.516Z"
   },
   {
    "duration": 2038,
    "start_time": "2025-06-10T04:08:10.582Z"
   },
   {
    "duration": 436,
    "start_time": "2025-06-10T04:08:12.621Z"
   },
   {
    "duration": 1765,
    "start_time": "2025-06-10T04:08:13.059Z"
   },
   {
    "duration": 23,
    "start_time": "2025-06-10T04:08:14.825Z"
   },
   {
    "duration": 62,
    "start_time": "2025-06-10T04:08:14.850Z"
   },
   {
    "duration": 1741,
    "start_time": "2025-06-10T04:08:14.913Z"
   },
   {
    "duration": 385,
    "start_time": "2025-06-10T04:08:16.656Z"
   },
   {
    "duration": 1809,
    "start_time": "2025-06-10T04:08:17.043Z"
   },
   {
    "duration": 31,
    "start_time": "2025-06-10T04:08:18.854Z"
   },
   {
    "duration": 299,
    "start_time": "2025-06-10T04:08:18.886Z"
   },
   {
    "duration": 23,
    "start_time": "2025-06-10T04:08:19.187Z"
   },
   {
    "duration": 70,
    "start_time": "2025-06-10T04:08:19.212Z"
   },
   {
    "duration": 1800,
    "start_time": "2025-06-10T04:08:19.284Z"
   },
   {
    "duration": 261,
    "start_time": "2025-06-10T04:08:21.086Z"
   },
   {
    "duration": 525,
    "start_time": "2025-06-10T04:08:21.349Z"
   },
   {
    "duration": 744,
    "start_time": "2025-06-10T04:08:21.876Z"
   },
   {
    "duration": 381,
    "start_time": "2025-06-10T04:08:22.622Z"
   },
   {
    "duration": 116,
    "start_time": "2025-06-10T04:08:23.005Z"
   },
   {
    "duration": 5015,
    "start_time": "2025-06-10T04:08:23.123Z"
   },
   {
    "duration": 1042,
    "start_time": "2025-06-10T04:08:28.140Z"
   },
   {
    "duration": 183,
    "start_time": "2025-06-10T04:08:29.184Z"
   },
   {
    "duration": 60,
    "start_time": "2025-06-10T04:08:29.368Z"
   },
   {
    "duration": 6452,
    "start_time": "2025-06-10T04:08:29.430Z"
   },
   {
    "duration": 804,
    "start_time": "2025-06-10T04:08:35.972Z"
   },
   {
    "duration": 802,
    "start_time": "2025-06-10T04:08:36.778Z"
   },
   {
    "duration": 7,
    "start_time": "2025-06-10T04:08:37.583Z"
   },
   {
    "duration": 264,
    "start_time": "2025-06-10T04:08:37.592Z"
   },
   {
    "duration": 16,
    "start_time": "2025-06-10T04:08:37.858Z"
   },
   {
    "duration": 46,
    "start_time": "2025-06-10T04:08:37.876Z"
   },
   {
    "duration": 1852,
    "start_time": "2025-06-10T04:08:37.924Z"
   },
   {
    "duration": 101,
    "start_time": "2025-06-10T04:08:39.779Z"
   },
   {
    "duration": 102,
    "start_time": "2025-06-10T04:08:39.977Z"
   },
   {
    "duration": 93,
    "start_time": "2025-06-10T04:08:40.081Z"
   },
   {
    "duration": 5461,
    "start_time": "2025-06-10T06:15:02.090Z"
   },
   {
    "duration": 5298,
    "start_time": "2025-06-10T06:16:15.204Z"
   },
   {
    "duration": 102,
    "start_time": "2025-06-10T06:16:41.629Z"
   },
   {
    "duration": 107,
    "start_time": "2025-06-10T06:25:33.743Z"
   },
   {
    "duration": 99,
    "start_time": "2025-06-10T06:26:13.427Z"
   },
   {
    "duration": 8,
    "start_time": "2025-06-10T06:26:27.559Z"
   },
   {
    "duration": 9648,
    "start_time": "2025-06-10T06:28:57.473Z"
   },
   {
    "duration": 6,
    "start_time": "2025-06-10T06:29:28.565Z"
   },
   {
    "duration": 25529,
    "start_time": "2025-06-10T06:31:52.578Z"
   },
   {
    "duration": 6,
    "start_time": "2025-06-10T06:36:16.270Z"
   },
   {
    "duration": 5,
    "start_time": "2025-06-10T06:36:27.218Z"
   },
   {
    "duration": 9705,
    "start_time": "2025-06-10T06:37:48.243Z"
   },
   {
    "duration": 1758,
    "start_time": "2025-06-10T06:37:57.950Z"
   },
   {
    "duration": 198,
    "start_time": "2025-06-10T06:37:59.710Z"
   },
   {
    "duration": 74,
    "start_time": "2025-06-10T06:37:59.910Z"
   },
   {
    "duration": 5,
    "start_time": "2025-06-10T06:37:59.987Z"
   },
   {
    "duration": 579,
    "start_time": "2025-06-10T06:37:59.993Z"
   },
   {
    "duration": 1261,
    "start_time": "2025-06-10T06:38:00.574Z"
   },
   {
    "duration": 136,
    "start_time": "2025-06-10T06:38:01.836Z"
   },
   {
    "duration": 227,
    "start_time": "2025-06-10T06:38:01.974Z"
   },
   {
    "duration": 218,
    "start_time": "2025-06-10T06:38:02.205Z"
   },
   {
    "duration": 531,
    "start_time": "2025-06-10T06:38:02.425Z"
   },
   {
    "duration": 31,
    "start_time": "2025-06-10T06:38:02.958Z"
   },
   {
    "duration": 118,
    "start_time": "2025-06-10T06:38:02.991Z"
   },
   {
    "duration": 110,
    "start_time": "2025-06-10T06:38:03.114Z"
   },
   {
    "duration": 25,
    "start_time": "2025-06-10T06:38:03.226Z"
   },
   {
    "duration": 54,
    "start_time": "2025-06-10T06:38:03.253Z"
   },
   {
    "duration": 40,
    "start_time": "2025-06-10T06:38:03.309Z"
   },
   {
    "duration": 69,
    "start_time": "2025-06-10T06:38:03.351Z"
   },
   {
    "duration": 20,
    "start_time": "2025-06-10T06:38:03.422Z"
   },
   {
    "duration": 67,
    "start_time": "2025-06-10T06:38:03.444Z"
   },
   {
    "duration": 24,
    "start_time": "2025-06-10T06:38:03.512Z"
   },
   {
    "duration": 103,
    "start_time": "2025-06-10T06:38:03.538Z"
   },
   {
    "duration": 24,
    "start_time": "2025-06-10T06:38:03.643Z"
   },
   {
    "duration": 117,
    "start_time": "2025-06-10T06:38:03.668Z"
   },
   {
    "duration": 100,
    "start_time": "2025-06-10T06:38:03.787Z"
   },
   {
    "duration": 6,
    "start_time": "2025-06-10T06:38:03.889Z"
   },
   {
    "duration": 9,
    "start_time": "2025-06-10T06:38:03.897Z"
   },
   {
    "duration": 101,
    "start_time": "2025-06-10T06:38:03.908Z"
   },
   {
    "duration": 1982,
    "start_time": "2025-06-10T06:38:04.010Z"
   },
   {
    "duration": 28,
    "start_time": "2025-06-10T06:38:05.994Z"
   },
   {
    "duration": 45,
    "start_time": "2025-06-10T06:38:06.023Z"
   },
   {
    "duration": 53,
    "start_time": "2025-06-10T06:38:06.070Z"
   },
   {
    "duration": 2072,
    "start_time": "2025-06-10T06:38:06.125Z"
   },
   {
    "duration": 447,
    "start_time": "2025-06-10T06:38:08.199Z"
   },
   {
    "duration": 1843,
    "start_time": "2025-06-10T06:38:08.648Z"
   },
   {
    "duration": 23,
    "start_time": "2025-06-10T06:38:10.493Z"
   },
   {
    "duration": 64,
    "start_time": "2025-06-10T06:38:10.518Z"
   },
   {
    "duration": 1802,
    "start_time": "2025-06-10T06:38:10.584Z"
   },
   {
    "duration": 390,
    "start_time": "2025-06-10T06:38:12.388Z"
   },
   {
    "duration": 1772,
    "start_time": "2025-06-10T06:38:12.780Z"
   },
   {
    "duration": 32,
    "start_time": "2025-06-10T06:38:14.557Z"
   },
   {
    "duration": 304,
    "start_time": "2025-06-10T06:38:14.591Z"
   },
   {
    "duration": 24,
    "start_time": "2025-06-10T06:38:14.897Z"
   },
   {
    "duration": 86,
    "start_time": "2025-06-10T06:38:14.922Z"
   },
   {
    "duration": 1838,
    "start_time": "2025-06-10T06:38:15.009Z"
   },
   {
    "duration": 266,
    "start_time": "2025-06-10T06:38:16.849Z"
   },
   {
    "duration": 524,
    "start_time": "2025-06-10T06:38:17.117Z"
   },
   {
    "duration": 729,
    "start_time": "2025-06-10T06:38:17.642Z"
   },
   {
    "duration": 376,
    "start_time": "2025-06-10T06:38:18.373Z"
   },
   {
    "duration": 115,
    "start_time": "2025-06-10T06:38:18.751Z"
   },
   {
    "duration": 5711,
    "start_time": "2025-06-10T06:38:18.871Z"
   },
   {
    "duration": 1020,
    "start_time": "2025-06-10T06:38:24.585Z"
   },
   {
    "duration": 195,
    "start_time": "2025-06-10T06:38:25.606Z"
   },
   {
    "duration": 162,
    "start_time": "2025-06-10T06:38:25.803Z"
   },
   {
    "duration": 6,
    "start_time": "2025-06-10T06:38:25.967Z"
   },
   {
    "duration": 9785,
    "start_time": "2025-06-10T06:43:37.422Z"
   },
   {
    "duration": 1661,
    "start_time": "2025-06-10T06:43:47.210Z"
   },
   {
    "duration": 199,
    "start_time": "2025-06-10T06:43:48.873Z"
   },
   {
    "duration": 61,
    "start_time": "2025-06-10T06:43:49.074Z"
   },
   {
    "duration": 5,
    "start_time": "2025-06-10T06:43:49.138Z"
   },
   {
    "duration": 573,
    "start_time": "2025-06-10T06:43:49.144Z"
   },
   {
    "duration": 1239,
    "start_time": "2025-06-10T06:43:49.718Z"
   },
   {
    "duration": 136,
    "start_time": "2025-06-10T06:43:50.959Z"
   },
   {
    "duration": 192,
    "start_time": "2025-06-10T06:43:51.097Z"
   },
   {
    "duration": 192,
    "start_time": "2025-06-10T06:43:51.291Z"
   },
   {
    "duration": 528,
    "start_time": "2025-06-10T06:43:51.486Z"
   },
   {
    "duration": 28,
    "start_time": "2025-06-10T06:43:52.016Z"
   },
   {
    "duration": 132,
    "start_time": "2025-06-10T06:43:52.046Z"
   },
   {
    "duration": 113,
    "start_time": "2025-06-10T06:43:52.183Z"
   },
   {
    "duration": 37,
    "start_time": "2025-06-10T06:43:52.298Z"
   },
   {
    "duration": 67,
    "start_time": "2025-06-10T06:43:52.337Z"
   },
   {
    "duration": 39,
    "start_time": "2025-06-10T06:43:52.406Z"
   },
   {
    "duration": 55,
    "start_time": "2025-06-10T06:43:52.447Z"
   },
   {
    "duration": 20,
    "start_time": "2025-06-10T06:43:52.504Z"
   },
   {
    "duration": 89,
    "start_time": "2025-06-10T06:43:52.525Z"
   },
   {
    "duration": 23,
    "start_time": "2025-06-10T06:43:52.616Z"
   },
   {
    "duration": 164,
    "start_time": "2025-06-10T06:43:52.641Z"
   },
   {
    "duration": 37,
    "start_time": "2025-06-10T06:43:52.807Z"
   },
   {
    "duration": 58,
    "start_time": "2025-06-10T06:43:52.846Z"
   },
   {
    "duration": 96,
    "start_time": "2025-06-10T06:43:52.906Z"
   },
   {
    "duration": 8,
    "start_time": "2025-06-10T06:43:53.004Z"
   },
   {
    "duration": 7,
    "start_time": "2025-06-10T06:43:53.014Z"
   },
   {
    "duration": 88,
    "start_time": "2025-06-10T06:43:53.024Z"
   },
   {
    "duration": 2002,
    "start_time": "2025-06-10T06:43:53.114Z"
   },
   {
    "duration": 26,
    "start_time": "2025-06-10T06:43:55.118Z"
   },
   {
    "duration": 29,
    "start_time": "2025-06-10T06:43:55.145Z"
   },
   {
    "duration": 50,
    "start_time": "2025-06-10T06:43:55.175Z"
   },
   {
    "duration": 2067,
    "start_time": "2025-06-10T06:43:55.229Z"
   },
   {
    "duration": 432,
    "start_time": "2025-06-10T06:43:57.298Z"
   },
   {
    "duration": 1890,
    "start_time": "2025-06-10T06:43:57.732Z"
   },
   {
    "duration": 24,
    "start_time": "2025-06-10T06:43:59.624Z"
   },
   {
    "duration": 66,
    "start_time": "2025-06-10T06:43:59.650Z"
   },
   {
    "duration": 1827,
    "start_time": "2025-06-10T06:43:59.718Z"
   },
   {
    "duration": 431,
    "start_time": "2025-06-10T06:44:01.547Z"
   },
   {
    "duration": 1787,
    "start_time": "2025-06-10T06:44:01.980Z"
   },
   {
    "duration": 27,
    "start_time": "2025-06-10T06:44:03.774Z"
   },
   {
    "duration": 313,
    "start_time": "2025-06-10T06:44:03.803Z"
   },
   {
    "duration": 25,
    "start_time": "2025-06-10T06:44:04.118Z"
   },
   {
    "duration": 72,
    "start_time": "2025-06-10T06:44:04.144Z"
   },
   {
    "duration": 1853,
    "start_time": "2025-06-10T06:44:04.218Z"
   },
   {
    "duration": 298,
    "start_time": "2025-06-10T06:44:06.073Z"
   },
   {
    "duration": 539,
    "start_time": "2025-06-10T06:44:06.373Z"
   },
   {
    "duration": 732,
    "start_time": "2025-06-10T06:44:06.914Z"
   },
   {
    "duration": 400,
    "start_time": "2025-06-10T06:44:07.648Z"
   },
   {
    "duration": 121,
    "start_time": "2025-06-10T06:44:08.050Z"
   },
   {
    "duration": 5068,
    "start_time": "2025-06-10T06:44:08.173Z"
   },
   {
    "duration": 1074,
    "start_time": "2025-06-10T06:44:13.243Z"
   },
   {
    "duration": 193,
    "start_time": "2025-06-10T06:44:14.319Z"
   },
   {
    "duration": 162,
    "start_time": "2025-06-10T06:44:14.514Z"
   },
   {
    "duration": 13,
    "start_time": "2025-06-10T06:44:14.678Z"
   },
   {
    "duration": 201,
    "start_time": "2025-06-10T06:44:14.693Z"
   },
   {
    "duration": 0,
    "start_time": "2025-06-10T06:44:14.896Z"
   },
   {
    "duration": 0,
    "start_time": "2025-06-10T06:44:14.898Z"
   },
   {
    "duration": 0,
    "start_time": "2025-06-10T06:44:14.899Z"
   },
   {
    "duration": 0,
    "start_time": "2025-06-10T06:44:14.900Z"
   },
   {
    "duration": 0,
    "start_time": "2025-06-10T06:44:14.901Z"
   },
   {
    "duration": 0,
    "start_time": "2025-06-10T06:44:14.902Z"
   },
   {
    "duration": 0,
    "start_time": "2025-06-10T06:44:14.904Z"
   },
   {
    "duration": 0,
    "start_time": "2025-06-10T06:44:14.906Z"
   },
   {
    "duration": 0,
    "start_time": "2025-06-10T06:44:14.907Z"
   },
   {
    "duration": 0,
    "start_time": "2025-06-10T06:44:14.909Z"
   },
   {
    "duration": 132,
    "start_time": "2025-06-10T06:47:58.217Z"
   },
   {
    "duration": 13,
    "start_time": "2025-06-10T06:48:14.908Z"
   },
   {
    "duration": 9902,
    "start_time": "2025-06-10T06:54:45.691Z"
   },
   {
    "duration": 1770,
    "start_time": "2025-06-10T06:54:55.595Z"
   },
   {
    "duration": 192,
    "start_time": "2025-06-10T06:54:57.367Z"
   },
   {
    "duration": 65,
    "start_time": "2025-06-10T06:54:57.561Z"
   },
   {
    "duration": 5,
    "start_time": "2025-06-10T06:54:57.629Z"
   },
   {
    "duration": 571,
    "start_time": "2025-06-10T06:54:57.636Z"
   },
   {
    "duration": 1199,
    "start_time": "2025-06-10T06:54:58.209Z"
   },
   {
    "duration": 139,
    "start_time": "2025-06-10T06:54:59.410Z"
   },
   {
    "duration": 190,
    "start_time": "2025-06-10T06:54:59.551Z"
   },
   {
    "duration": 193,
    "start_time": "2025-06-10T06:54:59.743Z"
   },
   {
    "duration": 523,
    "start_time": "2025-06-10T06:54:59.938Z"
   },
   {
    "duration": 27,
    "start_time": "2025-06-10T06:55:00.472Z"
   },
   {
    "duration": 110,
    "start_time": "2025-06-10T06:55:00.501Z"
   },
   {
    "duration": 104,
    "start_time": "2025-06-10T06:55:00.614Z"
   },
   {
    "duration": 93,
    "start_time": "2025-06-10T06:55:00.720Z"
   },
   {
    "duration": 89,
    "start_time": "2025-06-10T06:55:00.815Z"
   },
   {
    "duration": 44,
    "start_time": "2025-06-10T06:55:00.905Z"
   },
   {
    "duration": 57,
    "start_time": "2025-06-10T06:55:00.951Z"
   },
   {
    "duration": 39,
    "start_time": "2025-06-10T06:55:01.010Z"
   },
   {
    "duration": 61,
    "start_time": "2025-06-10T06:55:01.052Z"
   },
   {
    "duration": 23,
    "start_time": "2025-06-10T06:55:01.115Z"
   },
   {
    "duration": 64,
    "start_time": "2025-06-10T06:55:01.140Z"
   },
   {
    "duration": 23,
    "start_time": "2025-06-10T06:55:01.206Z"
   },
   {
    "duration": 76,
    "start_time": "2025-06-10T06:55:01.231Z"
   },
   {
    "duration": 105,
    "start_time": "2025-06-10T06:55:01.309Z"
   },
   {
    "duration": 26,
    "start_time": "2025-06-10T06:55:01.416Z"
   },
   {
    "duration": 26,
    "start_time": "2025-06-10T06:55:01.444Z"
   },
   {
    "duration": 95,
    "start_time": "2025-06-10T06:55:01.472Z"
   },
   {
    "duration": 2117,
    "start_time": "2025-06-10T06:55:01.568Z"
   },
   {
    "duration": 28,
    "start_time": "2025-06-10T06:55:03.687Z"
   },
   {
    "duration": 13,
    "start_time": "2025-06-10T06:55:03.717Z"
   },
   {
    "duration": 100,
    "start_time": "2025-06-10T06:55:03.731Z"
   },
   {
    "duration": 2049,
    "start_time": "2025-06-10T06:55:03.832Z"
   },
   {
    "duration": 448,
    "start_time": "2025-06-10T06:55:05.883Z"
   },
   {
    "duration": 1812,
    "start_time": "2025-06-10T06:55:06.333Z"
   },
   {
    "duration": 32,
    "start_time": "2025-06-10T06:55:08.147Z"
   },
   {
    "duration": 52,
    "start_time": "2025-06-10T06:55:08.181Z"
   },
   {
    "duration": 1869,
    "start_time": "2025-06-10T06:55:08.234Z"
   },
   {
    "duration": 407,
    "start_time": "2025-06-10T06:55:10.106Z"
   },
   {
    "duration": 1776,
    "start_time": "2025-06-10T06:55:10.515Z"
   },
   {
    "duration": 25,
    "start_time": "2025-06-10T06:55:12.296Z"
   },
   {
    "duration": 305,
    "start_time": "2025-06-10T06:55:12.323Z"
   },
   {
    "duration": 24,
    "start_time": "2025-06-10T06:55:12.629Z"
   },
   {
    "duration": 68,
    "start_time": "2025-06-10T06:55:12.654Z"
   },
   {
    "duration": 1857,
    "start_time": "2025-06-10T06:55:12.724Z"
   },
   {
    "duration": 266,
    "start_time": "2025-06-10T06:55:14.583Z"
   },
   {
    "duration": 547,
    "start_time": "2025-06-10T06:55:14.851Z"
   },
   {
    "duration": 734,
    "start_time": "2025-06-10T06:55:15.400Z"
   },
   {
    "duration": 396,
    "start_time": "2025-06-10T06:55:16.136Z"
   },
   {
    "duration": 125,
    "start_time": "2025-06-10T06:55:16.534Z"
   },
   {
    "duration": 4959,
    "start_time": "2025-06-10T06:55:16.662Z"
   },
   {
    "duration": 1102,
    "start_time": "2025-06-10T06:55:21.623Z"
   },
   {
    "duration": 194,
    "start_time": "2025-06-10T06:55:22.727Z"
   },
   {
    "duration": 155,
    "start_time": "2025-06-10T06:55:22.922Z"
   },
   {
    "duration": 13,
    "start_time": "2025-06-10T06:55:23.079Z"
   },
   {
    "duration": 146,
    "start_time": "2025-06-10T06:55:23.093Z"
   },
   {
    "duration": 0,
    "start_time": "2025-06-10T06:55:23.240Z"
   },
   {
    "duration": 0,
    "start_time": "2025-06-10T06:55:23.242Z"
   },
   {
    "duration": 0,
    "start_time": "2025-06-10T06:55:23.243Z"
   },
   {
    "duration": 0,
    "start_time": "2025-06-10T06:55:23.244Z"
   },
   {
    "duration": 0,
    "start_time": "2025-06-10T06:55:23.245Z"
   },
   {
    "duration": 0,
    "start_time": "2025-06-10T06:55:23.246Z"
   },
   {
    "duration": 0,
    "start_time": "2025-06-10T06:55:23.247Z"
   },
   {
    "duration": 0,
    "start_time": "2025-06-10T06:55:23.248Z"
   },
   {
    "duration": 0,
    "start_time": "2025-06-10T06:55:23.249Z"
   },
   {
    "duration": 0,
    "start_time": "2025-06-10T06:55:23.250Z"
   },
   {
    "duration": 3596,
    "start_time": "2025-06-10T06:56:14.757Z"
   },
   {
    "duration": 31,
    "start_time": "2025-06-10T06:56:46.294Z"
   },
   {
    "duration": 13,
    "start_time": "2025-06-10T06:57:20.100Z"
   },
   {
    "duration": 32,
    "start_time": "2025-06-10T06:58:44.710Z"
   },
   {
    "duration": 13,
    "start_time": "2025-06-10T06:58:52.963Z"
   },
   {
    "duration": 31,
    "start_time": "2025-06-10T06:58:54.702Z"
   },
   {
    "duration": 9827,
    "start_time": "2025-06-10T06:59:17.241Z"
   },
   {
    "duration": 1650,
    "start_time": "2025-06-10T06:59:27.072Z"
   },
   {
    "duration": 202,
    "start_time": "2025-06-10T06:59:28.724Z"
   },
   {
    "duration": 69,
    "start_time": "2025-06-10T06:59:28.928Z"
   },
   {
    "duration": 4,
    "start_time": "2025-06-10T06:59:29.000Z"
   },
   {
    "duration": 567,
    "start_time": "2025-06-10T06:59:29.006Z"
   },
   {
    "duration": 1223,
    "start_time": "2025-06-10T06:59:29.575Z"
   },
   {
    "duration": 133,
    "start_time": "2025-06-10T06:59:30.800Z"
   },
   {
    "duration": 206,
    "start_time": "2025-06-10T06:59:30.934Z"
   },
   {
    "duration": 196,
    "start_time": "2025-06-10T06:59:31.142Z"
   },
   {
    "duration": 558,
    "start_time": "2025-06-10T06:59:31.340Z"
   },
   {
    "duration": 28,
    "start_time": "2025-06-10T06:59:31.900Z"
   },
   {
    "duration": 130,
    "start_time": "2025-06-10T06:59:31.930Z"
   },
   {
    "duration": 107,
    "start_time": "2025-06-10T06:59:32.070Z"
   },
   {
    "duration": 25,
    "start_time": "2025-06-10T06:59:32.179Z"
   },
   {
    "duration": 45,
    "start_time": "2025-06-10T06:59:32.206Z"
   },
   {
    "duration": 61,
    "start_time": "2025-06-10T06:59:32.272Z"
   },
   {
    "duration": 80,
    "start_time": "2025-06-10T06:59:32.334Z"
   },
   {
    "duration": 23,
    "start_time": "2025-06-10T06:59:32.416Z"
   },
   {
    "duration": 50,
    "start_time": "2025-06-10T06:59:32.442Z"
   },
   {
    "duration": 23,
    "start_time": "2025-06-10T06:59:32.494Z"
   },
   {
    "duration": 70,
    "start_time": "2025-06-10T06:59:32.519Z"
   },
   {
    "duration": 24,
    "start_time": "2025-06-10T06:59:32.591Z"
   },
   {
    "duration": 62,
    "start_time": "2025-06-10T06:59:32.617Z"
   },
   {
    "duration": 99,
    "start_time": "2025-06-10T06:59:32.681Z"
   },
   {
    "duration": 33,
    "start_time": "2025-06-10T06:59:32.782Z"
   },
   {
    "duration": 20,
    "start_time": "2025-06-10T06:59:32.817Z"
   },
   {
    "duration": 73,
    "start_time": "2025-06-10T06:59:32.839Z"
   },
   {
    "duration": 2026,
    "start_time": "2025-06-10T06:59:32.914Z"
   },
   {
    "duration": 35,
    "start_time": "2025-06-10T06:59:34.941Z"
   },
   {
    "duration": 12,
    "start_time": "2025-06-10T06:59:34.978Z"
   },
   {
    "duration": 51,
    "start_time": "2025-06-10T06:59:34.992Z"
   },
   {
    "duration": 2045,
    "start_time": "2025-06-10T06:59:35.044Z"
   },
   {
    "duration": 438,
    "start_time": "2025-06-10T06:59:37.091Z"
   },
   {
    "duration": 1825,
    "start_time": "2025-06-10T06:59:37.531Z"
   },
   {
    "duration": 27,
    "start_time": "2025-06-10T06:59:39.358Z"
   },
   {
    "duration": 43,
    "start_time": "2025-06-10T06:59:39.387Z"
   },
   {
    "duration": 1841,
    "start_time": "2025-06-10T06:59:39.432Z"
   },
   {
    "duration": 403,
    "start_time": "2025-06-10T06:59:41.275Z"
   },
   {
    "duration": 1814,
    "start_time": "2025-06-10T06:59:41.680Z"
   },
   {
    "duration": 28,
    "start_time": "2025-06-10T06:59:43.499Z"
   },
   {
    "duration": 319,
    "start_time": "2025-06-10T06:59:43.529Z"
   },
   {
    "duration": 37,
    "start_time": "2025-06-10T06:59:43.851Z"
   },
   {
    "duration": 55,
    "start_time": "2025-06-10T06:59:43.891Z"
   },
   {
    "duration": 2223,
    "start_time": "2025-06-10T06:59:43.948Z"
   },
   {
    "duration": 538,
    "start_time": "2025-06-10T06:59:46.173Z"
   },
   {
    "duration": 822,
    "start_time": "2025-06-10T06:59:46.713Z"
   },
   {
    "duration": 902,
    "start_time": "2025-06-10T06:59:47.537Z"
   },
   {
    "duration": 394,
    "start_time": "2025-06-10T06:59:48.441Z"
   },
   {
    "duration": 124,
    "start_time": "2025-06-10T06:59:48.836Z"
   },
   {
    "duration": 5020,
    "start_time": "2025-06-10T06:59:48.961Z"
   },
   {
    "duration": 1062,
    "start_time": "2025-06-10T06:59:53.983Z"
   },
   {
    "duration": 187,
    "start_time": "2025-06-10T06:59:55.047Z"
   },
   {
    "duration": 155,
    "start_time": "2025-06-10T06:59:55.235Z"
   },
   {
    "duration": 13,
    "start_time": "2025-06-10T06:59:55.392Z"
   },
   {
    "duration": 9845,
    "start_time": "2025-06-10T07:37:10.971Z"
   },
   {
    "duration": 2247,
    "start_time": "2025-06-10T07:37:20.818Z"
   },
   {
    "duration": 189,
    "start_time": "2025-06-10T07:37:23.067Z"
   },
   {
    "duration": 73,
    "start_time": "2025-06-10T07:37:23.258Z"
   },
   {
    "duration": 5,
    "start_time": "2025-06-10T07:37:23.334Z"
   },
   {
    "duration": 561,
    "start_time": "2025-06-10T07:37:23.341Z"
   },
   {
    "duration": 1180,
    "start_time": "2025-06-10T07:37:23.904Z"
   },
   {
    "duration": 130,
    "start_time": "2025-06-10T07:37:25.086Z"
   },
   {
    "duration": 190,
    "start_time": "2025-06-10T07:37:25.218Z"
   },
   {
    "duration": 189,
    "start_time": "2025-06-10T07:37:25.410Z"
   },
   {
    "duration": 525,
    "start_time": "2025-06-10T07:37:25.600Z"
   },
   {
    "duration": 29,
    "start_time": "2025-06-10T07:37:26.127Z"
   },
   {
    "duration": 127,
    "start_time": "2025-06-10T07:37:26.158Z"
   },
   {
    "duration": 118,
    "start_time": "2025-06-10T07:37:26.288Z"
   },
   {
    "duration": 24,
    "start_time": "2025-06-10T07:37:26.407Z"
   },
   {
    "duration": 54,
    "start_time": "2025-06-10T07:37:26.433Z"
   },
   {
    "duration": 39,
    "start_time": "2025-06-10T07:37:26.488Z"
   },
   {
    "duration": 58,
    "start_time": "2025-06-10T07:37:26.529Z"
   },
   {
    "duration": 22,
    "start_time": "2025-06-10T07:37:26.589Z"
   },
   {
    "duration": 64,
    "start_time": "2025-06-10T07:37:26.612Z"
   },
   {
    "duration": 26,
    "start_time": "2025-06-10T07:37:26.678Z"
   },
   {
    "duration": 59,
    "start_time": "2025-06-10T07:37:26.706Z"
   },
   {
    "duration": 25,
    "start_time": "2025-06-10T07:37:26.770Z"
   },
   {
    "duration": 45,
    "start_time": "2025-06-10T07:37:26.797Z"
   },
   {
    "duration": 127,
    "start_time": "2025-06-10T07:37:26.844Z"
   },
   {
    "duration": 7,
    "start_time": "2025-06-10T07:37:26.973Z"
   },
   {
    "duration": 7,
    "start_time": "2025-06-10T07:37:26.982Z"
   },
   {
    "duration": 86,
    "start_time": "2025-06-10T07:37:26.990Z"
   },
   {
    "duration": 2132,
    "start_time": "2025-06-10T07:37:27.078Z"
   },
   {
    "duration": 27,
    "start_time": "2025-06-10T07:37:29.212Z"
   },
   {
    "duration": 30,
    "start_time": "2025-06-10T07:37:29.241Z"
   },
   {
    "duration": 49,
    "start_time": "2025-06-10T07:37:29.273Z"
   },
   {
    "duration": 2201,
    "start_time": "2025-06-10T07:37:29.323Z"
   },
   {
    "duration": 484,
    "start_time": "2025-06-10T07:37:31.526Z"
   },
   {
    "duration": 1829,
    "start_time": "2025-06-10T07:37:32.012Z"
   },
   {
    "duration": 32,
    "start_time": "2025-06-10T07:37:33.842Z"
   },
   {
    "duration": 72,
    "start_time": "2025-06-10T07:37:33.876Z"
   },
   {
    "duration": 1809,
    "start_time": "2025-06-10T07:37:33.950Z"
   },
   {
    "duration": 419,
    "start_time": "2025-06-10T07:37:35.760Z"
   },
   {
    "duration": 1792,
    "start_time": "2025-06-10T07:37:36.181Z"
   },
   {
    "duration": 29,
    "start_time": "2025-06-10T07:37:37.978Z"
   },
   {
    "duration": 308,
    "start_time": "2025-06-10T07:37:38.009Z"
   },
   {
    "duration": 23,
    "start_time": "2025-06-10T07:37:38.319Z"
   },
   {
    "duration": 71,
    "start_time": "2025-06-10T07:37:38.344Z"
   },
   {
    "duration": 1757,
    "start_time": "2025-06-10T07:37:38.417Z"
   },
   {
    "duration": 269,
    "start_time": "2025-06-10T07:37:40.176Z"
   },
   {
    "duration": 542,
    "start_time": "2025-06-10T07:37:40.447Z"
   },
   {
    "duration": 744,
    "start_time": "2025-06-10T07:37:40.991Z"
   },
   {
    "duration": 396,
    "start_time": "2025-06-10T07:37:41.737Z"
   },
   {
    "duration": 152,
    "start_time": "2025-06-10T07:37:42.134Z"
   },
   {
    "duration": 5115,
    "start_time": "2025-06-10T07:37:42.288Z"
   },
   {
    "duration": 1016,
    "start_time": "2025-06-10T07:37:47.405Z"
   },
   {
    "duration": 191,
    "start_time": "2025-06-10T07:37:48.423Z"
   },
   {
    "duration": 177,
    "start_time": "2025-06-10T07:37:48.616Z"
   },
   {
    "duration": 13,
    "start_time": "2025-06-10T07:37:48.795Z"
   },
   {
    "duration": 164,
    "start_time": "2025-06-10T07:37:48.810Z"
   },
   {
    "duration": 0,
    "start_time": "2025-06-10T07:37:48.976Z"
   },
   {
    "duration": 0,
    "start_time": "2025-06-10T07:37:48.977Z"
   },
   {
    "duration": 0,
    "start_time": "2025-06-10T07:37:48.978Z"
   },
   {
    "duration": 0,
    "start_time": "2025-06-10T07:37:48.980Z"
   },
   {
    "duration": 0,
    "start_time": "2025-06-10T07:37:48.981Z"
   },
   {
    "duration": 0,
    "start_time": "2025-06-10T07:37:48.982Z"
   },
   {
    "duration": 0,
    "start_time": "2025-06-10T07:37:48.983Z"
   },
   {
    "duration": 0,
    "start_time": "2025-06-10T07:37:48.985Z"
   },
   {
    "duration": 0,
    "start_time": "2025-06-10T07:37:48.986Z"
   },
   {
    "duration": 0,
    "start_time": "2025-06-10T07:37:48.988Z"
   },
   {
    "duration": 69,
    "start_time": "2025-06-10T07:41:26.307Z"
   },
   {
    "duration": 6,
    "start_time": "2025-06-10T07:42:43.827Z"
   },
   {
    "duration": 26,
    "start_time": "2025-06-10T07:42:49.662Z"
   },
   {
    "duration": 9931,
    "start_time": "2025-06-10T07:55:34.216Z"
   },
   {
    "duration": 2166,
    "start_time": "2025-06-10T07:55:44.149Z"
   },
   {
    "duration": 212,
    "start_time": "2025-06-10T07:55:46.317Z"
   },
   {
    "duration": 67,
    "start_time": "2025-06-10T07:55:46.531Z"
   },
   {
    "duration": 5,
    "start_time": "2025-06-10T07:55:46.600Z"
   },
   {
    "duration": 686,
    "start_time": "2025-06-10T07:55:46.607Z"
   },
   {
    "duration": 1161,
    "start_time": "2025-06-10T07:55:47.295Z"
   },
   {
    "duration": 132,
    "start_time": "2025-06-10T07:55:48.458Z"
   },
   {
    "duration": 194,
    "start_time": "2025-06-10T07:55:48.592Z"
   },
   {
    "duration": 194,
    "start_time": "2025-06-10T07:55:48.789Z"
   },
   {
    "duration": 550,
    "start_time": "2025-06-10T07:55:48.985Z"
   },
   {
    "duration": 38,
    "start_time": "2025-06-10T07:55:49.537Z"
   },
   {
    "duration": 111,
    "start_time": "2025-06-10T07:55:49.577Z"
   },
   {
    "duration": 104,
    "start_time": "2025-06-10T07:55:49.690Z"
   },
   {
    "duration": 61,
    "start_time": "2025-06-10T07:55:49.795Z"
   },
   {
    "duration": 106,
    "start_time": "2025-06-10T07:55:49.858Z"
   },
   {
    "duration": 39,
    "start_time": "2025-06-10T07:55:49.966Z"
   },
   {
    "duration": 45,
    "start_time": "2025-06-10T07:55:50.006Z"
   },
   {
    "duration": 26,
    "start_time": "2025-06-10T07:55:50.052Z"
   },
   {
    "duration": 57,
    "start_time": "2025-06-10T07:55:50.080Z"
   },
   {
    "duration": 24,
    "start_time": "2025-06-10T07:55:50.138Z"
   },
   {
    "duration": 48,
    "start_time": "2025-06-10T07:55:50.164Z"
   },
   {
    "duration": 23,
    "start_time": "2025-06-10T07:55:50.213Z"
   },
   {
    "duration": 56,
    "start_time": "2025-06-10T07:55:50.238Z"
   },
   {
    "duration": 106,
    "start_time": "2025-06-10T07:55:50.296Z"
   },
   {
    "duration": 32,
    "start_time": "2025-06-10T07:55:50.404Z"
   },
   {
    "duration": 7,
    "start_time": "2025-06-10T07:55:50.438Z"
   },
   {
    "duration": 72,
    "start_time": "2025-06-10T07:55:50.451Z"
   },
   {
    "duration": 2049,
    "start_time": "2025-06-10T07:55:50.525Z"
   },
   {
    "duration": 25,
    "start_time": "2025-06-10T07:55:52.576Z"
   },
   {
    "duration": 12,
    "start_time": "2025-06-10T07:55:52.603Z"
   },
   {
    "duration": 74,
    "start_time": "2025-06-10T07:55:52.616Z"
   },
   {
    "duration": 2021,
    "start_time": "2025-06-10T07:55:52.691Z"
   },
   {
    "duration": 447,
    "start_time": "2025-06-10T07:55:54.714Z"
   },
   {
    "duration": 1928,
    "start_time": "2025-06-10T07:55:55.163Z"
   },
   {
    "duration": 25,
    "start_time": "2025-06-10T07:55:57.092Z"
   },
   {
    "duration": 64,
    "start_time": "2025-06-10T07:55:57.119Z"
   },
   {
    "duration": 1771,
    "start_time": "2025-06-10T07:55:57.185Z"
   },
   {
    "duration": 386,
    "start_time": "2025-06-10T07:55:58.958Z"
   },
   {
    "duration": 1827,
    "start_time": "2025-06-10T07:55:59.346Z"
   },
   {
    "duration": 25,
    "start_time": "2025-06-10T07:56:01.175Z"
   },
   {
    "duration": 323,
    "start_time": "2025-06-10T07:56:01.202Z"
   },
   {
    "duration": 23,
    "start_time": "2025-06-10T07:56:01.527Z"
   },
   {
    "duration": 69,
    "start_time": "2025-06-10T07:56:01.552Z"
   },
   {
    "duration": 1884,
    "start_time": "2025-06-10T07:56:01.623Z"
   },
   {
    "duration": 274,
    "start_time": "2025-06-10T07:56:03.509Z"
   },
   {
    "duration": 547,
    "start_time": "2025-06-10T07:56:03.784Z"
   },
   {
    "duration": 739,
    "start_time": "2025-06-10T07:56:04.333Z"
   },
   {
    "duration": 384,
    "start_time": "2025-06-10T07:56:05.074Z"
   },
   {
    "duration": 122,
    "start_time": "2025-06-10T07:56:05.460Z"
   },
   {
    "duration": 4952,
    "start_time": "2025-06-10T07:56:05.584Z"
   },
   {
    "duration": 1072,
    "start_time": "2025-06-10T07:56:10.537Z"
   },
   {
    "duration": 195,
    "start_time": "2025-06-10T07:56:11.611Z"
   },
   {
    "duration": 164,
    "start_time": "2025-06-10T07:56:11.808Z"
   },
   {
    "duration": 303,
    "start_time": "2025-06-10T07:56:11.973Z"
   },
   {
    "duration": 0,
    "start_time": "2025-06-10T07:56:12.278Z"
   },
   {
    "duration": 0,
    "start_time": "2025-06-10T07:56:12.279Z"
   },
   {
    "duration": 0,
    "start_time": "2025-06-10T07:56:12.280Z"
   },
   {
    "duration": 0,
    "start_time": "2025-06-10T07:56:12.282Z"
   },
   {
    "duration": 0,
    "start_time": "2025-06-10T07:56:12.283Z"
   },
   {
    "duration": 0,
    "start_time": "2025-06-10T07:56:12.284Z"
   },
   {
    "duration": 0,
    "start_time": "2025-06-10T07:56:12.286Z"
   },
   {
    "duration": 0,
    "start_time": "2025-06-10T07:56:12.287Z"
   },
   {
    "duration": 0,
    "start_time": "2025-06-10T07:56:12.289Z"
   },
   {
    "duration": 0,
    "start_time": "2025-06-10T07:56:12.290Z"
   },
   {
    "duration": 0,
    "start_time": "2025-06-10T07:56:12.291Z"
   },
   {
    "duration": 100,
    "start_time": "2025-06-10T07:59:47.896Z"
   },
   {
    "duration": 6,
    "start_time": "2025-06-10T08:00:28.693Z"
   },
   {
    "duration": 144,
    "start_time": "2025-06-10T08:00:33.923Z"
   },
   {
    "duration": 32,
    "start_time": "2025-06-10T08:01:19.684Z"
   },
   {
    "duration": 6,
    "start_time": "2025-06-10T08:01:48.409Z"
   },
   {
    "duration": 30,
    "start_time": "2025-06-10T08:01:53.507Z"
   },
   {
    "duration": 7,
    "start_time": "2025-06-10T08:06:41.531Z"
   },
   {
    "duration": 31,
    "start_time": "2025-06-10T08:06:45.012Z"
   },
   {
    "duration": 6,
    "start_time": "2025-06-10T08:07:33.960Z"
   },
   {
    "duration": 27,
    "start_time": "2025-06-10T08:07:35.596Z"
   },
   {
    "duration": 5,
    "start_time": "2025-06-10T08:08:06.011Z"
   },
   {
    "duration": 10182,
    "start_time": "2025-06-10T08:10:40.068Z"
   },
   {
    "duration": 2454,
    "start_time": "2025-06-10T08:10:50.252Z"
   },
   {
    "duration": 210,
    "start_time": "2025-06-10T08:10:52.708Z"
   },
   {
    "duration": 72,
    "start_time": "2025-06-10T08:10:52.920Z"
   },
   {
    "duration": 7,
    "start_time": "2025-06-10T08:10:52.995Z"
   },
   {
    "duration": 586,
    "start_time": "2025-06-10T08:10:53.003Z"
   },
   {
    "duration": 1239,
    "start_time": "2025-06-10T08:10:53.591Z"
   },
   {
    "duration": 130,
    "start_time": "2025-06-10T08:10:54.832Z"
   },
   {
    "duration": 206,
    "start_time": "2025-06-10T08:10:54.964Z"
   },
   {
    "duration": 195,
    "start_time": "2025-06-10T08:10:55.172Z"
   },
   {
    "duration": 547,
    "start_time": "2025-06-10T08:10:55.372Z"
   },
   {
    "duration": 28,
    "start_time": "2025-06-10T08:10:55.920Z"
   },
   {
    "duration": 125,
    "start_time": "2025-06-10T08:10:55.950Z"
   },
   {
    "duration": 114,
    "start_time": "2025-06-10T08:10:56.079Z"
   },
   {
    "duration": 54,
    "start_time": "2025-06-10T08:10:56.196Z"
   },
   {
    "duration": 42,
    "start_time": "2025-06-10T08:10:56.252Z"
   },
   {
    "duration": 53,
    "start_time": "2025-06-10T08:10:56.296Z"
   },
   {
    "duration": 44,
    "start_time": "2025-06-10T08:10:56.350Z"
   },
   {
    "duration": 19,
    "start_time": "2025-06-10T08:10:56.396Z"
   },
   {
    "duration": 61,
    "start_time": "2025-06-10T08:10:56.417Z"
   },
   {
    "duration": 23,
    "start_time": "2025-06-10T08:10:56.480Z"
   },
   {
    "duration": 68,
    "start_time": "2025-06-10T08:10:56.505Z"
   },
   {
    "duration": 24,
    "start_time": "2025-06-10T08:10:56.575Z"
   },
   {
    "duration": 56,
    "start_time": "2025-06-10T08:10:56.601Z"
   },
   {
    "duration": 100,
    "start_time": "2025-06-10T08:10:56.659Z"
   },
   {
    "duration": 6,
    "start_time": "2025-06-10T08:10:56.771Z"
   },
   {
    "duration": 8,
    "start_time": "2025-06-10T08:10:56.779Z"
   },
   {
    "duration": 90,
    "start_time": "2025-06-10T08:10:56.788Z"
   },
   {
    "duration": 2113,
    "start_time": "2025-06-10T08:10:56.880Z"
   },
   {
    "duration": 26,
    "start_time": "2025-06-10T08:10:58.994Z"
   },
   {
    "duration": 17,
    "start_time": "2025-06-10T08:10:59.021Z"
   },
   {
    "duration": 68,
    "start_time": "2025-06-10T08:10:59.039Z"
   },
   {
    "duration": 2119,
    "start_time": "2025-06-10T08:10:59.108Z"
   },
   {
    "duration": 450,
    "start_time": "2025-06-10T08:11:01.229Z"
   },
   {
    "duration": 1837,
    "start_time": "2025-06-10T08:11:01.681Z"
   },
   {
    "duration": 23,
    "start_time": "2025-06-10T08:11:03.520Z"
   },
   {
    "duration": 64,
    "start_time": "2025-06-10T08:11:03.545Z"
   },
   {
    "duration": 1757,
    "start_time": "2025-06-10T08:11:03.611Z"
   },
   {
    "duration": 400,
    "start_time": "2025-06-10T08:11:05.372Z"
   },
   {
    "duration": 1790,
    "start_time": "2025-06-10T08:11:05.774Z"
   },
   {
    "duration": 29,
    "start_time": "2025-06-10T08:11:07.570Z"
   },
   {
    "duration": 315,
    "start_time": "2025-06-10T08:11:07.601Z"
   },
   {
    "duration": 23,
    "start_time": "2025-06-10T08:11:07.918Z"
   },
   {
    "duration": 87,
    "start_time": "2025-06-10T08:11:07.943Z"
   },
   {
    "duration": 2003,
    "start_time": "2025-06-10T08:11:08.031Z"
   },
   {
    "duration": 279,
    "start_time": "2025-06-10T08:11:10.036Z"
   },
   {
    "duration": 561,
    "start_time": "2025-06-10T08:11:10.317Z"
   },
   {
    "duration": 778,
    "start_time": "2025-06-10T08:11:10.880Z"
   },
   {
    "duration": 396,
    "start_time": "2025-06-10T08:11:11.660Z"
   },
   {
    "duration": 122,
    "start_time": "2025-06-10T08:11:12.058Z"
   },
   {
    "duration": 5025,
    "start_time": "2025-06-10T08:11:12.181Z"
   },
   {
    "duration": 1048,
    "start_time": "2025-06-10T08:11:17.209Z"
   },
   {
    "duration": 199,
    "start_time": "2025-06-10T08:11:18.259Z"
   },
   {
    "duration": 172,
    "start_time": "2025-06-10T08:11:18.460Z"
   },
   {
    "duration": 7,
    "start_time": "2025-06-10T08:11:18.634Z"
   },
   {
    "duration": 10219,
    "start_time": "2025-06-10T08:15:50.293Z"
   },
   {
    "duration": 1821,
    "start_time": "2025-06-10T08:16:00.515Z"
   },
   {
    "duration": 200,
    "start_time": "2025-06-10T08:16:02.338Z"
   },
   {
    "duration": 72,
    "start_time": "2025-06-10T08:16:02.541Z"
   },
   {
    "duration": 6,
    "start_time": "2025-06-10T08:16:02.615Z"
   },
   {
    "duration": 603,
    "start_time": "2025-06-10T08:16:02.623Z"
   },
   {
    "duration": 1275,
    "start_time": "2025-06-10T08:16:03.228Z"
   },
   {
    "duration": 134,
    "start_time": "2025-06-10T08:16:04.505Z"
   },
   {
    "duration": 204,
    "start_time": "2025-06-10T08:16:04.641Z"
   },
   {
    "duration": 200,
    "start_time": "2025-06-10T08:16:04.848Z"
   },
   {
    "duration": 550,
    "start_time": "2025-06-10T08:16:05.049Z"
   },
   {
    "duration": 27,
    "start_time": "2025-06-10T08:16:05.600Z"
   },
   {
    "duration": 125,
    "start_time": "2025-06-10T08:16:05.628Z"
   },
   {
    "duration": 104,
    "start_time": "2025-06-10T08:16:05.755Z"
   },
   {
    "duration": 48,
    "start_time": "2025-06-10T08:16:05.861Z"
   },
   {
    "duration": 110,
    "start_time": "2025-06-10T08:16:05.911Z"
   },
   {
    "duration": 47,
    "start_time": "2025-06-10T08:16:06.024Z"
   },
   {
    "duration": 91,
    "start_time": "2025-06-10T08:16:06.073Z"
   },
   {
    "duration": 35,
    "start_time": "2025-06-10T08:16:06.167Z"
   },
   {
    "duration": 67,
    "start_time": "2025-06-10T08:16:06.204Z"
   },
   {
    "duration": 30,
    "start_time": "2025-06-10T08:16:06.273Z"
   },
   {
    "duration": 109,
    "start_time": "2025-06-10T08:16:06.305Z"
   },
   {
    "duration": 25,
    "start_time": "2025-06-10T08:16:06.415Z"
   },
   {
    "duration": 56,
    "start_time": "2025-06-10T08:16:06.441Z"
   },
   {
    "duration": 153,
    "start_time": "2025-06-10T08:16:06.499Z"
   },
   {
    "duration": 17,
    "start_time": "2025-06-10T08:16:06.654Z"
   },
   {
    "duration": 16,
    "start_time": "2025-06-10T08:16:06.673Z"
   },
   {
    "duration": 73,
    "start_time": "2025-06-10T08:16:06.693Z"
   },
   {
    "duration": 2202,
    "start_time": "2025-06-10T08:16:06.772Z"
   },
   {
    "duration": 27,
    "start_time": "2025-06-10T08:16:08.976Z"
   },
   {
    "duration": 57,
    "start_time": "2025-06-10T08:16:09.005Z"
   },
   {
    "duration": 51,
    "start_time": "2025-06-10T08:16:09.064Z"
   },
   {
    "duration": 2147,
    "start_time": "2025-06-10T08:16:09.117Z"
   },
   {
    "duration": 444,
    "start_time": "2025-06-10T08:16:11.270Z"
   },
   {
    "duration": 1818,
    "start_time": "2025-06-10T08:16:11.715Z"
   },
   {
    "duration": 23,
    "start_time": "2025-06-10T08:16:13.535Z"
   },
   {
    "duration": 47,
    "start_time": "2025-06-10T08:16:13.571Z"
   },
   {
    "duration": 1745,
    "start_time": "2025-06-10T08:16:13.620Z"
   },
   {
    "duration": 415,
    "start_time": "2025-06-10T08:16:15.366Z"
   },
   {
    "duration": 1802,
    "start_time": "2025-06-10T08:16:15.783Z"
   },
   {
    "duration": 26,
    "start_time": "2025-06-10T08:16:17.587Z"
   },
   {
    "duration": 297,
    "start_time": "2025-06-10T08:16:17.615Z"
   },
   {
    "duration": 24,
    "start_time": "2025-06-10T08:16:17.913Z"
   },
   {
    "duration": 92,
    "start_time": "2025-06-10T08:16:17.938Z"
   },
   {
    "duration": 1798,
    "start_time": "2025-06-10T08:16:18.031Z"
   },
   {
    "duration": 286,
    "start_time": "2025-06-10T08:16:19.831Z"
   },
   {
    "duration": 568,
    "start_time": "2025-06-10T08:16:20.119Z"
   },
   {
    "duration": 764,
    "start_time": "2025-06-10T08:16:20.689Z"
   },
   {
    "duration": 391,
    "start_time": "2025-06-10T08:16:21.455Z"
   },
   {
    "duration": 124,
    "start_time": "2025-06-10T08:16:21.847Z"
   },
   {
    "duration": 5113,
    "start_time": "2025-06-10T08:16:21.973Z"
   },
   {
    "duration": 1057,
    "start_time": "2025-06-10T08:16:27.088Z"
   },
   {
    "duration": 193,
    "start_time": "2025-06-10T08:16:28.147Z"
   },
   {
    "duration": 171,
    "start_time": "2025-06-10T08:16:28.342Z"
   },
   {
    "duration": 6,
    "start_time": "2025-06-10T08:16:28.515Z"
   },
   {
    "duration": 9937,
    "start_time": "2025-06-10T08:19:12.601Z"
   },
   {
    "duration": 1711,
    "start_time": "2025-06-10T08:19:22.541Z"
   },
   {
    "duration": 186,
    "start_time": "2025-06-10T08:19:24.254Z"
   },
   {
    "duration": 71,
    "start_time": "2025-06-10T08:19:24.442Z"
   },
   {
    "duration": 5,
    "start_time": "2025-06-10T08:19:24.516Z"
   },
   {
    "duration": 578,
    "start_time": "2025-06-10T08:19:24.522Z"
   },
   {
    "duration": 1201,
    "start_time": "2025-06-10T08:19:25.102Z"
   },
   {
    "duration": 125,
    "start_time": "2025-06-10T08:19:26.304Z"
   },
   {
    "duration": 200,
    "start_time": "2025-06-10T08:19:26.431Z"
   },
   {
    "duration": 194,
    "start_time": "2025-06-10T08:19:26.634Z"
   },
   {
    "duration": 544,
    "start_time": "2025-06-10T08:19:26.830Z"
   },
   {
    "duration": 28,
    "start_time": "2025-06-10T08:19:27.376Z"
   },
   {
    "duration": 120,
    "start_time": "2025-06-10T08:19:27.406Z"
   },
   {
    "duration": 105,
    "start_time": "2025-06-10T08:19:27.528Z"
   },
   {
    "duration": 23,
    "start_time": "2025-06-10T08:19:27.635Z"
   },
   {
    "duration": 42,
    "start_time": "2025-06-10T08:19:27.672Z"
   },
   {
    "duration": 56,
    "start_time": "2025-06-10T08:19:27.716Z"
   },
   {
    "duration": 52,
    "start_time": "2025-06-10T08:19:27.774Z"
   },
   {
    "duration": 32,
    "start_time": "2025-06-10T08:19:27.828Z"
   },
   {
    "duration": 44,
    "start_time": "2025-06-10T08:19:27.871Z"
   },
   {
    "duration": 24,
    "start_time": "2025-06-10T08:19:27.917Z"
   },
   {
    "duration": 77,
    "start_time": "2025-06-10T08:19:27.942Z"
   },
   {
    "duration": 24,
    "start_time": "2025-06-10T08:19:28.021Z"
   },
   {
    "duration": 42,
    "start_time": "2025-06-10T08:19:28.046Z"
   },
   {
    "duration": 106,
    "start_time": "2025-06-10T08:19:28.089Z"
   },
   {
    "duration": 6,
    "start_time": "2025-06-10T08:19:28.197Z"
   },
   {
    "duration": 5,
    "start_time": "2025-06-10T08:19:28.205Z"
   },
   {
    "duration": 92,
    "start_time": "2025-06-10T08:19:28.215Z"
   },
   {
    "duration": 1980,
    "start_time": "2025-06-10T08:19:28.309Z"
   },
   {
    "duration": 28,
    "start_time": "2025-06-10T08:19:30.291Z"
   },
   {
    "duration": 13,
    "start_time": "2025-06-10T08:19:30.321Z"
   },
   {
    "duration": 73,
    "start_time": "2025-06-10T08:19:30.336Z"
   },
   {
    "duration": 2123,
    "start_time": "2025-06-10T08:19:30.411Z"
   },
   {
    "duration": 445,
    "start_time": "2025-06-10T08:19:32.536Z"
   },
   {
    "duration": 1840,
    "start_time": "2025-06-10T08:19:32.983Z"
   },
   {
    "duration": 25,
    "start_time": "2025-06-10T08:19:34.825Z"
   },
   {
    "duration": 66,
    "start_time": "2025-06-10T08:19:34.852Z"
   },
   {
    "duration": 1846,
    "start_time": "2025-06-10T08:19:34.919Z"
   },
   {
    "duration": 391,
    "start_time": "2025-06-10T08:19:36.771Z"
   },
   {
    "duration": 1815,
    "start_time": "2025-06-10T08:19:37.172Z"
   },
   {
    "duration": 27,
    "start_time": "2025-06-10T08:19:38.990Z"
   },
   {
    "duration": 305,
    "start_time": "2025-06-10T08:19:39.019Z"
   },
   {
    "duration": 23,
    "start_time": "2025-06-10T08:19:39.326Z"
   },
   {
    "duration": 70,
    "start_time": "2025-06-10T08:19:39.352Z"
   },
   {
    "duration": 1897,
    "start_time": "2025-06-10T08:19:39.425Z"
   },
   {
    "duration": 267,
    "start_time": "2025-06-10T08:19:41.324Z"
   },
   {
    "duration": 540,
    "start_time": "2025-06-10T08:19:41.593Z"
   },
   {
    "duration": 751,
    "start_time": "2025-06-10T08:19:42.135Z"
   },
   {
    "duration": 400,
    "start_time": "2025-06-10T08:19:42.887Z"
   },
   {
    "duration": 122,
    "start_time": "2025-06-10T08:19:43.289Z"
   },
   {
    "duration": 5305,
    "start_time": "2025-06-10T08:19:43.413Z"
   },
   {
    "duration": 1110,
    "start_time": "2025-06-10T08:19:48.719Z"
   },
   {
    "duration": 153,
    "start_time": "2025-06-10T08:19:49.831Z"
   },
   {
    "duration": 0,
    "start_time": "2025-06-10T08:19:49.986Z"
   },
   {
    "duration": 0,
    "start_time": "2025-06-10T08:19:49.987Z"
   },
   {
    "duration": 0,
    "start_time": "2025-06-10T08:19:49.988Z"
   },
   {
    "duration": 0,
    "start_time": "2025-06-10T08:19:49.989Z"
   },
   {
    "duration": 0,
    "start_time": "2025-06-10T08:19:49.991Z"
   },
   {
    "duration": 0,
    "start_time": "2025-06-10T08:19:49.992Z"
   },
   {
    "duration": 0,
    "start_time": "2025-06-10T08:19:49.993Z"
   },
   {
    "duration": 0,
    "start_time": "2025-06-10T08:19:49.994Z"
   },
   {
    "duration": 0,
    "start_time": "2025-06-10T08:19:49.996Z"
   },
   {
    "duration": 0,
    "start_time": "2025-06-10T08:19:49.997Z"
   },
   {
    "duration": 0,
    "start_time": "2025-06-10T08:19:49.998Z"
   },
   {
    "duration": 0,
    "start_time": "2025-06-10T08:19:50.000Z"
   },
   {
    "duration": 0,
    "start_time": "2025-06-10T08:19:50.001Z"
   },
   {
    "duration": 189,
    "start_time": "2025-06-10T08:20:23.902Z"
   },
   {
    "duration": 146,
    "start_time": "2025-06-10T08:20:29.227Z"
   },
   {
    "duration": 7,
    "start_time": "2025-06-10T08:20:33.018Z"
   },
   {
    "duration": 10259,
    "start_time": "2025-06-10T08:36:31.965Z"
   },
   {
    "duration": 2385,
    "start_time": "2025-06-10T08:36:42.227Z"
   },
   {
    "duration": 206,
    "start_time": "2025-06-10T08:36:44.614Z"
   },
   {
    "duration": 76,
    "start_time": "2025-06-10T08:36:44.823Z"
   },
   {
    "duration": 5,
    "start_time": "2025-06-10T08:36:44.901Z"
   },
   {
    "duration": 597,
    "start_time": "2025-06-10T08:36:44.909Z"
   },
   {
    "duration": 1264,
    "start_time": "2025-06-10T08:36:45.508Z"
   },
   {
    "duration": 134,
    "start_time": "2025-06-10T08:36:46.774Z"
   },
   {
    "duration": 203,
    "start_time": "2025-06-10T08:36:46.910Z"
   },
   {
    "duration": 203,
    "start_time": "2025-06-10T08:36:47.116Z"
   },
   {
    "duration": 538,
    "start_time": "2025-06-10T08:36:47.320Z"
   },
   {
    "duration": 36,
    "start_time": "2025-06-10T08:36:47.860Z"
   },
   {
    "duration": 134,
    "start_time": "2025-06-10T08:36:47.899Z"
   },
   {
    "duration": 97,
    "start_time": "2025-06-10T08:36:48.035Z"
   },
   {
    "duration": 38,
    "start_time": "2025-06-10T08:36:48.134Z"
   },
   {
    "duration": 44,
    "start_time": "2025-06-10T08:36:48.174Z"
   },
   {
    "duration": 55,
    "start_time": "2025-06-10T08:36:48.220Z"
   },
   {
    "duration": 67,
    "start_time": "2025-06-10T08:36:48.277Z"
   },
   {
    "duration": 37,
    "start_time": "2025-06-10T08:36:48.346Z"
   },
   {
    "duration": 45,
    "start_time": "2025-06-10T08:36:48.385Z"
   },
   {
    "duration": 49,
    "start_time": "2025-06-10T08:36:48.433Z"
   },
   {
    "duration": 41,
    "start_time": "2025-06-10T08:36:48.485Z"
   },
   {
    "duration": 44,
    "start_time": "2025-06-10T08:36:48.529Z"
   },
   {
    "duration": 130,
    "start_time": "2025-06-10T08:36:48.574Z"
   },
   {
    "duration": 101,
    "start_time": "2025-06-10T08:36:48.706Z"
   },
   {
    "duration": 6,
    "start_time": "2025-06-10T08:36:48.809Z"
   },
   {
    "duration": 6,
    "start_time": "2025-06-10T08:36:48.817Z"
   },
   {
    "duration": 94,
    "start_time": "2025-06-10T08:36:48.826Z"
   },
   {
    "duration": 2074,
    "start_time": "2025-06-10T08:36:48.922Z"
   },
   {
    "duration": 29,
    "start_time": "2025-06-10T08:36:50.998Z"
   },
   {
    "duration": 13,
    "start_time": "2025-06-10T08:36:51.029Z"
   },
   {
    "duration": 106,
    "start_time": "2025-06-10T08:36:51.044Z"
   },
   {
    "duration": 2142,
    "start_time": "2025-06-10T08:36:51.152Z"
   },
   {
    "duration": 465,
    "start_time": "2025-06-10T08:36:53.296Z"
   },
   {
    "duration": 1863,
    "start_time": "2025-06-10T08:36:53.770Z"
   },
   {
    "duration": 38,
    "start_time": "2025-06-10T08:36:55.635Z"
   },
   {
    "duration": 60,
    "start_time": "2025-06-10T08:36:55.675Z"
   },
   {
    "duration": 1859,
    "start_time": "2025-06-10T08:36:55.737Z"
   },
   {
    "duration": 394,
    "start_time": "2025-06-10T08:36:57.599Z"
   },
   {
    "duration": 1798,
    "start_time": "2025-06-10T08:36:57.995Z"
   },
   {
    "duration": 28,
    "start_time": "2025-06-10T08:36:59.796Z"
   },
   {
    "duration": 311,
    "start_time": "2025-06-10T08:36:59.827Z"
   },
   {
    "duration": 38,
    "start_time": "2025-06-10T08:37:00.141Z"
   },
   {
    "duration": 100,
    "start_time": "2025-06-10T08:37:00.180Z"
   },
   {
    "duration": 1983,
    "start_time": "2025-06-10T08:37:00.282Z"
   },
   {
    "duration": 274,
    "start_time": "2025-06-10T08:37:02.270Z"
   },
   {
    "duration": 543,
    "start_time": "2025-06-10T08:37:02.546Z"
   },
   {
    "duration": 757,
    "start_time": "2025-06-10T08:37:03.091Z"
   },
   {
    "duration": 402,
    "start_time": "2025-06-10T08:37:03.850Z"
   },
   {
    "duration": 131,
    "start_time": "2025-06-10T08:37:04.254Z"
   },
   {
    "duration": 5142,
    "start_time": "2025-06-10T08:37:04.388Z"
   },
   {
    "duration": 1168,
    "start_time": "2025-06-10T08:37:09.533Z"
   },
   {
    "duration": 196,
    "start_time": "2025-06-10T08:37:10.703Z"
   },
   {
    "duration": 183,
    "start_time": "2025-06-10T08:37:10.901Z"
   },
   {
    "duration": 98,
    "start_time": "2025-06-10T08:37:11.086Z"
   },
   {
    "duration": 0,
    "start_time": "2025-06-10T08:37:11.186Z"
   },
   {
    "duration": 0,
    "start_time": "2025-06-10T08:37:11.187Z"
   },
   {
    "duration": 0,
    "start_time": "2025-06-10T08:37:11.188Z"
   },
   {
    "duration": 1,
    "start_time": "2025-06-10T08:37:11.189Z"
   },
   {
    "duration": 0,
    "start_time": "2025-06-10T08:37:11.191Z"
   },
   {
    "duration": 0,
    "start_time": "2025-06-10T08:37:11.192Z"
   },
   {
    "duration": 0,
    "start_time": "2025-06-10T08:37:11.194Z"
   },
   {
    "duration": 0,
    "start_time": "2025-06-10T08:37:11.195Z"
   },
   {
    "duration": 0,
    "start_time": "2025-06-10T08:37:11.196Z"
   },
   {
    "duration": 0,
    "start_time": "2025-06-10T08:37:11.198Z"
   },
   {
    "duration": 0,
    "start_time": "2025-06-10T08:37:11.199Z"
   },
   {
    "duration": 104,
    "start_time": "2025-06-10T08:37:49.166Z"
   },
   {
    "duration": 331,
    "start_time": "2025-06-10T08:38:08.457Z"
   },
   {
    "duration": 6,
    "start_time": "2025-06-10T08:38:21.668Z"
   },
   {
    "duration": 9978,
    "start_time": "2025-06-10T09:11:02.467Z"
   },
   {
    "duration": 1770,
    "start_time": "2025-06-10T09:11:12.447Z"
   },
   {
    "duration": 197,
    "start_time": "2025-06-10T09:11:14.219Z"
   },
   {
    "duration": 70,
    "start_time": "2025-06-10T09:11:14.418Z"
   },
   {
    "duration": 6,
    "start_time": "2025-06-10T09:11:14.489Z"
   },
   {
    "duration": 549,
    "start_time": "2025-06-10T09:11:14.496Z"
   },
   {
    "duration": 1237,
    "start_time": "2025-06-10T09:11:15.046Z"
   },
   {
    "duration": 127,
    "start_time": "2025-06-10T09:11:16.284Z"
   },
   {
    "duration": 192,
    "start_time": "2025-06-10T09:11:16.413Z"
   },
   {
    "duration": 194,
    "start_time": "2025-06-10T09:11:16.608Z"
   },
   {
    "duration": 532,
    "start_time": "2025-06-10T09:11:16.804Z"
   },
   {
    "duration": 41,
    "start_time": "2025-06-10T09:11:17.337Z"
   },
   {
    "duration": 112,
    "start_time": "2025-06-10T09:11:17.379Z"
   },
   {
    "duration": 103,
    "start_time": "2025-06-10T09:11:17.492Z"
   },
   {
    "duration": 29,
    "start_time": "2025-06-10T09:11:17.597Z"
   },
   {
    "duration": 57,
    "start_time": "2025-06-10T09:11:17.628Z"
   },
   {
    "duration": 40,
    "start_time": "2025-06-10T09:11:17.687Z"
   },
   {
    "duration": 58,
    "start_time": "2025-06-10T09:11:17.729Z"
   },
   {
    "duration": 31,
    "start_time": "2025-06-10T09:11:17.789Z"
   },
   {
    "duration": 62,
    "start_time": "2025-06-10T09:11:17.822Z"
   },
   {
    "duration": 25,
    "start_time": "2025-06-10T09:11:17.886Z"
   },
   {
    "duration": 53,
    "start_time": "2025-06-10T09:11:17.913Z"
   },
   {
    "duration": 24,
    "start_time": "2025-06-10T09:11:17.972Z"
   },
   {
    "duration": 60,
    "start_time": "2025-06-10T09:11:17.998Z"
   },
   {
    "duration": 162,
    "start_time": "2025-06-10T09:11:18.060Z"
   },
   {
    "duration": 6,
    "start_time": "2025-06-10T09:11:18.225Z"
   },
   {
    "duration": 5,
    "start_time": "2025-06-10T09:11:18.233Z"
   },
   {
    "duration": 87,
    "start_time": "2025-06-10T09:11:18.243Z"
   },
   {
    "duration": 2004,
    "start_time": "2025-06-10T09:11:18.332Z"
   },
   {
    "duration": 41,
    "start_time": "2025-06-10T09:11:20.338Z"
   },
   {
    "duration": 14,
    "start_time": "2025-06-10T09:11:20.381Z"
   },
   {
    "duration": 48,
    "start_time": "2025-06-10T09:11:20.397Z"
   },
   {
    "duration": 2071,
    "start_time": "2025-06-10T09:11:20.447Z"
   },
   {
    "duration": 458,
    "start_time": "2025-06-10T09:11:22.520Z"
   },
   {
    "duration": 1775,
    "start_time": "2025-06-10T09:11:22.980Z"
   },
   {
    "duration": 33,
    "start_time": "2025-06-10T09:11:24.758Z"
   },
   {
    "duration": 54,
    "start_time": "2025-06-10T09:11:24.794Z"
   },
   {
    "duration": 1854,
    "start_time": "2025-06-10T09:11:24.850Z"
   },
   {
    "duration": 409,
    "start_time": "2025-06-10T09:11:26.707Z"
   },
   {
    "duration": 1853,
    "start_time": "2025-06-10T09:11:27.118Z"
   },
   {
    "duration": 26,
    "start_time": "2025-06-10T09:11:28.973Z"
   },
   {
    "duration": 303,
    "start_time": "2025-06-10T09:11:29.001Z"
   },
   {
    "duration": 24,
    "start_time": "2025-06-10T09:11:29.306Z"
   },
   {
    "duration": 74,
    "start_time": "2025-06-10T09:11:29.332Z"
   },
   {
    "duration": 1823,
    "start_time": "2025-06-10T09:11:29.408Z"
   },
   {
    "duration": 276,
    "start_time": "2025-06-10T09:11:31.234Z"
   },
   {
    "duration": 564,
    "start_time": "2025-06-10T09:11:31.512Z"
   },
   {
    "duration": 779,
    "start_time": "2025-06-10T09:11:32.077Z"
   },
   {
    "duration": 386,
    "start_time": "2025-06-10T09:11:32.859Z"
   },
   {
    "duration": 124,
    "start_time": "2025-06-10T09:11:33.248Z"
   },
   {
    "duration": 4946,
    "start_time": "2025-06-10T09:11:33.374Z"
   },
   {
    "duration": 1111,
    "start_time": "2025-06-10T09:11:38.322Z"
   },
   {
    "duration": 194,
    "start_time": "2025-06-10T09:11:39.435Z"
   },
   {
    "duration": 156,
    "start_time": "2025-06-10T09:11:39.631Z"
   },
   {
    "duration": 6,
    "start_time": "2025-06-10T09:11:39.789Z"
   },
   {
    "duration": 9883,
    "start_time": "2025-06-10T09:14:06.665Z"
   },
   {
    "duration": 2157,
    "start_time": "2025-06-10T09:14:16.550Z"
   },
   {
    "duration": 201,
    "start_time": "2025-06-10T09:14:18.710Z"
   },
   {
    "duration": 70,
    "start_time": "2025-06-10T09:14:18.913Z"
   },
   {
    "duration": 6,
    "start_time": "2025-06-10T09:14:18.985Z"
   },
   {
    "duration": 564,
    "start_time": "2025-06-10T09:14:18.992Z"
   },
   {
    "duration": 1206,
    "start_time": "2025-06-10T09:14:19.558Z"
   },
   {
    "duration": 129,
    "start_time": "2025-06-10T09:14:20.770Z"
   },
   {
    "duration": 208,
    "start_time": "2025-06-10T09:14:20.900Z"
   },
   {
    "duration": 197,
    "start_time": "2025-06-10T09:14:21.111Z"
   },
   {
    "duration": 532,
    "start_time": "2025-06-10T09:14:21.310Z"
   },
   {
    "duration": 42,
    "start_time": "2025-06-10T09:14:21.845Z"
   },
   {
    "duration": 114,
    "start_time": "2025-06-10T09:14:21.889Z"
   },
   {
    "duration": 107,
    "start_time": "2025-06-10T09:14:22.006Z"
   },
   {
    "duration": 38,
    "start_time": "2025-06-10T09:14:22.116Z"
   },
   {
    "duration": 61,
    "start_time": "2025-06-10T09:14:22.157Z"
   },
   {
    "duration": 55,
    "start_time": "2025-06-10T09:14:22.221Z"
   },
   {
    "duration": 45,
    "start_time": "2025-06-10T09:14:22.278Z"
   },
   {
    "duration": 46,
    "start_time": "2025-06-10T09:14:22.325Z"
   },
   {
    "duration": 45,
    "start_time": "2025-06-10T09:14:22.373Z"
   },
   {
    "duration": 23,
    "start_time": "2025-06-10T09:14:22.420Z"
   },
   {
    "duration": 59,
    "start_time": "2025-06-10T09:14:22.445Z"
   },
   {
    "duration": 23,
    "start_time": "2025-06-10T09:14:22.506Z"
   },
   {
    "duration": 59,
    "start_time": "2025-06-10T09:14:22.531Z"
   },
   {
    "duration": 101,
    "start_time": "2025-06-10T09:14:22.592Z"
   },
   {
    "duration": 6,
    "start_time": "2025-06-10T09:14:22.695Z"
   },
   {
    "duration": 5,
    "start_time": "2025-06-10T09:14:22.702Z"
   },
   {
    "duration": 87,
    "start_time": "2025-06-10T09:14:22.711Z"
   },
   {
    "duration": 2031,
    "start_time": "2025-06-10T09:14:22.800Z"
   },
   {
    "duration": 27,
    "start_time": "2025-06-10T09:14:24.833Z"
   },
   {
    "duration": 12,
    "start_time": "2025-06-10T09:14:24.872Z"
   },
   {
    "duration": 50,
    "start_time": "2025-06-10T09:14:24.886Z"
   },
   {
    "duration": 2094,
    "start_time": "2025-06-10T09:14:24.937Z"
   },
   {
    "duration": 438,
    "start_time": "2025-06-10T09:14:27.033Z"
   },
   {
    "duration": 1762,
    "start_time": "2025-06-10T09:14:27.473Z"
   },
   {
    "duration": 21,
    "start_time": "2025-06-10T09:14:29.237Z"
   },
   {
    "duration": 71,
    "start_time": "2025-06-10T09:14:29.260Z"
   },
   {
    "duration": 1848,
    "start_time": "2025-06-10T09:14:29.333Z"
   },
   {
    "duration": 407,
    "start_time": "2025-06-10T09:14:31.183Z"
   },
   {
    "duration": 1767,
    "start_time": "2025-06-10T09:14:31.592Z"
   },
   {
    "duration": 33,
    "start_time": "2025-06-10T09:14:33.361Z"
   },
   {
    "duration": 296,
    "start_time": "2025-06-10T09:14:33.396Z"
   },
   {
    "duration": 24,
    "start_time": "2025-06-10T09:14:33.694Z"
   },
   {
    "duration": 78,
    "start_time": "2025-06-10T09:14:33.720Z"
   },
   {
    "duration": 1779,
    "start_time": "2025-06-10T09:14:33.800Z"
   },
   {
    "duration": 274,
    "start_time": "2025-06-10T09:14:35.581Z"
   },
   {
    "duration": 555,
    "start_time": "2025-06-10T09:14:35.857Z"
   },
   {
    "duration": 735,
    "start_time": "2025-06-10T09:14:36.413Z"
   },
   {
    "duration": 386,
    "start_time": "2025-06-10T09:14:37.150Z"
   },
   {
    "duration": 128,
    "start_time": "2025-06-10T09:14:37.539Z"
   },
   {
    "duration": 4993,
    "start_time": "2025-06-10T09:14:37.672Z"
   },
   {
    "duration": 1064,
    "start_time": "2025-06-10T09:14:42.670Z"
   },
   {
    "duration": 198,
    "start_time": "2025-06-10T09:14:43.736Z"
   },
   {
    "duration": 163,
    "start_time": "2025-06-10T09:14:43.936Z"
   },
   {
    "duration": 6,
    "start_time": "2025-06-10T09:14:44.101Z"
   },
   {
    "duration": 2529984,
    "start_time": "2025-06-10T09:14:44.109Z"
   },
   {
    "duration": 171,
    "start_time": "2025-06-10T09:56:54.095Z"
   },
   {
    "duration": 0,
    "start_time": "2025-06-10T09:56:54.267Z"
   },
   {
    "duration": 0,
    "start_time": "2025-06-10T09:56:54.271Z"
   },
   {
    "duration": 0,
    "start_time": "2025-06-10T09:56:54.273Z"
   },
   {
    "duration": 1,
    "start_time": "2025-06-10T09:56:54.273Z"
   },
   {
    "duration": 0,
    "start_time": "2025-06-10T09:56:54.275Z"
   },
   {
    "duration": 0,
    "start_time": "2025-06-10T09:56:54.276Z"
   },
   {
    "duration": 0,
    "start_time": "2025-06-10T09:56:54.277Z"
   },
   {
    "duration": 0,
    "start_time": "2025-06-10T09:56:54.278Z"
   },
   {
    "duration": 0,
    "start_time": "2025-06-10T09:56:54.279Z"
   },
   {
    "duration": 9,
    "start_time": "2025-06-10T10:04:27.040Z"
   },
   {
    "duration": 12,
    "start_time": "2025-06-10T10:07:35.249Z"
   },
   {
    "duration": 6,
    "start_time": "2025-06-10T10:09:04.049Z"
   },
   {
    "duration": 16,
    "start_time": "2025-06-10T10:09:23.599Z"
   },
   {
    "duration": 82137,
    "start_time": "2025-06-10T10:13:33.049Z"
   },
   {
    "duration": 3414,
    "start_time": "2025-06-10T10:16:08.789Z"
   },
   {
    "duration": 11,
    "start_time": "2025-06-10T10:16:16.371Z"
   },
   {
    "duration": 6,
    "start_time": "2025-06-10T10:16:39.509Z"
   },
   {
    "duration": 8350,
    "start_time": "2025-06-10T10:18:42.620Z"
   },
   {
    "duration": 204569,
    "start_time": "2025-06-10T10:19:47.021Z"
   },
   {
    "duration": 3582,
    "start_time": "2025-06-10T10:23:11.592Z"
   },
   {
    "duration": 6,
    "start_time": "2025-06-10T10:23:15.175Z"
   },
   {
    "duration": 5,
    "start_time": "2025-06-10T10:23:54.813Z"
   },
   {
    "duration": 7,
    "start_time": "2025-06-10T10:24:14.070Z"
   },
   {
    "duration": 197,
    "start_time": "2025-06-10T10:24:19.698Z"
   },
   {
    "duration": 11,
    "start_time": "2025-06-10T10:24:26.559Z"
   },
   {
    "duration": 45,
    "start_time": "2025-06-10T10:24:29.425Z"
   },
   {
    "duration": 1826,
    "start_time": "2025-06-10T10:32:11.046Z"
   },
   {
    "duration": 7,
    "start_time": "2025-06-10T10:32:31.655Z"
   },
   {
    "duration": 9,
    "start_time": "2025-06-10T10:32:42.387Z"
   },
   {
    "duration": 49,
    "start_time": "2025-06-10T10:32:45.760Z"
   },
   {
    "duration": 1932,
    "start_time": "2025-06-10T10:32:49.241Z"
   },
   {
    "duration": 14,
    "start_time": "2025-06-10T10:33:04.090Z"
   },
   {
    "duration": 12,
    "start_time": "2025-06-10T10:33:11.667Z"
   },
   {
    "duration": 5,
    "start_time": "2025-06-10T10:34:18.431Z"
   },
   {
    "duration": 10,
    "start_time": "2025-06-10T10:36:24.691Z"
   },
   {
    "duration": 17,
    "start_time": "2025-06-10T10:37:14.377Z"
   },
   {
    "duration": 9272,
    "start_time": "2025-06-10T10:37:41.504Z"
   },
   {
    "duration": 18,
    "start_time": "2025-06-10T10:37:51.016Z"
   },
   {
    "duration": 9,
    "start_time": "2025-06-10T10:38:47.440Z"
   },
   {
    "duration": 11,
    "start_time": "2025-06-10T10:39:15.802Z"
   },
   {
    "duration": 9410,
    "start_time": "2025-06-10T10:39:38.535Z"
   },
   {
    "duration": 20,
    "start_time": "2025-06-10T10:39:47.948Z"
   },
   {
    "duration": 5,
    "start_time": "2025-06-10T10:40:13.556Z"
   },
   {
    "duration": 764,
    "start_time": "2025-06-10T10:41:03.834Z"
   },
   {
    "duration": 21,
    "start_time": "2025-06-10T10:41:33.837Z"
   },
   {
    "duration": 717,
    "start_time": "2025-06-10T10:41:46.842Z"
   },
   {
    "duration": 25,
    "start_time": "2025-06-10T10:42:02.715Z"
   },
   {
    "duration": 748,
    "start_time": "2025-06-10T10:42:09.279Z"
   },
   {
    "duration": 8,
    "start_time": "2025-06-10T10:42:53.401Z"
   },
   {
    "duration": 12,
    "start_time": "2025-06-10T10:43:03.457Z"
   },
   {
    "duration": 59,
    "start_time": "2025-06-10T10:43:06.917Z"
   },
   {
    "duration": 14,
    "start_time": "2025-06-10T10:43:20.560Z"
   },
   {
    "duration": 9,
    "start_time": "2025-06-10T10:43:25.760Z"
   },
   {
    "duration": 18,
    "start_time": "2025-06-10T10:43:27.715Z"
   },
   {
    "duration": 6,
    "start_time": "2025-06-10T10:43:34.978Z"
   },
   {
    "duration": 733,
    "start_time": "2025-06-10T10:43:37.641Z"
   },
   {
    "duration": 7,
    "start_time": "2025-06-10T10:46:43.291Z"
   },
   {
    "duration": 196,
    "start_time": "2025-06-10T10:46:43.701Z"
   },
   {
    "duration": 11,
    "start_time": "2025-06-10T10:46:45.339Z"
   },
   {
    "duration": 45,
    "start_time": "2025-06-10T10:46:45.852Z"
   },
   {
    "duration": 1921,
    "start_time": "2025-06-10T10:46:46.365Z"
   },
   {
    "duration": 102,
    "start_time": "2025-06-10T10:46:48.373Z"
   },
   {
    "duration": 20,
    "start_time": "2025-06-10T10:46:49.129Z"
   },
   {
    "duration": 10,
    "start_time": "2025-06-10T10:58:28.522Z"
   },
   {
    "duration": 24,
    "start_time": "2025-06-10T10:58:39.714Z"
   },
   {
    "duration": 1589,
    "start_time": "2025-06-10T10:58:57.194Z"
   },
   {
    "duration": 18,
    "start_time": "2025-06-10T11:00:09.079Z"
   },
   {
    "duration": 23,
    "start_time": "2025-06-10T11:01:50.761Z"
   },
   {
    "duration": 1803,
    "start_time": "2025-06-10T11:01:54.968Z"
   },
   {
    "duration": 22,
    "start_time": "2025-06-10T11:03:05.533Z"
   },
   {
    "duration": 1805,
    "start_time": "2025-06-10T11:03:07.767Z"
   },
   {
    "duration": 15,
    "start_time": "2025-06-10T11:03:38.690Z"
   },
   {
    "duration": 8,
    "start_time": "2025-06-10T11:10:54.199Z"
   },
   {
    "duration": 11,
    "start_time": "2025-06-10T11:11:47.639Z"
   },
   {
    "duration": 11,
    "start_time": "2025-06-10T11:12:45.945Z"
   },
   {
    "duration": 11,
    "start_time": "2025-06-10T11:13:07.348Z"
   },
   {
    "duration": 21,
    "start_time": "2025-06-10T11:14:06.840Z"
   },
   {
    "duration": 18,
    "start_time": "2025-06-10T11:16:11.677Z"
   },
   {
    "duration": 16,
    "start_time": "2025-06-10T11:16:44.426Z"
   },
   {
    "duration": 9830,
    "start_time": "2025-06-10T11:17:03.704Z"
   },
   {
    "duration": 2604,
    "start_time": "2025-06-10T11:17:13.536Z"
   },
   {
    "duration": 211,
    "start_time": "2025-06-10T11:17:16.142Z"
   },
   {
    "duration": 74,
    "start_time": "2025-06-10T11:17:16.355Z"
   },
   {
    "duration": 5,
    "start_time": "2025-06-10T11:17:16.431Z"
   },
   {
    "duration": 562,
    "start_time": "2025-06-10T11:17:16.437Z"
   },
   {
    "duration": 1234,
    "start_time": "2025-06-10T11:17:17.001Z"
   },
   {
    "duration": 123,
    "start_time": "2025-06-10T11:17:18.237Z"
   },
   {
    "duration": 190,
    "start_time": "2025-06-10T11:17:18.370Z"
   },
   {
    "duration": 196,
    "start_time": "2025-06-10T11:17:18.562Z"
   },
   {
    "duration": 536,
    "start_time": "2025-06-10T11:17:18.760Z"
   },
   {
    "duration": 26,
    "start_time": "2025-06-10T11:17:19.297Z"
   },
   {
    "duration": 122,
    "start_time": "2025-06-10T11:17:19.325Z"
   },
   {
    "duration": 99,
    "start_time": "2025-06-10T11:17:19.463Z"
   },
   {
    "duration": 24,
    "start_time": "2025-06-10T11:17:19.571Z"
   },
   {
    "duration": 42,
    "start_time": "2025-06-10T11:17:19.597Z"
   },
   {
    "duration": 55,
    "start_time": "2025-06-10T11:17:19.641Z"
   },
   {
    "duration": 57,
    "start_time": "2025-06-10T11:17:19.698Z"
   },
   {
    "duration": 20,
    "start_time": "2025-06-10T11:17:19.757Z"
   },
   {
    "duration": 44,
    "start_time": "2025-06-10T11:17:19.779Z"
   },
   {
    "duration": 65,
    "start_time": "2025-06-10T11:17:19.825Z"
   },
   {
    "duration": 51,
    "start_time": "2025-06-10T11:17:19.892Z"
   },
   {
    "duration": 24,
    "start_time": "2025-06-10T11:17:19.946Z"
   },
   {
    "duration": 47,
    "start_time": "2025-06-10T11:17:19.972Z"
   },
   {
    "duration": 100,
    "start_time": "2025-06-10T11:17:20.021Z"
   },
   {
    "duration": 6,
    "start_time": "2025-06-10T11:17:20.123Z"
   },
   {
    "duration": 7,
    "start_time": "2025-06-10T11:17:20.131Z"
   },
   {
    "duration": 79,
    "start_time": "2025-06-10T11:17:20.139Z"
   },
   {
    "duration": 2065,
    "start_time": "2025-06-10T11:17:20.220Z"
   },
   {
    "duration": 38,
    "start_time": "2025-06-10T11:17:22.288Z"
   },
   {
    "duration": 16,
    "start_time": "2025-06-10T11:17:22.329Z"
   },
   {
    "duration": 49,
    "start_time": "2025-06-10T11:17:22.372Z"
   },
   {
    "duration": 2060,
    "start_time": "2025-06-10T11:17:22.422Z"
   },
   {
    "duration": 443,
    "start_time": "2025-06-10T11:17:24.484Z"
   },
   {
    "duration": 1878,
    "start_time": "2025-06-10T11:17:24.929Z"
   },
   {
    "duration": 25,
    "start_time": "2025-06-10T11:17:26.809Z"
   },
   {
    "duration": 68,
    "start_time": "2025-06-10T11:17:26.836Z"
   },
   {
    "duration": 1856,
    "start_time": "2025-06-10T11:17:26.906Z"
   },
   {
    "duration": 403,
    "start_time": "2025-06-10T11:17:28.772Z"
   },
   {
    "duration": 1807,
    "start_time": "2025-06-10T11:17:29.177Z"
   },
   {
    "duration": 28,
    "start_time": "2025-06-10T11:17:30.988Z"
   },
   {
    "duration": 313,
    "start_time": "2025-06-10T11:17:31.018Z"
   },
   {
    "duration": 24,
    "start_time": "2025-06-10T11:17:31.333Z"
   },
   {
    "duration": 104,
    "start_time": "2025-06-10T11:17:31.371Z"
   },
   {
    "duration": 1846,
    "start_time": "2025-06-10T11:17:31.477Z"
   },
   {
    "duration": 273,
    "start_time": "2025-06-10T11:17:33.324Z"
   },
   {
    "duration": 553,
    "start_time": "2025-06-10T11:17:33.598Z"
   },
   {
    "duration": 751,
    "start_time": "2025-06-10T11:17:34.153Z"
   },
   {
    "duration": 388,
    "start_time": "2025-06-10T11:17:34.906Z"
   },
   {
    "duration": 126,
    "start_time": "2025-06-10T11:17:35.296Z"
   },
   {
    "duration": 5066,
    "start_time": "2025-06-10T11:17:35.424Z"
   },
   {
    "duration": 1041,
    "start_time": "2025-06-10T11:17:40.492Z"
   },
   {
    "duration": 208,
    "start_time": "2025-06-10T11:17:41.535Z"
   },
   {
    "duration": 160,
    "start_time": "2025-06-10T11:17:41.745Z"
   },
   {
    "duration": 6,
    "start_time": "2025-06-10T11:17:41.907Z"
   },
   {
    "duration": 3896169,
    "start_time": "2025-06-10T11:17:41.915Z"
   },
   {
    "duration": 8,
    "start_time": "2025-06-10T12:22:38.086Z"
   },
   {
    "duration": 86384,
    "start_time": "2025-06-10T12:22:38.096Z"
   },
   {
    "duration": 3452,
    "start_time": "2025-06-10T12:24:04.481Z"
   },
   {
    "duration": 5,
    "start_time": "2025-06-10T12:24:07.935Z"
   },
   {
    "duration": 34,
    "start_time": "2025-06-10T12:24:07.942Z"
   },
   {
    "duration": 215,
    "start_time": "2025-06-10T12:24:07.978Z"
   },
   {
    "duration": 9,
    "start_time": "2025-06-10T12:24:08.195Z"
   },
   {
    "duration": 67,
    "start_time": "2025-06-10T12:24:08.206Z"
   },
   {
    "duration": 1801,
    "start_time": "2025-06-10T12:24:08.275Z"
   },
   {
    "duration": 100,
    "start_time": "2025-06-10T12:24:10.081Z"
   },
   {
    "duration": 93,
    "start_time": "2025-06-10T12:24:10.183Z"
   },
   {
    "duration": 197,
    "start_time": "2025-06-10T12:24:10.279Z"
   },
   {
    "duration": 7,
    "start_time": "2025-06-10T12:28:01.718Z"
   },
   {
    "duration": 196,
    "start_time": "2025-06-10T12:28:08.236Z"
   },
   {
    "duration": 483,
    "start_time": "2025-06-10T12:28:15.802Z"
   },
   {
    "duration": 92659,
    "start_time": "2025-06-10T12:28:20.318Z"
   },
   {
    "duration": 292,
    "start_time": "2025-06-10T12:29:52.980Z"
   },
   {
    "duration": 145,
    "start_time": "2025-06-10T12:30:03.428Z"
   },
   {
    "duration": 17,
    "start_time": "2025-06-10T12:30:14.178Z"
   },
   {
    "duration": 196,
    "start_time": "2025-06-10T12:30:39.058Z"
   },
   {
    "duration": 17,
    "start_time": "2025-06-10T12:30:50.225Z"
   },
   {
    "duration": 17,
    "start_time": "2025-06-10T12:31:00.873Z"
   },
   {
    "duration": 138,
    "start_time": "2025-06-10T12:31:34.971Z"
   },
   {
    "duration": 16,
    "start_time": "2025-06-10T12:31:52.687Z"
   },
   {
    "duration": 15,
    "start_time": "2025-06-10T12:32:04.054Z"
   },
   {
    "duration": 3135,
    "start_time": "2025-06-10T14:23:46.655Z"
   },
   {
    "duration": 8,
    "start_time": "2025-06-10T15:26:05.697Z"
   },
   {
    "duration": 138,
    "start_time": "2025-06-10T15:26:08.366Z"
   },
   {
    "duration": 125,
    "start_time": "2025-06-10T15:27:35.927Z"
   },
   {
    "duration": 117,
    "start_time": "2025-06-10T15:30:39.301Z"
   },
   {
    "duration": 31,
    "start_time": "2025-06-10T15:31:32.769Z"
   },
   {
    "duration": 119,
    "start_time": "2025-06-10T15:31:54.477Z"
   },
   {
    "duration": 217,
    "start_time": "2025-06-10T15:34:52.144Z"
   },
   {
    "duration": 6,
    "start_time": "2025-06-10T15:35:02.176Z"
   },
   {
    "duration": 192,
    "start_time": "2025-06-10T15:35:04.533Z"
   },
   {
    "duration": 182,
    "start_time": "2025-06-10T15:35:13.980Z"
   },
   {
    "duration": 177,
    "start_time": "2025-06-10T15:35:21.636Z"
   },
   {
    "duration": 186,
    "start_time": "2025-06-10T15:35:28.596Z"
   },
   {
    "duration": 6,
    "start_time": "2025-06-10T15:49:25.245Z"
   },
   {
    "duration": 184,
    "start_time": "2025-06-10T15:49:27.406Z"
   },
   {
    "duration": 12,
    "start_time": "2025-06-10T15:51:04.641Z"
   },
   {
    "duration": 588,
    "start_time": "2025-06-10T15:51:20.345Z"
   },
   {
    "duration": 21,
    "start_time": "2025-06-10T15:51:38.120Z"
   },
   {
    "duration": 11,
    "start_time": "2025-06-10T15:52:26.933Z"
   },
   {
    "duration": 20,
    "start_time": "2025-06-10T15:52:32.895Z"
   },
   {
    "duration": 7,
    "start_time": "2025-06-10T15:53:08.433Z"
   },
   {
    "duration": 178,
    "start_time": "2025-06-10T15:53:12.306Z"
   },
   {
    "duration": 550,
    "start_time": "2025-06-10T15:53:20.807Z"
   },
   {
    "duration": 7,
    "start_time": "2025-06-10T15:53:27.720Z"
   },
   {
    "duration": 177,
    "start_time": "2025-06-10T15:53:29.327Z"
   },
   {
    "duration": 559,
    "start_time": "2025-06-10T15:53:33.777Z"
   },
   {
    "duration": 11,
    "start_time": "2025-06-10T15:53:42.769Z"
   },
   {
    "duration": 6,
    "start_time": "2025-06-10T15:53:50.679Z"
   },
   {
    "duration": 180,
    "start_time": "2025-06-10T15:53:52.415Z"
   },
   {
    "duration": 12,
    "start_time": "2025-06-10T15:53:57.549Z"
   },
   {
    "duration": 567,
    "start_time": "2025-06-10T15:54:02.559Z"
   },
   {
    "duration": 21,
    "start_time": "2025-06-10T15:54:21.854Z"
   },
   {
    "duration": 7,
    "start_time": "2025-06-10T15:54:53.078Z"
   },
   {
    "duration": 181,
    "start_time": "2025-06-10T15:54:55.206Z"
   },
   {
    "duration": 610,
    "start_time": "2025-06-10T15:55:00.893Z"
   },
   {
    "duration": 11,
    "start_time": "2025-06-10T15:55:22.696Z"
   },
   {
    "duration": 6,
    "start_time": "2025-06-10T15:56:00.729Z"
   },
   {
    "duration": 182,
    "start_time": "2025-06-10T15:56:02.466Z"
   },
   {
    "duration": 573,
    "start_time": "2025-06-10T15:56:08.193Z"
   },
   {
    "duration": 12,
    "start_time": "2025-06-10T15:56:11.350Z"
   },
   {
    "duration": 4,
    "start_time": "2025-06-10T15:56:22.902Z"
   },
   {
    "duration": 136,
    "start_time": "2025-06-10T15:59:25.782Z"
   },
   {
    "duration": 12,
    "start_time": "2025-06-10T16:02:09.329Z"
   },
   {
    "duration": 7478,
    "start_time": "2025-06-10T16:02:22.193Z"
   },
   {
    "duration": 18,
    "start_time": "2025-06-10T16:03:48.974Z"
   },
   {
    "duration": 6,
    "start_time": "2025-06-10T16:05:27.906Z"
   },
   {
    "duration": 289,
    "start_time": "2025-06-10T16:07:09.590Z"
   },
   {
    "duration": 7,
    "start_time": "2025-06-10T16:07:20.553Z"
   },
   {
    "duration": 32,
    "start_time": "2025-06-10T16:07:25.450Z"
   },
   {
    "duration": 41,
    "start_time": "2025-06-10T16:08:02.011Z"
   },
   {
    "duration": 44,
    "start_time": "2025-06-10T16:14:23.526Z"
   },
   {
    "duration": 8019,
    "start_time": "2025-06-10T16:14:31.761Z"
   },
   {
    "duration": 8,
    "start_time": "2025-06-10T16:15:05.459Z"
   },
   {
    "duration": 8094,
    "start_time": "2025-06-10T16:15:07.281Z"
   },
   {
    "duration": 8231,
    "start_time": "2025-06-10T16:18:06.741Z"
   },
   {
    "duration": 490,
    "start_time": "2025-06-10T16:18:49.203Z"
   },
   {
    "duration": 6,
    "start_time": "2025-06-10T16:18:58.913Z"
   },
   {
    "duration": 509,
    "start_time": "2025-06-10T16:19:00.481Z"
   },
   {
    "duration": 511,
    "start_time": "2025-06-10T16:19:40.523Z"
   },
   {
    "duration": 8086,
    "start_time": "2025-06-10T16:20:18.188Z"
   },
   {
    "duration": 24,
    "start_time": "2025-06-10T16:23:34.489Z"
   },
   {
    "duration": 7,
    "start_time": "2025-06-10T16:23:47.973Z"
   },
   {
    "duration": 192,
    "start_time": "2025-06-10T16:23:56.948Z"
   },
   {
    "duration": 305,
    "start_time": "2025-06-10T16:24:27.531Z"
   },
   {
    "duration": 564,
    "start_time": "2025-06-10T16:25:48.189Z"
   },
   {
    "duration": 6,
    "start_time": "2025-06-10T16:26:29.945Z"
   },
   {
    "duration": 189,
    "start_time": "2025-06-10T16:26:32.638Z"
   },
   {
    "duration": 571,
    "start_time": "2025-06-10T16:26:54.327Z"
   },
   {
    "duration": 137805,
    "start_time": "2025-06-10T16:27:10.867Z"
   },
   {
    "duration": 8,
    "start_time": "2025-06-10T16:48:28.685Z"
   },
   {
    "duration": 6,
    "start_time": "2025-06-10T16:48:32.771Z"
   },
   {
    "duration": 16,
    "start_time": "2025-06-10T16:48:41.207Z"
   },
   {
    "duration": 6,
    "start_time": "2025-06-10T16:50:18.904Z"
   },
   {
    "duration": 195,
    "start_time": "2025-06-10T16:50:23.532Z"
   },
   {
    "duration": 577,
    "start_time": "2025-06-10T16:50:30.747Z"
   },
   {
    "duration": 4,
    "start_time": "2025-06-10T16:50:37.279Z"
   },
   {
    "duration": 12,
    "start_time": "2025-06-10T16:50:50.327Z"
   },
   {
    "duration": 133854,
    "start_time": "2025-06-10T16:51:01.819Z"
   },
   {
    "duration": 5,
    "start_time": "2025-06-10T16:53:33.823Z"
   },
   {
    "duration": 7,
    "start_time": "2025-06-10T16:53:42.159Z"
   },
   {
    "duration": 16,
    "start_time": "2025-06-10T16:53:50.237Z"
   },
   {
    "duration": 5,
    "start_time": "2025-06-10T16:59:12.740Z"
   },
   {
    "duration": 5,
    "start_time": "2025-06-10T16:59:24.940Z"
   },
   {
    "duration": 206,
    "start_time": "2025-06-10T17:21:12.597Z"
   },
   {
    "duration": 201,
    "start_time": "2025-06-10T17:24:33.641Z"
   },
   {
    "duration": 199,
    "start_time": "2025-06-10T17:26:59.836Z"
   },
   {
    "duration": 196,
    "start_time": "2025-06-10T17:29:47.498Z"
   },
   {
    "duration": 176,
    "start_time": "2025-06-10T17:29:59.344Z"
   },
   {
    "duration": 177,
    "start_time": "2025-06-10T17:30:07.536Z"
   },
   {
    "duration": 189,
    "start_time": "2025-06-10T17:30:30.883Z"
   },
   {
    "duration": 174,
    "start_time": "2025-06-10T17:30:54.128Z"
   },
   {
    "duration": 176,
    "start_time": "2025-06-10T17:31:17.369Z"
   },
   {
    "duration": 182,
    "start_time": "2025-06-10T17:31:34.167Z"
   },
   {
    "duration": 174,
    "start_time": "2025-06-10T17:33:25.692Z"
   },
   {
    "duration": 176,
    "start_time": "2025-06-10T17:34:21.899Z"
   },
   {
    "duration": 176,
    "start_time": "2025-06-10T17:34:41.049Z"
   },
   {
    "duration": 222,
    "start_time": "2025-06-10T17:34:52.311Z"
   },
   {
    "duration": 172,
    "start_time": "2025-06-10T17:35:04.812Z"
   },
   {
    "duration": 203,
    "start_time": "2025-06-10T17:35:20.329Z"
   },
   {
    "duration": 227,
    "start_time": "2025-06-10T17:35:32.862Z"
   },
   {
    "duration": 179,
    "start_time": "2025-06-10T17:35:56.621Z"
   },
   {
    "duration": 208,
    "start_time": "2025-06-10T17:36:04.887Z"
   },
   {
    "duration": 132,
    "start_time": "2025-06-10T17:36:16.706Z"
   },
   {
    "duration": 482,
    "start_time": "2025-06-10T17:36:37.476Z"
   },
   {
    "duration": 5,
    "start_time": "2025-06-10T17:54:27.354Z"
   },
   {
    "duration": 218,
    "start_time": "2025-06-10T17:55:22.139Z"
   },
   {
    "duration": 5,
    "start_time": "2025-06-10T17:56:03.406Z"
   },
   {
    "duration": 207,
    "start_time": "2025-06-10T17:56:06.082Z"
   },
   {
    "duration": 5,
    "start_time": "2025-06-10T17:57:00.036Z"
   },
   {
    "duration": 563,
    "start_time": "2025-06-10T17:57:00.560Z"
   },
   {
    "duration": 5,
    "start_time": "2025-06-10T17:57:11.400Z"
   },
   {
    "duration": 203,
    "start_time": "2025-06-10T17:57:13.550Z"
   },
   {
    "duration": 5,
    "start_time": "2025-06-10T17:57:43.867Z"
   },
   {
    "duration": 226,
    "start_time": "2025-06-10T17:57:44.473Z"
   },
   {
    "duration": 4,
    "start_time": "2025-06-10T17:57:56.456Z"
   },
   {
    "duration": 189,
    "start_time": "2025-06-10T17:57:56.865Z"
   },
   {
    "duration": 6,
    "start_time": "2025-06-10T17:58:05.979Z"
   },
   {
    "duration": 211,
    "start_time": "2025-06-10T17:58:07.203Z"
   },
   {
    "duration": 5,
    "start_time": "2025-06-10T17:59:43.883Z"
   },
   {
    "duration": 200,
    "start_time": "2025-06-10T17:59:44.599Z"
   },
   {
    "duration": 7,
    "start_time": "2025-06-10T18:00:53.095Z"
   },
   {
    "duration": 190,
    "start_time": "2025-06-10T18:00:56.373Z"
   },
   {
    "duration": 577,
    "start_time": "2025-06-10T18:01:02.212Z"
   },
   {
    "duration": 135138,
    "start_time": "2025-06-10T18:01:07.433Z"
   },
   {
    "duration": 5,
    "start_time": "2025-06-10T18:03:32.738Z"
   },
   {
    "duration": 7,
    "start_time": "2025-06-10T18:03:37.254Z"
   },
   {
    "duration": 17,
    "start_time": "2025-06-10T18:04:45.339Z"
   },
   {
    "duration": 3221,
    "start_time": "2025-06-10T18:04:58.652Z"
   },
   {
    "duration": 5,
    "start_time": "2025-06-10T18:20:15.854Z"
   },
   {
    "duration": 196,
    "start_time": "2025-06-10T18:20:20.469Z"
   }
  ],
  "kernelspec": {
   "display_name": "Python 3 (ipykernel)",
   "language": "python",
   "name": "python3"
  },
  "language_info": {
   "codemirror_mode": {
    "name": "ipython",
    "version": 3
   },
   "file_extension": ".py",
   "mimetype": "text/x-python",
   "name": "python",
   "nbconvert_exporter": "python",
   "pygments_lexer": "ipython3",
   "version": "3.9.23"
  },
  "toc": {
   "base_numbering": 1,
   "nav_menu": {},
   "number_sections": true,
   "sideBar": true,
   "skip_h1_title": true,
   "title_cell": "Table of Contents",
   "title_sidebar": "Contents",
   "toc_cell": false,
   "toc_position": {
    "height": "calc(100% - 180px)",
    "left": "10px",
    "top": "150px",
    "width": "250.227px"
   },
   "toc_section_display": true,
   "toc_window_display": false
  }
 },
 "nbformat": 4,
 "nbformat_minor": 2
}
